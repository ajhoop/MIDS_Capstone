{
 "cells": [
  {
   "cell_type": "code",
   "execution_count": 205,
   "id": "prescribed-michigan",
   "metadata": {},
   "outputs": [
    {
     "name": "stdout",
     "output_type": "stream",
     "text": [
      "Requirement already satisfied: graphviz in /usr/local/lib/python3.8/dist-packages (0.16)\n",
      "Requirement already satisfied: transformers in /usr/local/lib/python3.8/dist-packages (4.3.2)\n",
      "Requirement already satisfied: filelock in /usr/local/lib/python3.8/dist-packages (from transformers) (3.0.12)\n",
      "Requirement already satisfied: packaging in /usr/local/lib/python3.8/dist-packages (from transformers) (20.9)\n",
      "Requirement already satisfied: requests in /usr/local/lib/python3.8/dist-packages (from transformers) (2.25.1)\n",
      "Requirement already satisfied: tqdm>=4.27 in /usr/local/lib/python3.8/dist-packages (from transformers) (4.56.2)\n",
      "Requirement already satisfied: sacremoses in /usr/local/lib/python3.8/dist-packages (from transformers) (0.0.43)\n",
      "Requirement already satisfied: regex!=2019.12.17 in /usr/local/lib/python3.8/dist-packages (from transformers) (2020.11.13)\n",
      "Requirement already satisfied: numpy>=1.17 in /usr/local/lib/python3.8/dist-packages (from transformers) (1.19.5)\n",
      "Requirement already satisfied: tokenizers<0.11,>=0.10.1 in /usr/local/lib/python3.8/dist-packages (from transformers) (0.10.1)\n",
      "Requirement already satisfied: pyparsing>=2.0.2 in /usr/local/lib/python3.8/dist-packages (from packaging->transformers) (2.4.7)\n",
      "Requirement already satisfied: idna<3,>=2.5 in /usr/local/lib/python3.8/dist-packages (from requests->transformers) (2.10)\n",
      "Requirement already satisfied: certifi>=2017.4.17 in /usr/local/lib/python3.8/dist-packages (from requests->transformers) (2020.12.5)\n",
      "Requirement already satisfied: urllib3<1.27,>=1.21.1 in /usr/local/lib/python3.8/dist-packages (from requests->transformers) (1.26.3)\n",
      "Requirement already satisfied: chardet<5,>=3.0.2 in /usr/local/lib/python3.8/dist-packages (from requests->transformers) (4.0.0)\n",
      "Requirement already satisfied: joblib in /usr/local/lib/python3.8/dist-packages (from sacremoses->transformers) (1.0.1)\n",
      "Requirement already satisfied: six in /usr/local/lib/python3.8/dist-packages (from sacremoses->transformers) (1.15.0)\n",
      "Requirement already satisfied: click in /usr/local/lib/python3.8/dist-packages (from sacremoses->transformers) (7.1.2)\n",
      "Requirement already satisfied: bert in /usr/local/lib/python3.8/dist-packages (2.2.0)\n",
      "Requirement already satisfied: erlastic in /usr/local/lib/python3.8/dist-packages (from bert) (2.0.0)\n",
      "Requirement already satisfied: bert-tensorflow in /usr/local/lib/python3.8/dist-packages (1.0.4)\n",
      "Requirement already satisfied: six in /usr/local/lib/python3.8/dist-packages (from bert-tensorflow) (1.15.0)\n",
      "Requirement already satisfied: keras in /usr/local/lib/python3.8/dist-packages (2.4.3)\n",
      "Requirement already satisfied: h5py in /usr/local/lib/python3.8/dist-packages (from keras) (2.10.0)\n",
      "Requirement already satisfied: pyyaml in /usr/local/lib/python3.8/dist-packages (from keras) (5.4.1)\n",
      "Requirement already satisfied: scipy>=0.14 in /usr/local/lib/python3.8/dist-packages (from keras) (1.6.0)\n",
      "Requirement already satisfied: numpy>=1.9.1 in /usr/local/lib/python3.8/dist-packages (from keras) (1.19.5)\n",
      "Requirement already satisfied: six in /usr/local/lib/python3.8/dist-packages (from h5py->keras) (1.15.0)\n",
      "Requirement already satisfied: dask_ml in /usr/local/lib/python3.8/dist-packages (1.8.0)\n",
      "Requirement already satisfied: numpy>=1.17.3 in /usr/local/lib/python3.8/dist-packages (from dask_ml) (1.19.5)\n",
      "Requirement already satisfied: distributed>=2.4.0 in /usr/local/lib/python3.8/dist-packages (from dask_ml) (2.30.1)\n",
      "Requirement already satisfied: multipledispatch>=0.4.9 in /usr/local/lib/python3.8/dist-packages (from dask_ml) (0.6.0)\n",
      "Requirement already satisfied: dask[array,dataframe]>=2.4.0 in /usr/local/lib/python3.8/dist-packages (from dask_ml) (2.17.2)\n",
      "Requirement already satisfied: pandas>=0.24.2 in /usr/local/lib/python3.8/dist-packages (from dask_ml) (1.2.2)\n",
      "Requirement already satisfied: scikit-learn>=0.23 in /usr/local/lib/python3.8/dist-packages (from dask_ml) (0.24.1)\n",
      "Requirement already satisfied: numba in /usr/local/lib/python3.8/dist-packages (from dask_ml) (0.52.0)\n",
      "Requirement already satisfied: packaging in /usr/local/lib/python3.8/dist-packages (from dask_ml) (20.9)\n",
      "Requirement already satisfied: scipy in /usr/local/lib/python3.8/dist-packages (from dask_ml) (1.6.0)\n",
      "Requirement already satisfied: dask-glm>=0.2.0 in /usr/local/lib/python3.8/dist-packages (from dask_ml) (0.2.0)\n",
      "Requirement already satisfied: cloudpickle>=0.2.2 in /usr/local/lib/python3.8/dist-packages (from dask-glm>=0.2.0->dask_ml) (1.6.0)\n",
      "Requirement already satisfied: pyyaml in /usr/local/lib/python3.8/dist-packages (from dask[array,dataframe]>=2.4.0->dask_ml) (5.4.1)\n",
      "Requirement already satisfied: fsspec>=0.6.0 in /usr/local/lib/python3.8/dist-packages (from dask[array,dataframe]>=2.4.0->dask_ml) (0.8.5)\n",
      "Requirement already satisfied: toolz>=0.8.2 in /usr/local/lib/python3.8/dist-packages (from dask[array,dataframe]>=2.4.0->dask_ml) (0.11.1)\n",
      "Requirement already satisfied: partd>=0.3.10 in /usr/local/lib/python3.8/dist-packages (from dask[array,dataframe]>=2.4.0->dask_ml) (1.1.0)\n",
      "Requirement already satisfied: tornado>=6.0.3 in /usr/local/lib/python3.8/dist-packages (from distributed>=2.4.0->dask_ml) (6.1)\n",
      "Requirement already satisfied: msgpack>=0.6.0 in /usr/local/lib/python3.8/dist-packages (from distributed>=2.4.0->dask_ml) (1.0.2)\n",
      "Requirement already satisfied: sortedcontainers!=2.0.0,!=2.0.1 in /usr/local/lib/python3.8/dist-packages (from distributed>=2.4.0->dask_ml) (2.3.0)\n",
      "Requirement already satisfied: tblib>=1.6.0 in /usr/local/lib/python3.8/dist-packages (from distributed>=2.4.0->dask_ml) (1.7.0)\n",
      "Requirement already satisfied: zict>=0.1.3 in /usr/local/lib/python3.8/dist-packages (from distributed>=2.4.0->dask_ml) (2.0.0)\n",
      "Requirement already satisfied: psutil>=5.0 in /usr/local/lib/python3.8/dist-packages (from distributed>=2.4.0->dask_ml) (5.8.0)\n",
      "Requirement already satisfied: click>=6.6 in /usr/local/lib/python3.8/dist-packages (from distributed>=2.4.0->dask_ml) (7.1.2)\n",
      "Requirement already satisfied: setuptools in /usr/lib/python3/dist-packages (from distributed>=2.4.0->dask_ml) (45.2.0)\n",
      "Requirement already satisfied: six in /usr/local/lib/python3.8/dist-packages (from multipledispatch>=0.4.9->dask_ml) (1.15.0)\n",
      "Requirement already satisfied: pytz>=2017.3 in /usr/local/lib/python3.8/dist-packages (from pandas>=0.24.2->dask_ml) (2021.1)\n",
      "Requirement already satisfied: python-dateutil>=2.7.3 in /usr/local/lib/python3.8/dist-packages (from pandas>=0.24.2->dask_ml) (2.8.1)\n",
      "Requirement already satisfied: locket in /usr/local/lib/python3.8/dist-packages (from partd>=0.3.10->dask[array,dataframe]>=2.4.0->dask_ml) (0.2.1)\n",
      "Requirement already satisfied: threadpoolctl>=2.0.0 in /usr/local/lib/python3.8/dist-packages (from scikit-learn>=0.23->dask_ml) (2.1.0)\n",
      "Requirement already satisfied: joblib>=0.11 in /usr/local/lib/python3.8/dist-packages (from scikit-learn>=0.23->dask_ml) (1.0.1)\n",
      "Requirement already satisfied: heapdict in /usr/local/lib/python3.8/dist-packages (from zict>=0.1.3->distributed>=2.4.0->dask_ml) (1.0.1)\n",
      "Requirement already satisfied: llvmlite<0.36,>=0.35.0 in /usr/local/lib/python3.8/dist-packages (from numba->dask_ml) (0.35.0)\n",
      "Requirement already satisfied: pyparsing>=2.0.2 in /usr/local/lib/python3.8/dist-packages (from packaging->dask_ml) (2.4.7)\n",
      "Collecting xgboost\n",
      "  Downloading xgboost-1.3.3-py3-none-manylinux2010_x86_64.whl (157.5 MB)\n",
      "\u001b[K     |████████████████████████████████| 157.5 MB 22 kB/s /s eta 0:00:01\n",
      "\u001b[?25hRequirement already satisfied: numpy in /usr/local/lib/python3.8/dist-packages (from xgboost) (1.19.5)\n",
      "Requirement already satisfied: scipy in /usr/local/lib/python3.8/dist-packages (from xgboost) (1.6.0)\n",
      "Installing collected packages: xgboost\n",
      "Successfully installed xgboost-1.3.3\n"
     ]
    }
   ],
   "source": [
    "!pip install graphviz\n",
    "!pip install transformers\n",
    "!pip install bert\n",
    "!pip install bert-tensorflow\n",
    "!pip install keras\n",
    "!pip install dask_ml\n",
    "!pip install xgboost"
   ]
  },
  {
   "cell_type": "code",
   "execution_count": 1,
   "id": "incorrect-donor",
   "metadata": {},
   "outputs": [
    {
     "name": "stderr",
     "output_type": "stream",
     "text": [
      "[nltk_data] Downloading package stopwords to /root/nltk_data...\n",
      "[nltk_data]   Package stopwords is already up-to-date!\n",
      "[nltk_data] Downloading package punkt to /root/nltk_data...\n",
      "[nltk_data]   Package punkt is already up-to-date!\n"
     ]
    }
   ],
   "source": [
    "# Import relevent packages\n",
    "import pandas as pd\n",
    "import numpy as np\n",
    "import pandas as pd\n",
    "import seaborn as sns\n",
    "import matplotlib\n",
    "import matplotlib.pyplot as plt\n",
    "import pickle\n",
    "\n",
    "# Import dask packages\n",
    "import dask.dataframe as ddf\n",
    "from math import nan\n",
    "import panel as pn\n",
    "import dask\n",
    "import dask.array as da\n",
    "import dask.dataframe as dd\n",
    "from dask.delayed import delayed\n",
    "import seaborn as sns\n",
    "import matplotlib.pyplot as plt\n",
    "from dask_ml.model_selection import train_test_split\n",
    "import graphviz\n",
    "from datascroller import scroll\n",
    "\n",
    "from dask.diagnostics import ProgressBar\n",
    "ProgressBar().register()\n",
    "\n",
    "# text processing libraries\n",
    "import re\n",
    "import string\n",
    "import nltk\n",
    "nltk.download('stopwords')\n",
    "nltk.download('punkt')\n",
    "from nltk.corpus import stopwords\n",
    "\n",
    "import warnings\n",
    "warnings.filterwarnings('ignore')\n",
    "# from sklearn.model_selection import train_test_split\n",
    "\n",
    "import json\n",
    "import os\n",
    "import sys\n",
    "import tensorflow as tf\n",
    "\n",
    "import transformers as ppb\n",
    "from time import time\n",
    "import io\n",
    "import re\n",
    "from csv import reader\n",
    "\n",
    "import bert\n",
    "# from bert import run_classifier\n",
    "# from bert import optimization\n",
    "from bert import tokenization\n",
    "from transformers import RobertaTokenizer, TFRobertaModel\n",
    "\n",
    "from matplotlib import colors\n",
    "from matplotlib.ticker import PercentFormatter\n",
    "\n",
    "from tensorflow import keras\n",
    "#### if use tensorflow=2.0.0, then import tensorflow.keras.model_selection \n",
    "from tensorflow.keras import backend as K\n",
    "from tensorflow.keras import layers\n",
    "from tensorflow.keras.backend import sparse_categorical_crossentropy\n",
    "from tensorflow.keras.layers import Dense, Flatten\n",
    "from tensorflow.keras.callbacks import Callback, EarlyStopping, ModelCheckpoint\n",
    "from keras.models import load_model\n",
    "\n",
    "from sklearn.metrics import confusion_matrix, f1_score, precision_score, recall_score, plot_confusion_matrix\n",
    "from sklearn.preprocessing import LabelEncoder\n",
    "from keras.utils import np_utils\n",
    "from sklearn.feature_extraction.text import CountVectorizer, TfidfTransformer\n",
    "from sklearn.ensemble import RandomForestClassifier\n",
    "from sklearn.naive_bayes import MultinomialNB\n",
    "from sklearn.neighbors import KNeighborsClassifier\n",
    "from sklearn.linear_model import LogisticRegression\n",
    "from sklearn.svm import SVC\n",
    "from xgboost import XGBClassifier\n",
    "\n",
    "\n",
    "\n",
    "from datetime import datetime"
   ]
  },
  {
   "cell_type": "markdown",
   "id": "cloudy-advance",
   "metadata": {},
   "source": [
    "## Install BERT and BERT Tokenizer from the HuggingFace Transformers library."
   ]
  },
  {
   "cell_type": "markdown",
   "id": "killing-evanescence",
   "metadata": {},
   "source": [
    "We can easily switch between variants of BERT by changing out which model we import from HuggingFace; the rest of the code just flows unchanged."
   ]
  },
  {
   "cell_type": "code",
   "execution_count": 2,
   "id": "stable-following",
   "metadata": {},
   "outputs": [
    {
     "name": "stderr",
     "output_type": "stream",
     "text": [
      "Some layers from the model checkpoint at bert-base-uncased were not used when initializing TFBertModel: ['mlm___cls', 'nsp___cls']\n",
      "- This IS expected if you are initializing TFBertModel from the checkpoint of a model trained on another task or with another architecture (e.g. initializing a BertForSequenceClassification model from a BertForPreTraining model).\n",
      "- This IS NOT expected if you are initializing TFBertModel from the checkpoint of a model that you expect to be exactly identical (initializing a BertForSequenceClassification model from a BertForSequenceClassification model).\n",
      "All the layers of TFBertModel were initialized from the model checkpoint at bert-base-uncased.\n",
      "If your task is similar to the task the model of the checkpoint was trained on, you can already use TFBertModel for predictions without further training.\n"
     ]
    }
   ],
   "source": [
    "# For DistilBERT:\n",
    "# model_class, tokenizer_class, pretrained_weights = (ppb.TFDistilBertModel, ppb.DistilBertTokenizer, 'distilbert-base-uncased')\n",
    "\n",
    "## Want BERT instead of distilBERT? Uncomment the following line:\n",
    "model_class, tokenizer_class, pretrained_weights = (ppb.TFBertModel, ppb.BertTokenizer, 'bert-base-uncased')\n",
    "\n",
    "## For BERT Large, use this:\n",
    "# model_class, tokenizer_class, pretrained_weights = (ppb.AutoModelWithLMHead, ppb.AutoTokenizer, 'bert-large-uncased')\n",
    "# from transformers import AutoTokenizer, AutoModelWithLMHead\n",
    "\n",
    "# For ROBERTa base model, use this:\n",
    "# model_class, tokenizer_class, pretrained_weights = (ppb.TFRobertaModel, ppb.RobertaTokenizer, 'roberta-base')\n",
    "\n",
    "# Load pretrained model/tokenizer\n",
    "tokenizer = tokenizer_class.from_pretrained(pretrained_weights)\n",
    "model = model_class.from_pretrained(pretrained_weights)"
   ]
  },
  {
   "cell_type": "markdown",
   "id": "female-burke",
   "metadata": {},
   "source": [
    "## Let's do an initial import on the sample dataset Padma created for HS4 codes 8712 and 8714"
   ]
  },
  {
   "cell_type": "code",
   "execution_count": 3,
   "id": "expired-middle",
   "metadata": {},
   "outputs": [
    {
     "name": "stdout",
     "output_type": "stream",
     "text": [
      " 2019\n",
      " 2019_updated\n",
      " HS\n",
      " enigma\n",
      " import_data_2017_enhanced.parq\n",
      " import_data_2018_enhanced.parq\n",
      " import_data_2019_enhanced.parq\n",
      " import_data_2020_enhanced.parq\n",
      " linux-bsd.gif\n",
      "'manifestDB - CMDT Codes directory.xlsx'\n",
      "'manifestDB - Data Fields Description.xlsx'\n",
      "'manifestDB - Main Coverage Ports Directory.xlsx'\n",
      "'manifestDB - Packing Unit Description.xlsx'\n",
      " raw_import_20152016.parq\n",
      " raw_import_2017.parq\n",
      " raw_import_2018.parq\n",
      " raw_import_2019.parq\n",
      " raw_import_2020.parq\n",
      " us_customs_aug2019.parq\n",
      " w210_raw_data.ipynb\n"
     ]
    }
   ],
   "source": [
    "!ls /data/common/trade_data"
   ]
  },
  {
   "cell_type": "code",
   "execution_count": 4,
   "id": "advance-master",
   "metadata": {},
   "outputs": [],
   "source": [
    "import_df = dd.read_parquet('/data/common/trade_data/2019/data_samples/sample_87128714.parq', engine='fastparquet', chunksize=\"100MB\")"
   ]
  },
  {
   "cell_type": "code",
   "execution_count": 77,
   "id": "suspended-thesaurus",
   "metadata": {},
   "outputs": [
    {
     "data": {
      "text/plain": [
       "Index(['System Identity Id', 'Estimate Arrival Date', 'Actual Arrival Date',\n",
       "       'Bill of Lading', 'Master Bill of Lading', 'Bill Type Code',\n",
       "       'Carrier SASC Code', 'Vessel Country Code', 'Vessel Code',\n",
       "       'Vessel Name', 'Voyage', 'Inbond Type', 'Manifest No',\n",
       "       'Mode of Transportation', 'Loading Port', 'Last Vist Foreign Port',\n",
       "       'US Clearing District', 'Unloading Port', 'Place of Receipt', 'Country',\n",
       "       'Country Sure Level', 'Weight in KG', 'Weight', 'Weight Unit', 'TEU',\n",
       "       'Quantity', 'Quantity Unit', 'Measure in CM', 'Measure', 'Measure Unit',\n",
       "       'Container Id', 'Container Size', 'Container Type',\n",
       "       'Container Desc Code', 'Container Load Status',\n",
       "       'Container Type of Service', 'Shipper Name', 'Shipper Address ',\n",
       "       'Raw Shipper Name', 'Raw Shipper Addr1', 'Raw Shipper Addr2',\n",
       "       'Raw Shipper Addr3', 'Raw Shipper Addr4', 'Raw Shipper Addr Others',\n",
       "       'Consignee Name', 'Consignee Address ', 'Raw Consignee Name',\n",
       "       'Raw Consignee Addr1', 'Raw Consignee Addr2', 'Raw Consignee Addr3',\n",
       "       'Raw Consignee Addr4', 'Raw Consignee Addr Others', 'Notify Party Name',\n",
       "       'Notify Party Address ', 'Raw Notify Party Name',\n",
       "       'Raw Notify Party Addr1', 'Raw Notify Party Addr2',\n",
       "       'Raw Notify Party Addr3', 'Raw Notify Party Addr4',\n",
       "       'Raw Notify Party Addr Others', 'Product Desc', 'Marks & Numbers',\n",
       "       'HS Code Sure Level', 'CIF', 'Indicator of true supplier',\n",
       "       'Indicator of true buyer', 'END', 'HS Code', 'HS_Code',\n",
       "       'Merged_Description'],\n",
       "      dtype='object')"
      ]
     },
     "execution_count": 77,
     "metadata": {},
     "output_type": "execute_result"
    }
   ],
   "source": [
    "import_df.columns"
   ]
  },
  {
   "cell_type": "code",
   "execution_count": 80,
   "id": "average-lloyd",
   "metadata": {},
   "outputs": [
    {
     "name": "stdout",
     "output_type": "stream",
     "text": [
      "[########################################] | 100% Completed |  0.1s\n",
      "[########################################] | 100% Completed |  0.2s\n",
      "[########################################] | 100% Completed |  0.3s\n",
      "[########################################] | 100% Completed |  0.4s\n",
      "[########################################] | 100% Completed |  0.5s\n",
      "[########################################] | 100% Completed |  0.6s\n"
     ]
    },
    {
     "data": {
      "text/html": [
       "<div>\n",
       "<style scoped>\n",
       "    .dataframe tbody tr th:only-of-type {\n",
       "        vertical-align: middle;\n",
       "    }\n",
       "\n",
       "    .dataframe tbody tr th {\n",
       "        vertical-align: top;\n",
       "    }\n",
       "\n",
       "    .dataframe thead th {\n",
       "        text-align: right;\n",
       "    }\n",
       "</style>\n",
       "<table border=\"1\" class=\"dataframe\">\n",
       "  <thead>\n",
       "    <tr style=\"text-align: right;\">\n",
       "      <th></th>\n",
       "      <th>System Identity Id</th>\n",
       "      <th>Estimate Arrival Date</th>\n",
       "      <th>Actual Arrival Date</th>\n",
       "      <th>Bill of Lading</th>\n",
       "      <th>Master Bill of Lading</th>\n",
       "      <th>Bill Type Code</th>\n",
       "      <th>Carrier SASC Code</th>\n",
       "      <th>Vessel Country Code</th>\n",
       "      <th>Vessel Code</th>\n",
       "      <th>Vessel Name</th>\n",
       "      <th>...</th>\n",
       "      <th>Product Desc</th>\n",
       "      <th>Marks &amp; Numbers</th>\n",
       "      <th>HS Code Sure Level</th>\n",
       "      <th>CIF</th>\n",
       "      <th>Indicator of true supplier</th>\n",
       "      <th>Indicator of true buyer</th>\n",
       "      <th>END</th>\n",
       "      <th>HS Code</th>\n",
       "      <th>HS_Code</th>\n",
       "      <th>Merged_Description</th>\n",
       "    </tr>\n",
       "  </thead>\n",
       "  <tbody>\n",
       "    <tr>\n",
       "      <th>0</th>\n",
       "      <td>6003201907090000254809</td>\n",
       "      <td>20190705</td>\n",
       "      <td>20190705</td>\n",
       "      <td>CHSLTPE19060165</td>\n",
       "      <td>EGLV003901609611</td>\n",
       "      <td>H</td>\n",
       "      <td>CHSL, CHISLEY MOTOR COACHES</td>\n",
       "      <td>PA</td>\n",
       "      <td>9306990</td>\n",
       "      <td>OOCL VANCOUVER</td>\n",
       "      <td>...</td>\n",
       "      <td>ELLIPTICAL TRAINER,TREADMILL, ESCALATE&lt;br/&gt;</td>\n",
       "      <td>NO MARKS&lt;br/&gt;</td>\n",
       "      <td>5</td>\n",
       "      <td>0.0</td>\n",
       "      <td>Y</td>\n",
       "      <td>Y</td>\n",
       "      <td>END</td>\n",
       "      <td>871200</td>\n",
       "      <td>871200</td>\n",
       "      <td>Bicycles and other cycles (including delivery tricycles), not motorized ;Bicycles having both wheels not exceeding 63.5 cm in diameter;Having both wheels not exceeding 50 cm in diameter;Having both wheels exceeding 50 cm but not exceeding 55 cm in diameter;Having both wheels exceeding 55 cm but not exceeding 63.5 cm in diameter;If weighing less than 16.3 kg complete without accessories and not designed for use with tires having a cross-sectional diameter exceeding 4.13 cm;Bicycles having both wheels exceeding 63.5 cm in diameter ;Other;Bicycles having a front wheel exceeding 55 cm but not exceeding 63.5 cm in diameter and a rear wheel exceeding 63.5 cm in diameter, weighing less than 16.3 kg complete without accessories and not designed for use with tires having a cross-sectional diameter exceeding 4.13 cm, valued $200 or more each;Other bicycles;Other cycles</td>\n",
       "    </tr>\n",
       "    <tr>\n",
       "      <th>1</th>\n",
       "      <td>6003201901040000381477</td>\n",
       "      <td>20181230</td>\n",
       "      <td>20190103</td>\n",
       "      <td>AMAWSHNGBA807064</td>\n",
       "      <td>APLUNPFB000624</td>\n",
       "      <td>H</td>\n",
       "      <td>AMAW</td>\n",
       "      <td>CN</td>\n",
       "      <td>APL BARCELONA</td>\n",
       "      <td>APL BARCELONA</td>\n",
       "      <td>...</td>\n",
       "      <td>SCH 830 TREADMILL&lt;br/&gt;</td>\n",
       "      <td>AS ADDRESSED&lt;br/&gt;</td>\n",
       "      <td>5</td>\n",
       "      <td>0.0</td>\n",
       "      <td>Y</td>\n",
       "      <td>Y</td>\n",
       "      <td>END</td>\n",
       "      <td>871200</td>\n",
       "      <td>871200</td>\n",
       "      <td>Bicycles and other cycles (including delivery tricycles), not motorized ;Bicycles having both wheels not exceeding 63.5 cm in diameter;Having both wheels not exceeding 50 cm in diameter;Having both wheels exceeding 50 cm but not exceeding 55 cm in diameter;Having both wheels exceeding 55 cm but not exceeding 63.5 cm in diameter;If weighing less than 16.3 kg complete without accessories and not designed for use with tires having a cross-sectional diameter exceeding 4.13 cm;Bicycles having both wheels exceeding 63.5 cm in diameter ;Other;Bicycles having a front wheel exceeding 55 cm but not exceeding 63.5 cm in diameter and a rear wheel exceeding 63.5 cm in diameter, weighing less than 16.3 kg complete without accessories and not designed for use with tires having a cross-sectional diameter exceeding 4.13 cm, valued $200 or more each;Other bicycles;Other cycles</td>\n",
       "    </tr>\n",
       "  </tbody>\n",
       "</table>\n",
       "<p>2 rows × 70 columns</p>\n",
       "</div>"
      ],
      "text/plain": [
       "       System Identity Id  Estimate Arrival Date  Actual Arrival Date  \\\n",
       "0  6003201907090000254809  20190705               20190705              \n",
       "1  6003201901040000381477  20181230               20190103              \n",
       "\n",
       "     Bill of Lading Master Bill of Lading Bill Type Code  \\\n",
       "0  CHSLTPE19060165   EGLV003901609611      H               \n",
       "1  AMAWSHNGBA807064  APLUNPFB000624        H               \n",
       "\n",
       "             Carrier SASC Code Vessel Country Code    Vessel Code  \\\n",
       "0  CHSL, CHISLEY MOTOR COACHES  PA                  9306990         \n",
       "1  AMAW                         CN                  APL BARCELONA   \n",
       "\n",
       "      Vessel Name  ...                                 Product Desc  \\\n",
       "0  OOCL VANCOUVER  ...  ELLIPTICAL TRAINER,TREADMILL, ESCALATE<br/>   \n",
       "1  APL BARCELONA   ...  SCH 830 TREADMILL<br/>                        \n",
       "\n",
       "     Marks & Numbers  HS Code Sure Level  CIF Indicator of true supplier  \\\n",
       "0  NO MARKS<br/>      5                   0.0  Y                           \n",
       "1  AS ADDRESSED<br/>  5                   0.0  Y                           \n",
       "\n",
       "  Indicator of true buyer  END HS Code HS_Code  \\\n",
       "0  Y                       END  871200  871200   \n",
       "1  Y                       END  871200  871200   \n",
       "\n",
       "                                                                                                                                                                                                                                                                                                                                                                                                                                                                                                                                                                                                                                                                                                                                                                                                                                                                                        Merged_Description  \n",
       "0  Bicycles and other cycles (including delivery tricycles), not motorized ;Bicycles having both wheels not exceeding 63.5 cm in diameter;Having both wheels not exceeding 50 cm in diameter;Having both wheels exceeding 50 cm but not exceeding 55 cm in diameter;Having both wheels exceeding 55 cm but not exceeding 63.5 cm in diameter;If weighing less than 16.3 kg complete without accessories and not designed for use with tires having a cross-sectional diameter exceeding 4.13 cm;Bicycles having both wheels exceeding 63.5 cm in diameter ;Other;Bicycles having a front wheel exceeding 55 cm but not exceeding 63.5 cm in diameter and a rear wheel exceeding 63.5 cm in diameter, weighing less than 16.3 kg complete without accessories and not designed for use with tires having a cross-sectional diameter exceeding 4.13 cm, valued $200 or more each;Other bicycles;Other cycles  \n",
       "1  Bicycles and other cycles (including delivery tricycles), not motorized ;Bicycles having both wheels not exceeding 63.5 cm in diameter;Having both wheels not exceeding 50 cm in diameter;Having both wheels exceeding 50 cm but not exceeding 55 cm in diameter;Having both wheels exceeding 55 cm but not exceeding 63.5 cm in diameter;If weighing less than 16.3 kg complete without accessories and not designed for use with tires having a cross-sectional diameter exceeding 4.13 cm;Bicycles having both wheels exceeding 63.5 cm in diameter ;Other;Bicycles having a front wheel exceeding 55 cm but not exceeding 63.5 cm in diameter and a rear wheel exceeding 63.5 cm in diameter, weighing less than 16.3 kg complete without accessories and not designed for use with tires having a cross-sectional diameter exceeding 4.13 cm, valued $200 or more each;Other bicycles;Other cycles  \n",
       "\n",
       "[2 rows x 70 columns]"
      ]
     },
     "execution_count": 80,
     "metadata": {},
     "output_type": "execute_result"
    }
   ],
   "source": [
    "# Don't truncate text fields in the display\n",
    "pd.set_option(\"display.max_colwidth\", -1)\n",
    "\n",
    "import_df.head(2)"
   ]
  },
  {
   "cell_type": "code",
   "execution_count": 6,
   "id": "outstanding-isolation",
   "metadata": {},
   "outputs": [
    {
     "name": "stdout",
     "output_type": "stream",
     "text": [
      "[########################################] | 100% Completed |  0.1s\n"
     ]
    },
    {
     "data": {
      "text/plain": [
       "7269"
      ]
     },
     "execution_count": 6,
     "metadata": {},
     "output_type": "execute_result"
    }
   ],
   "source": [
    "len(import_df.index)"
   ]
  },
  {
   "cell_type": "code",
   "execution_count": 9,
   "id": "material-regression",
   "metadata": {},
   "outputs": [
    {
     "name": "stdout",
     "output_type": "stream",
     "text": [
      "[########################################] | 100% Completed |  0.1s\n",
      "                                          Desc  HSCode\n",
      "0  ELLIPTICAL TRAINER,TREADMILL, ESCALATE<br/>  871200\n",
      "1                       SCH 830 TREADMILL<br/>  871200\n",
      "[########################################] | 100% Completed |  0.1s\n",
      "7269\n"
     ]
    }
   ],
   "source": [
    "df1 = import_df[['Product Desc', 'HS_Code']]\n",
    "df1.columns = ['Desc', 'HSCode']\n",
    "print(df1.head(2))\n",
    "print(len(df1))"
   ]
  },
  {
   "cell_type": "code",
   "execution_count": 10,
   "id": "guided-establishment",
   "metadata": {},
   "outputs": [
    {
     "name": "stdout",
     "output_type": "stream",
     "text": [
      "[########################################] | 100% Completed |  0.1s\n",
      "      HSCode                                               Desc\n",
      "0     871200  Bicycles and other cycles (including delivery ...\n",
      "1000  871410  Parts and accessories of vehicles of headings ...\n",
      "[########################################] | 100% Completed |  0.1s\n",
      "10\n"
     ]
    }
   ],
   "source": [
    "hs_code_desc = import_df[['HS_Code', 'Merged_Description']]\n",
    "hs_code_desc = hs_code_desc.drop_duplicates()\n",
    "hs_code_desc.columns = ['HSCode', 'Desc']\n",
    "print(hs_code_desc.head(2))\n",
    "print(len(hs_code_desc))"
   ]
  },
  {
   "cell_type": "code",
   "execution_count": 11,
   "id": "aerial-pontiac",
   "metadata": {},
   "outputs": [
    {
     "name": "stdout",
     "output_type": "stream",
     "text": [
      "[########################################] | 100% Completed |  0.1s\n"
     ]
    },
    {
     "data": {
      "text/plain": [
       "7279"
      ]
     },
     "execution_count": 11,
     "metadata": {},
     "output_type": "execute_result"
    }
   ],
   "source": [
    "df1 = df1.append(hs_code_desc[['Desc', 'HSCode']]).reset_index()\n",
    "len(df1)"
   ]
  },
  {
   "cell_type": "code",
   "execution_count": 12,
   "id": "amber-captain",
   "metadata": {},
   "outputs": [
    {
     "name": "stdout",
     "output_type": "stream",
     "text": [
      "[########################################] | 100% Completed |  0.1s\n"
     ]
    },
    {
     "data": {
      "text/plain": [
       "7279"
      ]
     },
     "execution_count": 12,
     "metadata": {},
     "output_type": "execute_result"
    }
   ],
   "source": [
    "# convert the dataframes back to pandas\n",
    "\n",
    "df1_pd = df1.compute()\n",
    "len(df1_pd)"
   ]
  },
  {
   "cell_type": "code",
   "execution_count": 13,
   "id": "pointed-career",
   "metadata": {},
   "outputs": [],
   "source": [
    "df1_pd['Desc'] = [re.sub('\\d{4,}', '', x) for x in df1_pd['Desc']]"
   ]
  },
  {
   "cell_type": "markdown",
   "id": "published-charlotte",
   "metadata": {},
   "source": [
    "### Let's tokenize the description fields."
   ]
  },
  {
   "cell_type": "markdown",
   "id": "imposed-celtic",
   "metadata": {},
   "source": [
    "#### Create embeddings with nltk"
   ]
  },
  {
   "cell_type": "code",
   "execution_count": 14,
   "id": "bottom-prague",
   "metadata": {},
   "outputs": [],
   "source": [
    "def tokenize(data, column_name):\n",
    "    '''\n",
    "    Tokenize text\n",
    "    '''\n",
    "    tokens = data[column_name].apply((lambda x: nltk.word_tokenize(x)))\n",
    "    \n",
    "    data['NLTK'+column_name] = np.array(tokens)\n",
    "    \n",
    "    return data\n",
    "#     return list(\n",
    "#         filter(lambda word: word.isalnum(), tokens)\n",
    "#     )\n",
    "\n",
    "stop_words = stopwords.words(\"english\")\n",
    "\n",
    "def remove_stopwords(words):\n",
    "    '''\n",
    "    Remove stop words from the list of words\n",
    "    '''\n",
    "    \n",
    "    filtered = filter(lambda word: word not in stop_words, words)\n",
    "    \n",
    "    return list(filtered)"
   ]
  },
  {
   "cell_type": "markdown",
   "id": "reliable-amino",
   "metadata": {},
   "source": [
    "#### Create embeddings with BERT"
   ]
  },
  {
   "cell_type": "code",
   "execution_count": 15,
   "id": "satellite-classics",
   "metadata": {},
   "outputs": [],
   "source": [
    "def pre_process(data, column_name, max_length):\n",
    "    \"\"\"\n",
    "    Function takes inputs:\n",
    "    - data in the form of a pandas dataframe\n",
    "    - column_name containing the text to be embedded\n",
    "    - max length\n",
    "    and produces as output the input data BERT requires as an array consisting of:\n",
    "    - Sentence IDs padded to the max length\n",
    "    - BERT Masks that tell BERT which of the Sentence IDs are 0 and should be ignored\n",
    "    - SequenceIDs which are all 0 for our classification task\n",
    "    \"\"\"\n",
    "    # Tokenize each item and add the special beginning/end tokens\n",
    "    tokenized = data[column_name].apply((lambda x: tokenizer.encode(x, add_special_tokens=False, max_length=max_length, truncation=True)))\n",
    "    data['BERT_'+column_name] = np.array(tokenized)\n",
    "#     data['BERT_'+column_name] = tokenized\n",
    "      \n",
    "#     # Create the padding based on the max length so all are same shape\n",
    "#     bertSentenceIDs = np.array([i + [0]*(max_length-len(i)) for i in tokenized.values])\n",
    "    \n",
    "#     # Create the attention mask so BERT knows which contain values and which are 0s that should be ignored\n",
    "#     bertMasks = np.where(bertSentenceIDs != 0, 1, 0)\n",
    "\n",
    "#     # Create the BERT sequence IDs. In this case they are all 0 since it's the same sentence input.\n",
    "#     bertSequenceIDs = np.array([np.zeros(max_length) for i in tokenized.values], dtype=int)\n",
    "    \n",
    "#     # Create and return the data array containing both the padded and the attention mask\n",
    "#     X_data = np.array([bertSentenceIDs, bertMasks, bertSequenceIDs])\n",
    "\n",
    "#     # Also look at the vocabulary size in the tokenizer\n",
    "\n",
    "    return data"
   ]
  },
  {
   "cell_type": "markdown",
   "id": "foreign-discharge",
   "metadata": {},
   "source": [
    "In the past we have run into memory issues depending on the length of the input, so we set up a variable to truncate the tokens being input for each record.\n",
    "\n",
    "First, let's check the max length of the different tokenized columns of interest."
   ]
  },
  {
   "cell_type": "code",
   "execution_count": 16,
   "id": "comparative-ending",
   "metadata": {},
   "outputs": [
    {
     "ename": "NameError",
     "evalue": "name 'import_df_pd' is not defined",
     "output_type": "error",
     "traceback": [
      "\u001b[0;31m---------------------------------------------------------------------------\u001b[0m",
      "\u001b[0;31mNameError\u001b[0m                                 Traceback (most recent call last)",
      "\u001b[0;32m<ipython-input-16-146a69dfd7de>\u001b[0m in \u001b[0;36m<module>\u001b[0;34m\u001b[0m\n\u001b[1;32m      5\u001b[0m \u001b[0;32mfor\u001b[0m \u001b[0ml\u001b[0m \u001b[0;32min\u001b[0m \u001b[0mlength_lst\u001b[0m\u001b[0;34m:\u001b[0m\u001b[0;34m\u001b[0m\u001b[0;34m\u001b[0m\u001b[0m\n\u001b[1;32m      6\u001b[0m     \u001b[0mtokenized\u001b[0m \u001b[0;34m=\u001b[0m \u001b[0;34m[\u001b[0m\u001b[0;34m]\u001b[0m\u001b[0;34m\u001b[0m\u001b[0;34m\u001b[0m\u001b[0m\n\u001b[0;32m----> 7\u001b[0;31m     \u001b[0mtokenized\u001b[0m \u001b[0;34m=\u001b[0m \u001b[0mimport_df_pd\u001b[0m\u001b[0;34m[\u001b[0m\u001b[0ml\u001b[0m\u001b[0;34m]\u001b[0m\u001b[0;34m.\u001b[0m\u001b[0mapply\u001b[0m\u001b[0;34m(\u001b[0m\u001b[0;34m(\u001b[0m\u001b[0;32mlambda\u001b[0m \u001b[0mx\u001b[0m\u001b[0;34m:\u001b[0m \u001b[0mtokenizer\u001b[0m\u001b[0;34m.\u001b[0m\u001b[0mencode\u001b[0m\u001b[0;34m(\u001b[0m\u001b[0mx\u001b[0m\u001b[0;34m,\u001b[0m \u001b[0madd_special_tokens\u001b[0m\u001b[0;34m=\u001b[0m\u001b[0;32mTrue\u001b[0m\u001b[0;34m)\u001b[0m\u001b[0;34m)\u001b[0m\u001b[0;34m)\u001b[0m\u001b[0;34m\u001b[0m\u001b[0;34m\u001b[0m\u001b[0m\n\u001b[0m\u001b[1;32m      8\u001b[0m     \u001b[0;31m# Find the max length for the tokenized examples\u001b[0m\u001b[0;34m\u001b[0m\u001b[0;34m\u001b[0m\u001b[0;34m\u001b[0m\u001b[0m\n\u001b[1;32m      9\u001b[0m     \u001b[0mmax_length\u001b[0m \u001b[0;34m=\u001b[0m \u001b[0;36m0\u001b[0m\u001b[0;34m\u001b[0m\u001b[0;34m\u001b[0m\u001b[0m\n",
      "\u001b[0;31mNameError\u001b[0m: name 'import_df_pd' is not defined"
     ]
    }
   ],
   "source": [
    "length_lst = ['Product Desc', 'Merged_Description']\n",
    "\n",
    "max_length_dict = {}\n",
    "\n",
    "for l in length_lst:\n",
    "    tokenized = []\n",
    "    tokenized = import_df_pd[l].apply((lambda x: tokenizer.encode(x, add_special_tokens=True)))\n",
    "    # Find the max length for the tokenized examples\n",
    "    max_length = 0\n",
    "    for i in tokenized.values:\n",
    "        if len(i) > max_length:\n",
    "            max_length = len(i)\n",
    "            \n",
    "\n",
    "    print('Max length of column', l, max_length)"
   ]
  },
  {
   "cell_type": "markdown",
   "id": "instrumental-franklin",
   "metadata": {},
   "source": [
    "This could be a problem if we have very, very short entries in the description fields.\n",
    "\n",
    "Some possible solutions:\n",
    "1. Augment each entry with the dictionary definition.\n",
    "2. Add extra training records of just the dictionary definition.\n",
    "3. Train on only the dictionary definition."
   ]
  },
  {
   "cell_type": "markdown",
   "id": "formed-salem",
   "metadata": {},
   "source": [
    "### Encode the description fields."
   ]
  },
  {
   "cell_type": "code",
   "execution_count": 17,
   "id": "sonic-berlin",
   "metadata": {},
   "outputs": [
    {
     "data": {
      "text/html": [
       "<div>\n",
       "<style scoped>\n",
       "    .dataframe tbody tr th:only-of-type {\n",
       "        vertical-align: middle;\n",
       "    }\n",
       "\n",
       "    .dataframe tbody tr th {\n",
       "        vertical-align: top;\n",
       "    }\n",
       "\n",
       "    .dataframe thead th {\n",
       "        text-align: right;\n",
       "    }\n",
       "</style>\n",
       "<table border=\"1\" class=\"dataframe\">\n",
       "  <thead>\n",
       "    <tr style=\"text-align: right;\">\n",
       "      <th></th>\n",
       "      <th>index</th>\n",
       "      <th>Desc</th>\n",
       "      <th>HSCode</th>\n",
       "      <th>BERT_Desc</th>\n",
       "      <th>NLTKDesc</th>\n",
       "    </tr>\n",
       "  </thead>\n",
       "  <tbody>\n",
       "    <tr>\n",
       "      <th>0</th>\n",
       "      <td>0</td>\n",
       "      <td>ELLIPTICAL TRAINER,TREADMILL, ESCALATE&lt;br/&gt;</td>\n",
       "      <td>871200</td>\n",
       "      <td>[27213, 10365, 1010, 29449, 19912, 1010, 9686,...</td>\n",
       "      <td>[ELLIPTICAL, TRAINER, ,, TREADMILL, ,, ESCALAT...</td>\n",
       "    </tr>\n",
       "    <tr>\n",
       "      <th>1</th>\n",
       "      <td>1</td>\n",
       "      <td>SCH 830 TREADMILL&lt;br/&gt;</td>\n",
       "      <td>871200</td>\n",
       "      <td>[8040, 2232, 6640, 2692, 29449, 19912, 1026, 7...</td>\n",
       "      <td>[SCH, 830, TREADMILL, &lt;, br/, &gt;]</td>\n",
       "    </tr>\n",
       "    <tr>\n",
       "      <th>2</th>\n",
       "      <td>2</td>\n",
       "      <td>FITNESSMACHINE; TREADMILL&lt;br/&gt;</td>\n",
       "      <td>871200</td>\n",
       "      <td>[10516, 22911, 14014, 1025, 29449, 19912, 1026...</td>\n",
       "      <td>[FITNESSMACHINE, ;, TREADMILL, &lt;, br/, &gt;]</td>\n",
       "    </tr>\n",
       "    <tr>\n",
       "      <th>3</th>\n",
       "      <td>3</td>\n",
       "      <td>COMPLETE BICYCLES &amp; BICYCLE PARTS &amp; ELECTRIC B...</td>\n",
       "      <td>871200</td>\n",
       "      <td>[3143, 21066, 1004, 10165, 3033, 1004, 3751, 1...</td>\n",
       "      <td>[COMPLETE, BICYCLES, &amp;, BICYCLE, PARTS, &amp;, ELE...</td>\n",
       "    </tr>\n",
       "    <tr>\n",
       "      <th>4</th>\n",
       "      <td>4</td>\n",
       "      <td>LOUISIANA GRILLS LG900 W FRONT SHELF&lt;br/&gt;</td>\n",
       "      <td>871200</td>\n",
       "      <td>[5773, 18651, 2015, 1048, 2290, 21057, 2692, 1...</td>\n",
       "      <td>[LOUISIANA, GRILLS, LG900, W, FRONT, SHELF, &lt;,...</td>\n",
       "    </tr>\n",
       "  </tbody>\n",
       "</table>\n",
       "</div>"
      ],
      "text/plain": [
       "   index                                               Desc  HSCode  \\\n",
       "0      0        ELLIPTICAL TRAINER,TREADMILL, ESCALATE<br/>  871200   \n",
       "1      1                             SCH 830 TREADMILL<br/>  871200   \n",
       "2      2                     FITNESSMACHINE; TREADMILL<br/>  871200   \n",
       "3      3  COMPLETE BICYCLES & BICYCLE PARTS & ELECTRIC B...  871200   \n",
       "4      4          LOUISIANA GRILLS LG900 W FRONT SHELF<br/>  871200   \n",
       "\n",
       "                                           BERT_Desc  \\\n",
       "0  [27213, 10365, 1010, 29449, 19912, 1010, 9686,...   \n",
       "1  [8040, 2232, 6640, 2692, 29449, 19912, 1026, 7...   \n",
       "2  [10516, 22911, 14014, 1025, 29449, 19912, 1026...   \n",
       "3  [3143, 21066, 1004, 10165, 3033, 1004, 3751, 1...   \n",
       "4  [5773, 18651, 2015, 1048, 2290, 21057, 2692, 1...   \n",
       "\n",
       "                                            NLTKDesc  \n",
       "0  [ELLIPTICAL, TRAINER, ,, TREADMILL, ,, ESCALAT...  \n",
       "1                   [SCH, 830, TREADMILL, <, br/, >]  \n",
       "2          [FITNESSMACHINE, ;, TREADMILL, <, br/, >]  \n",
       "3  [COMPLETE, BICYCLES, &, BICYCLE, PARTS, &, ELE...  \n",
       "4  [LOUISIANA, GRILLS, LG900, W, FRONT, SHELF, <,...  "
      ]
     },
     "execution_count": 17,
     "metadata": {},
     "output_type": "execute_result"
    }
   ],
   "source": [
    "max_length = 180\n",
    "\n",
    "# Create BERT embeddings for Product Desc and Merged_Description, append to pandas dataframe\n",
    "X_pd = pre_process(df1_pd, 'Desc', max_length)\n",
    "\n",
    "\n",
    "\n",
    "# Create NLTK embeddings for Product Desc and Merged_Description, append to pandas dataframe\n",
    "X_pd = tokenize(X_pd, 'Desc')\n",
    "\n",
    "X_pd.head()\n",
    "\n"
   ]
  },
  {
   "cell_type": "markdown",
   "id": "hungarian-nigeria",
   "metadata": {},
   "source": [
    "### Create train, dev, and test sets"
   ]
  },
  {
   "cell_type": "code",
   "execution_count": 18,
   "id": "optimum-corruption",
   "metadata": {},
   "outputs": [
    {
     "name": "stdout",
     "output_type": "stream",
     "text": [
      "Size of the train set is 4658\n",
      "Size of the dev set is 1165\n",
      "Size of the test set is 1456\n",
      "Size of the train label set is 4658\n",
      "Size of the dev label set is 1165\n",
      "Size of the test label set is 1456\n"
     ]
    }
   ],
   "source": [
    "y_pd = X_pd['HSCode']\n",
    "\n",
    "# Split once to create the test set\n",
    "X_train, X_test, y_train, y_test = train_test_split(X_pd, y_pd, test_size=0.2, random_state=91)\n",
    "\n",
    "# Re-split the train set to create a dev set\n",
    "X_train, X_dev, y_train, y_dev = train_test_split(X_train, y_train, test_size=0.2, random_state=91)\n",
    "\n",
    "print('Size of the train set is', len(X_train))\n",
    "print('Size of the dev set is', len(X_dev))\n",
    "print('Size of the test set is', len(X_test))\n",
    "print('Size of the train label set is', len(y_train))\n",
    "print('Size of the dev label set is', len(y_dev))\n",
    "print('Size of the test label set is', len(y_test))\n"
   ]
  },
  {
   "cell_type": "code",
   "execution_count": 19,
   "id": "mental-brunswick",
   "metadata": {},
   "outputs": [],
   "source": [
    "# def encode_labels(Y):\n",
    "#     \"\"\"\n",
    "#     Function that takes in a np.array of string categorical labels and returns a one-hot encoded transformation.\n",
    "#     \"\"\"\n",
    "#     # encode class values as integers\n",
    "#     encoder = LabelEncoder()\n",
    "#     encoder.fit(Y)\n",
    "#     encoded_Y = encoder.transform(Y)\n",
    "#     # convert integers to dummy variables (i.e. one hot encoded)\n",
    "#     return np_utils.to_categorical(encoded_Y)\n"
   ]
  },
  {
   "cell_type": "markdown",
   "id": "entertaining-suffering",
   "metadata": {},
   "source": [
    "## Create baseline of predicting the majority class"
   ]
  },
  {
   "cell_type": "code",
   "execution_count": 20,
   "id": "patent-therapist",
   "metadata": {},
   "outputs": [
    {
     "name": "stdout",
     "output_type": "stream",
     "text": [
      "Accuracy when predicting majority class  0.14104765993988835\n"
     ]
    }
   ],
   "source": [
    "counts = X_train['HSCode'].value_counts().to_dict()\n",
    "# print(counts)\n",
    "max_value = max(counts.values())\n",
    "print('Accuracy when predicting majority class ', max_value/len(X_train))"
   ]
  },
  {
   "cell_type": "markdown",
   "id": "manufactured-sunday",
   "metadata": {},
   "source": [
    "## Construct a Naive Bayes model"
   ]
  },
  {
   "cell_type": "markdown",
   "id": "liquid-genesis",
   "metadata": {},
   "source": [
    "### Use BOW on the words in the Product Desc column"
   ]
  },
  {
   "cell_type": "code",
   "execution_count": 21,
   "id": "effective-contributor",
   "metadata": {},
   "outputs": [],
   "source": [
    "count_vector = CountVectorizer()\n",
    "\n",
    "# fit_transform() creates dictionary and return term-document matrix.\n",
    "X_train_counts = count_vector.fit_transform(X_train['Desc'])\n"
   ]
  },
  {
   "cell_type": "code",
   "execution_count": 93,
   "id": "worst-person",
   "metadata": {},
   "outputs": [],
   "source": [
    "clf1 = MultinomialNB().fit(X_train_counts, y_train)"
   ]
  },
  {
   "cell_type": "code",
   "execution_count": 94,
   "id": "korean-couple",
   "metadata": {},
   "outputs": [],
   "source": [
    "X_new_counts = count_vector.transform(X_dev['Desc'])\n",
    "# X_new_tfidf = tfidf_transformer.transform(X_new_counts)\n",
    "\n",
    "# Execute prediction(classification).\n",
    "predicted = clf1.predict(X_new_counts)"
   ]
  },
  {
   "cell_type": "code",
   "execution_count": 95,
   "id": "daily-chart",
   "metadata": {},
   "outputs": [
    {
     "name": "stdout",
     "output_type": "stream",
     "text": [
      "F1 score: 0.7569916664560667\n",
      "Precision: 0.8839297983486407\n",
      "Recall: 0.7399406035021568\n"
     ]
    }
   ],
   "source": [
    "print('F1 score:', f1_score(y_dev, predicted, average=\"macro\"))\n",
    "print('Precision:', precision_score(y_dev, predicted, average=\"macro\"))\n",
    "print('Recall:', recall_score(y_dev, predicted, average=\"macro\")) "
   ]
  },
  {
   "cell_type": "code",
   "execution_count": 96,
   "id": "mineral-tiffany",
   "metadata": {},
   "outputs": [
    {
     "data": {
      "text/plain": [
       "<Figure size 2160x2160 with 0 Axes>"
      ]
     },
     "metadata": {},
     "output_type": "display_data"
    },
    {
     "data": {
      "image/png": "[encoded data removed]",
      "text/plain": [
       "<Figure size 432x288 with 2 Axes>"
      ]
     },
     "metadata": {
      "needs_background": "light"
     },
     "output_type": "display_data"
    }
   ],
   "source": [
    "plt.figure(figsize=(30,30))\n",
    "plot_confusion_matrix(clf1, X_new_counts, y_dev)\n",
    "\n",
    "plt.show()"
   ]
  },
  {
   "cell_type": "code",
   "execution_count": null,
   "id": "given-absorption",
   "metadata": {},
   "outputs": [],
   "source": []
  },
  {
   "cell_type": "markdown",
   "id": "sitting-olympus",
   "metadata": {},
   "source": [
    "### Use TF-IDF on the words in the Product Desc column"
   ]
  },
  {
   "cell_type": "code",
   "execution_count": 97,
   "id": "flexible-boost",
   "metadata": {},
   "outputs": [],
   "source": [
    "\n",
    "count_vector = CountVectorizer()\n",
    "\n",
    "# fit_transform() creates dictionary and return term-document matrix.\n",
    "X_train_counts = count_vector.fit_transform(X_train['Desc'])\n",
    "\n",
    "# Import TfidfTransformer class.\n",
    "# TfidfTransformer transoforms count matrix to tf-idf representation.\n",
    "\n",
    "tfidf_transformer = TfidfTransformer()\n",
    "\n",
    "# fit_transform transforms count matrix to tf-idf representation(vector).\n",
    "X_train_tfidf = tfidf_transformer.fit_transform(X_train_counts)"
   ]
  },
  {
   "cell_type": "code",
   "execution_count": 98,
   "id": "supreme-circle",
   "metadata": {},
   "outputs": [],
   "source": [
    "# Create model(naive bayes) and training. \n",
    "\n",
    "clf2 = MultinomialNB().fit(X_train_tfidf, y_train)"
   ]
  },
  {
   "cell_type": "code",
   "execution_count": 99,
   "id": "metropolitan-charm",
   "metadata": {},
   "outputs": [],
   "source": [
    "# Create predictions\n",
    "# Transfroming.\n",
    "X_new_counts = count_vector.transform(X_dev['Desc'])\n",
    "X_new_tfidf = tfidf_transformer.transform(X_new_counts)\n",
    "\n",
    "# Execute prediction(classification).\n",
    "predicted = clf2.predict(X_new_tfidf)"
   ]
  },
  {
   "cell_type": "code",
   "execution_count": 100,
   "id": "flush-exchange",
   "metadata": {},
   "outputs": [
    {
     "name": "stdout",
     "output_type": "stream",
     "text": [
      "F1 score: 0.7136357770555559\n",
      "Precision: 0.7807965265485755\n",
      "Recall: 0.7001330742007502\n"
     ]
    }
   ],
   "source": [
    "print('F1 score:', f1_score(y_dev, predicted, average=\"macro\"))\n",
    "print('Precision:', precision_score(y_dev, predicted, average=\"macro\"))\n",
    "print('Recall:', recall_score(y_dev, predicted, average=\"macro\")) "
   ]
  },
  {
   "cell_type": "code",
   "execution_count": 101,
   "id": "fifty-river",
   "metadata": {},
   "outputs": [
    {
     "data": {
      "text/plain": [
       "array([[122,   3,   2,   0,   3,   9,   1,   0,   0,   2],\n",
       "       [  2, 121,   0,   0,   0,   3,   0,   0,   0,   1],\n",
       "       [  1,   6, 148,   0,   4,   2,   2,   0,   0,   4],\n",
       "       [ 10,   3,   7,  17,   1,   3,   0,   0,   0,  11],\n",
       "       [  6,   0,   0,   0, 145,  10,   0,   0,   0,   0],\n",
       "       [  3,   1,   1,   0,   7, 149,   2,   0,   0,   0],\n",
       "       [ 13,   4,   1,   0,   1,   5,  88,   0,   0,   3],\n",
       "       [  4,   2,   0,   0,   2,   0,   0,   0,   0,   7],\n",
       "       [  3,   2,   5,   0,   2,   3,   1,   0,  29,  10],\n",
       "       [  5,   1,   6,   0,   1,   8,   1,   0,   0, 146]])"
      ]
     },
     "execution_count": 101,
     "metadata": {},
     "output_type": "execute_result"
    }
   ],
   "source": [
    "cm = confusion_matrix(y_dev, predicted)\n",
    "cm"
   ]
  },
  {
   "cell_type": "code",
   "execution_count": 102,
   "id": "surgical-convention",
   "metadata": {},
   "outputs": [
    {
     "data": {
      "text/plain": [
       "<Figure size 2160x2160 with 0 Axes>"
      ]
     },
     "metadata": {},
     "output_type": "display_data"
    },
    {
     "data": {
      "image/png": "[encoded data removed]",
      "text/plain": [
       "<Figure size 432x288 with 2 Axes>"
      ]
     },
     "metadata": {
      "needs_background": "light"
     },
     "output_type": "display_data"
    }
   ],
   "source": [
    "# Plot non-normalized confusion matrix\n",
    "\n",
    "\n",
    "plt.figure(figsize=(30,30))\n",
    "plot_confusion_matrix(clf2, X_new_tfidf, y_dev)\n",
    "\n",
    "plt.show()"
   ]
  },
  {
   "cell_type": "markdown",
   "id": "pacific-republic",
   "metadata": {
    "heading_collapsed": "true"
   },
   "source": [
    "### Use BOW on the Merged Description field"
   ]
  },
  {
   "cell_type": "code",
   "execution_count": 123,
   "id": "constitutional-meter",
   "metadata": {},
   "outputs": [],
   "source": [
    "# fit_transform() creates dictionary and return term-document matrix.\n",
    "X_train_counts = count_vector.fit_transform(X_train['Merged_Description'])\n",
    "\n",
    "# # Import TfidfTransformer class.\n",
    "# # TfidfTransformer transoforms count matrix to tf-idf representation.\n",
    "# from sklearn.feature_extraction.text import TfidfTransformer\n",
    "# tfidf_transformer = TfidfTransformer()\n",
    "\n",
    "# # fit_transform transforms count matrix to tf-idf representation(vector).\n",
    "# X_train_tfidf = tfidf_transformer.fit_transform(X_train_counts)"
   ]
  },
  {
   "cell_type": "code",
   "execution_count": 124,
   "id": "plastic-business",
   "metadata": {},
   "outputs": [],
   "source": [
    "# Create model(naive bayes) and training. \n",
    "from sklearn.naive_bayes import MultinomialNB\n",
    "clf3 = MultinomialNB().fit(X_train_counts, y_train)"
   ]
  },
  {
   "cell_type": "code",
   "execution_count": 125,
   "id": "atomic-jenny",
   "metadata": {},
   "outputs": [],
   "source": [
    "# Create predictions\n",
    "# Transfroming.\n",
    "X_new_counts = count_vector.transform(X_dev['Merged_Description'])\n",
    "# X_new_tfidf = tfidf_transformer.transform(X_new_counts)\n",
    "\n",
    "# Execute prediction(classification).\n",
    "predicted = clf3.predict(X_new_counts)"
   ]
  },
  {
   "cell_type": "code",
   "execution_count": 126,
   "id": "exotic-realtor",
   "metadata": {},
   "outputs": [
    {
     "name": "stdout",
     "output_type": "stream",
     "text": [
      "F1 score: 0.8969924812030076\n",
      "Precision: 0.8941605839416059\n",
      "Recall: 0.9\n"
     ]
    }
   ],
   "source": [
    "print('F1 score:', f1_score(y_dev, predicted, average=\"macro\"))\n",
    "print('Precision:', precision_score(y_dev, predicted, average=\"macro\"))\n",
    "print('Recall:', recall_score(y_dev, predicted, average=\"macro\")) "
   ]
  },
  {
   "cell_type": "code",
   "execution_count": 128,
   "id": "limited-thanks",
   "metadata": {},
   "outputs": [
    {
     "data": {
      "text/plain": [
       "<Figure size 2160x2160 with 0 Axes>"
      ]
     },
     "metadata": {},
     "output_type": "display_data"
    },
    {
     "data": {
      "image/png": "[encoded data removed]",
      "text/plain": [
       "<Figure size 432x288 with 2 Axes>"
      ]
     },
     "metadata": {
      "needs_background": "light"
     },
     "output_type": "display_data"
    }
   ],
   "source": [
    "# Plot non-normalized confusion matrix\n",
    "from sklearn.metrics import plot_confusion_matrix\n",
    "\n",
    "plt.figure(figsize=(30,30))\n",
    "plot_confusion_matrix(clf3, X_new_counts, y_dev)\n",
    "\n",
    "plt.show()"
   ]
  },
  {
   "cell_type": "markdown",
   "id": "contrary-bruce",
   "metadata": {
    "heading_collapsed": "true"
   },
   "source": [
    "### Use TF-IDF on the Merged Description field"
   ]
  },
  {
   "cell_type": "code",
   "execution_count": 103,
   "id": "atlantic-keeping",
   "metadata": {},
   "outputs": [],
   "source": [
    "# fit_transform() creates dictionary and return term-document matrix.\n",
    "X_train_counts = count_vector.fit_transform(X_train['Merged_Description'])\n",
    "\n",
    "# Import TfidfTransformer class.\n",
    "# TfidfTransformer transoforms count matrix to tf-idf representation.\n",
    "from sklearn.feature_extraction.text import TfidfTransformer\n",
    "tfidf_transformer = TfidfTransformer()\n",
    "\n",
    "# fit_transform transforms count matrix to tf-idf representation(vector).\n",
    "X_train_tfidf = tfidf_transformer.fit_transform(X_train_counts)"
   ]
  },
  {
   "cell_type": "code",
   "execution_count": 104,
   "id": "isolated-range",
   "metadata": {},
   "outputs": [],
   "source": [
    "# Create model(naive bayes) and training. \n",
    "from sklearn.naive_bayes import MultinomialNB\n",
    "clf2 = MultinomialNB().fit(X_train_tfidf, y_train)"
   ]
  },
  {
   "cell_type": "code",
   "execution_count": 105,
   "id": "recovered-timeline",
   "metadata": {},
   "outputs": [],
   "source": [
    "# Create predictions\n",
    "# Transfroming.\n",
    "X_new_counts = count_vector.transform(X_dev['Merged_Description'])\n",
    "X_new_tfidf = tfidf_transformer.transform(X_new_counts)\n",
    "\n",
    "# Execute prediction(classification).\n",
    "predicted = clf2.predict(X_new_tfidf)"
   ]
  },
  {
   "cell_type": "code",
   "execution_count": 106,
   "id": "informal-austin",
   "metadata": {},
   "outputs": [
    {
     "name": "stdout",
     "output_type": "stream",
     "text": [
      "F1 score: 0.8969924812030076\n",
      "Precision: 0.8941605839416059\n",
      "Recall: 0.9\n"
     ]
    }
   ],
   "source": [
    "print('F1 score:', f1_score(y_dev, predicted, average=\"macro\"))\n",
    "print('Precision:', precision_score(y_dev, predicted, average=\"macro\"))\n",
    "print('Recall:', recall_score(y_dev, predicted, average=\"macro\")) "
   ]
  },
  {
   "cell_type": "code",
   "execution_count": 107,
   "id": "similar-screw",
   "metadata": {},
   "outputs": [
    {
     "data": {
      "text/plain": [
       "<Figure size 2160x2160 with 0 Axes>"
      ]
     },
     "metadata": {},
     "output_type": "display_data"
    },
    {
     "data": {
      "image/png": "[encoded data removed]",
      "text/plain": [
       "<Figure size 432x288 with 2 Axes>"
      ]
     },
     "metadata": {
      "needs_background": "light"
     },
     "output_type": "display_data"
    }
   ],
   "source": [
    "# Plot non-normalized confusion matrix\n",
    "from sklearn.metrics import plot_confusion_matrix\n",
    "\n",
    "plt.figure(figsize=(30,30))\n",
    "plot_confusion_matrix(clf2, X_new_tfidf, y_dev)\n",
    "\n",
    "plt.show()"
   ]
  },
  {
   "cell_type": "code",
   "execution_count": 108,
   "id": "unsigned-dallas",
   "metadata": {},
   "outputs": [
    {
     "data": {
      "text/plain": [
       "array([[163,   0,   0,   0,   0,   0,   0,   0,   0,   0],\n",
       "       [  0, 129,   0,   0,   0,   0,   0,   0,   0,   0],\n",
       "       [  0,   0, 144,   0,   0,   0,   0,   0,   0,   0],\n",
       "       [  0,   0,   0,  51,   0,   0,   0,   0,   0,   0],\n",
       "       [  0,   0,   0,   0, 167,   0,   0,   0,   0,   0],\n",
       "       [  0,   0,   0,   0,   0, 166,   0,   0,   0,   0],\n",
       "       [  0,   0,   0,   0,   0,   0, 107,   0,   0,   0],\n",
       "       [  0,   8,   0,   0,   0,   0,   0,   0,   0,   0],\n",
       "       [  0,   0,   0,   0,   0,   0,   0,   0,  57,   0],\n",
       "       [  0,   0,   0,   0,   0,   0,   0,   0,   0, 171]])"
      ]
     },
     "execution_count": 108,
     "metadata": {},
     "output_type": "execute_result"
    }
   ],
   "source": [
    "cm = confusion_matrix(y_dev, predicted)\n",
    "cm"
   ]
  },
  {
   "cell_type": "markdown",
   "id": "quiet-trademark",
   "metadata": {
    "heading_collapsed": "true"
   },
   "source": [
    "### Use the BERT embeddings in the Product Desc column"
   ]
  },
  {
   "cell_type": "code",
   "execution_count": 81,
   "id": "sixth-breath",
   "metadata": {},
   "outputs": [
    {
     "data": {
      "text/html": [
       "<div>\n",
       "<style scoped>\n",
       "    .dataframe tbody tr th:only-of-type {\n",
       "        vertical-align: middle;\n",
       "    }\n",
       "\n",
       "    .dataframe tbody tr th {\n",
       "        vertical-align: top;\n",
       "    }\n",
       "\n",
       "    .dataframe thead th {\n",
       "        text-align: right;\n",
       "    }\n",
       "</style>\n",
       "<table border=\"1\" class=\"dataframe\">\n",
       "  <thead>\n",
       "    <tr style=\"text-align: right;\">\n",
       "      <th></th>\n",
       "      <th>Product Desc</th>\n",
       "      <th>Merged_Description</th>\n",
       "      <th>HS_Code</th>\n",
       "      <th>BERTProduct Desc</th>\n",
       "      <th>BERTMerged_Description</th>\n",
       "      <th>NLTKProduct Desc</th>\n",
       "      <th>NLTKMerged_Description</th>\n",
       "    </tr>\n",
       "  </thead>\n",
       "  <tbody>\n",
       "    <tr>\n",
       "      <th>4568</th>\n",
       "      <td>GEAR REAR PTO IDLER GEAR HUB&lt;br/&gt;</td>\n",
       "      <td>Parts and accessories of vehicles of headings 8711 to 8713 ;Other ;Hubs, other than coaster braking hubs and hub brakes, and free-wheel sprocket-wheels ;Aluminum alloy hubs with a hollow axle and lever-operated quick release mechanism;Hubs ;Three speed;Variable speed (except three speed) with internal gear changing mechanisms ;Two speed;Other;Free-wheel sprocket-wheels;Multiple free-wheel sprockets</td>\n",
       "      <td>871493</td>\n",
       "      <td>[, 6, 7, 1, 8, ,,  , 4, 3, 7, 3, ,,  , 1, 3, 8, 6, 6, ,,  , 2, 0, 8, 0, ,,  , 1, 8, 3, 7, 3, ,,  , 2, 0, 9, 9, ,,  , 6, 7, 1, 8, ,,  , 9, 5, 9, 4, ,,  , 1, 0, 2, 6, ,,  , 7, 9, 8, 7, ,,  , 1, 0, 1, 3, ,,  , 1, 0, 2, 8, ]</td>\n",
       "      <td>[3033, 1998, 16611, 1997, 4683, 1997, 5825, 2015, 6584, 14526, 2000, 6584, 17134, 1025, 2060, 1025, 9594, 2015, 1010, 2060, 2084, 16817, 24427, 9594, 2015, 1998, 9594, 13627, 1010, 1998, 2489, 1011, 5217, 11867, 16901, 3388, 1011, 7787, 1025, 13061, 17564, 9594, 2015, 2007, 1037, 8892, 17290, 1998, 15929, 1011, 3498, 4248, 2713, 7337, 1025, 9594, 2015, 1025, 2093, 3177, 1025, 8023, 3177, 1006, 3272, 2093, 3177, 1007, 2007, 4722, 6718, 5278, 10595, 1025, 2048, 3177, 1025, 2060, 1025, 2489, 1011, 5217, 11867, 16901, 3388, 1011, 7787, 1025, 3674, 2489, 1011, 5217, 11867, 16901, 8454]</td>\n",
       "      <td>[GEAR, REAR, PTO, IDLER, GEAR, HUB, &lt;, br/, &gt;]</td>\n",
       "      <td>[Parts, and, accessories, of, vehicles, of, headings, 8711, to, 8713, ;, Other, ;, Hubs, ,, other, than, coaster, braking, hubs, and, hub, brakes, ,, and, free-wheel, sprocket-wheels, ;, Aluminum, alloy, hubs, with, a, hollow, axle, and, lever-operated, quick, release, mechanism, ;, Hubs, ;, Three, speed, ;, Variable, speed, (, except, three, speed, ), with, internal, gear, changing, mechanisms, ;, Two, speed, ;, Other, ;, Free-wheel, sprocket-wheels, ;, Multiple, free-wheel, sprockets]</td>\n",
       "    </tr>\n",
       "    <tr>\n",
       "      <th>1585</th>\n",
       "      <td>NEW MOTORCYCLE EXHAUST PARTS HS CODE:871410 24 CAR</td>\n",
       "      <td>Parts and accessories of vehicles of headings 8711 to 8713 ;Of motorcycles (including mopeds);Saddles and seats;Wheels;Other</td>\n",
       "      <td>871410</td>\n",
       "      <td>[, 2, 0, 4, 7, ,,  , 9, 0, 5, 5, ,,  , 1, 5, 0, 9, 5, ,,  , 3, 0, 3, 3, ,,  , 2, 6, 2, 3, 6, ,,  , 3, 6, 4, 2, ,,  , 1, 0, 2, 4, ,,  , 6, 5, 8, 4, ,,  , 1, 6, 9, 3, 2, ,,  , 1, 0, 7, 9, 0, ,,  , 2, 4, 8, 4, ,,  , 2, 4, 8, 2, ]</td>\n",
       "      <td>[3033, 1998, 16611, 1997, 4683, 1997, 5825, 2015, 6584, 14526, 2000, 6584, 17134, 1025, 1997, 18580, 1006, 2164, 9587, 5669, 2015, 1007, 1025, 12279, 2015, 1998, 4272, 1025, 7787, 1025, 2060]</td>\n",
       "      <td>[NEW, MOTORCYCLE, EXHAUST, PARTS, HS, CODE:871410, 24, CAR]</td>\n",
       "      <td>[Parts, and, accessories, of, vehicles, of, headings, 8711, to, 8713, ;, Of, motorcycles, (, including, mopeds, ), ;, Saddles, and, seats, ;, Wheels, ;, Other]</td>\n",
       "    </tr>\n",
       "    <tr>\n",
       "      <th>2161</th>\n",
       "      <td>AUTOMOTIVE PARTS &amp; ACCESSORIES INVOICE#JF1080529BX</td>\n",
       "      <td>Parts and accessories of vehicles of headings 8711 to 8713 ;Of carriages for disabled persons</td>\n",
       "      <td>871420</td>\n",
       "      <td>[, 1, 2, 9, 4, 5, ,,  , 3, 0, 3, 3, ,,  , 1, 0, 0, 4, ,,  , 1, 6, 6, 1, 1, ,,  , 1, 9, 9, 9, ,,  , 6, 7, 6, 7, ,,  , 6, 6, 1, 0, ,,  , 1, 0, 0, 1, ,,  , 1, 0, 4, 6, ,,  , 2, 5, 4, 6, ,,  , 1, 0, 7, 9, 0, ,,  , 1, 7, 9, 1, 4, ,,  , 2, 5, 7, 4, 6, ,,  , 2, 6, 8, 3, ,,  , 2, 4, 9, 7, ,,  , 2, 5, 9, 5, ]</td>\n",
       "      <td>[3033, 1998, 16611, 1997, 4683, 1997, 5825, 2015, 6584, 14526, 2000, 6584, 17134, 1025, 1997, 17744, 2005, 9776, 5381]</td>\n",
       "      <td>[AUTOMOTIVE, PARTS, &amp;, ACCESSORIES, INVOICE, #, JF1080529BX]</td>\n",
       "      <td>[Parts, and, accessories, of, vehicles, of, headings, 8711, to, 8713, ;, Of, carriages, for, disabled, persons]</td>\n",
       "    </tr>\n",
       "    <tr>\n",
       "      <th>3754</th>\n",
       "      <td>FRAME FORK BRAKE PEDAL RIMTYRE SPOKES SADDLE&lt;br/&gt;</td>\n",
       "      <td>Parts and accessories of vehicles of headings 8711 to 8713 ;Other ;Wheel rims and spokes ;Wheel rims;Spokes</td>\n",
       "      <td>871492</td>\n",
       "      <td>[, 4, 8, 5, 3, ,,  , 9, 2, 9, 2, ,,  , 1, 3, 4, 2, 8, ,,  , 1, 5, 7, 4, 9, ,,  , 1, 1, 4, 1, 8, ,,  , 3, 7, 2, 3, ,,  , 2, 8, 9, 0, ,,  , 3, 7, 6, 4, ,,  , 2, 0, 1, 5, ,,  , 1, 2, 2, 7, 9, ,,  , 1, 0, 2, 6, ,,  , 7, 9, 8, 7, ,,  , 1, 0, 1, 3, ,,  , 1, 0, 2, 8, ]</td>\n",
       "      <td>[3033, 1998, 16611, 1997, 4683, 1997, 5825, 2015, 6584, 14526, 2000, 6584, 17134, 1025, 2060, 1025, 5217, 11418, 2015, 1998, 3764, 2015, 1025, 5217, 11418, 2015, 1025, 3764, 2015]</td>\n",
       "      <td>[FRAME, FORK, BRAKE, PEDAL, RIMTYRE, SPOKES, SADDLE, &lt;, br/, &gt;]</td>\n",
       "      <td>[Parts, and, accessories, of, vehicles, of, headings, 8711, to, 8713, ;, Other, ;, Wheel, rims, and, spokes, ;, Wheel, rims, ;, Spokes]</td>\n",
       "    </tr>\n",
       "    <tr>\n",
       "      <th>1727</th>\n",
       "      <td>185 CARTONS INTO 25 PALLETS + 130 LOOSE CARTONS MO</td>\n",
       "      <td>Parts and accessories of vehicles of headings 8711 to 8713 ;Of motorcycles (including mopeds);Saddles and seats;Wheels;Other</td>\n",
       "      <td>871410</td>\n",
       "      <td>[, 1, 5, 3, 7, 6, ,,  , 1, 1, 1, 2, 2, ,,  , 5, 6, 4, 4, ,,  , 2, 0, 4, 6, ,,  , 2, 4, 2, 3, ,,  , 1, 4, 4, 1, 2, ,,  , 1, 3, 4, 6, 1, ,,  , 1, 0, 0, 9, ,,  , 7, 5, 5, 8, ,,  , 6, 0, 6, 5, ,,  , 1, 1, 1, 2, 2, ,,  , 5, 6, 4, 4, ,,  , 9, 5, 8, 7, ]</td>\n",
       "      <td>[3033, 1998, 16611, 1997, 4683, 1997, 5825, 2015, 6584, 14526, 2000, 6584, 17134, 1025, 1997, 18580, 1006, 2164, 9587, 5669, 2015, 1007, 1025, 12279, 2015, 1998, 4272, 1025, 7787, 1025, 2060]</td>\n",
       "      <td>[185, CARTONS, INTO, 25, PALLETS, +, 130, LOOSE, CARTONS, MO]</td>\n",
       "      <td>[Parts, and, accessories, of, vehicles, of, headings, 8711, to, 8713, ;, Of, motorcycles, (, including, mopeds, ), ;, Saddles, and, seats, ;, Wheels, ;, Other]</td>\n",
       "    </tr>\n",
       "  </tbody>\n",
       "</table>\n",
       "</div>"
      ],
      "text/plain": [
       "                                            Product Desc  \\\n",
       "4568  GEAR REAR PTO IDLER GEAR HUB<br/>                    \n",
       "1585  NEW MOTORCYCLE EXHAUST PARTS HS CODE:871410 24 CAR   \n",
       "2161  AUTOMOTIVE PARTS & ACCESSORIES INVOICE#JF1080529BX   \n",
       "3754  FRAME FORK BRAKE PEDAL RIMTYRE SPOKES SADDLE<br/>    \n",
       "1727  185 CARTONS INTO 25 PALLETS + 130 LOOSE CARTONS MO   \n",
       "\n",
       "                                                                                                                                                                                                                                                                                                                                                                                                     Merged_Description  \\\n",
       "4568  Parts and accessories of vehicles of headings 8711 to 8713 ;Other ;Hubs, other than coaster braking hubs and hub brakes, and free-wheel sprocket-wheels ;Aluminum alloy hubs with a hollow axle and lever-operated quick release mechanism;Hubs ;Three speed;Variable speed (except three speed) with internal gear changing mechanisms ;Two speed;Other;Free-wheel sprocket-wheels;Multiple free-wheel sprockets   \n",
       "1585  Parts and accessories of vehicles of headings 8711 to 8713 ;Of motorcycles (including mopeds);Saddles and seats;Wheels;Other                                                                                                                                                                                                                                                                                        \n",
       "2161  Parts and accessories of vehicles of headings 8711 to 8713 ;Of carriages for disabled persons                                                                                                                                                                                                                                                                                                                       \n",
       "3754  Parts and accessories of vehicles of headings 8711 to 8713 ;Other ;Wheel rims and spokes ;Wheel rims;Spokes                                                                                                                                                                                                                                                                                                         \n",
       "1727  Parts and accessories of vehicles of headings 8711 to 8713 ;Of motorcycles (including mopeds);Saddles and seats;Wheels;Other                                                                                                                                                                                                                                                                                        \n",
       "\n",
       "     HS_Code  \\\n",
       "4568  871493   \n",
       "1585  871410   \n",
       "2161  871420   \n",
       "3754  871492   \n",
       "1727  871410   \n",
       "\n",
       "                                                                                                                                                                                                                                                                                                   BERTProduct Desc  \\\n",
       "4568  [, 6, 7, 1, 8, ,,  , 4, 3, 7, 3, ,,  , 1, 3, 8, 6, 6, ,,  , 2, 0, 8, 0, ,,  , 1, 8, 3, 7, 3, ,,  , 2, 0, 9, 9, ,,  , 6, 7, 1, 8, ,,  , 9, 5, 9, 4, ,,  , 1, 0, 2, 6, ,,  , 7, 9, 8, 7, ,,  , 1, 0, 1, 3, ,,  , 1, 0, 2, 8, ]                                                                                    \n",
       "1585  [, 2, 0, 4, 7, ,,  , 9, 0, 5, 5, ,,  , 1, 5, 0, 9, 5, ,,  , 3, 0, 3, 3, ,,  , 2, 6, 2, 3, 6, ,,  , 3, 6, 4, 2, ,,  , 1, 0, 2, 4, ,,  , 6, 5, 8, 4, ,,  , 1, 6, 9, 3, 2, ,,  , 1, 0, 7, 9, 0, ,,  , 2, 4, 8, 4, ,,  , 2, 4, 8, 2, ]                                                                              \n",
       "2161  [, 1, 2, 9, 4, 5, ,,  , 3, 0, 3, 3, ,,  , 1, 0, 0, 4, ,,  , 1, 6, 6, 1, 1, ,,  , 1, 9, 9, 9, ,,  , 6, 7, 6, 7, ,,  , 6, 6, 1, 0, ,,  , 1, 0, 0, 1, ,,  , 1, 0, 4, 6, ,,  , 2, 5, 4, 6, ,,  , 1, 0, 7, 9, 0, ,,  , 1, 7, 9, 1, 4, ,,  , 2, 5, 7, 4, 6, ,,  , 2, 6, 8, 3, ,,  , 2, 4, 9, 7, ,,  , 2, 5, 9, 5, ]   \n",
       "3754  [, 4, 8, 5, 3, ,,  , 9, 2, 9, 2, ,,  , 1, 3, 4, 2, 8, ,,  , 1, 5, 7, 4, 9, ,,  , 1, 1, 4, 1, 8, ,,  , 3, 7, 2, 3, ,,  , 2, 8, 9, 0, ,,  , 3, 7, 6, 4, ,,  , 2, 0, 1, 5, ,,  , 1, 2, 2, 7, 9, ,,  , 1, 0, 2, 6, ,,  , 7, 9, 8, 7, ,,  , 1, 0, 1, 3, ,,  , 1, 0, 2, 8, ]                                          \n",
       "1727  [, 1, 5, 3, 7, 6, ,,  , 1, 1, 1, 2, 2, ,,  , 5, 6, 4, 4, ,,  , 2, 0, 4, 6, ,,  , 2, 4, 2, 3, ,,  , 1, 4, 4, 1, 2, ,,  , 1, 3, 4, 6, 1, ,,  , 1, 0, 0, 9, ,,  , 7, 5, 5, 8, ,,  , 6, 0, 6, 5, ,,  , 1, 1, 1, 2, 2, ,,  , 5, 6, 4, 4, ,,  , 9, 5, 8, 7, ]                                                         \n",
       "\n",
       "                                                                                                                                                                                                                                                                                                                                                                                                                                                                                                                                                                                           BERTMerged_Description  \\\n",
       "4568  [3033, 1998, 16611, 1997, 4683, 1997, 5825, 2015, 6584, 14526, 2000, 6584, 17134, 1025, 2060, 1025, 9594, 2015, 1010, 2060, 2084, 16817, 24427, 9594, 2015, 1998, 9594, 13627, 1010, 1998, 2489, 1011, 5217, 11867, 16901, 3388, 1011, 7787, 1025, 13061, 17564, 9594, 2015, 2007, 1037, 8892, 17290, 1998, 15929, 1011, 3498, 4248, 2713, 7337, 1025, 9594, 2015, 1025, 2093, 3177, 1025, 8023, 3177, 1006, 3272, 2093, 3177, 1007, 2007, 4722, 6718, 5278, 10595, 1025, 2048, 3177, 1025, 2060, 1025, 2489, 1011, 5217, 11867, 16901, 3388, 1011, 7787, 1025, 3674, 2489, 1011, 5217, 11867, 16901, 8454]   \n",
       "1585  [3033, 1998, 16611, 1997, 4683, 1997, 5825, 2015, 6584, 14526, 2000, 6584, 17134, 1025, 1997, 18580, 1006, 2164, 9587, 5669, 2015, 1007, 1025, 12279, 2015, 1998, 4272, 1025, 7787, 1025, 2060]                                                                                                                                                                                                                                                                                                                                                                                                               \n",
       "2161  [3033, 1998, 16611, 1997, 4683, 1997, 5825, 2015, 6584, 14526, 2000, 6584, 17134, 1025, 1997, 17744, 2005, 9776, 5381]                                                                                                                                                                                                                                                                                                                                                                                                                                                                                        \n",
       "3754  [3033, 1998, 16611, 1997, 4683, 1997, 5825, 2015, 6584, 14526, 2000, 6584, 17134, 1025, 2060, 1025, 5217, 11418, 2015, 1998, 3764, 2015, 1025, 5217, 11418, 2015, 1025, 3764, 2015]                                                                                                                                                                                                                                                                                                                                                                                                                           \n",
       "1727  [3033, 1998, 16611, 1997, 4683, 1997, 5825, 2015, 6584, 14526, 2000, 6584, 17134, 1025, 1997, 18580, 1006, 2164, 9587, 5669, 2015, 1007, 1025, 12279, 2015, 1998, 4272, 1025, 7787, 1025, 2060]                                                                                                                                                                                                                                                                                                                                                                                                               \n",
       "\n",
       "                                                     NLTKProduct Desc  \\\n",
       "4568  [GEAR, REAR, PTO, IDLER, GEAR, HUB, <, br/, >]                    \n",
       "1585  [NEW, MOTORCYCLE, EXHAUST, PARTS, HS, CODE:871410, 24, CAR]       \n",
       "2161  [AUTOMOTIVE, PARTS, &, ACCESSORIES, INVOICE, #, JF1080529BX]      \n",
       "3754  [FRAME, FORK, BRAKE, PEDAL, RIMTYRE, SPOKES, SADDLE, <, br/, >]   \n",
       "1727  [185, CARTONS, INTO, 25, PALLETS, +, 130, LOOSE, CARTONS, MO]     \n",
       "\n",
       "                                                                                                                                                                                                                                                                                                                                                                                                                                                                                           NLTKMerged_Description  \n",
       "4568  [Parts, and, accessories, of, vehicles, of, headings, 8711, to, 8713, ;, Other, ;, Hubs, ,, other, than, coaster, braking, hubs, and, hub, brakes, ,, and, free-wheel, sprocket-wheels, ;, Aluminum, alloy, hubs, with, a, hollow, axle, and, lever-operated, quick, release, mechanism, ;, Hubs, ;, Three, speed, ;, Variable, speed, (, except, three, speed, ), with, internal, gear, changing, mechanisms, ;, Two, speed, ;, Other, ;, Free-wheel, sprocket-wheels, ;, Multiple, free-wheel, sprockets]  \n",
       "1585  [Parts, and, accessories, of, vehicles, of, headings, 8711, to, 8713, ;, Of, motorcycles, (, including, mopeds, ), ;, Saddles, and, seats, ;, Wheels, ;, Other]                                                                                                                                                                                                                                                                                                                                              \n",
       "2161  [Parts, and, accessories, of, vehicles, of, headings, 8711, to, 8713, ;, Of, carriages, for, disabled, persons]                                                                                                                                                                                                                                                                                                                                                                                              \n",
       "3754  [Parts, and, accessories, of, vehicles, of, headings, 8711, to, 8713, ;, Other, ;, Wheel, rims, and, spokes, ;, Wheel, rims, ;, Spokes]                                                                                                                                                                                                                                                                                                                                                                      \n",
       "1727  [Parts, and, accessories, of, vehicles, of, headings, 8711, to, 8713, ;, Of, motorcycles, (, including, mopeds, ), ;, Saddles, and, seats, ;, Wheels, ;, Other]                                                                                                                                                                                                                                                                                                                                              "
      ]
     },
     "execution_count": 81,
     "metadata": {},
     "output_type": "execute_result"
    }
   ],
   "source": [
    "# Convert the embedding column from list to string\n",
    "X_train['BERTProduct Desc'] = X_train['BERTProduct Desc'].apply(str).apply(', '.join)\n",
    "X_train.head()"
   ]
  },
  {
   "cell_type": "code",
   "execution_count": null,
   "id": "scenic-motel",
   "metadata": {},
   "outputs": [],
   "source": [
    "count_vector = CountVectorizer()\n",
    "\n",
    "# fit_transform() creates dictionary and return term-document matrix.\n",
    "X_train_counts = count_vector.fit_transform(X_train['Product Desc'])\n",
    "\n",
    "# Import TfidfTransformer class.\n",
    "# TfidfTransformer transoforms count matrix to tf-idf representation.\n",
    "from sklearn.feature_extraction.text import TfidfTransformer\n",
    "tfidf_transformer = TfidfTransformer()\n",
    "\n",
    "# fit_transform transforms count matrix to tf-idf representation(vector).\n",
    "X_train_tfidf = tfidf_transformer.fit_transform(X_train_counts)"
   ]
  },
  {
   "cell_type": "code",
   "execution_count": null,
   "id": "angry-attempt",
   "metadata": {},
   "outputs": [],
   "source": [
    "# Create model(naive bayes) and training. \n",
    "from sklearn.naive_bayes import MultinomialNB\n",
    "clf = MultinomialNB().fit(X_train_tfidf, y_train)"
   ]
  },
  {
   "cell_type": "code",
   "execution_count": null,
   "id": "aware-biography",
   "metadata": {},
   "outputs": [],
   "source": [
    "# Create predictions\n",
    "# Transfroming.\n",
    "X_new_counts = count_vector.transform(X_dev['Product Desc'])\n",
    "X_new_tfidf = tfidf_transformer.transform(X_new_counts)\n",
    "\n",
    "# Execute prediction(classification).\n",
    "predicted = clf.predict(X_new_tfidf)"
   ]
  },
  {
   "cell_type": "code",
   "execution_count": null,
   "id": "arabic-niger",
   "metadata": {},
   "outputs": [],
   "source": [
    "print('F1 score:', f1_score(y_dev, predicted, average=\"macro\"))\n",
    "print('Precision:', precision_score(y_dev, predicted, average=\"macro\"))\n",
    "print('Recall:', recall_score(y_dev, predicted, average=\"macro\")) "
   ]
  },
  {
   "cell_type": "code",
   "execution_count": null,
   "id": "acquired-korea",
   "metadata": {},
   "outputs": [],
   "source": [
    "plt.figure(figsize=(30,30))\n",
    "plot_confusion_matrix(clf, X_new_tfidf, y_dev)\n",
    "\n",
    "plt.show()"
   ]
  },
  {
   "cell_type": "markdown",
   "id": "living-celtic",
   "metadata": {},
   "source": [
    "## Create functions to make model building easier"
   ]
  },
  {
   "cell_type": "code",
   "execution_count": 23,
   "id": "distant-african",
   "metadata": {},
   "outputs": [],
   "source": [
    "results = pd.DataFrame()\n",
    "results = pd.DataFrame(index = ['Baseline', 'NB-BOW Desc','NB-tfidf Desc', 'KNN-BOW Desc', 'KNN-tfidf Desc', 'LogReg-BOW Desc', 'LogReg-tfidf Desc', \n",
    "                                'SVM-BOW Desc', 'SVM-tfidf Desc', 'XGBoost-BOW Desc', 'XGBoost-tfidf Desc', 'RF-BOW Desc', 'RF-tfidf Desc'],\n",
    "                       columns=['Accuracy'])"
   ]
  },
  {
   "cell_type": "code",
   "execution_count": 24,
   "id": "supreme-suspect",
   "metadata": {},
   "outputs": [
    {
     "data": {
      "text/html": [
       "<div>\n",
       "<style scoped>\n",
       "    .dataframe tbody tr th:only-of-type {\n",
       "        vertical-align: middle;\n",
       "    }\n",
       "\n",
       "    .dataframe tbody tr th {\n",
       "        vertical-align: top;\n",
       "    }\n",
       "\n",
       "    .dataframe thead th {\n",
       "        text-align: right;\n",
       "    }\n",
       "</style>\n",
       "<table border=\"1\" class=\"dataframe\">\n",
       "  <thead>\n",
       "    <tr style=\"text-align: right;\">\n",
       "      <th></th>\n",
       "      <th>Accuracy</th>\n",
       "    </tr>\n",
       "  </thead>\n",
       "  <tbody>\n",
       "    <tr>\n",
       "      <th>Baseline</th>\n",
       "      <td>NaN</td>\n",
       "    </tr>\n",
       "    <tr>\n",
       "      <th>NB-BOW Desc</th>\n",
       "      <td>NaN</td>\n",
       "    </tr>\n",
       "    <tr>\n",
       "      <th>NB-tfidf Desc</th>\n",
       "      <td>NaN</td>\n",
       "    </tr>\n",
       "    <tr>\n",
       "      <th>KNN-BOW Desc</th>\n",
       "      <td>NaN</td>\n",
       "    </tr>\n",
       "    <tr>\n",
       "      <th>KNN-tfidf Desc</th>\n",
       "      <td>NaN</td>\n",
       "    </tr>\n",
       "    <tr>\n",
       "      <th>LogReg-BOW Desc</th>\n",
       "      <td>NaN</td>\n",
       "    </tr>\n",
       "    <tr>\n",
       "      <th>LogReg-tfidf Desc</th>\n",
       "      <td>NaN</td>\n",
       "    </tr>\n",
       "    <tr>\n",
       "      <th>SVM-BOW Desc</th>\n",
       "      <td>NaN</td>\n",
       "    </tr>\n",
       "    <tr>\n",
       "      <th>SVM-tfidf Desc</th>\n",
       "      <td>NaN</td>\n",
       "    </tr>\n",
       "    <tr>\n",
       "      <th>XGBoost-BOW Desc</th>\n",
       "      <td>NaN</td>\n",
       "    </tr>\n",
       "    <tr>\n",
       "      <th>XGBoost-tfidf Desc</th>\n",
       "      <td>NaN</td>\n",
       "    </tr>\n",
       "    <tr>\n",
       "      <th>RF-BOW Desc</th>\n",
       "      <td>NaN</td>\n",
       "    </tr>\n",
       "    <tr>\n",
       "      <th>RF-tfidf Desc</th>\n",
       "      <td>NaN</td>\n",
       "    </tr>\n",
       "  </tbody>\n",
       "</table>\n",
       "</div>"
      ],
      "text/plain": [
       "                   Accuracy\n",
       "Baseline                NaN\n",
       "NB-BOW Desc             NaN\n",
       "NB-tfidf Desc           NaN\n",
       "KNN-BOW Desc            NaN\n",
       "KNN-tfidf Desc          NaN\n",
       "LogReg-BOW Desc         NaN\n",
       "LogReg-tfidf Desc       NaN\n",
       "SVM-BOW Desc            NaN\n",
       "SVM-tfidf Desc          NaN\n",
       "XGBoost-BOW Desc        NaN\n",
       "XGBoost-tfidf Desc      NaN\n",
       "RF-BOW Desc             NaN\n",
       "RF-tfidf Desc           NaN"
      ]
     },
     "execution_count": 24,
     "metadata": {},
     "output_type": "execute_result"
    }
   ],
   "source": [
    "results"
   ]
  },
  {
   "cell_type": "code",
   "execution_count": 25,
   "id": "voluntary-samoa",
   "metadata": {},
   "outputs": [],
   "source": [
    "results.at['Baseline', 'Accuracy'] = max_value/len(X_train)"
   ]
  },
  {
   "cell_type": "code",
   "execution_count": 38,
   "id": "extended-armor",
   "metadata": {},
   "outputs": [],
   "source": [
    "def train(classifier, X, y, X_test, y_test):\n",
    "    ### provide classifier, train and test set\n",
    "    ### get train/val split\n",
    "    ### fit on val\n",
    "    ### test on test\n",
    "    ### return accuracy score for test\n",
    "    \n",
    "    mod = classifier.fit(X, y)\n",
    "    \n",
    "    print(\"Dev set results:\")\n",
    "    X_test_preds = mod.predict(X_test)\n",
    "    print(classification_report(y_test, X_test_preds) )\n",
    "    # plot confusion matrix\n",
    "    plt.figure(figsize=(30,30))\n",
    "    plot_confusion_matrix(mod, y_test, X_test_preds)\n",
    "    plt.show()\n",
    "    # print confusion matrix\n",
    "    print(confusion_matrix(y_test, X_test_preds))\n",
    "    return accuracy_score(y_test,X_test_preds)"
   ]
  },
  {
   "cell_type": "code",
   "execution_count": 39,
   "id": "southwest-consolidation",
   "metadata": {},
   "outputs": [
    {
     "name": "stdout",
     "output_type": "stream",
     "text": [
      "Dev set results:\n",
      "              precision    recall  f1-score   support\n",
      "\n",
      "      871200       0.72      0.84      0.78       142\n",
      "      871410       0.83      0.95      0.89       127\n",
      "      871420       0.89      0.90      0.90       167\n",
      "      871491       1.00      0.44      0.61        52\n",
      "      871492       0.87      0.93      0.90       161\n",
      "      871493       0.85      0.89      0.87       163\n",
      "      871494       0.94      0.79      0.86       115\n",
      "      871495       1.00      0.07      0.12        15\n",
      "      871496       0.89      0.75      0.81        55\n",
      "      871499       0.79      0.83      0.81       168\n",
      "\n",
      "    accuracy                           0.84      1165\n",
      "   macro avg       0.88      0.74      0.76      1165\n",
      "weighted avg       0.85      0.84      0.84      1165\n",
      "\n"
     ]
    },
    {
     "data": {
      "text/plain": [
       "<Figure size 2160x2160 with 0 Axes>"
      ]
     },
     "metadata": {},
     "output_type": "display_data"
    },
    {
     "data": {
      "image/png": "[encoded data removed]",
      "text/plain": [
       "<Figure size 432x288 with 2 Axes>"
      ]
     },
     "metadata": {
      "needs_background": "light"
     },
     "output_type": "display_data"
    },
    {
     "name": "stdout",
     "output_type": "stream",
     "text": [
      "[[119   2   2   0   4   8   1   0   0   6]\n",
      " [  3 121   1   0   0   0   0   0   0   2]\n",
      " [  1   4 151   0   4   2   1   0   2   2]\n",
      " [  9   4   5  23   0   1   0   0   0  10]\n",
      " [  5   0   0   0 150   4   0   0   1   1]\n",
      " [  2   1   1   0  10 145   2   0   1   1]\n",
      " [ 13   3   1   0   0   3  91   0   0   4]\n",
      " [  3   2   0   0   2   0   0   1   0   7]\n",
      " [  3   2   3   0   0   2   0   0  41   4]\n",
      " [  7   6   5   0   2   5   2   0   1 140]]\n"
     ]
    }
   ],
   "source": [
    "from sklearn.pipeline import Pipeline\n",
    "from sklearn.metrics import classification_report\n",
    "from sklearn.metrics import accuracy_score\n",
    "from sklearn.feature_extraction.text import CountVectorizer\n",
    "from sklearn.feature_extraction.text import TfidfVectorizer\n",
    "\n",
    "trial1 = Pipeline([\n",
    "    ('vectorizer', CountVectorizer()),\n",
    "    ('classifier', MultinomialNB()),\n",
    "])\n",
    " \n",
    "acc = train(trial1, X_train['Desc'], y_train, X_dev['Desc'], y_dev)\n",
    "\n",
    "results.at['NB-BOW Desc','Accuracy'] = acc\n"
   ]
  },
  {
   "cell_type": "code",
   "execution_count": 40,
   "id": "adapted-sculpture",
   "metadata": {},
   "outputs": [
    {
     "name": "stdout",
     "output_type": "stream",
     "text": [
      "Dev set results:\n",
      "              precision    recall  f1-score   support\n",
      "\n",
      "      871200       0.67      0.85      0.75       142\n",
      "      871410       0.85      0.91      0.87       127\n",
      "      871420       0.87      0.89      0.88       167\n",
      "      871491       1.00      0.35      0.51        52\n",
      "      871492       0.87      0.89      0.88       161\n",
      "      871493       0.76      0.91      0.83       163\n",
      "      871494       0.91      0.74      0.82       115\n",
      "      871495       0.00      0.00      0.00        15\n",
      "      871496       1.00      0.60      0.75        55\n",
      "      871499       0.79      0.84      0.82       168\n",
      "\n",
      "    accuracy                           0.82      1165\n",
      "   macro avg       0.77      0.70      0.71      1165\n",
      "weighted avg       0.82      0.82      0.81      1165\n",
      "\n"
     ]
    },
    {
     "data": {
      "text/plain": [
       "<Figure size 2160x2160 with 0 Axes>"
      ]
     },
     "metadata": {},
     "output_type": "display_data"
    },
    {
     "data": {
      "image/png": "[encoded data removed]",
      "text/plain": [
       "<Figure size 432x288 with 2 Axes>"
      ]
     },
     "metadata": {
      "needs_background": "light"
     },
     "output_type": "display_data"
    },
    {
     "name": "stdout",
     "output_type": "stream",
     "text": [
      "[[120   2   2   0   3   8   1   0   0   6]\n",
      " [  4 115   1   0   0   3   0   0   0   4]\n",
      " [  2   3 148   0   4   5   2   0   0   3]\n",
      " [ 13   4   7  18   0   3   0   0   0   7]\n",
      " [  6   1   0   0 143  11   0   0   0   0]\n",
      " [  4   0   1   0   7 148   3   0   0   0]\n",
      " [ 14   5   1   0   1   6  85   0   0   3]\n",
      " [  3   3   0   0   2   0   0   0   0   7]\n",
      " [  5   1   4   0   2   2   1   0  33   7]\n",
      " [  8   2   6   0   2   8   1   0   0 141]]\n"
     ]
    }
   ],
   "source": [
    "trial2 = Pipeline([\n",
    "    ('vectorizer', TfidfVectorizer()),\n",
    "    ('classifier', MultinomialNB()),\n",
    "])\n",
    " \n",
    "acc = train(trial2, X_train['Desc'], y_train, X_dev['Desc'], y_dev)\n",
    "\n",
    "results.at['NB-tfidf Desc','Accuracy'] = acc"
   ]
  },
  {
   "cell_type": "code",
   "execution_count": 41,
   "id": "destroyed-government",
   "metadata": {},
   "outputs": [
    {
     "name": "stdout",
     "output_type": "stream",
     "text": [
      "Dev set results:\n",
      "              precision    recall  f1-score   support\n",
      "\n",
      "      871200       0.75      0.73      0.74       142\n",
      "      871410       0.82      0.86      0.84       127\n",
      "      871420       0.85      0.91      0.88       167\n",
      "      871491       0.69      0.46      0.55        52\n",
      "      871492       0.84      0.92      0.88       161\n",
      "      871493       0.89      0.82      0.85       163\n",
      "      871494       0.69      0.92      0.79       115\n",
      "      871495       0.75      0.20      0.32        15\n",
      "      871496       0.90      0.69      0.78        55\n",
      "      871499       0.86      0.78      0.82       168\n",
      "\n",
      "    accuracy                           0.81      1165\n",
      "   macro avg       0.80      0.73      0.74      1165\n",
      "weighted avg       0.82      0.81      0.81      1165\n",
      "\n"
     ]
    },
    {
     "data": {
      "text/plain": [
       "<Figure size 2160x2160 with 0 Axes>"
      ]
     },
     "metadata": {},
     "output_type": "display_data"
    },
    {
     "data": {
      "image/png": "[encoded data removed]",
      "text/plain": [
       "<Figure size 432x288 with 2 Axes>"
      ]
     },
     "metadata": {
      "needs_background": "light"
     },
     "output_type": "display_data"
    },
    {
     "name": "stdout",
     "output_type": "stream",
     "text": [
      "[[104   4   3   4   5   7  10   0   1   4]\n",
      " [  6 109   2   0   1   1   7   0   0   1]\n",
      " [  3   3 152   0   2   0   2   0   1   4]\n",
      " [  6   4   5  24   0   0   6   0   1   6]\n",
      " [  1   3   1   0 148   2   4   0   1   1]\n",
      " [  3   6   2   0  15 133   3   0   0   1]\n",
      " [  3   0   0   2   1   2 106   0   0   1]\n",
      " [  1   0   2   1   3   0   2   3   0   3]\n",
      " [  2   2   3   3   0   0   6   0  38   1]\n",
      " [ 10   2   8   1   2   5   8   1   0 131]]\n"
     ]
    }
   ],
   "source": [
    "trial3 = Pipeline([\n",
    "    ('vectorizer', CountVectorizer()),\n",
    "    ('classifier', KNeighborsClassifier()),\n",
    "])\n",
    " \n",
    "acc = train(trial3, X_train['Desc'], y_train, X_dev['Desc'], y_dev)\n",
    "\n",
    "results.at['NB-BOW Desc','Accuracy'] = acc"
   ]
  },
  {
   "cell_type": "code",
   "execution_count": 42,
   "id": "differential-nightmare",
   "metadata": {},
   "outputs": [
    {
     "name": "stdout",
     "output_type": "stream",
     "text": [
      "Dev set results:\n",
      "              precision    recall  f1-score   support\n",
      "\n",
      "      871200       0.67      0.79      0.73       142\n",
      "      871410       0.60      0.86      0.70       127\n",
      "      871420       0.83      0.80      0.81       167\n",
      "      871491       0.91      0.58      0.71        52\n",
      "      871492       0.81      0.80      0.81       161\n",
      "      871493       0.78      0.80      0.79       163\n",
      "      871494       0.79      0.82      0.80       115\n",
      "      871495       0.80      0.27      0.40        15\n",
      "      871496       0.87      0.60      0.71        55\n",
      "      871499       0.87      0.70      0.77       168\n",
      "\n",
      "    accuracy                           0.77      1165\n",
      "   macro avg       0.79      0.70      0.72      1165\n",
      "weighted avg       0.78      0.77      0.77      1165\n",
      "\n"
     ]
    },
    {
     "data": {
      "text/plain": [
       "<Figure size 2160x2160 with 0 Axes>"
      ]
     },
     "metadata": {},
     "output_type": "display_data"
    },
    {
     "data": {
      "image/png": "[encoded data removed]",
      "text/plain": [
       "<Figure size 432x288 with 2 Axes>"
      ]
     },
     "metadata": {
      "needs_background": "light"
     },
     "output_type": "display_data"
    },
    {
     "name": "stdout",
     "output_type": "stream",
     "text": [
      "[[112  10   3   0   3   3   3   0   1   7]\n",
      " [  5 109   1   0   0   4   6   0   1   1]\n",
      " [  7   8 134   1   5   6   4   0   0   2]\n",
      " [ 10   5   2  30   0   2   1   0   0   2]\n",
      " [  2  13   4   1 129   9   0   0   0   3]\n",
      " [  4   6   4   1  13 130   3   1   1   0]\n",
      " [ 11   4   3   0   1   2  94   0   0   0]\n",
      " [  3   3   0   0   2   0   1   4   0   2]\n",
      " [  2  10   2   0   4   2   2   0  33   0]\n",
      " [ 10  15   9   0   2   8   5   0   2 117]]\n"
     ]
    }
   ],
   "source": [
    "trial4 = Pipeline([\n",
    "    ('vectorizer', TfidfVectorizer()),\n",
    "    ('classifier', KNeighborsClassifier()),\n",
    "])\n",
    " \n",
    "acc = train(trial4, X_train['Desc'], y_train, X_dev['Desc'], y_dev)\n",
    "\n",
    "results.at['KNN-BOW Desc','Accuracy'] = acc"
   ]
  },
  {
   "cell_type": "code",
   "execution_count": 43,
   "id": "accurate-settlement",
   "metadata": {},
   "outputs": [
    {
     "name": "stdout",
     "output_type": "stream",
     "text": [
      "Dev set results:\n",
      "              precision    recall  f1-score   support\n",
      "\n",
      "      871200       0.75      0.73      0.74       142\n",
      "      871410       0.82      0.86      0.84       127\n",
      "      871420       0.85      0.91      0.88       167\n",
      "      871491       0.69      0.46      0.55        52\n",
      "      871492       0.84      0.92      0.88       161\n",
      "      871493       0.89      0.82      0.85       163\n",
      "      871494       0.69      0.92      0.79       115\n",
      "      871495       0.75      0.20      0.32        15\n",
      "      871496       0.90      0.69      0.78        55\n",
      "      871499       0.86      0.78      0.82       168\n",
      "\n",
      "    accuracy                           0.81      1165\n",
      "   macro avg       0.80      0.73      0.74      1165\n",
      "weighted avg       0.82      0.81      0.81      1165\n",
      "\n"
     ]
    },
    {
     "data": {
      "text/plain": [
       "<Figure size 2160x2160 with 0 Axes>"
      ]
     },
     "metadata": {},
     "output_type": "display_data"
    },
    {
     "data": {
      "image/png": "[encoded data removed]",
      "text/plain": [
       "<Figure size 432x288 with 2 Axes>"
      ]
     },
     "metadata": {
      "needs_background": "light"
     },
     "output_type": "display_data"
    },
    {
     "name": "stdout",
     "output_type": "stream",
     "text": [
      "[[104   4   3   4   5   7  10   0   1   4]\n",
      " [  6 109   2   0   1   1   7   0   0   1]\n",
      " [  3   3 152   0   2   0   2   0   1   4]\n",
      " [  6   4   5  24   0   0   6   0   1   6]\n",
      " [  1   3   1   0 148   2   4   0   1   1]\n",
      " [  3   6   2   0  15 133   3   0   0   1]\n",
      " [  3   0   0   2   1   2 106   0   0   1]\n",
      " [  1   0   2   1   3   0   2   3   0   3]\n",
      " [  2   2   3   3   0   0   6   0  38   1]\n",
      " [ 10   2   8   1   2   5   8   1   0 131]]\n"
     ]
    }
   ],
   "source": [
    "trial5 = Pipeline([\n",
    "    ('vectorizer', CountVectorizer()),\n",
    "    ('classifier', KNeighborsClassifier()),\n",
    "])\n",
    " \n",
    "acc = train(trial5, X_train['Desc'], y_train, X_dev['Desc'], y_dev)\n",
    "\n",
    "results.at['KNN-tfidf Desc','Accuracy'] = acc"
   ]
  },
  {
   "cell_type": "code",
   "execution_count": 44,
   "id": "intended-publisher",
   "metadata": {},
   "outputs": [
    {
     "name": "stdout",
     "output_type": "stream",
     "text": [
      "Dev set results:\n",
      "              precision    recall  f1-score   support\n",
      "\n",
      "      871200       0.76      0.85      0.80       142\n",
      "      871410       0.93      0.89      0.91       127\n",
      "      871420       0.91      0.94      0.92       167\n",
      "      871491       0.91      0.60      0.72        52\n",
      "      871492       0.89      0.94      0.92       161\n",
      "      871493       0.91      0.91      0.91       163\n",
      "      871494       0.86      0.89      0.87       115\n",
      "      871495       0.80      0.27      0.40        15\n",
      "      871496       0.98      0.84      0.90        55\n",
      "      871499       0.82      0.87      0.85       168\n",
      "\n",
      "    accuracy                           0.87      1165\n",
      "   macro avg       0.88      0.80      0.82      1165\n",
      "weighted avg       0.88      0.87      0.87      1165\n",
      "\n"
     ]
    },
    {
     "data": {
      "text/plain": [
       "<Figure size 2160x2160 with 0 Axes>"
      ]
     },
     "metadata": {},
     "output_type": "display_data"
    },
    {
     "data": {
      "image/png": "[encoded data removed]",
      "text/plain": [
       "<Figure size 432x288 with 2 Axes>"
      ]
     },
     "metadata": {
      "needs_background": "light"
     },
     "output_type": "display_data"
    },
    {
     "name": "stdout",
     "output_type": "stream",
     "text": [
      "[[120   1   4   0   4   3   4   0   0   6]\n",
      " [  4 113   2   0   1   1   2   0   0   4]\n",
      " [  2   1 157   0   4   0   1   0   0   2]\n",
      " [  9   2   2  31   0   1   2   0   0   5]\n",
      " [  1   1   0   0 151   5   0   0   0   3]\n",
      " [  5   0   0   0   5 148   3   0   0   2]\n",
      " [  5   2   0   1   0   2 102   0   0   3]\n",
      " [  3   0   2   0   3   0   1   4   0   2]\n",
      " [  1   0   1   2   0   0   1   0  46   4]\n",
      " [  7   1   5   0   1   3   3   1   1 146]]\n"
     ]
    }
   ],
   "source": [
    "trial6 = Pipeline([\n",
    "    ('vectorizer', CountVectorizer()),\n",
    "    ('classifier',LogisticRegression()),\n",
    "])\n",
    " \n",
    "acc = train(trial6, X_train['Desc'], y_train, X_dev['Desc'], y_dev)\n",
    "\n",
    "results.at['LogReg-BOW Desc','Accuracy'] = acc"
   ]
  },
  {
   "cell_type": "code",
   "execution_count": 45,
   "id": "western-copyright",
   "metadata": {},
   "outputs": [
    {
     "name": "stdout",
     "output_type": "stream",
     "text": [
      "Dev set results:\n",
      "              precision    recall  f1-score   support\n",
      "\n",
      "      871200       0.75      0.85      0.80       142\n",
      "      871410       0.92      0.93      0.93       127\n",
      "      871420       0.87      0.93      0.90       167\n",
      "      871491       1.00      0.58      0.73        52\n",
      "      871492       0.88      0.94      0.91       161\n",
      "      871493       0.88      0.89      0.89       163\n",
      "      871494       0.89      0.86      0.88       115\n",
      "      871495       1.00      0.13      0.24        15\n",
      "      871496       0.94      0.84      0.88        55\n",
      "      871499       0.83      0.85      0.84       168\n",
      "\n",
      "    accuracy                           0.87      1165\n",
      "   macro avg       0.90      0.78      0.80      1165\n",
      "weighted avg       0.87      0.87      0.86      1165\n",
      "\n"
     ]
    },
    {
     "data": {
      "text/plain": [
       "<Figure size 2160x2160 with 0 Axes>"
      ]
     },
     "metadata": {},
     "output_type": "display_data"
    },
    {
     "data": {
      "image/png": "[encoded data removed]",
      "text/plain": [
       "<Figure size 432x288 with 2 Axes>"
      ]
     },
     "metadata": {
      "needs_background": "light"
     },
     "output_type": "display_data"
    },
    {
     "name": "stdout",
     "output_type": "stream",
     "text": [
      "[[120   1   5   0   4   5   3   0   0   4]\n",
      " [  4 118   2   0   0   0   1   0   1   1]\n",
      " [  0   1 155   0   4   1   2   0   1   3]\n",
      " [ 10   3   2  30   0   0   1   0   0   6]\n",
      " [  1   1   0   0 151   5   0   0   0   3]\n",
      " [  5   0   0   0   9 145   2   0   0   2]\n",
      " [  8   2   1   0   0   2  99   0   0   3]\n",
      " [  3   1   2   0   2   0   0   2   0   5]\n",
      " [  2   0   2   0   0   1   1   0  46   3]\n",
      " [  6   1   9   0   1   5   2   0   1 143]]\n"
     ]
    }
   ],
   "source": [
    "trial7 = Pipeline([\n",
    "    ('vectorizer', TfidfVectorizer()),\n",
    "    ('classifier',LogisticRegression()),\n",
    "])\n",
    " \n",
    "acc = train(trial7, X_train['Desc'], y_train, X_dev['Desc'], y_dev)\n",
    "\n",
    "results.at['LogReg-tfidf Desc','Accuracy'] = acc"
   ]
  },
  {
   "cell_type": "code",
   "execution_count": 46,
   "id": "documented-handling",
   "metadata": {},
   "outputs": [
    {
     "name": "stdout",
     "output_type": "stream",
     "text": [
      "Dev set results:\n",
      "              precision    recall  f1-score   support\n",
      "\n",
      "      871200       0.79      0.86      0.82       142\n",
      "      871410       0.87      0.92      0.90       127\n",
      "      871420       0.92      0.92      0.92       167\n",
      "      871491       0.96      0.52      0.67        52\n",
      "      871492       0.90      0.94      0.92       161\n",
      "      871493       0.93      0.90      0.92       163\n",
      "      871494       0.90      0.94      0.92       115\n",
      "      871495       1.00      0.27      0.42        15\n",
      "      871496       1.00      0.78      0.88        55\n",
      "      871499       0.77      0.87      0.82       168\n",
      "\n",
      "    accuracy                           0.87      1165\n",
      "   macro avg       0.90      0.79      0.82      1165\n",
      "weighted avg       0.88      0.87      0.87      1165\n",
      "\n"
     ]
    },
    {
     "data": {
      "text/plain": [
       "<Figure size 2160x2160 with 0 Axes>"
      ]
     },
     "metadata": {},
     "output_type": "display_data"
    },
    {
     "data": {
      "image/png": "[encoded data removed]",
      "text/plain": [
       "<Figure size 432x288 with 2 Axes>"
      ]
     },
     "metadata": {
      "needs_background": "light"
     },
     "output_type": "display_data"
    },
    {
     "name": "stdout",
     "output_type": "stream",
     "text": [
      "[[122   1   2   1   4   3   3   0   0   6]\n",
      " [  5 117   2   0   0   0   1   0   0   2]\n",
      " [  3   2 153   0   4   0   2   0   0   3]\n",
      " [  8   3   2  27   0   0   1   0   0  11]\n",
      " [  2   1   0   0 151   3   0   0   0   4]\n",
      " [  4   1   0   0   7 147   2   0   0   2]\n",
      " [  1   2   0   0   0   2 108   0   0   2]\n",
      " [  3   0   0   0   1   0   0   4   0   7]\n",
      " [  1   2   1   0   0   0   1   0  43   7]\n",
      " [  5   5   6   0   1   3   2   0   0 146]]\n"
     ]
    }
   ],
   "source": [
    "trial8 = Pipeline([\n",
    "    ('vectorizer', CountVectorizer()),\n",
    "    ('classifier', SVC()),\n",
    "])\n",
    " \n",
    "acc = train(trial8, X_train['Desc'], y_train, X_dev['Desc'], y_dev)\n",
    "\n",
    "results.at['SVM-BOW Desc','Accuracy'] = acc"
   ]
  },
  {
   "cell_type": "code",
   "execution_count": 47,
   "id": "improving-breeding",
   "metadata": {},
   "outputs": [
    {
     "name": "stdout",
     "output_type": "stream",
     "text": [
      "Dev set results:\n",
      "              precision    recall  f1-score   support\n",
      "\n",
      "      871200       0.80      0.87      0.83       142\n",
      "      871410       0.93      0.93      0.93       127\n",
      "      871420       0.91      0.95      0.93       167\n",
      "      871491       0.97      0.62      0.75        52\n",
      "      871492       0.89      0.94      0.91       161\n",
      "      871493       0.90      0.90      0.90       163\n",
      "      871494       0.91      0.89      0.90       115\n",
      "      871495       1.00      0.27      0.42        15\n",
      "      871496       0.98      0.87      0.92        55\n",
      "      871499       0.82      0.87      0.84       168\n",
      "\n",
      "    accuracy                           0.88      1165\n",
      "   macro avg       0.91      0.81      0.83      1165\n",
      "weighted avg       0.89      0.88      0.88      1165\n",
      "\n"
     ]
    },
    {
     "data": {
      "text/plain": [
       "<Figure size 2160x2160 with 0 Axes>"
      ]
     },
     "metadata": {},
     "output_type": "display_data"
    },
    {
     "data": {
      "image/png": "[encoded data removed]",
      "text/plain": [
       "<Figure size 432x288 with 2 Axes>"
      ]
     },
     "metadata": {
      "needs_background": "light"
     },
     "output_type": "display_data"
    },
    {
     "name": "stdout",
     "output_type": "stream",
     "text": [
      "[[123   1   3   1   4   4   3   0   0   3]\n",
      " [  4 118   1   0   0   1   1   0   0   2]\n",
      " [  0   1 159   0   3   0   2   0   0   2]\n",
      " [  8   2   1  32   0   1   0   0   0   8]\n",
      " [  1   1   0   0 151   4   0   0   0   4]\n",
      " [  4   0   0   0   8 147   1   0   1   2]\n",
      " [  5   3   1   0   0   2 102   0   0   2]\n",
      " [  3   0   1   0   3   0   0   4   0   4]\n",
      " [  0   0   1   0   0   0   1   0  48   5]\n",
      " [  6   1   7   0   1   5   2   0   0 146]]\n"
     ]
    }
   ],
   "source": [
    "trial9 = Pipeline([\n",
    "    ('vectorizer', TfidfVectorizer()),\n",
    "    ('classifier', SVC()),\n",
    "])\n",
    " \n",
    "acc = train(trial9, X_train['Desc'], y_train, X_dev['Desc'], y_dev)\n",
    "\n",
    "results.at['SVM-tfidf Desc','Accuracy'] = acc"
   ]
  },
  {
   "cell_type": "code",
   "execution_count": 48,
   "id": "solved-exploration",
   "metadata": {},
   "outputs": [
    {
     "name": "stdout",
     "output_type": "stream",
     "text": [
      "[03:27:54] WARNING: ../src/learner.cc:1061: Starting in XGBoost 1.3.0, the default evaluation metric used with the objective 'multi:softprob' was changed from 'merror' to 'mlogloss'. Explicitly set eval_metric if you'd like to restore the old behavior.\n",
      "Dev set results:\n",
      "              precision    recall  f1-score   support\n",
      "\n",
      "      871200       0.81      0.82      0.81       142\n",
      "      871410       0.89      0.89      0.89       127\n",
      "      871420       0.92      0.93      0.93       167\n",
      "      871491       0.90      0.67      0.77        52\n",
      "      871492       0.90      0.93      0.92       161\n",
      "      871493       0.91      0.91      0.91       163\n",
      "      871494       0.91      0.93      0.92       115\n",
      "      871495       0.83      0.33      0.48        15\n",
      "      871496       0.92      0.87      0.90        55\n",
      "      871499       0.78      0.85      0.81       168\n",
      "\n",
      "    accuracy                           0.88      1165\n",
      "   macro avg       0.88      0.81      0.83      1165\n",
      "weighted avg       0.88      0.88      0.87      1165\n",
      "\n"
     ]
    },
    {
     "data": {
      "text/plain": [
       "<Figure size 2160x2160 with 0 Axes>"
      ]
     },
     "metadata": {},
     "output_type": "display_data"
    },
    {
     "data": {
      "image/png": "[encoded data removed]",
      "text/plain": [
       "<Figure size 432x288 with 2 Axes>"
      ]
     },
     "metadata": {
      "needs_background": "light"
     },
     "output_type": "display_data"
    },
    {
     "name": "stdout",
     "output_type": "stream",
     "text": [
      "[[116   2   2   1   3   3   4   0   0  11]\n",
      " [  3 113   4   0   1   3   1   0   0   2]\n",
      " [  2   1 155   0   5   0   1   0   1   2]\n",
      " [  8   3   0  35   0   0   0   0   0   6]\n",
      " [  1   0   1   0 150   4   0   0   0   5]\n",
      " [  2   2   0   0   5 149   3   0   1   1]\n",
      " [  1   1   0   1   0   2 107   0   0   3]\n",
      " [  4   0   1   0   1   0   0   5   0   4]\n",
      " [  0   1   1   0   0   0   0   0  48   5]\n",
      " [  7   4   4   2   1   3   2   1   2 142]]\n"
     ]
    }
   ],
   "source": [
    "trial10 = Pipeline([\n",
    "    ('vectorizer', CountVectorizer()),\n",
    "    ('classifier', XGBClassifier()),\n",
    "])\n",
    " \n",
    "acc = train(trial10, X_train['Desc'], y_train, X_dev['Desc'], y_dev)\n",
    "\n",
    "results.at['XGBoost-BOW Desc','Accuracy'] = acc"
   ]
  },
  {
   "cell_type": "code",
   "execution_count": null,
   "id": "imperial-hierarchy",
   "metadata": {},
   "outputs": [
    {
     "name": "stdout",
     "output_type": "stream",
     "text": [
      "[03:28:00] WARNING: ../src/learner.cc:1061: Starting in XGBoost 1.3.0, the default evaluation metric used with the objective 'multi:softprob' was changed from 'merror' to 'mlogloss'. Explicitly set eval_metric if you'd like to restore the old behavior.\n"
     ]
    }
   ],
   "source": [
    "trial11 = Pipeline([\n",
    "    ('vectorizer', TfidfVectorizer()),\n",
    "    ('classifier', XGBClassifier()),\n",
    "])\n",
    " \n",
    "acc = train(trial11, X_train['Desc'], y_train, X_dev['Desc'], y_dev)\n",
    "\n",
    "results.at['XGBoost-tfidf Desc','Accuracy'] = acc"
   ]
  },
  {
   "cell_type": "code",
   "execution_count": 241,
   "id": "existing-saskatchewan",
   "metadata": {},
   "outputs": [
    {
     "name": "stdout",
     "output_type": "stream",
     "text": [
      "Dev set results:\n",
      "              precision    recall  f1-score   support\n",
      "\n",
      "      871200       0.87      0.85      0.86       142\n",
      "      871410       0.88      0.96      0.92       127\n",
      "      871420       0.89      0.95      0.92       167\n",
      "      871491       0.95      0.77      0.85        52\n",
      "      871492       0.90      0.93      0.91       161\n",
      "      871493       0.90      0.90      0.90       163\n",
      "      871494       0.89      0.93      0.91       115\n",
      "      871495       1.00      0.47      0.64        15\n",
      "      871496       0.98      0.85      0.91        55\n",
      "      871499       0.91      0.88      0.89       168\n",
      "\n",
      "    accuracy                           0.90      1165\n",
      "   macro avg       0.92      0.85      0.87      1165\n",
      "weighted avg       0.90      0.90      0.90      1165\n",
      "\n"
     ]
    }
   ],
   "source": [
    "trial12 = Pipeline([\n",
    "    ('vectorizer', CountVectorizer()),\n",
    "    ('classifier', RandomForestClassifier()),\n",
    "])\n",
    " \n",
    "acc = train(trial12, X_train['Desc'], y_train, X_dev['Desc'], y_dev)\n",
    "\n",
    "results.at['RF-BOW Desc','Accuracy'] = acc"
   ]
  },
  {
   "cell_type": "code",
   "execution_count": 242,
   "id": "rental-arlington",
   "metadata": {},
   "outputs": [
    {
     "name": "stdout",
     "output_type": "stream",
     "text": [
      "Dev set results:\n",
      "              precision    recall  f1-score   support\n",
      "\n",
      "      871200       0.86      0.87      0.86       142\n",
      "      871410       0.89      0.95      0.92       127\n",
      "      871420       0.86      0.93      0.90       167\n",
      "      871491       0.93      0.73      0.82        52\n",
      "      871492       0.90      0.93      0.92       161\n",
      "      871493       0.92      0.91      0.92       163\n",
      "      871494       0.91      0.92      0.92       115\n",
      "      871495       0.80      0.27      0.40        15\n",
      "      871496       0.98      0.84      0.90        55\n",
      "      871499       0.88      0.88      0.88       168\n",
      "\n",
      "    accuracy                           0.89      1165\n",
      "   macro avg       0.89      0.82      0.84      1165\n",
      "weighted avg       0.89      0.89      0.89      1165\n",
      "\n"
     ]
    }
   ],
   "source": [
    "trial13 = Pipeline([\n",
    "    ('vectorizer', TfidfVectorizer()),\n",
    "    ('classifier', RandomForestClassifier()),\n",
    "])\n",
    " \n",
    "acc = train(trial13, X_train['Desc'], y_train, X_dev['Desc'], y_dev)\n",
    "\n",
    "results.at['RF-tfidf Desc','Accuracy'] = acc"
   ]
  },
  {
   "cell_type": "code",
   "execution_count": 243,
   "id": "hundred-routine",
   "metadata": {},
   "outputs": [
    {
     "data": {
      "text/html": [
       "<div>\n",
       "<style scoped>\n",
       "    .dataframe tbody tr th:only-of-type {\n",
       "        vertical-align: middle;\n",
       "    }\n",
       "\n",
       "    .dataframe tbody tr th {\n",
       "        vertical-align: top;\n",
       "    }\n",
       "\n",
       "    .dataframe thead th {\n",
       "        text-align: right;\n",
       "    }\n",
       "</style>\n",
       "<table border=\"1\" class=\"dataframe\">\n",
       "  <thead>\n",
       "    <tr style=\"text-align: right;\">\n",
       "      <th></th>\n",
       "      <th>Accuracy</th>\n",
       "    </tr>\n",
       "  </thead>\n",
       "  <tbody>\n",
       "    <tr>\n",
       "      <th>Baseline</th>\n",
       "      <td>0.141048</td>\n",
       "    </tr>\n",
       "    <tr>\n",
       "      <th>NB-BOW Desc</th>\n",
       "      <td>0.816309</td>\n",
       "    </tr>\n",
       "    <tr>\n",
       "      <th>NB-tfidf Desc</th>\n",
       "      <td>0.828326</td>\n",
       "    </tr>\n",
       "    <tr>\n",
       "      <th>KNN-BOW Desc</th>\n",
       "      <td>0.804292</td>\n",
       "    </tr>\n",
       "    <tr>\n",
       "      <th>KNN-tfidf Desc</th>\n",
       "      <td>0.816309</td>\n",
       "    </tr>\n",
       "    <tr>\n",
       "      <th>LogReg-BOW Desc</th>\n",
       "      <td>0.880687</td>\n",
       "    </tr>\n",
       "    <tr>\n",
       "      <th>LogReg-tfidf Desc</th>\n",
       "      <td>0.87382</td>\n",
       "    </tr>\n",
       "    <tr>\n",
       "      <th>SVM-BOW Desc</th>\n",
       "      <td>0.883262</td>\n",
       "    </tr>\n",
       "    <tr>\n",
       "      <th>SVM-tfidf Desc</th>\n",
       "      <td>0.893562</td>\n",
       "    </tr>\n",
       "    <tr>\n",
       "      <th>XGBoost-BOW Desc</th>\n",
       "      <td>0.892704</td>\n",
       "    </tr>\n",
       "    <tr>\n",
       "      <th>XGBoost-tfidf Desc</th>\n",
       "      <td>0.872961</td>\n",
       "    </tr>\n",
       "    <tr>\n",
       "      <th>RF-BOW Desc</th>\n",
       "      <td>0.898712</td>\n",
       "    </tr>\n",
       "    <tr>\n",
       "      <th>RF-tfidf Desc</th>\n",
       "      <td>0.892704</td>\n",
       "    </tr>\n",
       "  </tbody>\n",
       "</table>\n",
       "</div>"
      ],
      "text/plain": [
       "                    Accuracy\n",
       "Baseline            0.141048\n",
       "NB-BOW Desc         0.816309\n",
       "NB-tfidf Desc       0.828326\n",
       "KNN-BOW Desc        0.804292\n",
       "KNN-tfidf Desc      0.816309\n",
       "LogReg-BOW Desc     0.880687\n",
       "LogReg-tfidf Desc   0.87382 \n",
       "SVM-BOW Desc        0.883262\n",
       "SVM-tfidf Desc      0.893562\n",
       "XGBoost-BOW Desc    0.892704\n",
       "XGBoost-tfidf Desc  0.872961\n",
       "RF-BOW Desc         0.898712\n",
       "RF-tfidf Desc       0.892704"
      ]
     },
     "execution_count": 243,
     "metadata": {},
     "output_type": "execute_result"
    }
   ],
   "source": [
    "results"
   ]
  },
  {
   "cell_type": "code",
   "execution_count": 244,
   "id": "stylish-kingston",
   "metadata": {},
   "outputs": [
    {
     "data": {
      "text/plain": [
       "[Text(0, 0, 'Baseline'),\n",
       " Text(0, 0, 'NB-BOW Desc'),\n",
       " Text(0, 0, 'NB-tfidf Desc'),\n",
       " Text(0, 0, 'KNN-BOW Desc'),\n",
       " Text(0, 0, 'KNN-tfidf Desc'),\n",
       " Text(0, 0, 'LogReg-BOW Desc'),\n",
       " Text(0, 0, 'LogReg-tfidf Desc'),\n",
       " Text(0, 0, 'SVM-BOW Desc'),\n",
       " Text(0, 0, 'SVM-tfidf Desc'),\n",
       " Text(0, 0, 'XGBoost-BOW Desc'),\n",
       " Text(0, 0, 'XGBoost-tfidf Desc'),\n",
       " Text(0, 0, 'RF-BOW Desc'),\n",
       " Text(0, 0, 'RF-tfidf Desc')]"
      ]
     },
     "execution_count": 244,
     "metadata": {},
     "output_type": "execute_result"
    },
    {
     "data": {
      "image/png": "[encoded data removed]",
      "text/plain": [
       "<Figure size 432x288 with 1 Axes>"
      ]
     },
     "metadata": {
      "needs_background": "light"
     },
     "output_type": "display_data"
    }
   ],
   "source": [
    "ax = sns.barplot(x=results.index, y=results[\"Accuracy\"])\n",
    "ax.set_xticklabels(ax.get_xticklabels(),rotation=90)"
   ]
  },
  {
   "cell_type": "markdown",
   "id": "silent-chest",
   "metadata": {
    "heading_collapsed": "true"
   },
   "source": [
    "## Work with the BERT embeddings"
   ]
  },
  {
   "cell_type": "code",
   "execution_count": 73,
   "id": "falling-hunter",
   "metadata": {},
   "outputs": [
    {
     "name": "stdout",
     "output_type": "stream",
     "text": [
      "Training knn\n"
     ]
    },
    {
     "ename": "ValueError",
     "evalue": "setting an array element with a sequence.",
     "output_type": "error",
     "traceback": [
      "\u001b[0;31m---------------------------------------------------------------------------\u001b[0m",
      "\u001b[0;31mTypeError\u001b[0m                                 Traceback (most recent call last)",
      "\u001b[0;31mTypeError\u001b[0m: float() argument must be a string or a number, not 'list'",
      "\nThe above exception was the direct cause of the following exception:\n",
      "\u001b[0;31mValueError\u001b[0m                                Traceback (most recent call last)",
      "\u001b[0;32m<ipython-input-73-c2bd0c927271>\u001b[0m in \u001b[0;36m<module>\u001b[0;34m\u001b[0m\n\u001b[1;32m      5\u001b[0m \u001b[0;32mfor\u001b[0m \u001b[0mmodel\u001b[0m\u001b[0;34m,\u001b[0m \u001b[0mcall\u001b[0m \u001b[0;32min\u001b[0m \u001b[0mmodels\u001b[0m\u001b[0;34m.\u001b[0m\u001b[0mitems\u001b[0m\u001b[0;34m(\u001b[0m\u001b[0;34m)\u001b[0m\u001b[0;34m:\u001b[0m\u001b[0;34m\u001b[0m\u001b[0;34m\u001b[0m\u001b[0m\n\u001b[1;32m      6\u001b[0m     \u001b[0mprint\u001b[0m\u001b[0;34m(\u001b[0m\u001b[0;34mf'Training {model}'\u001b[0m\u001b[0;34m)\u001b[0m\u001b[0;34m\u001b[0m\u001b[0;34m\u001b[0m\u001b[0m\n\u001b[0;32m----> 7\u001b[0;31m     \u001b[0mcall\u001b[0m\u001b[0;34m.\u001b[0m\u001b[0mfit\u001b[0m\u001b[0;34m(\u001b[0m\u001b[0mX_train\u001b[0m\u001b[0;34m[\u001b[0m\u001b[0;34m'BERT_Product Desc'\u001b[0m\u001b[0;34m]\u001b[0m\u001b[0;34m,\u001b[0m \u001b[0my_train\u001b[0m\u001b[0;34m)\u001b[0m\u001b[0;34m\u001b[0m\u001b[0;34m\u001b[0m\u001b[0m\n\u001b[0m\u001b[1;32m      8\u001b[0m     \u001b[0mpred\u001b[0m \u001b[0;34m=\u001b[0m \u001b[0mcall\u001b[0m\u001b[0;34m.\u001b[0m\u001b[0mpredict\u001b[0m\u001b[0;34m(\u001b[0m\u001b[0mX_dev\u001b[0m\u001b[0;34m[\u001b[0m\u001b[0;34m'BERT_Product Desc'\u001b[0m\u001b[0;34m]\u001b[0m\u001b[0;34m,\u001b[0m \u001b[0my_dev\u001b[0m\u001b[0;34m)\u001b[0m\u001b[0;34m\u001b[0m\u001b[0;34m\u001b[0m\u001b[0m\n\u001b[1;32m      9\u001b[0m     \u001b[0mprint\u001b[0m\u001b[0;34m(\u001b[0m\u001b[0maccuracy_score\u001b[0m\u001b[0;34m(\u001b[0m\u001b[0my_dev\u001b[0m\u001b[0;34m,\u001b[0m \u001b[0mpred\u001b[0m\u001b[0;34m)\u001b[0m\u001b[0;34m)\u001b[0m\u001b[0;34m\u001b[0m\u001b[0;34m\u001b[0m\u001b[0m\n",
      "\u001b[0;32m/usr/local/lib/python3.8/dist-packages/sklearn/neighbors/_classification.py\u001b[0m in \u001b[0;36mfit\u001b[0;34m(self, X, y)\u001b[0m\n\u001b[1;32m    177\u001b[0m             \u001b[0mThe\u001b[0m \u001b[0mfitted\u001b[0m \u001b[0mk\u001b[0m\u001b[0;34m-\u001b[0m\u001b[0mnearest\u001b[0m \u001b[0mneighbors\u001b[0m \u001b[0mclassifier\u001b[0m\u001b[0;34m.\u001b[0m\u001b[0;34m\u001b[0m\u001b[0;34m\u001b[0m\u001b[0m\n\u001b[1;32m    178\u001b[0m         \"\"\"\n\u001b[0;32m--> 179\u001b[0;31m         \u001b[0;32mreturn\u001b[0m \u001b[0mself\u001b[0m\u001b[0;34m.\u001b[0m\u001b[0m_fit\u001b[0m\u001b[0;34m(\u001b[0m\u001b[0mX\u001b[0m\u001b[0;34m,\u001b[0m \u001b[0my\u001b[0m\u001b[0;34m)\u001b[0m\u001b[0;34m\u001b[0m\u001b[0;34m\u001b[0m\u001b[0m\n\u001b[0m\u001b[1;32m    180\u001b[0m \u001b[0;34m\u001b[0m\u001b[0m\n\u001b[1;32m    181\u001b[0m     \u001b[0;32mdef\u001b[0m \u001b[0mpredict\u001b[0m\u001b[0;34m(\u001b[0m\u001b[0mself\u001b[0m\u001b[0;34m,\u001b[0m \u001b[0mX\u001b[0m\u001b[0;34m)\u001b[0m\u001b[0;34m:\u001b[0m\u001b[0;34m\u001b[0m\u001b[0;34m\u001b[0m\u001b[0m\n",
      "\u001b[0;32m/usr/local/lib/python3.8/dist-packages/sklearn/neighbors/_base.py\u001b[0m in \u001b[0;36m_fit\u001b[0;34m(self, X, y)\u001b[0m\n\u001b[1;32m    361\u001b[0m         \u001b[0;32mif\u001b[0m \u001b[0mself\u001b[0m\u001b[0;34m.\u001b[0m\u001b[0m_get_tags\u001b[0m\u001b[0;34m(\u001b[0m\u001b[0;34m)\u001b[0m\u001b[0;34m[\u001b[0m\u001b[0;34m\"requires_y\"\u001b[0m\u001b[0;34m]\u001b[0m\u001b[0;34m:\u001b[0m\u001b[0;34m\u001b[0m\u001b[0;34m\u001b[0m\u001b[0m\n\u001b[1;32m    362\u001b[0m             \u001b[0;32mif\u001b[0m \u001b[0;32mnot\u001b[0m \u001b[0misinstance\u001b[0m\u001b[0;34m(\u001b[0m\u001b[0mX\u001b[0m\u001b[0;34m,\u001b[0m \u001b[0;34m(\u001b[0m\u001b[0mKDTree\u001b[0m\u001b[0;34m,\u001b[0m \u001b[0mBallTree\u001b[0m\u001b[0;34m,\u001b[0m \u001b[0mNeighborsBase\u001b[0m\u001b[0;34m)\u001b[0m\u001b[0;34m)\u001b[0m\u001b[0;34m:\u001b[0m\u001b[0;34m\u001b[0m\u001b[0;34m\u001b[0m\u001b[0m\n\u001b[0;32m--> 363\u001b[0;31m                 X, y = self._validate_data(X, y, accept_sparse=\"csr\",\n\u001b[0m\u001b[1;32m    364\u001b[0m                                            multi_output=True)\n\u001b[1;32m    365\u001b[0m \u001b[0;34m\u001b[0m\u001b[0m\n",
      "\u001b[0;32m/usr/local/lib/python3.8/dist-packages/sklearn/base.py\u001b[0m in \u001b[0;36m_validate_data\u001b[0;34m(self, X, y, reset, validate_separately, **check_params)\u001b[0m\n\u001b[1;32m    431\u001b[0m                 \u001b[0my\u001b[0m \u001b[0;34m=\u001b[0m \u001b[0mcheck_array\u001b[0m\u001b[0;34m(\u001b[0m\u001b[0my\u001b[0m\u001b[0;34m,\u001b[0m \u001b[0;34m**\u001b[0m\u001b[0mcheck_y_params\u001b[0m\u001b[0;34m)\u001b[0m\u001b[0;34m\u001b[0m\u001b[0;34m\u001b[0m\u001b[0m\n\u001b[1;32m    432\u001b[0m             \u001b[0;32melse\u001b[0m\u001b[0;34m:\u001b[0m\u001b[0;34m\u001b[0m\u001b[0;34m\u001b[0m\u001b[0m\n\u001b[0;32m--> 433\u001b[0;31m                 \u001b[0mX\u001b[0m\u001b[0;34m,\u001b[0m \u001b[0my\u001b[0m \u001b[0;34m=\u001b[0m \u001b[0mcheck_X_y\u001b[0m\u001b[0;34m(\u001b[0m\u001b[0mX\u001b[0m\u001b[0;34m,\u001b[0m \u001b[0my\u001b[0m\u001b[0;34m,\u001b[0m \u001b[0;34m**\u001b[0m\u001b[0mcheck_params\u001b[0m\u001b[0;34m)\u001b[0m\u001b[0;34m\u001b[0m\u001b[0;34m\u001b[0m\u001b[0m\n\u001b[0m\u001b[1;32m    434\u001b[0m             \u001b[0mout\u001b[0m \u001b[0;34m=\u001b[0m \u001b[0mX\u001b[0m\u001b[0;34m,\u001b[0m \u001b[0my\u001b[0m\u001b[0;34m\u001b[0m\u001b[0;34m\u001b[0m\u001b[0m\n\u001b[1;32m    435\u001b[0m \u001b[0;34m\u001b[0m\u001b[0m\n",
      "\u001b[0;32m/usr/local/lib/python3.8/dist-packages/sklearn/utils/validation.py\u001b[0m in \u001b[0;36minner_f\u001b[0;34m(*args, **kwargs)\u001b[0m\n\u001b[1;32m     61\u001b[0m             \u001b[0mextra_args\u001b[0m \u001b[0;34m=\u001b[0m \u001b[0mlen\u001b[0m\u001b[0;34m(\u001b[0m\u001b[0margs\u001b[0m\u001b[0;34m)\u001b[0m \u001b[0;34m-\u001b[0m \u001b[0mlen\u001b[0m\u001b[0;34m(\u001b[0m\u001b[0mall_args\u001b[0m\u001b[0;34m)\u001b[0m\u001b[0;34m\u001b[0m\u001b[0;34m\u001b[0m\u001b[0m\n\u001b[1;32m     62\u001b[0m             \u001b[0;32mif\u001b[0m \u001b[0mextra_args\u001b[0m \u001b[0;34m<=\u001b[0m \u001b[0;36m0\u001b[0m\u001b[0;34m:\u001b[0m\u001b[0;34m\u001b[0m\u001b[0;34m\u001b[0m\u001b[0m\n\u001b[0;32m---> 63\u001b[0;31m                 \u001b[0;32mreturn\u001b[0m \u001b[0mf\u001b[0m\u001b[0;34m(\u001b[0m\u001b[0;34m*\u001b[0m\u001b[0margs\u001b[0m\u001b[0;34m,\u001b[0m \u001b[0;34m**\u001b[0m\u001b[0mkwargs\u001b[0m\u001b[0;34m)\u001b[0m\u001b[0;34m\u001b[0m\u001b[0;34m\u001b[0m\u001b[0m\n\u001b[0m\u001b[1;32m     64\u001b[0m \u001b[0;34m\u001b[0m\u001b[0m\n\u001b[1;32m     65\u001b[0m             \u001b[0;31m# extra_args > 0\u001b[0m\u001b[0;34m\u001b[0m\u001b[0;34m\u001b[0m\u001b[0;34m\u001b[0m\u001b[0m\n",
      "\u001b[0;32m/usr/local/lib/python3.8/dist-packages/sklearn/utils/validation.py\u001b[0m in \u001b[0;36mcheck_X_y\u001b[0;34m(X, y, accept_sparse, accept_large_sparse, dtype, order, copy, force_all_finite, ensure_2d, allow_nd, multi_output, ensure_min_samples, ensure_min_features, y_numeric, estimator)\u001b[0m\n\u001b[1;32m    812\u001b[0m         \u001b[0;32mraise\u001b[0m \u001b[0mValueError\u001b[0m\u001b[0;34m(\u001b[0m\u001b[0;34m\"y cannot be None\"\u001b[0m\u001b[0;34m)\u001b[0m\u001b[0;34m\u001b[0m\u001b[0;34m\u001b[0m\u001b[0m\n\u001b[1;32m    813\u001b[0m \u001b[0;34m\u001b[0m\u001b[0m\n\u001b[0;32m--> 814\u001b[0;31m     X = check_array(X, accept_sparse=accept_sparse,\n\u001b[0m\u001b[1;32m    815\u001b[0m                     \u001b[0maccept_large_sparse\u001b[0m\u001b[0;34m=\u001b[0m\u001b[0maccept_large_sparse\u001b[0m\u001b[0;34m,\u001b[0m\u001b[0;34m\u001b[0m\u001b[0;34m\u001b[0m\u001b[0m\n\u001b[1;32m    816\u001b[0m                     \u001b[0mdtype\u001b[0m\u001b[0;34m=\u001b[0m\u001b[0mdtype\u001b[0m\u001b[0;34m,\u001b[0m \u001b[0morder\u001b[0m\u001b[0;34m=\u001b[0m\u001b[0morder\u001b[0m\u001b[0;34m,\u001b[0m \u001b[0mcopy\u001b[0m\u001b[0;34m=\u001b[0m\u001b[0mcopy\u001b[0m\u001b[0;34m,\u001b[0m\u001b[0;34m\u001b[0m\u001b[0;34m\u001b[0m\u001b[0m\n",
      "\u001b[0;32m/usr/local/lib/python3.8/dist-packages/sklearn/utils/validation.py\u001b[0m in \u001b[0;36minner_f\u001b[0;34m(*args, **kwargs)\u001b[0m\n\u001b[1;32m     61\u001b[0m             \u001b[0mextra_args\u001b[0m \u001b[0;34m=\u001b[0m \u001b[0mlen\u001b[0m\u001b[0;34m(\u001b[0m\u001b[0margs\u001b[0m\u001b[0;34m)\u001b[0m \u001b[0;34m-\u001b[0m \u001b[0mlen\u001b[0m\u001b[0;34m(\u001b[0m\u001b[0mall_args\u001b[0m\u001b[0;34m)\u001b[0m\u001b[0;34m\u001b[0m\u001b[0;34m\u001b[0m\u001b[0m\n\u001b[1;32m     62\u001b[0m             \u001b[0;32mif\u001b[0m \u001b[0mextra_args\u001b[0m \u001b[0;34m<=\u001b[0m \u001b[0;36m0\u001b[0m\u001b[0;34m:\u001b[0m\u001b[0;34m\u001b[0m\u001b[0;34m\u001b[0m\u001b[0m\n\u001b[0;32m---> 63\u001b[0;31m                 \u001b[0;32mreturn\u001b[0m \u001b[0mf\u001b[0m\u001b[0;34m(\u001b[0m\u001b[0;34m*\u001b[0m\u001b[0margs\u001b[0m\u001b[0;34m,\u001b[0m \u001b[0;34m**\u001b[0m\u001b[0mkwargs\u001b[0m\u001b[0;34m)\u001b[0m\u001b[0;34m\u001b[0m\u001b[0;34m\u001b[0m\u001b[0m\n\u001b[0m\u001b[1;32m     64\u001b[0m \u001b[0;34m\u001b[0m\u001b[0m\n\u001b[1;32m     65\u001b[0m             \u001b[0;31m# extra_args > 0\u001b[0m\u001b[0;34m\u001b[0m\u001b[0;34m\u001b[0m\u001b[0;34m\u001b[0m\u001b[0m\n",
      "\u001b[0;32m/usr/local/lib/python3.8/dist-packages/sklearn/utils/validation.py\u001b[0m in \u001b[0;36mcheck_array\u001b[0;34m(array, accept_sparse, accept_large_sparse, dtype, order, copy, force_all_finite, ensure_2d, allow_nd, ensure_min_samples, ensure_min_features, estimator)\u001b[0m\n\u001b[1;32m    614\u001b[0m                     \u001b[0marray\u001b[0m \u001b[0;34m=\u001b[0m \u001b[0marray\u001b[0m\u001b[0;34m.\u001b[0m\u001b[0mastype\u001b[0m\u001b[0;34m(\u001b[0m\u001b[0mdtype\u001b[0m\u001b[0;34m,\u001b[0m \u001b[0mcasting\u001b[0m\u001b[0;34m=\u001b[0m\u001b[0;34m\"unsafe\"\u001b[0m\u001b[0;34m,\u001b[0m \u001b[0mcopy\u001b[0m\u001b[0;34m=\u001b[0m\u001b[0;32mFalse\u001b[0m\u001b[0;34m)\u001b[0m\u001b[0;34m\u001b[0m\u001b[0;34m\u001b[0m\u001b[0m\n\u001b[1;32m    615\u001b[0m                 \u001b[0;32melse\u001b[0m\u001b[0;34m:\u001b[0m\u001b[0;34m\u001b[0m\u001b[0;34m\u001b[0m\u001b[0m\n\u001b[0;32m--> 616\u001b[0;31m                     \u001b[0marray\u001b[0m \u001b[0;34m=\u001b[0m \u001b[0mnp\u001b[0m\u001b[0;34m.\u001b[0m\u001b[0masarray\u001b[0m\u001b[0;34m(\u001b[0m\u001b[0marray\u001b[0m\u001b[0;34m,\u001b[0m \u001b[0morder\u001b[0m\u001b[0;34m=\u001b[0m\u001b[0morder\u001b[0m\u001b[0;34m,\u001b[0m \u001b[0mdtype\u001b[0m\u001b[0;34m=\u001b[0m\u001b[0mdtype\u001b[0m\u001b[0;34m)\u001b[0m\u001b[0;34m\u001b[0m\u001b[0;34m\u001b[0m\u001b[0m\n\u001b[0m\u001b[1;32m    617\u001b[0m             \u001b[0;32mexcept\u001b[0m \u001b[0mComplexWarning\u001b[0m \u001b[0;32mas\u001b[0m \u001b[0mcomplex_warning\u001b[0m\u001b[0;34m:\u001b[0m\u001b[0;34m\u001b[0m\u001b[0;34m\u001b[0m\u001b[0m\n\u001b[1;32m    618\u001b[0m                 raise ValueError(\"Complex data not supported\\n\"\n",
      "\u001b[0;32m/usr/local/lib/python3.8/dist-packages/numpy/core/_asarray.py\u001b[0m in \u001b[0;36masarray\u001b[0;34m(a, dtype, order)\u001b[0m\n\u001b[1;32m     81\u001b[0m \u001b[0;34m\u001b[0m\u001b[0m\n\u001b[1;32m     82\u001b[0m     \"\"\"\n\u001b[0;32m---> 83\u001b[0;31m     \u001b[0;32mreturn\u001b[0m \u001b[0marray\u001b[0m\u001b[0;34m(\u001b[0m\u001b[0ma\u001b[0m\u001b[0;34m,\u001b[0m \u001b[0mdtype\u001b[0m\u001b[0;34m,\u001b[0m \u001b[0mcopy\u001b[0m\u001b[0;34m=\u001b[0m\u001b[0;32mFalse\u001b[0m\u001b[0;34m,\u001b[0m \u001b[0morder\u001b[0m\u001b[0;34m=\u001b[0m\u001b[0morder\u001b[0m\u001b[0;34m)\u001b[0m\u001b[0;34m\u001b[0m\u001b[0;34m\u001b[0m\u001b[0m\n\u001b[0m\u001b[1;32m     84\u001b[0m \u001b[0;34m\u001b[0m\u001b[0m\n\u001b[1;32m     85\u001b[0m \u001b[0;34m\u001b[0m\u001b[0m\n",
      "\u001b[0;32m/usr/local/lib/python3.8/dist-packages/pandas/core/series.py\u001b[0m in \u001b[0;36m__array__\u001b[0;34m(self, dtype)\u001b[0m\n\u001b[1;32m    764\u001b[0m               dtype='datetime64[ns]')\n\u001b[1;32m    765\u001b[0m         \"\"\"\n\u001b[0;32m--> 766\u001b[0;31m         \u001b[0;32mreturn\u001b[0m \u001b[0mnp\u001b[0m\u001b[0;34m.\u001b[0m\u001b[0masarray\u001b[0m\u001b[0;34m(\u001b[0m\u001b[0mself\u001b[0m\u001b[0;34m.\u001b[0m\u001b[0marray\u001b[0m\u001b[0;34m,\u001b[0m \u001b[0mdtype\u001b[0m\u001b[0;34m)\u001b[0m\u001b[0;34m\u001b[0m\u001b[0;34m\u001b[0m\u001b[0m\n\u001b[0m\u001b[1;32m    767\u001b[0m \u001b[0;34m\u001b[0m\u001b[0m\n\u001b[1;32m    768\u001b[0m     \u001b[0;31m# ----------------------------------------------------------------------\u001b[0m\u001b[0;34m\u001b[0m\u001b[0;34m\u001b[0m\u001b[0;34m\u001b[0m\u001b[0m\n",
      "\u001b[0;32m/usr/local/lib/python3.8/dist-packages/numpy/core/_asarray.py\u001b[0m in \u001b[0;36masarray\u001b[0;34m(a, dtype, order)\u001b[0m\n\u001b[1;32m     81\u001b[0m \u001b[0;34m\u001b[0m\u001b[0m\n\u001b[1;32m     82\u001b[0m     \"\"\"\n\u001b[0;32m---> 83\u001b[0;31m     \u001b[0;32mreturn\u001b[0m \u001b[0marray\u001b[0m\u001b[0;34m(\u001b[0m\u001b[0ma\u001b[0m\u001b[0;34m,\u001b[0m \u001b[0mdtype\u001b[0m\u001b[0;34m,\u001b[0m \u001b[0mcopy\u001b[0m\u001b[0;34m=\u001b[0m\u001b[0;32mFalse\u001b[0m\u001b[0;34m,\u001b[0m \u001b[0morder\u001b[0m\u001b[0;34m=\u001b[0m\u001b[0morder\u001b[0m\u001b[0;34m)\u001b[0m\u001b[0;34m\u001b[0m\u001b[0;34m\u001b[0m\u001b[0m\n\u001b[0m\u001b[1;32m     84\u001b[0m \u001b[0;34m\u001b[0m\u001b[0m\n\u001b[1;32m     85\u001b[0m \u001b[0;34m\u001b[0m\u001b[0m\n",
      "\u001b[0;32m/usr/local/lib/python3.8/dist-packages/pandas/core/arrays/numpy_.py\u001b[0m in \u001b[0;36m__array__\u001b[0;34m(self, dtype)\u001b[0m\n\u001b[1;32m    201\u001b[0m \u001b[0;34m\u001b[0m\u001b[0m\n\u001b[1;32m    202\u001b[0m     \u001b[0;32mdef\u001b[0m \u001b[0m__array__\u001b[0m\u001b[0;34m(\u001b[0m\u001b[0mself\u001b[0m\u001b[0;34m,\u001b[0m \u001b[0mdtype\u001b[0m\u001b[0;34m=\u001b[0m\u001b[0;32mNone\u001b[0m\u001b[0;34m)\u001b[0m \u001b[0;34m->\u001b[0m \u001b[0mnp\u001b[0m\u001b[0;34m.\u001b[0m\u001b[0mndarray\u001b[0m\u001b[0;34m:\u001b[0m\u001b[0;34m\u001b[0m\u001b[0;34m\u001b[0m\u001b[0m\n\u001b[0;32m--> 203\u001b[0;31m         \u001b[0;32mreturn\u001b[0m \u001b[0mnp\u001b[0m\u001b[0;34m.\u001b[0m\u001b[0masarray\u001b[0m\u001b[0;34m(\u001b[0m\u001b[0mself\u001b[0m\u001b[0;34m.\u001b[0m\u001b[0m_ndarray\u001b[0m\u001b[0;34m,\u001b[0m \u001b[0mdtype\u001b[0m\u001b[0;34m=\u001b[0m\u001b[0mdtype\u001b[0m\u001b[0;34m)\u001b[0m\u001b[0;34m\u001b[0m\u001b[0;34m\u001b[0m\u001b[0m\n\u001b[0m\u001b[1;32m    204\u001b[0m \u001b[0;34m\u001b[0m\u001b[0m\n\u001b[1;32m    205\u001b[0m     \u001b[0m_HANDLED_TYPES\u001b[0m \u001b[0;34m=\u001b[0m \u001b[0;34m(\u001b[0m\u001b[0mnp\u001b[0m\u001b[0;34m.\u001b[0m\u001b[0mndarray\u001b[0m\u001b[0;34m,\u001b[0m \u001b[0mnumbers\u001b[0m\u001b[0;34m.\u001b[0m\u001b[0mNumber\u001b[0m\u001b[0;34m)\u001b[0m\u001b[0;34m\u001b[0m\u001b[0;34m\u001b[0m\u001b[0m\n",
      "\u001b[0;32m/usr/local/lib/python3.8/dist-packages/numpy/core/_asarray.py\u001b[0m in \u001b[0;36masarray\u001b[0;34m(a, dtype, order)\u001b[0m\n\u001b[1;32m     81\u001b[0m \u001b[0;34m\u001b[0m\u001b[0m\n\u001b[1;32m     82\u001b[0m     \"\"\"\n\u001b[0;32m---> 83\u001b[0;31m     \u001b[0;32mreturn\u001b[0m \u001b[0marray\u001b[0m\u001b[0;34m(\u001b[0m\u001b[0ma\u001b[0m\u001b[0;34m,\u001b[0m \u001b[0mdtype\u001b[0m\u001b[0;34m,\u001b[0m \u001b[0mcopy\u001b[0m\u001b[0;34m=\u001b[0m\u001b[0;32mFalse\u001b[0m\u001b[0;34m,\u001b[0m \u001b[0morder\u001b[0m\u001b[0;34m=\u001b[0m\u001b[0morder\u001b[0m\u001b[0;34m)\u001b[0m\u001b[0;34m\u001b[0m\u001b[0;34m\u001b[0m\u001b[0m\n\u001b[0m\u001b[1;32m     84\u001b[0m \u001b[0;34m\u001b[0m\u001b[0m\n\u001b[1;32m     85\u001b[0m \u001b[0;34m\u001b[0m\u001b[0m\n",
      "\u001b[0;31mValueError\u001b[0m: setting an array element with a sequence."
     ]
    }
   ],
   "source": [
    "models = {\n",
    "    'knn' : KNeighborsClassifier(), 'logit' : LogisticRegression(), 'svm': SVC()\n",
    "}\n",
    "\n",
    "for model, call in models.items():\n",
    "    print(f'Training {model}')\n",
    "    call.fit(X_train['BERT_Product Desc'], y_train)\n",
    "    pred = call.predict(X_dev['BERT_Product Desc'], y_dev)\n",
    "    print(accuracy_score(y_dev, pred))\n",
    "    print()"
   ]
  },
  {
   "cell_type": "code",
   "execution_count": null,
   "id": "dress-jaguar",
   "metadata": {},
   "outputs": [],
   "source": []
  }
 ],
 "metadata": {
  "kernelspec": {
   "display_name": "Python 3",
   "language": "python",
   "name": "python3"
  },
  "language_info": {
   "codemirror_mode": {
    "name": "ipython",
    "version": 3
   },
   "file_extension": ".py",
   "mimetype": "text/x-python",
   "name": "python",
   "nbconvert_exporter": "python",
   "pygments_lexer": "ipython3",
   "version": "3.8.5"
  }
 },
 "nbformat": 4,
 "nbformat_minor": 5
}
