{
 "cells": [
  {
   "cell_type": "markdown",
   "id": "cognitive-component",
   "metadata": {},
   "source": [
    "*Best Practices* https://docs.dask.org/en/latest/best-practices.html"
   ]
  },
  {
   "cell_type": "markdown",
   "id": "aquatic-reduction",
   "metadata": {},
   "source": [
    "# Example Notebook"
   ]
  },
  {
   "cell_type": "code",
   "execution_count": null,
   "id": "conventional-noise",
   "metadata": {},
   "outputs": [],
   "source": [
    "!ls /data/common/trade_data"
   ]
  },
  {
   "cell_type": "code",
   "execution_count": 2,
   "id": "impossible-bottom",
   "metadata": {},
   "outputs": [],
   "source": [
    "import pandas as pd\n",
    "import numpy as np\n",
    "import re\n",
    "import dask.dataframe as ddf\n",
    "from math import nan\n",
    "import panel as pn\n",
    "import dask\n",
    "import dask.dataframe as dd\n",
    "from dask.delayed import delayed\n",
    "import seaborn as sns\n",
    "import matplotlib.pyplot as plt\n",
    "import graphviz\n",
    "from datascroller import scroll\n",
    "\n",
    "from dask.diagnostics import ProgressBar\n",
    "ProgressBar().register()"
   ]
  },
  {
   "cell_type": "markdown",
   "id": "false-cotton",
   "metadata": {},
   "source": [
    "# Customs Data"
   ]
  },
  {
   "cell_type": "code",
   "execution_count": 6,
   "id": "infectious-comedy",
   "metadata": {},
   "outputs": [
    {
     "name": "stdout",
     "output_type": "stream",
     "text": [
      "[########################################] | 100% Completed |  1min 56.8s\n"
     ]
    },
    {
     "data": {
      "text/plain": [
       "421"
      ]
     },
     "execution_count": 6,
     "metadata": {},
     "output_type": "execute_result"
    }
   ],
   "source": [
    "import_cust_df = dd.read_parquet('/data/common/trade_data/2019/parquet/*.parq', engine='fastparquet', chunksize=\"100MB\")\n",
    "import_cust_df = import_cust_df.repartition(partition_size=\"100MB\")\n",
    "import_cust_df.npartitions"
   ]
  },
  {
   "cell_type": "code",
   "execution_count": 7,
   "id": "clear-reynolds",
   "metadata": {},
   "outputs": [
    {
     "name": "stdout",
     "output_type": "stream",
     "text": [
      "[########################################] | 100% Completed |  6.0s\n"
     ]
    },
    {
     "data": {
      "text/html": [
       "<div>\n",
       "<style scoped>\n",
       "    .dataframe tbody tr th:only-of-type {\n",
       "        vertical-align: middle;\n",
       "    }\n",
       "\n",
       "    .dataframe tbody tr th {\n",
       "        vertical-align: top;\n",
       "    }\n",
       "\n",
       "    .dataframe thead th {\n",
       "        text-align: right;\n",
       "    }\n",
       "</style>\n",
       "<table border=\"1\" class=\"dataframe\">\n",
       "  <thead>\n",
       "    <tr style=\"text-align: right;\">\n",
       "      <th></th>\n",
       "      <th>System Identity Id</th>\n",
       "      <th>Estimate Arrival Date</th>\n",
       "      <th>Actual Arrival Date</th>\n",
       "      <th>Bill of Lading</th>\n",
       "      <th>Master Bill of Lading</th>\n",
       "      <th>Bill Type Code</th>\n",
       "      <th>Carrier SASC Code</th>\n",
       "      <th>Vessel Country Code</th>\n",
       "      <th>Vessel Code</th>\n",
       "      <th>Vessel Name</th>\n",
       "      <th>...</th>\n",
       "      <th>Raw Notify Party Addr4</th>\n",
       "      <th>Raw Notify Party Addr Others</th>\n",
       "      <th>Product Desc</th>\n",
       "      <th>Marks &amp; Numbers</th>\n",
       "      <th>HS Code</th>\n",
       "      <th>HS Code Sure Level</th>\n",
       "      <th>CIF</th>\n",
       "      <th>Indicator of true supplier</th>\n",
       "      <th>Indicator of true buyer</th>\n",
       "      <th>END</th>\n",
       "    </tr>\n",
       "  </thead>\n",
       "  <tbody>\n",
       "    <tr>\n",
       "      <th>0</th>\n",
       "      <td>6003201901310000026837</td>\n",
       "      <td>20190106</td>\n",
       "      <td>20190108</td>\n",
       "      <td>APLULMY0101580</td>\n",
       "      <td>None</td>\n",
       "      <td>R</td>\n",
       "      <td>APLU, AMERICAN PRESIDENT LINES LTD</td>\n",
       "      <td>SG</td>\n",
       "      <td>9462017</td>\n",
       "      <td>APL SOUTHAMPTON</td>\n",
       "      <td>...</td>\n",
       "      <td>None</td>\n",
       "      <td>None</td>\n",
       "      <td>SOUNDBAR 500,AST,BLACK - 612 UNITS SOUNDBAR 70...</td>\n",
       "      <td>TOTAL 40 PACKAGES&lt;br/&gt;</td>\n",
       "      <td>321511</td>\n",
       "      <td>5</td>\n",
       "      <td>0.0</td>\n",
       "      <td>Y</td>\n",
       "      <td>Y</td>\n",
       "      <td>END</td>\n",
       "    </tr>\n",
       "    <tr>\n",
       "      <th>1</th>\n",
       "      <td>6003201901310000026875</td>\n",
       "      <td>20181230</td>\n",
       "      <td>20190105</td>\n",
       "      <td>UASI7796618863</td>\n",
       "      <td>YMLUW232286499</td>\n",
       "      <td>H</td>\n",
       "      <td>UASI</td>\n",
       "      <td>PA</td>\n",
       "      <td>9395159</td>\n",
       "      <td>HAMBURG BRIDGE</td>\n",
       "      <td>...</td>\n",
       "      <td>None</td>\n",
       "      <td>None</td>\n",
       "      <td>TOASTMASTER ELECTRIC GIDDLE 1020 BLACK&lt;br/&gt;</td>\n",
       "      <td>NM&lt;br/&gt;</td>\n",
       "      <td>321511</td>\n",
       "      <td>5</td>\n",
       "      <td>0.0</td>\n",
       "      <td>Y</td>\n",
       "      <td>Y</td>\n",
       "      <td>END</td>\n",
       "    </tr>\n",
       "    <tr>\n",
       "      <th>2</th>\n",
       "      <td>6003201901310000026925</td>\n",
       "      <td>20181230</td>\n",
       "      <td>20190114</td>\n",
       "      <td>DSVFCO30000677</td>\n",
       "      <td>YMLUE510009910</td>\n",
       "      <td>H</td>\n",
       "      <td>DSVF</td>\n",
       "      <td>MH</td>\n",
       "      <td>9635676</td>\n",
       "      <td>ALEXANDRA</td>\n",
       "      <td>...</td>\n",
       "      <td>None</td>\n",
       "      <td>None</td>\n",
       "      <td>6 PACKAGES ROSEWOOD VENEERS - 3000&lt;br/&gt;</td>\n",
       "      <td>TAYLOR/GMD EL CAJON CERTIFICATE NO : 249/WCC B...</td>\n",
       "      <td>870323</td>\n",
       "      <td>5</td>\n",
       "      <td>0.0</td>\n",
       "      <td>Y</td>\n",
       "      <td>Y</td>\n",
       "      <td>END</td>\n",
       "    </tr>\n",
       "    <tr>\n",
       "      <th>3</th>\n",
       "      <td>6003201901310000027021</td>\n",
       "      <td>20190102</td>\n",
       "      <td>20190105</td>\n",
       "      <td>EGLV002800582698</td>\n",
       "      <td>None</td>\n",
       "      <td>R</td>\n",
       "      <td>EGLV, EAGLE VAN LINES INC</td>\n",
       "      <td>GB</td>\n",
       "      <td>9595436</td>\n",
       "      <td>EVER LAMBENT</td>\n",
       "      <td>...</td>\n",
       "      <td>None</td>\n",
       "      <td>None</td>\n",
       "      <td>WILLOUGHBY TRAY LARGE C-2 WALNUT WOODEN FURNIT...</td>\n",
       "      <td>SKU. SKU. VENDOR NO. 26997 NO. 20 SANCENG LANE...</td>\n",
       "      <td>442199</td>\n",
       "      <td>8</td>\n",
       "      <td>0.0</td>\n",
       "      <td>Y</td>\n",
       "      <td>Y</td>\n",
       "      <td>END</td>\n",
       "    </tr>\n",
       "    <tr>\n",
       "      <th>4</th>\n",
       "      <td>6003201901310000027128</td>\n",
       "      <td>20190105</td>\n",
       "      <td>20190110</td>\n",
       "      <td>SVDL2603217436</td>\n",
       "      <td>APLUAZT0101648</td>\n",
       "      <td>H</td>\n",
       "      <td>SVDL, SAVINO DEL BENE S P A</td>\n",
       "      <td>LR</td>\n",
       "      <td>TOLTEN</td>\n",
       "      <td>TOLTEN</td>\n",
       "      <td>...</td>\n",
       "      <td>None</td>\n",
       "      <td>MILANO MI 20126 IT</td>\n",
       "      <td>CABLES COMPOUND&lt;br/&gt;</td>\n",
       "      <td>PRYSMIAN CABLES AND SYSTEMS USA LLC&lt;br/&gt;</td>\n",
       "      <td>901190</td>\n",
       "      <td>5</td>\n",
       "      <td>0.0</td>\n",
       "      <td>Y</td>\n",
       "      <td>Y</td>\n",
       "      <td>END</td>\n",
       "    </tr>\n",
       "    <tr>\n",
       "      <th>5</th>\n",
       "      <td>6003201901310000027136</td>\n",
       "      <td>20190105</td>\n",
       "      <td>20190110</td>\n",
       "      <td>SVDL2603217442</td>\n",
       "      <td>APLUAZT0101648</td>\n",
       "      <td>H</td>\n",
       "      <td>SVDL, SAVINO DEL BENE S P A</td>\n",
       "      <td>LR</td>\n",
       "      <td>TOLTEN</td>\n",
       "      <td>TOLTEN</td>\n",
       "      <td>...</td>\n",
       "      <td>None</td>\n",
       "      <td>MILANO MI 20126 IT</td>\n",
       "      <td>CABLES COMPOUND&lt;br/&gt;</td>\n",
       "      <td>PRYSMIAN CABLES AND SYSTEMS USA LLC&lt;br/&gt;</td>\n",
       "      <td>901190</td>\n",
       "      <td>5</td>\n",
       "      <td>0.0</td>\n",
       "      <td>Y</td>\n",
       "      <td>Y</td>\n",
       "      <td>END</td>\n",
       "    </tr>\n",
       "    <tr>\n",
       "      <th>6</th>\n",
       "      <td>6003201901310000027144</td>\n",
       "      <td>20190105</td>\n",
       "      <td>20190110</td>\n",
       "      <td>SVDL2603218899</td>\n",
       "      <td>APLUAZT0101648</td>\n",
       "      <td>H</td>\n",
       "      <td>SVDL, SAVINO DEL BENE S P A</td>\n",
       "      <td>LR</td>\n",
       "      <td>TOLTEN</td>\n",
       "      <td>TOLTEN</td>\n",
       "      <td>...</td>\n",
       "      <td>None</td>\n",
       "      <td>MILANO MI 20126 IT</td>\n",
       "      <td>CABLES COMPOUND&lt;br/&gt;</td>\n",
       "      <td>PRYSMIAN CABLES AND SYSTEMS USA LLC&lt;br/&gt;</td>\n",
       "      <td>901190</td>\n",
       "      <td>5</td>\n",
       "      <td>0.0</td>\n",
       "      <td>Y</td>\n",
       "      <td>Y</td>\n",
       "      <td>END</td>\n",
       "    </tr>\n",
       "    <tr>\n",
       "      <th>7</th>\n",
       "      <td>6003201901310000027152</td>\n",
       "      <td>20190105</td>\n",
       "      <td>20190110</td>\n",
       "      <td>SVDL2603218010</td>\n",
       "      <td>APLUAZT0101648</td>\n",
       "      <td>H</td>\n",
       "      <td>SVDL, SAVINO DEL BENE S P A</td>\n",
       "      <td>LR</td>\n",
       "      <td>TOLTEN</td>\n",
       "      <td>TOLTEN</td>\n",
       "      <td>...</td>\n",
       "      <td>None</td>\n",
       "      <td>MILANO MI 20126 IT</td>\n",
       "      <td>CABLES COMPOUND&lt;br/&gt;</td>\n",
       "      <td>PRYSMIAN CABLES AND SYSTEMS USA LLC&lt;br/&gt;</td>\n",
       "      <td>901190</td>\n",
       "      <td>5</td>\n",
       "      <td>0.0</td>\n",
       "      <td>Y</td>\n",
       "      <td>Y</td>\n",
       "      <td>END</td>\n",
       "    </tr>\n",
       "    <tr>\n",
       "      <th>8</th>\n",
       "      <td>6003201901310000027160</td>\n",
       "      <td>20190105</td>\n",
       "      <td>20190110</td>\n",
       "      <td>SVDL2603218078</td>\n",
       "      <td>APLUAZT0101648</td>\n",
       "      <td>H</td>\n",
       "      <td>SVDL, SAVINO DEL BENE S P A</td>\n",
       "      <td>LR</td>\n",
       "      <td>TOLTEN</td>\n",
       "      <td>TOLTEN</td>\n",
       "      <td>...</td>\n",
       "      <td>None</td>\n",
       "      <td>MILANO MI 20126 IT</td>\n",
       "      <td>CABLES COMPOUND&lt;br/&gt;</td>\n",
       "      <td>PRYSMIAN CABLES AND SYSTEMS USA LLC&lt;br/&gt;</td>\n",
       "      <td>901190</td>\n",
       "      <td>5</td>\n",
       "      <td>0.0</td>\n",
       "      <td>Y</td>\n",
       "      <td>Y</td>\n",
       "      <td>END</td>\n",
       "    </tr>\n",
       "    <tr>\n",
       "      <th>9</th>\n",
       "      <td>6003201901310000027168</td>\n",
       "      <td>20190105</td>\n",
       "      <td>20190110</td>\n",
       "      <td>SVDL2603218888</td>\n",
       "      <td>APLUAZT0101648</td>\n",
       "      <td>H</td>\n",
       "      <td>SVDL, SAVINO DEL BENE S P A</td>\n",
       "      <td>LR</td>\n",
       "      <td>TOLTEN</td>\n",
       "      <td>TOLTEN</td>\n",
       "      <td>...</td>\n",
       "      <td>None</td>\n",
       "      <td>MILANO MI 20126 IT</td>\n",
       "      <td>CABLES COMPOUND&lt;br/&gt;</td>\n",
       "      <td>PRYSMIAN CABLES AND SYSTEMS USA LLC&lt;br/&gt;</td>\n",
       "      <td>901190</td>\n",
       "      <td>5</td>\n",
       "      <td>0.0</td>\n",
       "      <td>Y</td>\n",
       "      <td>Y</td>\n",
       "      <td>END</td>\n",
       "    </tr>\n",
       "  </tbody>\n",
       "</table>\n",
       "<p>10 rows × 68 columns</p>\n",
       "</div>"
      ],
      "text/plain": [
       "       System Identity Id  Estimate Arrival Date  Actual Arrival Date  \\\n",
       "0  6003201901310000026837               20190106             20190108   \n",
       "1  6003201901310000026875               20181230             20190105   \n",
       "2  6003201901310000026925               20181230             20190114   \n",
       "3  6003201901310000027021               20190102             20190105   \n",
       "4  6003201901310000027128               20190105             20190110   \n",
       "5  6003201901310000027136               20190105             20190110   \n",
       "6  6003201901310000027144               20190105             20190110   \n",
       "7  6003201901310000027152               20190105             20190110   \n",
       "8  6003201901310000027160               20190105             20190110   \n",
       "9  6003201901310000027168               20190105             20190110   \n",
       "\n",
       "     Bill of Lading Master Bill of Lading Bill Type Code  \\\n",
       "0    APLULMY0101580                  None              R   \n",
       "1    UASI7796618863        YMLUW232286499              H   \n",
       "2    DSVFCO30000677        YMLUE510009910              H   \n",
       "3  EGLV002800582698                  None              R   \n",
       "4    SVDL2603217436        APLUAZT0101648              H   \n",
       "5    SVDL2603217442        APLUAZT0101648              H   \n",
       "6    SVDL2603218899        APLUAZT0101648              H   \n",
       "7    SVDL2603218010        APLUAZT0101648              H   \n",
       "8    SVDL2603218078        APLUAZT0101648              H   \n",
       "9    SVDL2603218888        APLUAZT0101648              H   \n",
       "\n",
       "                    Carrier SASC Code Vessel Country Code Vessel Code  \\\n",
       "0  APLU, AMERICAN PRESIDENT LINES LTD                  SG     9462017   \n",
       "1                                UASI                  PA     9395159   \n",
       "2                                DSVF                  MH     9635676   \n",
       "3           EGLV, EAGLE VAN LINES INC                  GB     9595436   \n",
       "4         SVDL, SAVINO DEL BENE S P A                  LR      TOLTEN   \n",
       "5         SVDL, SAVINO DEL BENE S P A                  LR      TOLTEN   \n",
       "6         SVDL, SAVINO DEL BENE S P A                  LR      TOLTEN   \n",
       "7         SVDL, SAVINO DEL BENE S P A                  LR      TOLTEN   \n",
       "8         SVDL, SAVINO DEL BENE S P A                  LR      TOLTEN   \n",
       "9         SVDL, SAVINO DEL BENE S P A                  LR      TOLTEN   \n",
       "\n",
       "       Vessel Name  ... Raw Notify Party Addr4  Raw Notify Party Addr Others  \\\n",
       "0  APL SOUTHAMPTON  ...                   None                          None   \n",
       "1   HAMBURG BRIDGE  ...                   None                          None   \n",
       "2        ALEXANDRA  ...                   None                          None   \n",
       "3     EVER LAMBENT  ...                   None                          None   \n",
       "4           TOLTEN  ...                   None            MILANO MI 20126 IT   \n",
       "5           TOLTEN  ...                   None            MILANO MI 20126 IT   \n",
       "6           TOLTEN  ...                   None            MILANO MI 20126 IT   \n",
       "7           TOLTEN  ...                   None            MILANO MI 20126 IT   \n",
       "8           TOLTEN  ...                   None            MILANO MI 20126 IT   \n",
       "9           TOLTEN  ...                   None            MILANO MI 20126 IT   \n",
       "\n",
       "                                        Product Desc  \\\n",
       "0  SOUNDBAR 500,AST,BLACK - 612 UNITS SOUNDBAR 70...   \n",
       "1        TOASTMASTER ELECTRIC GIDDLE 1020 BLACK<br/>   \n",
       "2            6 PACKAGES ROSEWOOD VENEERS - 3000<br/>   \n",
       "3  WILLOUGHBY TRAY LARGE C-2 WALNUT WOODEN FURNIT...   \n",
       "4                               CABLES COMPOUND<br/>   \n",
       "5                               CABLES COMPOUND<br/>   \n",
       "6                               CABLES COMPOUND<br/>   \n",
       "7                               CABLES COMPOUND<br/>   \n",
       "8                               CABLES COMPOUND<br/>   \n",
       "9                               CABLES COMPOUND<br/>   \n",
       "\n",
       "                                     Marks & Numbers HS Code  \\\n",
       "0                             TOTAL 40 PACKAGES<br/>  321511   \n",
       "1                                            NM<br/>  321511   \n",
       "2  TAYLOR/GMD EL CAJON CERTIFICATE NO : 249/WCC B...  870323   \n",
       "3  SKU. SKU. VENDOR NO. 26997 NO. 20 SANCENG LANE...  442199   \n",
       "4           PRYSMIAN CABLES AND SYSTEMS USA LLC<br/>  901190   \n",
       "5           PRYSMIAN CABLES AND SYSTEMS USA LLC<br/>  901190   \n",
       "6           PRYSMIAN CABLES AND SYSTEMS USA LLC<br/>  901190   \n",
       "7           PRYSMIAN CABLES AND SYSTEMS USA LLC<br/>  901190   \n",
       "8           PRYSMIAN CABLES AND SYSTEMS USA LLC<br/>  901190   \n",
       "9           PRYSMIAN CABLES AND SYSTEMS USA LLC<br/>  901190   \n",
       "\n",
       "  HS Code Sure Level  CIF Indicator of true supplier Indicator of true buyer  \\\n",
       "0                  5  0.0                          Y                       Y   \n",
       "1                  5  0.0                          Y                       Y   \n",
       "2                  5  0.0                          Y                       Y   \n",
       "3                  8  0.0                          Y                       Y   \n",
       "4                  5  0.0                          Y                       Y   \n",
       "5                  5  0.0                          Y                       Y   \n",
       "6                  5  0.0                          Y                       Y   \n",
       "7                  5  0.0                          Y                       Y   \n",
       "8                  5  0.0                          Y                       Y   \n",
       "9                  5  0.0                          Y                       Y   \n",
       "\n",
       "   END  \n",
       "0  END  \n",
       "1  END  \n",
       "2  END  \n",
       "3  END  \n",
       "4  END  \n",
       "5  END  \n",
       "6  END  \n",
       "7  END  \n",
       "8  END  \n",
       "9  END  \n",
       "\n",
       "[10 rows x 68 columns]"
      ]
     },
     "execution_count": 7,
     "metadata": {},
     "output_type": "execute_result"
    }
   ],
   "source": [
    "import_cust_df_head = import_cust_df.head(10)\n",
    "import_cust_df_head"
   ]
  },
  {
   "cell_type": "code",
   "execution_count": 8,
   "id": "romance-welding",
   "metadata": {},
   "outputs": [
    {
     "data": {
      "text/plain": [
       "pandas.core.frame.DataFrame"
      ]
     },
     "execution_count": 8,
     "metadata": {},
     "output_type": "execute_result"
    }
   ],
   "source": [
    "type(import_cust_df_head)"
   ]
  },
  {
   "cell_type": "code",
   "execution_count": 9,
   "id": "informal-selling",
   "metadata": {},
   "outputs": [
    {
     "data": {
      "text/plain": [
       "Index(['System Identity Id', 'Estimate Arrival Date', 'Actual Arrival Date',\n",
       "       'Bill of Lading', 'Master Bill of Lading', 'Bill Type Code',\n",
       "       'Carrier SASC Code', 'Vessel Country Code', 'Vessel Code',\n",
       "       'Vessel Name', 'Voyage', 'Inbond Type', 'Manifest No',\n",
       "       'Mode of Transportation', 'Loading Port', 'Last Vist Foreign Port',\n",
       "       'US Clearing District', 'Unloading Port', 'Place of Receipt', 'Country',\n",
       "       'Country Sure Level', 'Weight in KG', 'Weight', 'Weight Unit', 'TEU',\n",
       "       'Quantity', 'Quantity Unit', 'Measure in CM', 'Measure', 'Measure Unit',\n",
       "       'Container Id', 'Container Size', 'Container Type',\n",
       "       'Container Desc Code', 'Container Load Status',\n",
       "       'Container Type of Service', 'Shipper Name', 'Shipper Address ',\n",
       "       'Raw Shipper Name', 'Raw Shipper Addr1', 'Raw Shipper Addr2',\n",
       "       'Raw Shipper Addr3', 'Raw Shipper Addr4', 'Raw Shipper Addr Others',\n",
       "       'Consignee Name', 'Consignee Address ', 'Raw Consignee Name',\n",
       "       'Raw Consignee Addr1', 'Raw Consignee Addr2', 'Raw Consignee Addr3',\n",
       "       'Raw Consignee Addr4', 'Raw Consignee Addr Others', 'Notify Party Name',\n",
       "       'Notify Party Address ', 'Raw Notify Party Name',\n",
       "       'Raw Notify Party Addr1', 'Raw Notify Party Addr2',\n",
       "       'Raw Notify Party Addr3', 'Raw Notify Party Addr4',\n",
       "       'Raw Notify Party Addr Others', 'Product Desc', 'Marks & Numbers',\n",
       "       'HS Code', 'HS Code Sure Level', 'CIF', 'Indicator of true supplier',\n",
       "       'Indicator of true buyer', 'END'],\n",
       "      dtype='object')"
      ]
     },
     "execution_count": 9,
     "metadata": {},
     "output_type": "execute_result"
    }
   ],
   "source": [
    "customs_col_list = import_cust_df.columns\n",
    "customs_col_list"
   ]
  },
  {
   "cell_type": "code",
   "execution_count": 10,
   "id": "complimentary-welding",
   "metadata": {},
   "outputs": [
    {
     "name": "stdout",
     "output_type": "stream",
     "text": [
      "[########################################] | 100% Completed |  1min  4.0s\n",
      "2019 customs data has 12,451,358 records.\n"
     ]
    }
   ],
   "source": [
    "print(f'2019 customs data has {len(import_cust_df.index):,} records.')"
   ]
  },
  {
   "cell_type": "code",
   "execution_count": 11,
   "id": "later-database",
   "metadata": {},
   "outputs": [
    {
     "data": {
      "text/plain": [
       "HS Code                                                          321511\n",
       "HS Code Sure Level                                                    5\n",
       "Product Desc          SOUNDBAR 500,AST,BLACK - 612 UNITS SOUNDBAR 70...\n",
       "Name: 0, dtype: object"
      ]
     },
     "execution_count": 11,
     "metadata": {},
     "output_type": "execute_result"
    }
   ],
   "source": [
    "import_cust_df_head.loc[0, [\"HS Code\", \"HS Code Sure Level\", 'Product Desc']]"
   ]
  },
  {
   "cell_type": "code",
   "execution_count": null,
   "id": "driven-shell",
   "metadata": {},
   "outputs": [],
   "source": []
  },
  {
   "cell_type": "markdown",
   "id": "automated-sodium",
   "metadata": {},
   "source": [
    "Let's look at the HS codes we have and their distribution"
   ]
  },
  {
   "cell_type": "code",
   "execution_count": 10,
   "id": "immune-birthday",
   "metadata": {},
   "outputs": [
    {
     "name": "stdout",
     "output_type": "stream",
     "text": [
      "System Identity Id               object\n",
      "Estimate Arrival Date             int64\n",
      "Actual Arrival Date               int64\n",
      "Bill of Lading                   object\n",
      "Master Bill of Lading            object\n",
      "Bill Type Code                   object\n",
      "Carrier SASC Code                object\n",
      "Vessel Country Code              object\n",
      "Vessel Code                      object\n",
      "Vessel Name                      object\n",
      "Voyage                           object\n",
      "Inbond Type                     float64\n",
      "Manifest No                       int64\n",
      "Mode of Transportation            int64\n",
      "Loading Port                     object\n",
      "Last Vist Foreign Port           object\n",
      "US Clearing District             object\n",
      "Unloading Port                   object\n",
      "Place of Receipt                 object\n",
      "Country                          object\n",
      "Country Sure Level                int64\n",
      "Weight in KG                    float64\n",
      "Weight                          float64\n",
      "Weight Unit                      object\n",
      "TEU                             float64\n",
      "Quantity                        float64\n",
      "Quantity Unit                    object\n",
      "Measure in CM                   float64\n",
      "Measure                         float64\n",
      "Measure Unit                     object\n",
      "Container Id                     object\n",
      "Container Size                   object\n",
      "Container Type                   object\n",
      "Container Desc Code              object\n",
      "Container Load Status            object\n",
      "Container Type of Service        object\n",
      "Shipper Name                     object\n",
      "Shipper Address                  object\n",
      "Raw Shipper Name                 object\n",
      "Raw Shipper Addr1                object\n",
      "Raw Shipper Addr2                object\n",
      "Raw Shipper Addr3                object\n",
      "Raw Shipper Addr4                object\n",
      "Raw Shipper Addr Others          object\n",
      "Consignee Name                   object\n",
      "Consignee Address                object\n",
      "Raw Consignee Name               object\n",
      "Raw Consignee Addr1              object\n",
      "Raw Consignee Addr2              object\n",
      "Raw Consignee Addr3              object\n",
      "Raw Consignee Addr4              object\n",
      "Raw Consignee Addr Others        object\n",
      "Notify Party Name                object\n",
      "Notify Party Address             object\n",
      "Raw Notify Party Name            object\n",
      "Raw Notify Party Addr1           object\n",
      "Raw Notify Party Addr2           object\n",
      "Raw Notify Party Addr3           object\n",
      "Raw Notify Party Addr4           object\n",
      "Raw Notify Party Addr Others     object\n",
      "Product Desc                     object\n",
      "Marks & Numbers                  object\n",
      "HS Code                          object\n",
      "HS Code Sure Level                int64\n",
      "CIF                             float64\n",
      "Indicator of true supplier       object\n",
      "Indicator of true buyer          object\n",
      "END                              object\n",
      "dtype: object\n"
     ]
    }
   ],
   "source": [
    "col_types = import_cust_df.dtypes\n",
    "with pd.option_context('display.max_rows', None, 'display.max_columns', None):  # more options can be specified also\n",
    "    print(col_types)"
   ]
  },
  {
   "cell_type": "code",
   "execution_count": 11,
   "id": "prepared-cattle",
   "metadata": {},
   "outputs": [],
   "source": [
    "import_cust_df['HS Code'] = import_cust_df['HS Code'].astype(int)"
   ]
  },
  {
   "cell_type": "code",
   "execution_count": null,
   "id": "tribal-walter",
   "metadata": {},
   "outputs": [],
   "source": [
    "#Check for nulls in 'HS Code'\n",
    "#import_cust_df['HS Code'].isnull().count().compute()\n"
   ]
  },
  {
   "cell_type": "code",
   "execution_count": 13,
   "id": "injured-baseball",
   "metadata": {},
   "outputs": [
    {
     "ename": "ValueError",
     "evalue": "Metadata inference failed in `dropna`.\n\nYou have supplied a custom function and Dask is unable to \ndetermine the type of output that that function returns. \n\nTo resolve this please provide a meta= keyword.\nThe docstring of the Dask function you ran should have more information.\n\nOriginal error is below:\n------------------------\nTypeError(\"Index(...) must be called with a collection of some kind, 'HS Code' was passed\")\n\nTraceback:\n---------\n  File \"/usr/local/lib/python3.8/dist-packages/dask/dataframe/utils.py\", line 172, in raise_on_meta_error\n    yield\n  File \"/usr/local/lib/python3.8/dist-packages/dask/dataframe/core.py\", line 5055, in _emulate\n    return func(*_extract_meta(args, True), **_extract_meta(kwargs, True))\n  File \"/usr/local/lib/python3.8/dist-packages/dask/utils.py\", line 894, in __call__\n    return getattr(obj, self.method)(*args, **kwargs)\n  File \"/usr/local/lib/python3.8/dist-packages/pandas/core/frame.py\", line 5156, in dropna\n    indices = ax.get_indexer_for(subset)\n  File \"/usr/local/lib/python3.8/dist-packages/pandas/core/indexes/base.py\", line 4960, in get_indexer_for\n    return self.get_indexer(target, **kwargs)\n  File \"/usr/local/lib/python3.8/dist-packages/pandas/core/indexes/base.py\", line 3147, in get_indexer\n    target = ensure_index(target)\n  File \"/usr/local/lib/python3.8/dist-packages/pandas/core/indexes/base.py\", line 5917, in ensure_index\n    return Index(index_like)\n  File \"/usr/local/lib/python3.8/dist-packages/pandas/core/indexes/base.py\", line 372, in __new__\n    raise cls._scalar_data_error(data)\n",
     "output_type": "error",
     "traceback": [
      "\u001b[0;31m---------------------------------------------------------------------------\u001b[0m",
      "\u001b[0;31mTypeError\u001b[0m                                 Traceback (most recent call last)",
      "\u001b[0;32m/usr/local/lib/python3.8/dist-packages/dask/dataframe/utils.py\u001b[0m in \u001b[0;36mraise_on_meta_error\u001b[0;34m(funcname, udf)\u001b[0m\n\u001b[1;32m    171\u001b[0m     \u001b[0;32mtry\u001b[0m\u001b[0;34m:\u001b[0m\u001b[0;34m\u001b[0m\u001b[0;34m\u001b[0m\u001b[0m\n\u001b[0;32m--> 172\u001b[0;31m         \u001b[0;32myield\u001b[0m\u001b[0;34m\u001b[0m\u001b[0;34m\u001b[0m\u001b[0m\n\u001b[0m\u001b[1;32m    173\u001b[0m     \u001b[0;32mexcept\u001b[0m \u001b[0mException\u001b[0m \u001b[0;32mas\u001b[0m \u001b[0me\u001b[0m\u001b[0;34m:\u001b[0m\u001b[0;34m\u001b[0m\u001b[0;34m\u001b[0m\u001b[0m\n",
      "\u001b[0;32m/usr/local/lib/python3.8/dist-packages/dask/dataframe/core.py\u001b[0m in \u001b[0;36m_emulate\u001b[0;34m(func, *args, **kwargs)\u001b[0m\n\u001b[1;32m   5054\u001b[0m     \u001b[0;32mwith\u001b[0m \u001b[0mraise_on_meta_error\u001b[0m\u001b[0;34m(\u001b[0m\u001b[0mfuncname\u001b[0m\u001b[0;34m(\u001b[0m\u001b[0mfunc\u001b[0m\u001b[0;34m)\u001b[0m\u001b[0;34m,\u001b[0m \u001b[0mudf\u001b[0m\u001b[0;34m=\u001b[0m\u001b[0mkwargs\u001b[0m\u001b[0;34m.\u001b[0m\u001b[0mpop\u001b[0m\u001b[0;34m(\u001b[0m\u001b[0;34m\"udf\"\u001b[0m\u001b[0;34m,\u001b[0m \u001b[0;32mFalse\u001b[0m\u001b[0;34m)\u001b[0m\u001b[0;34m)\u001b[0m\u001b[0;34m:\u001b[0m\u001b[0;34m\u001b[0m\u001b[0;34m\u001b[0m\u001b[0m\n\u001b[0;32m-> 5055\u001b[0;31m         \u001b[0;32mreturn\u001b[0m \u001b[0mfunc\u001b[0m\u001b[0;34m(\u001b[0m\u001b[0;34m*\u001b[0m\u001b[0m_extract_meta\u001b[0m\u001b[0;34m(\u001b[0m\u001b[0margs\u001b[0m\u001b[0;34m,\u001b[0m \u001b[0;32mTrue\u001b[0m\u001b[0;34m)\u001b[0m\u001b[0;34m,\u001b[0m \u001b[0;34m**\u001b[0m\u001b[0m_extract_meta\u001b[0m\u001b[0;34m(\u001b[0m\u001b[0mkwargs\u001b[0m\u001b[0;34m,\u001b[0m \u001b[0;32mTrue\u001b[0m\u001b[0;34m)\u001b[0m\u001b[0;34m)\u001b[0m\u001b[0;34m\u001b[0m\u001b[0;34m\u001b[0m\u001b[0m\n\u001b[0m\u001b[1;32m   5056\u001b[0m \u001b[0;34m\u001b[0m\u001b[0m\n",
      "\u001b[0;32m/usr/local/lib/python3.8/dist-packages/dask/utils.py\u001b[0m in \u001b[0;36m__call__\u001b[0;34m(self, obj, *args, **kwargs)\u001b[0m\n\u001b[1;32m    893\u001b[0m     \u001b[0;32mdef\u001b[0m \u001b[0m__call__\u001b[0m\u001b[0;34m(\u001b[0m\u001b[0mself\u001b[0m\u001b[0;34m,\u001b[0m \u001b[0mobj\u001b[0m\u001b[0;34m,\u001b[0m \u001b[0;34m*\u001b[0m\u001b[0margs\u001b[0m\u001b[0;34m,\u001b[0m \u001b[0;34m**\u001b[0m\u001b[0mkwargs\u001b[0m\u001b[0;34m)\u001b[0m\u001b[0;34m:\u001b[0m\u001b[0;34m\u001b[0m\u001b[0;34m\u001b[0m\u001b[0m\n\u001b[0;32m--> 894\u001b[0;31m         \u001b[0;32mreturn\u001b[0m \u001b[0mgetattr\u001b[0m\u001b[0;34m(\u001b[0m\u001b[0mobj\u001b[0m\u001b[0;34m,\u001b[0m \u001b[0mself\u001b[0m\u001b[0;34m.\u001b[0m\u001b[0mmethod\u001b[0m\u001b[0;34m)\u001b[0m\u001b[0;34m(\u001b[0m\u001b[0;34m*\u001b[0m\u001b[0margs\u001b[0m\u001b[0;34m,\u001b[0m \u001b[0;34m**\u001b[0m\u001b[0mkwargs\u001b[0m\u001b[0;34m)\u001b[0m\u001b[0;34m\u001b[0m\u001b[0;34m\u001b[0m\u001b[0m\n\u001b[0m\u001b[1;32m    895\u001b[0m \u001b[0;34m\u001b[0m\u001b[0m\n",
      "\u001b[0;32m/usr/local/lib/python3.8/dist-packages/pandas/core/frame.py\u001b[0m in \u001b[0;36mdropna\u001b[0;34m(self, axis, how, thresh, subset, inplace)\u001b[0m\n\u001b[1;32m   5155\u001b[0m             \u001b[0max\u001b[0m \u001b[0;34m=\u001b[0m \u001b[0mself\u001b[0m\u001b[0;34m.\u001b[0m\u001b[0m_get_axis\u001b[0m\u001b[0;34m(\u001b[0m\u001b[0magg_axis\u001b[0m\u001b[0;34m)\u001b[0m\u001b[0;34m\u001b[0m\u001b[0;34m\u001b[0m\u001b[0m\n\u001b[0;32m-> 5156\u001b[0;31m             \u001b[0mindices\u001b[0m \u001b[0;34m=\u001b[0m \u001b[0max\u001b[0m\u001b[0;34m.\u001b[0m\u001b[0mget_indexer_for\u001b[0m\u001b[0;34m(\u001b[0m\u001b[0msubset\u001b[0m\u001b[0;34m)\u001b[0m\u001b[0;34m\u001b[0m\u001b[0;34m\u001b[0m\u001b[0m\n\u001b[0m\u001b[1;32m   5157\u001b[0m             \u001b[0mcheck\u001b[0m \u001b[0;34m=\u001b[0m \u001b[0mindices\u001b[0m \u001b[0;34m==\u001b[0m \u001b[0;34m-\u001b[0m\u001b[0;36m1\u001b[0m\u001b[0;34m\u001b[0m\u001b[0;34m\u001b[0m\u001b[0m\n",
      "\u001b[0;32m/usr/local/lib/python3.8/dist-packages/pandas/core/indexes/base.py\u001b[0m in \u001b[0;36mget_indexer_for\u001b[0;34m(self, target, **kwargs)\u001b[0m\n\u001b[1;32m   4959\u001b[0m         \u001b[0;32mif\u001b[0m \u001b[0mself\u001b[0m\u001b[0;34m.\u001b[0m\u001b[0m_index_as_unique\u001b[0m\u001b[0;34m:\u001b[0m\u001b[0;34m\u001b[0m\u001b[0;34m\u001b[0m\u001b[0m\n\u001b[0;32m-> 4960\u001b[0;31m             \u001b[0;32mreturn\u001b[0m \u001b[0mself\u001b[0m\u001b[0;34m.\u001b[0m\u001b[0mget_indexer\u001b[0m\u001b[0;34m(\u001b[0m\u001b[0mtarget\u001b[0m\u001b[0;34m,\u001b[0m \u001b[0;34m**\u001b[0m\u001b[0mkwargs\u001b[0m\u001b[0;34m)\u001b[0m\u001b[0;34m\u001b[0m\u001b[0;34m\u001b[0m\u001b[0m\n\u001b[0m\u001b[1;32m   4961\u001b[0m         \u001b[0mindexer\u001b[0m\u001b[0;34m,\u001b[0m \u001b[0m_\u001b[0m \u001b[0;34m=\u001b[0m \u001b[0mself\u001b[0m\u001b[0;34m.\u001b[0m\u001b[0mget_indexer_non_unique\u001b[0m\u001b[0;34m(\u001b[0m\u001b[0mtarget\u001b[0m\u001b[0;34m)\u001b[0m\u001b[0;34m\u001b[0m\u001b[0;34m\u001b[0m\u001b[0m\n",
      "\u001b[0;32m/usr/local/lib/python3.8/dist-packages/pandas/core/indexes/base.py\u001b[0m in \u001b[0;36mget_indexer\u001b[0;34m(self, target, method, limit, tolerance)\u001b[0m\n\u001b[1;32m   3146\u001b[0m         \u001b[0mmethod\u001b[0m \u001b[0;34m=\u001b[0m \u001b[0mmissing\u001b[0m\u001b[0;34m.\u001b[0m\u001b[0mclean_reindex_fill_method\u001b[0m\u001b[0;34m(\u001b[0m\u001b[0mmethod\u001b[0m\u001b[0;34m)\u001b[0m\u001b[0;34m\u001b[0m\u001b[0;34m\u001b[0m\u001b[0m\n\u001b[0;32m-> 3147\u001b[0;31m         \u001b[0mtarget\u001b[0m \u001b[0;34m=\u001b[0m \u001b[0mensure_index\u001b[0m\u001b[0;34m(\u001b[0m\u001b[0mtarget\u001b[0m\u001b[0;34m)\u001b[0m\u001b[0;34m\u001b[0m\u001b[0;34m\u001b[0m\u001b[0m\n\u001b[0m\u001b[1;32m   3148\u001b[0m         \u001b[0;32mif\u001b[0m \u001b[0mtolerance\u001b[0m \u001b[0;32mis\u001b[0m \u001b[0;32mnot\u001b[0m \u001b[0;32mNone\u001b[0m\u001b[0;34m:\u001b[0m\u001b[0;34m\u001b[0m\u001b[0;34m\u001b[0m\u001b[0m\n",
      "\u001b[0;32m/usr/local/lib/python3.8/dist-packages/pandas/core/indexes/base.py\u001b[0m in \u001b[0;36mensure_index\u001b[0;34m(index_like, copy)\u001b[0m\n\u001b[1;32m   5916\u001b[0m \u001b[0;34m\u001b[0m\u001b[0m\n\u001b[0;32m-> 5917\u001b[0;31m     \u001b[0;32mreturn\u001b[0m \u001b[0mIndex\u001b[0m\u001b[0;34m(\u001b[0m\u001b[0mindex_like\u001b[0m\u001b[0;34m)\u001b[0m\u001b[0;34m\u001b[0m\u001b[0;34m\u001b[0m\u001b[0m\n\u001b[0m\u001b[1;32m   5918\u001b[0m \u001b[0;34m\u001b[0m\u001b[0m\n",
      "\u001b[0;32m/usr/local/lib/python3.8/dist-packages/pandas/core/indexes/base.py\u001b[0m in \u001b[0;36m__new__\u001b[0;34m(cls, data, dtype, copy, name, tupleize_cols, **kwargs)\u001b[0m\n\u001b[1;32m    371\u001b[0m         \u001b[0;32melif\u001b[0m \u001b[0mdata\u001b[0m \u001b[0;32mis\u001b[0m \u001b[0;32mNone\u001b[0m \u001b[0;32mor\u001b[0m \u001b[0mis_scalar\u001b[0m\u001b[0;34m(\u001b[0m\u001b[0mdata\u001b[0m\u001b[0;34m)\u001b[0m\u001b[0;34m:\u001b[0m\u001b[0;34m\u001b[0m\u001b[0;34m\u001b[0m\u001b[0m\n\u001b[0;32m--> 372\u001b[0;31m             \u001b[0;32mraise\u001b[0m \u001b[0mcls\u001b[0m\u001b[0;34m.\u001b[0m\u001b[0m_scalar_data_error\u001b[0m\u001b[0;34m(\u001b[0m\u001b[0mdata\u001b[0m\u001b[0;34m)\u001b[0m\u001b[0;34m\u001b[0m\u001b[0;34m\u001b[0m\u001b[0m\n\u001b[0m\u001b[1;32m    373\u001b[0m         \u001b[0;32melif\u001b[0m \u001b[0mhasattr\u001b[0m\u001b[0;34m(\u001b[0m\u001b[0mdata\u001b[0m\u001b[0;34m,\u001b[0m \u001b[0;34m\"__array__\"\u001b[0m\u001b[0;34m)\u001b[0m\u001b[0;34m:\u001b[0m\u001b[0;34m\u001b[0m\u001b[0;34m\u001b[0m\u001b[0m\n",
      "\u001b[0;31mTypeError\u001b[0m: Index(...) must be called with a collection of some kind, 'HS Code' was passed",
      "\nDuring handling of the above exception, another exception occurred:\n",
      "\u001b[0;31mValueError\u001b[0m                                Traceback (most recent call last)",
      "\u001b[0;32m<ipython-input-13-e84a68b4184a>\u001b[0m in \u001b[0;36m<module>\u001b[0;34m\u001b[0m\n\u001b[0;32m----> 1\u001b[0;31m \u001b[0mimport_cust_df\u001b[0m \u001b[0;34m=\u001b[0m \u001b[0mimport_cust_df\u001b[0m\u001b[0;34m.\u001b[0m\u001b[0mdropna\u001b[0m\u001b[0;34m(\u001b[0m\u001b[0msubset\u001b[0m\u001b[0;34m=\u001b[0m\u001b[0;34m'HS Code'\u001b[0m\u001b[0;34m)\u001b[0m\u001b[0;34m.\u001b[0m\u001b[0mcompute\u001b[0m\u001b[0;34m(\u001b[0m\u001b[0;34m)\u001b[0m\u001b[0;34m\u001b[0m\u001b[0;34m\u001b[0m\u001b[0m\n\u001b[0m\u001b[1;32m      2\u001b[0m \u001b[0mlen\u001b[0m\u001b[0;34m(\u001b[0m\u001b[0mimport_cust_df\u001b[0m\u001b[0;34m)\u001b[0m\u001b[0;34m\u001b[0m\u001b[0;34m\u001b[0m\u001b[0m\n",
      "\u001b[0;32m/usr/local/lib/python3.8/dist-packages/dask/dataframe/core.py\u001b[0m in \u001b[0;36mdropna\u001b[0;34m(self, how, subset, thresh)\u001b[0m\n\u001b[1;32m   3798\u001b[0m     \u001b[0;34m@\u001b[0m\u001b[0mderived_from\u001b[0m\u001b[0;34m(\u001b[0m\u001b[0mpd\u001b[0m\u001b[0;34m.\u001b[0m\u001b[0mDataFrame\u001b[0m\u001b[0;34m)\u001b[0m\u001b[0;34m\u001b[0m\u001b[0;34m\u001b[0m\u001b[0m\n\u001b[1;32m   3799\u001b[0m     \u001b[0;32mdef\u001b[0m \u001b[0mdropna\u001b[0m\u001b[0;34m(\u001b[0m\u001b[0mself\u001b[0m\u001b[0;34m,\u001b[0m \u001b[0mhow\u001b[0m\u001b[0;34m=\u001b[0m\u001b[0;34m\"any\"\u001b[0m\u001b[0;34m,\u001b[0m \u001b[0msubset\u001b[0m\u001b[0;34m=\u001b[0m\u001b[0;32mNone\u001b[0m\u001b[0;34m,\u001b[0m \u001b[0mthresh\u001b[0m\u001b[0;34m=\u001b[0m\u001b[0;32mNone\u001b[0m\u001b[0;34m)\u001b[0m\u001b[0;34m:\u001b[0m\u001b[0;34m\u001b[0m\u001b[0;34m\u001b[0m\u001b[0m\n\u001b[0;32m-> 3800\u001b[0;31m         return self.map_partitions(\n\u001b[0m\u001b[1;32m   3801\u001b[0m             \u001b[0mM\u001b[0m\u001b[0;34m.\u001b[0m\u001b[0mdropna\u001b[0m\u001b[0;34m,\u001b[0m \u001b[0mhow\u001b[0m\u001b[0;34m=\u001b[0m\u001b[0mhow\u001b[0m\u001b[0;34m,\u001b[0m \u001b[0msubset\u001b[0m\u001b[0;34m=\u001b[0m\u001b[0msubset\u001b[0m\u001b[0;34m,\u001b[0m \u001b[0mthresh\u001b[0m\u001b[0;34m=\u001b[0m\u001b[0mthresh\u001b[0m\u001b[0;34m,\u001b[0m \u001b[0menforce_metadata\u001b[0m\u001b[0;34m=\u001b[0m\u001b[0;32mFalse\u001b[0m\u001b[0;34m\u001b[0m\u001b[0;34m\u001b[0m\u001b[0m\n\u001b[1;32m   3802\u001b[0m         )\n",
      "\u001b[0;32m/usr/local/lib/python3.8/dist-packages/dask/dataframe/core.py\u001b[0m in \u001b[0;36mmap_partitions\u001b[0;34m(self, func, *args, **kwargs)\u001b[0m\n\u001b[1;32m    639\u001b[0m         \u001b[0;34m>>\u001b[0m\u001b[0;34m>\u001b[0m \u001b[0mddf\u001b[0m\u001b[0;34m.\u001b[0m\u001b[0mmap_partitions\u001b[0m\u001b[0;34m(\u001b[0m\u001b[0mfunc\u001b[0m\u001b[0;34m)\u001b[0m\u001b[0;34m.\u001b[0m\u001b[0mclear_divisions\u001b[0m\u001b[0;34m(\u001b[0m\u001b[0;34m)\u001b[0m  \u001b[0;31m# doctest: +SKIP\u001b[0m\u001b[0;34m\u001b[0m\u001b[0;34m\u001b[0m\u001b[0m\n\u001b[1;32m    640\u001b[0m         \"\"\"\n\u001b[0;32m--> 641\u001b[0;31m         \u001b[0;32mreturn\u001b[0m \u001b[0mmap_partitions\u001b[0m\u001b[0;34m(\u001b[0m\u001b[0mfunc\u001b[0m\u001b[0;34m,\u001b[0m \u001b[0mself\u001b[0m\u001b[0;34m,\u001b[0m \u001b[0;34m*\u001b[0m\u001b[0margs\u001b[0m\u001b[0;34m,\u001b[0m \u001b[0;34m**\u001b[0m\u001b[0mkwargs\u001b[0m\u001b[0;34m)\u001b[0m\u001b[0;34m\u001b[0m\u001b[0;34m\u001b[0m\u001b[0m\n\u001b[0m\u001b[1;32m    642\u001b[0m \u001b[0;34m\u001b[0m\u001b[0m\n\u001b[1;32m    643\u001b[0m     \u001b[0;34m@\u001b[0m\u001b[0minsert_meta_param_description\u001b[0m\u001b[0;34m(\u001b[0m\u001b[0mpad\u001b[0m\u001b[0;34m=\u001b[0m\u001b[0;36m12\u001b[0m\u001b[0;34m)\u001b[0m\u001b[0;34m\u001b[0m\u001b[0;34m\u001b[0m\u001b[0m\n",
      "\u001b[0;32m/usr/local/lib/python3.8/dist-packages/dask/dataframe/core.py\u001b[0m in \u001b[0;36mmap_partitions\u001b[0;34m(func, meta, enforce_metadata, transform_divisions, *args, **kwargs)\u001b[0m\n\u001b[1;32m   5103\u001b[0m         \u001b[0;31m# Use non-normalized kwargs here, as we want the real values (not\u001b[0m\u001b[0;34m\u001b[0m\u001b[0;34m\u001b[0m\u001b[0;34m\u001b[0m\u001b[0m\n\u001b[1;32m   5104\u001b[0m         \u001b[0;31m# delayed values)\u001b[0m\u001b[0;34m\u001b[0m\u001b[0;34m\u001b[0m\u001b[0;34m\u001b[0m\u001b[0m\n\u001b[0;32m-> 5105\u001b[0;31m         \u001b[0mmeta\u001b[0m \u001b[0;34m=\u001b[0m \u001b[0m_emulate\u001b[0m\u001b[0;34m(\u001b[0m\u001b[0mfunc\u001b[0m\u001b[0;34m,\u001b[0m \u001b[0;34m*\u001b[0m\u001b[0margs\u001b[0m\u001b[0;34m,\u001b[0m \u001b[0mudf\u001b[0m\u001b[0;34m=\u001b[0m\u001b[0;32mTrue\u001b[0m\u001b[0;34m,\u001b[0m \u001b[0;34m**\u001b[0m\u001b[0mkwargs\u001b[0m\u001b[0;34m)\u001b[0m\u001b[0;34m\u001b[0m\u001b[0;34m\u001b[0m\u001b[0m\n\u001b[0m\u001b[1;32m   5106\u001b[0m     \u001b[0;32melse\u001b[0m\u001b[0;34m:\u001b[0m\u001b[0;34m\u001b[0m\u001b[0;34m\u001b[0m\u001b[0m\n\u001b[1;32m   5107\u001b[0m         \u001b[0mmeta\u001b[0m \u001b[0;34m=\u001b[0m \u001b[0mmake_meta\u001b[0m\u001b[0;34m(\u001b[0m\u001b[0mmeta\u001b[0m\u001b[0;34m,\u001b[0m \u001b[0mindex\u001b[0m\u001b[0;34m=\u001b[0m\u001b[0mmeta_index\u001b[0m\u001b[0;34m)\u001b[0m\u001b[0;34m\u001b[0m\u001b[0;34m\u001b[0m\u001b[0m\n",
      "\u001b[0;32m/usr/local/lib/python3.8/dist-packages/dask/dataframe/core.py\u001b[0m in \u001b[0;36m_emulate\u001b[0;34m(func, *args, **kwargs)\u001b[0m\n\u001b[1;32m   5053\u001b[0m     \"\"\"\n\u001b[1;32m   5054\u001b[0m     \u001b[0;32mwith\u001b[0m \u001b[0mraise_on_meta_error\u001b[0m\u001b[0;34m(\u001b[0m\u001b[0mfuncname\u001b[0m\u001b[0;34m(\u001b[0m\u001b[0mfunc\u001b[0m\u001b[0;34m)\u001b[0m\u001b[0;34m,\u001b[0m \u001b[0mudf\u001b[0m\u001b[0;34m=\u001b[0m\u001b[0mkwargs\u001b[0m\u001b[0;34m.\u001b[0m\u001b[0mpop\u001b[0m\u001b[0;34m(\u001b[0m\u001b[0;34m\"udf\"\u001b[0m\u001b[0;34m,\u001b[0m \u001b[0;32mFalse\u001b[0m\u001b[0;34m)\u001b[0m\u001b[0;34m)\u001b[0m\u001b[0;34m:\u001b[0m\u001b[0;34m\u001b[0m\u001b[0;34m\u001b[0m\u001b[0m\n\u001b[0;32m-> 5055\u001b[0;31m         \u001b[0;32mreturn\u001b[0m \u001b[0mfunc\u001b[0m\u001b[0;34m(\u001b[0m\u001b[0;34m*\u001b[0m\u001b[0m_extract_meta\u001b[0m\u001b[0;34m(\u001b[0m\u001b[0margs\u001b[0m\u001b[0;34m,\u001b[0m \u001b[0;32mTrue\u001b[0m\u001b[0;34m)\u001b[0m\u001b[0;34m,\u001b[0m \u001b[0;34m**\u001b[0m\u001b[0m_extract_meta\u001b[0m\u001b[0;34m(\u001b[0m\u001b[0mkwargs\u001b[0m\u001b[0;34m,\u001b[0m \u001b[0;32mTrue\u001b[0m\u001b[0;34m)\u001b[0m\u001b[0;34m)\u001b[0m\u001b[0;34m\u001b[0m\u001b[0;34m\u001b[0m\u001b[0m\n\u001b[0m\u001b[1;32m   5056\u001b[0m \u001b[0;34m\u001b[0m\u001b[0m\n\u001b[1;32m   5057\u001b[0m \u001b[0;34m\u001b[0m\u001b[0m\n",
      "\u001b[0;32m/usr/lib/python3.8/contextlib.py\u001b[0m in \u001b[0;36m__exit__\u001b[0;34m(self, type, value, traceback)\u001b[0m\n\u001b[1;32m    129\u001b[0m                 \u001b[0mvalue\u001b[0m \u001b[0;34m=\u001b[0m \u001b[0mtype\u001b[0m\u001b[0;34m(\u001b[0m\u001b[0;34m)\u001b[0m\u001b[0;34m\u001b[0m\u001b[0;34m\u001b[0m\u001b[0m\n\u001b[1;32m    130\u001b[0m             \u001b[0;32mtry\u001b[0m\u001b[0;34m:\u001b[0m\u001b[0;34m\u001b[0m\u001b[0;34m\u001b[0m\u001b[0m\n\u001b[0;32m--> 131\u001b[0;31m                 \u001b[0mself\u001b[0m\u001b[0;34m.\u001b[0m\u001b[0mgen\u001b[0m\u001b[0;34m.\u001b[0m\u001b[0mthrow\u001b[0m\u001b[0;34m(\u001b[0m\u001b[0mtype\u001b[0m\u001b[0;34m,\u001b[0m \u001b[0mvalue\u001b[0m\u001b[0;34m,\u001b[0m \u001b[0mtraceback\u001b[0m\u001b[0;34m)\u001b[0m\u001b[0;34m\u001b[0m\u001b[0;34m\u001b[0m\u001b[0m\n\u001b[0m\u001b[1;32m    132\u001b[0m             \u001b[0;32mexcept\u001b[0m \u001b[0mStopIteration\u001b[0m \u001b[0;32mas\u001b[0m \u001b[0mexc\u001b[0m\u001b[0;34m:\u001b[0m\u001b[0;34m\u001b[0m\u001b[0;34m\u001b[0m\u001b[0m\n\u001b[1;32m    133\u001b[0m                 \u001b[0;31m# Suppress StopIteration *unless* it's the same exception that\u001b[0m\u001b[0;34m\u001b[0m\u001b[0;34m\u001b[0m\u001b[0;34m\u001b[0m\u001b[0m\n",
      "\u001b[0;32m/usr/local/lib/python3.8/dist-packages/dask/dataframe/utils.py\u001b[0m in \u001b[0;36mraise_on_meta_error\u001b[0;34m(funcname, udf)\u001b[0m\n\u001b[1;32m    191\u001b[0m         )\n\u001b[1;32m    192\u001b[0m         \u001b[0mmsg\u001b[0m \u001b[0;34m=\u001b[0m \u001b[0mmsg\u001b[0m\u001b[0;34m.\u001b[0m\u001b[0mformat\u001b[0m\u001b[0;34m(\u001b[0m\u001b[0;34m\" in `{0}`\"\u001b[0m\u001b[0;34m.\u001b[0m\u001b[0mformat\u001b[0m\u001b[0;34m(\u001b[0m\u001b[0mfuncname\u001b[0m\u001b[0;34m)\u001b[0m \u001b[0;32mif\u001b[0m \u001b[0mfuncname\u001b[0m \u001b[0;32melse\u001b[0m \u001b[0;34m\"\"\u001b[0m\u001b[0;34m,\u001b[0m \u001b[0mrepr\u001b[0m\u001b[0;34m(\u001b[0m\u001b[0me\u001b[0m\u001b[0;34m)\u001b[0m\u001b[0;34m,\u001b[0m \u001b[0mtb\u001b[0m\u001b[0;34m)\u001b[0m\u001b[0;34m\u001b[0m\u001b[0;34m\u001b[0m\u001b[0m\n\u001b[0;32m--> 193\u001b[0;31m         \u001b[0;32mraise\u001b[0m \u001b[0mValueError\u001b[0m\u001b[0;34m(\u001b[0m\u001b[0mmsg\u001b[0m\u001b[0;34m)\u001b[0m\u001b[0;34m\u001b[0m\u001b[0;34m\u001b[0m\u001b[0m\n\u001b[0m\u001b[1;32m    194\u001b[0m \u001b[0;34m\u001b[0m\u001b[0m\n\u001b[1;32m    195\u001b[0m \u001b[0;34m\u001b[0m\u001b[0m\n",
      "\u001b[0;31mValueError\u001b[0m: Metadata inference failed in `dropna`.\n\nYou have supplied a custom function and Dask is unable to \ndetermine the type of output that that function returns. \n\nTo resolve this please provide a meta= keyword.\nThe docstring of the Dask function you ran should have more information.\n\nOriginal error is below:\n------------------------\nTypeError(\"Index(...) must be called with a collection of some kind, 'HS Code' was passed\")\n\nTraceback:\n---------\n  File \"/usr/local/lib/python3.8/dist-packages/dask/dataframe/utils.py\", line 172, in raise_on_meta_error\n    yield\n  File \"/usr/local/lib/python3.8/dist-packages/dask/dataframe/core.py\", line 5055, in _emulate\n    return func(*_extract_meta(args, True), **_extract_meta(kwargs, True))\n  File \"/usr/local/lib/python3.8/dist-packages/dask/utils.py\", line 894, in __call__\n    return getattr(obj, self.method)(*args, **kwargs)\n  File \"/usr/local/lib/python3.8/dist-packages/pandas/core/frame.py\", line 5156, in dropna\n    indices = ax.get_indexer_for(subset)\n  File \"/usr/local/lib/python3.8/dist-packages/pandas/core/indexes/base.py\", line 4960, in get_indexer_for\n    return self.get_indexer(target, **kwargs)\n  File \"/usr/local/lib/python3.8/dist-packages/pandas/core/indexes/base.py\", line 3147, in get_indexer\n    target = ensure_index(target)\n  File \"/usr/local/lib/python3.8/dist-packages/pandas/core/indexes/base.py\", line 5917, in ensure_index\n    return Index(index_like)\n  File \"/usr/local/lib/python3.8/dist-packages/pandas/core/indexes/base.py\", line 372, in __new__\n    raise cls._scalar_data_error(data)\n"
     ]
    }
   ],
   "source": [
    "import_cust_df = import_cust_df.dropna(subset='HS Code').compute()\n",
    "len(import_cust_df)"
   ]
  },
  {
   "cell_type": "code",
   "execution_count": 3,
   "id": "demographic-wayne",
   "metadata": {},
   "outputs": [],
   "source": [
    "# Look at the HS codes\n",
    "HS_codes = pd.read_csv('/data/common/trade_data/HS/hts_lookup_2019_v1.csv', index_col=0).astype({'hs': 'str'})\n"
   ]
  },
  {
   "cell_type": "code",
   "execution_count": 4,
   "id": "environmental-encyclopedia",
   "metadata": {},
   "outputs": [
    {
     "data": {
      "text/html": [
       "<div>\n",
       "<style scoped>\n",
       "    .dataframe tbody tr th:only-of-type {\n",
       "        vertical-align: middle;\n",
       "    }\n",
       "\n",
       "    .dataframe tbody tr th {\n",
       "        vertical-align: top;\n",
       "    }\n",
       "\n",
       "    .dataframe thead th {\n",
       "        text-align: right;\n",
       "    }\n",
       "</style>\n",
       "<table border=\"1\" class=\"dataframe\">\n",
       "  <thead>\n",
       "    <tr style=\"text-align: right;\">\n",
       "      <th></th>\n",
       "      <th>hs</th>\n",
       "      <th>desc</th>\n",
       "    </tr>\n",
       "  </thead>\n",
       "  <tbody>\n",
       "    <tr>\n",
       "      <th>0</th>\n",
       "      <td>10121</td>\n",
       "      <td>Live horses, asses, mules and hinnies, Horses,...</td>\n",
       "    </tr>\n",
       "    <tr>\n",
       "      <th>1</th>\n",
       "      <td>10129</td>\n",
       "      <td>Live horses, asses, mules and hinnies, Horses,...</td>\n",
       "    </tr>\n",
       "    <tr>\n",
       "      <th>2</th>\n",
       "      <td>10130</td>\n",
       "      <td>Live horses, asses, mules and hinnies, Asses, ...</td>\n",
       "    </tr>\n",
       "    <tr>\n",
       "      <th>3</th>\n",
       "      <td>10190</td>\n",
       "      <td>Live horses, asses, mules and hinnies, Other, ...</td>\n",
       "    </tr>\n",
       "    <tr>\n",
       "      <th>4</th>\n",
       "      <td>10221</td>\n",
       "      <td>Live bovine animals, Cattle, Purebred breeding...</td>\n",
       "    </tr>\n",
       "    <tr>\n",
       "      <th>5</th>\n",
       "      <td>10229</td>\n",
       "      <td>Live bovine animals, Cattle, Other, Cows impor...</td>\n",
       "    </tr>\n",
       "    <tr>\n",
       "      <th>6</th>\n",
       "      <td>10231</td>\n",
       "      <td>Live bovine animals, Buffalo, Purebred breedin...</td>\n",
       "    </tr>\n",
       "    <tr>\n",
       "      <th>7</th>\n",
       "      <td>10239</td>\n",
       "      <td>Live bovine animals, Buffalo, Other, Bison, We...</td>\n",
       "    </tr>\n",
       "    <tr>\n",
       "      <th>8</th>\n",
       "      <td>10290</td>\n",
       "      <td>Live bovine animals, Other, Other, Other, Weig...</td>\n",
       "    </tr>\n",
       "    <tr>\n",
       "      <th>9</th>\n",
       "      <td>10310</td>\n",
       "      <td>Live swine, Purebred breeding animals</td>\n",
       "    </tr>\n",
       "  </tbody>\n",
       "</table>\n",
       "</div>"
      ],
      "text/plain": [
       "      hs                                               desc\n",
       "0  10121  Live horses, asses, mules and hinnies, Horses,...\n",
       "1  10129  Live horses, asses, mules and hinnies, Horses,...\n",
       "2  10130  Live horses, asses, mules and hinnies, Asses, ...\n",
       "3  10190  Live horses, asses, mules and hinnies, Other, ...\n",
       "4  10221  Live bovine animals, Cattle, Purebred breeding...\n",
       "5  10229  Live bovine animals, Cattle, Other, Cows impor...\n",
       "6  10231  Live bovine animals, Buffalo, Purebred breedin...\n",
       "7  10239  Live bovine animals, Buffalo, Other, Bison, We...\n",
       "8  10290  Live bovine animals, Other, Other, Other, Weig...\n",
       "9  10310              Live swine, Purebred breeding animals"
      ]
     },
     "execution_count": 4,
     "metadata": {},
     "output_type": "execute_result"
    }
   ],
   "source": [
    "HS_codes.head(10)"
   ]
  },
  {
   "cell_type": "code",
   "execution_count": 5,
   "id": "younger-frost",
   "metadata": {},
   "outputs": [
    {
     "data": {
      "text/plain": [
       "5520"
      ]
     },
     "execution_count": 5,
     "metadata": {},
     "output_type": "execute_result"
    }
   ],
   "source": [
    "len(HS_codes)"
   ]
  },
  {
   "cell_type": "code",
   "execution_count": 53,
   "id": "incident-premises",
   "metadata": {},
   "outputs": [
    {
     "name": "stdout",
     "output_type": "stream",
     "text": [
      "[                                        ] | 0% Completed | 30.9s\n",
      "[                                        ] | 0% Completed | 31.8s\n",
      "[                                        ] | 0% Completed | 32.0s\n"
     ]
    },
    {
     "ename": "TypeError",
     "evalue": "int() argument must be a string, a bytes-like object or a number, not 'NoneType'",
     "output_type": "error",
     "traceback": [
      "\u001b[0;31m---------------------------------------------------------------------------\u001b[0m",
      "\u001b[0;31mTypeError\u001b[0m                                 Traceback (most recent call last)",
      "\u001b[0;32m<ipython-input-53-c59c4abbf04e>\u001b[0m in \u001b[0;36m<module>\u001b[0;34m\u001b[0m\n\u001b[0;32m----> 1\u001b[0;31m \u001b[0mhs_codes\u001b[0m \u001b[0;34m=\u001b[0m \u001b[0mimport_df\u001b[0m\u001b[0;34m.\u001b[0m\u001b[0mgroupby\u001b[0m\u001b[0;34m(\u001b[0m\u001b[0;34m[\u001b[0m\u001b[0;34m'HS Code'\u001b[0m\u001b[0;34m]\u001b[0m\u001b[0;34m)\u001b[0m\u001b[0;34m.\u001b[0m\u001b[0mcount\u001b[0m\u001b[0;34m(\u001b[0m\u001b[0;34m)\u001b[0m\u001b[0;34m.\u001b[0m\u001b[0mcompute\u001b[0m\u001b[0;34m(\u001b[0m\u001b[0;34m)\u001b[0m\u001b[0;34m\u001b[0m\u001b[0;34m\u001b[0m\u001b[0m\n\u001b[0m",
      "\u001b[0;32m/usr/local/lib/python3.8/dist-packages/dask/base.py\u001b[0m in \u001b[0;36mcompute\u001b[0;34m(self, **kwargs)\u001b[0m\n\u001b[1;32m    164\u001b[0m         \u001b[0mdask\u001b[0m\u001b[0;34m.\u001b[0m\u001b[0mbase\u001b[0m\u001b[0;34m.\u001b[0m\u001b[0mcompute\u001b[0m\u001b[0;34m\u001b[0m\u001b[0;34m\u001b[0m\u001b[0m\n\u001b[1;32m    165\u001b[0m         \"\"\"\n\u001b[0;32m--> 166\u001b[0;31m         \u001b[0;34m(\u001b[0m\u001b[0mresult\u001b[0m\u001b[0;34m,\u001b[0m\u001b[0;34m)\u001b[0m \u001b[0;34m=\u001b[0m \u001b[0mcompute\u001b[0m\u001b[0;34m(\u001b[0m\u001b[0mself\u001b[0m\u001b[0;34m,\u001b[0m \u001b[0mtraverse\u001b[0m\u001b[0;34m=\u001b[0m\u001b[0;32mFalse\u001b[0m\u001b[0;34m,\u001b[0m \u001b[0;34m**\u001b[0m\u001b[0mkwargs\u001b[0m\u001b[0;34m)\u001b[0m\u001b[0;34m\u001b[0m\u001b[0;34m\u001b[0m\u001b[0m\n\u001b[0m\u001b[1;32m    167\u001b[0m         \u001b[0;32mreturn\u001b[0m \u001b[0mresult\u001b[0m\u001b[0;34m\u001b[0m\u001b[0;34m\u001b[0m\u001b[0m\n\u001b[1;32m    168\u001b[0m \u001b[0;34m\u001b[0m\u001b[0m\n",
      "\u001b[0;32m/usr/local/lib/python3.8/dist-packages/dask/base.py\u001b[0m in \u001b[0;36mcompute\u001b[0;34m(*args, **kwargs)\u001b[0m\n\u001b[1;32m    442\u001b[0m         \u001b[0mpostcomputes\u001b[0m\u001b[0;34m.\u001b[0m\u001b[0mappend\u001b[0m\u001b[0;34m(\u001b[0m\u001b[0mx\u001b[0m\u001b[0;34m.\u001b[0m\u001b[0m__dask_postcompute__\u001b[0m\u001b[0;34m(\u001b[0m\u001b[0;34m)\u001b[0m\u001b[0;34m)\u001b[0m\u001b[0;34m\u001b[0m\u001b[0;34m\u001b[0m\u001b[0m\n\u001b[1;32m    443\u001b[0m \u001b[0;34m\u001b[0m\u001b[0m\n\u001b[0;32m--> 444\u001b[0;31m     \u001b[0mresults\u001b[0m \u001b[0;34m=\u001b[0m \u001b[0mschedule\u001b[0m\u001b[0;34m(\u001b[0m\u001b[0mdsk\u001b[0m\u001b[0;34m,\u001b[0m \u001b[0mkeys\u001b[0m\u001b[0;34m,\u001b[0m \u001b[0;34m**\u001b[0m\u001b[0mkwargs\u001b[0m\u001b[0;34m)\u001b[0m\u001b[0;34m\u001b[0m\u001b[0;34m\u001b[0m\u001b[0m\n\u001b[0m\u001b[1;32m    445\u001b[0m     \u001b[0;32mreturn\u001b[0m \u001b[0mrepack\u001b[0m\u001b[0;34m(\u001b[0m\u001b[0;34m[\u001b[0m\u001b[0mf\u001b[0m\u001b[0;34m(\u001b[0m\u001b[0mr\u001b[0m\u001b[0;34m,\u001b[0m \u001b[0;34m*\u001b[0m\u001b[0ma\u001b[0m\u001b[0;34m)\u001b[0m \u001b[0;32mfor\u001b[0m \u001b[0mr\u001b[0m\u001b[0;34m,\u001b[0m \u001b[0;34m(\u001b[0m\u001b[0mf\u001b[0m\u001b[0;34m,\u001b[0m \u001b[0ma\u001b[0m\u001b[0;34m)\u001b[0m \u001b[0;32min\u001b[0m \u001b[0mzip\u001b[0m\u001b[0;34m(\u001b[0m\u001b[0mresults\u001b[0m\u001b[0;34m,\u001b[0m \u001b[0mpostcomputes\u001b[0m\u001b[0;34m)\u001b[0m\u001b[0;34m]\u001b[0m\u001b[0;34m)\u001b[0m\u001b[0;34m\u001b[0m\u001b[0;34m\u001b[0m\u001b[0m\n\u001b[1;32m    446\u001b[0m \u001b[0;34m\u001b[0m\u001b[0m\n",
      "\u001b[0;32m/usr/local/lib/python3.8/dist-packages/dask/threaded.py\u001b[0m in \u001b[0;36mget\u001b[0;34m(dsk, result, cache, num_workers, pool, **kwargs)\u001b[0m\n\u001b[1;32m     74\u001b[0m                 \u001b[0mpools\u001b[0m\u001b[0;34m[\u001b[0m\u001b[0mthread\u001b[0m\u001b[0;34m]\u001b[0m\u001b[0;34m[\u001b[0m\u001b[0mnum_workers\u001b[0m\u001b[0;34m]\u001b[0m \u001b[0;34m=\u001b[0m \u001b[0mpool\u001b[0m\u001b[0;34m\u001b[0m\u001b[0;34m\u001b[0m\u001b[0m\n\u001b[1;32m     75\u001b[0m \u001b[0;34m\u001b[0m\u001b[0m\n\u001b[0;32m---> 76\u001b[0;31m     results = get_async(\n\u001b[0m\u001b[1;32m     77\u001b[0m         \u001b[0mpool\u001b[0m\u001b[0;34m.\u001b[0m\u001b[0mapply_async\u001b[0m\u001b[0;34m,\u001b[0m\u001b[0;34m\u001b[0m\u001b[0;34m\u001b[0m\u001b[0m\n\u001b[1;32m     78\u001b[0m         \u001b[0mlen\u001b[0m\u001b[0;34m(\u001b[0m\u001b[0mpool\u001b[0m\u001b[0;34m.\u001b[0m\u001b[0m_pool\u001b[0m\u001b[0;34m)\u001b[0m\u001b[0;34m,\u001b[0m\u001b[0;34m\u001b[0m\u001b[0;34m\u001b[0m\u001b[0m\n",
      "\u001b[0;32m/usr/local/lib/python3.8/dist-packages/dask/local.py\u001b[0m in \u001b[0;36mget_async\u001b[0;34m(apply_async, num_workers, dsk, result, cache, get_id, rerun_exceptions_locally, pack_exception, raise_exception, callbacks, dumps, loads, **kwargs)\u001b[0m\n\u001b[1;32m    484\u001b[0m                         \u001b[0m_execute_task\u001b[0m\u001b[0;34m(\u001b[0m\u001b[0mtask\u001b[0m\u001b[0;34m,\u001b[0m \u001b[0mdata\u001b[0m\u001b[0;34m)\u001b[0m  \u001b[0;31m# Re-execute locally\u001b[0m\u001b[0;34m\u001b[0m\u001b[0;34m\u001b[0m\u001b[0m\n\u001b[1;32m    485\u001b[0m                     \u001b[0;32melse\u001b[0m\u001b[0;34m:\u001b[0m\u001b[0;34m\u001b[0m\u001b[0;34m\u001b[0m\u001b[0m\n\u001b[0;32m--> 486\u001b[0;31m                         \u001b[0mraise_exception\u001b[0m\u001b[0;34m(\u001b[0m\u001b[0mexc\u001b[0m\u001b[0;34m,\u001b[0m \u001b[0mtb\u001b[0m\u001b[0;34m)\u001b[0m\u001b[0;34m\u001b[0m\u001b[0;34m\u001b[0m\u001b[0m\n\u001b[0m\u001b[1;32m    487\u001b[0m                 \u001b[0mres\u001b[0m\u001b[0;34m,\u001b[0m \u001b[0mworker_id\u001b[0m \u001b[0;34m=\u001b[0m \u001b[0mloads\u001b[0m\u001b[0;34m(\u001b[0m\u001b[0mres_info\u001b[0m\u001b[0;34m)\u001b[0m\u001b[0;34m\u001b[0m\u001b[0;34m\u001b[0m\u001b[0m\n\u001b[1;32m    488\u001b[0m                 \u001b[0mstate\u001b[0m\u001b[0;34m[\u001b[0m\u001b[0;34m\"cache\"\u001b[0m\u001b[0;34m]\u001b[0m\u001b[0;34m[\u001b[0m\u001b[0mkey\u001b[0m\u001b[0;34m]\u001b[0m \u001b[0;34m=\u001b[0m \u001b[0mres\u001b[0m\u001b[0;34m\u001b[0m\u001b[0;34m\u001b[0m\u001b[0m\n",
      "\u001b[0;32m/usr/local/lib/python3.8/dist-packages/dask/local.py\u001b[0m in \u001b[0;36mreraise\u001b[0;34m(exc, tb)\u001b[0m\n\u001b[1;32m    314\u001b[0m     \u001b[0;32mif\u001b[0m \u001b[0mexc\u001b[0m\u001b[0;34m.\u001b[0m\u001b[0m__traceback__\u001b[0m \u001b[0;32mis\u001b[0m \u001b[0;32mnot\u001b[0m \u001b[0mtb\u001b[0m\u001b[0;34m:\u001b[0m\u001b[0;34m\u001b[0m\u001b[0;34m\u001b[0m\u001b[0m\n\u001b[1;32m    315\u001b[0m         \u001b[0;32mraise\u001b[0m \u001b[0mexc\u001b[0m\u001b[0;34m.\u001b[0m\u001b[0mwith_traceback\u001b[0m\u001b[0;34m(\u001b[0m\u001b[0mtb\u001b[0m\u001b[0;34m)\u001b[0m\u001b[0;34m\u001b[0m\u001b[0;34m\u001b[0m\u001b[0m\n\u001b[0;32m--> 316\u001b[0;31m     \u001b[0;32mraise\u001b[0m \u001b[0mexc\u001b[0m\u001b[0;34m\u001b[0m\u001b[0;34m\u001b[0m\u001b[0m\n\u001b[0m\u001b[1;32m    317\u001b[0m \u001b[0;34m\u001b[0m\u001b[0m\n\u001b[1;32m    318\u001b[0m \u001b[0;34m\u001b[0m\u001b[0m\n",
      "\u001b[0;32m/usr/local/lib/python3.8/dist-packages/dask/local.py\u001b[0m in \u001b[0;36mexecute_task\u001b[0;34m(key, task_info, dumps, loads, get_id, pack_exception)\u001b[0m\n\u001b[1;32m    220\u001b[0m     \u001b[0;32mtry\u001b[0m\u001b[0;34m:\u001b[0m\u001b[0;34m\u001b[0m\u001b[0;34m\u001b[0m\u001b[0m\n\u001b[1;32m    221\u001b[0m         \u001b[0mtask\u001b[0m\u001b[0;34m,\u001b[0m \u001b[0mdata\u001b[0m \u001b[0;34m=\u001b[0m \u001b[0mloads\u001b[0m\u001b[0;34m(\u001b[0m\u001b[0mtask_info\u001b[0m\u001b[0;34m)\u001b[0m\u001b[0;34m\u001b[0m\u001b[0;34m\u001b[0m\u001b[0m\n\u001b[0;32m--> 222\u001b[0;31m         \u001b[0mresult\u001b[0m \u001b[0;34m=\u001b[0m \u001b[0m_execute_task\u001b[0m\u001b[0;34m(\u001b[0m\u001b[0mtask\u001b[0m\u001b[0;34m,\u001b[0m \u001b[0mdata\u001b[0m\u001b[0;34m)\u001b[0m\u001b[0;34m\u001b[0m\u001b[0;34m\u001b[0m\u001b[0m\n\u001b[0m\u001b[1;32m    223\u001b[0m         \u001b[0mid\u001b[0m \u001b[0;34m=\u001b[0m \u001b[0mget_id\u001b[0m\u001b[0;34m(\u001b[0m\u001b[0;34m)\u001b[0m\u001b[0;34m\u001b[0m\u001b[0;34m\u001b[0m\u001b[0m\n\u001b[1;32m    224\u001b[0m         \u001b[0mresult\u001b[0m \u001b[0;34m=\u001b[0m \u001b[0mdumps\u001b[0m\u001b[0;34m(\u001b[0m\u001b[0;34m(\u001b[0m\u001b[0mresult\u001b[0m\u001b[0;34m,\u001b[0m \u001b[0mid\u001b[0m\u001b[0;34m)\u001b[0m\u001b[0;34m)\u001b[0m\u001b[0;34m\u001b[0m\u001b[0;34m\u001b[0m\u001b[0m\n",
      "\u001b[0;32m/usr/local/lib/python3.8/dist-packages/dask/core.py\u001b[0m in \u001b[0;36m_execute_task\u001b[0;34m(arg, cache, dsk)\u001b[0m\n\u001b[1;32m    119\u001b[0m         \u001b[0;31m# temporaries by their reference count and can execute certain\u001b[0m\u001b[0;34m\u001b[0m\u001b[0;34m\u001b[0m\u001b[0;34m\u001b[0m\u001b[0m\n\u001b[1;32m    120\u001b[0m         \u001b[0;31m# operations in-place.\u001b[0m\u001b[0;34m\u001b[0m\u001b[0;34m\u001b[0m\u001b[0;34m\u001b[0m\u001b[0m\n\u001b[0;32m--> 121\u001b[0;31m         \u001b[0;32mreturn\u001b[0m \u001b[0mfunc\u001b[0m\u001b[0;34m(\u001b[0m\u001b[0;34m*\u001b[0m\u001b[0;34m(\u001b[0m\u001b[0m_execute_task\u001b[0m\u001b[0;34m(\u001b[0m\u001b[0ma\u001b[0m\u001b[0;34m,\u001b[0m \u001b[0mcache\u001b[0m\u001b[0;34m)\u001b[0m \u001b[0;32mfor\u001b[0m \u001b[0ma\u001b[0m \u001b[0;32min\u001b[0m \u001b[0margs\u001b[0m\u001b[0;34m)\u001b[0m\u001b[0;34m)\u001b[0m\u001b[0;34m\u001b[0m\u001b[0;34m\u001b[0m\u001b[0m\n\u001b[0m\u001b[1;32m    122\u001b[0m     \u001b[0;32melif\u001b[0m \u001b[0;32mnot\u001b[0m \u001b[0mishashable\u001b[0m\u001b[0;34m(\u001b[0m\u001b[0marg\u001b[0m\u001b[0;34m)\u001b[0m\u001b[0;34m:\u001b[0m\u001b[0;34m\u001b[0m\u001b[0;34m\u001b[0m\u001b[0m\n\u001b[1;32m    123\u001b[0m         \u001b[0;32mreturn\u001b[0m \u001b[0marg\u001b[0m\u001b[0;34m\u001b[0m\u001b[0;34m\u001b[0m\u001b[0m\n",
      "\u001b[0;32m/usr/local/lib/python3.8/dist-packages/dask/core.py\u001b[0m in \u001b[0;36m<genexpr>\u001b[0;34m(.0)\u001b[0m\n\u001b[1;32m    119\u001b[0m         \u001b[0;31m# temporaries by their reference count and can execute certain\u001b[0m\u001b[0;34m\u001b[0m\u001b[0;34m\u001b[0m\u001b[0;34m\u001b[0m\u001b[0m\n\u001b[1;32m    120\u001b[0m         \u001b[0;31m# operations in-place.\u001b[0m\u001b[0;34m\u001b[0m\u001b[0;34m\u001b[0m\u001b[0;34m\u001b[0m\u001b[0m\n\u001b[0;32m--> 121\u001b[0;31m         \u001b[0;32mreturn\u001b[0m \u001b[0mfunc\u001b[0m\u001b[0;34m(\u001b[0m\u001b[0;34m*\u001b[0m\u001b[0;34m(\u001b[0m\u001b[0m_execute_task\u001b[0m\u001b[0;34m(\u001b[0m\u001b[0ma\u001b[0m\u001b[0;34m,\u001b[0m \u001b[0mcache\u001b[0m\u001b[0;34m)\u001b[0m \u001b[0;32mfor\u001b[0m \u001b[0ma\u001b[0m \u001b[0;32min\u001b[0m \u001b[0margs\u001b[0m\u001b[0;34m)\u001b[0m\u001b[0;34m)\u001b[0m\u001b[0;34m\u001b[0m\u001b[0;34m\u001b[0m\u001b[0m\n\u001b[0m\u001b[1;32m    122\u001b[0m     \u001b[0;32melif\u001b[0m \u001b[0;32mnot\u001b[0m \u001b[0mishashable\u001b[0m\u001b[0;34m(\u001b[0m\u001b[0marg\u001b[0m\u001b[0;34m)\u001b[0m\u001b[0;34m:\u001b[0m\u001b[0;34m\u001b[0m\u001b[0;34m\u001b[0m\u001b[0m\n\u001b[1;32m    123\u001b[0m         \u001b[0;32mreturn\u001b[0m \u001b[0marg\u001b[0m\u001b[0;34m\u001b[0m\u001b[0;34m\u001b[0m\u001b[0m\n",
      "\u001b[0;32m/usr/local/lib/python3.8/dist-packages/dask/core.py\u001b[0m in \u001b[0;36m_execute_task\u001b[0;34m(arg, cache, dsk)\u001b[0m\n\u001b[1;32m    113\u001b[0m     \"\"\"\n\u001b[1;32m    114\u001b[0m     \u001b[0;32mif\u001b[0m \u001b[0misinstance\u001b[0m\u001b[0;34m(\u001b[0m\u001b[0marg\u001b[0m\u001b[0;34m,\u001b[0m \u001b[0mlist\u001b[0m\u001b[0;34m)\u001b[0m\u001b[0;34m:\u001b[0m\u001b[0;34m\u001b[0m\u001b[0;34m\u001b[0m\u001b[0m\n\u001b[0;32m--> 115\u001b[0;31m         \u001b[0;32mreturn\u001b[0m \u001b[0;34m[\u001b[0m\u001b[0m_execute_task\u001b[0m\u001b[0;34m(\u001b[0m\u001b[0ma\u001b[0m\u001b[0;34m,\u001b[0m \u001b[0mcache\u001b[0m\u001b[0;34m)\u001b[0m \u001b[0;32mfor\u001b[0m \u001b[0ma\u001b[0m \u001b[0;32min\u001b[0m \u001b[0marg\u001b[0m\u001b[0;34m]\u001b[0m\u001b[0;34m\u001b[0m\u001b[0;34m\u001b[0m\u001b[0m\n\u001b[0m\u001b[1;32m    116\u001b[0m     \u001b[0;32melif\u001b[0m \u001b[0mistask\u001b[0m\u001b[0;34m(\u001b[0m\u001b[0marg\u001b[0m\u001b[0;34m)\u001b[0m\u001b[0;34m:\u001b[0m\u001b[0;34m\u001b[0m\u001b[0;34m\u001b[0m\u001b[0m\n\u001b[1;32m    117\u001b[0m         \u001b[0mfunc\u001b[0m\u001b[0;34m,\u001b[0m \u001b[0margs\u001b[0m \u001b[0;34m=\u001b[0m \u001b[0marg\u001b[0m\u001b[0;34m[\u001b[0m\u001b[0;36m0\u001b[0m\u001b[0;34m]\u001b[0m\u001b[0;34m,\u001b[0m \u001b[0marg\u001b[0m\u001b[0;34m[\u001b[0m\u001b[0;36m1\u001b[0m\u001b[0;34m:\u001b[0m\u001b[0;34m]\u001b[0m\u001b[0;34m\u001b[0m\u001b[0;34m\u001b[0m\u001b[0m\n",
      "\u001b[0;32m/usr/local/lib/python3.8/dist-packages/dask/core.py\u001b[0m in \u001b[0;36m<listcomp>\u001b[0;34m(.0)\u001b[0m\n\u001b[1;32m    113\u001b[0m     \"\"\"\n\u001b[1;32m    114\u001b[0m     \u001b[0;32mif\u001b[0m \u001b[0misinstance\u001b[0m\u001b[0;34m(\u001b[0m\u001b[0marg\u001b[0m\u001b[0;34m,\u001b[0m \u001b[0mlist\u001b[0m\u001b[0;34m)\u001b[0m\u001b[0;34m:\u001b[0m\u001b[0;34m\u001b[0m\u001b[0;34m\u001b[0m\u001b[0m\n\u001b[0;32m--> 115\u001b[0;31m         \u001b[0;32mreturn\u001b[0m \u001b[0;34m[\u001b[0m\u001b[0m_execute_task\u001b[0m\u001b[0;34m(\u001b[0m\u001b[0ma\u001b[0m\u001b[0;34m,\u001b[0m \u001b[0mcache\u001b[0m\u001b[0;34m)\u001b[0m \u001b[0;32mfor\u001b[0m \u001b[0ma\u001b[0m \u001b[0;32min\u001b[0m \u001b[0marg\u001b[0m\u001b[0;34m]\u001b[0m\u001b[0;34m\u001b[0m\u001b[0;34m\u001b[0m\u001b[0m\n\u001b[0m\u001b[1;32m    116\u001b[0m     \u001b[0;32melif\u001b[0m \u001b[0mistask\u001b[0m\u001b[0;34m(\u001b[0m\u001b[0marg\u001b[0m\u001b[0;34m)\u001b[0m\u001b[0;34m:\u001b[0m\u001b[0;34m\u001b[0m\u001b[0;34m\u001b[0m\u001b[0m\n\u001b[1;32m    117\u001b[0m         \u001b[0mfunc\u001b[0m\u001b[0;34m,\u001b[0m \u001b[0margs\u001b[0m \u001b[0;34m=\u001b[0m \u001b[0marg\u001b[0m\u001b[0;34m[\u001b[0m\u001b[0;36m0\u001b[0m\u001b[0;34m]\u001b[0m\u001b[0;34m,\u001b[0m \u001b[0marg\u001b[0m\u001b[0;34m[\u001b[0m\u001b[0;36m1\u001b[0m\u001b[0;34m:\u001b[0m\u001b[0;34m]\u001b[0m\u001b[0;34m\u001b[0m\u001b[0;34m\u001b[0m\u001b[0m\n",
      "\u001b[0;32m/usr/local/lib/python3.8/dist-packages/dask/core.py\u001b[0m in \u001b[0;36m_execute_task\u001b[0;34m(arg, cache, dsk)\u001b[0m\n\u001b[1;32m    119\u001b[0m         \u001b[0;31m# temporaries by their reference count and can execute certain\u001b[0m\u001b[0;34m\u001b[0m\u001b[0;34m\u001b[0m\u001b[0;34m\u001b[0m\u001b[0m\n\u001b[1;32m    120\u001b[0m         \u001b[0;31m# operations in-place.\u001b[0m\u001b[0;34m\u001b[0m\u001b[0;34m\u001b[0m\u001b[0;34m\u001b[0m\u001b[0m\n\u001b[0;32m--> 121\u001b[0;31m         \u001b[0;32mreturn\u001b[0m \u001b[0mfunc\u001b[0m\u001b[0;34m(\u001b[0m\u001b[0;34m*\u001b[0m\u001b[0;34m(\u001b[0m\u001b[0m_execute_task\u001b[0m\u001b[0;34m(\u001b[0m\u001b[0ma\u001b[0m\u001b[0;34m,\u001b[0m \u001b[0mcache\u001b[0m\u001b[0;34m)\u001b[0m \u001b[0;32mfor\u001b[0m \u001b[0ma\u001b[0m \u001b[0;32min\u001b[0m \u001b[0margs\u001b[0m\u001b[0;34m)\u001b[0m\u001b[0;34m)\u001b[0m\u001b[0;34m\u001b[0m\u001b[0;34m\u001b[0m\u001b[0m\n\u001b[0m\u001b[1;32m    122\u001b[0m     \u001b[0;32melif\u001b[0m \u001b[0;32mnot\u001b[0m \u001b[0mishashable\u001b[0m\u001b[0;34m(\u001b[0m\u001b[0marg\u001b[0m\u001b[0;34m)\u001b[0m\u001b[0;34m:\u001b[0m\u001b[0;34m\u001b[0m\u001b[0;34m\u001b[0m\u001b[0m\n\u001b[1;32m    123\u001b[0m         \u001b[0;32mreturn\u001b[0m \u001b[0marg\u001b[0m\u001b[0;34m\u001b[0m\u001b[0;34m\u001b[0m\u001b[0m\n",
      "\u001b[0;32m/usr/local/lib/python3.8/dist-packages/dask/optimization.py\u001b[0m in \u001b[0;36m__call__\u001b[0;34m(self, *args)\u001b[0m\n\u001b[1;32m   1020\u001b[0m         \u001b[0;32mif\u001b[0m \u001b[0;32mnot\u001b[0m \u001b[0mlen\u001b[0m\u001b[0;34m(\u001b[0m\u001b[0margs\u001b[0m\u001b[0;34m)\u001b[0m \u001b[0;34m==\u001b[0m \u001b[0mlen\u001b[0m\u001b[0;34m(\u001b[0m\u001b[0mself\u001b[0m\u001b[0;34m.\u001b[0m\u001b[0minkeys\u001b[0m\u001b[0;34m)\u001b[0m\u001b[0;34m:\u001b[0m\u001b[0;34m\u001b[0m\u001b[0;34m\u001b[0m\u001b[0m\n\u001b[1;32m   1021\u001b[0m             \u001b[0;32mraise\u001b[0m \u001b[0mValueError\u001b[0m\u001b[0;34m(\u001b[0m\u001b[0;34m\"Expected %d args, got %d\"\u001b[0m \u001b[0;34m%\u001b[0m \u001b[0;34m(\u001b[0m\u001b[0mlen\u001b[0m\u001b[0;34m(\u001b[0m\u001b[0mself\u001b[0m\u001b[0;34m.\u001b[0m\u001b[0minkeys\u001b[0m\u001b[0;34m)\u001b[0m\u001b[0;34m,\u001b[0m \u001b[0mlen\u001b[0m\u001b[0;34m(\u001b[0m\u001b[0margs\u001b[0m\u001b[0;34m)\u001b[0m\u001b[0;34m)\u001b[0m\u001b[0;34m)\u001b[0m\u001b[0;34m\u001b[0m\u001b[0;34m\u001b[0m\u001b[0m\n\u001b[0;32m-> 1022\u001b[0;31m         \u001b[0;32mreturn\u001b[0m \u001b[0mcore\u001b[0m\u001b[0;34m.\u001b[0m\u001b[0mget\u001b[0m\u001b[0;34m(\u001b[0m\u001b[0mself\u001b[0m\u001b[0;34m.\u001b[0m\u001b[0mdsk\u001b[0m\u001b[0;34m,\u001b[0m \u001b[0mself\u001b[0m\u001b[0;34m.\u001b[0m\u001b[0moutkey\u001b[0m\u001b[0;34m,\u001b[0m \u001b[0mdict\u001b[0m\u001b[0;34m(\u001b[0m\u001b[0mzip\u001b[0m\u001b[0;34m(\u001b[0m\u001b[0mself\u001b[0m\u001b[0;34m.\u001b[0m\u001b[0minkeys\u001b[0m\u001b[0;34m,\u001b[0m \u001b[0margs\u001b[0m\u001b[0;34m)\u001b[0m\u001b[0;34m)\u001b[0m\u001b[0;34m)\u001b[0m\u001b[0;34m\u001b[0m\u001b[0;34m\u001b[0m\u001b[0m\n\u001b[0m\u001b[1;32m   1023\u001b[0m \u001b[0;34m\u001b[0m\u001b[0m\n\u001b[1;32m   1024\u001b[0m     \u001b[0;32mdef\u001b[0m \u001b[0m__reduce__\u001b[0m\u001b[0;34m(\u001b[0m\u001b[0mself\u001b[0m\u001b[0;34m)\u001b[0m\u001b[0;34m:\u001b[0m\u001b[0;34m\u001b[0m\u001b[0;34m\u001b[0m\u001b[0m\n",
      "\u001b[0;32m/usr/local/lib/python3.8/dist-packages/dask/core.py\u001b[0m in \u001b[0;36mget\u001b[0;34m(dsk, out, cache)\u001b[0m\n\u001b[1;32m    149\u001b[0m     \u001b[0;32mfor\u001b[0m \u001b[0mkey\u001b[0m \u001b[0;32min\u001b[0m \u001b[0mtoposort\u001b[0m\u001b[0;34m(\u001b[0m\u001b[0mdsk\u001b[0m\u001b[0;34m)\u001b[0m\u001b[0;34m:\u001b[0m\u001b[0;34m\u001b[0m\u001b[0;34m\u001b[0m\u001b[0m\n\u001b[1;32m    150\u001b[0m         \u001b[0mtask\u001b[0m \u001b[0;34m=\u001b[0m \u001b[0mdsk\u001b[0m\u001b[0;34m[\u001b[0m\u001b[0mkey\u001b[0m\u001b[0;34m]\u001b[0m\u001b[0;34m\u001b[0m\u001b[0;34m\u001b[0m\u001b[0m\n\u001b[0;32m--> 151\u001b[0;31m         \u001b[0mresult\u001b[0m \u001b[0;34m=\u001b[0m \u001b[0m_execute_task\u001b[0m\u001b[0;34m(\u001b[0m\u001b[0mtask\u001b[0m\u001b[0;34m,\u001b[0m \u001b[0mcache\u001b[0m\u001b[0;34m)\u001b[0m\u001b[0;34m\u001b[0m\u001b[0;34m\u001b[0m\u001b[0m\n\u001b[0m\u001b[1;32m    152\u001b[0m         \u001b[0mcache\u001b[0m\u001b[0;34m[\u001b[0m\u001b[0mkey\u001b[0m\u001b[0;34m]\u001b[0m \u001b[0;34m=\u001b[0m \u001b[0mresult\u001b[0m\u001b[0;34m\u001b[0m\u001b[0;34m\u001b[0m\u001b[0m\n\u001b[1;32m    153\u001b[0m     \u001b[0mresult\u001b[0m \u001b[0;34m=\u001b[0m \u001b[0m_execute_task\u001b[0m\u001b[0;34m(\u001b[0m\u001b[0mout\u001b[0m\u001b[0;34m,\u001b[0m \u001b[0mcache\u001b[0m\u001b[0;34m)\u001b[0m\u001b[0;34m\u001b[0m\u001b[0;34m\u001b[0m\u001b[0m\n",
      "\u001b[0;32m/usr/local/lib/python3.8/dist-packages/dask/core.py\u001b[0m in \u001b[0;36m_execute_task\u001b[0;34m(arg, cache, dsk)\u001b[0m\n\u001b[1;32m    119\u001b[0m         \u001b[0;31m# temporaries by their reference count and can execute certain\u001b[0m\u001b[0;34m\u001b[0m\u001b[0;34m\u001b[0m\u001b[0;34m\u001b[0m\u001b[0m\n\u001b[1;32m    120\u001b[0m         \u001b[0;31m# operations in-place.\u001b[0m\u001b[0;34m\u001b[0m\u001b[0;34m\u001b[0m\u001b[0;34m\u001b[0m\u001b[0m\n\u001b[0;32m--> 121\u001b[0;31m         \u001b[0;32mreturn\u001b[0m \u001b[0mfunc\u001b[0m\u001b[0;34m(\u001b[0m\u001b[0;34m*\u001b[0m\u001b[0;34m(\u001b[0m\u001b[0m_execute_task\u001b[0m\u001b[0;34m(\u001b[0m\u001b[0ma\u001b[0m\u001b[0;34m,\u001b[0m \u001b[0mcache\u001b[0m\u001b[0;34m)\u001b[0m \u001b[0;32mfor\u001b[0m \u001b[0ma\u001b[0m \u001b[0;32min\u001b[0m \u001b[0margs\u001b[0m\u001b[0;34m)\u001b[0m\u001b[0;34m)\u001b[0m\u001b[0;34m\u001b[0m\u001b[0;34m\u001b[0m\u001b[0m\n\u001b[0m\u001b[1;32m    122\u001b[0m     \u001b[0;32melif\u001b[0m \u001b[0;32mnot\u001b[0m \u001b[0mishashable\u001b[0m\u001b[0;34m(\u001b[0m\u001b[0marg\u001b[0m\u001b[0;34m)\u001b[0m\u001b[0;34m:\u001b[0m\u001b[0;34m\u001b[0m\u001b[0;34m\u001b[0m\u001b[0m\n\u001b[1;32m    123\u001b[0m         \u001b[0;32mreturn\u001b[0m \u001b[0marg\u001b[0m\u001b[0;34m\u001b[0m\u001b[0;34m\u001b[0m\u001b[0m\n",
      "\u001b[0;32m/usr/local/lib/python3.8/dist-packages/dask/core.py\u001b[0m in \u001b[0;36m<genexpr>\u001b[0;34m(.0)\u001b[0m\n\u001b[1;32m    119\u001b[0m         \u001b[0;31m# temporaries by their reference count and can execute certain\u001b[0m\u001b[0;34m\u001b[0m\u001b[0;34m\u001b[0m\u001b[0;34m\u001b[0m\u001b[0m\n\u001b[1;32m    120\u001b[0m         \u001b[0;31m# operations in-place.\u001b[0m\u001b[0;34m\u001b[0m\u001b[0;34m\u001b[0m\u001b[0;34m\u001b[0m\u001b[0m\n\u001b[0;32m--> 121\u001b[0;31m         \u001b[0;32mreturn\u001b[0m \u001b[0mfunc\u001b[0m\u001b[0;34m(\u001b[0m\u001b[0;34m*\u001b[0m\u001b[0;34m(\u001b[0m\u001b[0m_execute_task\u001b[0m\u001b[0;34m(\u001b[0m\u001b[0ma\u001b[0m\u001b[0;34m,\u001b[0m \u001b[0mcache\u001b[0m\u001b[0;34m)\u001b[0m \u001b[0;32mfor\u001b[0m \u001b[0ma\u001b[0m \u001b[0;32min\u001b[0m \u001b[0margs\u001b[0m\u001b[0;34m)\u001b[0m\u001b[0;34m)\u001b[0m\u001b[0;34m\u001b[0m\u001b[0;34m\u001b[0m\u001b[0m\n\u001b[0m\u001b[1;32m    122\u001b[0m     \u001b[0;32melif\u001b[0m \u001b[0;32mnot\u001b[0m \u001b[0mishashable\u001b[0m\u001b[0;34m(\u001b[0m\u001b[0marg\u001b[0m\u001b[0;34m)\u001b[0m\u001b[0;34m:\u001b[0m\u001b[0;34m\u001b[0m\u001b[0;34m\u001b[0m\u001b[0m\n\u001b[1;32m    123\u001b[0m         \u001b[0;32mreturn\u001b[0m \u001b[0marg\u001b[0m\u001b[0;34m\u001b[0m\u001b[0;34m\u001b[0m\u001b[0m\n",
      "\u001b[0;32m/usr/local/lib/python3.8/dist-packages/dask/core.py\u001b[0m in \u001b[0;36m_execute_task\u001b[0;34m(arg, cache, dsk)\u001b[0m\n\u001b[1;32m    119\u001b[0m         \u001b[0;31m# temporaries by their reference count and can execute certain\u001b[0m\u001b[0;34m\u001b[0m\u001b[0;34m\u001b[0m\u001b[0;34m\u001b[0m\u001b[0m\n\u001b[1;32m    120\u001b[0m         \u001b[0;31m# operations in-place.\u001b[0m\u001b[0;34m\u001b[0m\u001b[0;34m\u001b[0m\u001b[0;34m\u001b[0m\u001b[0m\n\u001b[0;32m--> 121\u001b[0;31m         \u001b[0;32mreturn\u001b[0m \u001b[0mfunc\u001b[0m\u001b[0;34m(\u001b[0m\u001b[0;34m*\u001b[0m\u001b[0;34m(\u001b[0m\u001b[0m_execute_task\u001b[0m\u001b[0;34m(\u001b[0m\u001b[0ma\u001b[0m\u001b[0;34m,\u001b[0m \u001b[0mcache\u001b[0m\u001b[0;34m)\u001b[0m \u001b[0;32mfor\u001b[0m \u001b[0ma\u001b[0m \u001b[0;32min\u001b[0m \u001b[0margs\u001b[0m\u001b[0;34m)\u001b[0m\u001b[0;34m)\u001b[0m\u001b[0;34m\u001b[0m\u001b[0;34m\u001b[0m\u001b[0m\n\u001b[0m\u001b[1;32m    122\u001b[0m     \u001b[0;32melif\u001b[0m \u001b[0;32mnot\u001b[0m \u001b[0mishashable\u001b[0m\u001b[0;34m(\u001b[0m\u001b[0marg\u001b[0m\u001b[0;34m)\u001b[0m\u001b[0;34m:\u001b[0m\u001b[0;34m\u001b[0m\u001b[0;34m\u001b[0m\u001b[0m\n\u001b[1;32m    123\u001b[0m         \u001b[0;32mreturn\u001b[0m \u001b[0marg\u001b[0m\u001b[0;34m\u001b[0m\u001b[0;34m\u001b[0m\u001b[0m\n",
      "\u001b[0;32m/usr/local/lib/python3.8/dist-packages/dask/utils.py\u001b[0m in \u001b[0;36mapply\u001b[0;34m(func, args, kwargs)\u001b[0m\n\u001b[1;32m     28\u001b[0m \u001b[0;32mdef\u001b[0m \u001b[0mapply\u001b[0m\u001b[0;34m(\u001b[0m\u001b[0mfunc\u001b[0m\u001b[0;34m,\u001b[0m \u001b[0margs\u001b[0m\u001b[0;34m,\u001b[0m \u001b[0mkwargs\u001b[0m\u001b[0;34m=\u001b[0m\u001b[0;32mNone\u001b[0m\u001b[0;34m)\u001b[0m\u001b[0;34m:\u001b[0m\u001b[0;34m\u001b[0m\u001b[0;34m\u001b[0m\u001b[0m\n\u001b[1;32m     29\u001b[0m     \u001b[0;32mif\u001b[0m \u001b[0mkwargs\u001b[0m\u001b[0;34m:\u001b[0m\u001b[0;34m\u001b[0m\u001b[0;34m\u001b[0m\u001b[0m\n\u001b[0;32m---> 30\u001b[0;31m         \u001b[0;32mreturn\u001b[0m \u001b[0mfunc\u001b[0m\u001b[0;34m(\u001b[0m\u001b[0;34m*\u001b[0m\u001b[0margs\u001b[0m\u001b[0;34m,\u001b[0m \u001b[0;34m**\u001b[0m\u001b[0mkwargs\u001b[0m\u001b[0;34m)\u001b[0m\u001b[0;34m\u001b[0m\u001b[0;34m\u001b[0m\u001b[0m\n\u001b[0m\u001b[1;32m     31\u001b[0m     \u001b[0;32melse\u001b[0m\u001b[0;34m:\u001b[0m\u001b[0;34m\u001b[0m\u001b[0;34m\u001b[0m\u001b[0m\n\u001b[1;32m     32\u001b[0m         \u001b[0;32mreturn\u001b[0m \u001b[0mfunc\u001b[0m\u001b[0;34m(\u001b[0m\u001b[0;34m*\u001b[0m\u001b[0margs\u001b[0m\u001b[0;34m)\u001b[0m\u001b[0;34m\u001b[0m\u001b[0;34m\u001b[0m\u001b[0m\n",
      "\u001b[0;32m/usr/local/lib/python3.8/dist-packages/dask/utils.py\u001b[0m in \u001b[0;36m__call__\u001b[0;34m(self, obj, *args, **kwargs)\u001b[0m\n\u001b[1;32m    892\u001b[0m \u001b[0;34m\u001b[0m\u001b[0m\n\u001b[1;32m    893\u001b[0m     \u001b[0;32mdef\u001b[0m \u001b[0m__call__\u001b[0m\u001b[0;34m(\u001b[0m\u001b[0mself\u001b[0m\u001b[0;34m,\u001b[0m \u001b[0mobj\u001b[0m\u001b[0;34m,\u001b[0m \u001b[0;34m*\u001b[0m\u001b[0margs\u001b[0m\u001b[0;34m,\u001b[0m \u001b[0;34m**\u001b[0m\u001b[0mkwargs\u001b[0m\u001b[0;34m)\u001b[0m\u001b[0;34m:\u001b[0m\u001b[0;34m\u001b[0m\u001b[0;34m\u001b[0m\u001b[0m\n\u001b[0;32m--> 894\u001b[0;31m         \u001b[0;32mreturn\u001b[0m \u001b[0mgetattr\u001b[0m\u001b[0;34m(\u001b[0m\u001b[0mobj\u001b[0m\u001b[0;34m,\u001b[0m \u001b[0mself\u001b[0m\u001b[0;34m.\u001b[0m\u001b[0mmethod\u001b[0m\u001b[0;34m)\u001b[0m\u001b[0;34m(\u001b[0m\u001b[0;34m*\u001b[0m\u001b[0margs\u001b[0m\u001b[0;34m,\u001b[0m \u001b[0;34m**\u001b[0m\u001b[0mkwargs\u001b[0m\u001b[0;34m)\u001b[0m\u001b[0;34m\u001b[0m\u001b[0;34m\u001b[0m\u001b[0m\n\u001b[0m\u001b[1;32m    895\u001b[0m \u001b[0;34m\u001b[0m\u001b[0m\n\u001b[1;32m    896\u001b[0m     \u001b[0;32mdef\u001b[0m \u001b[0m__reduce__\u001b[0m\u001b[0;34m(\u001b[0m\u001b[0mself\u001b[0m\u001b[0;34m)\u001b[0m\u001b[0;34m:\u001b[0m\u001b[0;34m\u001b[0m\u001b[0;34m\u001b[0m\u001b[0m\n",
      "\u001b[0;32m/usr/local/lib/python3.8/dist-packages/pandas/core/generic.py\u001b[0m in \u001b[0;36mastype\u001b[0;34m(self, dtype, copy, errors)\u001b[0m\n\u001b[1;32m   5872\u001b[0m         \u001b[0;32melse\u001b[0m\u001b[0;34m:\u001b[0m\u001b[0;34m\u001b[0m\u001b[0;34m\u001b[0m\u001b[0m\n\u001b[1;32m   5873\u001b[0m             \u001b[0;31m# else, only a single dtype is given\u001b[0m\u001b[0;34m\u001b[0m\u001b[0;34m\u001b[0m\u001b[0;34m\u001b[0m\u001b[0m\n\u001b[0;32m-> 5874\u001b[0;31m             \u001b[0mnew_data\u001b[0m \u001b[0;34m=\u001b[0m \u001b[0mself\u001b[0m\u001b[0;34m.\u001b[0m\u001b[0m_mgr\u001b[0m\u001b[0;34m.\u001b[0m\u001b[0mastype\u001b[0m\u001b[0;34m(\u001b[0m\u001b[0mdtype\u001b[0m\u001b[0;34m=\u001b[0m\u001b[0mdtype\u001b[0m\u001b[0;34m,\u001b[0m \u001b[0mcopy\u001b[0m\u001b[0;34m=\u001b[0m\u001b[0mcopy\u001b[0m\u001b[0;34m,\u001b[0m \u001b[0merrors\u001b[0m\u001b[0;34m=\u001b[0m\u001b[0merrors\u001b[0m\u001b[0;34m)\u001b[0m\u001b[0;34m\u001b[0m\u001b[0;34m\u001b[0m\u001b[0m\n\u001b[0m\u001b[1;32m   5875\u001b[0m             \u001b[0;32mreturn\u001b[0m \u001b[0mself\u001b[0m\u001b[0;34m.\u001b[0m\u001b[0m_constructor\u001b[0m\u001b[0;34m(\u001b[0m\u001b[0mnew_data\u001b[0m\u001b[0;34m)\u001b[0m\u001b[0;34m.\u001b[0m\u001b[0m__finalize__\u001b[0m\u001b[0;34m(\u001b[0m\u001b[0mself\u001b[0m\u001b[0;34m,\u001b[0m \u001b[0mmethod\u001b[0m\u001b[0;34m=\u001b[0m\u001b[0;34m\"astype\"\u001b[0m\u001b[0;34m)\u001b[0m\u001b[0;34m\u001b[0m\u001b[0;34m\u001b[0m\u001b[0m\n\u001b[1;32m   5876\u001b[0m \u001b[0;34m\u001b[0m\u001b[0m\n",
      "\u001b[0;32m/usr/local/lib/python3.8/dist-packages/pandas/core/internals/managers.py\u001b[0m in \u001b[0;36mastype\u001b[0;34m(self, dtype, copy, errors)\u001b[0m\n\u001b[1;32m    629\u001b[0m         \u001b[0mself\u001b[0m\u001b[0;34m,\u001b[0m \u001b[0mdtype\u001b[0m\u001b[0;34m,\u001b[0m \u001b[0mcopy\u001b[0m\u001b[0;34m:\u001b[0m \u001b[0mbool\u001b[0m \u001b[0;34m=\u001b[0m \u001b[0;32mFalse\u001b[0m\u001b[0;34m,\u001b[0m \u001b[0merrors\u001b[0m\u001b[0;34m:\u001b[0m \u001b[0mstr\u001b[0m \u001b[0;34m=\u001b[0m \u001b[0;34m\"raise\"\u001b[0m\u001b[0;34m\u001b[0m\u001b[0;34m\u001b[0m\u001b[0m\n\u001b[1;32m    630\u001b[0m     ) -> \"BlockManager\":\n\u001b[0;32m--> 631\u001b[0;31m         \u001b[0;32mreturn\u001b[0m \u001b[0mself\u001b[0m\u001b[0;34m.\u001b[0m\u001b[0mapply\u001b[0m\u001b[0;34m(\u001b[0m\u001b[0;34m\"astype\"\u001b[0m\u001b[0;34m,\u001b[0m \u001b[0mdtype\u001b[0m\u001b[0;34m=\u001b[0m\u001b[0mdtype\u001b[0m\u001b[0;34m,\u001b[0m \u001b[0mcopy\u001b[0m\u001b[0;34m=\u001b[0m\u001b[0mcopy\u001b[0m\u001b[0;34m,\u001b[0m \u001b[0merrors\u001b[0m\u001b[0;34m=\u001b[0m\u001b[0merrors\u001b[0m\u001b[0;34m)\u001b[0m\u001b[0;34m\u001b[0m\u001b[0;34m\u001b[0m\u001b[0m\n\u001b[0m\u001b[1;32m    632\u001b[0m \u001b[0;34m\u001b[0m\u001b[0m\n\u001b[1;32m    633\u001b[0m     def convert(\n",
      "\u001b[0;32m/usr/local/lib/python3.8/dist-packages/pandas/core/internals/managers.py\u001b[0m in \u001b[0;36mapply\u001b[0;34m(self, f, align_keys, ignore_failures, **kwargs)\u001b[0m\n\u001b[1;32m    425\u001b[0m                     \u001b[0mapplied\u001b[0m \u001b[0;34m=\u001b[0m \u001b[0mb\u001b[0m\u001b[0;34m.\u001b[0m\u001b[0mapply\u001b[0m\u001b[0;34m(\u001b[0m\u001b[0mf\u001b[0m\u001b[0;34m,\u001b[0m \u001b[0;34m**\u001b[0m\u001b[0mkwargs\u001b[0m\u001b[0;34m)\u001b[0m\u001b[0;34m\u001b[0m\u001b[0;34m\u001b[0m\u001b[0m\n\u001b[1;32m    426\u001b[0m                 \u001b[0;32melse\u001b[0m\u001b[0;34m:\u001b[0m\u001b[0;34m\u001b[0m\u001b[0;34m\u001b[0m\u001b[0m\n\u001b[0;32m--> 427\u001b[0;31m                     \u001b[0mapplied\u001b[0m \u001b[0;34m=\u001b[0m \u001b[0mgetattr\u001b[0m\u001b[0;34m(\u001b[0m\u001b[0mb\u001b[0m\u001b[0;34m,\u001b[0m \u001b[0mf\u001b[0m\u001b[0;34m)\u001b[0m\u001b[0;34m(\u001b[0m\u001b[0;34m**\u001b[0m\u001b[0mkwargs\u001b[0m\u001b[0;34m)\u001b[0m\u001b[0;34m\u001b[0m\u001b[0;34m\u001b[0m\u001b[0m\n\u001b[0m\u001b[1;32m    428\u001b[0m             \u001b[0;32mexcept\u001b[0m \u001b[0;34m(\u001b[0m\u001b[0mTypeError\u001b[0m\u001b[0;34m,\u001b[0m \u001b[0mNotImplementedError\u001b[0m\u001b[0;34m)\u001b[0m\u001b[0;34m:\u001b[0m\u001b[0;34m\u001b[0m\u001b[0;34m\u001b[0m\u001b[0m\n\u001b[1;32m    429\u001b[0m                 \u001b[0;32mif\u001b[0m \u001b[0;32mnot\u001b[0m \u001b[0mignore_failures\u001b[0m\u001b[0;34m:\u001b[0m\u001b[0;34m\u001b[0m\u001b[0;34m\u001b[0m\u001b[0m\n",
      "\u001b[0;32m/usr/local/lib/python3.8/dist-packages/pandas/core/internals/blocks.py\u001b[0m in \u001b[0;36mastype\u001b[0;34m(self, dtype, copy, errors)\u001b[0m\n\u001b[1;32m    671\u001b[0m             \u001b[0mvals1d\u001b[0m \u001b[0;34m=\u001b[0m \u001b[0mvalues\u001b[0m\u001b[0;34m.\u001b[0m\u001b[0mravel\u001b[0m\u001b[0;34m(\u001b[0m\u001b[0;34m)\u001b[0m\u001b[0;34m\u001b[0m\u001b[0;34m\u001b[0m\u001b[0m\n\u001b[1;32m    672\u001b[0m             \u001b[0;32mtry\u001b[0m\u001b[0;34m:\u001b[0m\u001b[0;34m\u001b[0m\u001b[0;34m\u001b[0m\u001b[0m\n\u001b[0;32m--> 673\u001b[0;31m                 \u001b[0mvalues\u001b[0m \u001b[0;34m=\u001b[0m \u001b[0mastype_nansafe\u001b[0m\u001b[0;34m(\u001b[0m\u001b[0mvals1d\u001b[0m\u001b[0;34m,\u001b[0m \u001b[0mdtype\u001b[0m\u001b[0;34m,\u001b[0m \u001b[0mcopy\u001b[0m\u001b[0;34m=\u001b[0m\u001b[0;32mTrue\u001b[0m\u001b[0;34m)\u001b[0m\u001b[0;34m\u001b[0m\u001b[0;34m\u001b[0m\u001b[0m\n\u001b[0m\u001b[1;32m    674\u001b[0m             \u001b[0;32mexcept\u001b[0m \u001b[0;34m(\u001b[0m\u001b[0mValueError\u001b[0m\u001b[0;34m,\u001b[0m \u001b[0mTypeError\u001b[0m\u001b[0;34m)\u001b[0m\u001b[0;34m:\u001b[0m\u001b[0;34m\u001b[0m\u001b[0;34m\u001b[0m\u001b[0m\n\u001b[1;32m    675\u001b[0m                 \u001b[0;31m# e.g. astype_nansafe can fail on object-dtype of strings\u001b[0m\u001b[0;34m\u001b[0m\u001b[0;34m\u001b[0m\u001b[0;34m\u001b[0m\u001b[0m\n",
      "\u001b[0;32m/usr/local/lib/python3.8/dist-packages/pandas/core/dtypes/cast.py\u001b[0m in \u001b[0;36mastype_nansafe\u001b[0;34m(arr, dtype, copy, skipna)\u001b[0m\n\u001b[1;32m   1072\u001b[0m         \u001b[0;31m# work around NumPy brokenness, #1987\u001b[0m\u001b[0;34m\u001b[0m\u001b[0;34m\u001b[0m\u001b[0;34m\u001b[0m\u001b[0m\n\u001b[1;32m   1073\u001b[0m         \u001b[0;32mif\u001b[0m \u001b[0mnp\u001b[0m\u001b[0;34m.\u001b[0m\u001b[0missubdtype\u001b[0m\u001b[0;34m(\u001b[0m\u001b[0mdtype\u001b[0m\u001b[0;34m.\u001b[0m\u001b[0mtype\u001b[0m\u001b[0;34m,\u001b[0m \u001b[0mnp\u001b[0m\u001b[0;34m.\u001b[0m\u001b[0minteger\u001b[0m\u001b[0;34m)\u001b[0m\u001b[0;34m:\u001b[0m\u001b[0;34m\u001b[0m\u001b[0;34m\u001b[0m\u001b[0m\n\u001b[0;32m-> 1074\u001b[0;31m             \u001b[0;32mreturn\u001b[0m \u001b[0mlib\u001b[0m\u001b[0;34m.\u001b[0m\u001b[0mastype_intsafe\u001b[0m\u001b[0;34m(\u001b[0m\u001b[0marr\u001b[0m\u001b[0;34m.\u001b[0m\u001b[0mravel\u001b[0m\u001b[0;34m(\u001b[0m\u001b[0;34m)\u001b[0m\u001b[0;34m,\u001b[0m \u001b[0mdtype\u001b[0m\u001b[0;34m)\u001b[0m\u001b[0;34m.\u001b[0m\u001b[0mreshape\u001b[0m\u001b[0;34m(\u001b[0m\u001b[0marr\u001b[0m\u001b[0;34m.\u001b[0m\u001b[0mshape\u001b[0m\u001b[0;34m)\u001b[0m\u001b[0;34m\u001b[0m\u001b[0;34m\u001b[0m\u001b[0m\n\u001b[0m\u001b[1;32m   1075\u001b[0m \u001b[0;34m\u001b[0m\u001b[0m\n\u001b[1;32m   1076\u001b[0m         \u001b[0;31m# if we have a datetime/timedelta array of objects\u001b[0m\u001b[0;34m\u001b[0m\u001b[0;34m\u001b[0m\u001b[0;34m\u001b[0m\u001b[0m\n",
      "\u001b[0;32mpandas/_libs/lib.pyx\u001b[0m in \u001b[0;36mpandas._libs.lib.astype_intsafe\u001b[0;34m()\u001b[0m\n",
      "\u001b[0;31mTypeError\u001b[0m: int() argument must be a string, a bytes-like object or a number, not 'NoneType'"
     ]
    }
   ],
   "source": [
    "hs_codes = import_cust_df.groupby(['HS Code']).count().compute()"
   ]
  },
  {
   "cell_type": "code",
   "execution_count": null,
   "id": "abroad-aberdeen",
   "metadata": {},
   "outputs": [],
   "source": []
  },
  {
   "cell_type": "markdown",
   "id": "suited-hotel",
   "metadata": {},
   "source": [
    "What is 'HS Code Sure Level'?"
   ]
  },
  {
   "cell_type": "code",
   "execution_count": null,
   "id": "chicken-haiti",
   "metadata": {},
   "outputs": [],
   "source": []
  },
  {
   "cell_type": "markdown",
   "id": "choice-warner",
   "metadata": {},
   "source": [
    "# BOL Data"
   ]
  },
  {
   "cell_type": "markdown",
   "id": "pharmaceutical-healing",
   "metadata": {},
   "source": [
    "### Read single parquet"
   ]
  },
  {
   "cell_type": "code",
   "execution_count": 51,
   "id": "super-nickel",
   "metadata": {},
   "outputs": [],
   "source": [
    "df_2020 = dd.read_parquet('/data/common/trade_data/raw_import_2020.parq')\n",
    "df_2019 = dd.read_parquet('/data/common/trade_data/raw_import_2019.parq')\n",
    "df_2018 = dd.read_parquet('/data/common/trade_data/raw_import_2018.parq')\n",
    "df_2017 = dd.read_parquet('/data/common/trade_data/raw_import_2017.parq')\n",
    "df_2015_16 = dd.read_parquet('/data/common/trade_data/raw_import_20152016.parq')"
   ]
  },
  {
   "cell_type": "code",
   "execution_count": 52,
   "id": "surprised-malta",
   "metadata": {},
   "outputs": [
    {
     "data": {
      "text/plain": [
       "Index(['Unnamed: 0', ' Booking No ', ' B/L No ', ' Shipper ',\n",
       "       ' Shipper Address ', ' Consignee ', ' Consignee Address ', ' TEU ',\n",
       "       ' FEU ', ' Trunk VVD ', ' Vessel Name', ' POR ', ' POL(Booking) ',\n",
       "       ' POD(Booking) ', ' DEL ', ' WGT(KGS) ', ' MEA(CBM) ', ' PKG ',\n",
       "       ' PKG Unit', ' REP CMDT', ' CMDT Code', ' CMDT',\n",
       "       ' Customs Description ', ' Freight Term', ' Forward Name ',\n",
       "       ' Notify Name ', ' Notify Address ', ' Also Notify Name ',\n",
       "       ' Export Name ', '  Trunk POL', '  Trunk POD',\n",
       "       ' Booking Contact Phone Number ', ' Booking Contact E-Mail ',\n",
       "       ' SI Contact Phone Number ', ' SI Contact E-Mail ', '  Sailing DT ',\n",
       "       ' REV.WEEK ', ' Activity Teu ', ' Activity Feu ', ' Mty P/up CY '],\n",
       "      dtype='object')"
      ]
     },
     "execution_count": 52,
     "metadata": {},
     "output_type": "execute_result"
    }
   ],
   "source": [
    "df_2020.columns"
   ]
  },
  {
   "cell_type": "code",
   "execution_count": 53,
   "id": "waiting-airfare",
   "metadata": {},
   "outputs": [],
   "source": [
    "col_list = df_2020.columns"
   ]
  },
  {
   "cell_type": "code",
   "execution_count": 54,
   "id": "overall-record",
   "metadata": {},
   "outputs": [
    {
     "name": "stdout",
     "output_type": "stream",
     "text": [
      "[########################################] | 100% Completed |  2.5s\n",
      "[########################################] | 100% Completed |  2.3s\n",
      "[########################################] | 100% Completed |  2.4s\n",
      "2020 data has 691,302 records.\n",
      "[########################################] | 100% Completed |  2.2s\n",
      "[########################################] | 100% Completed |  2.3s\n",
      "[########################################] | 100% Completed |  2.3s\n",
      "2019 data has 690,878 records.\n",
      "[########################################] | 100% Completed |  1.2s\n",
      "[########################################] | 100% Completed |  1.3s\n",
      "[########################################] | 100% Completed |  1.4s\n",
      "2018 data has 400,930 records.\n",
      "[########################################] | 100% Completed |  1.1s\n",
      "[########################################] | 100% Completed |  1.2s\n",
      "[########################################] | 100% Completed |  1.3s\n",
      "2017 data has 401,071 records.\n",
      "[########################################] | 100% Completed |  2.2s\n",
      "[########################################] | 100% Completed |  2.3s\n",
      "[########################################] | 100% Completed |  2.4s\n",
      "2015 & 2016 data has 691,500 records.\n"
     ]
    }
   ],
   "source": [
    "print(f'2020 data has {len(df_2020.index):,} records.')\n",
    "print(f'2019 data has {len(df_2019.index):,} records.')\n",
    "print(f'2018 data has {len(df_2018.index):,} records.')\n",
    "print(f'2017 data has {len(df_2017.index):,} records.')\n",
    "print(f'2015 & 2016 data has {len(df_2015_16.index):,} records.')"
   ]
  },
  {
   "cell_type": "code",
   "execution_count": 55,
   "id": "interim-elephant",
   "metadata": {},
   "outputs": [
    {
     "name": "stdout",
     "output_type": "stream",
     "text": [
      "[########################################] | 100% Completed |  2.0s\n",
      "[########################################] | 100% Completed |  2.1s\n",
      "[########################################] | 100% Completed |  2.2s\n"
     ]
    },
    {
     "data": {
      "text/html": [
       "<div>\n",
       "<style scoped>\n",
       "    .dataframe tbody tr th:only-of-type {\n",
       "        vertical-align: middle;\n",
       "    }\n",
       "\n",
       "    .dataframe tbody tr th {\n",
       "        vertical-align: top;\n",
       "    }\n",
       "\n",
       "    .dataframe thead th {\n",
       "        text-align: right;\n",
       "    }\n",
       "</style>\n",
       "<table border=\"1\" class=\"dataframe\">\n",
       "  <thead>\n",
       "    <tr style=\"text-align: right;\">\n",
       "      <th></th>\n",
       "      <th>Unnamed: 0</th>\n",
       "      <th>Booking No</th>\n",
       "      <th>B/L No</th>\n",
       "      <th>Shipper</th>\n",
       "      <th>Shipper Address</th>\n",
       "      <th>Consignee</th>\n",
       "      <th>Consignee Address</th>\n",
       "      <th>TEU</th>\n",
       "      <th>FEU</th>\n",
       "      <th>Trunk VVD</th>\n",
       "      <th>...</th>\n",
       "      <th>Trunk POD</th>\n",
       "      <th>Booking Contact Phone Number</th>\n",
       "      <th>Booking Contact E-Mail</th>\n",
       "      <th>SI Contact Phone Number</th>\n",
       "      <th>SI Contact E-Mail</th>\n",
       "      <th>Sailing DT</th>\n",
       "      <th>REV.WEEK</th>\n",
       "      <th>Activity Teu</th>\n",
       "      <th>Activity Feu</th>\n",
       "      <th>Mty P/up CY</th>\n",
       "    </tr>\n",
       "  </thead>\n",
       "  <tbody>\n",
       "    <tr>\n",
       "      <th>0</th>\n",
       "      <td>0</td>\n",
       "      <td>FOC202323700</td>\n",
       "      <td>FOC202323700W</td>\n",
       "      <td>MAGUS INDUSTRY CO., LTD.</td>\n",
       "      <td>6F,#300,JUI-KUANG RD.,NEIHU DIST,TA\\nIPEI,TAIW...</td>\n",
       "      <td>EUROMARKET DESIGNS INC.</td>\n",
       "      <td>1250 TECHNY ROAD,\\nNORTHBROOK, IL 60062 U.S.A....</td>\n",
       "      <td>1.0</td>\n",
       "      <td>0.0</td>\n",
       "      <td>CEUR1545E</td>\n",
       "      <td>...</td>\n",
       "      <td>LGBSC</td>\n",
       "      <td>86-0591-87821845</td>\n",
       "      <td>nicho@fjstarsea.com</td>\n",
       "      <td>059187821845</td>\n",
       "      <td>nicho@fjstarsea.com</td>\n",
       "      <td>2020-01-01 03:00:00</td>\n",
       "      <td>NaN</td>\n",
       "      <td>1</td>\n",
       "      <td>0</td>\n",
       "      <td>CNFOCJC</td>\n",
       "    </tr>\n",
       "    <tr>\n",
       "      <th>1</th>\n",
       "      <td>1</td>\n",
       "      <td>SZP2G9219200</td>\n",
       "      <td>SZP2G9219200</td>\n",
       "      <td>OEC LOGISTICS (QINGDAO) CO., LTD.   SHENZHEN B...</td>\n",
       "      <td>ROOM 12A01-02, NO.4018, ANLIAN     \\nPLAZA, JI...</td>\n",
       "      <td>OEC FREIGHT (NY) INC.</td>\n",
       "      <td>ONE CROSS ISLAND PLAZA 133-33      \\nBROOKVILL...</td>\n",
       "      <td>0.0</td>\n",
       "      <td>5.0</td>\n",
       "      <td>CHLS1563E</td>\n",
       "      <td>...</td>\n",
       "      <td>LGBSC</td>\n",
       "      <td>86-755-33391828</td>\n",
       "      <td>ops.szn@oecgroup.com.cn</td>\n",
       "      <td>None</td>\n",
       "      <td>None</td>\n",
       "      <td>2020-01-01 03:00:00</td>\n",
       "      <td>NaN</td>\n",
       "      <td>0</td>\n",
       "      <td>5</td>\n",
       "      <td>CNJIAY1</td>\n",
       "    </tr>\n",
       "    <tr>\n",
       "      <th>2</th>\n",
       "      <td>2</td>\n",
       "      <td>TATK21239200</td>\n",
       "      <td>TATK21239200W</td>\n",
       "      <td>SAMSUNG ELECTRONICS (SHANDONG) DIGITAL PRINTIN...</td>\n",
       "      <td>(SSDP) SAMSUNG ROAD WEIHAI\\nHI-TECH.IDZ WEIHAI...</td>\n",
       "      <td>SAMSUNG ELECTRONIC AMERICA AMERICAN DISTRIBUTI...</td>\n",
       "      <td>4921 DIRECTORS PLACE SUITE 200\\nSAN DIEGO, CA ...</td>\n",
       "      <td>0.0</td>\n",
       "      <td>8.0</td>\n",
       "      <td>HYKT1555E</td>\n",
       "      <td>...</td>\n",
       "      <td>CHISC</td>\n",
       "      <td>None</td>\n",
       "      <td>None</td>\n",
       "      <td>053285732151</td>\n",
       "      <td>sandyzhou@bondex.com.cn</td>\n",
       "      <td>2020-01-01 03:00:00</td>\n",
       "      <td>NaN</td>\n",
       "      <td>0</td>\n",
       "      <td>8</td>\n",
       "      <td>CNWEIY0</td>\n",
       "    </tr>\n",
       "    <tr>\n",
       "      <th>3</th>\n",
       "      <td>3</td>\n",
       "      <td>TATK21266100</td>\n",
       "      <td>TATK21266100W</td>\n",
       "      <td>SAMSUNG ELECTRONICS (SHANDONG) DIGITAL PRINTIN...</td>\n",
       "      <td>(SSDP) SAMSUNG ROAD WEIHAI\\nHI-TECH.IDZ WEIHAI...</td>\n",
       "      <td>SAMSUNG ELECTRONICS AMERICA. AMERICAN DISTRIBU...</td>\n",
       "      <td>12014 EASTGATE BLVD.,MT JULIET,\\nTENNESSEE 371...</td>\n",
       "      <td>0.0</td>\n",
       "      <td>3.0</td>\n",
       "      <td>HYKT1555E</td>\n",
       "      <td>...</td>\n",
       "      <td>ATLSC</td>\n",
       "      <td>None</td>\n",
       "      <td>None</td>\n",
       "      <td>053285732151</td>\n",
       "      <td>sandyzhou@bondex.com.cn</td>\n",
       "      <td>2020-01-01 03:00:00</td>\n",
       "      <td>NaN</td>\n",
       "      <td>0</td>\n",
       "      <td>3</td>\n",
       "      <td>CNWEIY0</td>\n",
       "    </tr>\n",
       "    <tr>\n",
       "      <th>4</th>\n",
       "      <td>4</td>\n",
       "      <td>TATK21556600</td>\n",
       "      <td>TATK21556600W</td>\n",
       "      <td>SAMSUNG ELECTRONICS (SHANDONG) DIGITAL PRINTIN...</td>\n",
       "      <td>SAMSUNG ROAD WEIHAI\\nHI-TECH.IDZ WEIHAI CITY \\...</td>\n",
       "      <td>SAMSUNG ELECTRONIC AMERICA AMERICAN DISTRIBUTI...</td>\n",
       "      <td>4921 DIRECTORS PLACE SUITE 200\\nSAN DIEGO, CA ...</td>\n",
       "      <td>0.0</td>\n",
       "      <td>5.0</td>\n",
       "      <td>HYKT1555E</td>\n",
       "      <td>...</td>\n",
       "      <td>LGBSC</td>\n",
       "      <td>None</td>\n",
       "      <td>None</td>\n",
       "      <td>053285732151</td>\n",
       "      <td>sandyzhou@bondex.com.cn</td>\n",
       "      <td>2020-01-01 03:00:00</td>\n",
       "      <td>NaN</td>\n",
       "      <td>0</td>\n",
       "      <td>5</td>\n",
       "      <td>CNWEIY0</td>\n",
       "    </tr>\n",
       "  </tbody>\n",
       "</table>\n",
       "<p>5 rows × 40 columns</p>\n",
       "</div>"
      ],
      "text/plain": [
       "   Unnamed: 0   Booking No         B/L No   \\\n",
       "0           0  FOC202323700  FOC202323700W   \n",
       "1           1  SZP2G9219200   SZP2G9219200   \n",
       "2           2  TATK21239200  TATK21239200W   \n",
       "3           3  TATK21266100  TATK21266100W   \n",
       "4           4  TATK21556600  TATK21556600W   \n",
       "\n",
       "                                            Shipper   \\\n",
       "0                           MAGUS INDUSTRY CO., LTD.   \n",
       "1  OEC LOGISTICS (QINGDAO) CO., LTD.   SHENZHEN B...   \n",
       "2  SAMSUNG ELECTRONICS (SHANDONG) DIGITAL PRINTIN...   \n",
       "3  SAMSUNG ELECTRONICS (SHANDONG) DIGITAL PRINTIN...   \n",
       "4  SAMSUNG ELECTRONICS (SHANDONG) DIGITAL PRINTIN...   \n",
       "\n",
       "                                    Shipper Address   \\\n",
       "0  6F,#300,JUI-KUANG RD.,NEIHU DIST,TA\\nIPEI,TAIW...   \n",
       "1  ROOM 12A01-02, NO.4018, ANLIAN     \\nPLAZA, JI...   \n",
       "2  (SSDP) SAMSUNG ROAD WEIHAI\\nHI-TECH.IDZ WEIHAI...   \n",
       "3  (SSDP) SAMSUNG ROAD WEIHAI\\nHI-TECH.IDZ WEIHAI...   \n",
       "4  SAMSUNG ROAD WEIHAI\\nHI-TECH.IDZ WEIHAI CITY \\...   \n",
       "\n",
       "                                          Consignee   \\\n",
       "0                            EUROMARKET DESIGNS INC.   \n",
       "1                              OEC FREIGHT (NY) INC.   \n",
       "2  SAMSUNG ELECTRONIC AMERICA AMERICAN DISTRIBUTI...   \n",
       "3  SAMSUNG ELECTRONICS AMERICA. AMERICAN DISTRIBU...   \n",
       "4  SAMSUNG ELECTRONIC AMERICA AMERICAN DISTRIBUTI...   \n",
       "\n",
       "                                  Consignee Address    TEU    FEU   \\\n",
       "0  1250 TECHNY ROAD,\\nNORTHBROOK, IL 60062 U.S.A....    1.0    0.0   \n",
       "1  ONE CROSS ISLAND PLAZA 133-33      \\nBROOKVILL...    0.0    5.0   \n",
       "2  4921 DIRECTORS PLACE SUITE 200\\nSAN DIEGO, CA ...    0.0    8.0   \n",
       "3  12014 EASTGATE BLVD.,MT JULIET,\\nTENNESSEE 371...    0.0    3.0   \n",
       "4  4921 DIRECTORS PLACE SUITE 200\\nSAN DIEGO, CA ...    0.0    5.0   \n",
       "\n",
       "   Trunk VVD   ...   Trunk POD  Booking Contact Phone Number   \\\n",
       "0   CEUR1545E  ...       LGBSC               86-0591-87821845   \n",
       "1   CHLS1563E  ...       LGBSC                86-755-33391828   \n",
       "2   HYKT1555E  ...       CHISC                           None   \n",
       "3   HYKT1555E  ...       ATLSC                           None   \n",
       "4   HYKT1555E  ...       LGBSC                           None   \n",
       "\n",
       "   Booking Contact E-Mail   SI Contact Phone Number        SI Contact E-Mail   \\\n",
       "0      nicho@fjstarsea.com              059187821845      nicho@fjstarsea.com   \n",
       "1  ops.szn@oecgroup.com.cn                      None                     None   \n",
       "2                     None              053285732151  sandyzhou@bondex.com.cn   \n",
       "3                     None              053285732151  sandyzhou@bondex.com.cn   \n",
       "4                     None              053285732151  sandyzhou@bondex.com.cn   \n",
       "\n",
       "           Sailing DT    REV.WEEK    Activity Teu   Activity Feu   \\\n",
       "0  2020-01-01 03:00:00         NaN               1              0   \n",
       "1  2020-01-01 03:00:00         NaN               0              5   \n",
       "2  2020-01-01 03:00:00         NaN               0              8   \n",
       "3  2020-01-01 03:00:00         NaN               0              3   \n",
       "4  2020-01-01 03:00:00         NaN               0              5   \n",
       "\n",
       "    Mty P/up CY   \n",
       "0        CNFOCJC  \n",
       "1        CNJIAY1  \n",
       "2        CNWEIY0  \n",
       "3        CNWEIY0  \n",
       "4        CNWEIY0  \n",
       "\n",
       "[5 rows x 40 columns]"
      ]
     },
     "execution_count": 55,
     "metadata": {},
     "output_type": "execute_result"
    }
   ],
   "source": [
    "df_2020.head()"
   ]
  },
  {
   "cell_type": "markdown",
   "id": "impaired-convert",
   "metadata": {},
   "source": [
    "### Read everything "
   ]
  },
  {
   "cell_type": "code",
   "execution_count": 114,
   "id": "vertical-damage",
   "metadata": {},
   "outputs": [],
   "source": [
    "import_df = dd.read_parquet('/data/common/trade_data/*.parq', engine='fastparquet')"
   ]
  },
  {
   "cell_type": "code",
   "execution_count": 115,
   "id": "extensive-tuesday",
   "metadata": {},
   "outputs": [
    {
     "name": "stdout",
     "output_type": "stream",
     "text": [
      "[########################################] | 100% Completed |  8.1s\n",
      "[########################################] | 100% Completed |  8.1s\n",
      "[########################################] | 100% Completed |  8.2s\n",
      "[########################################] | 100% Completed |  8.2s\n",
      "[########################################] | 100% Completed |  8.3s\n"
     ]
    },
    {
     "data": {
      "text/plain": [
       "2875681"
      ]
     },
     "execution_count": 115,
     "metadata": {},
     "output_type": "execute_result"
    }
   ],
   "source": [
    "len(import_df)"
   ]
  },
  {
   "cell_type": "code",
   "execution_count": 116,
   "id": "treated-interstate",
   "metadata": {},
   "outputs": [],
   "source": [
    "import_df['date'] = dd.to_datetime(import_df['  Sailing DT '])\n",
    "#import_df['date'] = import_df['date'].dt.date"
   ]
  },
  {
   "cell_type": "code",
   "execution_count": 121,
   "id": "accessible-physics",
   "metadata": {},
   "outputs": [
    {
     "name": "stdout",
     "output_type": "stream",
     "text": [
      "[########################################] | 100% Completed |  1.4s\n",
      "[########################################] | 100% Completed |  1.5s\n",
      "[########################################] | 100% Completed |  1.6s\n",
      "[########################################] | 100% Completed |  1.7s\n",
      "[########################################] | 100% Completed |  1.8s\n"
     ]
    },
    {
     "data": {
      "text/html": [
       "<div>\n",
       "<style scoped>\n",
       "    .dataframe tbody tr th:only-of-type {\n",
       "        vertical-align: middle;\n",
       "    }\n",
       "\n",
       "    .dataframe tbody tr th {\n",
       "        vertical-align: top;\n",
       "    }\n",
       "\n",
       "    .dataframe thead th {\n",
       "        text-align: right;\n",
       "    }\n",
       "</style>\n",
       "<table border=\"1\" class=\"dataframe\">\n",
       "  <thead>\n",
       "    <tr style=\"text-align: right;\">\n",
       "      <th></th>\n",
       "      <th>date</th>\n",
       "    </tr>\n",
       "  </thead>\n",
       "  <tbody>\n",
       "    <tr>\n",
       "      <th>0</th>\n",
       "      <td>2017-01-05 16:45:00</td>\n",
       "    </tr>\n",
       "    <tr>\n",
       "      <th>1</th>\n",
       "      <td>2017-01-05 16:45:00</td>\n",
       "    </tr>\n",
       "    <tr>\n",
       "      <th>2</th>\n",
       "      <td>2017-01-05 16:45:00</td>\n",
       "    </tr>\n",
       "    <tr>\n",
       "      <th>3</th>\n",
       "      <td>2017-01-05 16:45:00</td>\n",
       "    </tr>\n",
       "    <tr>\n",
       "      <th>4</th>\n",
       "      <td>2017-01-05 16:45:00</td>\n",
       "    </tr>\n",
       "    <tr>\n",
       "      <th>5</th>\n",
       "      <td>2017-01-05 16:45:00</td>\n",
       "    </tr>\n",
       "    <tr>\n",
       "      <th>6</th>\n",
       "      <td>2017-01-05 16:45:00</td>\n",
       "    </tr>\n",
       "    <tr>\n",
       "      <th>7</th>\n",
       "      <td>2017-01-05 16:45:00</td>\n",
       "    </tr>\n",
       "    <tr>\n",
       "      <th>8</th>\n",
       "      <td>2017-01-05 16:45:00</td>\n",
       "    </tr>\n",
       "    <tr>\n",
       "      <th>9</th>\n",
       "      <td>2017-01-05 16:45:00</td>\n",
       "    </tr>\n",
       "  </tbody>\n",
       "</table>\n",
       "</div>"
      ],
      "text/plain": [
       "                 date\n",
       "0 2017-01-05 16:45:00\n",
       "1 2017-01-05 16:45:00\n",
       "2 2017-01-05 16:45:00\n",
       "3 2017-01-05 16:45:00\n",
       "4 2017-01-05 16:45:00\n",
       "5 2017-01-05 16:45:00\n",
       "6 2017-01-05 16:45:00\n",
       "7 2017-01-05 16:45:00\n",
       "8 2017-01-05 16:45:00\n",
       "9 2017-01-05 16:45:00"
      ]
     },
     "execution_count": 121,
     "metadata": {},
     "output_type": "execute_result"
    }
   ],
   "source": [
    "import_df[['date']].head(10)"
   ]
  },
  {
   "cell_type": "code",
   "execution_count": 122,
   "id": "obvious-pride",
   "metadata": {},
   "outputs": [],
   "source": [
    "import_df['year'] = import_df['date'].dt.year"
   ]
  },
  {
   "cell_type": "code",
   "execution_count": 123,
   "id": "magnetic-extreme",
   "metadata": {},
   "outputs": [
    {
     "name": "stdout",
     "output_type": "stream",
     "text": [
      "[########################################] | 100% Completed |  1.5s\n",
      "[########################################] | 100% Completed |  1.6s\n",
      "[########################################] | 100% Completed |  1.7s\n",
      "[########################################] | 100% Completed |  1.8s\n",
      "[########################################] | 100% Completed |  1.9s\n"
     ]
    },
    {
     "data": {
      "text/html": [
       "<div>\n",
       "<style scoped>\n",
       "    .dataframe tbody tr th:only-of-type {\n",
       "        vertical-align: middle;\n",
       "    }\n",
       "\n",
       "    .dataframe tbody tr th {\n",
       "        vertical-align: top;\n",
       "    }\n",
       "\n",
       "    .dataframe thead th {\n",
       "        text-align: right;\n",
       "    }\n",
       "</style>\n",
       "<table border=\"1\" class=\"dataframe\">\n",
       "  <thead>\n",
       "    <tr style=\"text-align: right;\">\n",
       "      <th></th>\n",
       "      <th>Unnamed: 0</th>\n",
       "      <th>Booking No</th>\n",
       "      <th>B/L No</th>\n",
       "      <th>Shipper</th>\n",
       "      <th>Shipper Address</th>\n",
       "      <th>Consignee</th>\n",
       "      <th>Consignee Address</th>\n",
       "      <th>TEU</th>\n",
       "      <th>FEU</th>\n",
       "      <th>Trunk VVD</th>\n",
       "      <th>...</th>\n",
       "      <th>Booking Contact E-Mail</th>\n",
       "      <th>SI Contact Phone Number</th>\n",
       "      <th>SI Contact E-Mail</th>\n",
       "      <th>Sailing DT</th>\n",
       "      <th>REV.WEEK</th>\n",
       "      <th>Activity Teu</th>\n",
       "      <th>Activity Feu</th>\n",
       "      <th>Mty P/up CY</th>\n",
       "      <th>date</th>\n",
       "      <th>year</th>\n",
       "    </tr>\n",
       "  </thead>\n",
       "  <tbody>\n",
       "    <tr>\n",
       "      <th>0</th>\n",
       "      <td>0</td>\n",
       "      <td>BKK717427400</td>\n",
       "      <td>BKK717427400</td>\n",
       "      <td>THAI UNION FROZEN PRODUCTS PUBLIC COMPANY LIMITED</td>\n",
       "      <td>979/12,M FLOOR,SM TOWER\\nPHAHOLYOTHIN ROAD,SAM...</td>\n",
       "      <td>TO THE ORDER OF BANK OF AMERICA,N.A.</td>\n",
       "      <td>450 B STREET,SUITE 430\\nSAN DIEGO,CA 92101-890...</td>\n",
       "      <td>0.0</td>\n",
       "      <td>5.0</td>\n",
       "      <td>ANTY0003W</td>\n",
       "      <td>...</td>\n",
       "      <td>piyaporn_sa@thaiunion.co.th</td>\n",
       "      <td>22980024</td>\n",
       "      <td>onuma_ap@thaiunion.co.th</td>\n",
       "      <td>2017-01-05 16:45:00</td>\n",
       "      <td>NaN</td>\n",
       "      <td>0</td>\n",
       "      <td>5</td>\n",
       "      <td>THLKGY1</td>\n",
       "      <td>2017-01-05 16:45:00</td>\n",
       "      <td>2017</td>\n",
       "    </tr>\n",
       "    <tr>\n",
       "      <th>1</th>\n",
       "      <td>1</td>\n",
       "      <td>BKK717427401</td>\n",
       "      <td>BKK717427401</td>\n",
       "      <td>THAI UNION FROZEN PRODUCTS PUBLIC COMPANY LIMITED</td>\n",
       "      <td>979/12,M FLOOR,SM TOWER\\nPHAHOLYOTHIN ROAD,SAM...</td>\n",
       "      <td>TO THE ORDER OF BANK OF AMERICA,N.A.</td>\n",
       "      <td>450 B STREET,SUITE 430\\nSAN DIEGO,CA 92101-890...</td>\n",
       "      <td>0.0</td>\n",
       "      <td>5.0</td>\n",
       "      <td>ANTY0003W</td>\n",
       "      <td>...</td>\n",
       "      <td>piyaporn_sa@thaiunion.co.th</td>\n",
       "      <td>22980024</td>\n",
       "      <td>onuma_ap@thaiunion.co.th</td>\n",
       "      <td>2017-01-05 16:45:00</td>\n",
       "      <td>NaN</td>\n",
       "      <td>0</td>\n",
       "      <td>5</td>\n",
       "      <td>THLKGY1</td>\n",
       "      <td>2017-01-05 16:45:00</td>\n",
       "      <td>2017</td>\n",
       "    </tr>\n",
       "  </tbody>\n",
       "</table>\n",
       "<p>2 rows × 42 columns</p>\n",
       "</div>"
      ],
      "text/plain": [
       "   Unnamed: 0   Booking No        B/L No   \\\n",
       "0           0  BKK717427400  BKK717427400   \n",
       "1           1  BKK717427401  BKK717427401   \n",
       "\n",
       "                                            Shipper   \\\n",
       "0  THAI UNION FROZEN PRODUCTS PUBLIC COMPANY LIMITED   \n",
       "1  THAI UNION FROZEN PRODUCTS PUBLIC COMPANY LIMITED   \n",
       "\n",
       "                                    Shipper Address   \\\n",
       "0  979/12,M FLOOR,SM TOWER\\nPHAHOLYOTHIN ROAD,SAM...   \n",
       "1  979/12,M FLOOR,SM TOWER\\nPHAHOLYOTHIN ROAD,SAM...   \n",
       "\n",
       "                             Consignee   \\\n",
       "0  TO THE ORDER OF BANK OF AMERICA,N.A.   \n",
       "1  TO THE ORDER OF BANK OF AMERICA,N.A.   \n",
       "\n",
       "                                  Consignee Address    TEU    FEU   \\\n",
       "0  450 B STREET,SUITE 430\\nSAN DIEGO,CA 92101-890...    0.0    5.0   \n",
       "1  450 B STREET,SUITE 430\\nSAN DIEGO,CA 92101-890...    0.0    5.0   \n",
       "\n",
       "   Trunk VVD   ...      Booking Contact E-Mail   SI Contact Phone Number   \\\n",
       "0   ANTY0003W  ...  piyaporn_sa@thaiunion.co.th                  22980024   \n",
       "1   ANTY0003W  ...  piyaporn_sa@thaiunion.co.th                  22980024   \n",
       "\n",
       "         SI Contact E-Mail           Sailing DT   REV.WEEK    Activity Teu   \\\n",
       "0  onuma_ap@thaiunion.co.th  2017-01-05 16:45:00        NaN               0   \n",
       "1  onuma_ap@thaiunion.co.th  2017-01-05 16:45:00        NaN               0   \n",
       "\n",
       "    Activity Feu    Mty P/up CY                 date  year  \n",
       "0               5        THLKGY1 2017-01-05 16:45:00  2017  \n",
       "1               5        THLKGY1 2017-01-05 16:45:00  2017  \n",
       "\n",
       "[2 rows x 42 columns]"
      ]
     },
     "execution_count": 123,
     "metadata": {},
     "output_type": "execute_result"
    }
   ],
   "source": [
    "import_df[import_df.year == 2017].head(2)"
   ]
  },
  {
   "cell_type": "markdown",
   "id": "educated-vietnam",
   "metadata": {},
   "source": [
    "https://blog.dask.org/2019/10/08/df-groupby"
   ]
  },
  {
   "cell_type": "code",
   "execution_count": 14,
   "id": "remarkable-comparative",
   "metadata": {},
   "outputs": [
    {
     "name": "stdout",
     "output_type": "stream",
     "text": [
      "[########################################] | 100% Completed |  8.1s\n"
     ]
    }
   ],
   "source": [
    "s1 = import_df.groupby(['year']).year.count().compute() # Do not call compute always. It will kill the notebook"
   ]
  },
  {
   "cell_type": "code",
   "execution_count": 15,
   "id": "acceptable-hayes",
   "metadata": {},
   "outputs": [
    {
     "data": {
      "text/plain": [
       "pandas.core.series.Series"
      ]
     },
     "execution_count": 15,
     "metadata": {},
     "output_type": "execute_result"
    }
   ],
   "source": [
    "type(s1)"
   ]
  },
  {
   "cell_type": "code",
   "execution_count": 16,
   "id": "available-buffer",
   "metadata": {},
   "outputs": [
    {
     "data": {
      "text/html": [
       "<div>\n",
       "<style scoped>\n",
       "    .dataframe tbody tr th:only-of-type {\n",
       "        vertical-align: middle;\n",
       "    }\n",
       "\n",
       "    .dataframe tbody tr th {\n",
       "        vertical-align: top;\n",
       "    }\n",
       "\n",
       "    .dataframe thead th {\n",
       "        text-align: right;\n",
       "    }\n",
       "</style>\n",
       "<table border=\"1\" class=\"dataframe\">\n",
       "  <thead>\n",
       "    <tr style=\"text-align: right;\">\n",
       "      <th></th>\n",
       "      <th>year</th>\n",
       "      <th>values</th>\n",
       "    </tr>\n",
       "  </thead>\n",
       "  <tbody>\n",
       "    <tr>\n",
       "      <th>0</th>\n",
       "      <td>2015</td>\n",
       "      <td>411648</td>\n",
       "    </tr>\n",
       "    <tr>\n",
       "      <th>1</th>\n",
       "      <td>2016</td>\n",
       "      <td>279852</td>\n",
       "    </tr>\n",
       "    <tr>\n",
       "      <th>2</th>\n",
       "      <td>2017</td>\n",
       "      <td>401071</td>\n",
       "    </tr>\n",
       "    <tr>\n",
       "      <th>3</th>\n",
       "      <td>2018</td>\n",
       "      <td>400930</td>\n",
       "    </tr>\n",
       "    <tr>\n",
       "      <th>4</th>\n",
       "      <td>2019</td>\n",
       "      <td>690878</td>\n",
       "    </tr>\n",
       "    <tr>\n",
       "      <th>5</th>\n",
       "      <td>2020</td>\n",
       "      <td>691302</td>\n",
       "    </tr>\n",
       "  </tbody>\n",
       "</table>\n",
       "</div>"
      ],
      "text/plain": [
       "   year  values\n",
       "0  2015  411648\n",
       "1  2016  279852\n",
       "2  2017  401071\n",
       "3  2018  400930\n",
       "4  2019  690878\n",
       "5  2020  691302"
      ]
     },
     "execution_count": 16,
     "metadata": {},
     "output_type": "execute_result"
    }
   ],
   "source": [
    "df = pd.DataFrame({'year':s1.index, 'values':s1.values}).sort_values(\"year\").reset_index(drop=True)\n",
    "df"
   ]
  },
  {
   "cell_type": "code",
   "execution_count": 17,
   "id": "about-seattle",
   "metadata": {},
   "outputs": [
    {
     "data": {
      "text/html": [
       "<div>\n",
       "<style scoped>\n",
       "    .dataframe tbody tr th:only-of-type {\n",
       "        vertical-align: middle;\n",
       "    }\n",
       "\n",
       "    .dataframe tbody tr th {\n",
       "        vertical-align: top;\n",
       "    }\n",
       "\n",
       "    .dataframe thead th {\n",
       "        text-align: right;\n",
       "    }\n",
       "</style>\n",
       "<table border=\"1\" class=\"dataframe\">\n",
       "  <thead>\n",
       "    <tr style=\"text-align: right;\">\n",
       "      <th></th>\n",
       "      <th>0</th>\n",
       "      <th>1</th>\n",
       "      <th>2</th>\n",
       "      <th>3</th>\n",
       "      <th>4</th>\n",
       "      <th>5</th>\n",
       "    </tr>\n",
       "  </thead>\n",
       "  <tbody>\n",
       "    <tr>\n",
       "      <th>year</th>\n",
       "      <td>2015</td>\n",
       "      <td>2016</td>\n",
       "      <td>2017</td>\n",
       "      <td>2018</td>\n",
       "      <td>2019</td>\n",
       "      <td>2020</td>\n",
       "    </tr>\n",
       "    <tr>\n",
       "      <th>values</th>\n",
       "      <td>411648</td>\n",
       "      <td>279852</td>\n",
       "      <td>401071</td>\n",
       "      <td>400930</td>\n",
       "      <td>690878</td>\n",
       "      <td>691302</td>\n",
       "    </tr>\n",
       "  </tbody>\n",
       "</table>\n",
       "</div>"
      ],
      "text/plain": [
       "             0       1       2       3       4       5\n",
       "year      2015    2016    2017    2018    2019    2020\n",
       "values  411648  279852  401071  400930  690878  691302"
      ]
     },
     "execution_count": 17,
     "metadata": {},
     "output_type": "execute_result"
    }
   ],
   "source": [
    "df.T"
   ]
  },
  {
   "cell_type": "code",
   "execution_count": 18,
   "id": "atlantic-alpha",
   "metadata": {},
   "outputs": [
    {
     "data": {
      "image/png": "[encoded data removed]",
      "text/plain": [
       "<Figure size 864x576 with 1 Axes>"
      ]
     },
     "metadata": {},
     "output_type": "display_data"
    }
   ],
   "source": [
    "sns.set_theme(style=\"whitegrid\")\n",
    "sns.set(rc={'figure.figsize':(12,8)})\n",
    "ax = sns.barplot(data=df, x=\"year\", y=\"values\")\n",
    "ax.axes.set_title('BOL Record Count by Year', fontsize = 20)\n",
    "ax.set_xlabel('Year', fontsize = 15)\n",
    "ax.set_ylabel('Record Count', fontsize = 15)\n",
    "for p in ax.patches:\n",
    "    ax.annotate(format(p.get_height(), '.0f'), \n",
    "                   (p.get_x() + p.get_width() / 2., p.get_height()), \n",
    "                   ha = 'center', va = 'center', \n",
    "                   xytext = (0, 9),\n",
    "                   fontsize = 10,\n",
    "                   textcoords = 'offset points')\n"
   ]
  },
  {
   "cell_type": "code",
   "execution_count": 19,
   "id": "developmental-selling",
   "metadata": {},
   "outputs": [
    {
     "name": "stdout",
     "output_type": "stream",
     "text": [
      "[########################################] | 100% Completed |  8.7s\n"
     ]
    }
   ],
   "source": [
    "import_df[import_df.year == 2017][[' Trunk VVD ', ' Vessel Name', ' POR ']].to_parquet('trade_data_test_2017', storage_options={\"has_nulls\": True})"
   ]
  },
  {
   "cell_type": "code",
   "execution_count": 18,
   "id": "piano-newcastle",
   "metadata": {},
   "outputs": [
    {
     "name": "stdout",
     "output_type": "stream",
     "text": [
      "_common_metadata  _metadata  part.0.parquet\n"
     ]
    }
   ],
   "source": [
    "!ls trade_data_test_2017"
   ]
  },
  {
   "cell_type": "code",
   "execution_count": 19,
   "id": "instructional-thomson",
   "metadata": {},
   "outputs": [],
   "source": [
    "reload_df = dd.read_parquet('trade_data_test_2017', engine='fastparquet')"
   ]
  },
  {
   "cell_type": "code",
   "execution_count": 20,
   "id": "honey-walker",
   "metadata": {},
   "outputs": [
    {
     "name": "stdout",
     "output_type": "stream",
     "text": [
      "[########################################] | 100% Completed |  0.3s\n"
     ]
    },
    {
     "data": {
      "text/html": [
       "<div>\n",
       "<style scoped>\n",
       "    .dataframe tbody tr th:only-of-type {\n",
       "        vertical-align: middle;\n",
       "    }\n",
       "\n",
       "    .dataframe tbody tr th {\n",
       "        vertical-align: top;\n",
       "    }\n",
       "\n",
       "    .dataframe thead th {\n",
       "        text-align: right;\n",
       "    }\n",
       "</style>\n",
       "<table border=\"1\" class=\"dataframe\">\n",
       "  <thead>\n",
       "    <tr style=\"text-align: right;\">\n",
       "      <th></th>\n",
       "      <th>Trunk VVD</th>\n",
       "      <th>Vessel Name</th>\n",
       "      <th>POR</th>\n",
       "    </tr>\n",
       "    <tr>\n",
       "      <th>index</th>\n",
       "      <th></th>\n",
       "      <th></th>\n",
       "      <th></th>\n",
       "    </tr>\n",
       "  </thead>\n",
       "  <tbody>\n",
       "    <tr>\n",
       "      <th>0</th>\n",
       "      <td>ANTY0003W</td>\n",
       "      <td>AL ABDALI</td>\n",
       "      <td>THLKG</td>\n",
       "    </tr>\n",
       "    <tr>\n",
       "      <th>1</th>\n",
       "      <td>ANTY0003W</td>\n",
       "      <td>AL ABDALI</td>\n",
       "      <td>THLKG</td>\n",
       "    </tr>\n",
       "    <tr>\n",
       "      <th>2</th>\n",
       "      <td>ANTY0003W</td>\n",
       "      <td>AL ABDALI</td>\n",
       "      <td>THLKG</td>\n",
       "    </tr>\n",
       "    <tr>\n",
       "      <th>3</th>\n",
       "      <td>CNAG0061E</td>\n",
       "      <td>COSCO AQABA</td>\n",
       "      <td>THLCH</td>\n",
       "    </tr>\n",
       "    <tr>\n",
       "      <th>4</th>\n",
       "      <td>COHA0022E</td>\n",
       "      <td>COSCO AQABA</td>\n",
       "      <td>THLKG</td>\n",
       "    </tr>\n",
       "  </tbody>\n",
       "</table>\n",
       "</div>"
      ],
      "text/plain": [
       "       Trunk VVD   Vessel Name   POR \n",
       "index                                \n",
       "0       ANTY0003W    AL ABDALI  THLKG\n",
       "1       ANTY0003W    AL ABDALI  THLKG\n",
       "2       ANTY0003W    AL ABDALI  THLKG\n",
       "3       CNAG0061E  COSCO AQABA  THLCH\n",
       "4       COHA0022E  COSCO AQABA  THLKG"
      ]
     },
     "execution_count": 20,
     "metadata": {},
     "output_type": "execute_result"
    }
   ],
   "source": [
    "reload_df.head()"
   ]
  },
  {
   "cell_type": "markdown",
   "id": "elder-blues",
   "metadata": {},
   "source": [
    "## Let's explore the shippers and orderers (Shipper and Consignee)."
   ]
  },
  {
   "cell_type": "code",
   "execution_count": 124,
   "id": "spiritual-separation",
   "metadata": {},
   "outputs": [
    {
     "name": "stdout",
     "output_type": "stream",
     "text": [
      "[########################################] | 100% Completed |  1.3s\n",
      "[########################################] | 100% Completed |  1.4s\n",
      "[########################################] | 100% Completed |  1.4s\n",
      "[########################################] | 100% Completed |  1.5s\n",
      "[########################################] | 100% Completed |  1.6s\n"
     ]
    },
    {
     "data": {
      "text/html": [
       "<div>\n",
       "<style scoped>\n",
       "    .dataframe tbody tr th:only-of-type {\n",
       "        vertical-align: middle;\n",
       "    }\n",
       "\n",
       "    .dataframe tbody tr th {\n",
       "        vertical-align: top;\n",
       "    }\n",
       "\n",
       "    .dataframe thead th {\n",
       "        text-align: right;\n",
       "    }\n",
       "</style>\n",
       "<table border=\"1\" class=\"dataframe\">\n",
       "  <thead>\n",
       "    <tr style=\"text-align: right;\">\n",
       "      <th></th>\n",
       "      <th>Unnamed: 0</th>\n",
       "      <th>Booking No</th>\n",
       "      <th>B/L No</th>\n",
       "      <th>Shipper</th>\n",
       "      <th>Shipper Address</th>\n",
       "      <th>Consignee</th>\n",
       "      <th>Consignee Address</th>\n",
       "      <th>TEU</th>\n",
       "      <th>FEU</th>\n",
       "      <th>Trunk VVD</th>\n",
       "      <th>...</th>\n",
       "      <th>Booking Contact E-Mail</th>\n",
       "      <th>SI Contact Phone Number</th>\n",
       "      <th>SI Contact E-Mail</th>\n",
       "      <th>Sailing DT</th>\n",
       "      <th>REV.WEEK</th>\n",
       "      <th>Activity Teu</th>\n",
       "      <th>Activity Feu</th>\n",
       "      <th>Mty P/up CY</th>\n",
       "      <th>date</th>\n",
       "      <th>year</th>\n",
       "    </tr>\n",
       "  </thead>\n",
       "  <tbody>\n",
       "    <tr>\n",
       "      <th>0</th>\n",
       "      <td>0</td>\n",
       "      <td>BKK717427400</td>\n",
       "      <td>BKK717427400</td>\n",
       "      <td>THAI UNION FROZEN PRODUCTS PUBLIC COMPANY LIMITED</td>\n",
       "      <td>979/12,M FLOOR,SM TOWER\\nPHAHOLYOTHIN ROAD,SAM...</td>\n",
       "      <td>TO THE ORDER OF BANK OF AMERICA,N.A.</td>\n",
       "      <td>450 B STREET,SUITE 430\\nSAN DIEGO,CA 92101-890...</td>\n",
       "      <td>0.0</td>\n",
       "      <td>5.0</td>\n",
       "      <td>ANTY0003W</td>\n",
       "      <td>...</td>\n",
       "      <td>piyaporn_sa@thaiunion.co.th</td>\n",
       "      <td>22980024</td>\n",
       "      <td>onuma_ap@thaiunion.co.th</td>\n",
       "      <td>2017-01-05 16:45:00</td>\n",
       "      <td>NaN</td>\n",
       "      <td>0</td>\n",
       "      <td>5</td>\n",
       "      <td>THLKGY1</td>\n",
       "      <td>2017-01-05 16:45:00</td>\n",
       "      <td>2017</td>\n",
       "    </tr>\n",
       "    <tr>\n",
       "      <th>1</th>\n",
       "      <td>1</td>\n",
       "      <td>BKK717427401</td>\n",
       "      <td>BKK717427401</td>\n",
       "      <td>THAI UNION FROZEN PRODUCTS PUBLIC COMPANY LIMITED</td>\n",
       "      <td>979/12,M FLOOR,SM TOWER\\nPHAHOLYOTHIN ROAD,SAM...</td>\n",
       "      <td>TO THE ORDER OF BANK OF AMERICA,N.A.</td>\n",
       "      <td>450 B STREET,SUITE 430\\nSAN DIEGO,CA 92101-890...</td>\n",
       "      <td>0.0</td>\n",
       "      <td>5.0</td>\n",
       "      <td>ANTY0003W</td>\n",
       "      <td>...</td>\n",
       "      <td>piyaporn_sa@thaiunion.co.th</td>\n",
       "      <td>22980024</td>\n",
       "      <td>onuma_ap@thaiunion.co.th</td>\n",
       "      <td>2017-01-05 16:45:00</td>\n",
       "      <td>NaN</td>\n",
       "      <td>0</td>\n",
       "      <td>5</td>\n",
       "      <td>THLKGY1</td>\n",
       "      <td>2017-01-05 16:45:00</td>\n",
       "      <td>2017</td>\n",
       "    </tr>\n",
       "    <tr>\n",
       "      <th>2</th>\n",
       "      <td>2</td>\n",
       "      <td>BKK717427402</td>\n",
       "      <td>BKK717427402</td>\n",
       "      <td>THAI UNION FROZEN PRODUCTS PUBLIC COMPANY LIMITED</td>\n",
       "      <td>979/12,M FLOOR,SM TOWER\\nPHAHOLYOTHIN ROAD,SAM...</td>\n",
       "      <td>TO THE ORDER OF BANK OF AMERICA,N.A.</td>\n",
       "      <td>450 B STREET,SUITE 430\\nSAN DIEGO,CA 92101-890...</td>\n",
       "      <td>0.0</td>\n",
       "      <td>5.0</td>\n",
       "      <td>ANTY0003W</td>\n",
       "      <td>...</td>\n",
       "      <td>piyaporn_sa@thaiunion.co.th</td>\n",
       "      <td>22980024</td>\n",
       "      <td>onuma_ap@thaiunion.co.th</td>\n",
       "      <td>2017-01-05 16:45:00</td>\n",
       "      <td>NaN</td>\n",
       "      <td>0</td>\n",
       "      <td>5</td>\n",
       "      <td>THLKGY1</td>\n",
       "      <td>2017-01-05 16:45:00</td>\n",
       "      <td>2017</td>\n",
       "    </tr>\n",
       "    <tr>\n",
       "      <th>3</th>\n",
       "      <td>3</td>\n",
       "      <td>BKK718896200</td>\n",
       "      <td>BKK718896200</td>\n",
       "      <td>OKEANOS FOOD CO.,LTD.</td>\n",
       "      <td>103 NONSEE RD.,CHONGNONSEE,\\nYANNAWA,BANGKOK 1...</td>\n",
       "      <td>TO ORDER OF BANK OF AMERICA N.A</td>\n",
       "      <td>450 B STREET, SUITE 430\\nSAN DIEGO,CA 92101 U....</td>\n",
       "      <td>0.0</td>\n",
       "      <td>1.0</td>\n",
       "      <td>CNAG0061E</td>\n",
       "      <td>...</td>\n",
       "      <td>juthamard@pakfood.co.th; speeddeetrans_848@hot...</td>\n",
       "      <td>22951991360</td>\n",
       "      <td>ratchadaporn@pakfood.co.th</td>\n",
       "      <td>2017-01-05 16:45:00</td>\n",
       "      <td>NaN</td>\n",
       "      <td>0</td>\n",
       "      <td>1</td>\n",
       "      <td>THLKGY1</td>\n",
       "      <td>2017-01-05 16:45:00</td>\n",
       "      <td>2017</td>\n",
       "    </tr>\n",
       "    <tr>\n",
       "      <th>4</th>\n",
       "      <td>4</td>\n",
       "      <td>BKK716997200</td>\n",
       "      <td>BKK716997200W</td>\n",
       "      <td>CHIANGMAI FROZEN FOODS PUBLIC  CO.,LTD.</td>\n",
       "      <td>149/34 SOI ANGLO PLAZA,\\nSURAWONGSE ROAD,BANGK...</td>\n",
       "      <td>NEW YORK MUTUAL TRADING INC.</td>\n",
       "      <td>77 METRO WAY,SECAUCUS,NJ 07094\\nTEL:(201)933-9...</td>\n",
       "      <td>0.0</td>\n",
       "      <td>1.0</td>\n",
       "      <td>COHA0022E</td>\n",
       "      <td>...</td>\n",
       "      <td>wachiraporn@cmfrozen.com</td>\n",
       "      <td>26340061</td>\n",
       "      <td>wachiraporn@cmfrozen.com</td>\n",
       "      <td>2017-01-05 16:45:00</td>\n",
       "      <td>NaN</td>\n",
       "      <td>0</td>\n",
       "      <td>1</td>\n",
       "      <td>THLKGY1</td>\n",
       "      <td>2017-01-05 16:45:00</td>\n",
       "      <td>2017</td>\n",
       "    </tr>\n",
       "  </tbody>\n",
       "</table>\n",
       "<p>5 rows × 42 columns</p>\n",
       "</div>"
      ],
      "text/plain": [
       "   Unnamed: 0   Booking No         B/L No   \\\n",
       "0           0  BKK717427400   BKK717427400   \n",
       "1           1  BKK717427401   BKK717427401   \n",
       "2           2  BKK717427402   BKK717427402   \n",
       "3           3  BKK718896200   BKK718896200   \n",
       "4           4  BKK716997200  BKK716997200W   \n",
       "\n",
       "                                            Shipper   \\\n",
       "0  THAI UNION FROZEN PRODUCTS PUBLIC COMPANY LIMITED   \n",
       "1  THAI UNION FROZEN PRODUCTS PUBLIC COMPANY LIMITED   \n",
       "2  THAI UNION FROZEN PRODUCTS PUBLIC COMPANY LIMITED   \n",
       "3                              OKEANOS FOOD CO.,LTD.   \n",
       "4            CHIANGMAI FROZEN FOODS PUBLIC  CO.,LTD.   \n",
       "\n",
       "                                    Shipper Address   \\\n",
       "0  979/12,M FLOOR,SM TOWER\\nPHAHOLYOTHIN ROAD,SAM...   \n",
       "1  979/12,M FLOOR,SM TOWER\\nPHAHOLYOTHIN ROAD,SAM...   \n",
       "2  979/12,M FLOOR,SM TOWER\\nPHAHOLYOTHIN ROAD,SAM...   \n",
       "3  103 NONSEE RD.,CHONGNONSEE,\\nYANNAWA,BANGKOK 1...   \n",
       "4  149/34 SOI ANGLO PLAZA,\\nSURAWONGSE ROAD,BANGK...   \n",
       "\n",
       "                             Consignee   \\\n",
       "0  TO THE ORDER OF BANK OF AMERICA,N.A.   \n",
       "1  TO THE ORDER OF BANK OF AMERICA,N.A.   \n",
       "2  TO THE ORDER OF BANK OF AMERICA,N.A.   \n",
       "3       TO ORDER OF BANK OF AMERICA N.A   \n",
       "4          NEW YORK MUTUAL TRADING INC.   \n",
       "\n",
       "                                  Consignee Address    TEU    FEU   \\\n",
       "0  450 B STREET,SUITE 430\\nSAN DIEGO,CA 92101-890...    0.0    5.0   \n",
       "1  450 B STREET,SUITE 430\\nSAN DIEGO,CA 92101-890...    0.0    5.0   \n",
       "2  450 B STREET,SUITE 430\\nSAN DIEGO,CA 92101-890...    0.0    5.0   \n",
       "3  450 B STREET, SUITE 430\\nSAN DIEGO,CA 92101 U....    0.0    1.0   \n",
       "4  77 METRO WAY,SECAUCUS,NJ 07094\\nTEL:(201)933-9...    0.0    1.0   \n",
       "\n",
       "   Trunk VVD   ...                            Booking Contact E-Mail   \\\n",
       "0   ANTY0003W  ...                        piyaporn_sa@thaiunion.co.th   \n",
       "1   ANTY0003W  ...                        piyaporn_sa@thaiunion.co.th   \n",
       "2   ANTY0003W  ...                        piyaporn_sa@thaiunion.co.th   \n",
       "3   CNAG0061E  ...  juthamard@pakfood.co.th; speeddeetrans_848@hot...   \n",
       "4   COHA0022E  ...                           wachiraporn@cmfrozen.com   \n",
       "\n",
       "   SI Contact Phone Number           SI Contact E-Mail           Sailing DT   \\\n",
       "0                  22980024    onuma_ap@thaiunion.co.th  2017-01-05 16:45:00   \n",
       "1                  22980024    onuma_ap@thaiunion.co.th  2017-01-05 16:45:00   \n",
       "2                  22980024    onuma_ap@thaiunion.co.th  2017-01-05 16:45:00   \n",
       "3               22951991360  ratchadaporn@pakfood.co.th  2017-01-05 16:45:00   \n",
       "4                  26340061    wachiraporn@cmfrozen.com  2017-01-05 16:45:00   \n",
       "\n",
       "   REV.WEEK    Activity Teu    Activity Feu    Mty P/up CY   \\\n",
       "0        NaN               0               5        THLKGY1   \n",
       "1        NaN               0               5        THLKGY1   \n",
       "2        NaN               0               5        THLKGY1   \n",
       "3        NaN               0               1        THLKGY1   \n",
       "4        NaN               0               1        THLKGY1   \n",
       "\n",
       "                 date  year  \n",
       "0 2017-01-05 16:45:00  2017  \n",
       "1 2017-01-05 16:45:00  2017  \n",
       "2 2017-01-05 16:45:00  2017  \n",
       "3 2017-01-05 16:45:00  2017  \n",
       "4 2017-01-05 16:45:00  2017  \n",
       "\n",
       "[5 rows x 42 columns]"
      ]
     },
     "execution_count": 124,
     "metadata": {},
     "output_type": "execute_result"
    }
   ],
   "source": [
    "import_df.head()"
   ]
  },
  {
   "cell_type": "code",
   "execution_count": 125,
   "id": "looking-basketball",
   "metadata": {},
   "outputs": [
    {
     "name": "stdout",
     "output_type": "stream",
     "text": [
      "[########################################] | 100% Completed |  1.4s\n",
      "[########################################] | 100% Completed |  1.5s\n",
      "[########################################] | 100% Completed |  1.6s\n",
      "[########################################] | 100% Completed |  1.7s\n",
      "[########################################] | 100% Completed |  1.8s\n"
     ]
    },
    {
     "data": {
      "text/html": [
       "<div>\n",
       "<style scoped>\n",
       "    .dataframe tbody tr th:only-of-type {\n",
       "        vertical-align: middle;\n",
       "    }\n",
       "\n",
       "    .dataframe tbody tr th {\n",
       "        vertical-align: top;\n",
       "    }\n",
       "\n",
       "    .dataframe thead th {\n",
       "        text-align: right;\n",
       "    }\n",
       "</style>\n",
       "<table border=\"1\" class=\"dataframe\">\n",
       "  <thead>\n",
       "    <tr style=\"text-align: right;\">\n",
       "      <th></th>\n",
       "      <th>Unnamed: 0</th>\n",
       "      <th>Booking No</th>\n",
       "      <th>B/L No</th>\n",
       "      <th>Shipper</th>\n",
       "      <th>Shipper Address</th>\n",
       "      <th>Consignee</th>\n",
       "      <th>Consignee Address</th>\n",
       "      <th>TEU</th>\n",
       "      <th>FEU</th>\n",
       "      <th>Trunk VVD</th>\n",
       "      <th>...</th>\n",
       "      <th>Booking Contact E-Mail</th>\n",
       "      <th>SI Contact Phone Number</th>\n",
       "      <th>SI Contact E-Mail</th>\n",
       "      <th>Sailing DT</th>\n",
       "      <th>REV.WEEK</th>\n",
       "      <th>Activity Teu</th>\n",
       "      <th>Activity Feu</th>\n",
       "      <th>Mty P/up CY</th>\n",
       "      <th>date</th>\n",
       "      <th>year</th>\n",
       "    </tr>\n",
       "  </thead>\n",
       "  <tbody>\n",
       "    <tr>\n",
       "      <th>0</th>\n",
       "      <td>0</td>\n",
       "      <td>BKK717427400</td>\n",
       "      <td>BKK717427400</td>\n",
       "      <td>THAI UNION FROZEN PRODUCTS PUBLIC COMPANY LIMITED</td>\n",
       "      <td>979/12,M FLOOR,SM TOWER\\nPHAHOLYOTHIN ROAD,SAM...</td>\n",
       "      <td>TO THE ORDER OF BANK OF AMERICA,N.A.</td>\n",
       "      <td>450 B STREET,SUITE 430\\nSAN DIEGO,CA 92101-890...</td>\n",
       "      <td>0.0</td>\n",
       "      <td>5.0</td>\n",
       "      <td>ANTY0003W</td>\n",
       "      <td>...</td>\n",
       "      <td>piyaporn_sa@thaiunion.co.th</td>\n",
       "      <td>22980024</td>\n",
       "      <td>onuma_ap@thaiunion.co.th</td>\n",
       "      <td>2017-01-05 16:45:00</td>\n",
       "      <td>NaN</td>\n",
       "      <td>0</td>\n",
       "      <td>5</td>\n",
       "      <td>THLKGY1</td>\n",
       "      <td>2017-01-05 16:45:00</td>\n",
       "      <td>2017</td>\n",
       "    </tr>\n",
       "    <tr>\n",
       "      <th>1</th>\n",
       "      <td>1</td>\n",
       "      <td>BKK717427401</td>\n",
       "      <td>BKK717427401</td>\n",
       "      <td>THAI UNION FROZEN PRODUCTS PUBLIC COMPANY LIMITED</td>\n",
       "      <td>979/12,M FLOOR,SM TOWER\\nPHAHOLYOTHIN ROAD,SAM...</td>\n",
       "      <td>TO THE ORDER OF BANK OF AMERICA,N.A.</td>\n",
       "      <td>450 B STREET,SUITE 430\\nSAN DIEGO,CA 92101-890...</td>\n",
       "      <td>0.0</td>\n",
       "      <td>5.0</td>\n",
       "      <td>ANTY0003W</td>\n",
       "      <td>...</td>\n",
       "      <td>piyaporn_sa@thaiunion.co.th</td>\n",
       "      <td>22980024</td>\n",
       "      <td>onuma_ap@thaiunion.co.th</td>\n",
       "      <td>2017-01-05 16:45:00</td>\n",
       "      <td>NaN</td>\n",
       "      <td>0</td>\n",
       "      <td>5</td>\n",
       "      <td>THLKGY1</td>\n",
       "      <td>2017-01-05 16:45:00</td>\n",
       "      <td>2017</td>\n",
       "    </tr>\n",
       "    <tr>\n",
       "      <th>2</th>\n",
       "      <td>2</td>\n",
       "      <td>BKK717427402</td>\n",
       "      <td>BKK717427402</td>\n",
       "      <td>THAI UNION FROZEN PRODUCTS PUBLIC COMPANY LIMITED</td>\n",
       "      <td>979/12,M FLOOR,SM TOWER\\nPHAHOLYOTHIN ROAD,SAM...</td>\n",
       "      <td>TO THE ORDER OF BANK OF AMERICA,N.A.</td>\n",
       "      <td>450 B STREET,SUITE 430\\nSAN DIEGO,CA 92101-890...</td>\n",
       "      <td>0.0</td>\n",
       "      <td>5.0</td>\n",
       "      <td>ANTY0003W</td>\n",
       "      <td>...</td>\n",
       "      <td>piyaporn_sa@thaiunion.co.th</td>\n",
       "      <td>22980024</td>\n",
       "      <td>onuma_ap@thaiunion.co.th</td>\n",
       "      <td>2017-01-05 16:45:00</td>\n",
       "      <td>NaN</td>\n",
       "      <td>0</td>\n",
       "      <td>5</td>\n",
       "      <td>THLKGY1</td>\n",
       "      <td>2017-01-05 16:45:00</td>\n",
       "      <td>2017</td>\n",
       "    </tr>\n",
       "    <tr>\n",
       "      <th>3</th>\n",
       "      <td>3</td>\n",
       "      <td>BKK718896200</td>\n",
       "      <td>BKK718896200</td>\n",
       "      <td>OKEANOS FOOD CO.,LTD.</td>\n",
       "      <td>103 NONSEE RD.,CHONGNONSEE,\\nYANNAWA,BANGKOK 1...</td>\n",
       "      <td>TO ORDER OF BANK OF AMERICA N.A</td>\n",
       "      <td>450 B STREET, SUITE 430\\nSAN DIEGO,CA 92101 U....</td>\n",
       "      <td>0.0</td>\n",
       "      <td>1.0</td>\n",
       "      <td>CNAG0061E</td>\n",
       "      <td>...</td>\n",
       "      <td>juthamard@pakfood.co.th; speeddeetrans_848@hot...</td>\n",
       "      <td>22951991360</td>\n",
       "      <td>ratchadaporn@pakfood.co.th</td>\n",
       "      <td>2017-01-05 16:45:00</td>\n",
       "      <td>NaN</td>\n",
       "      <td>0</td>\n",
       "      <td>1</td>\n",
       "      <td>THLKGY1</td>\n",
       "      <td>2017-01-05 16:45:00</td>\n",
       "      <td>2017</td>\n",
       "    </tr>\n",
       "    <tr>\n",
       "      <th>4</th>\n",
       "      <td>4</td>\n",
       "      <td>BKK716997200</td>\n",
       "      <td>BKK716997200W</td>\n",
       "      <td>CHIANGMAI FROZEN FOODS PUBLIC  CO.,LTD.</td>\n",
       "      <td>149/34 SOI ANGLO PLAZA,\\nSURAWONGSE ROAD,BANGK...</td>\n",
       "      <td>NEW YORK MUTUAL TRADING INC.</td>\n",
       "      <td>77 METRO WAY,SECAUCUS,NJ 07094\\nTEL:(201)933-9...</td>\n",
       "      <td>0.0</td>\n",
       "      <td>1.0</td>\n",
       "      <td>COHA0022E</td>\n",
       "      <td>...</td>\n",
       "      <td>wachiraporn@cmfrozen.com</td>\n",
       "      <td>26340061</td>\n",
       "      <td>wachiraporn@cmfrozen.com</td>\n",
       "      <td>2017-01-05 16:45:00</td>\n",
       "      <td>NaN</td>\n",
       "      <td>0</td>\n",
       "      <td>1</td>\n",
       "      <td>THLKGY1</td>\n",
       "      <td>2017-01-05 16:45:00</td>\n",
       "      <td>2017</td>\n",
       "    </tr>\n",
       "  </tbody>\n",
       "</table>\n",
       "<p>5 rows × 42 columns</p>\n",
       "</div>"
      ],
      "text/plain": [
       "   Unnamed: 0    Booking No         B/L No  \\\n",
       "0           0  BKK717427400   BKK717427400   \n",
       "1           1  BKK717427401   BKK717427401   \n",
       "2           2  BKK717427402   BKK717427402   \n",
       "3           3  BKK718896200   BKK718896200   \n",
       "4           4  BKK716997200  BKK716997200W   \n",
       "\n",
       "                                             Shipper  \\\n",
       "0  THAI UNION FROZEN PRODUCTS PUBLIC COMPANY LIMITED   \n",
       "1  THAI UNION FROZEN PRODUCTS PUBLIC COMPANY LIMITED   \n",
       "2  THAI UNION FROZEN PRODUCTS PUBLIC COMPANY LIMITED   \n",
       "3                              OKEANOS FOOD CO.,LTD.   \n",
       "4            CHIANGMAI FROZEN FOODS PUBLIC  CO.,LTD.   \n",
       "\n",
       "                                     Shipper Address  \\\n",
       "0  979/12,M FLOOR,SM TOWER\\nPHAHOLYOTHIN ROAD,SAM...   \n",
       "1  979/12,M FLOOR,SM TOWER\\nPHAHOLYOTHIN ROAD,SAM...   \n",
       "2  979/12,M FLOOR,SM TOWER\\nPHAHOLYOTHIN ROAD,SAM...   \n",
       "3  103 NONSEE RD.,CHONGNONSEE,\\nYANNAWA,BANGKOK 1...   \n",
       "4  149/34 SOI ANGLO PLAZA,\\nSURAWONGSE ROAD,BANGK...   \n",
       "\n",
       "                              Consignee  \\\n",
       "0  TO THE ORDER OF BANK OF AMERICA,N.A.   \n",
       "1  TO THE ORDER OF BANK OF AMERICA,N.A.   \n",
       "2  TO THE ORDER OF BANK OF AMERICA,N.A.   \n",
       "3       TO ORDER OF BANK OF AMERICA N.A   \n",
       "4          NEW YORK MUTUAL TRADING INC.   \n",
       "\n",
       "                                   Consignee Address  TEU  FEU  Trunk VVD  \\\n",
       "0  450 B STREET,SUITE 430\\nSAN DIEGO,CA 92101-890...  0.0  5.0  ANTY0003W   \n",
       "1  450 B STREET,SUITE 430\\nSAN DIEGO,CA 92101-890...  0.0  5.0  ANTY0003W   \n",
       "2  450 B STREET,SUITE 430\\nSAN DIEGO,CA 92101-890...  0.0  5.0  ANTY0003W   \n",
       "3  450 B STREET, SUITE 430\\nSAN DIEGO,CA 92101 U....  0.0  1.0  CNAG0061E   \n",
       "4  77 METRO WAY,SECAUCUS,NJ 07094\\nTEL:(201)933-9...  0.0  1.0  COHA0022E   \n",
       "\n",
       "   ...                             Booking Contact E-Mail  \\\n",
       "0  ...                        piyaporn_sa@thaiunion.co.th   \n",
       "1  ...                        piyaporn_sa@thaiunion.co.th   \n",
       "2  ...                        piyaporn_sa@thaiunion.co.th   \n",
       "3  ...  juthamard@pakfood.co.th; speeddeetrans_848@hot...   \n",
       "4  ...                           wachiraporn@cmfrozen.com   \n",
       "\n",
       "  SI Contact Phone Number           SI Contact E-Mail           Sailing DT  \\\n",
       "0                22980024    onuma_ap@thaiunion.co.th  2017-01-05 16:45:00   \n",
       "1                22980024    onuma_ap@thaiunion.co.th  2017-01-05 16:45:00   \n",
       "2                22980024    onuma_ap@thaiunion.co.th  2017-01-05 16:45:00   \n",
       "3             22951991360  ratchadaporn@pakfood.co.th  2017-01-05 16:45:00   \n",
       "4                26340061    wachiraporn@cmfrozen.com  2017-01-05 16:45:00   \n",
       "\n",
       "  REV.WEEK  Activity Teu  Activity Feu  Mty P/up CY                date  year  \n",
       "0      NaN             0             5      THLKGY1 2017-01-05 16:45:00  2017  \n",
       "1      NaN             0             5      THLKGY1 2017-01-05 16:45:00  2017  \n",
       "2      NaN             0             5      THLKGY1 2017-01-05 16:45:00  2017  \n",
       "3      NaN             0             1      THLKGY1 2017-01-05 16:45:00  2017  \n",
       "4      NaN             0             1      THLKGY1 2017-01-05 16:45:00  2017  \n",
       "\n",
       "[5 rows x 42 columns]"
      ]
     },
     "execution_count": 125,
     "metadata": {},
     "output_type": "execute_result"
    }
   ],
   "source": [
    "# Column names have leading and trailing spaces that we have to get rid of\n",
    "import_df_clean = import_df.rename(columns=lambda x: x.strip())\n",
    "import_df_clean.head()"
   ]
  },
  {
   "cell_type": "code",
   "execution_count": 126,
   "id": "fifth-sheriff",
   "metadata": {},
   "outputs": [
    {
     "name": "stdout",
     "output_type": "stream",
     "text": [
      "[########################################] | 100% Completed | 10.0s\n",
      "[########################################] | 100% Completed | 10.1s\n",
      "[########################################] | 100% Completed | 10.2s\n",
      "[########################################] | 100% Completed | 10.3s\n",
      "[########################################] | 100% Completed | 10.4s\n"
     ]
    }
   ],
   "source": [
    "s2 = import_df_clean.groupby(['year']).Shipper.nunique().compute() # Do not call compute always. It will kill the notebook"
   ]
  },
  {
   "cell_type": "code",
   "execution_count": 130,
   "id": "periodic-oracle",
   "metadata": {},
   "outputs": [
    {
     "name": "stdout",
     "output_type": "stream",
     "text": [
      "[########################################] | 100% Completed |  9.6s\n",
      "[########################################] | 100% Completed |  9.7s\n",
      "[########################################] | 100% Completed |  9.8s\n",
      "[########################################] | 100% Completed |  9.9s\n",
      "[########################################] | 100% Completed | 10.0s\n"
     ]
    },
    {
     "data": {
      "text/plain": [
       "48317"
      ]
     },
     "execution_count": 130,
     "metadata": {},
     "output_type": "execute_result"
    }
   ],
   "source": [
    "s2all = import_df_clean.Shipper.nunique().compute() # Do not call compute always. It will kill the notebook\n",
    "s2all"
   ]
  },
  {
   "cell_type": "code",
   "execution_count": 23,
   "id": "sapphire-possible",
   "metadata": {},
   "outputs": [
    {
     "data": {
      "text/html": [
       "<div>\n",
       "<style scoped>\n",
       "    .dataframe tbody tr th:only-of-type {\n",
       "        vertical-align: middle;\n",
       "    }\n",
       "\n",
       "    .dataframe tbody tr th {\n",
       "        vertical-align: top;\n",
       "    }\n",
       "\n",
       "    .dataframe thead th {\n",
       "        text-align: right;\n",
       "    }\n",
       "</style>\n",
       "<table border=\"1\" class=\"dataframe\">\n",
       "  <thead>\n",
       "    <tr style=\"text-align: right;\">\n",
       "      <th></th>\n",
       "      <th>year</th>\n",
       "      <th>values</th>\n",
       "    </tr>\n",
       "  </thead>\n",
       "  <tbody>\n",
       "    <tr>\n",
       "      <th>0</th>\n",
       "      <td>2015</td>\n",
       "      <td>33492</td>\n",
       "    </tr>\n",
       "    <tr>\n",
       "      <th>1</th>\n",
       "      <td>2016</td>\n",
       "      <td>26989</td>\n",
       "    </tr>\n",
       "    <tr>\n",
       "      <th>2</th>\n",
       "      <td>2017</td>\n",
       "      <td>32663</td>\n",
       "    </tr>\n",
       "    <tr>\n",
       "      <th>3</th>\n",
       "      <td>2018</td>\n",
       "      <td>32661</td>\n",
       "    </tr>\n",
       "    <tr>\n",
       "      <th>4</th>\n",
       "      <td>2019</td>\n",
       "      <td>47894</td>\n",
       "    </tr>\n",
       "    <tr>\n",
       "      <th>5</th>\n",
       "      <td>2020</td>\n",
       "      <td>47893</td>\n",
       "    </tr>\n",
       "  </tbody>\n",
       "</table>\n",
       "</div>"
      ],
      "text/plain": [
       "   year  values\n",
       "0  2015   33492\n",
       "1  2016   26989\n",
       "2  2017   32663\n",
       "3  2018   32661\n",
       "4  2019   47894\n",
       "5  2020   47893"
      ]
     },
     "execution_count": 23,
     "metadata": {},
     "output_type": "execute_result"
    }
   ],
   "source": [
    "df2 = pd.DataFrame({'year':s2.index, 'values':s2.values}).sort_values(\"year\").reset_index(drop=True)\n",
    "df2"
   ]
  },
  {
   "cell_type": "code",
   "execution_count": 24,
   "id": "sustainable-wednesday",
   "metadata": {},
   "outputs": [
    {
     "data": {
      "image/png": "[encoded data removed]",
      "text/plain": [
       "<Figure size 864x576 with 1 Axes>"
      ]
     },
     "metadata": {},
     "output_type": "display_data"
    }
   ],
   "source": [
    "#plot the number of unique shippers by year\n",
    "sns.set_theme(style=\"whitegrid\")\n",
    "sns.set(rc={'figure.figsize':(12,8)})\n",
    "ax = sns.barplot(data=df2, x=\"year\", y=\"values\")\n",
    "ax.axes.set_title('Unique Shipper Count by Year', fontsize = 20)\n",
    "ax.set_xlabel('Year', fontsize = 15)\n",
    "ax.set_ylabel('Record Count', fontsize = 15)\n",
    "for p in ax.patches:\n",
    "    ax.annotate(format(p.get_height(), '.0f'), \n",
    "                   (p.get_x() + p.get_width() / 2., p.get_height()), \n",
    "                   ha = 'center', va = 'center', \n",
    "                   xytext = (0, 9),\n",
    "                   fontsize = 10,\n",
    "                   textcoords = 'offset points')"
   ]
  },
  {
   "cell_type": "code",
   "execution_count": 25,
   "id": "finnish-world",
   "metadata": {},
   "outputs": [
    {
     "name": "stdout",
     "output_type": "stream",
     "text": [
      "[########################################] | 100% Completed |  9.5s\n"
     ]
    },
    {
     "data": {
      "text/html": [
       "<div>\n",
       "<style scoped>\n",
       "    .dataframe tbody tr th:only-of-type {\n",
       "        vertical-align: middle;\n",
       "    }\n",
       "\n",
       "    .dataframe tbody tr th {\n",
       "        vertical-align: top;\n",
       "    }\n",
       "\n",
       "    .dataframe thead th {\n",
       "        text-align: right;\n",
       "    }\n",
       "</style>\n",
       "<table border=\"1\" class=\"dataframe\">\n",
       "  <thead>\n",
       "    <tr style=\"text-align: right;\">\n",
       "      <th></th>\n",
       "      <th>year</th>\n",
       "      <th>values</th>\n",
       "    </tr>\n",
       "  </thead>\n",
       "  <tbody>\n",
       "    <tr>\n",
       "      <th>0</th>\n",
       "      <td>2015</td>\n",
       "      <td>20376</td>\n",
       "    </tr>\n",
       "    <tr>\n",
       "      <th>1</th>\n",
       "      <td>2016</td>\n",
       "      <td>16430</td>\n",
       "    </tr>\n",
       "    <tr>\n",
       "      <th>2</th>\n",
       "      <td>2017</td>\n",
       "      <td>19718</td>\n",
       "    </tr>\n",
       "    <tr>\n",
       "      <th>3</th>\n",
       "      <td>2018</td>\n",
       "      <td>19712</td>\n",
       "    </tr>\n",
       "    <tr>\n",
       "      <th>4</th>\n",
       "      <td>2019</td>\n",
       "      <td>29277</td>\n",
       "    </tr>\n",
       "    <tr>\n",
       "      <th>5</th>\n",
       "      <td>2020</td>\n",
       "      <td>29278</td>\n",
       "    </tr>\n",
       "  </tbody>\n",
       "</table>\n",
       "</div>"
      ],
      "text/plain": [
       "   year  values\n",
       "0  2015   20376\n",
       "1  2016   16430\n",
       "2  2017   19718\n",
       "3  2018   19712\n",
       "4  2019   29277\n",
       "5  2020   29278"
      ]
     },
     "execution_count": 25,
     "metadata": {},
     "output_type": "execute_result"
    }
   ],
   "source": [
    "s3 = import_df_clean.groupby(['year']).Consignee.nunique().compute() # Do not call compute always. It will kill the notebook\n",
    "df3 = pd.DataFrame({'year':s3.index, 'values':s3.values}).sort_values(\"year\").reset_index(drop=True)\n",
    "df3"
   ]
  },
  {
   "cell_type": "code",
   "execution_count": 131,
   "id": "unlimited-logging",
   "metadata": {},
   "outputs": [
    {
     "name": "stdout",
     "output_type": "stream",
     "text": [
      "[########################################] | 100% Completed |  9.4s\n",
      "[########################################] | 100% Completed |  9.5s\n",
      "[########################################] | 100% Completed |  9.6s\n",
      "[########################################] | 100% Completed |  9.7s\n",
      "[########################################] | 100% Completed |  9.8s\n"
     ]
    },
    {
     "data": {
      "text/plain": [
       "29365"
      ]
     },
     "execution_count": 131,
     "metadata": {},
     "output_type": "execute_result"
    }
   ],
   "source": [
    "s3all = import_df_clean.Consignee.nunique().compute()\n",
    "s3all"
   ]
  },
  {
   "cell_type": "code",
   "execution_count": 132,
   "id": "subject-helen",
   "metadata": {},
   "outputs": [
    {
     "data": {
      "image/png": "[encoded data removed]",
      "text/plain": [
       "<Figure size 864x576 with 1 Axes>"
      ]
     },
     "metadata": {},
     "output_type": "display_data"
    }
   ],
   "source": [
    "#plot the number of unique consingees by year\n",
    "sns.set_theme(style=\"whitegrid\")\n",
    "sns.set(rc={'figure.figsize':(12,8)})\n",
    "ax = sns.barplot(data=df3, x=\"year\", y=\"values\")\n",
    "ax.axes.set_title('Unique Consignee Count by Year', fontsize = 20)\n",
    "ax.set_xlabel('Year', fontsize = 15)\n",
    "ax.set_ylabel('Record Count', fontsize = 15)\n",
    "ax.set(ylim=(0,50000))\n",
    "for p in ax.patches:\n",
    "    ax.annotate(format(p.get_height(), '.0f'), \n",
    "                   (p.get_x() + p.get_width() / 2., p.get_height()), \n",
    "                   ha = 'center', va = 'center', \n",
    "                   xytext = (0, 9),\n",
    "                   fontsize = 10,\n",
    "                   textcoords = 'offset points')"
   ]
  },
  {
   "cell_type": "markdown",
   "id": "entertaining-junction",
   "metadata": {},
   "source": [
    "### What is being shipped?"
   ]
  },
  {
   "cell_type": "code",
   "execution_count": 62,
   "id": "emerging-dutch",
   "metadata": {},
   "outputs": [
    {
     "name": "stdout",
     "output_type": "stream",
     "text": [
      "[########################################] | 100% Completed |  1.6s\n",
      "[########################################] | 100% Completed |  1.7s\n",
      "[########################################] | 100% Completed |  1.8s\n"
     ]
    },
    {
     "data": {
      "text/html": [
       "<div>\n",
       "<style scoped>\n",
       "    .dataframe tbody tr th:only-of-type {\n",
       "        vertical-align: middle;\n",
       "    }\n",
       "\n",
       "    .dataframe tbody tr th {\n",
       "        vertical-align: top;\n",
       "    }\n",
       "\n",
       "    .dataframe thead th {\n",
       "        text-align: right;\n",
       "    }\n",
       "</style>\n",
       "<table border=\"1\" class=\"dataframe\">\n",
       "  <thead>\n",
       "    <tr style=\"text-align: right;\">\n",
       "      <th></th>\n",
       "      <th>PKG</th>\n",
       "      <th>PKG Unit</th>\n",
       "      <th>REP CMDT</th>\n",
       "      <th>CMDT Code</th>\n",
       "      <th>CMDT</th>\n",
       "      <th>Customs Description</th>\n",
       "    </tr>\n",
       "  </thead>\n",
       "  <tbody>\n",
       "    <tr>\n",
       "      <th>0</th>\n",
       "      <td>19800</td>\n",
       "      <td>BG</td>\n",
       "      <td>300</td>\n",
       "      <td>30015</td>\n",
       "      <td>FROZEN FISH,  NOS</td>\n",
       "      <td>FROZEN PRECOOKED SKIPJACK LOINS WITH AVAILABLE...</td>\n",
       "    </tr>\n",
       "    <tr>\n",
       "      <th>1</th>\n",
       "      <td>19800</td>\n",
       "      <td>BG</td>\n",
       "      <td>300</td>\n",
       "      <td>30015</td>\n",
       "      <td>FROZEN FISH,  NOS</td>\n",
       "      <td>FROZEN PRECOOKED SKIPJACK LOINS WITH AVAILABLE...</td>\n",
       "    </tr>\n",
       "    <tr>\n",
       "      <th>2</th>\n",
       "      <td>19800</td>\n",
       "      <td>BG</td>\n",
       "      <td>300</td>\n",
       "      <td>30015</td>\n",
       "      <td>FROZEN FISH,  NOS</td>\n",
       "      <td>FROZEN PRECOOKED SKIPJACK LOINS WITH AVAILABLE...</td>\n",
       "    </tr>\n",
       "    <tr>\n",
       "      <th>3</th>\n",
       "      <td>3400</td>\n",
       "      <td>CT</td>\n",
       "      <td>1600</td>\n",
       "      <td>160001</td>\n",
       "      <td>FROZEN SEAFOOD, NOS</td>\n",
       "      <td>FROZEN SHRIMP</td>\n",
       "    </tr>\n",
       "    <tr>\n",
       "      <th>4</th>\n",
       "      <td>2088</td>\n",
       "      <td>CT</td>\n",
       "      <td>700</td>\n",
       "      <td>70003</td>\n",
       "      <td>VEGETABLES, REEFER, NOS;</td>\n",
       "      <td>FROZEN BOILED SOY BEANS</td>\n",
       "    </tr>\n",
       "    <tr>\n",
       "      <th>5</th>\n",
       "      <td>790</td>\n",
       "      <td>CT</td>\n",
       "      <td>1600</td>\n",
       "      <td>160001</td>\n",
       "      <td>FROZEN SEAFOOD, NOS</td>\n",
       "      <td>FROZEN SHRIMP</td>\n",
       "    </tr>\n",
       "    <tr>\n",
       "      <th>6</th>\n",
       "      <td>780</td>\n",
       "      <td>CT</td>\n",
       "      <td>1600</td>\n",
       "      <td>160001</td>\n",
       "      <td>FROZEN SEAFOOD, NOS</td>\n",
       "      <td>FROZEN SHRIMP</td>\n",
       "    </tr>\n",
       "    <tr>\n",
       "      <th>7</th>\n",
       "      <td>680</td>\n",
       "      <td>CT</td>\n",
       "      <td>1600</td>\n",
       "      <td>160001</td>\n",
       "      <td>FROZEN SEAFOOD, NOS</td>\n",
       "      <td>FROZEN CALAMARI RINGS</td>\n",
       "    </tr>\n",
       "    <tr>\n",
       "      <th>8</th>\n",
       "      <td>200</td>\n",
       "      <td>CT</td>\n",
       "      <td>7000</td>\n",
       "      <td>701113</td>\n",
       "      <td>HOUSEWARE ITEMS, NOS;</td>\n",
       "      <td>DIXON BAMBOO HAMPER WITH LINER</td>\n",
       "    </tr>\n",
       "    <tr>\n",
       "      <th>9</th>\n",
       "      <td>84</td>\n",
       "      <td>ST</td>\n",
       "      <td>8500</td>\n",
       "      <td>853934</td>\n",
       "      <td>ELECTRONIC GOODS AND PARTS, NOS;</td>\n",
       "      <td>ELECTRIC OVEN</td>\n",
       "    </tr>\n",
       "    <tr>\n",
       "      <th>10</th>\n",
       "      <td>84</td>\n",
       "      <td>ST</td>\n",
       "      <td>8500</td>\n",
       "      <td>853934</td>\n",
       "      <td>ELECTRONIC GOODS AND PARTS, NOS;</td>\n",
       "      <td>ELECTRIC OVEN</td>\n",
       "    </tr>\n",
       "    <tr>\n",
       "      <th>11</th>\n",
       "      <td>84</td>\n",
       "      <td>ST</td>\n",
       "      <td>8500</td>\n",
       "      <td>853934</td>\n",
       "      <td>ELECTRONIC GOODS AND PARTS, NOS;</td>\n",
       "      <td>ELECTRIC OVEN</td>\n",
       "    </tr>\n",
       "    <tr>\n",
       "      <th>12</th>\n",
       "      <td>8790</td>\n",
       "      <td>CT</td>\n",
       "      <td>8500</td>\n",
       "      <td>853934</td>\n",
       "      <td>ELECTRONIC GOODS AND PARTS, NOS;</td>\n",
       "      <td>CYAN, HIGH CAPACITY TONER (4K)CLT-C508L/SEE 48...</td>\n",
       "    </tr>\n",
       "    <tr>\n",
       "      <th>13</th>\n",
       "      <td>7862</td>\n",
       "      <td>CT</td>\n",
       "      <td>8200</td>\n",
       "      <td>820024</td>\n",
       "      <td>GARDEN SUPPLY, NOS;</td>\n",
       "      <td>GARDEN SUPPLY,PLANT STANDS,CADDYS,FENCES,TRELL...</td>\n",
       "    </tr>\n",
       "    <tr>\n",
       "      <th>14</th>\n",
       "      <td>4757</td>\n",
       "      <td>CT</td>\n",
       "      <td>4201</td>\n",
       "      <td>420003</td>\n",
       "      <td>LUGGAGE, NOS</td>\n",
       "      <td>LUGGAGE, BAGS AND ACCESSORIES</td>\n",
       "    </tr>\n",
       "    <tr>\n",
       "      <th>15</th>\n",
       "      <td>2812</td>\n",
       "      <td>CT</td>\n",
       "      <td>9901</td>\n",
       "      <td>990003</td>\n",
       "      <td>GDSM, NOS;</td>\n",
       "      <td>KENMORE CAN OPENER CAN OPENER</td>\n",
       "    </tr>\n",
       "    <tr>\n",
       "      <th>16</th>\n",
       "      <td>2005</td>\n",
       "      <td>CT</td>\n",
       "      <td>9901</td>\n",
       "      <td>990003</td>\n",
       "      <td>GDSM, NOS;</td>\n",
       "      <td>KENMORE TOASTER OVEN</td>\n",
       "    </tr>\n",
       "    <tr>\n",
       "      <th>17</th>\n",
       "      <td>1601</td>\n",
       "      <td>PK</td>\n",
       "      <td>2100</td>\n",
       "      <td>210015</td>\n",
       "      <td>FOODSTUFF, FROZEN, NOS</td>\n",
       "      <td>COOKED FROZEN VEGETABLE PANANG MEAL</td>\n",
       "    </tr>\n",
       "    <tr>\n",
       "      <th>18</th>\n",
       "      <td>939</td>\n",
       "      <td>CT</td>\n",
       "      <td>9901</td>\n",
       "      <td>990003</td>\n",
       "      <td>GDSM, NOS;</td>\n",
       "      <td>BLENDER BLACK</td>\n",
       "    </tr>\n",
       "    <tr>\n",
       "      <th>19</th>\n",
       "      <td>643</td>\n",
       "      <td>CT</td>\n",
       "      <td>9901</td>\n",
       "      <td>990003</td>\n",
       "      <td>GDSM, NOS;</td>\n",
       "      <td>MIXER DIE CAST</td>\n",
       "    </tr>\n",
       "  </tbody>\n",
       "</table>\n",
       "</div>"
      ],
      "text/plain": [
       "      PKG PKG Unit  REP CMDT  CMDT Code                              CMDT  \\\n",
       "0   19800       BG       300      30015                 FROZEN FISH,  NOS   \n",
       "1   19800       BG       300      30015                 FROZEN FISH,  NOS   \n",
       "2   19800       BG       300      30015                 FROZEN FISH,  NOS   \n",
       "3    3400       CT      1600     160001               FROZEN SEAFOOD, NOS   \n",
       "4    2088       CT       700      70003          VEGETABLES, REEFER, NOS;   \n",
       "5     790       CT      1600     160001               FROZEN SEAFOOD, NOS   \n",
       "6     780       CT      1600     160001               FROZEN SEAFOOD, NOS   \n",
       "7     680       CT      1600     160001               FROZEN SEAFOOD, NOS   \n",
       "8     200       CT      7000     701113             HOUSEWARE ITEMS, NOS;   \n",
       "9      84       ST      8500     853934  ELECTRONIC GOODS AND PARTS, NOS;   \n",
       "10     84       ST      8500     853934  ELECTRONIC GOODS AND PARTS, NOS;   \n",
       "11     84       ST      8500     853934  ELECTRONIC GOODS AND PARTS, NOS;   \n",
       "12   8790       CT      8500     853934  ELECTRONIC GOODS AND PARTS, NOS;   \n",
       "13   7862       CT      8200     820024               GARDEN SUPPLY, NOS;   \n",
       "14   4757       CT      4201     420003                      LUGGAGE, NOS   \n",
       "15   2812       CT      9901     990003                        GDSM, NOS;   \n",
       "16   2005       CT      9901     990003                        GDSM, NOS;   \n",
       "17   1601       PK      2100     210015            FOODSTUFF, FROZEN, NOS   \n",
       "18    939       CT      9901     990003                        GDSM, NOS;   \n",
       "19    643       CT      9901     990003                        GDSM, NOS;   \n",
       "\n",
       "                                  Customs Description  \n",
       "0   FROZEN PRECOOKED SKIPJACK LOINS WITH AVAILABLE...  \n",
       "1   FROZEN PRECOOKED SKIPJACK LOINS WITH AVAILABLE...  \n",
       "2   FROZEN PRECOOKED SKIPJACK LOINS WITH AVAILABLE...  \n",
       "3                                       FROZEN SHRIMP  \n",
       "4                             FROZEN BOILED SOY BEANS  \n",
       "5                                       FROZEN SHRIMP  \n",
       "6                                       FROZEN SHRIMP  \n",
       "7                               FROZEN CALAMARI RINGS  \n",
       "8                      DIXON BAMBOO HAMPER WITH LINER  \n",
       "9                                       ELECTRIC OVEN  \n",
       "10                                      ELECTRIC OVEN  \n",
       "11                                      ELECTRIC OVEN  \n",
       "12  CYAN, HIGH CAPACITY TONER (4K)CLT-C508L/SEE 48...  \n",
       "13  GARDEN SUPPLY,PLANT STANDS,CADDYS,FENCES,TRELL...  \n",
       "14                      LUGGAGE, BAGS AND ACCESSORIES  \n",
       "15                      KENMORE CAN OPENER CAN OPENER  \n",
       "16                               KENMORE TOASTER OVEN  \n",
       "17                COOKED FROZEN VEGETABLE PANANG MEAL  \n",
       "18                                      BLENDER BLACK  \n",
       "19                                     MIXER DIE CAST  "
      ]
     },
     "execution_count": 62,
     "metadata": {},
     "output_type": "execute_result"
    }
   ],
   "source": [
    "# Let's see what kind of info is in the relevant fields\n",
    "\n",
    "import_df_clean[['PKG', 'PKG Unit', 'REP CMDT', 'CMDT Code', 'CMDT', 'Customs Description']].head(20)\n"
   ]
  },
  {
   "cell_type": "code",
   "execution_count": 63,
   "id": "therapeutic-hudson",
   "metadata": {},
   "outputs": [
    {
     "name": "stdout",
     "output_type": "stream",
     "text": [
      "[########################################] | 100% Completed |  9.4s\n",
      "[########################################] | 100% Completed |  9.5s\n",
      "[########################################] | 100% Completed |  9.6s\n"
     ]
    }
   ],
   "source": [
    "s4 = import_df_clean.groupby(['CMDT Code'])[\"B/L No\"].count().compute() # Do not call compute always. It will kill the notebook\n"
   ]
  },
  {
   "cell_type": "code",
   "execution_count": 64,
   "id": "resistant-brown",
   "metadata": {},
   "outputs": [
    {
     "name": "stdout",
     "output_type": "stream",
     "text": [
      "[########################################] | 100% Completed |  9.4s\n",
      "[########################################] | 100% Completed |  9.5s\n",
      "[########################################] | 100% Completed |  9.6s\n"
     ]
    },
    {
     "data": {
      "text/plain": [
       "2282"
      ]
     },
     "execution_count": 64,
     "metadata": {},
     "output_type": "execute_result"
    }
   ],
   "source": [
    "# How many different commodity codes?\n",
    "\n",
    "import_df_clean['CMDT Code'].nunique().compute()"
   ]
  },
  {
   "cell_type": "code",
   "execution_count": 65,
   "id": "driving-headset",
   "metadata": {},
   "outputs": [
    {
     "name": "stdout",
     "output_type": "stream",
     "text": [
      "[########################################] | 100% Completed |  9.3s\n",
      "[########################################] | 100% Completed |  9.4s\n",
      "[########################################] | 100% Completed |  9.5s\n"
     ]
    },
    {
     "data": {
      "text/plain": [
       "121"
      ]
     },
     "execution_count": 65,
     "metadata": {},
     "output_type": "execute_result"
    }
   ],
   "source": [
    "# How many different REP CMDT codes?\n",
    "\n",
    "import_df_clean['REP CMDT'].nunique().compute()"
   ]
  },
  {
   "cell_type": "code",
   "execution_count": 72,
   "id": "federal-italy",
   "metadata": {},
   "outputs": [
    {
     "name": "stdout",
     "output_type": "stream",
     "text": [
      "[                                        ] | 0% Completed |  0.2s"
     ]
    },
    {
     "name": "stderr",
     "output_type": "stream",
     "text": [
      "/usr/local/lib/python3.8/dist-packages/dask/core.py:121: FutureWarning: Your version of xlrd is 1.2.0. In xlrd >= 2.0, only the xls format is supported. As a result, the openpyxl engine will be used if it is installed and the engine argument is not specified. Install openpyxl instead.\n",
      "  return func(*(_execute_task(a, cache) for a in args))\n"
     ]
    },
    {
     "name": "stdout",
     "output_type": "stream",
     "text": [
      "[########################################] | 100% Completed |  0.3s\n",
      "[########################################] | 100% Completed |  0.4s\n",
      "[########################################] | 100% Completed |  0.5s\n",
      "[########################################] | 100% Completed |  0.5s\n"
     ]
    }
   ],
   "source": [
    "codes = dask.delayed(pd.read_excel)('/data/common/trade_data/manifestDB - CMDT Codes directory.xlsx')\n",
    "\n",
    "commodities_master = dd.from_delayed(codes)\n",
    "commodities_master = commodities_master.rename(columns=lambda x: x.strip())"
   ]
  },
  {
   "cell_type": "code",
   "execution_count": 105,
   "id": "adequate-violence",
   "metadata": {},
   "outputs": [
    {
     "name": "stdout",
     "output_type": "stream",
     "text": [
      "[                                        ] | 0% Completed |  0.2s"
     ]
    },
    {
     "name": "stderr",
     "output_type": "stream",
     "text": [
      "/usr/local/lib/python3.8/dist-packages/dask/core.py:121: FutureWarning: Your version of xlrd is 1.2.0. In xlrd >= 2.0, only the xls format is supported. As a result, the openpyxl engine will be used if it is installed and the engine argument is not specified. Install openpyxl instead.\n",
      "  return func(*(_execute_task(a, cache) for a in args))\n"
     ]
    },
    {
     "name": "stdout",
     "output_type": "stream",
     "text": [
      "[########################################] | 100% Completed |  0.3s\n",
      "[########################################] | 100% Completed |  0.4s\n",
      "[########################################] | 100% Completed |  0.4s\n",
      "[########################################] | 100% Completed |  0.5s\n"
     ]
    },
    {
     "data": {
      "text/html": [
       "<div>\n",
       "<style scoped>\n",
       "    .dataframe tbody tr th:only-of-type {\n",
       "        vertical-align: middle;\n",
       "    }\n",
       "\n",
       "    .dataframe tbody tr th {\n",
       "        vertical-align: top;\n",
       "    }\n",
       "\n",
       "    .dataframe thead th {\n",
       "        text-align: right;\n",
       "    }\n",
       "</style>\n",
       "<table border=\"1\" class=\"dataframe\">\n",
       "  <thead>\n",
       "    <tr style=\"text-align: right;\">\n",
       "      <th></th>\n",
       "      <th>REP CMDT</th>\n",
       "      <th>CMDT Code</th>\n",
       "      <th>CMDT - Commodity</th>\n",
       "    </tr>\n",
       "  </thead>\n",
       "  <tbody>\n",
       "    <tr>\n",
       "      <th>0</th>\n",
       "      <td>0</td>\n",
       "      <td>0</td>\n",
       "      <td>FAK OR CARGO, NOS</td>\n",
       "    </tr>\n",
       "    <tr>\n",
       "      <th>1</th>\n",
       "      <td>0</td>\n",
       "      <td>1</td>\n",
       "      <td>REFRIGERATED AND TEMPERATURE CONTROLLED CARGO,...</td>\n",
       "    </tr>\n",
       "    <tr>\n",
       "      <th>2</th>\n",
       "      <td>0</td>\n",
       "      <td>2</td>\n",
       "      <td>FREIGHT ALL KINDS, FAK</td>\n",
       "    </tr>\n",
       "    <tr>\n",
       "      <th>3</th>\n",
       "      <td>0</td>\n",
       "      <td>3</td>\n",
       "      <td>CARGO IN REFRIGERATION, NOS</td>\n",
       "    </tr>\n",
       "    <tr>\n",
       "      <th>4</th>\n",
       "      <td>0</td>\n",
       "      <td>4</td>\n",
       "      <td>CONSOLIDATED OR MIXED LOADS OF COMMODITIES,NOS...</td>\n",
       "    </tr>\n",
       "    <tr>\n",
       "      <th>5</th>\n",
       "      <td>0</td>\n",
       "      <td>5</td>\n",
       "      <td>STRAIGHT OR MIXED COMMODITIES NOS (BUT EXCLUDI...</td>\n",
       "    </tr>\n",
       "    <tr>\n",
       "      <th>6</th>\n",
       "      <td>0</td>\n",
       "      <td>7</td>\n",
       "      <td>FREIGHT ALL KINDS(SINGLE COMMODITY LOAD, STRAI...</td>\n",
       "    </tr>\n",
       "    <tr>\n",
       "      <th>7</th>\n",
       "      <td>0</td>\n",
       "      <td>8</td>\n",
       "      <td>FREIGHT ALL KINDS(EXCLUDING GARMENTS, NOS)</td>\n",
       "    </tr>\n",
       "    <tr>\n",
       "      <th>8</th>\n",
       "      <td>0</td>\n",
       "      <td>9</td>\n",
       "      <td>STRAIGHT OR MIXED LOADS OF COMMODITIES NOS INC...</td>\n",
       "    </tr>\n",
       "    <tr>\n",
       "      <th>9</th>\n",
       "      <td>0</td>\n",
       "      <td>12</td>\n",
       "      <td>GDSM EXCLUDING TEXILE, NON-HAZARDOUS, IN MIXED...</td>\n",
       "    </tr>\n",
       "  </tbody>\n",
       "</table>\n",
       "</div>"
      ],
      "text/plain": [
       "   REP CMDT  CMDT Code                                   CMDT - Commodity\n",
       "0         0          0                                  FAK OR CARGO, NOS\n",
       "1         0          1  REFRIGERATED AND TEMPERATURE CONTROLLED CARGO,...\n",
       "2         0          2                             FREIGHT ALL KINDS, FAK\n",
       "3         0          3                        CARGO IN REFRIGERATION, NOS\n",
       "4         0          4  CONSOLIDATED OR MIXED LOADS OF COMMODITIES,NOS...\n",
       "5         0          5  STRAIGHT OR MIXED COMMODITIES NOS (BUT EXCLUDI...\n",
       "6         0          7  FREIGHT ALL KINDS(SINGLE COMMODITY LOAD, STRAI...\n",
       "7         0          8         FREIGHT ALL KINDS(EXCLUDING GARMENTS, NOS)\n",
       "8         0          9  STRAIGHT OR MIXED LOADS OF COMMODITIES NOS INC...\n",
       "9         0         12  GDSM EXCLUDING TEXILE, NON-HAZARDOUS, IN MIXED..."
      ]
     },
     "execution_count": 105,
     "metadata": {},
     "output_type": "execute_result"
    }
   ],
   "source": [
    "commodities_master.head(10)"
   ]
  },
  {
   "cell_type": "code",
   "execution_count": 74,
   "id": "basic-petite",
   "metadata": {},
   "outputs": [
    {
     "name": "stdout",
     "output_type": "stream",
     "text": [
      "[                                        ] | 0% Completed |  0.2s"
     ]
    },
    {
     "name": "stderr",
     "output_type": "stream",
     "text": [
      "/usr/local/lib/python3.8/dist-packages/dask/core.py:121: FutureWarning: Your version of xlrd is 1.2.0. In xlrd >= 2.0, only the xls format is supported. As a result, the openpyxl engine will be used if it is installed and the engine argument is not specified. Install openpyxl instead.\n",
      "  return func(*(_execute_task(a, cache) for a in args))\n"
     ]
    },
    {
     "name": "stdout",
     "output_type": "stream",
     "text": [
      "[########################################] | 100% Completed |  0.3s\n",
      "[########################################] | 100% Completed |  0.4s\n",
      "[########################################] | 100% Completed |  0.4s\n",
      "[########################################] | 100% Completed |  0.5s\n"
     ]
    },
    {
     "data": {
      "text/plain": [
       "4441"
      ]
     },
     "execution_count": 74,
     "metadata": {},
     "output_type": "execute_result"
    }
   ],
   "source": [
    "# How many total CMDT Codes in the master file?\n",
    "commodities_master['CMDT Code'].nunique().compute()"
   ]
  },
  {
   "cell_type": "code",
   "execution_count": 75,
   "id": "cooked-bidding",
   "metadata": {},
   "outputs": [
    {
     "name": "stdout",
     "output_type": "stream",
     "text": [
      "[                                        ] | 0% Completed |  0.2s"
     ]
    },
    {
     "name": "stderr",
     "output_type": "stream",
     "text": [
      "/usr/local/lib/python3.8/dist-packages/dask/core.py:121: FutureWarning: Your version of xlrd is 1.2.0. In xlrd >= 2.0, only the xls format is supported. As a result, the openpyxl engine will be used if it is installed and the engine argument is not specified. Install openpyxl instead.\n",
      "  return func(*(_execute_task(a, cache) for a in args))\n"
     ]
    },
    {
     "name": "stdout",
     "output_type": "stream",
     "text": [
      "[########################################] | 100% Completed |  0.3s\n",
      "[########################################] | 100% Completed |  0.4s\n",
      "[########################################] | 100% Completed |  0.5s\n",
      "[########################################] | 100% Completed |  0.5s\n"
     ]
    },
    {
     "data": {
      "text/plain": [
       "126"
      ]
     },
     "execution_count": 75,
     "metadata": {},
     "output_type": "execute_result"
    }
   ],
   "source": [
    "# How many total REP CMDT Codes in the master file?\n",
    "commodities_master['REP CMDT'].nunique().compute()"
   ]
  },
  {
   "cell_type": "code",
   "execution_count": 87,
   "id": "varying-video",
   "metadata": {},
   "outputs": [
    {
     "name": "stdout",
     "output_type": "stream",
     "text": [
      "[########################################] | 100% Completed |  9.3s\n",
      "[########################################] | 100% Completed |  9.4s\n",
      "[########################################] | 100% Completed |  9.5s\n",
      "[########################################] | 100% Completed |  9.6s\n",
      "[                                        ] | 0% Completed |  0.1s"
     ]
    },
    {
     "name": "stderr",
     "output_type": "stream",
     "text": [
      "/usr/local/lib/python3.8/dist-packages/dask/core.py:121: FutureWarning: Your version of xlrd is 1.2.0. In xlrd >= 2.0, only the xls format is supported. As a result, the openpyxl engine will be used if it is installed and the engine argument is not specified. Install openpyxl instead.\n",
      "  return func(*(_execute_task(a, cache) for a in args))\n"
     ]
    },
    {
     "name": "stdout",
     "output_type": "stream",
     "text": [
      "[########################################] | 100% Completed |  0.2s\n",
      "[########################################] | 100% Completed |  0.3s\n",
      "[########################################] | 100% Completed |  0.4s\n",
      "[########################################] | 100% Completed |  0.4s\n",
      "[########################################] | 100% Completed |  9.3s\n",
      "[########################################] | 100% Completed |  9.4s\n",
      "[########################################] | 100% Completed |  9.5s\n",
      "[########################################] | 100% Completed |  9.6s\n",
      "[                                        ] | 0% Completed |  0.2s"
     ]
    },
    {
     "name": "stderr",
     "output_type": "stream",
     "text": [
      "/usr/local/lib/python3.8/dist-packages/dask/core.py:121: FutureWarning: Your version of xlrd is 1.2.0. In xlrd >= 2.0, only the xls format is supported. As a result, the openpyxl engine will be used if it is installed and the engine argument is not specified. Install openpyxl instead.\n",
      "  return func(*(_execute_task(a, cache) for a in args))\n"
     ]
    },
    {
     "name": "stdout",
     "output_type": "stream",
     "text": [
      "[########################################] | 100% Completed |  0.3s\n",
      "[########################################] | 100% Completed |  0.3s\n",
      "[########################################] | 100% Completed |  0.4s\n",
      "[########################################] | 100% Completed |  0.5s\n",
      "51.38 percent of the total CMDT Codes are present in the sample data.\n",
      "96.03 percent of the total RPT CMDT Codes are present in the sample data.\n"
     ]
    }
   ],
   "source": [
    "pct_cmdt = import_df_clean['CMDT Code'].nunique().compute()/commodities_master['CMDT Code'].nunique().compute()\n",
    "pct_rpt = import_df_clean['REP CMDT'].nunique().compute()/commodities_master['REP CMDT'].nunique().compute()\n",
    "\n",
    "print('%.2f percent of the total CMDT Codes are present in the sample data.' %(pct_cmdt*100))\n",
    "print('%.2f percent of the total RPT CMDT Codes are present in the sample data.' %(pct_rpt*100))"
   ]
  },
  {
   "cell_type": "markdown",
   "id": "intense-hampshire",
   "metadata": {},
   "source": []
  },
  {
   "cell_type": "code",
   "execution_count": 31,
   "id": "subjective-chinese",
   "metadata": {},
   "outputs": [
    {
     "data": {
      "text/html": [
       "<div>\n",
       "<style scoped>\n",
       "    .dataframe tbody tr th:only-of-type {\n",
       "        vertical-align: middle;\n",
       "    }\n",
       "\n",
       "    .dataframe tbody tr th {\n",
       "        vertical-align: top;\n",
       "    }\n",
       "\n",
       "    .dataframe thead th {\n",
       "        text-align: right;\n",
       "    }\n",
       "</style>\n",
       "<table border=\"1\" class=\"dataframe\">\n",
       "  <thead>\n",
       "    <tr style=\"text-align: right;\">\n",
       "      <th></th>\n",
       "      <th>CMDT Code</th>\n",
       "      <th>B/L_No_count</th>\n",
       "    </tr>\n",
       "  </thead>\n",
       "  <tbody>\n",
       "    <tr>\n",
       "      <th>0</th>\n",
       "      <td>980028.0</td>\n",
       "      <td>3</td>\n",
       "    </tr>\n",
       "    <tr>\n",
       "      <th>1</th>\n",
       "      <td>520008.0</td>\n",
       "      <td>3</td>\n",
       "    </tr>\n",
       "    <tr>\n",
       "      <th>2</th>\n",
       "      <td>530700.0</td>\n",
       "      <td>3</td>\n",
       "    </tr>\n",
       "    <tr>\n",
       "      <th>3</th>\n",
       "      <td>531001.0</td>\n",
       "      <td>3</td>\n",
       "    </tr>\n",
       "    <tr>\n",
       "      <th>4</th>\n",
       "      <td>550002.0</td>\n",
       "      <td>3</td>\n",
       "    </tr>\n",
       "    <tr>\n",
       "      <th>...</th>\n",
       "      <td>...</td>\n",
       "      <td>...</td>\n",
       "    </tr>\n",
       "    <tr>\n",
       "      <th>2277</th>\n",
       "      <td>540009.0</td>\n",
       "      <td>97433</td>\n",
       "    </tr>\n",
       "    <tr>\n",
       "      <th>2278</th>\n",
       "      <td>4.0</td>\n",
       "      <td>98146</td>\n",
       "    </tr>\n",
       "    <tr>\n",
       "      <th>2279</th>\n",
       "      <td>853934.0</td>\n",
       "      <td>169778</td>\n",
       "    </tr>\n",
       "    <tr>\n",
       "      <th>2280</th>\n",
       "      <td>25.0</td>\n",
       "      <td>183598</td>\n",
       "    </tr>\n",
       "    <tr>\n",
       "      <th>2281</th>\n",
       "      <td>990003.0</td>\n",
       "      <td>483216</td>\n",
       "    </tr>\n",
       "  </tbody>\n",
       "</table>\n",
       "<p>2282 rows × 2 columns</p>\n",
       "</div>"
      ],
      "text/plain": [
       "      CMDT Code  B/L_No_count\n",
       "0      980028.0             3\n",
       "1      520008.0             3\n",
       "2      530700.0             3\n",
       "3      531001.0             3\n",
       "4      550002.0             3\n",
       "...         ...           ...\n",
       "2277   540009.0         97433\n",
       "2278        4.0         98146\n",
       "2279   853934.0        169778\n",
       "2280       25.0        183598\n",
       "2281   990003.0        483216\n",
       "\n",
       "[2282 rows x 2 columns]"
      ]
     },
     "execution_count": 31,
     "metadata": {},
     "output_type": "execute_result"
    }
   ],
   "source": [
    "df4 = pd.DataFrame({'CMDT Code':s4.index, 'B/L_No_count':s4.values}).sort_values(\"B/L_No_count\").reset_index(drop=True)\n",
    "df4"
   ]
  },
  {
   "cell_type": "code",
   "execution_count": 32,
   "id": "breathing-warning",
   "metadata": {},
   "outputs": [
    {
     "data": {
      "text/html": [
       "<div>\n",
       "<style scoped>\n",
       "    .dataframe tbody tr th:only-of-type {\n",
       "        vertical-align: middle;\n",
       "    }\n",
       "\n",
       "    .dataframe tbody tr th {\n",
       "        vertical-align: top;\n",
       "    }\n",
       "\n",
       "    .dataframe thead th {\n",
       "        text-align: right;\n",
       "    }\n",
       "</style>\n",
       "<table border=\"1\" class=\"dataframe\">\n",
       "  <thead>\n",
       "    <tr style=\"text-align: right;\">\n",
       "      <th></th>\n",
       "      <th>CMDT Code</th>\n",
       "      <th>B/L_No_count</th>\n",
       "    </tr>\n",
       "  </thead>\n",
       "  <tbody>\n",
       "    <tr>\n",
       "      <th>2262</th>\n",
       "      <td>847100.0</td>\n",
       "      <td>28973</td>\n",
       "    </tr>\n",
       "    <tr>\n",
       "      <th>2263</th>\n",
       "      <td>210011.0</td>\n",
       "      <td>29636</td>\n",
       "    </tr>\n",
       "    <tr>\n",
       "      <th>2264</th>\n",
       "      <td>990006.0</td>\n",
       "      <td>30655</td>\n",
       "    </tr>\n",
       "    <tr>\n",
       "      <th>2265</th>\n",
       "      <td>847124.0</td>\n",
       "      <td>33245</td>\n",
       "    </tr>\n",
       "    <tr>\n",
       "      <th>2266</th>\n",
       "      <td>9.0</td>\n",
       "      <td>37725</td>\n",
       "    </tr>\n",
       "    <tr>\n",
       "      <th>2267</th>\n",
       "      <td>940435.0</td>\n",
       "      <td>40254</td>\n",
       "    </tr>\n",
       "    <tr>\n",
       "      <th>2268</th>\n",
       "      <td>990008.0</td>\n",
       "      <td>44381</td>\n",
       "    </tr>\n",
       "    <tr>\n",
       "      <th>2269</th>\n",
       "      <td>640001.0</td>\n",
       "      <td>48070</td>\n",
       "    </tr>\n",
       "    <tr>\n",
       "      <th>2270</th>\n",
       "      <td>940010.0</td>\n",
       "      <td>49781</td>\n",
       "    </tr>\n",
       "    <tr>\n",
       "      <th>2271</th>\n",
       "      <td>26.0</td>\n",
       "      <td>51403</td>\n",
       "    </tr>\n",
       "    <tr>\n",
       "      <th>2272</th>\n",
       "      <td>854101.0</td>\n",
       "      <td>53638</td>\n",
       "    </tr>\n",
       "    <tr>\n",
       "      <th>2273</th>\n",
       "      <td>990005.0</td>\n",
       "      <td>64502</td>\n",
       "    </tr>\n",
       "    <tr>\n",
       "      <th>2274</th>\n",
       "      <td>870006.0</td>\n",
       "      <td>75968</td>\n",
       "    </tr>\n",
       "    <tr>\n",
       "      <th>2275</th>\n",
       "      <td>990007.0</td>\n",
       "      <td>78070</td>\n",
       "    </tr>\n",
       "    <tr>\n",
       "      <th>2276</th>\n",
       "      <td>940012.0</td>\n",
       "      <td>83483</td>\n",
       "    </tr>\n",
       "    <tr>\n",
       "      <th>2277</th>\n",
       "      <td>540009.0</td>\n",
       "      <td>97433</td>\n",
       "    </tr>\n",
       "    <tr>\n",
       "      <th>2278</th>\n",
       "      <td>4.0</td>\n",
       "      <td>98146</td>\n",
       "    </tr>\n",
       "    <tr>\n",
       "      <th>2279</th>\n",
       "      <td>853934.0</td>\n",
       "      <td>169778</td>\n",
       "    </tr>\n",
       "    <tr>\n",
       "      <th>2280</th>\n",
       "      <td>25.0</td>\n",
       "      <td>183598</td>\n",
       "    </tr>\n",
       "    <tr>\n",
       "      <th>2281</th>\n",
       "      <td>990003.0</td>\n",
       "      <td>483216</td>\n",
       "    </tr>\n",
       "  </tbody>\n",
       "</table>\n",
       "</div>"
      ],
      "text/plain": [
       "      CMDT Code  B/L_No_count\n",
       "2262   847100.0         28973\n",
       "2263   210011.0         29636\n",
       "2264   990006.0         30655\n",
       "2265   847124.0         33245\n",
       "2266        9.0         37725\n",
       "2267   940435.0         40254\n",
       "2268   990008.0         44381\n",
       "2269   640001.0         48070\n",
       "2270   940010.0         49781\n",
       "2271       26.0         51403\n",
       "2272   854101.0         53638\n",
       "2273   990005.0         64502\n",
       "2274   870006.0         75968\n",
       "2275   990007.0         78070\n",
       "2276   940012.0         83483\n",
       "2277   540009.0         97433\n",
       "2278        4.0         98146\n",
       "2279   853934.0        169778\n",
       "2280       25.0        183598\n",
       "2281   990003.0        483216"
      ]
     },
     "execution_count": 32,
     "metadata": {},
     "output_type": "execute_result"
    }
   ],
   "source": [
    "df4.tail(20)"
   ]
  },
  {
   "cell_type": "code",
   "execution_count": 33,
   "id": "mighty-appointment",
   "metadata": {},
   "outputs": [
    {
     "data": {
      "text/plain": [
       "dtype('int64')"
      ]
     },
     "execution_count": 33,
     "metadata": {},
     "output_type": "execute_result"
    }
   ],
   "source": [
    "df4['B/L_No_count'].dtype"
   ]
  },
  {
   "cell_type": "code",
   "execution_count": 34,
   "id": "czech-extraction",
   "metadata": {},
   "outputs": [
    {
     "data": {
      "text/plain": [
       "Text(0, 0.5, 'Shipment Count')"
      ]
     },
     "execution_count": 34,
     "metadata": {},
     "output_type": "execute_result"
    },
    {
     "data": {
      "image/png": "[encoded data removed]",
      "text/plain": [
       "<Figure size 2304x576 with 1 Axes>"
      ]
     },
     "metadata": {},
     "output_type": "display_data"
    }
   ],
   "source": [
    "#plot the distribution of commodity code shipments\n",
    "sns.set_theme(style=\"whitegrid\")\n",
    "sns.set(rc={'figure.figsize':(32,8)})\n",
    "\n",
    "# function to group the bars and show similar heights in similar colors\n",
    "# def colors_from_values(values, palette_name):\n",
    "#     # normalize the values to range [0, 1]\n",
    "#     normalized = (values - min(values)) / (max(values) - min(values))\n",
    "#     # convert to indices\n",
    "#     indices = np.round(normalized * (len(values) - 1)).astype(np.int32)\n",
    "#     # use the indices to get the colors\n",
    "#     palette = sns.color_palette(palette_name, len(values))\n",
    "#     return np.array(palette).take(indices, axis=0)\n",
    "\n",
    "# ax = sns.barplot(data=df4, x=\"CMDT Code\", y=\"B/L_No_count\", palette=colors_from_values(\"B/L_No_count\", \"YlOrRd\"))\n",
    "ax = sns.barplot(data=df4, x=\"CMDT Code\", y=\"B/L_No_count\", palette=('Blues_d'), order=df4['CMDT Code'])\n",
    "ax.axes.set_title('Distribution of Shipments by Commodity Code', fontsize = 20)\n",
    "ax.set_xlabel('Commodity Code', fontsize = 15)\n",
    "ax.set_ylabel('Shipment Count', fontsize = 15)\n",
    "# for p in ax.patches:\n",
    "#     ax.annotate(format(p.get_height(), '.0f'), \n",
    "#                    (p.get_x() + p.get_width() / 2., p.get_height()), \n",
    "#                    ha = 'center', va = 'center', \n",
    "#                    xytext = (0, 9),\n",
    "#                    fontsize = 10,\n",
    "#                    textcoords = 'offset points')"
   ]
  },
  {
   "cell_type": "code",
   "execution_count": 35,
   "id": "delayed-envelope",
   "metadata": {},
   "outputs": [],
   "source": [
    "df4_top = df4.tail(50)"
   ]
  },
  {
   "cell_type": "code",
   "execution_count": 36,
   "id": "julian-journal",
   "metadata": {},
   "outputs": [
    {
     "data": {
      "text/plain": [
       "[Text(0, 0, '210050.0'),\n",
       " Text(0, 0, '701906.0'),\n",
       " Text(0, 0, '21.0'),\n",
       " Text(0, 0, '847102.0'),\n",
       " Text(0, 0, '990001.0'),\n",
       " Text(0, 0, '12.0'),\n",
       " Text(0, 0, '870024.0'),\n",
       " Text(0, 0, '940007.0'),\n",
       " Text(0, 0, '300504.0'),\n",
       " Text(0, 0, '700005.0'),\n",
       " Text(0, 0, '842823.0'),\n",
       " Text(0, 0, '630200.0'),\n",
       " Text(0, 0, '950000.0'),\n",
       " Text(0, 0, '871103.0'),\n",
       " Text(0, 0, '400011.0'),\n",
       " Text(0, 0, '831106.0'),\n",
       " Text(0, 0, '600002.0'),\n",
       " Text(0, 0, '830022.0'),\n",
       " Text(0, 0, '380600.0'),\n",
       " Text(0, 0, '950007.0'),\n",
       " Text(0, 0, '400026.0'),\n",
       " Text(0, 0, '290000.0'),\n",
       " Text(0, 0, '160001.0'),\n",
       " Text(0, 0, '831103.0'),\n",
       " Text(0, 0, '380036.0'),\n",
       " Text(0, 0, '390013.0'),\n",
       " Text(0, 0, '840021.0'),\n",
       " Text(0, 0, '360400.0'),\n",
       " Text(0, 0, '701306.0'),\n",
       " Text(0, 0, '820019.0'),\n",
       " Text(0, 0, '847100.0'),\n",
       " Text(0, 0, '210011.0'),\n",
       " Text(0, 0, '990006.0'),\n",
       " Text(0, 0, '847124.0'),\n",
       " Text(0, 0, '9.0'),\n",
       " Text(0, 0, '940435.0'),\n",
       " Text(0, 0, '990008.0'),\n",
       " Text(0, 0, '640001.0'),\n",
       " Text(0, 0, '940010.0'),\n",
       " Text(0, 0, '26.0'),\n",
       " Text(0, 0, '854101.0'),\n",
       " Text(0, 0, '990005.0'),\n",
       " Text(0, 0, '870006.0'),\n",
       " Text(0, 0, '990007.0'),\n",
       " Text(0, 0, '940012.0'),\n",
       " Text(0, 0, '540009.0'),\n",
       " Text(0, 0, '4.0'),\n",
       " Text(0, 0, '853934.0'),\n",
       " Text(0, 0, '25.0'),\n",
       " Text(0, 0, '990003.0')]"
      ]
     },
     "execution_count": 36,
     "metadata": {},
     "output_type": "execute_result"
    },
    {
     "data": {
      "image/png": "[encoded data removed]",
      "text/plain": [
       "<Figure size 2304x576 with 1 Axes>"
      ]
     },
     "metadata": {},
     "output_type": "display_data"
    }
   ],
   "source": [
    "#plot the distribution of top 50 commodity code shipments\n",
    "sns.set_theme(style=\"whitegrid\")\n",
    "sns.set(rc={'figure.figsize':(32,8)})\n",
    "\n",
    "\n",
    "# ax = sns.barplot(data=df4, x=\"CMDT Code\", y=\"B/L_No_count\", palette=colors_from_values(\"B/L_No_count\", \"YlOrRd\"))\n",
    "ax = sns.barplot(data=df4_top, x=\"CMDT Code\", y=\"B/L_No_count\", palette=('Blues_d'), order=df4_top['CMDT Code'])\n",
    "ax.axes.set_title('Distribution of Shipments by Top 50 Commodity Codes', fontsize = 20)\n",
    "ax.set_xlabel('Commodity Code', fontsize = 15)\n",
    "ax.set_ylabel('Shipment Count', fontsize = 15)\n",
    "ax.set_xticklabels(ax.get_xticklabels(), rotation=30)"
   ]
  },
  {
   "cell_type": "markdown",
   "id": "coordinate-duration",
   "metadata": {},
   "source": [
    "### What about the description field??"
   ]
  },
  {
   "cell_type": "code",
   "execution_count": 37,
   "id": "difficult-course",
   "metadata": {},
   "outputs": [
    {
     "name": "stdout",
     "output_type": "stream",
     "text": [
      "Requirement already satisfied: wordcloud in /usr/local/lib/python3.8/dist-packages (1.8.1)\n",
      "Requirement already satisfied: numpy>=1.6.1 in /usr/local/lib/python3.8/dist-packages (from wordcloud) (1.18.1)\n",
      "Requirement already satisfied: pillow in /usr/local/lib/python3.8/dist-packages (from wordcloud) (8.1.0)\n",
      "Requirement already satisfied: matplotlib in /usr/local/lib/python3.8/dist-packages (from wordcloud) (3.1.3)\n",
      "Requirement already satisfied: python-dateutil>=2.1 in /usr/local/lib/python3.8/dist-packages (from matplotlib->wordcloud) (2.8.1)\n",
      "Requirement already satisfied: pyparsing!=2.0.4,!=2.1.2,!=2.1.6,>=2.0.1 in /usr/local/lib/python3.8/dist-packages (from matplotlib->wordcloud) (2.4.7)\n",
      "Requirement already satisfied: cycler>=0.10 in /usr/local/lib/python3.8/dist-packages (from matplotlib->wordcloud) (0.10.0)\n",
      "Requirement already satisfied: kiwisolver>=1.0.1 in /usr/local/lib/python3.8/dist-packages (from matplotlib->wordcloud) (1.3.1)\n",
      "Requirement already satisfied: six in /usr/local/lib/python3.8/dist-packages (from cycler>=0.10->matplotlib->wordcloud) (1.15.0)\n",
      "\u001b[33mWARNING: You are using pip version 21.0; however, version 21.0.1 is available.\n",
      "You should consider upgrading via the '/usr/bin/python3 -m pip install --upgrade pip' command.\u001b[0m\n"
     ]
    }
   ],
   "source": [
    "! pip install wordcloud"
   ]
  },
  {
   "cell_type": "code",
   "execution_count": 40,
   "id": "organizational-homeless",
   "metadata": {},
   "outputs": [
    {
     "name": "stdout",
     "output_type": "stream",
     "text": [
      "[########################################] | 100% Completed |  9.1s\n"
     ]
    },
    {
     "data": {
      "text/plain": [
       "2875681"
      ]
     },
     "execution_count": 40,
     "metadata": {},
     "output_type": "execute_result"
    }
   ],
   "source": [
    "len(import_df_clean)"
   ]
  },
  {
   "cell_type": "code",
   "execution_count": 43,
   "id": "manual-category",
   "metadata": {},
   "outputs": [],
   "source": [
    "import_df_clean2 = import_df_clean.dropna(subset=['Customs Description'])"
   ]
  },
  {
   "cell_type": "code",
   "execution_count": 44,
   "id": "floral-pressing",
   "metadata": {},
   "outputs": [
    {
     "name": "stdout",
     "output_type": "stream",
     "text": [
      "[########################################] | 100% Completed | 10.7s\n"
     ]
    },
    {
     "data": {
      "text/plain": [
       "2874433"
      ]
     },
     "execution_count": 44,
     "metadata": {},
     "output_type": "execute_result"
    }
   ],
   "source": [
    "len(import_df_clean2)"
   ]
  },
  {
   "cell_type": "code",
   "execution_count": 48,
   "id": "warming-minneapolis",
   "metadata": {},
   "outputs": [
    {
     "name": "stdout",
     "output_type": "stream",
     "text": [
      "[########################################] | 100% Completed |  1.7s\n",
      "[########################################] | 100% Completed |  1.6s\n",
      "[########################################] | 100% Completed |  1.6s\n",
      "[########################################] | 100% Completed |  1.7s\n",
      "[########################################] | 100% Completed |  2.9s\n",
      "[########################################] | 100% Completed |  3.0s\n",
      "[########################################] | 100% Completed |  3.0s\n",
      "[########################################] | 100% Completed |  3.1s\n",
      "[########################################] | 100% Completed |  2.8s\n",
      "[########################################] | 100% Completed |  2.9s\n"
     ]
    },
    {
     "data": {
      "image/png": "[encoded data removed]",
      "text/plain": [
       "<Figure size 2304x576 with 1 Axes>"
      ]
     },
     "metadata": {},
     "output_type": "display_data"
    }
   ],
   "source": [
    "from wordcloud import WordCloud\n",
    "\n",
    "wordcloud = WordCloud().generate(' '.join(import_df_clean2['Customs Description']))\n",
    "\n",
    "plt.imshow(wordcloud, interpolation='bilinear')\n",
    "plt.axis(\"off\")\n",
    "plt.show()"
   ]
  },
  {
   "cell_type": "code",
   "execution_count": 89,
   "id": "thousand-ghost",
   "metadata": {},
   "outputs": [
    {
     "name": "stdout",
     "output_type": "stream",
     "text": [
      "[########################################] | 100% Completed |  9.4s\n",
      "[########################################] | 100% Completed |  9.5s\n",
      "[########################################] | 100% Completed |  9.6s\n",
      "[########################################] | 100% Completed |  9.7s\n"
     ]
    }
   ],
   "source": [
    "s5 = import_df_clean.groupby(['CMDT Code', 'CMDT'])[\"B/L No\"].count().compute() # Do not call compute always. It will kill the notebook"
   ]
  },
  {
   "cell_type": "code",
   "execution_count": 91,
   "id": "smart-meter",
   "metadata": {},
   "outputs": [
    {
     "data": {
      "text/plain": [
       "CMDT Code  CMDT                                                                              \n",
       "0.0        FAK OR CARGO, NOS                                                                      2714\n",
       "1.0        REFRIGERATED AND TEMPERATURE CONTROLLED CARGO, NOS                                      646\n",
       "2.0        FREIGHT ALL KINDS, FAK                                                                  693\n",
       "3.0        CARGO IN REFRIGERATION, NOS                                                             186\n",
       "4.0        CONSOLIDATED OR MIXED LOADS OF COMMODITIES,NOS EXCEPT SPECIAL EQ AND DG/HAZ GOODS.    98146\n",
       "                                                                                                 ...  \n",
       "960126.0   RICE BOX, NOS                                                                             3\n",
       "960305.0   TRAPS; NOS                                                                               24\n",
       "960600.0   PRESS FASTENING, VELCRO, NOS                                                              3\n",
       "970003.0   WALL DECORATION ARTICLES, NOS                                                             3\n",
       "980028.0   PROMOTIONAL ITEMS(WITH FOB VALUE PER PIECE UNDER USD5.00)                                 3\n",
       "Name: B/L No, Length: 2282, dtype: int64"
      ]
     },
     "execution_count": 91,
     "metadata": {},
     "output_type": "execute_result"
    }
   ],
   "source": [
    "s5"
   ]
  },
  {
   "cell_type": "code",
   "execution_count": 92,
   "id": "guilty-validation",
   "metadata": {},
   "outputs": [
    {
     "ename": "AttributeError",
     "evalue": "'MultiIndex' object has no attribute '_data'",
     "output_type": "error",
     "traceback": [
      "\u001b[0;31m---------------------------------------------------------------------------\u001b[0m",
      "\u001b[0;31mAttributeError\u001b[0m                            Traceback (most recent call last)",
      "\u001b[0;32m<ipython-input-92-dabb708a84f7>\u001b[0m in \u001b[0;36m<module>\u001b[0;34m\u001b[0m\n\u001b[0;32m----> 1\u001b[0;31m \u001b[0mdf5\u001b[0m \u001b[0;34m=\u001b[0m \u001b[0mpd\u001b[0m\u001b[0;34m.\u001b[0m\u001b[0mDataFrame\u001b[0m\u001b[0;34m(\u001b[0m\u001b[0;34m{\u001b[0m\u001b[0;34m'CMDT Code'\u001b[0m\u001b[0;34m:\u001b[0m\u001b[0ms5\u001b[0m\u001b[0;34m.\u001b[0m\u001b[0mindex\u001b[0m\u001b[0;34m,\u001b[0m \u001b[0;34m'CMDT'\u001b[0m\u001b[0;34m:\u001b[0m\u001b[0ms5\u001b[0m\u001b[0;34m.\u001b[0m\u001b[0mvalues\u001b[0m\u001b[0;34m,\u001b[0m \u001b[0;34m'B/L_No_count'\u001b[0m\u001b[0;34m:\u001b[0m\u001b[0ms5\u001b[0m\u001b[0;34m.\u001b[0m\u001b[0mvalues\u001b[0m\u001b[0;34m}\u001b[0m\u001b[0;34m)\u001b[0m\u001b[0;34m.\u001b[0m\u001b[0msort_values\u001b[0m\u001b[0;34m(\u001b[0m\u001b[0;34m\"B/L_No_count\"\u001b[0m\u001b[0;34m)\u001b[0m\u001b[0;34m.\u001b[0m\u001b[0mreset_index\u001b[0m\u001b[0;34m(\u001b[0m\u001b[0mdrop\u001b[0m\u001b[0;34m=\u001b[0m\u001b[0;32mTrue\u001b[0m\u001b[0;34m)\u001b[0m\u001b[0;34m\u001b[0m\u001b[0;34m\u001b[0m\u001b[0m\n\u001b[0m\u001b[1;32m      2\u001b[0m \u001b[0mdf5\u001b[0m\u001b[0;34m\u001b[0m\u001b[0;34m\u001b[0m\u001b[0m\n",
      "\u001b[0;32m/usr/local/lib/python3.8/dist-packages/pandas/core/frame.py\u001b[0m in \u001b[0;36m__init__\u001b[0;34m(self, data, index, columns, dtype, copy)\u001b[0m\n\u001b[1;32m    527\u001b[0m \u001b[0;34m\u001b[0m\u001b[0m\n\u001b[1;32m    528\u001b[0m         \u001b[0;32melif\u001b[0m \u001b[0misinstance\u001b[0m\u001b[0;34m(\u001b[0m\u001b[0mdata\u001b[0m\u001b[0;34m,\u001b[0m \u001b[0mdict\u001b[0m\u001b[0;34m)\u001b[0m\u001b[0;34m:\u001b[0m\u001b[0;34m\u001b[0m\u001b[0;34m\u001b[0m\u001b[0m\n\u001b[0;32m--> 529\u001b[0;31m             \u001b[0mmgr\u001b[0m \u001b[0;34m=\u001b[0m \u001b[0minit_dict\u001b[0m\u001b[0;34m(\u001b[0m\u001b[0mdata\u001b[0m\u001b[0;34m,\u001b[0m \u001b[0mindex\u001b[0m\u001b[0;34m,\u001b[0m \u001b[0mcolumns\u001b[0m\u001b[0;34m,\u001b[0m \u001b[0mdtype\u001b[0m\u001b[0;34m=\u001b[0m\u001b[0mdtype\u001b[0m\u001b[0;34m)\u001b[0m\u001b[0;34m\u001b[0m\u001b[0;34m\u001b[0m\u001b[0m\n\u001b[0m\u001b[1;32m    530\u001b[0m         \u001b[0;32melif\u001b[0m \u001b[0misinstance\u001b[0m\u001b[0;34m(\u001b[0m\u001b[0mdata\u001b[0m\u001b[0;34m,\u001b[0m \u001b[0mma\u001b[0m\u001b[0;34m.\u001b[0m\u001b[0mMaskedArray\u001b[0m\u001b[0;34m)\u001b[0m\u001b[0;34m:\u001b[0m\u001b[0;34m\u001b[0m\u001b[0;34m\u001b[0m\u001b[0m\n\u001b[1;32m    531\u001b[0m             \u001b[0;32mimport\u001b[0m \u001b[0mnumpy\u001b[0m\u001b[0;34m.\u001b[0m\u001b[0mma\u001b[0m\u001b[0;34m.\u001b[0m\u001b[0mmrecords\u001b[0m \u001b[0;32mas\u001b[0m \u001b[0mmrecords\u001b[0m\u001b[0;34m\u001b[0m\u001b[0;34m\u001b[0m\u001b[0m\n",
      "\u001b[0;32m/usr/local/lib/python3.8/dist-packages/pandas/core/internals/construction.py\u001b[0m in \u001b[0;36minit_dict\u001b[0;34m(data, index, columns, dtype)\u001b[0m\n\u001b[1;32m    279\u001b[0m         \u001b[0;31m# GH#24096 need copy to be deep for datetime64tz case\u001b[0m\u001b[0;34m\u001b[0m\u001b[0;34m\u001b[0m\u001b[0;34m\u001b[0m\u001b[0m\n\u001b[1;32m    280\u001b[0m         \u001b[0;31m# TODO: See if we can avoid these copies\u001b[0m\u001b[0;34m\u001b[0m\u001b[0;34m\u001b[0m\u001b[0;34m\u001b[0m\u001b[0m\n\u001b[0;32m--> 281\u001b[0;31m         arrays = [\n\u001b[0m\u001b[1;32m    282\u001b[0m             \u001b[0marr\u001b[0m \u001b[0;32mif\u001b[0m \u001b[0;32mnot\u001b[0m \u001b[0misinstance\u001b[0m\u001b[0;34m(\u001b[0m\u001b[0marr\u001b[0m\u001b[0;34m,\u001b[0m \u001b[0mABCIndexClass\u001b[0m\u001b[0;34m)\u001b[0m \u001b[0;32melse\u001b[0m \u001b[0marr\u001b[0m\u001b[0;34m.\u001b[0m\u001b[0m_data\u001b[0m \u001b[0;32mfor\u001b[0m \u001b[0marr\u001b[0m \u001b[0;32min\u001b[0m \u001b[0marrays\u001b[0m\u001b[0;34m\u001b[0m\u001b[0;34m\u001b[0m\u001b[0m\n\u001b[1;32m    283\u001b[0m         ]\n",
      "\u001b[0;32m/usr/local/lib/python3.8/dist-packages/pandas/core/internals/construction.py\u001b[0m in \u001b[0;36m<listcomp>\u001b[0;34m(.0)\u001b[0m\n\u001b[1;32m    280\u001b[0m         \u001b[0;31m# TODO: See if we can avoid these copies\u001b[0m\u001b[0;34m\u001b[0m\u001b[0;34m\u001b[0m\u001b[0;34m\u001b[0m\u001b[0m\n\u001b[1;32m    281\u001b[0m         arrays = [\n\u001b[0;32m--> 282\u001b[0;31m             \u001b[0marr\u001b[0m \u001b[0;32mif\u001b[0m \u001b[0;32mnot\u001b[0m \u001b[0misinstance\u001b[0m\u001b[0;34m(\u001b[0m\u001b[0marr\u001b[0m\u001b[0;34m,\u001b[0m \u001b[0mABCIndexClass\u001b[0m\u001b[0;34m)\u001b[0m \u001b[0;32melse\u001b[0m \u001b[0marr\u001b[0m\u001b[0;34m.\u001b[0m\u001b[0m_data\u001b[0m \u001b[0;32mfor\u001b[0m \u001b[0marr\u001b[0m \u001b[0;32min\u001b[0m \u001b[0marrays\u001b[0m\u001b[0;34m\u001b[0m\u001b[0;34m\u001b[0m\u001b[0m\n\u001b[0m\u001b[1;32m    283\u001b[0m         ]\n\u001b[1;32m    284\u001b[0m         arrays = [\n",
      "\u001b[0;31mAttributeError\u001b[0m: 'MultiIndex' object has no attribute '_data'"
     ]
    }
   ],
   "source": [
    "df5 = pd.DataFrame({'CMDT Code':s5.index, 'CMDT':s5.values, 'B/L_No_count':s5.values}).sort_values(\"B/L_No_count\").reset_index(drop=True)\n",
    "df5"
   ]
  },
  {
   "cell_type": "code",
   "execution_count": 101,
   "id": "hindu-routine",
   "metadata": {},
   "outputs": [
    {
     "data": {
      "text/html": [
       "<div>\n",
       "<style scoped>\n",
       "    .dataframe tbody tr th:only-of-type {\n",
       "        vertical-align: middle;\n",
       "    }\n",
       "\n",
       "    .dataframe tbody tr th {\n",
       "        vertical-align: top;\n",
       "    }\n",
       "\n",
       "    .dataframe thead th {\n",
       "        text-align: right;\n",
       "    }\n",
       "</style>\n",
       "<table border=\"1\" class=\"dataframe\">\n",
       "  <thead>\n",
       "    <tr style=\"text-align: right;\">\n",
       "      <th></th>\n",
       "      <th>CMDT Code</th>\n",
       "      <th>CMDT</th>\n",
       "      <th>B/L No</th>\n",
       "    </tr>\n",
       "  </thead>\n",
       "  <tbody>\n",
       "    <tr>\n",
       "      <th>0</th>\n",
       "      <td>980028.0</td>\n",
       "      <td>PROMOTIONAL ITEMS(WITH FOB VALUE PER PIECE UND...</td>\n",
       "      <td>3</td>\n",
       "    </tr>\n",
       "    <tr>\n",
       "      <th>1</th>\n",
       "      <td>520008.0</td>\n",
       "      <td>THREAD OR YARD OF COTTON, NOS</td>\n",
       "      <td>3</td>\n",
       "    </tr>\n",
       "    <tr>\n",
       "      <th>2</th>\n",
       "      <td>530700.0</td>\n",
       "      <td>JUTE YARN, NOS</td>\n",
       "      <td>3</td>\n",
       "    </tr>\n",
       "    <tr>\n",
       "      <th>3</th>\n",
       "      <td>531001.0</td>\n",
       "      <td>COTTON WASTE, CUTTING SCRAP, GREY CLOTH, WIPIN...</td>\n",
       "      <td>3</td>\n",
       "    </tr>\n",
       "    <tr>\n",
       "      <th>4</th>\n",
       "      <td>550002.0</td>\n",
       "      <td>POLYESTER FIBERS, POLYESTER FILAMENT YARN; NOS</td>\n",
       "      <td>3</td>\n",
       "    </tr>\n",
       "    <tr>\n",
       "      <th>...</th>\n",
       "      <td>...</td>\n",
       "      <td>...</td>\n",
       "      <td>...</td>\n",
       "    </tr>\n",
       "    <tr>\n",
       "      <th>2277</th>\n",
       "      <td>540009.0</td>\n",
       "      <td>GARMENTS, NOS;</td>\n",
       "      <td>97433</td>\n",
       "    </tr>\n",
       "    <tr>\n",
       "      <th>2278</th>\n",
       "      <td>4.0</td>\n",
       "      <td>CONSOLIDATED OR MIXED LOADS OF COMMODITIES,NOS...</td>\n",
       "      <td>98146</td>\n",
       "    </tr>\n",
       "    <tr>\n",
       "      <th>2279</th>\n",
       "      <td>853934.0</td>\n",
       "      <td>ELECTRONIC GOODS AND PARTS, NOS;</td>\n",
       "      <td>169778</td>\n",
       "    </tr>\n",
       "    <tr>\n",
       "      <th>2280</th>\n",
       "      <td>25.0</td>\n",
       "      <td>STRAIGHT LOADS OF COMMODITIES NOS EXCLUDING TE...</td>\n",
       "      <td>183598</td>\n",
       "    </tr>\n",
       "    <tr>\n",
       "      <th>2281</th>\n",
       "      <td>990003.0</td>\n",
       "      <td>GDSM, NOS;</td>\n",
       "      <td>483216</td>\n",
       "    </tr>\n",
       "  </tbody>\n",
       "</table>\n",
       "<p>2282 rows × 3 columns</p>\n",
       "</div>"
      ],
      "text/plain": [
       "      CMDT Code                                               CMDT  B/L No\n",
       "0      980028.0  PROMOTIONAL ITEMS(WITH FOB VALUE PER PIECE UND...       3\n",
       "1      520008.0                      THREAD OR YARD OF COTTON, NOS       3\n",
       "2      530700.0                                     JUTE YARN, NOS       3\n",
       "3      531001.0  COTTON WASTE, CUTTING SCRAP, GREY CLOTH, WIPIN...       3\n",
       "4      550002.0     POLYESTER FIBERS, POLYESTER FILAMENT YARN; NOS       3\n",
       "...         ...                                                ...     ...\n",
       "2277   540009.0                                     GARMENTS, NOS;   97433\n",
       "2278        4.0  CONSOLIDATED OR MIXED LOADS OF COMMODITIES,NOS...   98146\n",
       "2279   853934.0                   ELECTRONIC GOODS AND PARTS, NOS;  169778\n",
       "2280       25.0  STRAIGHT LOADS OF COMMODITIES NOS EXCLUDING TE...  183598\n",
       "2281   990003.0                                         GDSM, NOS;  483216\n",
       "\n",
       "[2282 rows x 3 columns]"
      ]
     },
     "execution_count": 101,
     "metadata": {},
     "output_type": "execute_result"
    }
   ],
   "source": [
    "df5 = pd.DataFrame(s5).sort_values('B/L No').reset_index(drop=False)\n",
    "df5"
   ]
  },
  {
   "cell_type": "code",
   "execution_count": 111,
   "id": "demographic-carnival",
   "metadata": {},
   "outputs": [
    {
     "name": "stdout",
     "output_type": "stream",
     "text": [
      "[                                        ] | 0% Completed |  0.0s"
     ]
    },
    {
     "name": "stderr",
     "output_type": "stream",
     "text": [
      "/usr/local/lib/python3.8/dist-packages/dask/core.py:121: FutureWarning: Your version of xlrd is 1.2.0. In xlrd >= 2.0, only the xls format is supported. As a result, the openpyxl engine will be used if it is installed and the engine argument is not specified. Install openpyxl instead.\n",
      "  return func(*(_execute_task(a, cache) for a in args))\n"
     ]
    },
    {
     "name": "stdout",
     "output_type": "stream",
     "text": [
      "[########################################] | 100% Completed |  0.7s\n",
      "[########################################] | 100% Completed |  0.7s\n",
      "[########################################] | 100% Completed |  0.8s\n",
      "[########################################] | 100% Completed |  0.8s\n"
     ]
    },
    {
     "data": {
      "text/html": [
       "<div>\n",
       "<style scoped>\n",
       "    .dataframe tbody tr th:only-of-type {\n",
       "        vertical-align: middle;\n",
       "    }\n",
       "\n",
       "    .dataframe tbody tr th {\n",
       "        vertical-align: top;\n",
       "    }\n",
       "\n",
       "    .dataframe thead th {\n",
       "        text-align: right;\n",
       "    }\n",
       "</style>\n",
       "<table border=\"1\" class=\"dataframe\">\n",
       "  <thead>\n",
       "    <tr style=\"text-align: right;\">\n",
       "      <th></th>\n",
       "      <th>REP CMDT</th>\n",
       "      <th>CMDT Code</th>\n",
       "      <th>CMDT - Commodity</th>\n",
       "    </tr>\n",
       "  </thead>\n",
       "  <tbody>\n",
       "    <tr>\n",
       "      <th>0</th>\n",
       "      <td>0</td>\n",
       "      <td>0</td>\n",
       "      <td>FAK OR CARGO, NOS</td>\n",
       "    </tr>\n",
       "    <tr>\n",
       "      <th>1</th>\n",
       "      <td>0</td>\n",
       "      <td>1</td>\n",
       "      <td>REFRIGERATED AND TEMPERATURE CONTROLLED CARGO,...</td>\n",
       "    </tr>\n",
       "    <tr>\n",
       "      <th>2</th>\n",
       "      <td>0</td>\n",
       "      <td>2</td>\n",
       "      <td>FREIGHT ALL KINDS, FAK</td>\n",
       "    </tr>\n",
       "    <tr>\n",
       "      <th>3</th>\n",
       "      <td>0</td>\n",
       "      <td>3</td>\n",
       "      <td>CARGO IN REFRIGERATION, NOS</td>\n",
       "    </tr>\n",
       "    <tr>\n",
       "      <th>4</th>\n",
       "      <td>0</td>\n",
       "      <td>4</td>\n",
       "      <td>CONSOLIDATED OR MIXED LOADS OF COMMODITIES,NOS...</td>\n",
       "    </tr>\n",
       "    <tr>\n",
       "      <th>5</th>\n",
       "      <td>0</td>\n",
       "      <td>5</td>\n",
       "      <td>STRAIGHT OR MIXED COMMODITIES NOS (BUT EXCLUDI...</td>\n",
       "    </tr>\n",
       "    <tr>\n",
       "      <th>6</th>\n",
       "      <td>0</td>\n",
       "      <td>7</td>\n",
       "      <td>FREIGHT ALL KINDS(SINGLE COMMODITY LOAD, STRAI...</td>\n",
       "    </tr>\n",
       "    <tr>\n",
       "      <th>7</th>\n",
       "      <td>0</td>\n",
       "      <td>8</td>\n",
       "      <td>FREIGHT ALL KINDS(EXCLUDING GARMENTS, NOS)</td>\n",
       "    </tr>\n",
       "    <tr>\n",
       "      <th>8</th>\n",
       "      <td>0</td>\n",
       "      <td>9</td>\n",
       "      <td>STRAIGHT OR MIXED LOADS OF COMMODITIES NOS INC...</td>\n",
       "    </tr>\n",
       "    <tr>\n",
       "      <th>9</th>\n",
       "      <td>0</td>\n",
       "      <td>12</td>\n",
       "      <td>GDSM EXCLUDING TEXILE, NON-HAZARDOUS, IN MIXED...</td>\n",
       "    </tr>\n",
       "  </tbody>\n",
       "</table>\n",
       "</div>"
      ],
      "text/plain": [
       "   REP CMDT  CMDT Code                                   CMDT - Commodity\n",
       "0         0          0                                  FAK OR CARGO, NOS\n",
       "1         0          1  REFRIGERATED AND TEMPERATURE CONTROLLED CARGO,...\n",
       "2         0          2                             FREIGHT ALL KINDS, FAK\n",
       "3         0          3                        CARGO IN REFRIGERATION, NOS\n",
       "4         0          4  CONSOLIDATED OR MIXED LOADS OF COMMODITIES,NOS...\n",
       "5         0          5  STRAIGHT OR MIXED COMMODITIES NOS (BUT EXCLUDI...\n",
       "6         0          7  FREIGHT ALL KINDS(SINGLE COMMODITY LOAD, STRAI...\n",
       "7         0          8         FREIGHT ALL KINDS(EXCLUDING GARMENTS, NOS)\n",
       "8         0          9  STRAIGHT OR MIXED LOADS OF COMMODITIES NOS INC...\n",
       "9         0         12  GDSM EXCLUDING TEXILE, NON-HAZARDOUS, IN MIXED..."
      ]
     },
     "execution_count": 111,
     "metadata": {},
     "output_type": "execute_result"
    }
   ],
   "source": [
    "commodities_master.head(10)"
   ]
  },
  {
   "cell_type": "code",
   "execution_count": 109,
   "id": "intermediate-redhead",
   "metadata": {},
   "outputs": [
    {
     "name": "stdout",
     "output_type": "stream",
     "text": [
      "[                                        ] | 0% Completed |  0.1s"
     ]
    },
    {
     "name": "stderr",
     "output_type": "stream",
     "text": [
      "/usr/local/lib/python3.8/dist-packages/dask/core.py:121: FutureWarning: Your version of xlrd is 1.2.0. In xlrd >= 2.0, only the xls format is supported. As a result, the openpyxl engine will be used if it is installed and the engine argument is not specified. Install openpyxl instead.\n",
      "  return func(*(_execute_task(a, cache) for a in args))\n"
     ]
    },
    {
     "name": "stdout",
     "output_type": "stream",
     "text": [
      "[########################################] | 100% Completed |  0.2s\n",
      "[########################################] | 100% Completed |  0.3s\n",
      "[########################################] | 100% Completed |  0.4s\n",
      "[########################################] | 100% Completed |  0.5s\n",
      "[                                        ] | 0% Completed |  0.1s"
     ]
    },
    {
     "name": "stderr",
     "output_type": "stream",
     "text": [
      "/usr/local/lib/python3.8/dist-packages/dask/core.py:121: FutureWarning: Your version of xlrd is 1.2.0. In xlrd >= 2.0, only the xls format is supported. As a result, the openpyxl engine will be used if it is installed and the engine argument is not specified. Install openpyxl instead.\n",
      "  return func(*(_execute_task(a, cache) for a in args))\n"
     ]
    },
    {
     "name": "stdout",
     "output_type": "stream",
     "text": [
      "[########################################] | 100% Completed |  0.2s\n",
      "[########################################] | 100% Completed |  0.3s\n",
      "[########################################] | 100% Completed |  0.3s\n",
      "[########################################] | 100% Completed |  0.4s\n"
     ]
    }
   ],
   "source": [
    "commodities_master_df = pd.DataFrame(commodities_master).reset_index(drop=False)\n"
   ]
  },
  {
   "cell_type": "code",
   "execution_count": 110,
   "id": "flexible-safety",
   "metadata": {},
   "outputs": [
    {
     "data": {
      "text/html": [
       "<div>\n",
       "<style scoped>\n",
       "    .dataframe tbody tr th:only-of-type {\n",
       "        vertical-align: middle;\n",
       "    }\n",
       "\n",
       "    .dataframe tbody tr th {\n",
       "        vertical-align: top;\n",
       "    }\n",
       "\n",
       "    .dataframe thead th {\n",
       "        text-align: right;\n",
       "    }\n",
       "</style>\n",
       "<table border=\"1\" class=\"dataframe\">\n",
       "  <thead>\n",
       "    <tr style=\"text-align: right;\">\n",
       "      <th></th>\n",
       "      <th>index</th>\n",
       "      <th>0</th>\n",
       "    </tr>\n",
       "  </thead>\n",
       "  <tbody>\n",
       "    <tr>\n",
       "      <th>0</th>\n",
       "      <td>0</td>\n",
       "      <td>REP CMDT</td>\n",
       "    </tr>\n",
       "    <tr>\n",
       "      <th>1</th>\n",
       "      <td>1</td>\n",
       "      <td>CMDT Code</td>\n",
       "    </tr>\n",
       "    <tr>\n",
       "      <th>2</th>\n",
       "      <td>2</td>\n",
       "      <td>CMDT - Commodity</td>\n",
       "    </tr>\n",
       "  </tbody>\n",
       "</table>\n",
       "</div>"
      ],
      "text/plain": [
       "   index                 0\n",
       "0      0          REP CMDT\n",
       "1      1         CMDT Code\n",
       "2      2  CMDT - Commodity"
      ]
     },
     "execution_count": 110,
     "metadata": {},
     "output_type": "execute_result"
    }
   ],
   "source": [
    "commodities_master_df.head()"
   ]
  },
  {
   "cell_type": "code",
   "execution_count": 96,
   "id": "creative-still",
   "metadata": {},
   "outputs": [
    {
     "name": "stderr",
     "output_type": "stream",
     "text": [
      "/usr/local/lib/python3.8/dist-packages/pandas/core/indexes/base.py:2618: RuntimeWarning: '<' not supported between instances of 'tuple' and 'int', sort order is undefined for incomparable objects\n",
      "  return Index.union(this, other, sort=sort).astype(object, copy=False)\n"
     ]
    }
   ],
   "source": [
    "# Join the shipping dataframe with the master file\n",
    "\n",
    "result = pd.concat([commodities_master_df,df5], axis = 1)"
   ]
  },
  {
   "cell_type": "code",
   "execution_count": 97,
   "id": "secondary-assistant",
   "metadata": {},
   "outputs": [
    {
     "data": {
      "text/html": [
       "<div>\n",
       "<style scoped>\n",
       "    .dataframe tbody tr th:only-of-type {\n",
       "        vertical-align: middle;\n",
       "    }\n",
       "\n",
       "    .dataframe tbody tr th {\n",
       "        vertical-align: top;\n",
       "    }\n",
       "\n",
       "    .dataframe thead th {\n",
       "        text-align: right;\n",
       "    }\n",
       "</style>\n",
       "<table border=\"1\" class=\"dataframe\">\n",
       "  <thead>\n",
       "    <tr style=\"text-align: right;\">\n",
       "      <th></th>\n",
       "      <th>0</th>\n",
       "      <th>B/L No</th>\n",
       "    </tr>\n",
       "  </thead>\n",
       "  <tbody>\n",
       "    <tr>\n",
       "      <th>0</th>\n",
       "      <td>REP CMDT</td>\n",
       "      <td>NaN</td>\n",
       "    </tr>\n",
       "    <tr>\n",
       "      <th>1</th>\n",
       "      <td>CMDT Code</td>\n",
       "      <td>NaN</td>\n",
       "    </tr>\n",
       "    <tr>\n",
       "      <th>2</th>\n",
       "      <td>CMDT - Commodity</td>\n",
       "      <td>NaN</td>\n",
       "    </tr>\n",
       "    <tr>\n",
       "      <th>(980028.0, PROMOTIONAL ITEMS(WITH FOB VALUE PER PIECE UNDER USD5.00))</th>\n",
       "      <td>NaN</td>\n",
       "      <td>3.0</td>\n",
       "    </tr>\n",
       "    <tr>\n",
       "      <th>(520008.0, THREAD OR YARD OF COTTON, NOS)</th>\n",
       "      <td>NaN</td>\n",
       "      <td>3.0</td>\n",
       "    </tr>\n",
       "    <tr>\n",
       "      <th>...</th>\n",
       "      <td>...</td>\n",
       "      <td>...</td>\n",
       "    </tr>\n",
       "    <tr>\n",
       "      <th>(540009.0, GARMENTS, NOS;)</th>\n",
       "      <td>NaN</td>\n",
       "      <td>97433.0</td>\n",
       "    </tr>\n",
       "    <tr>\n",
       "      <th>(4.0, CONSOLIDATED OR MIXED LOADS OF COMMODITIES,NOS EXCEPT SPECIAL EQ AND DG/HAZ GOODS.)</th>\n",
       "      <td>NaN</td>\n",
       "      <td>98146.0</td>\n",
       "    </tr>\n",
       "    <tr>\n",
       "      <th>(853934.0, ELECTRONIC GOODS AND PARTS, NOS;)</th>\n",
       "      <td>NaN</td>\n",
       "      <td>169778.0</td>\n",
       "    </tr>\n",
       "    <tr>\n",
       "      <th>(25.0, STRAIGHT LOADS OF COMMODITIES NOS EXCLUDING TEXTILES AND GARMENTS)</th>\n",
       "      <td>NaN</td>\n",
       "      <td>183598.0</td>\n",
       "    </tr>\n",
       "    <tr>\n",
       "      <th>(990003.0, GDSM, NOS;)</th>\n",
       "      <td>NaN</td>\n",
       "      <td>483216.0</td>\n",
       "    </tr>\n",
       "  </tbody>\n",
       "</table>\n",
       "<p>2285 rows × 2 columns</p>\n",
       "</div>"
      ],
      "text/plain": [
       "                                                                   0    B/L No\n",
       "0                                                           REP CMDT       NaN\n",
       "1                                                          CMDT Code       NaN\n",
       "2                                                   CMDT - Commodity       NaN\n",
       "(980028.0, PROMOTIONAL ITEMS(WITH FOB VALUE PER...               NaN       3.0\n",
       "(520008.0, THREAD OR YARD OF COTTON, NOS)                        NaN       3.0\n",
       "...                                                              ...       ...\n",
       "(540009.0, GARMENTS, NOS;)                                       NaN   97433.0\n",
       "(4.0, CONSOLIDATED OR MIXED LOADS OF COMMODITIE...               NaN   98146.0\n",
       "(853934.0, ELECTRONIC GOODS AND PARTS, NOS;)                     NaN  169778.0\n",
       "(25.0, STRAIGHT LOADS OF COMMODITIES NOS EXCLUD...               NaN  183598.0\n",
       "(990003.0, GDSM, NOS;)                                           NaN  483216.0\n",
       "\n",
       "[2285 rows x 2 columns]"
      ]
     },
     "execution_count": 97,
     "metadata": {},
     "output_type": "execute_result"
    }
   ],
   "source": [
    "result"
   ]
  },
  {
   "cell_type": "code",
   "execution_count": null,
   "id": "assisted-publisher",
   "metadata": {},
   "outputs": [],
   "source": []
  }
 ],
 "metadata": {
  "kernelspec": {
   "display_name": "Python 3",
   "language": "python",
   "name": "python3"
  },
  "language_info": {
   "codemirror_mode": {
    "name": "ipython",
    "version": 3
   },
   "file_extension": ".py",
   "mimetype": "text/x-python",
   "name": "python",
   "nbconvert_exporter": "python",
   "pygments_lexer": "ipython3",
   "version": "3.8.5"
  }
 },
 "nbformat": 4,
 "nbformat_minor": 5
}
