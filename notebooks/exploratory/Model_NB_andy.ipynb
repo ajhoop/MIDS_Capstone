{
 "cells": [
  {
   "cell_type": "code",
   "execution_count": 1,
   "id": "silver-multimedia",
   "metadata": {},
   "outputs": [
    {
     "name": "stdout",
     "output_type": "stream",
     "text": [
      "Requirement already satisfied: graphviz in /usr/local/lib/python3.8/dist-packages (0.16)\n",
      "Requirement already satisfied: transformers in /usr/local/lib/python3.8/dist-packages (4.3.2)\n",
      "Requirement already satisfied: sacremoses in /usr/local/lib/python3.8/dist-packages (from transformers) (0.0.43)\n",
      "Requirement already satisfied: requests in /usr/local/lib/python3.8/dist-packages (from transformers) (2.25.1)\n",
      "Requirement already satisfied: regex!=2019.12.17 in /usr/local/lib/python3.8/dist-packages (from transformers) (2020.11.13)\n",
      "Requirement already satisfied: numpy>=1.17 in /usr/local/lib/python3.8/dist-packages (from transformers) (1.19.5)\n",
      "Requirement already satisfied: filelock in /usr/local/lib/python3.8/dist-packages (from transformers) (3.0.12)\n",
      "Requirement already satisfied: tokenizers<0.11,>=0.10.1 in /usr/local/lib/python3.8/dist-packages (from transformers) (0.10.1)\n",
      "Requirement already satisfied: packaging in /usr/local/lib/python3.8/dist-packages (from transformers) (20.9)\n",
      "Requirement already satisfied: tqdm>=4.27 in /usr/local/lib/python3.8/dist-packages (from transformers) (4.56.2)\n",
      "Requirement already satisfied: pyparsing>=2.0.2 in /usr/local/lib/python3.8/dist-packages (from packaging->transformers) (2.4.7)\n",
      "Requirement already satisfied: urllib3<1.27,>=1.21.1 in /usr/local/lib/python3.8/dist-packages (from requests->transformers) (1.26.3)\n",
      "Requirement already satisfied: certifi>=2017.4.17 in /usr/local/lib/python3.8/dist-packages (from requests->transformers) (2020.12.5)\n",
      "Requirement already satisfied: idna<3,>=2.5 in /usr/local/lib/python3.8/dist-packages (from requests->transformers) (2.10)\n",
      "Requirement already satisfied: chardet<5,>=3.0.2 in /usr/local/lib/python3.8/dist-packages (from requests->transformers) (4.0.0)\n",
      "Requirement already satisfied: joblib in /usr/local/lib/python3.8/dist-packages (from sacremoses->transformers) (1.0.1)\n",
      "Requirement already satisfied: click in /usr/local/lib/python3.8/dist-packages (from sacremoses->transformers) (7.1.2)\n",
      "Requirement already satisfied: six in /usr/local/lib/python3.8/dist-packages (from sacremoses->transformers) (1.15.0)\n",
      "Requirement already satisfied: bert in /usr/local/lib/python3.8/dist-packages (2.2.0)\n",
      "Requirement already satisfied: erlastic in /usr/local/lib/python3.8/dist-packages (from bert) (2.0.0)\n",
      "Requirement already satisfied: bert-tensorflow in /usr/local/lib/python3.8/dist-packages (1.0.4)\n",
      "Requirement already satisfied: six in /usr/local/lib/python3.8/dist-packages (from bert-tensorflow) (1.15.0)\n",
      "Requirement already satisfied: keras in /usr/local/lib/python3.8/dist-packages (2.4.3)\n",
      "Requirement already satisfied: scipy>=0.14 in /usr/local/lib/python3.8/dist-packages (from keras) (1.6.0)\n",
      "Requirement already satisfied: numpy>=1.9.1 in /usr/local/lib/python3.8/dist-packages (from keras) (1.19.5)\n",
      "Requirement already satisfied: pyyaml in /usr/local/lib/python3.8/dist-packages (from keras) (5.4.1)\n",
      "Requirement already satisfied: h5py in /usr/local/lib/python3.8/dist-packages (from keras) (2.10.0)\n",
      "Requirement already satisfied: six in /usr/local/lib/python3.8/dist-packages (from h5py->keras) (1.15.0)\n",
      "Requirement already satisfied: dask_ml in /usr/local/lib/python3.8/dist-packages (1.8.0)\n",
      "Requirement already satisfied: dask[array,dataframe]>=2.4.0 in /usr/local/lib/python3.8/dist-packages (from dask_ml) (2.17.2)\n",
      "Requirement already satisfied: scipy in /usr/local/lib/python3.8/dist-packages (from dask_ml) (1.6.0)\n",
      "Requirement already satisfied: dask-glm>=0.2.0 in /usr/local/lib/python3.8/dist-packages (from dask_ml) (0.2.0)\n",
      "Requirement already satisfied: distributed>=2.4.0 in /usr/local/lib/python3.8/dist-packages (from dask_ml) (2.30.1)\n",
      "Requirement already satisfied: packaging in /usr/local/lib/python3.8/dist-packages (from dask_ml) (20.9)\n",
      "Requirement already satisfied: scikit-learn>=0.23 in /usr/local/lib/python3.8/dist-packages (from dask_ml) (0.24.1)\n",
      "Requirement already satisfied: numpy>=1.17.3 in /usr/local/lib/python3.8/dist-packages (from dask_ml) (1.19.5)\n",
      "Requirement already satisfied: multipledispatch>=0.4.9 in /usr/local/lib/python3.8/dist-packages (from dask_ml) (0.6.0)\n",
      "Requirement already satisfied: numba in /usr/local/lib/python3.8/dist-packages (from dask_ml) (0.52.0)\n",
      "Requirement already satisfied: pandas>=0.24.2 in /usr/local/lib/python3.8/dist-packages (from dask_ml) (1.2.2)\n",
      "Requirement already satisfied: cloudpickle>=0.2.2 in /usr/local/lib/python3.8/dist-packages (from dask-glm>=0.2.0->dask_ml) (1.6.0)\n",
      "Requirement already satisfied: pyyaml in /usr/local/lib/python3.8/dist-packages (from dask[array,dataframe]>=2.4.0->dask_ml) (5.4.1)\n",
      "Requirement already satisfied: partd>=0.3.10 in /usr/local/lib/python3.8/dist-packages (from dask[array,dataframe]>=2.4.0->dask_ml) (1.1.0)\n",
      "Requirement already satisfied: fsspec>=0.6.0 in /usr/local/lib/python3.8/dist-packages (from dask[array,dataframe]>=2.4.0->dask_ml) (0.8.5)\n",
      "Requirement already satisfied: toolz>=0.8.2 in /usr/local/lib/python3.8/dist-packages (from dask[array,dataframe]>=2.4.0->dask_ml) (0.11.1)\n",
      "Requirement already satisfied: click>=6.6 in /usr/local/lib/python3.8/dist-packages (from distributed>=2.4.0->dask_ml) (7.1.2)\n",
      "Requirement already satisfied: msgpack>=0.6.0 in /usr/local/lib/python3.8/dist-packages (from distributed>=2.4.0->dask_ml) (1.0.2)\n",
      "Requirement already satisfied: sortedcontainers!=2.0.0,!=2.0.1 in /usr/local/lib/python3.8/dist-packages (from distributed>=2.4.0->dask_ml) (2.3.0)\n",
      "Requirement already satisfied: tornado>=6.0.3 in /usr/local/lib/python3.8/dist-packages (from distributed>=2.4.0->dask_ml) (6.1)\n",
      "Requirement already satisfied: setuptools in /usr/lib/python3/dist-packages (from distributed>=2.4.0->dask_ml) (45.2.0)\n",
      "Requirement already satisfied: tblib>=1.6.0 in /usr/local/lib/python3.8/dist-packages (from distributed>=2.4.0->dask_ml) (1.7.0)\n",
      "Requirement already satisfied: psutil>=5.0 in /usr/local/lib/python3.8/dist-packages (from distributed>=2.4.0->dask_ml) (5.8.0)\n",
      "Requirement already satisfied: zict>=0.1.3 in /usr/local/lib/python3.8/dist-packages (from distributed>=2.4.0->dask_ml) (2.0.0)\n",
      "Requirement already satisfied: six in /usr/local/lib/python3.8/dist-packages (from multipledispatch>=0.4.9->dask_ml) (1.15.0)\n",
      "Requirement already satisfied: python-dateutil>=2.7.3 in /usr/local/lib/python3.8/dist-packages (from pandas>=0.24.2->dask_ml) (2.8.1)\n",
      "Requirement already satisfied: pytz>=2017.3 in /usr/local/lib/python3.8/dist-packages (from pandas>=0.24.2->dask_ml) (2021.1)\n",
      "Requirement already satisfied: locket in /usr/local/lib/python3.8/dist-packages (from partd>=0.3.10->dask[array,dataframe]>=2.4.0->dask_ml) (0.2.1)\n",
      "Requirement already satisfied: joblib>=0.11 in /usr/local/lib/python3.8/dist-packages (from scikit-learn>=0.23->dask_ml) (1.0.1)\n",
      "Requirement already satisfied: threadpoolctl>=2.0.0 in /usr/local/lib/python3.8/dist-packages (from scikit-learn>=0.23->dask_ml) (2.1.0)\n",
      "Requirement already satisfied: heapdict in /usr/local/lib/python3.8/dist-packages (from zict>=0.1.3->distributed>=2.4.0->dask_ml) (1.0.1)\n",
      "Requirement already satisfied: llvmlite<0.36,>=0.35.0 in /usr/local/lib/python3.8/dist-packages (from numba->dask_ml) (0.35.0)\n",
      "Requirement already satisfied: pyparsing>=2.0.2 in /usr/local/lib/python3.8/dist-packages (from packaging->dask_ml) (2.4.7)\n"
     ]
    }
   ],
   "source": [
    "!pip install graphviz\n",
    "!pip install transformers\n",
    "!pip install bert\n",
    "!pip install bert-tensorflow\n",
    "!pip install keras\n",
    "!pip install dask_ml"
   ]
  },
  {
   "cell_type": "code",
   "execution_count": 45,
   "id": "formal-louis",
   "metadata": {},
   "outputs": [
    {
     "name": "stderr",
     "output_type": "stream",
     "text": [
      "[nltk_data] Downloading package stopwords to /root/nltk_data...\n",
      "[nltk_data]   Package stopwords is already up-to-date!\n",
      "[nltk_data] Downloading package punkt to /root/nltk_data...\n",
      "[nltk_data]   Unzipping tokenizers/punkt.zip.\n"
     ]
    }
   ],
   "source": [
    "# Import relevent packages\n",
    "import pandas as pd\n",
    "import numpy as np\n",
    "import pandas as pd\n",
    "import seaborn as sns\n",
    "import matplotlib\n",
    "import matplotlib.pyplot as plt\n",
    "import pickle\n",
    "\n",
    "# Import dask packages\n",
    "import dask.dataframe as ddf\n",
    "from math import nan\n",
    "import panel as pn\n",
    "import dask\n",
    "import dask.dataframe as dd\n",
    "from dask.delayed import delayed\n",
    "import seaborn as sns\n",
    "import matplotlib.pyplot as plt\n",
    "from dask_ml.model_selection import train_test_split\n",
    "import graphviz\n",
    "from datascroller import scroll\n",
    "\n",
    "from dask.diagnostics import ProgressBar\n",
    "ProgressBar().register()\n",
    "\n",
    "# text processing libraries\n",
    "import re\n",
    "import string\n",
    "import nltk\n",
    "nltk.download('stopwords')\n",
    "nltk.download('punkt')\n",
    "from nltk.corpus import stopwords\n",
    "\n",
    "import warnings\n",
    "warnings.filterwarnings('ignore')\n",
    "# from sklearn.model_selection import train_test_split\n",
    "\n",
    "import json\n",
    "import os\n",
    "import sys\n",
    "import tensorflow as tf\n",
    "\n",
    "import transformers as ppb\n",
    "from time import time\n",
    "import io\n",
    "import re\n",
    "from csv import reader\n",
    "\n",
    "import bert\n",
    "# from bert import run_classifier\n",
    "# from bert import optimization\n",
    "from bert import tokenization\n",
    "from transformers import RobertaTokenizer, TFRobertaModel\n",
    "\n",
    "from matplotlib import colors\n",
    "from matplotlib.ticker import PercentFormatter\n",
    "\n",
    "from tensorflow import keras\n",
    "#### if use tensorflow=2.0.0, then import tensorflow.keras.model_selection \n",
    "from tensorflow.keras import backend as K\n",
    "from tensorflow.keras import layers\n",
    "from tensorflow.keras.backend import sparse_categorical_crossentropy\n",
    "from tensorflow.keras.layers import Dense, Flatten\n",
    "from tensorflow.keras.callbacks import Callback, EarlyStopping, ModelCheckpoint\n",
    "from keras.models import load_model\n",
    "\n",
    "from sklearn.metrics import confusion_matrix, f1_score, precision_score, recall_score\n",
    "from sklearn.preprocessing import LabelEncoder\n",
    "from keras.utils import np_utils\n",
    "\n",
    "\n",
    "from datetime import datetime"
   ]
  },
  {
   "cell_type": "markdown",
   "id": "rapid-instruction",
   "metadata": {},
   "source": [
    "## Install BERT and BERT Tokenizer from the HuggingFace Transformers library."
   ]
  },
  {
   "cell_type": "markdown",
   "id": "after-animation",
   "metadata": {},
   "source": [
    "We can easily switch between variants of BERT by changing out which model we import from HuggingFace; the rest of the code just flows unchanged."
   ]
  },
  {
   "cell_type": "code",
   "execution_count": 3,
   "id": "extensive-irish",
   "metadata": {},
   "outputs": [
    {
     "name": "stderr",
     "output_type": "stream",
     "text": [
      "Some layers from the model checkpoint at bert-base-uncased were not used when initializing TFBertModel: ['mlm___cls', 'nsp___cls']\n",
      "- This IS expected if you are initializing TFBertModel from the checkpoint of a model trained on another task or with another architecture (e.g. initializing a BertForSequenceClassification model from a BertForPreTraining model).\n",
      "- This IS NOT expected if you are initializing TFBertModel from the checkpoint of a model that you expect to be exactly identical (initializing a BertForSequenceClassification model from a BertForSequenceClassification model).\n",
      "All the layers of TFBertModel were initialized from the model checkpoint at bert-base-uncased.\n",
      "If your task is similar to the task the model of the checkpoint was trained on, you can already use TFBertModel for predictions without further training.\n"
     ]
    }
   ],
   "source": [
    "# For DistilBERT:\n",
    "# model_class, tokenizer_class, pretrained_weights = (ppb.TFDistilBertModel, ppb.DistilBertTokenizer, 'distilbert-base-uncased')\n",
    "\n",
    "## Want BERT instead of distilBERT? Uncomment the following line:\n",
    "model_class, tokenizer_class, pretrained_weights = (ppb.TFBertModel, ppb.BertTokenizer, 'bert-base-uncased')\n",
    "\n",
    "## For BERT Large, use this:\n",
    "# model_class, tokenizer_class, pretrained_weights = (ppb.AutoModelWithLMHead, ppb.AutoTokenizer, 'bert-large-uncased')\n",
    "# from transformers import AutoTokenizer, AutoModelWithLMHead\n",
    "\n",
    "# For ROBERTa base model, use this:\n",
    "# model_class, tokenizer_class, pretrained_weights = (ppb.TFRobertaModel, ppb.RobertaTokenizer, 'roberta-base')\n",
    "\n",
    "# Load pretrained model/tokenizer\n",
    "tokenizer = tokenizer_class.from_pretrained(pretrained_weights)\n",
    "model = model_class.from_pretrained(pretrained_weights)"
   ]
  },
  {
   "cell_type": "markdown",
   "id": "chubby-apparel",
   "metadata": {},
   "source": [
    "## Let's do an initial import on the sample dataset Padma created for HS4 codes 8712 and 8714"
   ]
  },
  {
   "cell_type": "code",
   "execution_count": 4,
   "id": "present-execution",
   "metadata": {},
   "outputs": [
    {
     "name": "stdout",
     "output_type": "stream",
     "text": [
      " 2019\n",
      " HS\n",
      " enigma\n",
      " import_data_2017_enhanced.parq\n",
      " import_data_2018_enhanced.parq\n",
      " import_data_2019_enhanced.parq\n",
      " import_data_2020_enhanced.parq\n",
      " linux-bsd.gif\n",
      "'manifestDB - CMDT Codes directory.xlsx'\n",
      "'manifestDB - Data Fields Description.xlsx'\n",
      "'manifestDB - Main Coverage Ports Directory.xlsx'\n",
      "'manifestDB - Packing Unit Description.xlsx'\n",
      " raw_import_20152016.parq\n",
      " raw_import_2017.parq\n",
      " raw_import_2018.parq\n",
      " raw_import_2019.parq\n",
      " raw_import_2020.parq\n",
      " us_customs_aug2019.parq\n",
      " w210_raw_data.ipynb\n"
     ]
    }
   ],
   "source": [
    "!ls /data/common/trade_data"
   ]
  },
  {
   "cell_type": "code",
   "execution_count": 48,
   "id": "royal-specialist",
   "metadata": {},
   "outputs": [],
   "source": [
    "import_df = dd.read_parquet('/data/common/trade_data/2019/data_samples/sample_87128714.parq', engine='fastparquet', chunksize=\"100MB\")"
   ]
  },
  {
   "cell_type": "code",
   "execution_count": 49,
   "id": "electronic-display",
   "metadata": {},
   "outputs": [
    {
     "data": {
      "text/plain": [
       "Index(['System Identity Id', 'Estimate Arrival Date', 'Actual Arrival Date',\n",
       "       'Bill of Lading', 'Master Bill of Lading', 'Bill Type Code',\n",
       "       'Carrier SASC Code', 'Vessel Country Code', 'Vessel Code',\n",
       "       'Vessel Name', 'Voyage', 'Inbond Type', 'Manifest No',\n",
       "       'Mode of Transportation', 'Loading Port', 'Last Vist Foreign Port',\n",
       "       'US Clearing District', 'Unloading Port', 'Place of Receipt', 'Country',\n",
       "       'Country Sure Level', 'Weight in KG', 'Weight', 'Weight Unit', 'TEU',\n",
       "       'Quantity', 'Quantity Unit', 'Measure in CM', 'Measure', 'Measure Unit',\n",
       "       'Container Id', 'Container Size', 'Container Type',\n",
       "       'Container Desc Code', 'Container Load Status',\n",
       "       'Container Type of Service', 'Shipper Name', 'Shipper Address ',\n",
       "       'Raw Shipper Name', 'Raw Shipper Addr1', 'Raw Shipper Addr2',\n",
       "       'Raw Shipper Addr3', 'Raw Shipper Addr4', 'Raw Shipper Addr Others',\n",
       "       'Consignee Name', 'Consignee Address ', 'Raw Consignee Name',\n",
       "       'Raw Consignee Addr1', 'Raw Consignee Addr2', 'Raw Consignee Addr3',\n",
       "       'Raw Consignee Addr4', 'Raw Consignee Addr Others', 'Notify Party Name',\n",
       "       'Notify Party Address ', 'Raw Notify Party Name',\n",
       "       'Raw Notify Party Addr1', 'Raw Notify Party Addr2',\n",
       "       'Raw Notify Party Addr3', 'Raw Notify Party Addr4',\n",
       "       'Raw Notify Party Addr Others', 'Product Desc', 'Marks & Numbers',\n",
       "       'HS Code Sure Level', 'CIF', 'Indicator of true supplier',\n",
       "       'Indicator of true buyer', 'END', 'HS Code', 'HS_Code',\n",
       "       'Merged_Description'],\n",
       "      dtype='object')"
      ]
     },
     "execution_count": 49,
     "metadata": {},
     "output_type": "execute_result"
    }
   ],
   "source": [
    "import_df.columns"
   ]
  },
  {
   "cell_type": "code",
   "execution_count": 50,
   "id": "mathematical-seventh",
   "metadata": {},
   "outputs": [
    {
     "name": "stdout",
     "output_type": "stream",
     "text": [
      "[########################################] | 100% Completed |  0.1s\n",
      "[########################################] | 100% Completed |  0.2s\n",
      "[########################################] | 100% Completed |  0.3s\n",
      "[########################################] | 100% Completed |  0.4s\n"
     ]
    },
    {
     "data": {
      "text/html": [
       "<div>\n",
       "<style scoped>\n",
       "    .dataframe tbody tr th:only-of-type {\n",
       "        vertical-align: middle;\n",
       "    }\n",
       "\n",
       "    .dataframe tbody tr th {\n",
       "        vertical-align: top;\n",
       "    }\n",
       "\n",
       "    .dataframe thead th {\n",
       "        text-align: right;\n",
       "    }\n",
       "</style>\n",
       "<table border=\"1\" class=\"dataframe\">\n",
       "  <thead>\n",
       "    <tr style=\"text-align: right;\">\n",
       "      <th></th>\n",
       "      <th>System Identity Id</th>\n",
       "      <th>Estimate Arrival Date</th>\n",
       "      <th>Actual Arrival Date</th>\n",
       "      <th>Bill of Lading</th>\n",
       "      <th>Master Bill of Lading</th>\n",
       "      <th>Bill Type Code</th>\n",
       "      <th>Carrier SASC Code</th>\n",
       "      <th>Vessel Country Code</th>\n",
       "      <th>Vessel Code</th>\n",
       "      <th>Vessel Name</th>\n",
       "      <th>...</th>\n",
       "      <th>Product Desc</th>\n",
       "      <th>Marks &amp; Numbers</th>\n",
       "      <th>HS Code Sure Level</th>\n",
       "      <th>CIF</th>\n",
       "      <th>Indicator of true supplier</th>\n",
       "      <th>Indicator of true buyer</th>\n",
       "      <th>END</th>\n",
       "      <th>HS Code</th>\n",
       "      <th>HS_Code</th>\n",
       "      <th>Merged_Description</th>\n",
       "    </tr>\n",
       "  </thead>\n",
       "  <tbody>\n",
       "    <tr>\n",
       "      <th>0</th>\n",
       "      <td>6003201907090000254809</td>\n",
       "      <td>20190705</td>\n",
       "      <td>20190705</td>\n",
       "      <td>CHSLTPE19060165</td>\n",
       "      <td>EGLV003901609611</td>\n",
       "      <td>H</td>\n",
       "      <td>CHSL, CHISLEY MOTOR COACHES</td>\n",
       "      <td>PA</td>\n",
       "      <td>9306990</td>\n",
       "      <td>OOCL VANCOUVER</td>\n",
       "      <td>...</td>\n",
       "      <td>ELLIPTICAL TRAINER,TREADMILL, ESCALATE&lt;br/&gt;</td>\n",
       "      <td>NO MARKS&lt;br/&gt;</td>\n",
       "      <td>5</td>\n",
       "      <td>0.0</td>\n",
       "      <td>Y</td>\n",
       "      <td>Y</td>\n",
       "      <td>END</td>\n",
       "      <td>871200</td>\n",
       "      <td>871200</td>\n",
       "      <td>Bicycles and other cycles (including delivery tricycles), not motorized ;Bicycles having both wheels not exceeding 63.5 cm in diameter;Having both wheels not exceeding 50 cm in diameter;Having both wheels exceeding 50 cm but not exceeding 55 cm in diameter;Having both wheels exceeding 55 cm but not exceeding 63.5 cm in diameter;If weighing less than 16.3 kg complete without accessories and not designed for use with tires having a cross-sectional diameter exceeding 4.13 cm;Bicycles having both wheels exceeding 63.5 cm in diameter ;Other;Bicycles having a front wheel exceeding 55 cm but not exceeding 63.5 cm in diameter and a rear wheel exceeding 63.5 cm in diameter, weighing less than 16.3 kg complete without accessories and not designed for use with tires having a cross-sectional diameter exceeding 4.13 cm, valued $200 or more each;Other bicycles;Other cycles</td>\n",
       "    </tr>\n",
       "    <tr>\n",
       "      <th>1</th>\n",
       "      <td>6003201901040000381477</td>\n",
       "      <td>20181230</td>\n",
       "      <td>20190103</td>\n",
       "      <td>AMAWSHNGBA807064</td>\n",
       "      <td>APLUNPFB000624</td>\n",
       "      <td>H</td>\n",
       "      <td>AMAW</td>\n",
       "      <td>CN</td>\n",
       "      <td>APL BARCELONA</td>\n",
       "      <td>APL BARCELONA</td>\n",
       "      <td>...</td>\n",
       "      <td>SCH 830 TREADMILL&lt;br/&gt;</td>\n",
       "      <td>AS ADDRESSED&lt;br/&gt;</td>\n",
       "      <td>5</td>\n",
       "      <td>0.0</td>\n",
       "      <td>Y</td>\n",
       "      <td>Y</td>\n",
       "      <td>END</td>\n",
       "      <td>871200</td>\n",
       "      <td>871200</td>\n",
       "      <td>Bicycles and other cycles (including delivery tricycles), not motorized ;Bicycles having both wheels not exceeding 63.5 cm in diameter;Having both wheels not exceeding 50 cm in diameter;Having both wheels exceeding 50 cm but not exceeding 55 cm in diameter;Having both wheels exceeding 55 cm but not exceeding 63.5 cm in diameter;If weighing less than 16.3 kg complete without accessories and not designed for use with tires having a cross-sectional diameter exceeding 4.13 cm;Bicycles having both wheels exceeding 63.5 cm in diameter ;Other;Bicycles having a front wheel exceeding 55 cm but not exceeding 63.5 cm in diameter and a rear wheel exceeding 63.5 cm in diameter, weighing less than 16.3 kg complete without accessories and not designed for use with tires having a cross-sectional diameter exceeding 4.13 cm, valued $200 or more each;Other bicycles;Other cycles</td>\n",
       "    </tr>\n",
       "  </tbody>\n",
       "</table>\n",
       "<p>2 rows × 70 columns</p>\n",
       "</div>"
      ],
      "text/plain": [
       "       System Identity Id  Estimate Arrival Date  Actual Arrival Date  \\\n",
       "0  6003201907090000254809  20190705               20190705              \n",
       "1  6003201901040000381477  20181230               20190103              \n",
       "\n",
       "     Bill of Lading Master Bill of Lading Bill Type Code  \\\n",
       "0  CHSLTPE19060165   EGLV003901609611      H               \n",
       "1  AMAWSHNGBA807064  APLUNPFB000624        H               \n",
       "\n",
       "             Carrier SASC Code Vessel Country Code    Vessel Code  \\\n",
       "0  CHSL, CHISLEY MOTOR COACHES  PA                  9306990         \n",
       "1  AMAW                         CN                  APL BARCELONA   \n",
       "\n",
       "      Vessel Name  ...                                 Product Desc  \\\n",
       "0  OOCL VANCOUVER  ...  ELLIPTICAL TRAINER,TREADMILL, ESCALATE<br/>   \n",
       "1  APL BARCELONA   ...  SCH 830 TREADMILL<br/>                        \n",
       "\n",
       "     Marks & Numbers  HS Code Sure Level  CIF Indicator of true supplier  \\\n",
       "0  NO MARKS<br/>      5                   0.0  Y                           \n",
       "1  AS ADDRESSED<br/>  5                   0.0  Y                           \n",
       "\n",
       "  Indicator of true buyer  END HS Code HS_Code  \\\n",
       "0  Y                       END  871200  871200   \n",
       "1  Y                       END  871200  871200   \n",
       "\n",
       "                                                                                                                                                                                                                                                                                                                                                                                                                                                                                                                                                                                                                                                                                                                                                                                                                                                                                        Merged_Description  \n",
       "0  Bicycles and other cycles (including delivery tricycles), not motorized ;Bicycles having both wheels not exceeding 63.5 cm in diameter;Having both wheels not exceeding 50 cm in diameter;Having both wheels exceeding 50 cm but not exceeding 55 cm in diameter;Having both wheels exceeding 55 cm but not exceeding 63.5 cm in diameter;If weighing less than 16.3 kg complete without accessories and not designed for use with tires having a cross-sectional diameter exceeding 4.13 cm;Bicycles having both wheels exceeding 63.5 cm in diameter ;Other;Bicycles having a front wheel exceeding 55 cm but not exceeding 63.5 cm in diameter and a rear wheel exceeding 63.5 cm in diameter, weighing less than 16.3 kg complete without accessories and not designed for use with tires having a cross-sectional diameter exceeding 4.13 cm, valued $200 or more each;Other bicycles;Other cycles  \n",
       "1  Bicycles and other cycles (including delivery tricycles), not motorized ;Bicycles having both wheels not exceeding 63.5 cm in diameter;Having both wheels not exceeding 50 cm in diameter;Having both wheels exceeding 50 cm but not exceeding 55 cm in diameter;Having both wheels exceeding 55 cm but not exceeding 63.5 cm in diameter;If weighing less than 16.3 kg complete without accessories and not designed for use with tires having a cross-sectional diameter exceeding 4.13 cm;Bicycles having both wheels exceeding 63.5 cm in diameter ;Other;Bicycles having a front wheel exceeding 55 cm but not exceeding 63.5 cm in diameter and a rear wheel exceeding 63.5 cm in diameter, weighing less than 16.3 kg complete without accessories and not designed for use with tires having a cross-sectional diameter exceeding 4.13 cm, valued $200 or more each;Other bicycles;Other cycles  \n",
       "\n",
       "[2 rows x 70 columns]"
      ]
     },
     "execution_count": 50,
     "metadata": {},
     "output_type": "execute_result"
    }
   ],
   "source": [
    "# Don't truncate text fields in the display\n",
    "pd.set_option(\"display.max_colwidth\", -1)\n",
    "\n",
    "import_df.head(2)"
   ]
  },
  {
   "cell_type": "code",
   "execution_count": 25,
   "id": "clear-diabetes",
   "metadata": {},
   "outputs": [
    {
     "name": "stdout",
     "output_type": "stream",
     "text": [
      "[########################################] | 100% Completed |  0.1s\n",
      "[########################################] | 100% Completed |  0.2s\n",
      "[########################################] | 100% Completed |  0.3s\n"
     ]
    },
    {
     "data": {
      "text/plain": [
       "7269"
      ]
     },
     "execution_count": 25,
     "metadata": {},
     "output_type": "execute_result"
    }
   ],
   "source": [
    "len(import_df.index)"
   ]
  },
  {
   "cell_type": "code",
   "execution_count": 51,
   "id": "rental-galaxy",
   "metadata": {},
   "outputs": [
    {
     "name": "stdout",
     "output_type": "stream",
     "text": [
      "[########################################] | 100% Completed |  0.1s\n",
      "[########################################] | 100% Completed |  0.2s\n",
      "[########################################] | 100% Completed |  0.3s\n",
      "[########################################] | 100% Completed |  0.4s\n"
     ]
    },
    {
     "data": {
      "text/plain": [
       "7269"
      ]
     },
     "execution_count": 51,
     "metadata": {},
     "output_type": "execute_result"
    }
   ],
   "source": [
    "# convert the dataframes back to pandas\n",
    "# I couldn't get the BERT model and code I had to run when it was a dask dataframe\n",
    "import_df_pd = import_df.compute()\n",
    "len(import_df_pd)"
   ]
  },
  {
   "cell_type": "markdown",
   "id": "instrumental-weapon",
   "metadata": {},
   "source": [
    "### Let's tokenize the description fields."
   ]
  },
  {
   "cell_type": "markdown",
   "id": "higher-hudson",
   "metadata": {},
   "source": [
    "#### Create embeddings with nltk"
   ]
  },
  {
   "cell_type": "code",
   "execution_count": 43,
   "id": "thorough-cooperative",
   "metadata": {},
   "outputs": [],
   "source": [
    "def tokenize(data, column_name):\n",
    "    '''\n",
    "    Tokenize text\n",
    "    '''\n",
    "    tokens = data[column_name].apply((lambda x: nltk.word_tokenize(x)))\n",
    "    \n",
    "    data['NLTK'+column_name] = np.array(tokens)\n",
    "    \n",
    "    return data\n",
    "#     return list(\n",
    "#         filter(lambda word: word.isalnum(), tokens)\n",
    "#     )\n",
    "\n",
    "stop_words = stopwords.words(\"english\")\n",
    "\n",
    "def remove_stopwords(words):\n",
    "    '''\n",
    "    Remove stop words from the list of words\n",
    "    '''\n",
    "    \n",
    "    filtered = filter(lambda word: word not in stop_words, words)\n",
    "    \n",
    "    return list(filtered)"
   ]
  },
  {
   "cell_type": "markdown",
   "id": "naughty-queensland",
   "metadata": {},
   "source": [
    "#### Create embeddings with BERT"
   ]
  },
  {
   "cell_type": "code",
   "execution_count": 40,
   "id": "painted-compromise",
   "metadata": {},
   "outputs": [],
   "source": [
    "def pre_process(data, column_name, max_length):\n",
    "    \"\"\"\n",
    "    Function takes inputs:\n",
    "    - data in the form of a pandas dataframe\n",
    "    - column_name containing the text to be embedded\n",
    "    - max length\n",
    "    and produces as output the input data BERT requires as an array consisting of:\n",
    "    - Sentence IDs padded to the max length\n",
    "    - BERT Masks that tell BERT which of the Sentence IDs are 0 and should be ignored\n",
    "    - SequenceIDs which are all 0 for our classification task\n",
    "    \"\"\"\n",
    "    # Tokenize each tweet and add the special beginning/end tokens\n",
    "    tokenized = data[column_name].apply((lambda x: tokenizer.encode(x, add_special_tokens=False, max_length=max_length, truncation=True)))\n",
    "    data['BERT'+column_name] = np.array(tokenized)\n",
    "      \n",
    "#     # Create the padding based on the max length so all are same shape\n",
    "#     bertSentenceIDs = np.array([i + [0]*(max_length-len(i)) for i in tokenized.values])\n",
    "    \n",
    "#     # Create the attention mask so BERT knows which contain values and which are 0s that should be ignored\n",
    "#     bertMasks = np.where(bertSentenceIDs != 0, 1, 0)\n",
    "\n",
    "#     # Create the BERT sequence IDs. In this case they are all 0 since it's the same sentence input.\n",
    "#     bertSequenceIDs = np.array([np.zeros(max_length) for i in tokenized.values], dtype=int)\n",
    "    \n",
    "#     # Create and return the data array containing both the padded and the attention mask\n",
    "#     X_data = np.array([bertSentenceIDs, bertMasks, bertSequenceIDs])\n",
    "\n",
    "#     # Also look at the vocabulary size in the tokenizer\n",
    "\n",
    "    return data"
   ]
  },
  {
   "cell_type": "markdown",
   "id": "first-demand",
   "metadata": {},
   "source": [
    "In the past we have run into memory issues depending on the length of the input, so we set up a variable to truncate the tokens being input for each record.\n",
    "\n",
    "First, let's check the max length of the different tokenized columns of interest."
   ]
  },
  {
   "cell_type": "code",
   "execution_count": 29,
   "id": "completed-balance",
   "metadata": {},
   "outputs": [
    {
     "name": "stdout",
     "output_type": "stream",
     "text": [
      "Max length of column Product Desc 37\n",
      "Max length of column Merged_Description 184\n"
     ]
    }
   ],
   "source": [
    "length_lst = ['Product Desc', 'Merged_Description']\n",
    "\n",
    "for l in length_lst:\n",
    "    tokenized = []\n",
    "    tokenized = import_df_pd[l].apply((lambda x: tokenizer.encode(x, add_special_tokens=True)))\n",
    "    # Find the max length for the tokenized examples\n",
    "    max_length = 0\n",
    "    for i in tokenized.values:\n",
    "        if len(i) > max_length:\n",
    "            max_length = len(i)\n",
    "\n",
    "    print('Max length of column', l, max_length)"
   ]
  },
  {
   "cell_type": "markdown",
   "id": "found-proof",
   "metadata": {},
   "source": [
    "This could be a problem if we have very, very short entries in the description fields.\n",
    "\n",
    "Some possible solutions:\n",
    "1. Augment each entry with the dictionary definition.\n",
    "2. Add extra training records of just the dictionary definition.\n",
    "3. Train on only the dictionary definition."
   ]
  },
  {
   "cell_type": "markdown",
   "id": "stone-spank",
   "metadata": {},
   "source": [
    "### Encode the description fields."
   ]
  },
  {
   "cell_type": "code",
   "execution_count": 84,
   "id": "tender-defense",
   "metadata": {},
   "outputs": [
    {
     "data": {
      "text/html": [
       "<div>\n",
       "<style scoped>\n",
       "    .dataframe tbody tr th:only-of-type {\n",
       "        vertical-align: middle;\n",
       "    }\n",
       "\n",
       "    .dataframe tbody tr th {\n",
       "        vertical-align: top;\n",
       "    }\n",
       "\n",
       "    .dataframe thead th {\n",
       "        text-align: right;\n",
       "    }\n",
       "</style>\n",
       "<table border=\"1\" class=\"dataframe\">\n",
       "  <thead>\n",
       "    <tr style=\"text-align: right;\">\n",
       "      <th></th>\n",
       "      <th>Product Desc</th>\n",
       "      <th>Merged_Description</th>\n",
       "      <th>HS_Code</th>\n",
       "    </tr>\n",
       "  </thead>\n",
       "  <tbody>\n",
       "    <tr>\n",
       "      <th>0</th>\n",
       "      <td>ELLIPTICAL TRAINER,TREADMILL, ESCALATE&lt;br/&gt;</td>\n",
       "      <td>Bicycles and other cycles (including delivery tricycles), not motorized ;Bicycles having both wheels not exceeding 63.5 cm in diameter;Having both wheels not exceeding 50 cm in diameter;Having both wheels exceeding 50 cm but not exceeding 55 cm in diameter;Having both wheels exceeding 55 cm but not exceeding 63.5 cm in diameter;If weighing less than 16.3 kg complete without accessories and not designed for use with tires having a cross-sectional diameter exceeding 4.13 cm;Bicycles having both wheels exceeding 63.5 cm in diameter ;Other;Bicycles having a front wheel exceeding 55 cm but not exceeding 63.5 cm in diameter and a rear wheel exceeding 63.5 cm in diameter, weighing less than 16.3 kg complete without accessories and not designed for use with tires having a cross-sectional diameter exceeding 4.13 cm, valued $200 or more each;Other bicycles;Other cycles</td>\n",
       "      <td>871200</td>\n",
       "    </tr>\n",
       "    <tr>\n",
       "      <th>1</th>\n",
       "      <td>SCH 830 TREADMILL&lt;br/&gt;</td>\n",
       "      <td>Bicycles and other cycles (including delivery tricycles), not motorized ;Bicycles having both wheels not exceeding 63.5 cm in diameter;Having both wheels not exceeding 50 cm in diameter;Having both wheels exceeding 50 cm but not exceeding 55 cm in diameter;Having both wheels exceeding 55 cm but not exceeding 63.5 cm in diameter;If weighing less than 16.3 kg complete without accessories and not designed for use with tires having a cross-sectional diameter exceeding 4.13 cm;Bicycles having both wheels exceeding 63.5 cm in diameter ;Other;Bicycles having a front wheel exceeding 55 cm but not exceeding 63.5 cm in diameter and a rear wheel exceeding 63.5 cm in diameter, weighing less than 16.3 kg complete without accessories and not designed for use with tires having a cross-sectional diameter exceeding 4.13 cm, valued $200 or more each;Other bicycles;Other cycles</td>\n",
       "      <td>871200</td>\n",
       "    </tr>\n",
       "    <tr>\n",
       "      <th>2</th>\n",
       "      <td>FITNESSMACHINE; TREADMILL&lt;br/&gt;</td>\n",
       "      <td>Bicycles and other cycles (including delivery tricycles), not motorized ;Bicycles having both wheels not exceeding 63.5 cm in diameter;Having both wheels not exceeding 50 cm in diameter;Having both wheels exceeding 50 cm but not exceeding 55 cm in diameter;Having both wheels exceeding 55 cm but not exceeding 63.5 cm in diameter;If weighing less than 16.3 kg complete without accessories and not designed for use with tires having a cross-sectional diameter exceeding 4.13 cm;Bicycles having both wheels exceeding 63.5 cm in diameter ;Other;Bicycles having a front wheel exceeding 55 cm but not exceeding 63.5 cm in diameter and a rear wheel exceeding 63.5 cm in diameter, weighing less than 16.3 kg complete without accessories and not designed for use with tires having a cross-sectional diameter exceeding 4.13 cm, valued $200 or more each;Other bicycles;Other cycles</td>\n",
       "      <td>871200</td>\n",
       "    </tr>\n",
       "    <tr>\n",
       "      <th>3</th>\n",
       "      <td>COMPLETE BICYCLES &amp; BICYCLE PARTS &amp; ELECTRIC BICYC</td>\n",
       "      <td>Bicycles and other cycles (including delivery tricycles), not motorized ;Bicycles having both wheels not exceeding 63.5 cm in diameter;Having both wheels not exceeding 50 cm in diameter;Having both wheels exceeding 50 cm but not exceeding 55 cm in diameter;Having both wheels exceeding 55 cm but not exceeding 63.5 cm in diameter;If weighing less than 16.3 kg complete without accessories and not designed for use with tires having a cross-sectional diameter exceeding 4.13 cm;Bicycles having both wheels exceeding 63.5 cm in diameter ;Other;Bicycles having a front wheel exceeding 55 cm but not exceeding 63.5 cm in diameter and a rear wheel exceeding 63.5 cm in diameter, weighing less than 16.3 kg complete without accessories and not designed for use with tires having a cross-sectional diameter exceeding 4.13 cm, valued $200 or more each;Other bicycles;Other cycles</td>\n",
       "      <td>871200</td>\n",
       "    </tr>\n",
       "    <tr>\n",
       "      <th>4</th>\n",
       "      <td>LOUISIANA GRILLS LG900 W FRONT SHELF&lt;br/&gt;</td>\n",
       "      <td>Bicycles and other cycles (including delivery tricycles), not motorized ;Bicycles having both wheels not exceeding 63.5 cm in diameter;Having both wheels not exceeding 50 cm in diameter;Having both wheels exceeding 50 cm but not exceeding 55 cm in diameter;Having both wheels exceeding 55 cm but not exceeding 63.5 cm in diameter;If weighing less than 16.3 kg complete without accessories and not designed for use with tires having a cross-sectional diameter exceeding 4.13 cm;Bicycles having both wheels exceeding 63.5 cm in diameter ;Other;Bicycles having a front wheel exceeding 55 cm but not exceeding 63.5 cm in diameter and a rear wheel exceeding 63.5 cm in diameter, weighing less than 16.3 kg complete without accessories and not designed for use with tires having a cross-sectional diameter exceeding 4.13 cm, valued $200 or more each;Other bicycles;Other cycles</td>\n",
       "      <td>871200</td>\n",
       "    </tr>\n",
       "  </tbody>\n",
       "</table>\n",
       "</div>"
      ],
      "text/plain": [
       "                                         Product Desc  \\\n",
       "0  ELLIPTICAL TRAINER,TREADMILL, ESCALATE<br/>          \n",
       "1  SCH 830 TREADMILL<br/>                               \n",
       "2  FITNESSMACHINE; TREADMILL<br/>                       \n",
       "3  COMPLETE BICYCLES & BICYCLE PARTS & ELECTRIC BICYC   \n",
       "4  LOUISIANA GRILLS LG900 W FRONT SHELF<br/>            \n",
       "\n",
       "                                                                                                                                                                                                                                                                                                                                                                                                                                                                                                                                                                                                                                                                                                                                                                                                                                                                                        Merged_Description  \\\n",
       "0  Bicycles and other cycles (including delivery tricycles), not motorized ;Bicycles having both wheels not exceeding 63.5 cm in diameter;Having both wheels not exceeding 50 cm in diameter;Having both wheels exceeding 50 cm but not exceeding 55 cm in diameter;Having both wheels exceeding 55 cm but not exceeding 63.5 cm in diameter;If weighing less than 16.3 kg complete without accessories and not designed for use with tires having a cross-sectional diameter exceeding 4.13 cm;Bicycles having both wheels exceeding 63.5 cm in diameter ;Other;Bicycles having a front wheel exceeding 55 cm but not exceeding 63.5 cm in diameter and a rear wheel exceeding 63.5 cm in diameter, weighing less than 16.3 kg complete without accessories and not designed for use with tires having a cross-sectional diameter exceeding 4.13 cm, valued $200 or more each;Other bicycles;Other cycles   \n",
       "1  Bicycles and other cycles (including delivery tricycles), not motorized ;Bicycles having both wheels not exceeding 63.5 cm in diameter;Having both wheels not exceeding 50 cm in diameter;Having both wheels exceeding 50 cm but not exceeding 55 cm in diameter;Having both wheels exceeding 55 cm but not exceeding 63.5 cm in diameter;If weighing less than 16.3 kg complete without accessories and not designed for use with tires having a cross-sectional diameter exceeding 4.13 cm;Bicycles having both wheels exceeding 63.5 cm in diameter ;Other;Bicycles having a front wheel exceeding 55 cm but not exceeding 63.5 cm in diameter and a rear wheel exceeding 63.5 cm in diameter, weighing less than 16.3 kg complete without accessories and not designed for use with tires having a cross-sectional diameter exceeding 4.13 cm, valued $200 or more each;Other bicycles;Other cycles   \n",
       "2  Bicycles and other cycles (including delivery tricycles), not motorized ;Bicycles having both wheels not exceeding 63.5 cm in diameter;Having both wheels not exceeding 50 cm in diameter;Having both wheels exceeding 50 cm but not exceeding 55 cm in diameter;Having both wheels exceeding 55 cm but not exceeding 63.5 cm in diameter;If weighing less than 16.3 kg complete without accessories and not designed for use with tires having a cross-sectional diameter exceeding 4.13 cm;Bicycles having both wheels exceeding 63.5 cm in diameter ;Other;Bicycles having a front wheel exceeding 55 cm but not exceeding 63.5 cm in diameter and a rear wheel exceeding 63.5 cm in diameter, weighing less than 16.3 kg complete without accessories and not designed for use with tires having a cross-sectional diameter exceeding 4.13 cm, valued $200 or more each;Other bicycles;Other cycles   \n",
       "3  Bicycles and other cycles (including delivery tricycles), not motorized ;Bicycles having both wheels not exceeding 63.5 cm in diameter;Having both wheels not exceeding 50 cm in diameter;Having both wheels exceeding 50 cm but not exceeding 55 cm in diameter;Having both wheels exceeding 55 cm but not exceeding 63.5 cm in diameter;If weighing less than 16.3 kg complete without accessories and not designed for use with tires having a cross-sectional diameter exceeding 4.13 cm;Bicycles having both wheels exceeding 63.5 cm in diameter ;Other;Bicycles having a front wheel exceeding 55 cm but not exceeding 63.5 cm in diameter and a rear wheel exceeding 63.5 cm in diameter, weighing less than 16.3 kg complete without accessories and not designed for use with tires having a cross-sectional diameter exceeding 4.13 cm, valued $200 or more each;Other bicycles;Other cycles   \n",
       "4  Bicycles and other cycles (including delivery tricycles), not motorized ;Bicycles having both wheels not exceeding 63.5 cm in diameter;Having both wheels not exceeding 50 cm in diameter;Having both wheels exceeding 50 cm but not exceeding 55 cm in diameter;Having both wheels exceeding 55 cm but not exceeding 63.5 cm in diameter;If weighing less than 16.3 kg complete without accessories and not designed for use with tires having a cross-sectional diameter exceeding 4.13 cm;Bicycles having both wheels exceeding 63.5 cm in diameter ;Other;Bicycles having a front wheel exceeding 55 cm but not exceeding 63.5 cm in diameter and a rear wheel exceeding 63.5 cm in diameter, weighing less than 16.3 kg complete without accessories and not designed for use with tires having a cross-sectional diameter exceeding 4.13 cm, valued $200 or more each;Other bicycles;Other cycles   \n",
       "\n",
       "  HS_Code  \n",
       "0  871200  \n",
       "1  871200  \n",
       "2  871200  \n",
       "3  871200  \n",
       "4  871200  "
      ]
     },
     "execution_count": 84,
     "metadata": {},
     "output_type": "execute_result"
    }
   ],
   "source": [
    "# Get rid of the columns we don't need.\n",
    "\n",
    "# First, the dask dataframe (in case the full dataset is too large to handle with pandas).\n",
    "import_df = import_df[['Product Desc', 'Merged_Description', 'HS_Code']]\n",
    "# import_df.head()\n",
    "\n",
    "# Second, the pandas dataframe.\n",
    "import_df_pd = import_df_pd[['Product Desc', 'Merged_Description', 'HS_Code']]\n",
    "import_df_pd.head()"
   ]
  },
  {
   "cell_type": "code",
   "execution_count": 85,
   "id": "female-zoning",
   "metadata": {},
   "outputs": [
    {
     "data": {
      "text/html": [
       "<div>\n",
       "<style scoped>\n",
       "    .dataframe tbody tr th:only-of-type {\n",
       "        vertical-align: middle;\n",
       "    }\n",
       "\n",
       "    .dataframe tbody tr th {\n",
       "        vertical-align: top;\n",
       "    }\n",
       "\n",
       "    .dataframe thead th {\n",
       "        text-align: right;\n",
       "    }\n",
       "</style>\n",
       "<table border=\"1\" class=\"dataframe\">\n",
       "  <thead>\n",
       "    <tr style=\"text-align: right;\">\n",
       "      <th></th>\n",
       "      <th>Product Desc</th>\n",
       "      <th>Merged_Description</th>\n",
       "      <th>HS_Code</th>\n",
       "      <th>BERTProduct Desc</th>\n",
       "      <th>BERTMerged_Description</th>\n",
       "      <th>NLTKProduct Desc</th>\n",
       "      <th>NLTKMerged_Description</th>\n",
       "    </tr>\n",
       "  </thead>\n",
       "  <tbody>\n",
       "    <tr>\n",
       "      <th>0</th>\n",
       "      <td>ELLIPTICAL TRAINER,TREADMILL, ESCALATE&lt;br/&gt;</td>\n",
       "      <td>Bicycles and other cycles (including delivery tricycles), not motorized ;Bicycles having both wheels not exceeding 63.5 cm in diameter;Having both wheels not exceeding 50 cm in diameter;Having both wheels exceeding 50 cm but not exceeding 55 cm in diameter;Having both wheels exceeding 55 cm but not exceeding 63.5 cm in diameter;If weighing less than 16.3 kg complete without accessories and not designed for use with tires having a cross-sectional diameter exceeding 4.13 cm;Bicycles having both wheels exceeding 63.5 cm in diameter ;Other;Bicycles having a front wheel exceeding 55 cm but not exceeding 63.5 cm in diameter and a rear wheel exceeding 63.5 cm in diameter, weighing less than 16.3 kg complete without accessories and not designed for use with tires having a cross-sectional diameter exceeding 4.13 cm, valued $200 or more each;Other bicycles;Other cycles</td>\n",
       "      <td>871200</td>\n",
       "      <td>[27213, 10365, 1010, 29449, 19912, 1010, 9686, 25015, 2618, 1026, 7987, 1013, 1028]</td>\n",
       "      <td>[21066, 1998, 2060, 12709, 1006, 2164, 6959, 13012, 23490, 2015, 1007, 1010, 2025, 26172, 1025, 21066, 2383, 2119, 7787, 2025, 17003, 6191, 1012, 1019, 4642, 1999, 6705, 1025, 2383, 2119, 7787, 2025, 17003, 2753, 4642, 1999, 6705, 1025, 2383, 2119, 7787, 17003, 2753, 4642, 2021, 2025, 17003, 4583, 4642, 1999, 6705, 1025, 2383, 2119, 7787, 17003, 4583, 4642, 2021, 2025, 17003, 6191, 1012, 1019, 4642, 1999, 6705, 1025, 2065, 15243, 2625, 2084, 2385, 1012, 1017, 4705, 3143, 2302, 16611, 1998, 2025, 2881, 2005, 2224, 2007, 13310, 2383, 1037, 2892, 1011, 27197, 6705, 17003, 1018, 1012, 2410, 4642, 1025, 21066, 2383, ...]</td>\n",
       "      <td>[ELLIPTICAL, TRAINER, ,, TREADMILL, ,, ESCALATE, &lt;, br/, &gt;]</td>\n",
       "      <td>[Bicycles, and, other, cycles, (, including, delivery, tricycles, ), ,, not, motorized, ;, Bicycles, having, both, wheels, not, exceeding, 63.5, cm, in, diameter, ;, Having, both, wheels, not, exceeding, 50, cm, in, diameter, ;, Having, both, wheels, exceeding, 50, cm, but, not, exceeding, 55, cm, in, diameter, ;, Having, both, wheels, exceeding, 55, cm, but, not, exceeding, 63.5, cm, in, diameter, ;, If, weighing, less, than, 16.3, kg, complete, without, accessories, and, not, designed, for, use, with, tires, having, a, cross-sectional, diameter, exceeding, 4.13, cm, ;, Bicycles, having, both, wheels, exceeding, 63.5, cm, in, diameter, ;, Other, ;, Bicycles, having, ...]</td>\n",
       "    </tr>\n",
       "    <tr>\n",
       "      <th>1</th>\n",
       "      <td>SCH 830 TREADMILL&lt;br/&gt;</td>\n",
       "      <td>Bicycles and other cycles (including delivery tricycles), not motorized ;Bicycles having both wheels not exceeding 63.5 cm in diameter;Having both wheels not exceeding 50 cm in diameter;Having both wheels exceeding 50 cm but not exceeding 55 cm in diameter;Having both wheels exceeding 55 cm but not exceeding 63.5 cm in diameter;If weighing less than 16.3 kg complete without accessories and not designed for use with tires having a cross-sectional diameter exceeding 4.13 cm;Bicycles having both wheels exceeding 63.5 cm in diameter ;Other;Bicycles having a front wheel exceeding 55 cm but not exceeding 63.5 cm in diameter and a rear wheel exceeding 63.5 cm in diameter, weighing less than 16.3 kg complete without accessories and not designed for use with tires having a cross-sectional diameter exceeding 4.13 cm, valued $200 or more each;Other bicycles;Other cycles</td>\n",
       "      <td>871200</td>\n",
       "      <td>[8040, 2232, 6640, 2692, 29449, 19912, 1026, 7987, 1013, 1028]</td>\n",
       "      <td>[21066, 1998, 2060, 12709, 1006, 2164, 6959, 13012, 23490, 2015, 1007, 1010, 2025, 26172, 1025, 21066, 2383, 2119, 7787, 2025, 17003, 6191, 1012, 1019, 4642, 1999, 6705, 1025, 2383, 2119, 7787, 2025, 17003, 2753, 4642, 1999, 6705, 1025, 2383, 2119, 7787, 17003, 2753, 4642, 2021, 2025, 17003, 4583, 4642, 1999, 6705, 1025, 2383, 2119, 7787, 17003, 4583, 4642, 2021, 2025, 17003, 6191, 1012, 1019, 4642, 1999, 6705, 1025, 2065, 15243, 2625, 2084, 2385, 1012, 1017, 4705, 3143, 2302, 16611, 1998, 2025, 2881, 2005, 2224, 2007, 13310, 2383, 1037, 2892, 1011, 27197, 6705, 17003, 1018, 1012, 2410, 4642, 1025, 21066, 2383, ...]</td>\n",
       "      <td>[SCH, 830, TREADMILL, &lt;, br/, &gt;]</td>\n",
       "      <td>[Bicycles, and, other, cycles, (, including, delivery, tricycles, ), ,, not, motorized, ;, Bicycles, having, both, wheels, not, exceeding, 63.5, cm, in, diameter, ;, Having, both, wheels, not, exceeding, 50, cm, in, diameter, ;, Having, both, wheels, exceeding, 50, cm, but, not, exceeding, 55, cm, in, diameter, ;, Having, both, wheels, exceeding, 55, cm, but, not, exceeding, 63.5, cm, in, diameter, ;, If, weighing, less, than, 16.3, kg, complete, without, accessories, and, not, designed, for, use, with, tires, having, a, cross-sectional, diameter, exceeding, 4.13, cm, ;, Bicycles, having, both, wheels, exceeding, 63.5, cm, in, diameter, ;, Other, ;, Bicycles, having, ...]</td>\n",
       "    </tr>\n",
       "    <tr>\n",
       "      <th>2</th>\n",
       "      <td>FITNESSMACHINE; TREADMILL&lt;br/&gt;</td>\n",
       "      <td>Bicycles and other cycles (including delivery tricycles), not motorized ;Bicycles having both wheels not exceeding 63.5 cm in diameter;Having both wheels not exceeding 50 cm in diameter;Having both wheels exceeding 50 cm but not exceeding 55 cm in diameter;Having both wheels exceeding 55 cm but not exceeding 63.5 cm in diameter;If weighing less than 16.3 kg complete without accessories and not designed for use with tires having a cross-sectional diameter exceeding 4.13 cm;Bicycles having both wheels exceeding 63.5 cm in diameter ;Other;Bicycles having a front wheel exceeding 55 cm but not exceeding 63.5 cm in diameter and a rear wheel exceeding 63.5 cm in diameter, weighing less than 16.3 kg complete without accessories and not designed for use with tires having a cross-sectional diameter exceeding 4.13 cm, valued $200 or more each;Other bicycles;Other cycles</td>\n",
       "      <td>871200</td>\n",
       "      <td>[10516, 22911, 14014, 1025, 29449, 19912, 1026, 7987, 1013, 1028]</td>\n",
       "      <td>[21066, 1998, 2060, 12709, 1006, 2164, 6959, 13012, 23490, 2015, 1007, 1010, 2025, 26172, 1025, 21066, 2383, 2119, 7787, 2025, 17003, 6191, 1012, 1019, 4642, 1999, 6705, 1025, 2383, 2119, 7787, 2025, 17003, 2753, 4642, 1999, 6705, 1025, 2383, 2119, 7787, 17003, 2753, 4642, 2021, 2025, 17003, 4583, 4642, 1999, 6705, 1025, 2383, 2119, 7787, 17003, 4583, 4642, 2021, 2025, 17003, 6191, 1012, 1019, 4642, 1999, 6705, 1025, 2065, 15243, 2625, 2084, 2385, 1012, 1017, 4705, 3143, 2302, 16611, 1998, 2025, 2881, 2005, 2224, 2007, 13310, 2383, 1037, 2892, 1011, 27197, 6705, 17003, 1018, 1012, 2410, 4642, 1025, 21066, 2383, ...]</td>\n",
       "      <td>[FITNESSMACHINE, ;, TREADMILL, &lt;, br/, &gt;]</td>\n",
       "      <td>[Bicycles, and, other, cycles, (, including, delivery, tricycles, ), ,, not, motorized, ;, Bicycles, having, both, wheels, not, exceeding, 63.5, cm, in, diameter, ;, Having, both, wheels, not, exceeding, 50, cm, in, diameter, ;, Having, both, wheels, exceeding, 50, cm, but, not, exceeding, 55, cm, in, diameter, ;, Having, both, wheels, exceeding, 55, cm, but, not, exceeding, 63.5, cm, in, diameter, ;, If, weighing, less, than, 16.3, kg, complete, without, accessories, and, not, designed, for, use, with, tires, having, a, cross-sectional, diameter, exceeding, 4.13, cm, ;, Bicycles, having, both, wheels, exceeding, 63.5, cm, in, diameter, ;, Other, ;, Bicycles, having, ...]</td>\n",
       "    </tr>\n",
       "    <tr>\n",
       "      <th>3</th>\n",
       "      <td>COMPLETE BICYCLES &amp; BICYCLE PARTS &amp; ELECTRIC BICYC</td>\n",
       "      <td>Bicycles and other cycles (including delivery tricycles), not motorized ;Bicycles having both wheels not exceeding 63.5 cm in diameter;Having both wheels not exceeding 50 cm in diameter;Having both wheels exceeding 50 cm but not exceeding 55 cm in diameter;Having both wheels exceeding 55 cm but not exceeding 63.5 cm in diameter;If weighing less than 16.3 kg complete without accessories and not designed for use with tires having a cross-sectional diameter exceeding 4.13 cm;Bicycles having both wheels exceeding 63.5 cm in diameter ;Other;Bicycles having a front wheel exceeding 55 cm but not exceeding 63.5 cm in diameter and a rear wheel exceeding 63.5 cm in diameter, weighing less than 16.3 kg complete without accessories and not designed for use with tires having a cross-sectional diameter exceeding 4.13 cm, valued $200 or more each;Other bicycles;Other cycles</td>\n",
       "      <td>871200</td>\n",
       "      <td>[3143, 21066, 1004, 10165, 3033, 1004, 3751, 12170, 5666, 2278]</td>\n",
       "      <td>[21066, 1998, 2060, 12709, 1006, 2164, 6959, 13012, 23490, 2015, 1007, 1010, 2025, 26172, 1025, 21066, 2383, 2119, 7787, 2025, 17003, 6191, 1012, 1019, 4642, 1999, 6705, 1025, 2383, 2119, 7787, 2025, 17003, 2753, 4642, 1999, 6705, 1025, 2383, 2119, 7787, 17003, 2753, 4642, 2021, 2025, 17003, 4583, 4642, 1999, 6705, 1025, 2383, 2119, 7787, 17003, 4583, 4642, 2021, 2025, 17003, 6191, 1012, 1019, 4642, 1999, 6705, 1025, 2065, 15243, 2625, 2084, 2385, 1012, 1017, 4705, 3143, 2302, 16611, 1998, 2025, 2881, 2005, 2224, 2007, 13310, 2383, 1037, 2892, 1011, 27197, 6705, 17003, 1018, 1012, 2410, 4642, 1025, 21066, 2383, ...]</td>\n",
       "      <td>[COMPLETE, BICYCLES, &amp;, BICYCLE, PARTS, &amp;, ELECTRIC, BICYC]</td>\n",
       "      <td>[Bicycles, and, other, cycles, (, including, delivery, tricycles, ), ,, not, motorized, ;, Bicycles, having, both, wheels, not, exceeding, 63.5, cm, in, diameter, ;, Having, both, wheels, not, exceeding, 50, cm, in, diameter, ;, Having, both, wheels, exceeding, 50, cm, but, not, exceeding, 55, cm, in, diameter, ;, Having, both, wheels, exceeding, 55, cm, but, not, exceeding, 63.5, cm, in, diameter, ;, If, weighing, less, than, 16.3, kg, complete, without, accessories, and, not, designed, for, use, with, tires, having, a, cross-sectional, diameter, exceeding, 4.13, cm, ;, Bicycles, having, both, wheels, exceeding, 63.5, cm, in, diameter, ;, Other, ;, Bicycles, having, ...]</td>\n",
       "    </tr>\n",
       "    <tr>\n",
       "      <th>4</th>\n",
       "      <td>LOUISIANA GRILLS LG900 W FRONT SHELF&lt;br/&gt;</td>\n",
       "      <td>Bicycles and other cycles (including delivery tricycles), not motorized ;Bicycles having both wheels not exceeding 63.5 cm in diameter;Having both wheels not exceeding 50 cm in diameter;Having both wheels exceeding 50 cm but not exceeding 55 cm in diameter;Having both wheels exceeding 55 cm but not exceeding 63.5 cm in diameter;If weighing less than 16.3 kg complete without accessories and not designed for use with tires having a cross-sectional diameter exceeding 4.13 cm;Bicycles having both wheels exceeding 63.5 cm in diameter ;Other;Bicycles having a front wheel exceeding 55 cm but not exceeding 63.5 cm in diameter and a rear wheel exceeding 63.5 cm in diameter, weighing less than 16.3 kg complete without accessories and not designed for use with tires having a cross-sectional diameter exceeding 4.13 cm, valued $200 or more each;Other bicycles;Other cycles</td>\n",
       "      <td>871200</td>\n",
       "      <td>[5773, 18651, 2015, 1048, 2290, 21057, 2692, 1059, 2392, 11142, 1026, 7987, 1013, 1028]</td>\n",
       "      <td>[21066, 1998, 2060, 12709, 1006, 2164, 6959, 13012, 23490, 2015, 1007, 1010, 2025, 26172, 1025, 21066, 2383, 2119, 7787, 2025, 17003, 6191, 1012, 1019, 4642, 1999, 6705, 1025, 2383, 2119, 7787, 2025, 17003, 2753, 4642, 1999, 6705, 1025, 2383, 2119, 7787, 17003, 2753, 4642, 2021, 2025, 17003, 4583, 4642, 1999, 6705, 1025, 2383, 2119, 7787, 17003, 4583, 4642, 2021, 2025, 17003, 6191, 1012, 1019, 4642, 1999, 6705, 1025, 2065, 15243, 2625, 2084, 2385, 1012, 1017, 4705, 3143, 2302, 16611, 1998, 2025, 2881, 2005, 2224, 2007, 13310, 2383, 1037, 2892, 1011, 27197, 6705, 17003, 1018, 1012, 2410, 4642, 1025, 21066, 2383, ...]</td>\n",
       "      <td>[LOUISIANA, GRILLS, LG900, W, FRONT, SHELF, &lt;, br/, &gt;]</td>\n",
       "      <td>[Bicycles, and, other, cycles, (, including, delivery, tricycles, ), ,, not, motorized, ;, Bicycles, having, both, wheels, not, exceeding, 63.5, cm, in, diameter, ;, Having, both, wheels, not, exceeding, 50, cm, in, diameter, ;, Having, both, wheels, exceeding, 50, cm, but, not, exceeding, 55, cm, in, diameter, ;, Having, both, wheels, exceeding, 55, cm, but, not, exceeding, 63.5, cm, in, diameter, ;, If, weighing, less, than, 16.3, kg, complete, without, accessories, and, not, designed, for, use, with, tires, having, a, cross-sectional, diameter, exceeding, 4.13, cm, ;, Bicycles, having, both, wheels, exceeding, 63.5, cm, in, diameter, ;, Other, ;, Bicycles, having, ...]</td>\n",
       "    </tr>\n",
       "  </tbody>\n",
       "</table>\n",
       "</div>"
      ],
      "text/plain": [
       "                                         Product Desc  \\\n",
       "0  ELLIPTICAL TRAINER,TREADMILL, ESCALATE<br/>          \n",
       "1  SCH 830 TREADMILL<br/>                               \n",
       "2  FITNESSMACHINE; TREADMILL<br/>                       \n",
       "3  COMPLETE BICYCLES & BICYCLE PARTS & ELECTRIC BICYC   \n",
       "4  LOUISIANA GRILLS LG900 W FRONT SHELF<br/>            \n",
       "\n",
       "                                                                                                                                                                                                                                                                                                                                                                                                                                                                                                                                                                                                                                                                                                                                                                                                                                                                                        Merged_Description  \\\n",
       "0  Bicycles and other cycles (including delivery tricycles), not motorized ;Bicycles having both wheels not exceeding 63.5 cm in diameter;Having both wheels not exceeding 50 cm in diameter;Having both wheels exceeding 50 cm but not exceeding 55 cm in diameter;Having both wheels exceeding 55 cm but not exceeding 63.5 cm in diameter;If weighing less than 16.3 kg complete without accessories and not designed for use with tires having a cross-sectional diameter exceeding 4.13 cm;Bicycles having both wheels exceeding 63.5 cm in diameter ;Other;Bicycles having a front wheel exceeding 55 cm but not exceeding 63.5 cm in diameter and a rear wheel exceeding 63.5 cm in diameter, weighing less than 16.3 kg complete without accessories and not designed for use with tires having a cross-sectional diameter exceeding 4.13 cm, valued $200 or more each;Other bicycles;Other cycles   \n",
       "1  Bicycles and other cycles (including delivery tricycles), not motorized ;Bicycles having both wheels not exceeding 63.5 cm in diameter;Having both wheels not exceeding 50 cm in diameter;Having both wheels exceeding 50 cm but not exceeding 55 cm in diameter;Having both wheels exceeding 55 cm but not exceeding 63.5 cm in diameter;If weighing less than 16.3 kg complete without accessories and not designed for use with tires having a cross-sectional diameter exceeding 4.13 cm;Bicycles having both wheels exceeding 63.5 cm in diameter ;Other;Bicycles having a front wheel exceeding 55 cm but not exceeding 63.5 cm in diameter and a rear wheel exceeding 63.5 cm in diameter, weighing less than 16.3 kg complete without accessories and not designed for use with tires having a cross-sectional diameter exceeding 4.13 cm, valued $200 or more each;Other bicycles;Other cycles   \n",
       "2  Bicycles and other cycles (including delivery tricycles), not motorized ;Bicycles having both wheels not exceeding 63.5 cm in diameter;Having both wheels not exceeding 50 cm in diameter;Having both wheels exceeding 50 cm but not exceeding 55 cm in diameter;Having both wheels exceeding 55 cm but not exceeding 63.5 cm in diameter;If weighing less than 16.3 kg complete without accessories and not designed for use with tires having a cross-sectional diameter exceeding 4.13 cm;Bicycles having both wheels exceeding 63.5 cm in diameter ;Other;Bicycles having a front wheel exceeding 55 cm but not exceeding 63.5 cm in diameter and a rear wheel exceeding 63.5 cm in diameter, weighing less than 16.3 kg complete without accessories and not designed for use with tires having a cross-sectional diameter exceeding 4.13 cm, valued $200 or more each;Other bicycles;Other cycles   \n",
       "3  Bicycles and other cycles (including delivery tricycles), not motorized ;Bicycles having both wheels not exceeding 63.5 cm in diameter;Having both wheels not exceeding 50 cm in diameter;Having both wheels exceeding 50 cm but not exceeding 55 cm in diameter;Having both wheels exceeding 55 cm but not exceeding 63.5 cm in diameter;If weighing less than 16.3 kg complete without accessories and not designed for use with tires having a cross-sectional diameter exceeding 4.13 cm;Bicycles having both wheels exceeding 63.5 cm in diameter ;Other;Bicycles having a front wheel exceeding 55 cm but not exceeding 63.5 cm in diameter and a rear wheel exceeding 63.5 cm in diameter, weighing less than 16.3 kg complete without accessories and not designed for use with tires having a cross-sectional diameter exceeding 4.13 cm, valued $200 or more each;Other bicycles;Other cycles   \n",
       "4  Bicycles and other cycles (including delivery tricycles), not motorized ;Bicycles having both wheels not exceeding 63.5 cm in diameter;Having both wheels not exceeding 50 cm in diameter;Having both wheels exceeding 50 cm but not exceeding 55 cm in diameter;Having both wheels exceeding 55 cm but not exceeding 63.5 cm in diameter;If weighing less than 16.3 kg complete without accessories and not designed for use with tires having a cross-sectional diameter exceeding 4.13 cm;Bicycles having both wheels exceeding 63.5 cm in diameter ;Other;Bicycles having a front wheel exceeding 55 cm but not exceeding 63.5 cm in diameter and a rear wheel exceeding 63.5 cm in diameter, weighing less than 16.3 kg complete without accessories and not designed for use with tires having a cross-sectional diameter exceeding 4.13 cm, valued $200 or more each;Other bicycles;Other cycles   \n",
       "\n",
       "  HS_Code  \\\n",
       "0  871200   \n",
       "1  871200   \n",
       "2  871200   \n",
       "3  871200   \n",
       "4  871200   \n",
       "\n",
       "                                                                          BERTProduct Desc  \\\n",
       "0  [27213, 10365, 1010, 29449, 19912, 1010, 9686, 25015, 2618, 1026, 7987, 1013, 1028]       \n",
       "1  [8040, 2232, 6640, 2692, 29449, 19912, 1026, 7987, 1013, 1028]                            \n",
       "2  [10516, 22911, 14014, 1025, 29449, 19912, 1026, 7987, 1013, 1028]                         \n",
       "3  [3143, 21066, 1004, 10165, 3033, 1004, 3751, 12170, 5666, 2278]                           \n",
       "4  [5773, 18651, 2015, 1048, 2290, 21057, 2692, 1059, 2392, 11142, 1026, 7987, 1013, 1028]   \n",
       "\n",
       "                                                                                                                                                                                                                                                                                                                                                                                                                                                                                                                                                                                                                            BERTMerged_Description  \\\n",
       "0  [21066, 1998, 2060, 12709, 1006, 2164, 6959, 13012, 23490, 2015, 1007, 1010, 2025, 26172, 1025, 21066, 2383, 2119, 7787, 2025, 17003, 6191, 1012, 1019, 4642, 1999, 6705, 1025, 2383, 2119, 7787, 2025, 17003, 2753, 4642, 1999, 6705, 1025, 2383, 2119, 7787, 17003, 2753, 4642, 2021, 2025, 17003, 4583, 4642, 1999, 6705, 1025, 2383, 2119, 7787, 17003, 4583, 4642, 2021, 2025, 17003, 6191, 1012, 1019, 4642, 1999, 6705, 1025, 2065, 15243, 2625, 2084, 2385, 1012, 1017, 4705, 3143, 2302, 16611, 1998, 2025, 2881, 2005, 2224, 2007, 13310, 2383, 1037, 2892, 1011, 27197, 6705, 17003, 1018, 1012, 2410, 4642, 1025, 21066, 2383, ...]   \n",
       "1  [21066, 1998, 2060, 12709, 1006, 2164, 6959, 13012, 23490, 2015, 1007, 1010, 2025, 26172, 1025, 21066, 2383, 2119, 7787, 2025, 17003, 6191, 1012, 1019, 4642, 1999, 6705, 1025, 2383, 2119, 7787, 2025, 17003, 2753, 4642, 1999, 6705, 1025, 2383, 2119, 7787, 17003, 2753, 4642, 2021, 2025, 17003, 4583, 4642, 1999, 6705, 1025, 2383, 2119, 7787, 17003, 4583, 4642, 2021, 2025, 17003, 6191, 1012, 1019, 4642, 1999, 6705, 1025, 2065, 15243, 2625, 2084, 2385, 1012, 1017, 4705, 3143, 2302, 16611, 1998, 2025, 2881, 2005, 2224, 2007, 13310, 2383, 1037, 2892, 1011, 27197, 6705, 17003, 1018, 1012, 2410, 4642, 1025, 21066, 2383, ...]   \n",
       "2  [21066, 1998, 2060, 12709, 1006, 2164, 6959, 13012, 23490, 2015, 1007, 1010, 2025, 26172, 1025, 21066, 2383, 2119, 7787, 2025, 17003, 6191, 1012, 1019, 4642, 1999, 6705, 1025, 2383, 2119, 7787, 2025, 17003, 2753, 4642, 1999, 6705, 1025, 2383, 2119, 7787, 17003, 2753, 4642, 2021, 2025, 17003, 4583, 4642, 1999, 6705, 1025, 2383, 2119, 7787, 17003, 4583, 4642, 2021, 2025, 17003, 6191, 1012, 1019, 4642, 1999, 6705, 1025, 2065, 15243, 2625, 2084, 2385, 1012, 1017, 4705, 3143, 2302, 16611, 1998, 2025, 2881, 2005, 2224, 2007, 13310, 2383, 1037, 2892, 1011, 27197, 6705, 17003, 1018, 1012, 2410, 4642, 1025, 21066, 2383, ...]   \n",
       "3  [21066, 1998, 2060, 12709, 1006, 2164, 6959, 13012, 23490, 2015, 1007, 1010, 2025, 26172, 1025, 21066, 2383, 2119, 7787, 2025, 17003, 6191, 1012, 1019, 4642, 1999, 6705, 1025, 2383, 2119, 7787, 2025, 17003, 2753, 4642, 1999, 6705, 1025, 2383, 2119, 7787, 17003, 2753, 4642, 2021, 2025, 17003, 4583, 4642, 1999, 6705, 1025, 2383, 2119, 7787, 17003, 4583, 4642, 2021, 2025, 17003, 6191, 1012, 1019, 4642, 1999, 6705, 1025, 2065, 15243, 2625, 2084, 2385, 1012, 1017, 4705, 3143, 2302, 16611, 1998, 2025, 2881, 2005, 2224, 2007, 13310, 2383, 1037, 2892, 1011, 27197, 6705, 17003, 1018, 1012, 2410, 4642, 1025, 21066, 2383, ...]   \n",
       "4  [21066, 1998, 2060, 12709, 1006, 2164, 6959, 13012, 23490, 2015, 1007, 1010, 2025, 26172, 1025, 21066, 2383, 2119, 7787, 2025, 17003, 6191, 1012, 1019, 4642, 1999, 6705, 1025, 2383, 2119, 7787, 2025, 17003, 2753, 4642, 1999, 6705, 1025, 2383, 2119, 7787, 17003, 2753, 4642, 2021, 2025, 17003, 4583, 4642, 1999, 6705, 1025, 2383, 2119, 7787, 17003, 4583, 4642, 2021, 2025, 17003, 6191, 1012, 1019, 4642, 1999, 6705, 1025, 2065, 15243, 2625, 2084, 2385, 1012, 1017, 4705, 3143, 2302, 16611, 1998, 2025, 2881, 2005, 2224, 2007, 13310, 2383, 1037, 2892, 1011, 27197, 6705, 17003, 1018, 1012, 2410, 4642, 1025, 21066, 2383, ...]   \n",
       "\n",
       "                                              NLTKProduct Desc  \\\n",
       "0  [ELLIPTICAL, TRAINER, ,, TREADMILL, ,, ESCALATE, <, br/, >]   \n",
       "1  [SCH, 830, TREADMILL, <, br/, >]                              \n",
       "2  [FITNESSMACHINE, ;, TREADMILL, <, br/, >]                     \n",
       "3  [COMPLETE, BICYCLES, &, BICYCLE, PARTS, &, ELECTRIC, BICYC]   \n",
       "4  [LOUISIANA, GRILLS, LG900, W, FRONT, SHELF, <, br/, >]        \n",
       "\n",
       "                                                                                                                                                                                                                                                                                                                                                                                                                                                                                                                                                                                                                                                                                     NLTKMerged_Description  \n",
       "0  [Bicycles, and, other, cycles, (, including, delivery, tricycles, ), ,, not, motorized, ;, Bicycles, having, both, wheels, not, exceeding, 63.5, cm, in, diameter, ;, Having, both, wheels, not, exceeding, 50, cm, in, diameter, ;, Having, both, wheels, exceeding, 50, cm, but, not, exceeding, 55, cm, in, diameter, ;, Having, both, wheels, exceeding, 55, cm, but, not, exceeding, 63.5, cm, in, diameter, ;, If, weighing, less, than, 16.3, kg, complete, without, accessories, and, not, designed, for, use, with, tires, having, a, cross-sectional, diameter, exceeding, 4.13, cm, ;, Bicycles, having, both, wheels, exceeding, 63.5, cm, in, diameter, ;, Other, ;, Bicycles, having, ...]  \n",
       "1  [Bicycles, and, other, cycles, (, including, delivery, tricycles, ), ,, not, motorized, ;, Bicycles, having, both, wheels, not, exceeding, 63.5, cm, in, diameter, ;, Having, both, wheels, not, exceeding, 50, cm, in, diameter, ;, Having, both, wheels, exceeding, 50, cm, but, not, exceeding, 55, cm, in, diameter, ;, Having, both, wheels, exceeding, 55, cm, but, not, exceeding, 63.5, cm, in, diameter, ;, If, weighing, less, than, 16.3, kg, complete, without, accessories, and, not, designed, for, use, with, tires, having, a, cross-sectional, diameter, exceeding, 4.13, cm, ;, Bicycles, having, both, wheels, exceeding, 63.5, cm, in, diameter, ;, Other, ;, Bicycles, having, ...]  \n",
       "2  [Bicycles, and, other, cycles, (, including, delivery, tricycles, ), ,, not, motorized, ;, Bicycles, having, both, wheels, not, exceeding, 63.5, cm, in, diameter, ;, Having, both, wheels, not, exceeding, 50, cm, in, diameter, ;, Having, both, wheels, exceeding, 50, cm, but, not, exceeding, 55, cm, in, diameter, ;, Having, both, wheels, exceeding, 55, cm, but, not, exceeding, 63.5, cm, in, diameter, ;, If, weighing, less, than, 16.3, kg, complete, without, accessories, and, not, designed, for, use, with, tires, having, a, cross-sectional, diameter, exceeding, 4.13, cm, ;, Bicycles, having, both, wheels, exceeding, 63.5, cm, in, diameter, ;, Other, ;, Bicycles, having, ...]  \n",
       "3  [Bicycles, and, other, cycles, (, including, delivery, tricycles, ), ,, not, motorized, ;, Bicycles, having, both, wheels, not, exceeding, 63.5, cm, in, diameter, ;, Having, both, wheels, not, exceeding, 50, cm, in, diameter, ;, Having, both, wheels, exceeding, 50, cm, but, not, exceeding, 55, cm, in, diameter, ;, Having, both, wheels, exceeding, 55, cm, but, not, exceeding, 63.5, cm, in, diameter, ;, If, weighing, less, than, 16.3, kg, complete, without, accessories, and, not, designed, for, use, with, tires, having, a, cross-sectional, diameter, exceeding, 4.13, cm, ;, Bicycles, having, both, wheels, exceeding, 63.5, cm, in, diameter, ;, Other, ;, Bicycles, having, ...]  \n",
       "4  [Bicycles, and, other, cycles, (, including, delivery, tricycles, ), ,, not, motorized, ;, Bicycles, having, both, wheels, not, exceeding, 63.5, cm, in, diameter, ;, Having, both, wheels, not, exceeding, 50, cm, in, diameter, ;, Having, both, wheels, exceeding, 50, cm, but, not, exceeding, 55, cm, in, diameter, ;, Having, both, wheels, exceeding, 55, cm, but, not, exceeding, 63.5, cm, in, diameter, ;, If, weighing, less, than, 16.3, kg, complete, without, accessories, and, not, designed, for, use, with, tires, having, a, cross-sectional, diameter, exceeding, 4.13, cm, ;, Bicycles, having, both, wheels, exceeding, 63.5, cm, in, diameter, ;, Other, ;, Bicycles, having, ...]  "
      ]
     },
     "execution_count": 85,
     "metadata": {},
     "output_type": "execute_result"
    }
   ],
   "source": [
    "max_length = 150\n",
    "\n",
    "# Create BERT embeddings for Product Desc and Merged_Description, append to pandas dataframe\n",
    "X_pd = pre_process(import_df_pd, 'Product Desc', max_length)\n",
    "X_pd = pre_process(X_pd, 'Merged_Description', max_length)\n",
    "\n",
    "\n",
    "# Create NLTK embeddings for Product Desc and Merged_Description, append to pandas dataframe\n",
    "X_pd = tokenize(X_pd, 'Product Desc')\n",
    "X_pd = tokenize(X_pd, 'Merged_Description')\n",
    "X_pd.head()\n",
    "\n"
   ]
  },
  {
   "cell_type": "markdown",
   "id": "supposed-drunk",
   "metadata": {},
   "source": [
    "### Create train, dev, and test sets"
   ]
  },
  {
   "cell_type": "code",
   "execution_count": 86,
   "id": "colored-cursor",
   "metadata": {},
   "outputs": [
    {
     "name": "stdout",
     "output_type": "stream",
     "text": [
      "Size of the train set is 4652\n",
      "Size of the dev set is 1163\n",
      "Size of the test set is 1454\n",
      "Size of the train label set is 4652\n",
      "Size of the dev label set is 1163\n",
      "Size of the test label set is 1454\n"
     ]
    }
   ],
   "source": [
    "y_pd = X_pd['HS_Code']\n",
    "\n",
    "# Split once to create the test set\n",
    "X_train, X_test, y_train, y_test = train_test_split(X_pd, y_pd, test_size=0.2, random_state=91)\n",
    "\n",
    "# Re-split the train set to create a dev set\n",
    "X_train, X_dev, y_train, y_dev = train_test_split(X_train, y_train, test_size=0.2, random_state=91)\n",
    "\n",
    "print('Size of the train set is', len(X_train))\n",
    "print('Size of the dev set is', len(X_dev))\n",
    "print('Size of the test set is', len(X_test))\n",
    "print('Size of the train label set is', len(y_train))\n",
    "print('Size of the dev label set is', len(y_dev))\n",
    "print('Size of the test label set is', len(y_test))\n",
    "\n",
    "# 20% to test, 20% to dev and 60% to train\n",
    "\n",
    "# # Set aside a test set\n",
    "# train_df, test_df = train_test_split(import_df, test_size=0.2)\n",
    "\n",
    "# # Split into train and dev sets\n",
    "# train_df, dev_df = train_test_split(train_df, test_size=0.25)\n",
    "\n",
    "# print('Size of train set is', len(train_df.index))\n",
    "# print('Size of dev set is', len(dev_df.index))\n",
    "# print('Size of test set is', len(test_df.index))"
   ]
  },
  {
   "cell_type": "code",
   "execution_count": 131,
   "id": "textile-journalist",
   "metadata": {},
   "outputs": [],
   "source": [
    "def encode_labels(Y):\n",
    "    \"\"\"\n",
    "    Function that takes in a np.array of string categorical labels and returns a one-hot encoded transformation.\n",
    "    \"\"\"\n",
    "    # encode class values as integers\n",
    "    encoder = LabelEncoder()\n",
    "    encoder.fit(Y)\n",
    "    encoded_Y = encoder.transform(Y)\n",
    "    # convert integers to dummy variables (i.e. one hot encoded)\n",
    "    return np_utils.to_categorical(encoded_Y)\n"
   ]
  },
  {
   "cell_type": "markdown",
   "id": "determined-exchange",
   "metadata": {},
   "source": [
    "## Create baseline of predicting the majority class"
   ]
  },
  {
   "cell_type": "code",
   "execution_count": 90,
   "id": "through-offering",
   "metadata": {},
   "outputs": [
    {
     "name": "stdout",
     "output_type": "stream",
     "text": [
      "Accuracy when predicting majority class  0.14058469475494412\n"
     ]
    }
   ],
   "source": [
    "counts = X_train['HS_Code'].value_counts().to_dict()\n",
    "# print(counts)\n",
    "max_value = max(counts.values())\n",
    "print('Accuracy when predicting majority class ', max_value/len(X_train))"
   ]
  },
  {
   "cell_type": "markdown",
   "id": "romantic-combination",
   "metadata": {},
   "source": [
    "## Construct a Naive Bayes model"
   ]
  },
  {
   "cell_type": "markdown",
   "id": "taken-safety",
   "metadata": {},
   "source": [
    "### Use BOW on the words in the Product Desc column"
   ]
  },
  {
   "cell_type": "code",
   "execution_count": 110,
   "id": "welcome-membership",
   "metadata": {},
   "outputs": [],
   "source": [
    "count_vector = CountVectorizer()\n",
    "\n",
    "# fit_transform() creates dictionary and return term-document matrix.\n",
    "X_train_counts = count_vector.fit_transform(X_train['Product Desc'])\n",
    "\n",
    "# Import TfidfTransformer class.\n",
    "# TfidfTransformer transoforms count matrix to tf-idf representation.\n",
    "# from sklearn.feature_extraction.text import TfidfTransformer\n",
    "# tfidf_transformer = TfidfTransformer()\n",
    "\n",
    "# # fit_transform transforms count matrix to tf-idf representation(vector).\n",
    "# X_train_tfidf = tfidf_transformer.fit_transform(X_train_counts)"
   ]
  },
  {
   "cell_type": "code",
   "execution_count": 111,
   "id": "portable-insured",
   "metadata": {},
   "outputs": [],
   "source": [
    "clf1 = MultinomialNB().fit(X_train_counts, y_train)"
   ]
  },
  {
   "cell_type": "code",
   "execution_count": 112,
   "id": "organizational-launch",
   "metadata": {},
   "outputs": [],
   "source": [
    "X_new_counts = count_vector.transform(X_dev['Product Desc'])\n",
    "# X_new_tfidf = tfidf_transformer.transform(X_new_counts)\n",
    "\n",
    "# Execute prediction(classification).\n",
    "predicted = clf1.predict(X_new_counts)"
   ]
  },
  {
   "cell_type": "code",
   "execution_count": 113,
   "id": "accurate-uzbekistan",
   "metadata": {},
   "outputs": [
    {
     "name": "stdout",
     "output_type": "stream",
     "text": [
      "F1 score: 0.7651759565900171\n",
      "Precision: 0.8856018846894915\n",
      "Recall: 0.740952787196162\n"
     ]
    }
   ],
   "source": [
    "print('F1 score:', f1_score(y_dev, predicted, average=\"macro\"))\n",
    "print('Precision:', precision_score(y_dev, predicted, average=\"macro\"))\n",
    "print('Recall:', recall_score(y_dev, predicted, average=\"macro\")) "
   ]
  },
  {
   "cell_type": "code",
   "execution_count": 115,
   "id": "southwest-description",
   "metadata": {},
   "outputs": [
    {
     "data": {
      "text/plain": [
       "<Figure size 2160x2160 with 0 Axes>"
      ]
     },
     "metadata": {},
     "output_type": "display_data"
    },
    {
     "data": {
      "image/png": "[encoded data removed]",
      "text/plain": [
       "<Figure size 432x288 with 2 Axes>"
      ]
     },
     "metadata": {
      "needs_background": "light"
     },
     "output_type": "display_data"
    }
   ],
   "source": [
    "plt.figure(figsize=(30,30))\n",
    "plot_confusion_matrix(clf1, X_new_counts, y_dev)\n",
    "\n",
    "plt.show()"
   ]
  },
  {
   "cell_type": "code",
   "execution_count": null,
   "id": "behind-maple",
   "metadata": {},
   "outputs": [],
   "source": []
  },
  {
   "cell_type": "markdown",
   "id": "informative-demand",
   "metadata": {},
   "source": [
    "### Use TF-IDF on the words in the Product Desc column"
   ]
  },
  {
   "cell_type": "code",
   "execution_count": 116,
   "id": "inner-chocolate",
   "metadata": {},
   "outputs": [],
   "source": [
    "from sklearn.feature_extraction.text import CountVectorizer\n",
    "count_vector = CountVectorizer()\n",
    "\n",
    "# fit_transform() creates dictionary and return term-document matrix.\n",
    "X_train_counts = count_vector.fit_transform(X_train['Product Desc'])\n",
    "\n",
    "# Import TfidfTransformer class.\n",
    "# TfidfTransformer transoforms count matrix to tf-idf representation.\n",
    "from sklearn.feature_extraction.text import TfidfTransformer\n",
    "tfidf_transformer = TfidfTransformer()\n",
    "\n",
    "# fit_transform transforms count matrix to tf-idf representation(vector).\n",
    "X_train_tfidf = tfidf_transformer.fit_transform(X_train_counts)"
   ]
  },
  {
   "cell_type": "code",
   "execution_count": 117,
   "id": "systematic-surprise",
   "metadata": {},
   "outputs": [],
   "source": [
    "# Create model(naive bayes) and training. \n",
    "from sklearn.naive_bayes import MultinomialNB\n",
    "clf2 = MultinomialNB().fit(X_train_tfidf, y_train)"
   ]
  },
  {
   "cell_type": "code",
   "execution_count": 118,
   "id": "fantastic-girlfriend",
   "metadata": {},
   "outputs": [],
   "source": [
    "# Create predictions\n",
    "# Transfroming.\n",
    "X_new_counts = count_vector.transform(X_dev['Product Desc'])\n",
    "X_new_tfidf = tfidf_transformer.transform(X_new_counts)\n",
    "\n",
    "# Execute prediction(classification).\n",
    "predicted = clf2.predict(X_new_tfidf)"
   ]
  },
  {
   "cell_type": "code",
   "execution_count": 119,
   "id": "expanded-comment",
   "metadata": {},
   "outputs": [
    {
     "name": "stdout",
     "output_type": "stream",
     "text": [
      "F1 score: 0.7214781904158322\n",
      "Precision: 0.786120075617971\n",
      "Recall: 0.7039825812904661\n"
     ]
    }
   ],
   "source": [
    "print('F1 score:', f1_score(y_dev, predicted, average=\"macro\"))\n",
    "print('Precision:', precision_score(y_dev, predicted, average=\"macro\"))\n",
    "print('Recall:', recall_score(y_dev, predicted, average=\"macro\")) "
   ]
  },
  {
   "cell_type": "code",
   "execution_count": 120,
   "id": "crazy-constitutional",
   "metadata": {},
   "outputs": [
    {
     "data": {
      "text/plain": [
       "array([[129,   3,   1,   0,   3,  17,   2,   0,   0,   8],\n",
       "       [  1, 122,   0,   0,   1,   0,   1,   0,   0,   4],\n",
       "       [  0,   7, 129,   0,   1,   4,   0,   0,   0,   3],\n",
       "       [ 11,   1,   5,  19,   1,   2,   0,   0,   0,  12],\n",
       "       [  2,   1,   3,   0, 147,   8,   2,   0,   0,   4],\n",
       "       [  1,   2,   0,   0,   2, 156,   1,   0,   0,   4],\n",
       "       [ 13,   5,   0,   0,   0,   4,  83,   0,   0,   2],\n",
       "       [  1,   1,   0,   0,   1,   0,   0,   0,   0,   5],\n",
       "       [  1,   2,   2,   0,   5,   5,   0,   0,  31,  11],\n",
       "       [  4,   4,   6,   0,   0,   3,   1,   0,   0, 153]])"
      ]
     },
     "execution_count": 120,
     "metadata": {},
     "output_type": "execute_result"
    }
   ],
   "source": [
    "cm = confusion_matrix(y_dev, predicted)\n",
    "cm"
   ]
  },
  {
   "cell_type": "code",
   "execution_count": 122,
   "id": "superior-underwear",
   "metadata": {},
   "outputs": [
    {
     "data": {
      "text/plain": [
       "<Figure size 2160x2160 with 0 Axes>"
      ]
     },
     "metadata": {},
     "output_type": "display_data"
    },
    {
     "data": {
      "image/png": "[encoded data removed]",
      "text/plain": [
       "<Figure size 432x288 with 2 Axes>"
      ]
     },
     "metadata": {
      "needs_background": "light"
     },
     "output_type": "display_data"
    }
   ],
   "source": [
    "# Plot non-normalized confusion matrix\n",
    "from sklearn.metrics import plot_confusion_matrix\n",
    "\n",
    "plt.figure(figsize=(30,30))\n",
    "plot_confusion_matrix(clf2, X_new_tfidf, y_dev)\n",
    "\n",
    "plt.show()"
   ]
  },
  {
   "cell_type": "markdown",
   "id": "exciting-storm",
   "metadata": {},
   "source": [
    "### Use BOW on the Merged Description field"
   ]
  },
  {
   "cell_type": "code",
   "execution_count": 123,
   "id": "random-heather",
   "metadata": {},
   "outputs": [],
   "source": [
    "# fit_transform() creates dictionary and return term-document matrix.\n",
    "X_train_counts = count_vector.fit_transform(X_train['Merged_Description'])\n",
    "\n",
    "# # Import TfidfTransformer class.\n",
    "# # TfidfTransformer transoforms count matrix to tf-idf representation.\n",
    "# from sklearn.feature_extraction.text import TfidfTransformer\n",
    "# tfidf_transformer = TfidfTransformer()\n",
    "\n",
    "# # fit_transform transforms count matrix to tf-idf representation(vector).\n",
    "# X_train_tfidf = tfidf_transformer.fit_transform(X_train_counts)"
   ]
  },
  {
   "cell_type": "code",
   "execution_count": 124,
   "id": "emerging-floor",
   "metadata": {},
   "outputs": [],
   "source": [
    "# Create model(naive bayes) and training. \n",
    "from sklearn.naive_bayes import MultinomialNB\n",
    "clf3 = MultinomialNB().fit(X_train_counts, y_train)"
   ]
  },
  {
   "cell_type": "code",
   "execution_count": 125,
   "id": "gross-treasurer",
   "metadata": {},
   "outputs": [],
   "source": [
    "# Create predictions\n",
    "# Transfroming.\n",
    "X_new_counts = count_vector.transform(X_dev['Merged_Description'])\n",
    "# X_new_tfidf = tfidf_transformer.transform(X_new_counts)\n",
    "\n",
    "# Execute prediction(classification).\n",
    "predicted = clf3.predict(X_new_counts)"
   ]
  },
  {
   "cell_type": "code",
   "execution_count": 126,
   "id": "opening-radio",
   "metadata": {},
   "outputs": [
    {
     "name": "stdout",
     "output_type": "stream",
     "text": [
      "F1 score: 0.8969924812030076\n",
      "Precision: 0.8941605839416059\n",
      "Recall: 0.9\n"
     ]
    }
   ],
   "source": [
    "print('F1 score:', f1_score(y_dev, predicted, average=\"macro\"))\n",
    "print('Precision:', precision_score(y_dev, predicted, average=\"macro\"))\n",
    "print('Recall:', recall_score(y_dev, predicted, average=\"macro\")) "
   ]
  },
  {
   "cell_type": "code",
   "execution_count": 128,
   "id": "laughing-czech",
   "metadata": {},
   "outputs": [
    {
     "data": {
      "text/plain": [
       "<Figure size 2160x2160 with 0 Axes>"
      ]
     },
     "metadata": {},
     "output_type": "display_data"
    },
    {
     "data": {
      "image/png": "[encoded data removed]",
      "text/plain": [
       "<Figure size 432x288 with 2 Axes>"
      ]
     },
     "metadata": {
      "needs_background": "light"
     },
     "output_type": "display_data"
    }
   ],
   "source": [
    "# Plot non-normalized confusion matrix\n",
    "from sklearn.metrics import plot_confusion_matrix\n",
    "\n",
    "plt.figure(figsize=(30,30))\n",
    "plot_confusion_matrix(clf3, X_new_counts, y_dev)\n",
    "\n",
    "plt.show()"
   ]
  },
  {
   "cell_type": "markdown",
   "id": "wrong-europe",
   "metadata": {},
   "source": [
    "### Use TF-IDF on the Merged Description field"
   ]
  },
  {
   "cell_type": "code",
   "execution_count": 103,
   "id": "rising-density",
   "metadata": {},
   "outputs": [],
   "source": [
    "# fit_transform() creates dictionary and return term-document matrix.\n",
    "X_train_counts = count_vector.fit_transform(X_train['Merged_Description'])\n",
    "\n",
    "# Import TfidfTransformer class.\n",
    "# TfidfTransformer transoforms count matrix to tf-idf representation.\n",
    "from sklearn.feature_extraction.text import TfidfTransformer\n",
    "tfidf_transformer = TfidfTransformer()\n",
    "\n",
    "# fit_transform transforms count matrix to tf-idf representation(vector).\n",
    "X_train_tfidf = tfidf_transformer.fit_transform(X_train_counts)"
   ]
  },
  {
   "cell_type": "code",
   "execution_count": 104,
   "id": "sporting-bahamas",
   "metadata": {},
   "outputs": [],
   "source": [
    "# Create model(naive bayes) and training. \n",
    "from sklearn.naive_bayes import MultinomialNB\n",
    "clf2 = MultinomialNB().fit(X_train_tfidf, y_train)"
   ]
  },
  {
   "cell_type": "code",
   "execution_count": 105,
   "id": "surrounded-neighbor",
   "metadata": {},
   "outputs": [],
   "source": [
    "# Create predictions\n",
    "# Transfroming.\n",
    "X_new_counts = count_vector.transform(X_dev['Merged_Description'])\n",
    "X_new_tfidf = tfidf_transformer.transform(X_new_counts)\n",
    "\n",
    "# Execute prediction(classification).\n",
    "predicted = clf2.predict(X_new_tfidf)"
   ]
  },
  {
   "cell_type": "code",
   "execution_count": 106,
   "id": "framed-dealing",
   "metadata": {},
   "outputs": [
    {
     "name": "stdout",
     "output_type": "stream",
     "text": [
      "F1 score: 0.8969924812030076\n",
      "Precision: 0.8941605839416059\n",
      "Recall: 0.9\n"
     ]
    }
   ],
   "source": [
    "print('F1 score:', f1_score(y_dev, predicted, average=\"macro\"))\n",
    "print('Precision:', precision_score(y_dev, predicted, average=\"macro\"))\n",
    "print('Recall:', recall_score(y_dev, predicted, average=\"macro\")) "
   ]
  },
  {
   "cell_type": "code",
   "execution_count": 107,
   "id": "nasty-nigeria",
   "metadata": {},
   "outputs": [
    {
     "data": {
      "text/plain": [
       "<Figure size 2160x2160 with 0 Axes>"
      ]
     },
     "metadata": {},
     "output_type": "display_data"
    },
    {
     "data": {
      "image/png": "[encoded data removed]",
      "text/plain": [
       "<Figure size 432x288 with 2 Axes>"
      ]
     },
     "metadata": {
      "needs_background": "light"
     },
     "output_type": "display_data"
    }
   ],
   "source": [
    "# Plot non-normalized confusion matrix\n",
    "from sklearn.metrics import plot_confusion_matrix\n",
    "\n",
    "plt.figure(figsize=(30,30))\n",
    "plot_confusion_matrix(clf2, X_new_tfidf, y_dev)\n",
    "\n",
    "plt.show()"
   ]
  },
  {
   "cell_type": "code",
   "execution_count": 108,
   "id": "orange-parade",
   "metadata": {},
   "outputs": [
    {
     "data": {
      "text/plain": [
       "array([[163,   0,   0,   0,   0,   0,   0,   0,   0,   0],\n",
       "       [  0, 129,   0,   0,   0,   0,   0,   0,   0,   0],\n",
       "       [  0,   0, 144,   0,   0,   0,   0,   0,   0,   0],\n",
       "       [  0,   0,   0,  51,   0,   0,   0,   0,   0,   0],\n",
       "       [  0,   0,   0,   0, 167,   0,   0,   0,   0,   0],\n",
       "       [  0,   0,   0,   0,   0, 166,   0,   0,   0,   0],\n",
       "       [  0,   0,   0,   0,   0,   0, 107,   0,   0,   0],\n",
       "       [  0,   8,   0,   0,   0,   0,   0,   0,   0,   0],\n",
       "       [  0,   0,   0,   0,   0,   0,   0,   0,  57,   0],\n",
       "       [  0,   0,   0,   0,   0,   0,   0,   0,   0, 171]])"
      ]
     },
     "execution_count": 108,
     "metadata": {},
     "output_type": "execute_result"
    }
   ],
   "source": [
    "cm = confusion_matrix(y_dev, predicted)\n",
    "cm"
   ]
  },
  {
   "cell_type": "markdown",
   "id": "appointed-input",
   "metadata": {},
   "source": [
    "### Use the BERT embeddings in the Product Desc column"
   ]
  },
  {
   "cell_type": "code",
   "execution_count": 81,
   "id": "above-button",
   "metadata": {},
   "outputs": [
    {
     "data": {
      "text/html": [
       "<div>\n",
       "<style scoped>\n",
       "    .dataframe tbody tr th:only-of-type {\n",
       "        vertical-align: middle;\n",
       "    }\n",
       "\n",
       "    .dataframe tbody tr th {\n",
       "        vertical-align: top;\n",
       "    }\n",
       "\n",
       "    .dataframe thead th {\n",
       "        text-align: right;\n",
       "    }\n",
       "</style>\n",
       "<table border=\"1\" class=\"dataframe\">\n",
       "  <thead>\n",
       "    <tr style=\"text-align: right;\">\n",
       "      <th></th>\n",
       "      <th>Product Desc</th>\n",
       "      <th>Merged_Description</th>\n",
       "      <th>HS_Code</th>\n",
       "      <th>BERTProduct Desc</th>\n",
       "      <th>BERTMerged_Description</th>\n",
       "      <th>NLTKProduct Desc</th>\n",
       "      <th>NLTKMerged_Description</th>\n",
       "    </tr>\n",
       "  </thead>\n",
       "  <tbody>\n",
       "    <tr>\n",
       "      <th>4568</th>\n",
       "      <td>GEAR REAR PTO IDLER GEAR HUB&lt;br/&gt;</td>\n",
       "      <td>Parts and accessories of vehicles of headings 8711 to 8713 ;Other ;Hubs, other than coaster braking hubs and hub brakes, and free-wheel sprocket-wheels ;Aluminum alloy hubs with a hollow axle and lever-operated quick release mechanism;Hubs ;Three speed;Variable speed (except three speed) with internal gear changing mechanisms ;Two speed;Other;Free-wheel sprocket-wheels;Multiple free-wheel sprockets</td>\n",
       "      <td>871493</td>\n",
       "      <td>[, 6, 7, 1, 8, ,,  , 4, 3, 7, 3, ,,  , 1, 3, 8, 6, 6, ,,  , 2, 0, 8, 0, ,,  , 1, 8, 3, 7, 3, ,,  , 2, 0, 9, 9, ,,  , 6, 7, 1, 8, ,,  , 9, 5, 9, 4, ,,  , 1, 0, 2, 6, ,,  , 7, 9, 8, 7, ,,  , 1, 0, 1, 3, ,,  , 1, 0, 2, 8, ]</td>\n",
       "      <td>[3033, 1998, 16611, 1997, 4683, 1997, 5825, 2015, 6584, 14526, 2000, 6584, 17134, 1025, 2060, 1025, 9594, 2015, 1010, 2060, 2084, 16817, 24427, 9594, 2015, 1998, 9594, 13627, 1010, 1998, 2489, 1011, 5217, 11867, 16901, 3388, 1011, 7787, 1025, 13061, 17564, 9594, 2015, 2007, 1037, 8892, 17290, 1998, 15929, 1011, 3498, 4248, 2713, 7337, 1025, 9594, 2015, 1025, 2093, 3177, 1025, 8023, 3177, 1006, 3272, 2093, 3177, 1007, 2007, 4722, 6718, 5278, 10595, 1025, 2048, 3177, 1025, 2060, 1025, 2489, 1011, 5217, 11867, 16901, 3388, 1011, 7787, 1025, 3674, 2489, 1011, 5217, 11867, 16901, 8454]</td>\n",
       "      <td>[GEAR, REAR, PTO, IDLER, GEAR, HUB, &lt;, br/, &gt;]</td>\n",
       "      <td>[Parts, and, accessories, of, vehicles, of, headings, 8711, to, 8713, ;, Other, ;, Hubs, ,, other, than, coaster, braking, hubs, and, hub, brakes, ,, and, free-wheel, sprocket-wheels, ;, Aluminum, alloy, hubs, with, a, hollow, axle, and, lever-operated, quick, release, mechanism, ;, Hubs, ;, Three, speed, ;, Variable, speed, (, except, three, speed, ), with, internal, gear, changing, mechanisms, ;, Two, speed, ;, Other, ;, Free-wheel, sprocket-wheels, ;, Multiple, free-wheel, sprockets]</td>\n",
       "    </tr>\n",
       "    <tr>\n",
       "      <th>1585</th>\n",
       "      <td>NEW MOTORCYCLE EXHAUST PARTS HS CODE:871410 24 CAR</td>\n",
       "      <td>Parts and accessories of vehicles of headings 8711 to 8713 ;Of motorcycles (including mopeds);Saddles and seats;Wheels;Other</td>\n",
       "      <td>871410</td>\n",
       "      <td>[, 2, 0, 4, 7, ,,  , 9, 0, 5, 5, ,,  , 1, 5, 0, 9, 5, ,,  , 3, 0, 3, 3, ,,  , 2, 6, 2, 3, 6, ,,  , 3, 6, 4, 2, ,,  , 1, 0, 2, 4, ,,  , 6, 5, 8, 4, ,,  , 1, 6, 9, 3, 2, ,,  , 1, 0, 7, 9, 0, ,,  , 2, 4, 8, 4, ,,  , 2, 4, 8, 2, ]</td>\n",
       "      <td>[3033, 1998, 16611, 1997, 4683, 1997, 5825, 2015, 6584, 14526, 2000, 6584, 17134, 1025, 1997, 18580, 1006, 2164, 9587, 5669, 2015, 1007, 1025, 12279, 2015, 1998, 4272, 1025, 7787, 1025, 2060]</td>\n",
       "      <td>[NEW, MOTORCYCLE, EXHAUST, PARTS, HS, CODE:871410, 24, CAR]</td>\n",
       "      <td>[Parts, and, accessories, of, vehicles, of, headings, 8711, to, 8713, ;, Of, motorcycles, (, including, mopeds, ), ;, Saddles, and, seats, ;, Wheels, ;, Other]</td>\n",
       "    </tr>\n",
       "    <tr>\n",
       "      <th>2161</th>\n",
       "      <td>AUTOMOTIVE PARTS &amp; ACCESSORIES INVOICE#JF1080529BX</td>\n",
       "      <td>Parts and accessories of vehicles of headings 8711 to 8713 ;Of carriages for disabled persons</td>\n",
       "      <td>871420</td>\n",
       "      <td>[, 1, 2, 9, 4, 5, ,,  , 3, 0, 3, 3, ,,  , 1, 0, 0, 4, ,,  , 1, 6, 6, 1, 1, ,,  , 1, 9, 9, 9, ,,  , 6, 7, 6, 7, ,,  , 6, 6, 1, 0, ,,  , 1, 0, 0, 1, ,,  , 1, 0, 4, 6, ,,  , 2, 5, 4, 6, ,,  , 1, 0, 7, 9, 0, ,,  , 1, 7, 9, 1, 4, ,,  , 2, 5, 7, 4, 6, ,,  , 2, 6, 8, 3, ,,  , 2, 4, 9, 7, ,,  , 2, 5, 9, 5, ]</td>\n",
       "      <td>[3033, 1998, 16611, 1997, 4683, 1997, 5825, 2015, 6584, 14526, 2000, 6584, 17134, 1025, 1997, 17744, 2005, 9776, 5381]</td>\n",
       "      <td>[AUTOMOTIVE, PARTS, &amp;, ACCESSORIES, INVOICE, #, JF1080529BX]</td>\n",
       "      <td>[Parts, and, accessories, of, vehicles, of, headings, 8711, to, 8713, ;, Of, carriages, for, disabled, persons]</td>\n",
       "    </tr>\n",
       "    <tr>\n",
       "      <th>3754</th>\n",
       "      <td>FRAME FORK BRAKE PEDAL RIMTYRE SPOKES SADDLE&lt;br/&gt;</td>\n",
       "      <td>Parts and accessories of vehicles of headings 8711 to 8713 ;Other ;Wheel rims and spokes ;Wheel rims;Spokes</td>\n",
       "      <td>871492</td>\n",
       "      <td>[, 4, 8, 5, 3, ,,  , 9, 2, 9, 2, ,,  , 1, 3, 4, 2, 8, ,,  , 1, 5, 7, 4, 9, ,,  , 1, 1, 4, 1, 8, ,,  , 3, 7, 2, 3, ,,  , 2, 8, 9, 0, ,,  , 3, 7, 6, 4, ,,  , 2, 0, 1, 5, ,,  , 1, 2, 2, 7, 9, ,,  , 1, 0, 2, 6, ,,  , 7, 9, 8, 7, ,,  , 1, 0, 1, 3, ,,  , 1, 0, 2, 8, ]</td>\n",
       "      <td>[3033, 1998, 16611, 1997, 4683, 1997, 5825, 2015, 6584, 14526, 2000, 6584, 17134, 1025, 2060, 1025, 5217, 11418, 2015, 1998, 3764, 2015, 1025, 5217, 11418, 2015, 1025, 3764, 2015]</td>\n",
       "      <td>[FRAME, FORK, BRAKE, PEDAL, RIMTYRE, SPOKES, SADDLE, &lt;, br/, &gt;]</td>\n",
       "      <td>[Parts, and, accessories, of, vehicles, of, headings, 8711, to, 8713, ;, Other, ;, Wheel, rims, and, spokes, ;, Wheel, rims, ;, Spokes]</td>\n",
       "    </tr>\n",
       "    <tr>\n",
       "      <th>1727</th>\n",
       "      <td>185 CARTONS INTO 25 PALLETS + 130 LOOSE CARTONS MO</td>\n",
       "      <td>Parts and accessories of vehicles of headings 8711 to 8713 ;Of motorcycles (including mopeds);Saddles and seats;Wheels;Other</td>\n",
       "      <td>871410</td>\n",
       "      <td>[, 1, 5, 3, 7, 6, ,,  , 1, 1, 1, 2, 2, ,,  , 5, 6, 4, 4, ,,  , 2, 0, 4, 6, ,,  , 2, 4, 2, 3, ,,  , 1, 4, 4, 1, 2, ,,  , 1, 3, 4, 6, 1, ,,  , 1, 0, 0, 9, ,,  , 7, 5, 5, 8, ,,  , 6, 0, 6, 5, ,,  , 1, 1, 1, 2, 2, ,,  , 5, 6, 4, 4, ,,  , 9, 5, 8, 7, ]</td>\n",
       "      <td>[3033, 1998, 16611, 1997, 4683, 1997, 5825, 2015, 6584, 14526, 2000, 6584, 17134, 1025, 1997, 18580, 1006, 2164, 9587, 5669, 2015, 1007, 1025, 12279, 2015, 1998, 4272, 1025, 7787, 1025, 2060]</td>\n",
       "      <td>[185, CARTONS, INTO, 25, PALLETS, +, 130, LOOSE, CARTONS, MO]</td>\n",
       "      <td>[Parts, and, accessories, of, vehicles, of, headings, 8711, to, 8713, ;, Of, motorcycles, (, including, mopeds, ), ;, Saddles, and, seats, ;, Wheels, ;, Other]</td>\n",
       "    </tr>\n",
       "  </tbody>\n",
       "</table>\n",
       "</div>"
      ],
      "text/plain": [
       "                                            Product Desc  \\\n",
       "4568  GEAR REAR PTO IDLER GEAR HUB<br/>                    \n",
       "1585  NEW MOTORCYCLE EXHAUST PARTS HS CODE:871410 24 CAR   \n",
       "2161  AUTOMOTIVE PARTS & ACCESSORIES INVOICE#JF1080529BX   \n",
       "3754  FRAME FORK BRAKE PEDAL RIMTYRE SPOKES SADDLE<br/>    \n",
       "1727  185 CARTONS INTO 25 PALLETS + 130 LOOSE CARTONS MO   \n",
       "\n",
       "                                                                                                                                                                                                                                                                                                                                                                                                     Merged_Description  \\\n",
       "4568  Parts and accessories of vehicles of headings 8711 to 8713 ;Other ;Hubs, other than coaster braking hubs and hub brakes, and free-wheel sprocket-wheels ;Aluminum alloy hubs with a hollow axle and lever-operated quick release mechanism;Hubs ;Three speed;Variable speed (except three speed) with internal gear changing mechanisms ;Two speed;Other;Free-wheel sprocket-wheels;Multiple free-wheel sprockets   \n",
       "1585  Parts and accessories of vehicles of headings 8711 to 8713 ;Of motorcycles (including mopeds);Saddles and seats;Wheels;Other                                                                                                                                                                                                                                                                                        \n",
       "2161  Parts and accessories of vehicles of headings 8711 to 8713 ;Of carriages for disabled persons                                                                                                                                                                                                                                                                                                                       \n",
       "3754  Parts and accessories of vehicles of headings 8711 to 8713 ;Other ;Wheel rims and spokes ;Wheel rims;Spokes                                                                                                                                                                                                                                                                                                         \n",
       "1727  Parts and accessories of vehicles of headings 8711 to 8713 ;Of motorcycles (including mopeds);Saddles and seats;Wheels;Other                                                                                                                                                                                                                                                                                        \n",
       "\n",
       "     HS_Code  \\\n",
       "4568  871493   \n",
       "1585  871410   \n",
       "2161  871420   \n",
       "3754  871492   \n",
       "1727  871410   \n",
       "\n",
       "                                                                                                                                                                                                                                                                                                   BERTProduct Desc  \\\n",
       "4568  [, 6, 7, 1, 8, ,,  , 4, 3, 7, 3, ,,  , 1, 3, 8, 6, 6, ,,  , 2, 0, 8, 0, ,,  , 1, 8, 3, 7, 3, ,,  , 2, 0, 9, 9, ,,  , 6, 7, 1, 8, ,,  , 9, 5, 9, 4, ,,  , 1, 0, 2, 6, ,,  , 7, 9, 8, 7, ,,  , 1, 0, 1, 3, ,,  , 1, 0, 2, 8, ]                                                                                    \n",
       "1585  [, 2, 0, 4, 7, ,,  , 9, 0, 5, 5, ,,  , 1, 5, 0, 9, 5, ,,  , 3, 0, 3, 3, ,,  , 2, 6, 2, 3, 6, ,,  , 3, 6, 4, 2, ,,  , 1, 0, 2, 4, ,,  , 6, 5, 8, 4, ,,  , 1, 6, 9, 3, 2, ,,  , 1, 0, 7, 9, 0, ,,  , 2, 4, 8, 4, ,,  , 2, 4, 8, 2, ]                                                                              \n",
       "2161  [, 1, 2, 9, 4, 5, ,,  , 3, 0, 3, 3, ,,  , 1, 0, 0, 4, ,,  , 1, 6, 6, 1, 1, ,,  , 1, 9, 9, 9, ,,  , 6, 7, 6, 7, ,,  , 6, 6, 1, 0, ,,  , 1, 0, 0, 1, ,,  , 1, 0, 4, 6, ,,  , 2, 5, 4, 6, ,,  , 1, 0, 7, 9, 0, ,,  , 1, 7, 9, 1, 4, ,,  , 2, 5, 7, 4, 6, ,,  , 2, 6, 8, 3, ,,  , 2, 4, 9, 7, ,,  , 2, 5, 9, 5, ]   \n",
       "3754  [, 4, 8, 5, 3, ,,  , 9, 2, 9, 2, ,,  , 1, 3, 4, 2, 8, ,,  , 1, 5, 7, 4, 9, ,,  , 1, 1, 4, 1, 8, ,,  , 3, 7, 2, 3, ,,  , 2, 8, 9, 0, ,,  , 3, 7, 6, 4, ,,  , 2, 0, 1, 5, ,,  , 1, 2, 2, 7, 9, ,,  , 1, 0, 2, 6, ,,  , 7, 9, 8, 7, ,,  , 1, 0, 1, 3, ,,  , 1, 0, 2, 8, ]                                          \n",
       "1727  [, 1, 5, 3, 7, 6, ,,  , 1, 1, 1, 2, 2, ,,  , 5, 6, 4, 4, ,,  , 2, 0, 4, 6, ,,  , 2, 4, 2, 3, ,,  , 1, 4, 4, 1, 2, ,,  , 1, 3, 4, 6, 1, ,,  , 1, 0, 0, 9, ,,  , 7, 5, 5, 8, ,,  , 6, 0, 6, 5, ,,  , 1, 1, 1, 2, 2, ,,  , 5, 6, 4, 4, ,,  , 9, 5, 8, 7, ]                                                         \n",
       "\n",
       "                                                                                                                                                                                                                                                                                                                                                                                                                                                                                                                                                                                           BERTMerged_Description  \\\n",
       "4568  [3033, 1998, 16611, 1997, 4683, 1997, 5825, 2015, 6584, 14526, 2000, 6584, 17134, 1025, 2060, 1025, 9594, 2015, 1010, 2060, 2084, 16817, 24427, 9594, 2015, 1998, 9594, 13627, 1010, 1998, 2489, 1011, 5217, 11867, 16901, 3388, 1011, 7787, 1025, 13061, 17564, 9594, 2015, 2007, 1037, 8892, 17290, 1998, 15929, 1011, 3498, 4248, 2713, 7337, 1025, 9594, 2015, 1025, 2093, 3177, 1025, 8023, 3177, 1006, 3272, 2093, 3177, 1007, 2007, 4722, 6718, 5278, 10595, 1025, 2048, 3177, 1025, 2060, 1025, 2489, 1011, 5217, 11867, 16901, 3388, 1011, 7787, 1025, 3674, 2489, 1011, 5217, 11867, 16901, 8454]   \n",
       "1585  [3033, 1998, 16611, 1997, 4683, 1997, 5825, 2015, 6584, 14526, 2000, 6584, 17134, 1025, 1997, 18580, 1006, 2164, 9587, 5669, 2015, 1007, 1025, 12279, 2015, 1998, 4272, 1025, 7787, 1025, 2060]                                                                                                                                                                                                                                                                                                                                                                                                               \n",
       "2161  [3033, 1998, 16611, 1997, 4683, 1997, 5825, 2015, 6584, 14526, 2000, 6584, 17134, 1025, 1997, 17744, 2005, 9776, 5381]                                                                                                                                                                                                                                                                                                                                                                                                                                                                                        \n",
       "3754  [3033, 1998, 16611, 1997, 4683, 1997, 5825, 2015, 6584, 14526, 2000, 6584, 17134, 1025, 2060, 1025, 5217, 11418, 2015, 1998, 3764, 2015, 1025, 5217, 11418, 2015, 1025, 3764, 2015]                                                                                                                                                                                                                                                                                                                                                                                                                           \n",
       "1727  [3033, 1998, 16611, 1997, 4683, 1997, 5825, 2015, 6584, 14526, 2000, 6584, 17134, 1025, 1997, 18580, 1006, 2164, 9587, 5669, 2015, 1007, 1025, 12279, 2015, 1998, 4272, 1025, 7787, 1025, 2060]                                                                                                                                                                                                                                                                                                                                                                                                               \n",
       "\n",
       "                                                     NLTKProduct Desc  \\\n",
       "4568  [GEAR, REAR, PTO, IDLER, GEAR, HUB, <, br/, >]                    \n",
       "1585  [NEW, MOTORCYCLE, EXHAUST, PARTS, HS, CODE:871410, 24, CAR]       \n",
       "2161  [AUTOMOTIVE, PARTS, &, ACCESSORIES, INVOICE, #, JF1080529BX]      \n",
       "3754  [FRAME, FORK, BRAKE, PEDAL, RIMTYRE, SPOKES, SADDLE, <, br/, >]   \n",
       "1727  [185, CARTONS, INTO, 25, PALLETS, +, 130, LOOSE, CARTONS, MO]     \n",
       "\n",
       "                                                                                                                                                                                                                                                                                                                                                                                                                                                                                           NLTKMerged_Description  \n",
       "4568  [Parts, and, accessories, of, vehicles, of, headings, 8711, to, 8713, ;, Other, ;, Hubs, ,, other, than, coaster, braking, hubs, and, hub, brakes, ,, and, free-wheel, sprocket-wheels, ;, Aluminum, alloy, hubs, with, a, hollow, axle, and, lever-operated, quick, release, mechanism, ;, Hubs, ;, Three, speed, ;, Variable, speed, (, except, three, speed, ), with, internal, gear, changing, mechanisms, ;, Two, speed, ;, Other, ;, Free-wheel, sprocket-wheels, ;, Multiple, free-wheel, sprockets]  \n",
       "1585  [Parts, and, accessories, of, vehicles, of, headings, 8711, to, 8713, ;, Of, motorcycles, (, including, mopeds, ), ;, Saddles, and, seats, ;, Wheels, ;, Other]                                                                                                                                                                                                                                                                                                                                              \n",
       "2161  [Parts, and, accessories, of, vehicles, of, headings, 8711, to, 8713, ;, Of, carriages, for, disabled, persons]                                                                                                                                                                                                                                                                                                                                                                                              \n",
       "3754  [Parts, and, accessories, of, vehicles, of, headings, 8711, to, 8713, ;, Other, ;, Wheel, rims, and, spokes, ;, Wheel, rims, ;, Spokes]                                                                                                                                                                                                                                                                                                                                                                      \n",
       "1727  [Parts, and, accessories, of, vehicles, of, headings, 8711, to, 8713, ;, Of, motorcycles, (, including, mopeds, ), ;, Saddles, and, seats, ;, Wheels, ;, Other]                                                                                                                                                                                                                                                                                                                                              "
      ]
     },
     "execution_count": 81,
     "metadata": {},
     "output_type": "execute_result"
    }
   ],
   "source": [
    "# Convert the embedding column from list to string\n",
    "X_train['BERTProduct Desc'] = X_train['BERTProduct Desc'].apply(str).apply(', '.join)\n",
    "X_train.head()"
   ]
  },
  {
   "cell_type": "code",
   "execution_count": null,
   "id": "medieval-syntax",
   "metadata": {},
   "outputs": [],
   "source": [
    "count_vector = CountVectorizer()\n",
    "\n",
    "# fit_transform() creates dictionary and return term-document matrix.\n",
    "X_train_counts = count_vector.fit_transform(X_train['Product Desc'])\n",
    "\n",
    "# Import TfidfTransformer class.\n",
    "# TfidfTransformer transoforms count matrix to tf-idf representation.\n",
    "from sklearn.feature_extraction.text import TfidfTransformer\n",
    "tfidf_transformer = TfidfTransformer()\n",
    "\n",
    "# fit_transform transforms count matrix to tf-idf representation(vector).\n",
    "X_train_tfidf = tfidf_transformer.fit_transform(X_train_counts)"
   ]
  },
  {
   "cell_type": "code",
   "execution_count": null,
   "id": "buried-maldives",
   "metadata": {},
   "outputs": [],
   "source": [
    "# Create model(naive bayes) and training. \n",
    "from sklearn.naive_bayes import MultinomialNB\n",
    "clf = MultinomialNB().fit(X_train_tfidf, y_train)"
   ]
  },
  {
   "cell_type": "code",
   "execution_count": null,
   "id": "chubby-clear",
   "metadata": {},
   "outputs": [],
   "source": [
    "# Create predictions\n",
    "# Transfroming.\n",
    "X_new_counts = count_vector.transform(X_dev['Product Desc'])\n",
    "X_new_tfidf = tfidf_transformer.transform(X_new_counts)\n",
    "\n",
    "# Execute prediction(classification).\n",
    "predicted = clf.predict(X_new_tfidf)"
   ]
  },
  {
   "cell_type": "code",
   "execution_count": null,
   "id": "experienced-coast",
   "metadata": {},
   "outputs": [],
   "source": [
    "print('F1 score:', f1_score(y_dev, predicted, average=\"macro\"))\n",
    "print('Precision:', precision_score(y_dev, predicted, average=\"macro\"))\n",
    "print('Recall:', recall_score(y_dev, predicted, average=\"macro\")) "
   ]
  },
  {
   "cell_type": "code",
   "execution_count": null,
   "id": "compound-parcel",
   "metadata": {},
   "outputs": [],
   "source": [
    "plt.figure(figsize=(30,30))\n",
    "plot_confusion_matrix(clf, X_new_tfidf, y_dev)\n",
    "\n",
    "plt.show()"
   ]
  },
  {
   "cell_type": "markdown",
   "id": "minor-charger",
   "metadata": {},
   "source": [
    "## Create functions to make model building easier"
   ]
  },
  {
   "cell_type": "code",
   "execution_count": 153,
   "id": "periodic-chick",
   "metadata": {},
   "outputs": [],
   "source": [
    "results = pd.DataFrame(index = ['Baseline', 'NB-count Prod Desc','NB-tfidf Prod Desc','NB-count Merged Desc','NB-tfidf Merged'],\n",
    "                       columns=['Accuracy'])"
   ]
  },
  {
   "cell_type": "code",
   "execution_count": 154,
   "id": "classical-secondary",
   "metadata": {},
   "outputs": [],
   "source": [
    "results.at['Baseline', 'Accuracy'] = max_value/len(X_train)"
   ]
  },
  {
   "cell_type": "code",
   "execution_count": 155,
   "id": "pursuant-monkey",
   "metadata": {},
   "outputs": [],
   "source": [
    "def train(classifier, X, y, X_test, y_test):\n",
    "    ### provide classifier, train and test set\n",
    "    ### get train/val split\n",
    "    ### fit on val\n",
    "    ### test on test\n",
    "    ### return accuracy score for test\n",
    "    \n",
    "#     print(\"validation results:\")\n",
    "    classifier.fit(X, y)\n",
    "#     print(classification_report(y_val, classifier.predict(X_val)))\n",
    "    \n",
    "    print(\"Dev set results:\")\n",
    "    X_test_preds = classifier.predict(X_test)\n",
    "    print(classification_report(y_test, X_test_preds) )\n",
    "    return accuracy_score(y_test,X_test_preds)"
   ]
  },
  {
   "cell_type": "code",
   "execution_count": 156,
   "id": "essential-villa",
   "metadata": {},
   "outputs": [
    {
     "name": "stdout",
     "output_type": "stream",
     "text": [
      "Dev set results:\n",
      "              precision    recall  f1-score   support\n",
      "\n",
      "      871200       0.81      0.80      0.80       163\n",
      "      871410       0.78      0.95      0.86       129\n",
      "      871420       0.89      0.91      0.90       144\n",
      "      871491       0.96      0.43      0.59        51\n",
      "      871492       0.92      0.90      0.91       167\n",
      "      871493       0.82      0.93      0.87       166\n",
      "      871494       0.90      0.78      0.83       107\n",
      "      871495       1.00      0.12      0.22         8\n",
      "      871496       0.98      0.70      0.82        57\n",
      "      871499       0.79      0.88      0.84       171\n",
      "\n",
      "    accuracy                           0.85      1163\n",
      "   macro avg       0.89      0.74      0.77      1163\n",
      "weighted avg       0.86      0.85      0.84      1163\n",
      "\n"
     ]
    }
   ],
   "source": [
    "from sklearn.pipeline import Pipeline\n",
    "from sklearn.metrics import classification_report\n",
    "from sklearn.metrics import accuracy_score\n",
    "from sklearn.feature_extraction.text import CountVectorizer\n",
    "from sklearn.feature_extraction.text import TfidfVectorizer\n",
    "\n",
    "trial1 = Pipeline([\n",
    "    ('vectorizer', CountVectorizer()),\n",
    "    ('classifier', MultinomialNB()),\n",
    "])\n",
    " \n",
    "acc = train(trial1, X_train['Product Desc'], y_train, X_dev['Product Desc'], y_dev)\n",
    "\n",
    "results.at['NB-count Prod Desc','Accuracy'] = acc"
   ]
  },
  {
   "cell_type": "code",
   "execution_count": 157,
   "id": "sophisticated-silly",
   "metadata": {},
   "outputs": [
    {
     "name": "stdout",
     "output_type": "stream",
     "text": [
      "Dev set results:\n",
      "              precision    recall  f1-score   support\n",
      "\n",
      "      871200       0.79      0.79      0.79       163\n",
      "      871410       0.82      0.95      0.88       129\n",
      "      871420       0.88      0.90      0.89       144\n",
      "      871491       1.00      0.37      0.54        51\n",
      "      871492       0.91      0.88      0.90       167\n",
      "      871493       0.78      0.94      0.85       166\n",
      "      871494       0.92      0.78      0.84       107\n",
      "      871495       0.00      0.00      0.00         8\n",
      "      871496       1.00      0.54      0.70        57\n",
      "      871499       0.74      0.89      0.81       171\n",
      "\n",
      "    accuracy                           0.83      1163\n",
      "   macro avg       0.79      0.70      0.72      1163\n",
      "weighted avg       0.84      0.83      0.82      1163\n",
      "\n"
     ]
    }
   ],
   "source": [
    "trial2 = Pipeline([\n",
    "    ('vectorizer', TfidfVectorizer()),\n",
    "    ('classifier', MultinomialNB()),\n",
    "])\n",
    " \n",
    "acc = train(trial2, X_train['Product Desc'], y_train, X_dev['Product Desc'], y_dev)\n",
    "\n",
    "results.at['NB-tfidf Prod Desc','Accuracy'] = acc"
   ]
  },
  {
   "cell_type": "code",
   "execution_count": 162,
   "id": "affected-worcester",
   "metadata": {},
   "outputs": [
    {
     "name": "stdout",
     "output_type": "stream",
     "text": [
      "Dev set results:\n",
      "              precision    recall  f1-score   support\n",
      "\n",
      "      871200       0.70      0.36      0.47       163\n",
      "      871410       0.48      0.09      0.14       129\n",
      "      871420       0.46      0.54      0.50       144\n",
      "      871491       0.45      0.53      0.49        51\n",
      "      871492       0.76      0.83      0.79       167\n",
      "      871493       0.48      0.73      0.58       166\n",
      "      871494       0.70      0.78      0.73       107\n",
      "      871495       0.18      0.25      0.21         8\n",
      "      871496       0.69      0.72      0.71        57\n",
      "      871499       0.67      0.78      0.72       171\n",
      "\n",
      "    accuracy                           0.60      1163\n",
      "   macro avg       0.56      0.56      0.53      1163\n",
      "weighted avg       0.60      0.60      0.57      1163\n",
      "\n"
     ]
    }
   ],
   "source": [
    "trial3 = Pipeline([\n",
    "    ('vectorizer', CountVectorizer()),\n",
    "    ('classifier', MultinomialNB()),\n",
    "])\n",
    " \n",
    "acc = train(trial3, X_train['Merged_Description'], y_train, X_dev['Product Desc'], y_dev)\n",
    "\n",
    "results.at['NB-count Merged Desc','Accuracy'] = acc"
   ]
  },
  {
   "cell_type": "code",
   "execution_count": 163,
   "id": "architectural-study",
   "metadata": {},
   "outputs": [
    {
     "name": "stdout",
     "output_type": "stream",
     "text": [
      "Dev set results:\n",
      "              precision    recall  f1-score   support\n",
      "\n",
      "      871200       0.70      0.38      0.49       163\n",
      "      871410       0.64      0.14      0.23       129\n",
      "      871420       0.53      0.67      0.59       144\n",
      "      871491       0.40      0.53      0.46        51\n",
      "      871492       0.83      0.84      0.83       167\n",
      "      871493       0.48      0.73      0.58       166\n",
      "      871494       0.70      0.81      0.75       107\n",
      "      871495       0.00      0.00      0.00         8\n",
      "      871496       0.80      0.75      0.77        57\n",
      "      871499       0.69      0.79      0.73       171\n",
      "\n",
      "    accuracy                           0.63      1163\n",
      "   macro avg       0.58      0.56      0.54      1163\n",
      "weighted avg       0.64      0.63      0.61      1163\n",
      "\n"
     ]
    }
   ],
   "source": [
    "trial4 = Pipeline([\n",
    "    ('vectorizer', TfidfVectorizer()),\n",
    "    ('classifier', MultinomialNB()),\n",
    "])\n",
    " \n",
    "acc = train(trial4, X_train['Merged_Description'], y_train, X_dev['Product Desc'], y_dev)\n",
    "\n",
    "results.at['NB-tfidf Merged','Accuracy'] = acc"
   ]
  },
  {
   "cell_type": "code",
   "execution_count": 164,
   "id": "wireless-dialogue",
   "metadata": {},
   "outputs": [
    {
     "data": {
      "text/html": [
       "<div>\n",
       "<style scoped>\n",
       "    .dataframe tbody tr th:only-of-type {\n",
       "        vertical-align: middle;\n",
       "    }\n",
       "\n",
       "    .dataframe tbody tr th {\n",
       "        vertical-align: top;\n",
       "    }\n",
       "\n",
       "    .dataframe thead th {\n",
       "        text-align: right;\n",
       "    }\n",
       "</style>\n",
       "<table border=\"1\" class=\"dataframe\">\n",
       "  <thead>\n",
       "    <tr style=\"text-align: right;\">\n",
       "      <th></th>\n",
       "      <th>Accuracy</th>\n",
       "    </tr>\n",
       "  </thead>\n",
       "  <tbody>\n",
       "    <tr>\n",
       "      <th>Baseline</th>\n",
       "      <td>0.140585</td>\n",
       "    </tr>\n",
       "    <tr>\n",
       "      <th>NB-count Prod Desc</th>\n",
       "      <td>0.847807</td>\n",
       "    </tr>\n",
       "    <tr>\n",
       "      <th>NB-tfidf Prod Desc</th>\n",
       "      <td>0.83319</td>\n",
       "    </tr>\n",
       "    <tr>\n",
       "      <th>NB-count Merged Desc</th>\n",
       "      <td>0.597592</td>\n",
       "    </tr>\n",
       "    <tr>\n",
       "      <th>NB-tfidf Merged</th>\n",
       "      <td>0.627687</td>\n",
       "    </tr>\n",
       "  </tbody>\n",
       "</table>\n",
       "</div>"
      ],
      "text/plain": [
       "                      Accuracy\n",
       "Baseline              0.140585\n",
       "NB-count Prod Desc    0.847807\n",
       "NB-tfidf Prod Desc    0.83319 \n",
       "NB-count Merged Desc  0.597592\n",
       "NB-tfidf Merged       0.627687"
      ]
     },
     "execution_count": 164,
     "metadata": {},
     "output_type": "execute_result"
    }
   ],
   "source": [
    "results"
   ]
  },
  {
   "cell_type": "code",
   "execution_count": 165,
   "id": "loose-redhead",
   "metadata": {},
   "outputs": [
    {
     "data": {
      "text/plain": [
       "[Text(0, 0, 'Baseline'),\n",
       " Text(0, 0, 'NB-count Prod Desc'),\n",
       " Text(0, 0, 'NB-tfidf Prod Desc'),\n",
       " Text(0, 0, 'NB-count Merged Desc'),\n",
       " Text(0, 0, 'NB-tfidf Merged')]"
      ]
     },
     "execution_count": 165,
     "metadata": {},
     "output_type": "execute_result"
    },
    {
     "data": {
      "image/png": "[encoded data removed]",
      "text/plain": [
       "<Figure size 432x288 with 1 Axes>"
      ]
     },
     "metadata": {
      "needs_background": "light"
     },
     "output_type": "display_data"
    }
   ],
   "source": [
    "ax = sns.barplot(x=results.index, y=results[\"Accuracy\"])\n",
    "ax.set_xticklabels(ax.get_xticklabels(),rotation=90)"
   ]
  },
  {
   "cell_type": "code",
   "execution_count": null,
   "id": "developing-vitamin",
   "metadata": {},
   "outputs": [],
   "source": []
  }
 ],
 "metadata": {
  "kernelspec": {
   "display_name": "Python 3",
   "language": "python",
   "name": "python3"
  },
  "language_info": {
   "codemirror_mode": {
    "name": "ipython",
    "version": 3
   },
   "file_extension": ".py",
   "mimetype": "text/x-python",
   "name": "python",
   "nbconvert_exporter": "python",
   "pygments_lexer": "ipython3",
   "version": "3.8.5"
  }
 },
 "nbformat": 4,
 "nbformat_minor": 5
}
