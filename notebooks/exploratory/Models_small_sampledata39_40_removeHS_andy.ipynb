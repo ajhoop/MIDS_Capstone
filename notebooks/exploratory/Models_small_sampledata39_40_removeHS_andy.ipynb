{
 "cells": [
  {
   "cell_type": "code",
   "execution_count": 10,
   "id": "systematic-cleaner",
   "metadata": {},
   "outputs": [
    {
     "name": "stdout",
     "output_type": "stream",
     "text": [
      "Requirement already satisfied: graphviz in /usr/local/lib/python3.8/dist-packages (0.16)\n",
      "Requirement already satisfied: transformers in /usr/local/lib/python3.8/dist-packages (4.3.3)\n",
      "Requirement already satisfied: tokenizers<0.11,>=0.10.1 in /usr/local/lib/python3.8/dist-packages (from transformers) (0.10.1)\n",
      "Requirement already satisfied: regex!=2019.12.17 in /usr/local/lib/python3.8/dist-packages (from transformers) (2020.11.13)\n",
      "Requirement already satisfied: requests in /usr/local/lib/python3.8/dist-packages (from transformers) (2.25.1)\n",
      "Requirement already satisfied: sacremoses in /usr/local/lib/python3.8/dist-packages (from transformers) (0.0.43)\n",
      "Requirement already satisfied: filelock in /usr/local/lib/python3.8/dist-packages (from transformers) (3.0.12)\n",
      "Requirement already satisfied: numpy>=1.17 in /usr/local/lib/python3.8/dist-packages (from transformers) (1.19.5)\n",
      "Requirement already satisfied: tqdm>=4.27 in /usr/local/lib/python3.8/dist-packages (from transformers) (4.56.2)\n",
      "Requirement already satisfied: packaging in /usr/local/lib/python3.8/dist-packages (from transformers) (20.9)\n",
      "Requirement already satisfied: pyparsing>=2.0.2 in /usr/local/lib/python3.8/dist-packages (from packaging->transformers) (2.4.7)\n",
      "Requirement already satisfied: urllib3<1.27,>=1.21.1 in /usr/local/lib/python3.8/dist-packages (from requests->transformers) (1.26.3)\n",
      "Requirement already satisfied: certifi>=2017.4.17 in /usr/local/lib/python3.8/dist-packages (from requests->transformers) (2020.12.5)\n",
      "Requirement already satisfied: idna<3,>=2.5 in /usr/local/lib/python3.8/dist-packages (from requests->transformers) (2.10)\n",
      "Requirement already satisfied: chardet<5,>=3.0.2 in /usr/local/lib/python3.8/dist-packages (from requests->transformers) (4.0.0)\n",
      "Requirement already satisfied: joblib in /usr/local/lib/python3.8/dist-packages (from sacremoses->transformers) (1.0.1)\n",
      "Requirement already satisfied: click in /usr/local/lib/python3.8/dist-packages (from sacremoses->transformers) (7.1.2)\n",
      "Requirement already satisfied: six in /usr/local/lib/python3.8/dist-packages (from sacremoses->transformers) (1.15.0)\n",
      "Requirement already satisfied: bert in /usr/local/lib/python3.8/dist-packages (2.2.0)\n",
      "Requirement already satisfied: erlastic in /usr/local/lib/python3.8/dist-packages (from bert) (2.0.0)\n",
      "Requirement already satisfied: bert-tensorflow in /usr/local/lib/python3.8/dist-packages (1.0.4)\n",
      "Requirement already satisfied: six in /usr/local/lib/python3.8/dist-packages (from bert-tensorflow) (1.15.0)\n",
      "Requirement already satisfied: keras in /usr/local/lib/python3.8/dist-packages (2.4.3)\n",
      "Requirement already satisfied: pyyaml in /usr/local/lib/python3.8/dist-packages (from keras) (5.4.1)\n",
      "Requirement already satisfied: scipy>=0.14 in /usr/local/lib/python3.8/dist-packages (from keras) (1.6.1)\n",
      "Requirement already satisfied: h5py in /usr/local/lib/python3.8/dist-packages (from keras) (2.10.0)\n",
      "Requirement already satisfied: numpy>=1.9.1 in /usr/local/lib/python3.8/dist-packages (from keras) (1.19.5)\n",
      "Requirement already satisfied: six in /usr/local/lib/python3.8/dist-packages (from h5py->keras) (1.15.0)\n",
      "Requirement already satisfied: dask_ml in /usr/local/lib/python3.8/dist-packages (1.8.0)\n",
      "Requirement already satisfied: distributed>=2.4.0 in /usr/local/lib/python3.8/dist-packages (from dask_ml) (2021.2.0)\n",
      "Requirement already satisfied: numpy>=1.17.3 in /usr/local/lib/python3.8/dist-packages (from dask_ml) (1.19.5)\n",
      "Requirement already satisfied: pandas>=0.24.2 in /usr/local/lib/python3.8/dist-packages (from dask_ml) (1.2.2)\n",
      "Requirement already satisfied: scikit-learn>=0.23 in /usr/local/lib/python3.8/dist-packages (from dask_ml) (0.24.1)\n",
      "Requirement already satisfied: packaging in /usr/local/lib/python3.8/dist-packages (from dask_ml) (20.9)\n",
      "Requirement already satisfied: dask-glm>=0.2.0 in /usr/local/lib/python3.8/dist-packages (from dask_ml) (0.2.0)\n",
      "Requirement already satisfied: scipy in /usr/local/lib/python3.8/dist-packages (from dask_ml) (1.6.1)\n",
      "Requirement already satisfied: numba in /usr/local/lib/python3.8/dist-packages (from dask_ml) (0.52.0)\n",
      "Requirement already satisfied: multipledispatch>=0.4.9 in /usr/local/lib/python3.8/dist-packages (from dask_ml) (0.6.0)\n",
      "Requirement already satisfied: dask[array,dataframe]>=2.4.0 in /usr/local/lib/python3.8/dist-packages (from dask_ml) (2021.2.0)\n",
      "Requirement already satisfied: cloudpickle>=0.2.2 in /usr/local/lib/python3.8/dist-packages (from dask-glm>=0.2.0->dask_ml) (1.6.0)\n",
      "Requirement already satisfied: pyyaml in /usr/local/lib/python3.8/dist-packages (from dask[array,dataframe]>=2.4.0->dask_ml) (5.4.1)\n",
      "Requirement already satisfied: fsspec>=0.6.0 in /usr/local/lib/python3.8/dist-packages (from dask[array,dataframe]>=2.4.0->dask_ml) (0.8.7)\n",
      "Requirement already satisfied: partd>=0.3.10 in /usr/local/lib/python3.8/dist-packages (from dask[array,dataframe]>=2.4.0->dask_ml) (1.1.0)\n",
      "Requirement already satisfied: toolz>=0.8.2 in /usr/local/lib/python3.8/dist-packages (from dask[array,dataframe]>=2.4.0->dask_ml) (0.11.1)\n",
      "Requirement already satisfied: tornado>=6.0.3 in /usr/local/lib/python3.8/dist-packages (from distributed>=2.4.0->dask_ml) (6.1)\n",
      "Requirement already satisfied: sortedcontainers!=2.0.0,!=2.0.1 in /usr/local/lib/python3.8/dist-packages (from distributed>=2.4.0->dask_ml) (2.3.0)\n",
      "Requirement already satisfied: tblib>=1.6.0 in /usr/local/lib/python3.8/dist-packages (from distributed>=2.4.0->dask_ml) (1.7.0)\n",
      "Requirement already satisfied: zict>=0.1.3 in /usr/local/lib/python3.8/dist-packages (from distributed>=2.4.0->dask_ml) (2.0.0)\n",
      "Requirement already satisfied: msgpack>=0.6.0 in /usr/local/lib/python3.8/dist-packages (from distributed>=2.4.0->dask_ml) (1.0.2)\n",
      "Requirement already satisfied: psutil>=5.0 in /usr/local/lib/python3.8/dist-packages (from distributed>=2.4.0->dask_ml) (5.8.0)\n",
      "Requirement already satisfied: click>=6.6 in /usr/local/lib/python3.8/dist-packages (from distributed>=2.4.0->dask_ml) (7.1.2)\n",
      "Requirement already satisfied: setuptools in /usr/lib/python3/dist-packages (from distributed>=2.4.0->dask_ml) (45.2.0)\n",
      "Requirement already satisfied: six in /usr/local/lib/python3.8/dist-packages (from multipledispatch>=0.4.9->dask_ml) (1.15.0)\n",
      "Requirement already satisfied: python-dateutil>=2.7.3 in /usr/local/lib/python3.8/dist-packages (from pandas>=0.24.2->dask_ml) (2.8.1)\n",
      "Requirement already satisfied: pytz>=2017.3 in /usr/local/lib/python3.8/dist-packages (from pandas>=0.24.2->dask_ml) (2021.1)\n",
      "Requirement already satisfied: locket in /usr/local/lib/python3.8/dist-packages (from partd>=0.3.10->dask[array,dataframe]>=2.4.0->dask_ml) (0.2.1)\n",
      "Requirement already satisfied: joblib>=0.11 in /usr/local/lib/python3.8/dist-packages (from scikit-learn>=0.23->dask_ml) (1.0.1)\n",
      "Requirement already satisfied: threadpoolctl>=2.0.0 in /usr/local/lib/python3.8/dist-packages (from scikit-learn>=0.23->dask_ml) (2.1.0)\n",
      "Requirement already satisfied: heapdict in /usr/local/lib/python3.8/dist-packages (from zict>=0.1.3->distributed>=2.4.0->dask_ml) (1.0.1)\n",
      "Requirement already satisfied: llvmlite<0.36,>=0.35.0 in /usr/local/lib/python3.8/dist-packages (from numba->dask_ml) (0.35.0)\n",
      "Requirement already satisfied: pyparsing>=2.0.2 in /usr/local/lib/python3.8/dist-packages (from packaging->dask_ml) (2.4.7)\n",
      "Requirement already satisfied: xgboost in /usr/local/lib/python3.8/dist-packages (1.3.3)\n",
      "Requirement already satisfied: numpy in /usr/local/lib/python3.8/dist-packages (from xgboost) (1.19.5)\n",
      "Requirement already satisfied: scipy in /usr/local/lib/python3.8/dist-packages (from xgboost) (1.6.1)\n",
      "Requirement already satisfied: datascroller in /usr/local/lib/python3.8/dist-packages (1.4.1)\n",
      "Requirement already satisfied: pandasql in /usr/local/lib/python3.8/dist-packages (from datascroller) (0.7.3)\n",
      "Requirement already satisfied: pyarrow in /usr/local/lib/python3.8/dist-packages (from datascroller) (3.0.0)\n",
      "Requirement already satisfied: pandas in /usr/local/lib/python3.8/dist-packages (from datascroller) (1.2.2)\n",
      "Requirement already satisfied: python-dateutil>=2.7.3 in /usr/local/lib/python3.8/dist-packages (from pandas->datascroller) (2.8.1)\n",
      "Requirement already satisfied: pytz>=2017.3 in /usr/local/lib/python3.8/dist-packages (from pandas->datascroller) (2021.1)\n",
      "Requirement already satisfied: numpy>=1.16.5 in /usr/local/lib/python3.8/dist-packages (from pandas->datascroller) (1.19.5)\n",
      "Requirement already satisfied: six>=1.5 in /usr/local/lib/python3.8/dist-packages (from python-dateutil>=2.7.3->pandas->datascroller) (1.15.0)\n",
      "Requirement already satisfied: sqlalchemy in /usr/local/lib/python3.8/dist-packages (from pandasql->datascroller) (1.3.23)\n",
      "Requirement already satisfied: tensorflow in /usr/local/lib/python3.8/dist-packages (2.4.1)\n",
      "Requirement already satisfied: typing-extensions~=3.7.4 in /usr/local/lib/python3.8/dist-packages (from tensorflow) (3.7.4.3)\n",
      "Requirement already satisfied: grpcio~=1.32.0 in /usr/local/lib/python3.8/dist-packages (from tensorflow) (1.32.0)\n",
      "Requirement already satisfied: protobuf>=3.9.2 in /usr/local/lib/python3.8/dist-packages (from tensorflow) (3.15.3)\n",
      "Requirement already satisfied: six~=1.15.0 in /usr/local/lib/python3.8/dist-packages (from tensorflow) (1.15.0)\n",
      "Requirement already satisfied: wrapt~=1.12.1 in /usr/local/lib/python3.8/dist-packages (from tensorflow) (1.12.1)\n",
      "Requirement already satisfied: keras-preprocessing~=1.1.2 in /usr/local/lib/python3.8/dist-packages (from tensorflow) (1.1.2)\n",
      "Requirement already satisfied: h5py~=2.10.0 in /usr/local/lib/python3.8/dist-packages (from tensorflow) (2.10.0)\n",
      "Requirement already satisfied: astunparse~=1.6.3 in /usr/local/lib/python3.8/dist-packages (from tensorflow) (1.6.3)\n",
      "Requirement already satisfied: termcolor~=1.1.0 in /usr/local/lib/python3.8/dist-packages (from tensorflow) (1.1.0)\n",
      "Requirement already satisfied: google-pasta~=0.2 in /usr/local/lib/python3.8/dist-packages (from tensorflow) (0.2.0)\n",
      "Requirement already satisfied: flatbuffers~=1.12.0 in /usr/local/lib/python3.8/dist-packages (from tensorflow) (1.12)\n",
      "Requirement already satisfied: absl-py~=0.10 in /usr/local/lib/python3.8/dist-packages (from tensorflow) (0.11.0)\n",
      "Requirement already satisfied: numpy~=1.19.2 in /usr/local/lib/python3.8/dist-packages (from tensorflow) (1.19.5)\n",
      "Requirement already satisfied: tensorflow-estimator<2.5.0,>=2.4.0 in /usr/local/lib/python3.8/dist-packages (from tensorflow) (2.4.0)\n",
      "Requirement already satisfied: gast==0.3.3 in /usr/local/lib/python3.8/dist-packages (from tensorflow) (0.3.3)\n",
      "Requirement already satisfied: tensorboard~=2.4 in /usr/local/lib/python3.8/dist-packages (from tensorflow) (2.4.1)\n",
      "Requirement already satisfied: opt-einsum~=3.3.0 in /usr/local/lib/python3.8/dist-packages (from tensorflow) (3.3.0)\n",
      "Requirement already satisfied: wheel~=0.35 in /usr/local/lib/python3.8/dist-packages (from tensorflow) (0.36.2)\n",
      "Requirement already satisfied: setuptools>=41.0.0 in /usr/lib/python3/dist-packages (from tensorboard~=2.4->tensorflow) (45.2.0)\n",
      "Requirement already satisfied: requests<3,>=2.21.0 in /usr/local/lib/python3.8/dist-packages (from tensorboard~=2.4->tensorflow) (2.25.1)\n",
      "Requirement already satisfied: google-auth<2,>=1.6.3 in /usr/local/lib/python3.8/dist-packages (from tensorboard~=2.4->tensorflow) (1.27.0)\n",
      "Requirement already satisfied: google-auth-oauthlib<0.5,>=0.4.1 in /usr/local/lib/python3.8/dist-packages (from tensorboard~=2.4->tensorflow) (0.4.2)\n",
      "Requirement already satisfied: werkzeug>=0.11.15 in /usr/local/lib/python3.8/dist-packages (from tensorboard~=2.4->tensorflow) (1.0.1)\n",
      "Requirement already satisfied: tensorboard-plugin-wit>=1.6.0 in /usr/local/lib/python3.8/dist-packages (from tensorboard~=2.4->tensorflow) (1.8.0)\n",
      "Requirement already satisfied: markdown>=2.6.8 in /usr/local/lib/python3.8/dist-packages (from tensorboard~=2.4->tensorflow) (3.3.4)\n",
      "Requirement already satisfied: rsa<5,>=3.1.4 in /usr/local/lib/python3.8/dist-packages (from google-auth<2,>=1.6.3->tensorboard~=2.4->tensorflow) (4.7.2)\n",
      "Requirement already satisfied: cachetools<5.0,>=2.0.0 in /usr/local/lib/python3.8/dist-packages (from google-auth<2,>=1.6.3->tensorboard~=2.4->tensorflow) (4.2.1)\n",
      "Requirement already satisfied: pyasn1-modules>=0.2.1 in /usr/local/lib/python3.8/dist-packages (from google-auth<2,>=1.6.3->tensorboard~=2.4->tensorflow) (0.2.8)\n",
      "Requirement already satisfied: requests-oauthlib>=0.7.0 in /usr/local/lib/python3.8/dist-packages (from google-auth-oauthlib<0.5,>=0.4.1->tensorboard~=2.4->tensorflow) (1.3.0)\n",
      "Requirement already satisfied: pyasn1<0.5.0,>=0.4.6 in /usr/local/lib/python3.8/dist-packages (from pyasn1-modules>=0.2.1->google-auth<2,>=1.6.3->tensorboard~=2.4->tensorflow) (0.4.8)\n",
      "Requirement already satisfied: chardet<5,>=3.0.2 in /usr/local/lib/python3.8/dist-packages (from requests<3,>=2.21.0->tensorboard~=2.4->tensorflow) (4.0.0)\n",
      "Requirement already satisfied: certifi>=2017.4.17 in /usr/local/lib/python3.8/dist-packages (from requests<3,>=2.21.0->tensorboard~=2.4->tensorflow) (2020.12.5)\n",
      "Requirement already satisfied: urllib3<1.27,>=1.21.1 in /usr/local/lib/python3.8/dist-packages (from requests<3,>=2.21.0->tensorboard~=2.4->tensorflow) (1.26.3)\n",
      "Requirement already satisfied: idna<3,>=2.5 in /usr/local/lib/python3.8/dist-packages (from requests<3,>=2.21.0->tensorboard~=2.4->tensorflow) (2.10)\n",
      "Requirement already satisfied: oauthlib>=3.0.0 in /usr/local/lib/python3.8/dist-packages (from requests-oauthlib>=0.7.0->google-auth-oauthlib<0.5,>=0.4.1->tensorboard~=2.4->tensorflow) (3.1.0)\n"
     ]
    }
   ],
   "source": [
    "!pip install graphviz\n",
    "!pip install transformers\n",
    "!pip install bert\n",
    "!pip install bert-tensorflow\n",
    "!pip install keras\n",
    "!pip install dask_ml\n",
    "!pip install xgboost\n",
    "!pip install datascroller\n",
    "!pip install tensorflow"
   ]
  },
  {
   "cell_type": "code",
   "execution_count": 17,
   "id": "rental-speed",
   "metadata": {},
   "outputs": [
    {
     "name": "stdout",
     "output_type": "stream",
     "text": [
      "Requirement already satisfied: numpy in /usr/local/lib/python3.8/dist-packages (1.19.5)\n"
     ]
    }
   ],
   "source": [
    "!pip install numpy"
   ]
  },
  {
   "cell_type": "code",
   "execution_count": 1,
   "id": "valid-japanese",
   "metadata": {},
   "outputs": [
    {
     "name": "stderr",
     "output_type": "stream",
     "text": [
      "[nltk_data] Downloading package stopwords to /root/nltk_data...\n",
      "[nltk_data]   Package stopwords is already up-to-date!\n",
      "[nltk_data] Downloading package punkt to /root/nltk_data...\n",
      "[nltk_data]   Package punkt is already up-to-date!\n"
     ]
    }
   ],
   "source": [
    "# Import relevant packages\n",
    "import pandas as pd\n",
    "import numpy as np\n",
    "import pandas as pd\n",
    "import seaborn as sns\n",
    "import matplotlib\n",
    "import matplotlib.pyplot as plt\n",
    "import pickle\n",
    "import time\n",
    "import timeit\n",
    "\n",
    "# Import dask packages\n",
    "# import dask.dataframe as ddf\n",
    "from math import nan\n",
    "import panel as pn\n",
    "import dask\n",
    "import dask.array as da\n",
    "import dask.dataframe as dd\n",
    "from dask.delayed import delayed\n",
    "import seaborn as sns\n",
    "import matplotlib.pyplot as plt\n",
    "from dask_ml.model_selection import train_test_split\n",
    "import graphviz\n",
    "from datascroller import scroll\n",
    "\n",
    "from dask.diagnostics import ProgressBar\n",
    "ProgressBar().register()\n",
    "\n",
    "# text processing libraries\n",
    "import re\n",
    "import string\n",
    "import nltk\n",
    "nltk.download('stopwords')\n",
    "nltk.download('punkt')\n",
    "from nltk.corpus import stopwords\n",
    "\n",
    "import warnings\n",
    "warnings.filterwarnings('ignore')\n",
    "from sklearn.model_selection import train_test_split\n",
    "\n",
    "import json\n",
    "import os\n",
    "import sys\n",
    "import tensorflow as tf\n",
    "\n",
    "import transformers as ppb\n",
    "from time import time\n",
    "import io\n",
    "import re\n",
    "from csv import reader\n",
    "\n",
    "import bert\n",
    "# from bert import run_classifier\n",
    "# from bert import optimization\n",
    "from bert import tokenization\n",
    "from transformers import RobertaTokenizer, TFRobertaModel\n",
    "\n",
    "from matplotlib import colors\n",
    "from matplotlib.ticker import PercentFormatter\n",
    "\n",
    "from tensorflow import keras\n",
    "#### if use tensorflow=2.0.0, then import tensorflow.keras.model_selection \n",
    "from tensorflow.keras import backend as K\n",
    "from tensorflow.keras import layers\n",
    "from tensorflow.keras.backend import sparse_categorical_crossentropy\n",
    "from tensorflow.keras.layers import Dense, Flatten\n",
    "from tensorflow.keras.callbacks import Callback, EarlyStopping, ModelCheckpoint\n",
    "from keras.models import load_model\n",
    "\n",
    "from sklearn.metrics import confusion_matrix, f1_score, precision_score, recall_score, plot_confusion_matrix\n",
    "from sklearn.model_selection import GridSearchCV \n",
    "from sklearn.preprocessing import LabelEncoder\n",
    "from keras.utils import np_utils\n",
    "from sklearn.feature_extraction.text import CountVectorizer, TfidfTransformer\n",
    "from sklearn.ensemble import RandomForestClassifier\n",
    "from sklearn.naive_bayes import MultinomialNB\n",
    "from sklearn.neighbors import KNeighborsClassifier\n",
    "from sklearn.linear_model import LogisticRegression\n",
    "from sklearn.svm import SVC\n",
    "from xgboost import XGBClassifier\n",
    "from sklearn.pipeline import Pipeline\n",
    "from sklearn.metrics import classification_report\n",
    "from sklearn.metrics import accuracy_score\n",
    "from sklearn.feature_extraction.text import CountVectorizer\n",
    "from sklearn.feature_extraction.text import TfidfVectorizer\n",
    "\n",
    "\n",
    "\n",
    "from datetime import datetime"
   ]
  },
  {
   "cell_type": "markdown",
   "id": "falling-eating",
   "metadata": {
    "heading_collapsed": "true"
   },
   "source": [
    "## Install BERT and BERT Tokenizer from the HuggingFace Transformers library."
   ]
  },
  {
   "cell_type": "markdown",
   "id": "living-tissue",
   "metadata": {},
   "source": [
    "We can easily switch between variants of BERT by changing out which model we import from HuggingFace; the rest of the code just flows unchanged."
   ]
  },
  {
   "cell_type": "code",
   "execution_count": null,
   "id": "transsexual-lightweight",
   "metadata": {},
   "outputs": [],
   "source": [
    "# For DistilBERT:\n",
    "# model_class, tokenizer_class, pretrained_weights = (ppb.TFDistilBertModel, ppb.DistilBertTokenizer, 'distilbert-base-uncased')\n",
    "\n",
    "## Want BERT instead of distilBERT? Uncomment the following line:\n",
    "model_class, tokenizer_class, pretrained_weights = (ppb.TFBertModel, ppb.BertTokenizer, 'bert-base-uncased')\n",
    "\n",
    "## For BERT Large, use this:\n",
    "# model_class, tokenizer_class, pretrained_weights = (ppb.AutoModelWithLMHead, ppb.AutoTokenizer, 'bert-large-uncased')\n",
    "# from transformers import AutoTokenizer, AutoModelWithLMHead\n",
    "\n",
    "# For ROBERTa base model, use this:\n",
    "# model_class, tokenizer_class, pretrained_weights = (ppb.TFRobertaModel, ppb.RobertaTokenizer, 'roberta-base')\n",
    "\n",
    "# Load pretrained model/tokenizer\n",
    "tokenizer = tokenizer_class.from_pretrained(pretrained_weights)\n",
    "model = model_class.from_pretrained(pretrained_weights)"
   ]
  },
  {
   "cell_type": "markdown",
   "id": "educational-individual",
   "metadata": {},
   "source": [
    "## Let's do an initial import on the sample dataset Padma created for HS4 codes 8712 and 8714"
   ]
  },
  {
   "cell_type": "code",
   "execution_count": 6,
   "id": "meaningful-brook",
   "metadata": {},
   "outputs": [
    {
     "name": "stdout",
     "output_type": "stream",
     "text": [
      "sample_by_chapter\n",
      "sample_ignore_multiple_hscode_87128714.parq\n",
      "sample_ignore_multiple_hscode_chap39_40.parq\n"
     ]
    }
   ],
   "source": [
    "!ls /data/common/trade_data/2019_updated/data_samples_ignore_multiple_hscode"
   ]
  },
  {
   "cell_type": "code",
   "execution_count": 2,
   "id": "caroline-thesaurus",
   "metadata": {},
   "outputs": [],
   "source": [
    "# first sample\n",
    "# import_df = dd.read_parquet('/data/common/trade_data/2019/data_samples/sample_87128714.parq', engine='fastparquet', chunksize=\"100MB\")\n",
    "\n",
    "# updated sample with the multple hs codes entries removed\n",
    "# import_df = dd.read_parquet('/data/common/trade_data/2019_updated/data_samples_ignore_multiple_hscode/sample_ignore_multiple_hscode_chap39_40.parq', engine='fastparquet', chunksize=\"100MB\")\n",
    "\n",
    "import_df = pd.read_parquet('/data/common/trade_data/2019_updated/data_samples_ignore_multiple_hscode/sample_ignore_multiple_hscode_chap39_40.parq')"
   ]
  },
  {
   "cell_type": "code",
   "execution_count": 21,
   "id": "traditional-engineer",
   "metadata": {},
   "outputs": [
    {
     "data": {
      "text/plain": [
       "Index(['System Identity Id', 'Estimate Arrival Date', 'Actual Arrival Date',\n",
       "       'Bill of Lading', 'Master Bill of Lading', 'Bill Type Code',\n",
       "       'Carrier SASC Code', 'Vessel Country Code', 'Vessel Code',\n",
       "       'Vessel Name', 'Voyage', 'Inbond Type', 'Manifest No',\n",
       "       'Mode of Transportation', 'Loading Port', 'Last Vist Foreign Port',\n",
       "       'US Clearing District', 'Unloading Port', 'Place of Receipt', 'Country',\n",
       "       'Country Sure Level', 'Weight in KG', 'Weight', 'Weight Unit', 'TEU',\n",
       "       'Quantity', 'Quantity Unit', 'Measure in CM', 'Measure', 'Measure Unit',\n",
       "       'Container Id', 'Container Size', 'Container Type',\n",
       "       'Container Desc Code', 'Container Load Status',\n",
       "       'Container Type of Service', 'Shipper Name', 'Shipper Address ',\n",
       "       'Raw Shipper Name', 'Raw Shipper Addr1', 'Raw Shipper Addr2',\n",
       "       'Raw Shipper Addr3', 'Raw Shipper Addr4', 'Raw Shipper Addr Others',\n",
       "       'Consignee Name', 'Consignee Address ', 'Raw Consignee Name',\n",
       "       'Raw Consignee Addr1', 'Raw Consignee Addr2', 'Raw Consignee Addr3',\n",
       "       'Raw Consignee Addr4', 'Raw Consignee Addr Others', 'Notify Party Name',\n",
       "       'Notify Party Address ', 'Raw Notify Party Name',\n",
       "       'Raw Notify Party Addr1', 'Raw Notify Party Addr2',\n",
       "       'Raw Notify Party Addr3', 'Raw Notify Party Addr4',\n",
       "       'Raw Notify Party Addr Others', 'Product Desc', 'Marks & Numbers',\n",
       "       'HS Code', 'HS Code Sure Level', 'CIF', 'Indicator of true supplier',\n",
       "       'Indicator of true buyer', 'END', 'Cleaned_HS_Code', 'HS_Code',\n",
       "       'Merged_Description', 'HS2 Chapter', 'HS4'],\n",
       "      dtype='object')"
      ]
     },
     "execution_count": 21,
     "metadata": {},
     "output_type": "execute_result"
    }
   ],
   "source": [
    "import_df.columns"
   ]
  },
  {
   "cell_type": "code",
   "execution_count": 22,
   "id": "whole-exclusion",
   "metadata": {},
   "outputs": [
    {
     "data": {
      "text/html": [
       "<div>\n",
       "<style scoped>\n",
       "    .dataframe tbody tr th:only-of-type {\n",
       "        vertical-align: middle;\n",
       "    }\n",
       "\n",
       "    .dataframe tbody tr th {\n",
       "        vertical-align: top;\n",
       "    }\n",
       "\n",
       "    .dataframe thead th {\n",
       "        text-align: right;\n",
       "    }\n",
       "</style>\n",
       "<table border=\"1\" class=\"dataframe\">\n",
       "  <thead>\n",
       "    <tr style=\"text-align: right;\">\n",
       "      <th></th>\n",
       "      <th>System Identity Id</th>\n",
       "      <th>Estimate Arrival Date</th>\n",
       "      <th>Actual Arrival Date</th>\n",
       "      <th>Bill of Lading</th>\n",
       "      <th>Master Bill of Lading</th>\n",
       "      <th>Bill Type Code</th>\n",
       "      <th>Carrier SASC Code</th>\n",
       "      <th>Vessel Country Code</th>\n",
       "      <th>Vessel Code</th>\n",
       "      <th>Vessel Name</th>\n",
       "      <th>...</th>\n",
       "      <th>HS Code Sure Level</th>\n",
       "      <th>CIF</th>\n",
       "      <th>Indicator of true supplier</th>\n",
       "      <th>Indicator of true buyer</th>\n",
       "      <th>END</th>\n",
       "      <th>Cleaned_HS_Code</th>\n",
       "      <th>HS_Code</th>\n",
       "      <th>Merged_Description</th>\n",
       "      <th>HS2 Chapter</th>\n",
       "      <th>HS4</th>\n",
       "    </tr>\n",
       "  </thead>\n",
       "  <tbody>\n",
       "    <tr>\n",
       "      <th>8191698</th>\n",
       "      <td>6003201905010000485147</td>\n",
       "      <td>20190429</td>\n",
       "      <td>20190429</td>\n",
       "      <td>SUDU29297AGIX154</td>\n",
       "      <td>None</td>\n",
       "      <td>R</td>\n",
       "      <td>SUDU, SUD HAMBURG/COLUMBUS LINE</td>\n",
       "      <td>SG</td>\n",
       "      <td>9283239</td>\n",
       "      <td>MONTE VERDE</td>\n",
       "      <td>...</td>\n",
       "      <td>8</td>\n",
       "      <td>1009800.0</td>\n",
       "      <td>Y</td>\n",
       "      <td>Y</td>\n",
       "      <td>END</td>\n",
       "      <td>390110</td>\n",
       "      <td>390110</td>\n",
       "      <td>Polymers of ethylene, in primary forms ;Polyethylene having a specific gravity of less than 0.94 ;Having a relative viscosity of 1.44 or more;Other;Linear low density polyethylene;Low density polyethylene, except linear low density polyethylene;Medium density polyethylene</td>\n",
       "      <td>39</td>\n",
       "      <td>3901</td>\n",
       "    </tr>\n",
       "    <tr>\n",
       "      <th>8021902</th>\n",
       "      <td>6003201904150000515332</td>\n",
       "      <td>20190412</td>\n",
       "      <td>20190412</td>\n",
       "      <td>CMDULHV2002586</td>\n",
       "      <td>None</td>\n",
       "      <td>R</td>\n",
       "      <td>CMDU, COMPAGNIE MARITIME DAFFRETEMEN</td>\n",
       "      <td>GB</td>\n",
       "      <td>9317975</td>\n",
       "      <td>CMA CGM WHITE SHARK</td>\n",
       "      <td>...</td>\n",
       "      <td>8</td>\n",
       "      <td>0.0</td>\n",
       "      <td>Y</td>\n",
       "      <td>Y</td>\n",
       "      <td>END</td>\n",
       "      <td>390110</td>\n",
       "      <td>390110</td>\n",
       "      <td>Polymers of ethylene, in primary forms ;Polyethylene having a specific gravity of less than 0.94 ;Having a relative viscosity of 1.44 or more;Other;Linear low density polyethylene;Low density polyethylene, except linear low density polyethylene;Medium density polyethylene</td>\n",
       "      <td>39</td>\n",
       "      <td>3901</td>\n",
       "    </tr>\n",
       "  </tbody>\n",
       "</table>\n",
       "<p>2 rows × 73 columns</p>\n",
       "</div>"
      ],
      "text/plain": [
       "             System Identity Id Estimate Arrival Date Actual Arrival Date  \\\n",
       "8191698  6003201905010000485147  20190429              20190429             \n",
       "8021902  6003201904150000515332  20190412              20190412             \n",
       "\n",
       "           Bill of Lading Master Bill of Lading Bill Type Code  \\\n",
       "8191698  SUDU29297AGIX154  None                  R               \n",
       "8021902  CMDULHV2002586    None                  R               \n",
       "\n",
       "                            Carrier SASC Code Vessel Country Code Vessel Code  \\\n",
       "8191698  SUDU, SUD HAMBURG/COLUMBUS LINE       SG                  9283239      \n",
       "8021902  CMDU, COMPAGNIE MARITIME DAFFRETEMEN  GB                  9317975      \n",
       "\n",
       "                 Vessel Name  ... HS Code Sure Level        CIF  \\\n",
       "8191698  MONTE VERDE          ...  8                  1009800.0   \n",
       "8021902  CMA CGM WHITE SHARK  ...  8                  0.0         \n",
       "\n",
       "        Indicator of true supplier Indicator of true buyer  END  \\\n",
       "8191698  Y                          Y                       END   \n",
       "8021902  Y                          Y                       END   \n",
       "\n",
       "        Cleaned_HS_Code HS_Code  \\\n",
       "8191698  390110          390110   \n",
       "8021902  390110          390110   \n",
       "\n",
       "                                                                                                                                                                                                                                                                       Merged_Description  \\\n",
       "8191698  Polymers of ethylene, in primary forms ;Polyethylene having a specific gravity of less than 0.94 ;Having a relative viscosity of 1.44 or more;Other;Linear low density polyethylene;Low density polyethylene, except linear low density polyethylene;Medium density polyethylene   \n",
       "8021902  Polymers of ethylene, in primary forms ;Polyethylene having a specific gravity of less than 0.94 ;Having a relative viscosity of 1.44 or more;Other;Linear low density polyethylene;Low density polyethylene, except linear low density polyethylene;Medium density polyethylene   \n",
       "\n",
       "        HS2 Chapter   HS4  \n",
       "8191698  39          3901  \n",
       "8021902  39          3901  \n",
       "\n",
       "[2 rows x 73 columns]"
      ]
     },
     "execution_count": 22,
     "metadata": {},
     "output_type": "execute_result"
    }
   ],
   "source": [
    "# Don't truncate text fields in the display\n",
    "pd.set_option(\"display.max_colwidth\", -1)\n",
    "\n",
    "import_df.head(2)"
   ]
  },
  {
   "cell_type": "code",
   "execution_count": 3,
   "id": "engaging-sacramento",
   "metadata": {},
   "outputs": [
    {
     "data": {
      "text/plain": [
       "134035"
      ]
     },
     "execution_count": 3,
     "metadata": {},
     "output_type": "execute_result"
    }
   ],
   "source": [
    "len(import_df.index)"
   ]
  },
  {
   "cell_type": "code",
   "execution_count": 4,
   "id": "multiple-louis",
   "metadata": {},
   "outputs": [
    {
     "name": "stdout",
     "output_type": "stream",
     "text": [
      "                                                      Desc  HSCode\n",
      "8191698  CONTENIENDO 24.75 MTLDF2023S1 LOW DENSITY POLY...  390110\n",
      "8021902  FREIGHT PAYABLT AT LE HAVRE ROTOMOLDING LINEAR...  390110\n",
      "134035\n"
     ]
    }
   ],
   "source": [
    "df1 = import_df[['Product Desc', 'Cleaned_HS_Code']]\n",
    "df1.columns = ['Desc', 'HSCode']\n",
    "print(df1.head(2))\n",
    "print(len(df1))"
   ]
  },
  {
   "cell_type": "code",
   "execution_count": 5,
   "id": "southern-stranger",
   "metadata": {},
   "outputs": [
    {
     "name": "stdout",
     "output_type": "stream",
     "text": [
      "         HSCode                                               Desc\n",
      "8191698  390110  Polymers of ethylene, in primary forms ;Polyet...\n",
      "1848406  390120  Polymers of ethylene, in primary forms ;Polyet...\n",
      "209\n"
     ]
    }
   ],
   "source": [
    "hs_code_desc = import_df[['Cleaned_HS_Code', 'Merged_Description']]\n",
    "hs_code_desc = hs_code_desc.drop_duplicates()\n",
    "hs_code_desc.columns = ['HSCode', 'Desc']\n",
    "print(hs_code_desc.head(2))\n",
    "print(len(hs_code_desc))"
   ]
  },
  {
   "cell_type": "code",
   "execution_count": 6,
   "id": "specialized-portrait",
   "metadata": {},
   "outputs": [
    {
     "data": {
      "text/plain": [
       "134244"
      ]
     },
     "execution_count": 6,
     "metadata": {},
     "output_type": "execute_result"
    }
   ],
   "source": [
    "df1 = df1.append(hs_code_desc[['Desc', 'HSCode']]).reset_index()\n",
    "len(df1)"
   ]
  },
  {
   "cell_type": "code",
   "execution_count": null,
   "id": "horizontal-reputation",
   "metadata": {},
   "outputs": [],
   "source": [
    "# convert the dataframes back to pandas\n",
    "\n",
    "# df1_pd = df1.compute()\n",
    "# len(df1_pd)"
   ]
  },
  {
   "cell_type": "code",
   "execution_count": 7,
   "id": "latest-twenty",
   "metadata": {},
   "outputs": [],
   "source": [
    "df1_pd = df1"
   ]
  },
  {
   "cell_type": "markdown",
   "id": "binding-dance",
   "metadata": {},
   "source": [
    "Remove long number sequences (that potentially contain HS Codes) from the descriptions."
   ]
  },
  {
   "cell_type": "code",
   "execution_count": 8,
   "id": "lesbian-inspection",
   "metadata": {},
   "outputs": [],
   "source": [
    "df1_pd['Desc'] = [re.sub('\\d{4,}', '', x) for x in df1_pd['Desc']]"
   ]
  },
  {
   "cell_type": "markdown",
   "id": "defensive-newfoundland",
   "metadata": {
    "heading_collapsed": "true"
   },
   "source": [
    "### Let's tokenize the description fields."
   ]
  },
  {
   "cell_type": "markdown",
   "id": "breathing-discussion",
   "metadata": {},
   "source": [
    "#### Create embeddings with nltk"
   ]
  },
  {
   "cell_type": "code",
   "execution_count": null,
   "id": "rural-central",
   "metadata": {},
   "outputs": [],
   "source": [
    "# def tokenize(data, column_name):\n",
    "#     '''\n",
    "#     Tokenize text\n",
    "#     '''\n",
    "#     tokens = data[column_name].apply((lambda x: nltk.word_tokenize(x)))\n",
    "    \n",
    "#     data['NLTK'+column_name] = np.array(tokens)\n",
    "    \n",
    "#     return data\n",
    "# #     return list(\n",
    "# #         filter(lambda word: word.isalnum(), tokens)\n",
    "# #     )\n",
    "\n",
    "# stop_words = stopwords.words(\"english\")\n",
    "\n",
    "# def remove_stopwords(words):\n",
    "#     '''\n",
    "#     Remove stop words from the list of words\n",
    "#     '''\n",
    "    \n",
    "#     filtered = filter(lambda word: word not in stop_words, words)\n",
    "    \n",
    "#     return list(filtered)"
   ]
  },
  {
   "cell_type": "markdown",
   "id": "empty-bottom",
   "metadata": {},
   "source": [
    "#### Create embeddings with BERT"
   ]
  },
  {
   "cell_type": "code",
   "execution_count": null,
   "id": "champion-summary",
   "metadata": {},
   "outputs": [],
   "source": [
    "# def pre_process(data, column_name, max_length):\n",
    "#     \"\"\"\n",
    "#     Function takes inputs:\n",
    "#     - data in the form of a pandas dataframe\n",
    "#     - column_name containing the text to be embedded\n",
    "#     - max length\n",
    "#     and produces as output the input data BERT requires as an array consisting of:\n",
    "#     - Sentence IDs padded to the max length\n",
    "#     - BERT Masks that tell BERT which of the Sentence IDs are 0 and should be ignored\n",
    "#     - SequenceIDs which are all 0 for our classification task\n",
    "#     \"\"\"\n",
    "#     # Tokenize each item and add the special beginning/end tokens\n",
    "#     tokenized = data[column_name].apply((lambda x: tokenizer.encode(x, add_special_tokens=False, max_length=max_length, truncation=True)))\n",
    "#     data['BERT_'+column_name] = np.array(tokenized)\n",
    "# #     data['BERT_'+column_name] = tokenized\n",
    "      \n",
    "# #     # Create the padding based on the max length so all are same shape\n",
    "# #     bertSentenceIDs = np.array([i + [0]*(max_length-len(i)) for i in tokenized.values])\n",
    "    \n",
    "# #     # Create the attention mask so BERT knows which contain values and which are 0s that should be ignored\n",
    "# #     bertMasks = np.where(bertSentenceIDs != 0, 1, 0)\n",
    "\n",
    "# #     # Create the BERT sequence IDs. In this case they are all 0 since it's the same sentence input.\n",
    "# #     bertSequenceIDs = np.array([np.zeros(max_length) for i in tokenized.values], dtype=int)\n",
    "    \n",
    "# #     # Create and return the data array containing both the padded and the attention mask\n",
    "# #     X_data = np.array([bertSentenceIDs, bertMasks, bertSequenceIDs])\n",
    "\n",
    "# #     # Also look at the vocabulary size in the tokenizer\n",
    "\n",
    "#     return data"
   ]
  },
  {
   "cell_type": "markdown",
   "id": "coated-cargo",
   "metadata": {},
   "source": [
    "In the past we have run into memory issues depending on the length of the input, so we set up a variable to truncate the tokens being input for each record.\n",
    "\n",
    "First, let's check the max length of the different tokenized columns of interest."
   ]
  },
  {
   "cell_type": "code",
   "execution_count": null,
   "id": "presidential-influence",
   "metadata": {},
   "outputs": [],
   "source": [
    "# length_lst = ['Product Desc', 'Merged_Description']\n",
    "\n",
    "# max_length_dict = {}\n",
    "\n",
    "# for l in length_lst:\n",
    "#     tokenized = []\n",
    "#     tokenized = import_df_pd[l].apply((lambda x: tokenizer.encode(x, add_special_tokens=True)))\n",
    "#     # Find the max length for the tokenized examples\n",
    "#     max_length = 0\n",
    "#     for i in tokenized.values:\n",
    "#         if len(i) > max_length:\n",
    "#             max_length = len(i)\n",
    "            \n",
    "\n",
    "#     print('Max length of column', l, max_length)"
   ]
  },
  {
   "cell_type": "markdown",
   "id": "clean-eating",
   "metadata": {},
   "source": [
    "This could be a problem if we have very, very short entries in the description fields.\n",
    "\n",
    "Some possible solutions:\n",
    "1. Augment each entry with the dictionary definition.\n",
    "2. Add extra training records of just the dictionary definition.\n",
    "3. Train on only the dictionary definition."
   ]
  },
  {
   "cell_type": "markdown",
   "id": "irish-cleveland",
   "metadata": {
    "heading_collapsed": "true"
   },
   "source": [
    "### Encode the description fields."
   ]
  },
  {
   "cell_type": "code",
   "execution_count": null,
   "id": "neutral-tanzania",
   "metadata": {},
   "outputs": [],
   "source": [
    "# max_length = 180\n",
    "\n",
    "# # Create BERT embeddings for Product Desc and Merged_Description, append to pandas dataframe\n",
    "# X_pd = pre_process(df1_pd, 'Desc', max_length)\n",
    "\n",
    "\n",
    "\n",
    "# # Create NLTK embeddings for Product Desc and Merged_Description, append to pandas dataframe\n",
    "# X_pd = tokenize(X_pd, 'Desc')\n",
    "\n",
    "# X_pd.head()\n",
    "\n"
   ]
  },
  {
   "cell_type": "markdown",
   "id": "vietnamese-battle",
   "metadata": {},
   "source": [
    "### Create train, dev, and test sets"
   ]
  },
  {
   "cell_type": "code",
   "execution_count": 9,
   "id": "excited-lewis",
   "metadata": {},
   "outputs": [],
   "source": [
    "X_pd = df1_pd"
   ]
  },
  {
   "cell_type": "code",
   "execution_count": 10,
   "id": "baking-ordering",
   "metadata": {},
   "outputs": [
    {
     "data": {
      "text/plain": [
       "pandas.core.series.Series"
      ]
     },
     "execution_count": 10,
     "metadata": {},
     "output_type": "execute_result"
    }
   ],
   "source": [
    "y_pd = X_pd['HSCode']\n",
    "type(y_pd)"
   ]
  },
  {
   "cell_type": "code",
   "execution_count": 11,
   "id": "ceramic-subcommittee",
   "metadata": {},
   "outputs": [
    {
     "name": "stdout",
     "output_type": "stream",
     "text": [
      "Size of the train set is 107395\n",
      "Size of the dev set is 26849\n",
      "Size of the test set is 26849\n",
      "Size of the train label set is 107395\n",
      "Size of the dev label set is 26849\n",
      "Size of the test label set is 26849\n"
     ]
    }
   ],
   "source": [
    "# X = X_pd['Desc']\n",
    "y = X_pd['HSCode']\n",
    "\n",
    "# Split once to create the test set\n",
    "X_temp, X_test, y_temp, y_test = train_test_split(X_pd, y, test_size=0.2, random_state=91)\n",
    "\n",
    "# Re-split the train set to create a dev set\n",
    "X_train, X_dev, y_train, y_dev = train_test_split(X_pd, y, test_size=0.2, random_state=91, stratify=y)\n",
    "\n",
    "print('Size of the train set is', len(X_train))\n",
    "print('Size of the dev set is', len(X_dev))\n",
    "print('Size of the test set is', len(X_test))\n",
    "print('Size of the train label set is', len(y_train))\n",
    "print('Size of the dev label set is', len(y_dev))\n",
    "print('Size of the test label set is', len(y_test))\n"
   ]
  },
  {
   "cell_type": "code",
   "execution_count": 24,
   "id": "beautiful-pattern",
   "metadata": {},
   "outputs": [
    {
     "data": {
      "text/html": [
       "<div>\n",
       "<style scoped>\n",
       "    .dataframe tbody tr th:only-of-type {\n",
       "        vertical-align: middle;\n",
       "    }\n",
       "\n",
       "    .dataframe tbody tr th {\n",
       "        vertical-align: top;\n",
       "    }\n",
       "\n",
       "    .dataframe thead th {\n",
       "        text-align: right;\n",
       "    }\n",
       "</style>\n",
       "<table border=\"1\" class=\"dataframe\">\n",
       "  <thead>\n",
       "    <tr style=\"text-align: right;\">\n",
       "      <th></th>\n",
       "      <th>index</th>\n",
       "      <th>Desc</th>\n",
       "      <th>HSCode</th>\n",
       "    </tr>\n",
       "  </thead>\n",
       "  <tbody>\n",
       "    <tr>\n",
       "      <th>57017</th>\n",
       "      <td>57017</td>\n",
       "      <td>12 PACKAGES WITH 144ROLLS ROLLS OF CELLULAR PVC FILM COMBINED WITH TEXTILE MATERIALS. REF: GREEN VINYL NET WEIGHT: .35KGS P.A &lt;br/&gt;</td>\n",
       "      <td>392049</td>\n",
       "    </tr>\n",
       "    <tr>\n",
       "      <th>37332</th>\n",
       "      <td>37332</td>\n",
       "      <td>RUBBER CHEMICAL DIOTOLYLGUANIDINE DOTG PDR-D .&lt;br/&gt;</td>\n",
       "      <td>391390</td>\n",
       "    </tr>\n",
       "  </tbody>\n",
       "</table>\n",
       "</div>"
      ],
      "text/plain": [
       "       index  \\\n",
       "57017  57017   \n",
       "37332  37332   \n",
       "\n",
       "                                                                                                                                      Desc  \\\n",
       "57017  12 PACKAGES WITH 144ROLLS ROLLS OF CELLULAR PVC FILM COMBINED WITH TEXTILE MATERIALS. REF: GREEN VINYL NET WEIGHT: .35KGS P.A <br/>   \n",
       "37332  RUBBER CHEMICAL DIOTOLYLGUANIDINE DOTG PDR-D .<br/>                                                                                   \n",
       "\n",
       "       HSCode  \n",
       "57017  392049  \n",
       "37332  391390  "
      ]
     },
     "execution_count": 24,
     "metadata": {},
     "output_type": "execute_result"
    }
   ],
   "source": [
    "X_train.head(2)"
   ]
  },
  {
   "cell_type": "code",
   "execution_count": 45,
   "id": "devoted-disorder",
   "metadata": {},
   "outputs": [
    {
     "data": {
      "text/html": [
       "<div>\n",
       "<style scoped>\n",
       "    .dataframe tbody tr th:only-of-type {\n",
       "        vertical-align: middle;\n",
       "    }\n",
       "\n",
       "    .dataframe tbody tr th {\n",
       "        vertical-align: top;\n",
       "    }\n",
       "\n",
       "    .dataframe thead th {\n",
       "        text-align: right;\n",
       "    }\n",
       "</style>\n",
       "<table border=\"1\" class=\"dataframe\">\n",
       "  <thead>\n",
       "    <tr style=\"text-align: right;\">\n",
       "      <th></th>\n",
       "      <th>index</th>\n",
       "      <th>Desc</th>\n",
       "      <th>HSCode</th>\n",
       "    </tr>\n",
       "  </thead>\n",
       "  <tbody>\n",
       "    <tr>\n",
       "      <th>28997</th>\n",
       "      <td>2113176</td>\n",
       "      <td>ION EXCHANGE RESINS PO &lt;br/&gt;</td>\n",
       "      <td>390910</td>\n",
       "    </tr>\n",
       "    <tr>\n",
       "      <th>128828</th>\n",
       "      <td>6885399</td>\n",
       "      <td>NBR VULCANIZED CELLULAR NBR RUBBER PO#: HS CODE:.10. THIS SHIPMENT CONTAINS NO SOLID WOOD PACKING MATERIALS.&lt;br/&gt;</td>\n",
       "      <td>401610</td>\n",
       "    </tr>\n",
       "  </tbody>\n",
       "</table>\n",
       "</div>"
      ],
      "text/plain": [
       "          index  \\\n",
       "28997   2113176   \n",
       "128828  6885399   \n",
       "\n",
       "                                                                                                                     Desc  \\\n",
       "28997   ION EXCHANGE RESINS PO <br/>                                                                                        \n",
       "128828  NBR VULCANIZED CELLULAR NBR RUBBER PO#: HS CODE:.10. THIS SHIPMENT CONTAINS NO SOLID WOOD PACKING MATERIALS.<br/>   \n",
       "\n",
       "        HSCode  \n",
       "28997   390910  \n",
       "128828  401610  "
      ]
     },
     "execution_count": 45,
     "metadata": {},
     "output_type": "execute_result"
    }
   ],
   "source": [
    "X_dev.head(2)"
   ]
  },
  {
   "cell_type": "markdown",
   "id": "indoor-soldier",
   "metadata": {},
   "source": [
    "## Create baseline of predicting the majority class"
   ]
  },
  {
   "cell_type": "code",
   "execution_count": 12,
   "id": "immune-township",
   "metadata": {},
   "outputs": [
    {
     "name": "stdout",
     "output_type": "stream",
     "text": [
      "Accuracy when predicting majority class  0.0074584477862097865\n"
     ]
    }
   ],
   "source": [
    "counts = X_train['HSCode'].value_counts().to_dict()\n",
    "# print(counts)\n",
    "max_value = max(counts.values())\n",
    "print('Accuracy when predicting majority class ', max_value/len(X_train))"
   ]
  },
  {
   "cell_type": "markdown",
   "id": "demonstrated-harvest",
   "metadata": {
    "heading_collapsed": "true"
   },
   "source": [
    "## Construct a Naive Bayes model"
   ]
  },
  {
   "cell_type": "markdown",
   "id": "loved-pixel",
   "metadata": {
    "heading_collapsed": "true"
   },
   "source": [
    "### Use BOW on the words in the Product Desc column"
   ]
  },
  {
   "cell_type": "code",
   "execution_count": null,
   "id": "lightweight-judge",
   "metadata": {},
   "outputs": [],
   "source": [
    "count_vector = CountVectorizer()\n",
    "\n",
    "# fit_transform() creates dictionary and return term-document matrix.\n",
    "X_train_counts = count_vector.fit_transform(X_train['Desc'])\n"
   ]
  },
  {
   "cell_type": "code",
   "execution_count": null,
   "id": "through-simple",
   "metadata": {},
   "outputs": [],
   "source": [
    "clf1 = MultinomialNB().fit(X_train_counts, y_train)"
   ]
  },
  {
   "cell_type": "code",
   "execution_count": null,
   "id": "interstate-bunny",
   "metadata": {},
   "outputs": [],
   "source": [
    "X_new_counts = count_vector.transform(X_dev['Desc'])\n",
    "# X_new_tfidf = tfidf_transformer.transform(X_new_counts)\n",
    "\n",
    "# Execute prediction(classification).\n",
    "predicted = clf1.predict(X_new_counts)"
   ]
  },
  {
   "cell_type": "code",
   "execution_count": null,
   "id": "present-stable",
   "metadata": {},
   "outputs": [],
   "source": [
    "print('F1 score:', f1_score(y_dev, predicted, average=\"macro\"))\n",
    "print('Precision:', precision_score(y_dev, predicted, average=\"macro\"))\n",
    "print('Recall:', recall_score(y_dev, predicted, average=\"macro\")) "
   ]
  },
  {
   "cell_type": "code",
   "execution_count": null,
   "id": "northern-kennedy",
   "metadata": {},
   "outputs": [],
   "source": [
    "plt.figure(figsize=(30,30))\n",
    "plot_confusion_matrix(clf1, X_new_counts, y_dev)\n",
    "\n",
    "plt.show()"
   ]
  },
  {
   "cell_type": "code",
   "execution_count": null,
   "id": "listed-testament",
   "metadata": {},
   "outputs": [],
   "source": []
  },
  {
   "cell_type": "markdown",
   "id": "religious-nightlife",
   "metadata": {
    "heading_collapsed": "true"
   },
   "source": [
    "### Use TF-IDF on the words in the Product Desc column"
   ]
  },
  {
   "cell_type": "code",
   "execution_count": null,
   "id": "running-cancer",
   "metadata": {},
   "outputs": [],
   "source": [
    "\n",
    "count_vector = CountVectorizer()\n",
    "\n",
    "# fit_transform() creates dictionary and return term-document matrix.\n",
    "X_train_counts = count_vector.fit_transform(X_train['Desc'])\n",
    "\n",
    "# Import TfidfTransformer class.\n",
    "# TfidfTransformer transoforms count matrix to tf-idf representation.\n",
    "\n",
    "tfidf_transformer = TfidfTransformer()\n",
    "\n",
    "# fit_transform transforms count matrix to tf-idf representation(vector).\n",
    "X_train_tfidf = tfidf_transformer.fit_transform(X_train_counts)"
   ]
  },
  {
   "cell_type": "code",
   "execution_count": null,
   "id": "advised-arena",
   "metadata": {},
   "outputs": [],
   "source": [
    "# Create model(naive bayes) and training. \n",
    "\n",
    "clf2 = MultinomialNB().fit(X_train_tfidf, y_train)"
   ]
  },
  {
   "cell_type": "code",
   "execution_count": null,
   "id": "realistic-guyana",
   "metadata": {},
   "outputs": [],
   "source": [
    "# Create predictions\n",
    "# Transfroming.\n",
    "X_new_counts = count_vector.transform(X_dev['Desc'])\n",
    "X_new_tfidf = tfidf_transformer.transform(X_new_counts)\n",
    "\n",
    "# Execute prediction(classification).\n",
    "predicted = clf2.predict(X_new_tfidf)"
   ]
  },
  {
   "cell_type": "code",
   "execution_count": null,
   "id": "decreased-aggregate",
   "metadata": {},
   "outputs": [],
   "source": [
    "print('F1 score:', f1_score(y_dev, predicted, average=\"macro\"))\n",
    "print('Precision:', precision_score(y_dev, predicted, average=\"macro\"))\n",
    "print('Recall:', recall_score(y_dev, predicted, average=\"macro\")) "
   ]
  },
  {
   "cell_type": "code",
   "execution_count": null,
   "id": "economic-county",
   "metadata": {},
   "outputs": [],
   "source": [
    "cm = confusion_matrix(y_dev, predicted)\n",
    "cm"
   ]
  },
  {
   "cell_type": "code",
   "execution_count": null,
   "id": "spiritual-petersburg",
   "metadata": {},
   "outputs": [],
   "source": [
    "# Plot non-normalized confusion matrix\n",
    "\n",
    "\n",
    "plt.figure(figsize=(30,30))\n",
    "plot_confusion_matrix(clf2, X_new_tfidf, y_dev)\n",
    "\n",
    "plt.show()"
   ]
  },
  {
   "cell_type": "markdown",
   "id": "confidential-coordinate",
   "metadata": {
    "heading_collapsed": "true"
   },
   "source": [
    "### Use BOW on the Merged Description field"
   ]
  },
  {
   "cell_type": "code",
   "execution_count": null,
   "id": "tutorial-nashville",
   "metadata": {},
   "outputs": [],
   "source": [
    "# fit_transform() creates dictionary and return term-document matrix.\n",
    "X_train_counts = count_vector.fit_transform(X_train['Merged_Description'])\n",
    "\n",
    "# # Import TfidfTransformer class.\n",
    "# # TfidfTransformer transoforms count matrix to tf-idf representation.\n",
    "# from sklearn.feature_extraction.text import TfidfTransformer\n",
    "# tfidf_transformer = TfidfTransformer()\n",
    "\n",
    "# # fit_transform transforms count matrix to tf-idf representation(vector).\n",
    "# X_train_tfidf = tfidf_transformer.fit_transform(X_train_counts)"
   ]
  },
  {
   "cell_type": "code",
   "execution_count": null,
   "id": "fitted-handling",
   "metadata": {},
   "outputs": [],
   "source": [
    "# Create model(naive bayes) and training. \n",
    "from sklearn.naive_bayes import MultinomialNB\n",
    "clf3 = MultinomialNB().fit(X_train_counts, y_train)"
   ]
  },
  {
   "cell_type": "code",
   "execution_count": null,
   "id": "excess-background",
   "metadata": {},
   "outputs": [],
   "source": [
    "# Create predictions\n",
    "# Transfroming.\n",
    "X_new_counts = count_vector.transform(X_dev['Merged_Description'])\n",
    "# X_new_tfidf = tfidf_transformer.transform(X_new_counts)\n",
    "\n",
    "# Execute prediction(classification).\n",
    "predicted = clf3.predict(X_new_counts)"
   ]
  },
  {
   "cell_type": "code",
   "execution_count": null,
   "id": "dangerous-fancy",
   "metadata": {},
   "outputs": [],
   "source": [
    "print('F1 score:', f1_score(y_dev, predicted, average=\"macro\"))\n",
    "print('Precision:', precision_score(y_dev, predicted, average=\"macro\"))\n",
    "print('Recall:', recall_score(y_dev, predicted, average=\"macro\")) "
   ]
  },
  {
   "cell_type": "code",
   "execution_count": null,
   "id": "elder-pickup",
   "metadata": {},
   "outputs": [],
   "source": [
    "# Plot non-normalized confusion matrix\n",
    "from sklearn.metrics import plot_confusion_matrix\n",
    "\n",
    "plt.figure(figsize=(30,30))\n",
    "plot_confusion_matrix(clf3, X_new_counts, y_dev)\n",
    "\n",
    "plt.show()"
   ]
  },
  {
   "cell_type": "markdown",
   "id": "varying-height",
   "metadata": {
    "heading_collapsed": "true"
   },
   "source": [
    "### Use TF-IDF on the Merged Description field"
   ]
  },
  {
   "cell_type": "code",
   "execution_count": null,
   "id": "obvious-sullivan",
   "metadata": {},
   "outputs": [],
   "source": [
    "# fit_transform() creates dictionary and return term-document matrix.\n",
    "X_train_counts = count_vector.fit_transform(X_train['Merged_Description'])\n",
    "\n",
    "# Import TfidfTransformer class.\n",
    "# TfidfTransformer transoforms count matrix to tf-idf representation.\n",
    "from sklearn.feature_extraction.text import TfidfTransformer\n",
    "tfidf_transformer = TfidfTransformer()\n",
    "\n",
    "# fit_transform transforms count matrix to tf-idf representation(vector).\n",
    "X_train_tfidf = tfidf_transformer.fit_transform(X_train_counts)"
   ]
  },
  {
   "cell_type": "code",
   "execution_count": null,
   "id": "complimentary-booth",
   "metadata": {},
   "outputs": [],
   "source": [
    "# Create model(naive bayes) and training. \n",
    "from sklearn.naive_bayes import MultinomialNB\n",
    "clf2 = MultinomialNB().fit(X_train_tfidf, y_train)"
   ]
  },
  {
   "cell_type": "code",
   "execution_count": null,
   "id": "future-duration",
   "metadata": {},
   "outputs": [],
   "source": [
    "# Create predictions\n",
    "# Transfroming.\n",
    "X_new_counts = count_vector.transform(X_dev['Merged_Description'])\n",
    "X_new_tfidf = tfidf_transformer.transform(X_new_counts)\n",
    "\n",
    "# Execute prediction(classification).\n",
    "predicted = clf2.predict(X_new_tfidf)"
   ]
  },
  {
   "cell_type": "code",
   "execution_count": null,
   "id": "thousand-sitting",
   "metadata": {},
   "outputs": [],
   "source": [
    "print('F1 score:', f1_score(y_dev, predicted, average=\"macro\"))\n",
    "print('Precision:', precision_score(y_dev, predicted, average=\"macro\"))\n",
    "print('Recall:', recall_score(y_dev, predicted, average=\"macro\")) "
   ]
  },
  {
   "cell_type": "code",
   "execution_count": null,
   "id": "international-thumb",
   "metadata": {},
   "outputs": [],
   "source": [
    "# Plot non-normalized confusion matrix\n",
    "from sklearn.metrics import plot_confusion_matrix\n",
    "\n",
    "plt.figure(figsize=(30,30))\n",
    "plot_confusion_matrix(clf2, X_new_tfidf, y_dev)\n",
    "\n",
    "plt.show()"
   ]
  },
  {
   "cell_type": "code",
   "execution_count": null,
   "id": "together-bonus",
   "metadata": {},
   "outputs": [],
   "source": [
    "cm = confusion_matrix(y_dev, predicted)\n",
    "cm"
   ]
  },
  {
   "cell_type": "markdown",
   "id": "invisible-superintendent",
   "metadata": {
    "heading_collapsed": "true"
   },
   "source": [
    "### Use the BERT embeddings in the Product Desc column"
   ]
  },
  {
   "cell_type": "code",
   "execution_count": null,
   "id": "visible-width",
   "metadata": {},
   "outputs": [],
   "source": [
    "# Convert the embedding column from list to string\n",
    "X_train['BERTProduct Desc'] = X_train['BERTProduct Desc'].apply(str).apply(', '.join)\n",
    "X_train.head()"
   ]
  },
  {
   "cell_type": "code",
   "execution_count": null,
   "id": "honey-antenna",
   "metadata": {},
   "outputs": [],
   "source": [
    "count_vector = CountVectorizer()\n",
    "\n",
    "# fit_transform() creates dictionary and return term-document matrix.\n",
    "X_train_counts = count_vector.fit_transform(X_train['Product Desc'])\n",
    "\n",
    "# Import TfidfTransformer class.\n",
    "# TfidfTransformer transoforms count matrix to tf-idf representation.\n",
    "from sklearn.feature_extraction.text import TfidfTransformer\n",
    "tfidf_transformer = TfidfTransformer()\n",
    "\n",
    "# fit_transform transforms count matrix to tf-idf representation(vector).\n",
    "X_train_tfidf = tfidf_transformer.fit_transform(X_train_counts)"
   ]
  },
  {
   "cell_type": "code",
   "execution_count": null,
   "id": "elder-shakespeare",
   "metadata": {},
   "outputs": [],
   "source": [
    "# Create model(naive bayes) and training. \n",
    "from sklearn.naive_bayes import MultinomialNB\n",
    "clf = MultinomialNB().fit(X_train_tfidf, y_train)"
   ]
  },
  {
   "cell_type": "code",
   "execution_count": null,
   "id": "synthetic-minutes",
   "metadata": {},
   "outputs": [],
   "source": [
    "# Create predictions\n",
    "# Transfroming.\n",
    "X_new_counts = count_vector.transform(X_dev['Product Desc'])\n",
    "X_new_tfidf = tfidf_transformer.transform(X_new_counts)\n",
    "\n",
    "# Execute prediction(classification).\n",
    "predicted = clf.predict(X_new_tfidf)"
   ]
  },
  {
   "cell_type": "code",
   "execution_count": null,
   "id": "competent-footwear",
   "metadata": {},
   "outputs": [],
   "source": [
    "print('F1 score:', f1_score(y_dev, predicted, average=\"macro\"))\n",
    "print('Precision:', precision_score(y_dev, predicted, average=\"macro\"))\n",
    "print('Recall:', recall_score(y_dev, predicted, average=\"macro\")) "
   ]
  },
  {
   "cell_type": "code",
   "execution_count": null,
   "id": "handled-zambia",
   "metadata": {},
   "outputs": [],
   "source": [
    "plt.figure(figsize=(30,30))\n",
    "plot_confusion_matrix(clf, X_new_tfidf, y_dev)\n",
    "\n",
    "plt.show()"
   ]
  },
  {
   "cell_type": "markdown",
   "id": "liquid-evening",
   "metadata": {},
   "source": [
    "## Create functions to make model building easier"
   ]
  },
  {
   "cell_type": "code",
   "execution_count": 13,
   "id": "manual-singapore",
   "metadata": {},
   "outputs": [],
   "source": [
    "results = pd.DataFrame()\n",
    "results = pd.DataFrame(index = ['Baseline', 'NB-BOW Desc','NB-tfidf Desc', 'KNN-BOW Desc', 'KNN-tfidf Desc', 'LogReg-BOW Desc', 'LogReg-tfidf Desc', \n",
    "                                'SVM-BOW Desc', 'SVM-tfidf Desc', 'XGBoost-BOW Desc', 'XGBoost-tfidf Desc', 'RF-BOW Desc', 'RF-tfidf Desc'],\n",
    "                       columns=['Accuracy'])"
   ]
  },
  {
   "cell_type": "code",
   "execution_count": 14,
   "id": "checked-mercy",
   "metadata": {},
   "outputs": [
    {
     "data": {
      "text/html": [
       "<div>\n",
       "<style scoped>\n",
       "    .dataframe tbody tr th:only-of-type {\n",
       "        vertical-align: middle;\n",
       "    }\n",
       "\n",
       "    .dataframe tbody tr th {\n",
       "        vertical-align: top;\n",
       "    }\n",
       "\n",
       "    .dataframe thead th {\n",
       "        text-align: right;\n",
       "    }\n",
       "</style>\n",
       "<table border=\"1\" class=\"dataframe\">\n",
       "  <thead>\n",
       "    <tr style=\"text-align: right;\">\n",
       "      <th></th>\n",
       "      <th>Accuracy</th>\n",
       "    </tr>\n",
       "  </thead>\n",
       "  <tbody>\n",
       "    <tr>\n",
       "      <th>Baseline</th>\n",
       "      <td>NaN</td>\n",
       "    </tr>\n",
       "    <tr>\n",
       "      <th>NB-BOW Desc</th>\n",
       "      <td>NaN</td>\n",
       "    </tr>\n",
       "    <tr>\n",
       "      <th>NB-tfidf Desc</th>\n",
       "      <td>NaN</td>\n",
       "    </tr>\n",
       "    <tr>\n",
       "      <th>KNN-BOW Desc</th>\n",
       "      <td>NaN</td>\n",
       "    </tr>\n",
       "    <tr>\n",
       "      <th>KNN-tfidf Desc</th>\n",
       "      <td>NaN</td>\n",
       "    </tr>\n",
       "    <tr>\n",
       "      <th>LogReg-BOW Desc</th>\n",
       "      <td>NaN</td>\n",
       "    </tr>\n",
       "    <tr>\n",
       "      <th>LogReg-tfidf Desc</th>\n",
       "      <td>NaN</td>\n",
       "    </tr>\n",
       "    <tr>\n",
       "      <th>SVM-BOW Desc</th>\n",
       "      <td>NaN</td>\n",
       "    </tr>\n",
       "    <tr>\n",
       "      <th>SVM-tfidf Desc</th>\n",
       "      <td>NaN</td>\n",
       "    </tr>\n",
       "    <tr>\n",
       "      <th>XGBoost-BOW Desc</th>\n",
       "      <td>NaN</td>\n",
       "    </tr>\n",
       "    <tr>\n",
       "      <th>XGBoost-tfidf Desc</th>\n",
       "      <td>NaN</td>\n",
       "    </tr>\n",
       "    <tr>\n",
       "      <th>RF-BOW Desc</th>\n",
       "      <td>NaN</td>\n",
       "    </tr>\n",
       "    <tr>\n",
       "      <th>RF-tfidf Desc</th>\n",
       "      <td>NaN</td>\n",
       "    </tr>\n",
       "  </tbody>\n",
       "</table>\n",
       "</div>"
      ],
      "text/plain": [
       "                   Accuracy\n",
       "Baseline                NaN\n",
       "NB-BOW Desc             NaN\n",
       "NB-tfidf Desc           NaN\n",
       "KNN-BOW Desc            NaN\n",
       "KNN-tfidf Desc          NaN\n",
       "LogReg-BOW Desc         NaN\n",
       "LogReg-tfidf Desc       NaN\n",
       "SVM-BOW Desc            NaN\n",
       "SVM-tfidf Desc          NaN\n",
       "XGBoost-BOW Desc        NaN\n",
       "XGBoost-tfidf Desc      NaN\n",
       "RF-BOW Desc             NaN\n",
       "RF-tfidf Desc           NaN"
      ]
     },
     "execution_count": 14,
     "metadata": {},
     "output_type": "execute_result"
    }
   ],
   "source": [
    "results"
   ]
  },
  {
   "cell_type": "code",
   "execution_count": 15,
   "id": "reported-organizer",
   "metadata": {},
   "outputs": [],
   "source": [
    "results.at['Baseline', 'Accuracy'] = max_value/len(X_train)"
   ]
  },
  {
   "cell_type": "markdown",
   "id": "essential-sheffield",
   "metadata": {
    "heading_collapsed": "true"
   },
   "source": [
    "### Train the models"
   ]
  },
  {
   "cell_type": "code",
   "execution_count": 16,
   "id": "freelance-danger",
   "metadata": {},
   "outputs": [],
   "source": [
    "def train(classifier, X, y, X_test, y_test, filename):\n",
    "    ### provide classifier, train and test set\n",
    "    ### get train/val split\n",
    "    ### fit on val\n",
    "    ### test on test\n",
    "    ### return accuracy score for test\n",
    "    tic = time()\n",
    "    mod = classifier.fit(X, y)\n",
    "    toc = time()\n",
    "    print(f\"Trained model in {toc - tic:0.4} seconds\")\n",
    "    \n",
    "    # save model parameters\n",
    "#     filename = classifier([('vectorizer')])+'_model.sav'\n",
    "    pickle.dump(mod, open(filename, 'wb'))\n",
    "    \n",
    "    print(\"Dev set results:\")\n",
    "    tic = time()\n",
    "    X_test_preds = mod.predict(X_test)\n",
    "    toc = time()\n",
    "    print(classification_report(y_test, X_test_preds) )\n",
    "    # plot confusion matrix\n",
    "#     plt.figure(figsize=(30,30))\n",
    "#     plot_confusion_matrix(mod, y_test, X_test_preds)\n",
    "#     plt.show()\n",
    "    # print confusion matrix\n",
    "    print(confusion_matrix(y_test, X_test_preds))\n",
    "    print(f\"Created predictions in {toc - tic:0.4} seconds\")\n",
    "    return accuracy_score(y_test,X_test_preds)"
   ]
  },
  {
   "cell_type": "code",
   "execution_count": null,
   "id": "purple-plasma",
   "metadata": {},
   "outputs": [],
   "source": [
    "trial1 = Pipeline([\n",
    "    ('vectorizer', CountVectorizer(stop_words='english')),\n",
    "    ('classifier', MultinomialNB()),\n",
    "])\n",
    " \n",
    "acc = train(trial1, X_train['Desc'], y_train, X_dev['Desc'], y_dev, 'saved_models/NB_BOW_model.sav')\n",
    "\n",
    "results.at['NB-BOW Desc','Accuracy'] = acc\n"
   ]
  },
  {
   "cell_type": "code",
   "execution_count": null,
   "id": "rural-result",
   "metadata": {},
   "outputs": [],
   "source": [
    "trial2 = Pipeline([\n",
    "    ('vectorizer', TfidfVectorizer(stop_words='english')),\n",
    "    ('classifier', MultinomialNB()),\n",
    "])\n",
    " \n",
    "acc = train(trial2, X_train['Desc'], y_train, X_dev['Desc'], y_dev, 'saved_models/NB_tfidf_model.sav')\n",
    "\n",
    "results.at['NB-tfidf Desc','Accuracy'] = acc"
   ]
  },
  {
   "cell_type": "code",
   "execution_count": null,
   "id": "olympic-token",
   "metadata": {},
   "outputs": [],
   "source": [
    "trial3 = Pipeline([\n",
    "    ('vectorizer', CountVectorizer(stop_words='english')),\n",
    "    ('classifier', KNeighborsClassifier()),\n",
    "])\n",
    " \n",
    "acc = train(trial3, X_train['Desc'], y_train, X_dev['Desc'], y_dev, 'saved_models/KNN_BOW_model.sav')\n",
    "\n",
    "results.at['KNN-BOW Desc','Accuracy'] = acc"
   ]
  },
  {
   "cell_type": "code",
   "execution_count": null,
   "id": "dedicated-consciousness",
   "metadata": {},
   "outputs": [],
   "source": [
    "trial4 = Pipeline([\n",
    "    ('vectorizer', TfidfVectorizer(stop_words='english')),\n",
    "    ('classifier', KNeighborsClassifier()),\n",
    "])\n",
    " \n",
    "acc = train(trial4, X_train['Desc'], y_train, X_dev['Desc'], y_dev, 'saved_models/KNN_tfidf_model.sav')\n",
    "\n",
    "results.at['KNN-tfidf Desc','Accuracy'] = acc"
   ]
  },
  {
   "cell_type": "code",
   "execution_count": null,
   "id": "exact-procurement",
   "metadata": {},
   "outputs": [],
   "source": [
    "trial5 = Pipeline([\n",
    "    ('vectorizer', CountVectorizer(stop_words='english')),\n",
    "    ('classifier',LogisticRegression()),\n",
    "])\n",
    " \n",
    "acc = train(trial5, X_train['Desc'], y_train, X_dev['Desc'], y_dev, 'saved_models/LogReg_BOW_model.sav')\n",
    "\n",
    "results.at['LogReg-BOW Desc','Accuracy'] = acc"
   ]
  },
  {
   "cell_type": "code",
   "execution_count": null,
   "id": "rising-anchor",
   "metadata": {},
   "outputs": [],
   "source": [
    "trial6 = Pipeline([\n",
    "    ('vectorizer', TfidfVectorizer(stop_words='english')),\n",
    "    ('classifier',LogisticRegression()),\n",
    "])\n",
    " \n",
    "acc = train(trial6, X_train['Desc'], y_train, X_dev['Desc'], y_dev, 'saved_models/LogReg_tfidf_model.sav')\n",
    "\n",
    "results.at['LogReg-tfidf Desc','Accuracy'] = acc"
   ]
  },
  {
   "cell_type": "code",
   "execution_count": null,
   "id": "agricultural-portfolio",
   "metadata": {},
   "outputs": [],
   "source": [
    "trial7 = Pipeline([\n",
    "    ('vectorizer', CountVectorizer(stop_words='english')),\n",
    "    ('classifier', SVC()),\n",
    "])\n",
    " \n",
    "acc = train(trial7, X_train['Desc'], y_train, X_dev['Desc'], y_dev, 'saved_models/SVM_BOW_model.sav')\n",
    "\n",
    "results.at['SVM-BOW Desc','Accuracy'] = acc"
   ]
  },
  {
   "cell_type": "code",
   "execution_count": null,
   "id": "spanish-source",
   "metadata": {},
   "outputs": [],
   "source": [
    "trial8 = Pipeline([\n",
    "    ('vectorizer', TfidfVectorizer(stop_words='english')),\n",
    "    ('classifier', SVC()),\n",
    "])\n",
    " \n",
    "acc = train(trial8, X_train['Desc'], y_train, X_dev['Desc'], y_dev, 'saved_models/SVM_tfidf_model.sav')\n",
    "\n",
    "results.at['SVM-tfidf Desc','Accuracy'] = acc"
   ]
  },
  {
   "cell_type": "code",
   "execution_count": null,
   "id": "vanilla-daniel",
   "metadata": {},
   "outputs": [],
   "source": [
    "trial9 = Pipeline([\n",
    "    ('vectorizer', CountVectorizer(stop_words='english')),\n",
    "    ('classifier', XGBClassifier()),\n",
    "])\n",
    " \n",
    "acc = train(trial9, X_train['Desc'], y_train, X_dev['Desc'], y_dev, 'saved_models/XGB_BOW_model.sav')\n",
    "\n",
    "results.at['XGBoost-BOW Desc','Accuracy'] = acc"
   ]
  },
  {
   "cell_type": "code",
   "execution_count": null,
   "id": "controlling-accordance",
   "metadata": {},
   "outputs": [],
   "source": [
    "trial10 = Pipeline([\n",
    "    ('vectorizer', TfidfVectorizer(stop_words='english')),\n",
    "    ('classifier', XGBClassifier()),\n",
    "])\n",
    " \n",
    "acc = train(trial10, X_train['Desc'], y_train, X_dev['Desc'], y_dev, 'saved_models/XGB_tfidf_model.sav')\n",
    "\n",
    "results.at['XGBoost-tfidf Desc','Accuracy'] = acc"
   ]
  },
  {
   "cell_type": "code",
   "execution_count": 79,
   "id": "collect-democrat",
   "metadata": {},
   "outputs": [
    {
     "name": "stdout",
     "output_type": "stream",
     "text": [
      "Trained model in 1.686e+03 seconds\n",
      "Dev set results:\n",
      "              precision    recall  f1-score   support\n",
      "\n",
      "      390110       0.83      0.88      0.85       200\n",
      "      390120       0.90      0.86      0.88       200\n",
      "      390130       0.97      0.96      0.97       200\n",
      "      390140       0.93      0.96      0.94       181\n",
      "      390190       0.90      0.86      0.88       200\n",
      "      390210       0.88      0.84      0.86       200\n",
      "      390220       0.95      0.94      0.94        95\n",
      "      390230       0.85      0.89      0.87       200\n",
      "      390290       0.85      0.92      0.88       192\n",
      "      390311       0.99      0.99      0.99       200\n",
      "      390319       0.95      0.91      0.93        90\n",
      "      390320       0.94      0.98      0.96       200\n",
      "      390330       0.92      0.94      0.93       200\n",
      "      390390       0.87      0.85      0.86       200\n",
      "      390410       0.91      0.98      0.94       186\n",
      "      390421       0.93      0.87      0.90        46\n",
      "      390422       0.91      0.89      0.90        55\n",
      "      390430       0.93      0.94      0.94       163\n",
      "      390440       0.88      0.50      0.64        14\n",
      "      390450       0.97      0.97      0.97        34\n",
      "      390461       0.91      0.93      0.92       182\n",
      "      390469       0.86      0.87      0.86        91\n",
      "      390490       0.93      0.81      0.87        16\n",
      "      390512       0.88      0.71      0.79        21\n",
      "      390519       0.75      0.86      0.80        28\n",
      "      390521       1.00      0.82      0.90        17\n",
      "      390529       0.92      0.94      0.93       123\n",
      "      390530       0.91      0.95      0.93        61\n",
      "      390591       0.93      0.75      0.83        56\n",
      "      390599       0.69      0.81      0.75        47\n",
      "      390610       0.90      0.83      0.86        72\n",
      "      390690       0.73      0.73      0.73       200\n",
      "      390710       0.86      0.93      0.89       200\n",
      "      390720       0.86      0.82      0.84       200\n",
      "      390730       0.91      0.92      0.91       200\n",
      "      390740       0.88      0.92      0.90       200\n",
      "      390750       0.97      0.84      0.90        43\n",
      "      390761       0.97      0.98      0.97       186\n",
      "      390769       0.92      0.86      0.89        71\n",
      "      390770       1.00      0.50      0.67         4\n",
      "      390791       0.84      0.84      0.84        63\n",
      "      390799       0.84      0.78      0.81       200\n",
      "      390810       0.82      0.76      0.78       200\n",
      "      390890       0.77      0.87      0.82       200\n",
      "      390910       0.92      0.95      0.93       103\n",
      "      390920       0.62      0.50      0.55        32\n",
      "      390931       0.83      0.71      0.77        14\n",
      "      390939       0.56      0.83      0.67         6\n",
      "      390940       0.92      0.88      0.90       112\n",
      "      390950       0.70      0.81      0.75       200\n",
      "      391000       0.89      0.91      0.90       200\n",
      "      391110       0.97      0.97      0.97       135\n",
      "      391190       0.82      0.71      0.76       200\n",
      "      391211       0.86      1.00      0.92         6\n",
      "      391212       0.00      0.00      0.00         1\n",
      "      391220       0.92      0.99      0.95        70\n",
      "      391231       0.83      0.94      0.88       200\n",
      "      391239       0.97      0.96      0.96       200\n",
      "      391290       0.92      0.96      0.94       185\n",
      "      391310       0.96      0.88      0.92        26\n",
      "      391390       0.96      0.86      0.91        88\n",
      "      391400       0.87      0.95      0.91       150\n",
      "      391510       0.83      0.71      0.77        28\n",
      "      391520       0.91      0.91      0.91        11\n",
      "      391530       0.96      0.97      0.96       115\n",
      "      391590       0.82      0.93      0.87       200\n",
      "      391610       0.79      0.59      0.68        37\n",
      "      391620       0.83      0.82      0.82       200\n",
      "      391690       0.73      0.76      0.74       182\n",
      "      391710       0.93      0.95      0.94       123\n",
      "      391721       0.69      0.67      0.68        57\n",
      "      391722       0.88      0.95      0.92       200\n",
      "      391723       0.92      0.74      0.82        88\n",
      "      391729       0.69      0.59      0.64        91\n",
      "      391731       0.65      0.70      0.67       103\n",
      "      391732       0.69      0.68      0.68       200\n",
      "      391733       0.55      0.65      0.59        74\n",
      "      391739       0.66      0.67      0.67       200\n",
      "      391740       0.78      0.78      0.78       200\n",
      "      391810       0.90      0.94      0.92       200\n",
      "      391890       0.89      0.90      0.89       200\n",
      "      391910       0.80      0.74      0.77       200\n",
      "      391990       0.68      0.69      0.68       200\n",
      "      392010       0.76      0.74      0.75       200\n",
      "      392020       0.83      0.83      0.83       200\n",
      "      392030       0.80      0.93      0.86       200\n",
      "      392043       0.86      0.89      0.88       194\n",
      "      392049       0.83      0.83      0.83       174\n",
      "      392051       0.90      0.93      0.91       152\n",
      "      392059       0.87      0.77      0.82        44\n",
      "      392061       0.89      0.76      0.82        78\n",
      "      392062       0.84      0.86      0.85       200\n",
      "      392063       0.67      0.43      0.52        14\n",
      "      392069       0.88      0.69      0.78        55\n",
      "      392071       0.82      0.92      0.87        25\n",
      "      392073       0.91      0.67      0.77        15\n",
      "      392079       0.77      0.71      0.74        28\n",
      "      392091       0.98      0.96      0.97        67\n",
      "      392092       0.81      0.84      0.83        31\n",
      "      392093       0.67      0.67      0.67         3\n",
      "      392094       1.00      0.71      0.83         7\n",
      "      392099       0.83      0.74      0.78       141\n",
      "      392111       0.79      0.73      0.76        30\n",
      "      392112       0.94      0.86      0.90       200\n",
      "      392113       0.74      0.73      0.73       200\n",
      "      392114       0.70      0.95      0.80        78\n",
      "      392119       0.84      0.78      0.81       200\n",
      "      392190       0.80      0.69      0.75       200\n",
      "      392210       0.92      0.97      0.95       200\n",
      "      392220       0.73      0.87      0.80       200\n",
      "      392290       0.93      0.94      0.94       200\n",
      "      392310       0.69      0.76      0.72       200\n",
      "      392321       0.80      0.77      0.78       200\n",
      "      392329       0.67      0.78      0.72       200\n",
      "      392330       0.84      0.81      0.83       200\n",
      "      392340       0.83      0.89      0.86       200\n",
      "      392350       0.73      0.71      0.72       200\n",
      "      392390       0.64      0.66      0.65       200\n",
      "      392410       0.70      0.66      0.68       200\n",
      "      392490       0.74      0.56      0.63       200\n",
      "      392510       0.88      0.84      0.86        89\n",
      "      392520       0.86      0.85      0.86       200\n",
      "      392530       0.91      0.95      0.93       200\n",
      "      392590       0.88      0.77      0.82       200\n",
      "      392610       0.90      0.85      0.87       200\n",
      "      392620       0.82      0.78      0.80       200\n",
      "      392630       0.55      0.79      0.65       200\n",
      "      392640       0.71      0.70      0.71       200\n",
      "      392690       0.42      0.26      0.32       200\n",
      "      400110       0.94      0.91      0.93       122\n",
      "      400121       0.87      0.80      0.83       200\n",
      "      400122       0.91      0.86      0.89       200\n",
      "      400129       0.76      0.81      0.79        48\n",
      "      400130       1.00      1.00      1.00        13\n",
      "      400211       0.93      0.97      0.95        99\n",
      "      400219       0.92      0.94      0.93       200\n",
      "      400220       0.87      0.86      0.87       200\n",
      "      400231       0.83      0.75      0.79        20\n",
      "      400239       0.94      0.92      0.93        51\n",
      "      400241       0.96      0.97      0.97       190\n",
      "      400249       0.79      1.00      0.88        15\n",
      "      400251       0.92      0.98      0.95       200\n",
      "      400259       0.95      0.92      0.93        99\n",
      "      400260       0.97      0.96      0.96       157\n",
      "      400270       0.96      0.97      0.96       189\n",
      "      400280       0.83      0.48      0.61        21\n",
      "      400291       0.96      0.94      0.95       194\n",
      "      400299       0.81      0.64      0.72        53\n",
      "      400300       0.98      0.97      0.97       174\n",
      "      400400       0.96      0.91      0.94        57\n",
      "      400510       0.87      0.87      0.87       150\n",
      "      400520       0.80      0.89      0.84         9\n",
      "      400591       0.68      0.74      0.71        43\n",
      "      400599       0.94      0.89      0.91       117\n",
      "      400610       0.79      0.89      0.84       200\n",
      "      400690       0.80      0.42      0.55        19\n",
      "      400700       0.92      0.97      0.95       200\n",
      "      400811       0.72      0.81      0.76        69\n",
      "      400819       0.73      0.48      0.58        23\n",
      "      400821       0.77      0.81      0.79       139\n",
      "      400829       0.43      0.58      0.50        52\n",
      "      400911       0.65      0.47      0.55        59\n",
      "      400912       0.56      0.57      0.56        35\n",
      "      400921       0.81      0.89      0.84       200\n",
      "      400922       0.85      0.57      0.68        49\n",
      "      400931       0.75      0.64      0.69       182\n",
      "      400932       0.71      0.74      0.73        50\n",
      "      400941       0.88      0.91      0.89       161\n",
      "      400942       0.66      0.54      0.59        81\n",
      "      401011       0.82      0.79      0.81        29\n",
      "      401012       0.85      0.75      0.80       124\n",
      "      401019       0.93      0.93      0.93       200\n",
      "      401031       0.79      0.76      0.78        59\n",
      "      401032       0.83      0.53      0.64        36\n",
      "      401033       0.93      0.89      0.91        97\n",
      "      401034       0.89      0.77      0.83        31\n",
      "      401035       0.86      0.73      0.79        66\n",
      "      401036       0.86      0.75      0.80        24\n",
      "      401039       0.72      0.77      0.74       132\n",
      "      401110       0.81      0.81      0.81       200\n",
      "      401120       0.86      0.82      0.84       200\n",
      "      401130       0.96      0.96      0.96        72\n",
      "      401140       0.90      0.94      0.92       200\n",
      "      401150       0.75      0.92      0.83        36\n",
      "      401170       0.78      0.90      0.84       200\n",
      "      401180       0.83      0.77      0.79       200\n",
      "      401190       0.87      0.91      0.89       200\n",
      "      401211       0.93      0.89      0.91       100\n",
      "      401212       0.94      0.94      0.94       200\n",
      "      401213       0.94      0.93      0.94        55\n",
      "      401219       0.88      0.84      0.86        51\n",
      "      401220       0.95      0.91      0.93       200\n",
      "      401290       0.92      0.88      0.90       200\n",
      "      401310       0.91      0.90      0.91       115\n",
      "      401320       0.95      0.97      0.96       200\n",
      "      401390       0.91      0.88      0.89       176\n",
      "      401410       0.90      0.95      0.92        38\n",
      "      401490       1.00      0.74      0.85        31\n",
      "      401511       0.93      0.97      0.95       139\n",
      "      401519       0.90      0.93      0.91       200\n",
      "      401590       0.94      0.90      0.92       100\n",
      "      401610       0.72      0.88      0.79       200\n",
      "      401691       0.90      0.95      0.92       200\n",
      "      401692       0.94      0.99      0.96       135\n",
      "      401693       0.79      0.78      0.78       200\n",
      "      401694       0.75      0.60      0.67         5\n",
      "      401695       0.97      0.93      0.95       200\n",
      "      401699       0.69      0.54      0.61       200\n",
      "      401700       0.87      0.78      0.82        59\n",
      "\n",
      "    accuracy                           0.84     26849\n",
      "   macro avg       0.84      0.82      0.82     26849\n",
      "weighted avg       0.85      0.84      0.84     26849\n",
      "\n",
      "[[176  10   1 ...   0   1   0]\n",
      " [  9 172   0 ...   0   0   0]\n",
      " [  0   0 193 ...   0   0   0]\n",
      " ...\n",
      " [  0   0   0 ... 185   0   0]\n",
      " [  0   0   0 ...   0 108   2]\n",
      " [  0   0   0 ...   0   1  46]]\n",
      "Created predictions in 8.247 seconds\n"
     ]
    }
   ],
   "source": [
    "trial11 = Pipeline([\n",
    "    ('vectorizer', CountVectorizer(stop_words='english')),\n",
    "    ('classifier', RandomForestClassifier()),\n",
    "])\n",
    " \n",
    "acc = train(trial11, X_train['Desc'], y_train, X_dev['Desc'], y_dev, 'saved_models/RF_BOW_model.sav')\n",
    "\n",
    "results.at['RF-BOW Desc','Accuracy'] = acc"
   ]
  },
  {
   "cell_type": "code",
   "execution_count": 21,
   "id": "quiet-intervention",
   "metadata": {},
   "outputs": [
    {
     "name": "stdout",
     "output_type": "stream",
     "text": [
      "Trained model in 1.005e+03 seconds\n",
      "Dev set results:\n",
      "              precision    recall  f1-score   support\n",
      "\n",
      "      390110       0.82      0.89      0.86       200\n",
      "      390120       0.87      0.85      0.86       200\n",
      "      390130       0.97      0.97      0.97       200\n",
      "      390140       0.90      0.97      0.93       181\n",
      "      390190       0.89      0.84      0.87       200\n",
      "      390210       0.83      0.83      0.83       200\n",
      "      390220       0.96      0.95      0.95        95\n",
      "      390230       0.85      0.88      0.86       200\n",
      "      390290       0.84      0.90      0.87       192\n",
      "      390311       0.98      0.98      0.98       200\n",
      "      390319       0.90      0.91      0.91        90\n",
      "      390320       0.94      0.97      0.96       200\n",
      "      390330       0.93      0.93      0.93       200\n",
      "      390390       0.92      0.83      0.87       200\n",
      "      390410       0.92      0.98      0.95       186\n",
      "      390421       0.93      0.89      0.91        46\n",
      "      390422       0.88      0.89      0.88        55\n",
      "      390430       0.92      0.94      0.93       163\n",
      "      390440       0.71      0.36      0.48        14\n",
      "      390450       1.00      0.91      0.95        34\n",
      "      390461       0.92      0.92      0.92       182\n",
      "      390469       0.87      0.90      0.89        91\n",
      "      390490       0.93      0.81      0.87        16\n",
      "      390512       1.00      0.71      0.83        21\n",
      "      390519       0.92      0.86      0.89        28\n",
      "      390521       0.81      0.76      0.79        17\n",
      "      390529       0.94      0.95      0.95       123\n",
      "      390530       0.91      0.97      0.94        61\n",
      "      390591       0.85      0.73      0.79        56\n",
      "      390599       0.64      0.74      0.69        47\n",
      "      390610       0.88      0.85      0.87        72\n",
      "      390690       0.71      0.74      0.73       200\n",
      "      390710       0.86      0.94      0.90       200\n",
      "      390720       0.84      0.84      0.84       200\n",
      "      390730       0.89      0.94      0.91       200\n",
      "      390740       0.85      0.92      0.88       200\n",
      "      390750       0.95      0.86      0.90        43\n",
      "      390761       0.97      0.97      0.97       186\n",
      "      390769       0.88      0.93      0.90        71\n",
      "      390770       1.00      0.50      0.67         4\n",
      "      390791       0.86      0.89      0.88        63\n",
      "      390799       0.83      0.78      0.81       200\n",
      "      390810       0.80      0.80      0.80       200\n",
      "      390890       0.74      0.88      0.80       200\n",
      "      390910       0.94      0.95      0.95       103\n",
      "      390920       0.69      0.56      0.62        32\n",
      "      390931       0.77      0.71      0.74        14\n",
      "      390939       0.44      0.67      0.53         6\n",
      "      390940       0.89      0.88      0.88       112\n",
      "      390950       0.77      0.82      0.79       200\n",
      "      391000       0.89      0.93      0.90       200\n",
      "      391110       0.96      0.98      0.97       135\n",
      "      391190       0.83      0.72      0.78       200\n",
      "      391211       0.86      1.00      0.92         6\n",
      "      391212       0.00      0.00      0.00         1\n",
      "      391220       0.93      0.99      0.96        70\n",
      "      391231       0.84      0.96      0.90       200\n",
      "      391239       0.97      0.97      0.97       200\n",
      "      391290       0.92      0.96      0.94       185\n",
      "      391310       0.96      0.88      0.92        26\n",
      "      391390       0.97      0.85      0.91        88\n",
      "      391400       0.89      0.96      0.92       150\n",
      "      391510       0.84      0.75      0.79        28\n",
      "      391520       0.83      0.91      0.87        11\n",
      "      391530       0.98      0.97      0.98       115\n",
      "      391590       0.86      0.96      0.91       200\n",
      "      391610       0.69      0.59      0.64        37\n",
      "      391620       0.85      0.84      0.85       200\n",
      "      391690       0.76      0.75      0.75       182\n",
      "      391710       0.94      0.93      0.94       123\n",
      "      391721       0.75      0.63      0.69        57\n",
      "      391722       0.86      0.96      0.91       200\n",
      "      391723       0.92      0.74      0.82        88\n",
      "      391729       0.62      0.62      0.62        91\n",
      "      391731       0.74      0.68      0.71       103\n",
      "      391732       0.66      0.69      0.68       200\n",
      "      391733       0.54      0.68      0.60        74\n",
      "      391739       0.66      0.67      0.66       200\n",
      "      391740       0.83      0.78      0.80       200\n",
      "      391810       0.87      0.94      0.91       200\n",
      "      391890       0.87      0.90      0.88       200\n",
      "      391910       0.83      0.79      0.81       200\n",
      "      391990       0.70      0.68      0.69       200\n",
      "      392010       0.81      0.73      0.77       200\n",
      "      392020       0.85      0.86      0.86       200\n",
      "      392030       0.86      0.93      0.89       200\n",
      "      392043       0.90      0.89      0.90       194\n",
      "      392049       0.83      0.84      0.83       174\n",
      "      392051       0.87      0.91      0.89       152\n",
      "      392059       0.80      0.84      0.82        44\n",
      "      392061       0.88      0.78      0.83        78\n",
      "      392062       0.84      0.81      0.83       200\n",
      "      392063       0.86      0.43      0.57        14\n",
      "      392069       0.91      0.71      0.80        55\n",
      "      392071       0.86      1.00      0.93        25\n",
      "      392073       1.00      0.60      0.75        15\n",
      "      392079       0.80      0.71      0.75        28\n",
      "      392091       0.97      0.97      0.97        67\n",
      "      392092       0.84      0.87      0.86        31\n",
      "      392093       0.50      0.67      0.57         3\n",
      "      392094       0.80      0.57      0.67         7\n",
      "      392099       0.87      0.79      0.83       141\n",
      "      392111       0.72      0.77      0.74        30\n",
      "      392112       0.91      0.85      0.88       200\n",
      "      392113       0.77      0.77      0.77       200\n",
      "      392114       0.77      0.97      0.86        78\n",
      "      392119       0.86      0.82      0.84       200\n",
      "      392190       0.75      0.69      0.72       200\n",
      "      392210       0.93      0.96      0.95       200\n",
      "      392220       0.75      0.88      0.81       200\n",
      "      392290       0.94      0.96      0.95       200\n",
      "      392310       0.73      0.78      0.75       200\n",
      "      392321       0.76      0.79      0.78       200\n",
      "      392329       0.74      0.76      0.75       200\n",
      "      392330       0.81      0.83      0.82       200\n",
      "      392340       0.86      0.90      0.88       200\n",
      "      392350       0.76      0.77      0.76       200\n",
      "      392390       0.71      0.69      0.70       200\n",
      "      392410       0.65      0.68      0.66       200\n",
      "      392490       0.68      0.56      0.61       200\n",
      "      392510       0.93      0.84      0.88        89\n",
      "      392520       0.83      0.91      0.87       200\n",
      "      392530       0.94      0.94      0.94       200\n",
      "      392590       0.89      0.79      0.84       200\n",
      "      392610       0.92      0.87      0.89       200\n",
      "      392620       0.82      0.77      0.80       200\n",
      "      392630       0.63      0.79      0.70       200\n",
      "      392640       0.65      0.72      0.68       200\n",
      "      392690       0.39      0.26      0.31       200\n",
      "      400110       0.93      0.93      0.93       122\n",
      "      400121       0.83      0.81      0.82       200\n",
      "      400122       0.91      0.84      0.88       200\n",
      "      400129       0.77      0.75      0.76        48\n",
      "      400130       1.00      1.00      1.00        13\n",
      "      400211       0.91      0.97      0.94        99\n",
      "      400219       0.94      0.94      0.94       200\n",
      "      400220       0.92      0.81      0.86       200\n",
      "      400231       0.85      0.85      0.85        20\n",
      "      400239       0.94      0.94      0.94        51\n",
      "      400241       0.97      0.98      0.98       190\n",
      "      400249       0.75      1.00      0.86        15\n",
      "      400251       0.90      0.99      0.95       200\n",
      "      400259       0.98      0.93      0.95        99\n",
      "      400260       0.96      0.96      0.96       157\n",
      "      400270       0.95      0.98      0.96       189\n",
      "      400280       0.92      0.52      0.67        21\n",
      "      400291       0.93      0.96      0.94       194\n",
      "      400299       0.78      0.60      0.68        53\n",
      "      400300       0.97      0.98      0.97       174\n",
      "      400400       0.94      0.89      0.92        57\n",
      "      400510       0.89      0.89      0.89       150\n",
      "      400520       0.82      1.00      0.90         9\n",
      "      400591       0.76      0.72      0.74        43\n",
      "      400599       0.96      0.88      0.92       117\n",
      "      400610       0.84      0.88      0.86       200\n",
      "      400690       0.92      0.58      0.71        19\n",
      "      400700       0.93      0.98      0.96       200\n",
      "      400811       0.72      0.84      0.77        69\n",
      "      400819       0.86      0.52      0.65        23\n",
      "      400821       0.79      0.79      0.79       139\n",
      "      400829       0.58      0.50      0.54        52\n",
      "      400911       0.62      0.42      0.51        59\n",
      "      400912       0.72      0.60      0.66        35\n",
      "      400921       0.78      0.90      0.83       200\n",
      "      400922       0.72      0.57      0.64        49\n",
      "      400931       0.77      0.63      0.69       182\n",
      "      400932       0.74      0.74      0.74        50\n",
      "      400941       0.89      0.90      0.90       161\n",
      "      400942       0.59      0.54      0.56        81\n",
      "      401011       0.83      0.83      0.83        29\n",
      "      401012       0.89      0.74      0.81       124\n",
      "      401019       0.93      0.94      0.94       200\n",
      "      401031       0.74      0.76      0.75        59\n",
      "      401032       0.73      0.53      0.61        36\n",
      "      401033       0.95      0.90      0.92        97\n",
      "      401034       0.93      0.87      0.90        31\n",
      "      401035       0.89      0.76      0.82        66\n",
      "      401036       0.90      0.75      0.82        24\n",
      "      401039       0.81      0.82      0.81       132\n",
      "      401110       0.80      0.82      0.81       200\n",
      "      401120       0.84      0.82      0.83       200\n",
      "      401130       0.92      0.93      0.92        72\n",
      "      401140       0.89      0.95      0.92       200\n",
      "      401150       0.84      0.86      0.85        36\n",
      "      401170       0.81      0.91      0.86       200\n",
      "      401180       0.81      0.77      0.79       200\n",
      "      401190       0.90      0.89      0.89       200\n",
      "      401211       0.93      0.93      0.93       100\n",
      "      401212       0.95      0.97      0.96       200\n",
      "      401213       0.96      0.89      0.92        55\n",
      "      401219       0.90      0.86      0.88        51\n",
      "      401220       0.94      0.93      0.93       200\n",
      "      401290       0.92      0.91      0.91       200\n",
      "      401310       0.94      0.92      0.93       115\n",
      "      401320       0.96      0.96      0.96       200\n",
      "      401390       0.93      0.88      0.90       176\n",
      "      401410       0.97      0.87      0.92        38\n",
      "      401490       1.00      0.74      0.85        31\n",
      "      401511       0.91      0.92      0.92       139\n",
      "      401519       0.89      0.92      0.91       200\n",
      "      401590       0.97      0.93      0.95       100\n",
      "      401610       0.75      0.89      0.81       200\n",
      "      401691       0.88      0.94      0.91       200\n",
      "      401692       0.92      0.97      0.94       135\n",
      "      401693       0.79      0.79      0.79       200\n",
      "      401694       1.00      0.60      0.75         5\n",
      "      401695       0.96      0.94      0.95       200\n",
      "      401699       0.67      0.58      0.62       200\n",
      "      401700       0.85      0.76      0.80        59\n",
      "\n",
      "    accuracy                           0.85     26849\n",
      "   macro avg       0.84      0.82      0.83     26849\n",
      "weighted avg       0.85      0.85      0.85     26849\n",
      "\n",
      "[[178   7   1 ...   0   1   0]\n",
      " [ 10 170   0 ...   0   0   0]\n",
      " [  0   0 195 ...   0   0   0]\n",
      " ...\n",
      " [  1   0   0 ... 189   1   0]\n",
      " [  0   1   0 ...   0 116   2]\n",
      " [  0   0   0 ...   0   0  45]]\n",
      "Created predictions in 6.769 seconds\n"
     ]
    }
   ],
   "source": [
    "trial12 = Pipeline([\n",
    "    ('vectorizer', TfidfVectorizer(stop_words='english')),\n",
    "    ('classifier', RandomForestClassifier()),\n",
    "])\n",
    " \n",
    "acc = train(trial12, X_train['Desc'], y_train, X_dev['Desc'], y_dev, 'saved_models/RF_tfidf_model.sav')\n",
    "\n",
    "results.at['RF-tfidf Desc','Accuracy'] = acc"
   ]
  },
  {
   "cell_type": "markdown",
   "id": "colonial-identification",
   "metadata": {},
   "source": [
    "### Reload models, generate results"
   ]
  },
  {
   "cell_type": "code",
   "execution_count": 16,
   "id": "spread-doubt",
   "metadata": {},
   "outputs": [],
   "source": [
    "# https://machinelearningmastery.com/save-load-machine-learning-models-python-scikit-learn/\n",
    "\n",
    "def load_model(filename):\n",
    "    loaded = pickle.load(open(filename, 'rb'))\n",
    "    return loaded"
   ]
  },
  {
   "cell_type": "code",
   "execution_count": 17,
   "id": "mineral-seeker",
   "metadata": {},
   "outputs": [],
   "source": [
    "nb_bow_mod = load_model('saved_models/NB_BOW_model.sav')\n",
    "results.at['NB-BOW Desc','Accuracy'] = nb_bow_mod.score(X_dev['Desc'], y_dev)\n",
    "\n",
    "nb_tfidf_mod = load_model('saved_models/NB_tfidf_model.sav')\n",
    "results.at['NB-tfidf Desc','Accuracy'] = nb_tfidf_mod.score(X_dev['Desc'], y_dev)\n",
    "\n",
    "knn_bow_mod = load_model('saved_models/KNN_BOW_model.sav')\n",
    "results.at['KNN-BOW Desc','Accuracy'] = knn_bow_mod.score(X_dev['Desc'], y_dev)\n",
    "\n",
    "knn_tfidf_mod = load_model('saved_models/KNN_tfidf_model.sav')\n",
    "results.at['KNN-tfidf Desc','Accuracy'] = knn_tfidf_mod.score(X_dev['Desc'], y_dev)\n",
    "\n"
   ]
  },
  {
   "cell_type": "code",
   "execution_count": 19,
   "id": "finite-solution",
   "metadata": {},
   "outputs": [],
   "source": [
    "lr_bow_mod = load_model('saved_models/LogReg_BOW_model.sav')\n",
    "results.at['LogReg-BOW Desc','Accuracy'] = lr_bow_mod.score(X_dev['Desc'], y_dev)\n",
    "\n",
    "lr_tfidf_mod = load_model('saved_models/LogReg_tfidf_model.sav')\n",
    "results.at['LogReg-tfidf Desc','Accuracy'] = lr_tfidf_mod.score(X_dev['Desc'], y_dev)\n",
    "\n",
    "rf_bow_mod = load_model('saved_models/RF_BOW_model.sav')\n",
    "results.at['RF-BOW Desc','Accuracy'] = rf_bow_mod.score(X_dev['Desc'], y_dev)\n",
    "\n",
    "rf_tfidf_mod = load_model('saved_models/RF_tfidf_model.sav')\n",
    "results.at['RF-tfidf Desc','Accuracy'] = rf_tfidf_mod.score(X_dev['Desc'], y_dev)"
   ]
  },
  {
   "cell_type": "code",
   "execution_count": 21,
   "id": "multiple-scottish",
   "metadata": {},
   "outputs": [],
   "source": [
    "xgb_bow_mod = load_model('saved_models/XGB_BOW_model.sav')\n",
    "results.at['XGBoost-BOW Desc','Accuracy'] = xgb_bow_mod.score(X_dev['Desc'], y_dev)\n",
    "\n",
    "xgb_tfidf_mod = load_model('saved_models/XGB_tfidf_model.sav')\n",
    "results.at['XGBoost-tfidf Desc','Accuracy'] = xgb_tfidf_mod.score(X_dev['Desc'], y_dev)\n",
    "\n",
    "svm_bow_mod = load_model('saved_models/SVM_BOW_model.sav')\n",
    "results.at['SVM-BOW Desc','Accuracy'] = svm_bow_mod.score(X_dev['Desc'], y_dev)\n",
    "\n",
    "svm_tfidf_mod = load_model('saved_models/SVM_tfidf_model.sav')\n",
    "results.at['SVM-tfidf Desc','Accuracy'] = svm_tfidf_mod.score(X_dev['Desc'], y_dev)"
   ]
  },
  {
   "cell_type": "code",
   "execution_count": 22,
   "id": "pleased-adobe",
   "metadata": {},
   "outputs": [
    {
     "data": {
      "text/html": [
       "<div>\n",
       "<style scoped>\n",
       "    .dataframe tbody tr th:only-of-type {\n",
       "        vertical-align: middle;\n",
       "    }\n",
       "\n",
       "    .dataframe tbody tr th {\n",
       "        vertical-align: top;\n",
       "    }\n",
       "\n",
       "    .dataframe thead th {\n",
       "        text-align: right;\n",
       "    }\n",
       "</style>\n",
       "<table border=\"1\" class=\"dataframe\">\n",
       "  <thead>\n",
       "    <tr style=\"text-align: right;\">\n",
       "      <th></th>\n",
       "      <th>Accuracy</th>\n",
       "    </tr>\n",
       "  </thead>\n",
       "  <tbody>\n",
       "    <tr>\n",
       "      <th>Baseline</th>\n",
       "      <td>0.007458</td>\n",
       "    </tr>\n",
       "    <tr>\n",
       "      <th>NB-BOW Desc</th>\n",
       "      <td>0.653581</td>\n",
       "    </tr>\n",
       "    <tr>\n",
       "      <th>NB-tfidf Desc</th>\n",
       "      <td>0.688406</td>\n",
       "    </tr>\n",
       "    <tr>\n",
       "      <th>KNN-BOW Desc</th>\n",
       "      <td>0.750605</td>\n",
       "    </tr>\n",
       "    <tr>\n",
       "      <th>KNN-tfidf Desc</th>\n",
       "      <td>0.760512</td>\n",
       "    </tr>\n",
       "    <tr>\n",
       "      <th>LogReg-BOW Desc</th>\n",
       "      <td>0.832061</td>\n",
       "    </tr>\n",
       "    <tr>\n",
       "      <th>LogReg-tfidf Desc</th>\n",
       "      <td>0.801557</td>\n",
       "    </tr>\n",
       "    <tr>\n",
       "      <th>SVM-BOW Desc</th>\n",
       "      <td>0.457149</td>\n",
       "    </tr>\n",
       "    <tr>\n",
       "      <th>SVM-tfidf Desc</th>\n",
       "      <td>0.834668</td>\n",
       "    </tr>\n",
       "    <tr>\n",
       "      <th>XGBoost-BOW Desc</th>\n",
       "      <td>0.829081</td>\n",
       "    </tr>\n",
       "    <tr>\n",
       "      <th>XGBoost-tfidf Desc</th>\n",
       "      <td>0.817759</td>\n",
       "    </tr>\n",
       "    <tr>\n",
       "      <th>RF-BOW Desc</th>\n",
       "      <td>0.84465</td>\n",
       "    </tr>\n",
       "    <tr>\n",
       "      <th>RF-tfidf Desc</th>\n",
       "      <td>0.849976</td>\n",
       "    </tr>\n",
       "  </tbody>\n",
       "</table>\n",
       "</div>"
      ],
      "text/plain": [
       "                    Accuracy\n",
       "Baseline            0.007458\n",
       "NB-BOW Desc         0.653581\n",
       "NB-tfidf Desc       0.688406\n",
       "KNN-BOW Desc        0.750605\n",
       "KNN-tfidf Desc      0.760512\n",
       "LogReg-BOW Desc     0.832061\n",
       "LogReg-tfidf Desc   0.801557\n",
       "SVM-BOW Desc        0.457149\n",
       "SVM-tfidf Desc      0.834668\n",
       "XGBoost-BOW Desc    0.829081\n",
       "XGBoost-tfidf Desc  0.817759\n",
       "RF-BOW Desc          0.84465\n",
       "RF-tfidf Desc       0.849976"
      ]
     },
     "execution_count": 22,
     "metadata": {},
     "output_type": "execute_result"
    }
   ],
   "source": [
    "results"
   ]
  },
  {
   "cell_type": "code",
   "execution_count": 27,
   "id": "sporting-czech",
   "metadata": {},
   "outputs": [
    {
     "data": {
      "text/plain": [
       "Text(0.5, 1.0, 'Model Comparison, Chapters 39 & 40')"
      ]
     },
     "execution_count": 27,
     "metadata": {},
     "output_type": "execute_result"
    },
    {
     "data": {
      "image/png": "[encoded data removed]",
      "text/plain": [
       "<Figure size 432x288 with 1 Axes>"
      ]
     },
     "metadata": {
      "needs_background": "light"
     },
     "output_type": "display_data"
    }
   ],
   "source": [
    "ax = sns.barplot(x=results.index, y=results[\"Accuracy\"])\n",
    "ax.set_xticklabels(ax.get_xticklabels(),rotation=75)\n",
    "plt.title(\"Model Comparison, Chapters 39 & 40\", size=20)"
   ]
  },
  {
   "cell_type": "code",
   "execution_count": 23,
   "id": "innovative-destiny",
   "metadata": {},
   "outputs": [],
   "source": [
    "results.to_csv('ModelResults_Chp39_40_'+ '03022021' + '.csv', index=False)"
   ]
  },
  {
   "cell_type": "markdown",
   "id": "antique-exclusion",
   "metadata": {
    "heading_collapsed": "true"
   },
   "source": [
    "## Work with the BERT embeddings"
   ]
  },
  {
   "cell_type": "code",
   "execution_count": null,
   "id": "resistant-thousand",
   "metadata": {},
   "outputs": [],
   "source": [
    "models = {\n",
    "    'knn' : KNeighborsClassifier(), 'logit' : LogisticRegression(), 'svm': SVC()\n",
    "}\n",
    "\n",
    "for model, call in models.items():\n",
    "    print(f'Training {model}')\n",
    "    call.fit(X_train['BERT_Product Desc'], y_train)\n",
    "    pred = call.predict(X_dev['BERT_Product Desc'], y_dev)\n",
    "    print(accuracy_score(y_dev, pred))\n",
    "    print()"
   ]
  },
  {
   "cell_type": "code",
   "execution_count": null,
   "id": "heavy-emphasis",
   "metadata": {},
   "outputs": [],
   "source": []
  }
 ],
 "metadata": {
  "kernelspec": {
   "display_name": "Python 3",
   "language": "python",
   "name": "python3"
  },
  "language_info": {
   "codemirror_mode": {
    "name": "ipython",
    "version": 3
   },
   "file_extension": ".py",
   "mimetype": "text/x-python",
   "name": "python",
   "nbconvert_exporter": "python",
   "pygments_lexer": "ipython3",
   "version": "3.8.5"
  }
 },
 "nbformat": 4,
 "nbformat_minor": 5
}
