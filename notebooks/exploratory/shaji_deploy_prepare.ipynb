{
 "cells": [
  {
   "cell_type": "markdown",
   "id": "curious-humanitarian",
   "metadata": {},
   "source": [
    "# Naive Bayes"
   ]
  },
  {
   "cell_type": "code",
   "execution_count": 3,
   "id": "macro-engagement",
   "metadata": {},
   "outputs": [],
   "source": [
    "import pandas as pd\n",
    "import re\n",
    "from sklearn.naive_bayes import MultinomialNB\n",
    "from sklearn.feature_extraction.text import CountVectorizer, TfidfVectorizer\n",
    "from sklearn.metrics import confusion_matrix, f1_score, precision_score, recall_score, plot_confusion_matrix\n",
    "from sklearn.model_selection import train_test_split\n",
    "import numpy as np"
   ]
  },
  {
   "cell_type": "code",
   "execution_count": 4,
   "id": "opponent-placement",
   "metadata": {},
   "outputs": [],
   "source": [
    "import dask.dataframe as dd\n",
    "random_seed = 1"
   ]
  },
  {
   "cell_type": "code",
   "execution_count": 5,
   "id": "rough-portable",
   "metadata": {},
   "outputs": [],
   "source": [
    "sampled_df = (dd.read_parquet('/data/common/trade_data/2019_updated/data_samples/sample_chap39_40.parq')\n",
    "              .compute()\n",
    "              .rename({'HS_Code' : 'label', 'Product Desc' : 'text'}, axis=1)\n",
    "              .astype({'label': 'str', 'text': 'str'})[['label', 'text']])\n",
    "              "
   ]
  },
  {
   "cell_type": "code",
   "execution_count": 7,
   "id": "consolidated-backup",
   "metadata": {},
   "outputs": [],
   "source": [
    "all_classes = sampled_df.label.unique()\n",
    "sampled_df = sampled_df[['label', 'text']]\n",
    "sampled_df.text = sampled_df.text.apply(lambda x : x.lower())\n",
    "sampled_df.text = sampled_df.text.apply(lambda x : re.sub(r'<br/>.*', '', x))\n",
    "sampled_df.text = sampled_df.text.apply(lambda x : re.sub(r'\\d{4,}.\\d\\d', 'xxxx', x))\n",
    "sampled_df.text = sampled_df.text.apply(lambda x : re.sub(r'\\d{4,}.\\d', 'xxxx', x))\n",
    "sampled_df.text = sampled_df.text.apply(lambda x : re.sub(r'\\d{4,}', 'xxxx', x))"
   ]
  },
  {
   "cell_type": "code",
   "execution_count": 8,
   "id": "unsigned-daniel",
   "metadata": {},
   "outputs": [
    {
     "data": {
      "text/plain": [
       "Index(['label', 'text'], dtype='object')"
      ]
     },
     "execution_count": 8,
     "metadata": {},
     "output_type": "execute_result"
    }
   ],
   "source": [
    "sampled_df.columns"
   ]
  },
  {
   "cell_type": "markdown",
   "id": "accredited-accused",
   "metadata": {},
   "source": [
    "# Train and test split"
   ]
  },
  {
   "cell_type": "code",
   "execution_count": 9,
   "id": "senior-marshall",
   "metadata": {},
   "outputs": [],
   "source": [
    "X_train, X_dev, y_train, y_dev = train_test_split(sampled_df, sampled_df['label'], test_size=0.2, random_state=91, stratify=sampled_df['label'])"
   ]
  },
  {
   "cell_type": "code",
   "execution_count": 10,
   "id": "light-violence",
   "metadata": {},
   "outputs": [],
   "source": [
    "count_vector = TfidfVectorizer(max_features=30000)\n",
    "X_train_counts = count_vector.fit_transform(X_train['text'])"
   ]
  },
  {
   "cell_type": "code",
   "execution_count": 11,
   "id": "shared-wyoming",
   "metadata": {},
   "outputs": [],
   "source": [
    "clf1 = MultinomialNB().fit(X_train_counts, y_train)"
   ]
  },
  {
   "cell_type": "code",
   "execution_count": 12,
   "id": "reliable-vitamin",
   "metadata": {},
   "outputs": [],
   "source": [
    "X_new_counts = count_vector.transform(X_dev['text'])\n",
    "predicted = clf1.predict(X_new_counts)"
   ]
  },
  {
   "cell_type": "markdown",
   "id": "neural-indianapolis",
   "metadata": {},
   "source": [
    "# Print the scores\n"
   ]
  },
  {
   "cell_type": "code",
   "execution_count": 13,
   "id": "bibliographic-durham",
   "metadata": {},
   "outputs": [
    {
     "name": "stdout",
     "output_type": "stream",
     "text": [
      "F1 score: 0.5410379313686002\n",
      "Precision: 0.6777918647235479\n",
      "Recall: 0.5267339535600387\n"
     ]
    },
    {
     "name": "stderr",
     "output_type": "stream",
     "text": [
      "/usr/local/lib/python3.8/dist-packages/sklearn/metrics/_classification.py:1245: UndefinedMetricWarning: Precision is ill-defined and being set to 0.0 in labels with no predicted samples. Use `zero_division` parameter to control this behavior.\n",
      "  _warn_prf(average, modifier, msg_start, len(result))\n"
     ]
    }
   ],
   "source": [
    "print('F1 score:', f1_score(y_dev, predicted, average=\"macro\"))\n",
    "print('Precision:', precision_score(y_dev, predicted, average=\"macro\"))\n",
    "print('Recall:', recall_score(y_dev, predicted, average=\"macro\"))"
   ]
  },
  {
   "cell_type": "markdown",
   "id": "funded-cylinder",
   "metadata": {},
   "source": [
    "# Do a sample prediction \n"
   ]
  },
  {
   "cell_type": "code",
   "execution_count": 15,
   "id": "effective-vanilla",
   "metadata": {},
   "outputs": [],
   "source": [
    "all_classes = np.array(list(clf1.classes_))\n",
    "convert = lambda x: all_classes[x]\n",
    "\n",
    "def get_sample_prediction(text, num_samples=20) :\n",
    "    cv = count_vector.transform(pd.Series(data=[text]))\n",
    "    prob = clf1.predict_proba(cv)\n",
    "    fist_one = prob[0]\n",
    "    sorted_idx = np.argsort(-fist_one)\n",
    "    sorted_values = fist_one[sorted_idx]\n",
    "    return pd.DataFrame({'idx' : convert(sorted_idx), 'probablity' : sorted_values}).head(num_samples)"
   ]
  },
  {
   "cell_type": "code",
   "execution_count": 16,
   "id": "proud-calculator",
   "metadata": {},
   "outputs": [
    {
     "data": {
      "text/html": [
       "<div>\n",
       "<style scoped>\n",
       "    .dataframe tbody tr th:only-of-type {\n",
       "        vertical-align: middle;\n",
       "    }\n",
       "\n",
       "    .dataframe tbody tr th {\n",
       "        vertical-align: top;\n",
       "    }\n",
       "\n",
       "    .dataframe thead th {\n",
       "        text-align: right;\n",
       "    }\n",
       "</style>\n",
       "<table border=\"1\" class=\"dataframe\">\n",
       "  <thead>\n",
       "    <tr style=\"text-align: right;\">\n",
       "      <th></th>\n",
       "      <th>idx</th>\n",
       "      <th>probablity</th>\n",
       "    </tr>\n",
       "  </thead>\n",
       "  <tbody>\n",
       "    <tr>\n",
       "      <th>0</th>\n",
       "      <td>392030</td>\n",
       "      <td>0.015141</td>\n",
       "    </tr>\n",
       "    <tr>\n",
       "      <th>1</th>\n",
       "      <td>400251</td>\n",
       "      <td>0.009406</td>\n",
       "    </tr>\n",
       "    <tr>\n",
       "      <th>2</th>\n",
       "      <td>392113</td>\n",
       "      <td>0.007936</td>\n",
       "    </tr>\n",
       "    <tr>\n",
       "      <th>3</th>\n",
       "      <td>391990</td>\n",
       "      <td>0.007590</td>\n",
       "    </tr>\n",
       "    <tr>\n",
       "      <th>4</th>\n",
       "      <td>390130</td>\n",
       "      <td>0.007501</td>\n",
       "    </tr>\n",
       "  </tbody>\n",
       "</table>\n",
       "</div>"
      ],
      "text/plain": [
       "      idx  probablity\n",
       "0  392030    0.015141\n",
       "1  400251    0.009406\n",
       "2  392113    0.007936\n",
       "3  391990    0.007590\n",
       "4  390130    0.007501"
      ]
     },
     "execution_count": 16,
     "metadata": {},
     "output_type": "execute_result"
    }
   ],
   "source": [
    "get_sample_prediction(\"Hello\", 5)"
   ]
  },
  {
   "cell_type": "markdown",
   "id": "thousand-monte",
   "metadata": {},
   "source": [
    "# Save pickle\n"
   ]
  },
  {
   "cell_type": "code",
   "execution_count": 19,
   "id": "attractive-sudan",
   "metadata": {},
   "outputs": [],
   "source": [
    "import pickle\n",
    "\n",
    "pickle.dump(count_vector, open(\"count_vector.pickle\", \"wb\"))\n",
    "pickle.dump(clf1, open(\"nv_clf.pickle\", \"wb\"))"
   ]
  },
  {
   "cell_type": "code",
   "execution_count": null,
   "id": "accompanied-terminal",
   "metadata": {},
   "outputs": [],
   "source": []
  }
 ],
 "metadata": {
  "kernelspec": {
   "display_name": "Python 3",
   "language": "python",
   "name": "python3"
  },
  "language_info": {
   "codemirror_mode": {
    "name": "ipython",
    "version": 3
   },
   "file_extension": ".py",
   "mimetype": "text/x-python",
   "name": "python",
   "nbconvert_exporter": "python",
   "pygments_lexer": "ipython3",
   "version": "3.8.5"
  }
 },
 "nbformat": 4,
 "nbformat_minor": 5
}
