{
 "cells": [
  {
   "cell_type": "markdown",
   "id": "spatial-beaver",
   "metadata": {},
   "source": [
    "## References & starter code"
   ]
  },
  {
   "cell_type": "markdown",
   "id": "emerging-width",
   "metadata": {},
   "source": [
    "https://github.com/dmlc/xgboost/blob/master/demo/guide-python/basic_walkthrough.py"
   ]
  },
  {
   "cell_type": "code",
   "execution_count": 1,
   "id": "native-monday",
   "metadata": {},
   "outputs": [],
   "source": [
    "import numpy as np\n",
    "\n",
    "import xgboost as xgb\n",
    "\n",
    "import pandas as pd\n",
    "from tqdm import tqdm\n",
    "\n",
    "from scipy import sparse\n",
    "from scipy import stats\n",
    "from tqdm.notebook import tqdm\n",
    "from sklearn.preprocessing import LabelEncoder "
   ]
  },
  {
   "cell_type": "code",
   "execution_count": 2,
   "id": "ignored-chaos",
   "metadata": {},
   "outputs": [
    {
     "data": {
      "text/plain": [
       "'0.90'"
      ]
     },
     "execution_count": 2,
     "metadata": {},
     "output_type": "execute_result"
    }
   ],
   "source": [
    "xgb.__version__"
   ]
  },
  {
   "cell_type": "code",
   "execution_count": 3,
   "id": "efficient-horror",
   "metadata": {},
   "outputs": [
    {
     "name": "stderr",
     "output_type": "stream",
     "text": [
      "[nltk_data] Downloading package wordnet to /root/nltk_data...\n",
      "[nltk_data]   Package wordnet is already up-to-date!\n",
      "[nltk_data] Downloading package averaged_perceptron_tagger to\n",
      "[nltk_data]     /root/nltk_data...\n",
      "[nltk_data]   Package averaged_perceptron_tagger is already up-to-\n",
      "[nltk_data]       date!\n",
      "[nltk_data] Downloading package stopwords to /root/nltk_data...\n",
      "[nltk_data]   Package stopwords is already up-to-date!\n"
     ]
    }
   ],
   "source": [
    "import nltk\n",
    "nltk.download('wordnet')\n",
    "from nltk.stem import WordNetLemmatizer\n",
    "from nltk.corpus import wordnet\n",
    "nltk.download('averaged_perceptron_tagger')\n",
    "nltk.download('stopwords')\n",
    "\n",
    "from nltk.corpus import stopwords\n",
    "stop = stopwords.words('english')\n",
    "import re\n",
    "import glob"
   ]
  },
  {
   "cell_type": "code",
   "execution_count": 4,
   "id": "private-hormone",
   "metadata": {},
   "outputs": [],
   "source": [
    "import dask.dataframe as dd\n",
    "from dask.diagnostics import ProgressBar\n",
    "ProgressBar().register()\n",
    "import pickle"
   ]
  },
  {
   "cell_type": "code",
   "execution_count": 18,
   "id": "valued-holly",
   "metadata": {},
   "outputs": [
    {
     "name": "stdout",
     "output_type": "stream",
     "text": [
      "_common_metadata  part.24.parquet  part.41.parquet  part.59.parquet\n",
      "_metadata\t  part.25.parquet  part.42.parquet  part.6.parquet\n",
      "part.0.parquet\t  part.26.parquet  part.43.parquet  part.60.parquet\n",
      "part.1.parquet\t  part.27.parquet  part.44.parquet  part.61.parquet\n",
      "part.10.parquet   part.28.parquet  part.45.parquet  part.62.parquet\n",
      "part.11.parquet   part.29.parquet  part.46.parquet  part.63.parquet\n",
      "part.12.parquet   part.3.parquet   part.47.parquet  part.64.parquet\n",
      "part.13.parquet   part.30.parquet  part.48.parquet  part.65.parquet\n",
      "part.14.parquet   part.31.parquet  part.49.parquet  part.66.parquet\n",
      "part.15.parquet   part.32.parquet  part.5.parquet   part.67.parquet\n",
      "part.16.parquet   part.33.parquet  part.50.parquet  part.68.parquet\n",
      "part.17.parquet   part.34.parquet  part.51.parquet  part.69.parquet\n",
      "part.18.parquet   part.35.parquet  part.52.parquet  part.7.parquet\n",
      "part.19.parquet   part.36.parquet  part.53.parquet  part.70.parquet\n",
      "part.2.parquet\t  part.37.parquet  part.54.parquet  part.71.parquet\n",
      "part.20.parquet   part.38.parquet  part.55.parquet  part.8.parquet\n",
      "part.21.parquet   part.39.parquet  part.56.parquet  part.9.parquet\n",
      "part.22.parquet   part.4.parquet   part.57.parquet\n",
      "part.23.parquet   part.40.parquet  part.58.parquet\n"
     ]
    }
   ],
   "source": [
    "!ls /data/work/shajikk/0308/data/full_cleaned"
   ]
  },
  {
   "cell_type": "code",
   "execution_count": 5,
   "id": "golden-expression",
   "metadata": {},
   "outputs": [],
   "source": [
    "result_dd = dd.read_parquet('/data/work/shajikk/0308/data/full_cleaned')"
   ]
  },
  {
   "cell_type": "code",
   "execution_count": 6,
   "id": "antique-appointment",
   "metadata": {},
   "outputs": [
    {
     "name": "stdout",
     "output_type": "stream",
     "text": [
      "[########################################] | 100% Completed |  2.0s\n"
     ]
    },
    {
     "data": {
      "text/html": [
       "<div>\n",
       "<style scoped>\n",
       "    .dataframe tbody tr th:only-of-type {\n",
       "        vertical-align: middle;\n",
       "    }\n",
       "\n",
       "    .dataframe tbody tr th {\n",
       "        vertical-align: top;\n",
       "    }\n",
       "\n",
       "    .dataframe thead th {\n",
       "        text-align: right;\n",
       "    }\n",
       "</style>\n",
       "<table border=\"1\" class=\"dataframe\">\n",
       "  <thead>\n",
       "    <tr style=\"text-align: right;\">\n",
       "      <th></th>\n",
       "      <th>label</th>\n",
       "      <th>text</th>\n",
       "    </tr>\n",
       "    <tr>\n",
       "      <th>index</th>\n",
       "      <th></th>\n",
       "      <th></th>\n",
       "    </tr>\n",
       "  </thead>\n",
       "  <tbody>\n",
       "    <tr>\n",
       "      <th>0</th>\n",
       "      <td>090111</td>\n",
       "      <td>1 x 20 container described as 275 bags green c...</td>\n",
       "    </tr>\n",
       "    <tr>\n",
       "      <th>1</th>\n",
       "      <td>090111</td>\n",
       "      <td>arabica green coffee beans</td>\n",
       "    </tr>\n",
       "  </tbody>\n",
       "</table>\n",
       "</div>"
      ],
      "text/plain": [
       "        label                                               text\n",
       "index                                                           \n",
       "0      090111  1 x 20 container described as 275 bags green c...\n",
       "1      090111                         arabica green coffee beans"
      ]
     },
     "execution_count": 6,
     "metadata": {},
     "output_type": "execute_result"
    }
   ],
   "source": [
    "result_dd.head(2)"
   ]
  },
  {
   "cell_type": "code",
   "execution_count": 10,
   "id": "interracial-listening",
   "metadata": {},
   "outputs": [],
   "source": [
    "# files1 = glob.glob('/data/common/trade_data/2019_updated/data_samples_ignore_multiple_hscode/sample_by_chapter/sample_chap_1*.parq')\n",
    "# files2 = glob.glob('/data/common/trade_data/2019_updated/data_samples_ignore_multiple_hscode/sample_by_chapter/sample_chap_2*.parq')\n",
    "# files3 = glob.glob('/data/common/trade_data/2019_updated/data_samples_ignore_multiple_hscode/sample_by_chapter/sample_chap_3*.parq')\n",
    "# files4 = glob.glob('/data/common/trade_data/2019_updated/data_samples_ignore_multiple_hscode/sample_by_chapter/sample_chap_4*.parq')\n",
    "# files5 = glob.glob('/data/common/trade_data/2019_updated/data_samples_ignore_multiple_hscode/sample_by_chapter/sample_chap_5*.parq')\n",
    "# files6 = glob.glob('/data/common/trade_data/2019_updated/data_samples_ignore_multiple_hscode/sample_by_chapter/sample_chap_6*.parq')\n",
    "# files7 = glob.glob('/data/common/trade_data/2019_updated/data_samples_ignore_multiple_hscode/sample_by_chapter/sample_chap_7*.parq')\n",
    "# files8 = glob.glob('/data/common/trade_data/2019_updated/data_samples_ignore_multiple_hscode/sample_by_chapter/sample_chap_8*.parq')\n",
    "# files9 = glob.glob('/data/common/trade_data/2019_updated/data_samples_ignore_multiple_hscode/sample_by_chapter/sample_chap_9*.parq')\n",
    "\n",
    "# all_files = files1 + files2 + files3 + files4 + files5 + files6 + files7 + files8 + files9\n",
    "# result_dd = dd.concat([dd.read_parquet(fp) for fp in all_files])"
   ]
  },
  {
   "cell_type": "code",
   "execution_count": 12,
   "id": "basic-declaration",
   "metadata": {},
   "outputs": [
    {
     "name": "stdout",
     "output_type": "stream",
     "text": [
      "[########################################] | 100% Completed | 19.9s\n",
      "                                                Desc  HSCode\n",
      "0  SUPREME ALL PURPOSE LARD IN PAILS 37LBS CAED N...  150110\n",
      "1  SLAC: 840 PAILS NABORI ALL PURPOSE LARD HS COD...  150110\n",
      "[########################################] | 100% Completed | 48.1s\n",
      "1982138\n"
     ]
    }
   ],
   "source": [
    "# df1 = result_dd[['Product Desc', 'Cleaned_HS_Code']]\n",
    "# df1.columns = ['Desc', 'HSCode']\n",
    "\n",
    "# print(df1.head(2))\n",
    "# print(len(df1))"
   ]
  },
  {
   "cell_type": "code",
   "execution_count": 14,
   "id": "familiar-spirit",
   "metadata": {},
   "outputs": [
    {
     "name": "stdout",
     "output_type": "stream",
     "text": [
      "[########################################] | 100% Completed | 46.0s\n",
      "   HSCode                                               Desc\n",
      "0  150110  Pig fat (including lard) and poultry fat, othe...\n",
      "3  150120  Pig fat (including lard) and poultry fat, othe...\n",
      "[########################################] | 100% Completed | 49.5s\n",
      "4137\n"
     ]
    }
   ],
   "source": [
    "# hs_code_desc = result_dd[['Cleaned_HS_Code', 'Merged_Description']]\n",
    "# hs_code_desc = hs_code_desc.drop_duplicates()\n",
    "# hs_code_desc.columns = ['HSCode', 'Desc']\n",
    "# print(hs_code_desc.head(2))\n",
    "# print(len(hs_code_desc))"
   ]
  },
  {
   "cell_type": "code",
   "execution_count": 23,
   "id": "fitted-taiwan",
   "metadata": {},
   "outputs": [
    {
     "data": {
      "text/plain": [
       "label    object\n",
       "text     object\n",
       "dtype: object"
      ]
     },
     "execution_count": 23,
     "metadata": {},
     "output_type": "execute_result"
    }
   ],
   "source": [
    "result_dd.dtypes"
   ]
  },
  {
   "cell_type": "code",
   "execution_count": 7,
   "id": "impaired-exemption",
   "metadata": {},
   "outputs": [
    {
     "name": "stdout",
     "output_type": "stream",
     "text": [
      "[########################################] | 100% Completed |  1.4s\n",
      "[########################################] | 100% Completed |  0.1s\n"
     ]
    },
    {
     "data": {
      "text/html": [
       "<div>\n",
       "<style scoped>\n",
       "    .dataframe tbody tr th:only-of-type {\n",
       "        vertical-align: middle;\n",
       "    }\n",
       "\n",
       "    .dataframe tbody tr th {\n",
       "        vertical-align: top;\n",
       "    }\n",
       "\n",
       "    .dataframe thead th {\n",
       "        text-align: right;\n",
       "    }\n",
       "</style>\n",
       "<table border=\"1\" class=\"dataframe\">\n",
       "  <thead>\n",
       "    <tr style=\"text-align: right;\">\n",
       "      <th></th>\n",
       "      <th>label</th>\n",
       "      <th>text</th>\n",
       "    </tr>\n",
       "    <tr>\n",
       "      <th>index</th>\n",
       "      <th></th>\n",
       "      <th></th>\n",
       "    </tr>\n",
       "  </thead>\n",
       "  <tbody>\n",
       "    <tr>\n",
       "      <th>0</th>\n",
       "      <td>09</td>\n",
       "      <td>1 x 20 container described as 275 bags green c...</td>\n",
       "    </tr>\n",
       "    <tr>\n",
       "      <th>0</th>\n",
       "      <td>78</td>\n",
       "      <td>refined lead hs code: xxxx</td>\n",
       "    </tr>\n",
       "  </tbody>\n",
       "</table>\n",
       "</div>"
      ],
      "text/plain": [
       "      label                                               text\n",
       "index                                                         \n",
       "0        09  1 x 20 container described as 275 bags green c...\n",
       "0        78                         refined lead hs code: xxxx"
      ]
     },
     "execution_count": 7,
     "metadata": {},
     "output_type": "execute_result"
    }
   ],
   "source": [
    "# result_dd = result_dd.append(hs_code_desc[['Desc', 'HSCode']]).reset_index()\n",
    "result_df = result_dd.compute()\n",
    "result_df.label = result_df.label.astype(str).str[:2]\n",
    "result_dd = dd.from_pandas(result_df, npartitions=3)\n",
    "result_dd.head(2)"
   ]
  },
  {
   "cell_type": "code",
   "execution_count": null,
   "id": "geological-infrastructure",
   "metadata": {},
   "outputs": [],
   "source": []
  },
  {
   "cell_type": "code",
   "execution_count": 8,
   "id": "municipal-senior",
   "metadata": {},
   "outputs": [
    {
     "name": "stdout",
     "output_type": "stream",
     "text": [
      "[########################################] | 100% Completed |  0.2s\n",
      "Number of classes :  72\n"
     ]
    }
   ],
   "source": [
    "all_labels = result_dd.label.unique()\n",
    "print('Number of classes : ', len(all_labels))"
   ]
  },
  {
   "cell_type": "code",
   "execution_count": 9,
   "id": "detected-chase",
   "metadata": {},
   "outputs": [
    {
     "name": "stdout",
     "output_type": "stream",
     "text": [
      "[########################################] | 100% Completed |  0.1s\n"
     ]
    },
    {
     "data": {
      "text/plain": [
       "1982138"
      ]
     },
     "execution_count": 9,
     "metadata": {},
     "output_type": "execute_result"
    }
   ],
   "source": [
    "len(result_dd)"
   ]
  },
  {
   "cell_type": "code",
   "execution_count": 10,
   "id": "spectacular-cleaning",
   "metadata": {},
   "outputs": [
    {
     "name": "stdout",
     "output_type": "stream",
     "text": [
      "[########################################] | 100% Completed |  0.1s\n"
     ]
    }
   ],
   "source": [
    "result = result_dd.compute()"
   ]
  },
  {
   "cell_type": "markdown",
   "id": "smart-current",
   "metadata": {},
   "source": [
    "## Lemmatizer"
   ]
  },
  {
   "cell_type": "code",
   "execution_count": 11,
   "id": "practical-magnitude",
   "metadata": {},
   "outputs": [],
   "source": [
    "lemmatizer = WordNetLemmatizer()\n",
    "\n",
    "# function to convert nltk tag to wordnet tag\n",
    "def nltk_tag_to_wordnet_tag(nltk_tag):\n",
    "    if nltk_tag.startswith('J'):\n",
    "        return wordnet.ADJ\n",
    "    elif nltk_tag.startswith('V'):\n",
    "        return wordnet.VERB\n",
    "    elif nltk_tag.startswith('N'):\n",
    "        return wordnet.NOUN\n",
    "    elif nltk_tag.startswith('R'):\n",
    "        return wordnet.ADV\n",
    "    else:          \n",
    "        return None\n",
    "\n",
    "from nltk.tokenize import RegexpTokenizer\n",
    "tok = RegexpTokenizer(r'\\w+')\n",
    "    \n",
    "def clean_sentence(sentence):\n",
    "    #tokenize the sentence and find the POS tag for each token\n",
    "    sentence = re.sub(r'\\d+', '', sentence)\n",
    "    remove_dig_pun = tok.tokenize(sentence.lower())\n",
    "\n",
    "    nltk_tagged = nltk.pos_tag(remove_dig_pun)  \n",
    "    #tuple of (token, wordnet_tag)\n",
    "    wordnet_tagged = map(lambda x: (x[0], nltk_tag_to_wordnet_tag(x[1])), nltk_tagged)\n",
    "    lemmatized_sentence = []\n",
    "    for word, tag in wordnet_tagged:\n",
    "        if tag is None:\n",
    "            #if there is no available tag, append the token as is\n",
    "            lemmatized_sentence.append(word)\n",
    "        else:        \n",
    "            #else use the tag to lemmatize the token\n",
    "            lemmatized_sentence.append(lemmatizer.lemmatize(word, tag))\n",
    "            \n",
    "    lemmatized_sentence_clean = list(map((lambda x : x if x not in stop else \"\"), lemmatized_sentence))\n",
    "    input_clean = list(map((lambda x : x if x not in stop else \"\"), remove_dig_pun))\n",
    "\n",
    "    return \" \".join(input_clean + lemmatized_sentence_clean)"
   ]
  },
  {
   "cell_type": "markdown",
   "id": "hazardous-motel",
   "metadata": {},
   "source": [
    "## Read the HTS descriptions, process"
   ]
  },
  {
   "cell_type": "code",
   "execution_count": 12,
   "id": "sunset-camping",
   "metadata": {},
   "outputs": [],
   "source": [
    "hts = pd.read_csv(\"/data/work/shajikk/0308/hts_train.csv\", dtype={'hs': str, 'desc' : str})"
   ]
  },
  {
   "cell_type": "code",
   "execution_count": 13,
   "id": "meaningful-density",
   "metadata": {},
   "outputs": [],
   "source": [
    "hts['clean'] = hts.desc.apply(lambda x : clean_sentence(x))\n",
    "hts = hts.rename({'hs' : 'label', 'clean' : 'text'}, axis=1)[['label', 'text']]"
   ]
  },
  {
   "cell_type": "code",
   "execution_count": 14,
   "id": "arctic-diesel",
   "metadata": {},
   "outputs": [
    {
     "data": {
      "text/html": [
       "<div>\n",
       "<style scoped>\n",
       "    .dataframe tbody tr th:only-of-type {\n",
       "        vertical-align: middle;\n",
       "    }\n",
       "\n",
       "    .dataframe tbody tr th {\n",
       "        vertical-align: top;\n",
       "    }\n",
       "\n",
       "    .dataframe thead th {\n",
       "        text-align: right;\n",
       "    }\n",
       "</style>\n",
       "<table border=\"1\" class=\"dataframe\">\n",
       "  <thead>\n",
       "    <tr style=\"text-align: right;\">\n",
       "      <th></th>\n",
       "      <th>label</th>\n",
       "      <th>text</th>\n",
       "    </tr>\n",
       "  </thead>\n",
       "  <tbody>\n",
       "    <tr>\n",
       "      <th>0</th>\n",
       "      <td>01</td>\n",
       "      <td>live horses asses mules  hinnies horses purebr...</td>\n",
       "    </tr>\n",
       "    <tr>\n",
       "      <th>1</th>\n",
       "      <td>01</td>\n",
       "      <td>live horses asses mules  hinnies horses import...</td>\n",
       "    </tr>\n",
       "  </tbody>\n",
       "</table>\n",
       "</div>"
      ],
      "text/plain": [
       "  label                                               text\n",
       "0    01  live horses asses mules  hinnies horses purebr...\n",
       "1    01  live horses asses mules  hinnies horses import..."
      ]
     },
     "execution_count": 14,
     "metadata": {},
     "output_type": "execute_result"
    }
   ],
   "source": [
    "\n",
    "hts.label = hts.label.astype(str).str[:2]\n",
    "# hts = dd.from_pandas(hts_df, npartitions=3)\n",
    "# result_dd.head(2)\n",
    "hts.head(2)"
   ]
  },
  {
   "cell_type": "markdown",
   "id": "western-association",
   "metadata": {},
   "source": [
    "## Read the NACIS->HTS examples, process"
   ]
  },
  {
   "cell_type": "code",
   "execution_count": 15,
   "id": "unknown-expansion",
   "metadata": {},
   "outputs": [],
   "source": [
    "nacis = pd.read_csv(\"/data/work/shajikk/0308/commodity_hts_extract.csv\", dtype={'hts6': str, 'description_long' : str})"
   ]
  },
  {
   "cell_type": "code",
   "execution_count": 16,
   "id": "basic-andrews",
   "metadata": {},
   "outputs": [],
   "source": [
    "nacis['clean'] = nacis.description_long.apply(lambda x : clean_sentence(x))"
   ]
  },
  {
   "cell_type": "code",
   "execution_count": 17,
   "id": "welsh-istanbul",
   "metadata": {},
   "outputs": [],
   "source": [
    "nacis = nacis.rename({'hts6' : 'label', 'clean' : 'text'}, axis=1)[['label', 'text']]"
   ]
  },
  {
   "cell_type": "code",
   "execution_count": 18,
   "id": "fallen-fellowship",
   "metadata": {},
   "outputs": [
    {
     "data": {
      "text/html": [
       "<div>\n",
       "<style scoped>\n",
       "    .dataframe tbody tr th:only-of-type {\n",
       "        vertical-align: middle;\n",
       "    }\n",
       "\n",
       "    .dataframe tbody tr th {\n",
       "        vertical-align: top;\n",
       "    }\n",
       "\n",
       "    .dataframe thead th {\n",
       "        text-align: right;\n",
       "    }\n",
       "</style>\n",
       "<table border=\"1\" class=\"dataframe\">\n",
       "  <thead>\n",
       "    <tr style=\"text-align: right;\">\n",
       "      <th></th>\n",
       "      <th>label</th>\n",
       "      <th>text</th>\n",
       "    </tr>\n",
       "  </thead>\n",
       "  <tbody>\n",
       "    <tr>\n",
       "      <th>0</th>\n",
       "      <td>910211</td>\n",
       "      <td>batteries  wrist watches battery powered  mech...</td>\n",
       "    </tr>\n",
       "  </tbody>\n",
       "</table>\n",
       "</div>"
      ],
      "text/plain": [
       "    label                                               text\n",
       "0  910211  batteries  wrist watches battery powered  mech..."
      ]
     },
     "execution_count": 18,
     "metadata": {},
     "output_type": "execute_result"
    }
   ],
   "source": [
    "nacis.head(1)"
   ]
  },
  {
   "cell_type": "markdown",
   "id": "entitled-moral",
   "metadata": {},
   "source": [
    "## Sample the full data, 4137 classes. Create a subset of 100 examples each per class. Save it off"
   ]
  },
  {
   "cell_type": "code",
   "execution_count": 104,
   "id": "informational-tunnel",
   "metadata": {},
   "outputs": [
    {
     "name": "stdout",
     "output_type": "stream",
     "text": [
      "[########################################] | 100% Completed |  0.2s\n"
     ]
    },
    {
     "data": {
      "application/vnd.jupyter.widget-view+json": {
       "model_id": "8b56a5e88830467b9456a62e9f2f2d83",
       "version_major": 2,
       "version_minor": 0
      },
      "text/plain": [
       "  0%|          | 0/72 [00:00<?, ?it/s]"
      ]
     },
     "metadata": {},
     "output_type": "display_data"
    },
    {
     "name": "stdout",
     "output_type": "stream",
     "text": [
      "[########################################] | 100% Completed |  0.2s\n"
     ]
    }
   ],
   "source": [
    "all_train_df = []\n",
    "all_valid_df = []\n",
    "count = 5000\n",
    "recompute = True\n",
    "\n",
    "if not recompute :\n",
    "    with open('all_train_df_5k_hschap.pkl', 'rb') as f: all_train_df = pickle.load(f)\n",
    "    with open('all_valid_df_5k_hschap.pkl', 'rb') as f: all_valid_df = pickle.load(f)\n",
    "    pass\n",
    "\n",
    "\n",
    "for c in tqdm(all_labels) :\n",
    "    if (not recompute) : break\n",
    "    df = result[result.label == c]\n",
    "    df_sampled = df.sample(frac=min(count/len(df), 1))\n",
    "    df_hts = hts[hts.label == c]\n",
    "    df_nacis  = nacis[nacis.label == c]\n",
    "    \n",
    "    \n",
    "    train_df  = df_sampled.sample(frac=0.8)\n",
    "    valid_df = df_sampled.drop(train_df.index)\n",
    "\n",
    "    all_train_df.append(train_df)\n",
    "    all_train_df.append(df_hts)\n",
    "    all_train_df.append(df_nacis)\n",
    "    \n",
    "    all_valid_df.append(valid_df)\n",
    "\n",
    "train_df  = pd.concat(all_train_df)\n",
    "valid_df  = pd.concat(all_valid_df)\n",
    "\n",
    "if recompute :\n",
    "    with open('all_train_df_5k_hschap.pkl', 'wb') as f: pickle.dump(all_train_df, f)\n",
    "    with open('all_valid_df_5k_hschap.pkl', 'wb') as f: pickle.dump(all_valid_df, f)\n",
    "    pass"
   ]
  },
  {
   "cell_type": "code",
   "execution_count": 105,
   "id": "reliable-outside",
   "metadata": {},
   "outputs": [
    {
     "data": {
      "text/plain": [
       "(67948, 276077, 6.901925)"
      ]
     },
     "execution_count": 105,
     "metadata": {},
     "output_type": "execute_result"
    }
   ],
   "source": [
    "len(valid_df['text']), len(train_df['text']), len(train_df['text'])/40000"
   ]
  },
  {
   "cell_type": "markdown",
   "id": "joint-marriage",
   "metadata": {},
   "source": [
    "## Construct count vectorizer with HTS, NACIS keywords"
   ]
  },
  {
   "cell_type": "code",
   "execution_count": 106,
   "id": "right-ladder",
   "metadata": {},
   "outputs": [
    {
     "data": {
      "text/plain": [
       "CountVectorizer(max_features=30000)"
      ]
     },
     "execution_count": 106,
     "metadata": {},
     "output_type": "execute_result"
    }
   ],
   "source": [
    "from sklearn.feature_extraction.text import CountVectorizer, TfidfVectorizer\n",
    "count_vector = CountVectorizer(max_features=30000)\n",
    "count_vector.fit(list(hts['text']) + list(nacis['text']))"
   ]
  },
  {
   "cell_type": "code",
   "execution_count": 107,
   "id": "turkish-vintage",
   "metadata": {},
   "outputs": [
    {
     "data": {
      "text/plain": [
       "(34707, 14588)"
      ]
     },
     "execution_count": 107,
     "metadata": {},
     "output_type": "execute_result"
    }
   ],
   "source": [
    "test = count_vector.transform(list(hts['text']) + list(nacis['text']))\n",
    "test.shape"
   ]
  },
  {
   "cell_type": "code",
   "execution_count": 108,
   "id": "reserved-rally",
   "metadata": {},
   "outputs": [
    {
     "data": {
      "text/plain": [
       "(276077, 14588)"
      ]
     },
     "execution_count": 108,
     "metadata": {},
     "output_type": "execute_result"
    }
   ],
   "source": [
    "X_train_counts = count_vector.transform(list(train_df['text']))\n",
    "X_train_counts.shape"
   ]
  },
  {
   "cell_type": "code",
   "execution_count": 109,
   "id": "continent-improvement",
   "metadata": {},
   "outputs": [],
   "source": [
    "label_enc = LabelEncoder() \n",
    "label_enc.fit(result['label']) \n",
    "y_train = np.expand_dims(np.array(label_enc.transform(train_df['label'])), 1)"
   ]
  },
  {
   "cell_type": "code",
   "execution_count": 110,
   "id": "operating-drive",
   "metadata": {},
   "outputs": [
    {
     "data": {
      "text/plain": [
       "((276077, 14588), (276077, 1))"
      ]
     },
     "execution_count": 110,
     "metadata": {},
     "output_type": "execute_result"
    }
   ],
   "source": [
    "X_train_counts.shape, y_train.shape"
   ]
  },
  {
   "cell_type": "code",
   "execution_count": 111,
   "id": "consistent-grain",
   "metadata": {},
   "outputs": [],
   "source": [
    "pickle.dump(count_vector, open(\"count_vector.pickle\", \"wb\"))"
   ]
  },
  {
   "cell_type": "markdown",
   "id": "featured-elizabeth",
   "metadata": {},
   "source": [
    "## Batch logic for GBT"
   ]
  },
  {
   "cell_type": "code",
   "execution_count": 115,
   "id": "metropolitan-publicity",
   "metadata": {},
   "outputs": [],
   "source": [
    "def batch(csr, y, rows, random_row_array, n=1):\n",
    "    l = len(rows)\n",
    "    for ndx in range(0, l, n):\n",
    "        yield (csr[random_row_array[ndx:min(ndx + n, l)]].todense(), \n",
    "               y[random_row_array[ndx:min(ndx + n, l)]])"
   ]
  },
  {
   "cell_type": "markdown",
   "id": "junior-annotation",
   "metadata": {},
   "source": [
    "## Enable batching class"
   ]
  },
  {
   "cell_type": "code",
   "execution_count": 116,
   "id": "secure-programming",
   "metadata": {},
   "outputs": [],
   "source": [
    "class make_model():\n",
    "    def __init__(self, param, lr, num_round = 5, batch_size=1000):\n",
    "        self.param     = param\n",
    "        self.num_round = num_round\n",
    "        self.batch_size = batch_size\n",
    "        self.lr = lr\n",
    "        \n",
    "    def fit(self, csr, y_val):\n",
    "        iteration = 0\n",
    "        print(\"Will run for {} rounds\".format(self.num_round))\n",
    "        for n_round in range(0, self.num_round):     \n",
    "            random_row_array = np.random.choice(np.arange(csr.shape[0]), csr.shape[0], replace=False)\n",
    "            rows = range(0, csr.shape[0])\n",
    "            with tqdm(total=int(len(rows)/self.batch_size)) as progress_bar:\n",
    "                for x,y in batch(csr, y_val, rows, random_row_array, self.batch_size):\n",
    "                    dtrain = xgb.DMatrix(x, y)\n",
    "                    watchlist = [(dtrain,'train')]\n",
    "\n",
    "                    if iteration == 0 : model = xgb.Booster(self.param, [dtrain])\n",
    "                    \n",
    "                    self.param['eta'] = self.lr[iteration]\n",
    "                    print('Round = {}, Iteration = {}, lr = {}'.format(n_round, iteration, self.lr[iteration]))\n",
    "                    \n",
    "                    model = xgb.train(self.param, dtrain, num_boost_round=1, xgb_model=model, evals=watchlist)\n",
    "                    iteration = iteration + 1\n",
    "                    progress_bar.update(1)\n",
    "            if n_round > 4 :\n",
    "                name = 'xgb_chapter_models/xgbchap_model_5ksamp_v6_{}'.format(n_round)\n",
    "                print(\"saving model: \", name)\n",
    "                model.save_model(name)\n",
    "                \n",
    "        self.model  = model"
   ]
  },
  {
   "cell_type": "markdown",
   "id": "threaded-peoples",
   "metadata": {},
   "source": [
    "## Carefully adjust Learning rate for each iteration so that training converges (else it won't work)"
   ]
  },
  {
   "cell_type": "code",
   "execution_count": 117,
   "id": "outdoor-pierce",
   "metadata": {},
   "outputs": [
    {
     "name": "stdout",
     "output_type": "stream",
     "text": [
      "[########################################] | 100% Completed |  0.2s\n",
      "Will run for 24 rounds\n"
     ]
    },
    {
     "data": {
      "application/vnd.jupyter.widget-view+json": {
       "model_id": "21d2783d0f544969ab2e1dfe99b0cd51",
       "version_major": 2,
       "version_minor": 0
      },
      "text/plain": [
       "  0%|          | 0/27 [00:00<?, ?it/s]"
      ]
     },
     "metadata": {},
     "output_type": "display_data"
    },
    {
     "name": "stdout",
     "output_type": "stream",
     "text": [
      "Round = 0, Iteration = 0, lr = 0.45\n",
      "[0]\ttrain-merror:0.563\n",
      "Round = 0, Iteration = 1, lr = 0.45\n",
      "[0]\ttrain-merror:0.5203\n",
      "Round = 0, Iteration = 2, lr = 0.45\n",
      "[0]\ttrain-merror:0.5053\n",
      "Round = 0, Iteration = 3, lr = 0.45\n",
      "[0]\ttrain-merror:0.4945\n",
      "Round = 0, Iteration = 4, lr = 0.45\n",
      "[0]\ttrain-merror:0.4795\n",
      "Round = 0, Iteration = 5, lr = 0.45\n",
      "[0]\ttrain-merror:0.4699\n",
      "Round = 0, Iteration = 6, lr = 0.45\n",
      "[0]\ttrain-merror:0.4635\n",
      "Round = 0, Iteration = 7, lr = 0.45\n",
      "[0]\ttrain-merror:0.4459\n",
      "Round = 0, Iteration = 8, lr = 0.45\n",
      "[0]\ttrain-merror:0.4421\n",
      "Round = 0, Iteration = 9, lr = 0.45\n",
      "[0]\ttrain-merror:0.4316\n",
      "Round = 0, Iteration = 10, lr = 0.45\n",
      "[0]\ttrain-merror:0.4363\n",
      "Round = 0, Iteration = 11, lr = 0.45\n",
      "[0]\ttrain-merror:0.4315\n",
      "Round = 0, Iteration = 12, lr = 0.45\n",
      "[0]\ttrain-merror:0.4254\n",
      "Round = 0, Iteration = 13, lr = 0.45\n",
      "[0]\ttrain-merror:0.4217\n",
      "Round = 0, Iteration = 14, lr = 0.45\n",
      "[0]\ttrain-merror:0.4215\n",
      "Round = 0, Iteration = 15, lr = 0.45\n",
      "[0]\ttrain-merror:0.4175\n",
      "Round = 0, Iteration = 16, lr = 0.45\n",
      "[0]\ttrain-merror:0.4142\n",
      "Round = 0, Iteration = 17, lr = 0.45\n",
      "[0]\ttrain-merror:0.4128\n",
      "Round = 0, Iteration = 18, lr = 0.45\n",
      "[0]\ttrain-merror:0.4132\n",
      "Round = 0, Iteration = 19, lr = 0.45\n",
      "[0]\ttrain-merror:0.4025\n",
      "Round = 0, Iteration = 20, lr = 0.45\n",
      "[0]\ttrain-merror:0.3956\n",
      "Round = 0, Iteration = 21, lr = 0.45\n",
      "[0]\ttrain-merror:0.39\n",
      "Round = 0, Iteration = 22, lr = 0.45\n",
      "[0]\ttrain-merror:0.3989\n",
      "Round = 0, Iteration = 23, lr = 0.45\n",
      "[0]\ttrain-merror:0.3979\n",
      "Round = 0, Iteration = 24, lr = 0.45\n",
      "[0]\ttrain-merror:0.3957\n",
      "Round = 0, Iteration = 25, lr = 0.45\n",
      "[0]\ttrain-merror:0.3953\n",
      "Round = 0, Iteration = 26, lr = 0.45\n",
      "[0]\ttrain-merror:0.3934\n",
      "Round = 0, Iteration = 27, lr = 0.45\n",
      "[0]\ttrain-merror:0.38835\n"
     ]
    },
    {
     "data": {
      "application/vnd.jupyter.widget-view+json": {
       "model_id": "9e833980b9fc47e2a69707b28c1ae3f6",
       "version_major": 2,
       "version_minor": 0
      },
      "text/plain": [
       "  0%|          | 0/27 [00:00<?, ?it/s]"
      ]
     },
     "metadata": {},
     "output_type": "display_data"
    },
    {
     "name": "stdout",
     "output_type": "stream",
     "text": [
      "Round = 1, Iteration = 28, lr = 0.4\n",
      "[0]\ttrain-merror:0.3799\n",
      "Round = 1, Iteration = 29, lr = 0.4\n",
      "[0]\ttrain-merror:0.3777\n",
      "Round = 1, Iteration = 30, lr = 0.4\n",
      "[0]\ttrain-merror:0.3695\n",
      "Round = 1, Iteration = 31, lr = 0.4\n",
      "[0]\ttrain-merror:0.3765\n",
      "Round = 1, Iteration = 32, lr = 0.4\n",
      "[0]\ttrain-merror:0.3865\n",
      "Round = 1, Iteration = 33, lr = 0.4\n",
      "[0]\ttrain-merror:0.3694\n",
      "Round = 1, Iteration = 34, lr = 0.4\n",
      "[0]\ttrain-merror:0.3673\n",
      "Round = 1, Iteration = 35, lr = 0.4\n",
      "[0]\ttrain-merror:0.3693\n",
      "Round = 1, Iteration = 36, lr = 0.4\n",
      "[0]\ttrain-merror:0.3724\n",
      "Round = 1, Iteration = 37, lr = 0.4\n",
      "[0]\ttrain-merror:0.3641\n",
      "Round = 1, Iteration = 38, lr = 0.4\n",
      "[0]\ttrain-merror:0.3668\n",
      "Round = 1, Iteration = 39, lr = 0.4\n",
      "[0]\ttrain-merror:0.3728\n",
      "Round = 1, Iteration = 40, lr = 0.4\n",
      "[0]\ttrain-merror:0.3647\n",
      "Round = 1, Iteration = 41, lr = 0.4\n",
      "[0]\ttrain-merror:0.3595\n",
      "Round = 1, Iteration = 42, lr = 0.4\n",
      "[0]\ttrain-merror:0.3713\n",
      "Round = 1, Iteration = 43, lr = 0.4\n",
      "[0]\ttrain-merror:0.3629\n",
      "Round = 1, Iteration = 44, lr = 0.4\n",
      "[0]\ttrain-merror:0.3716\n",
      "Round = 1, Iteration = 45, lr = 0.4\n",
      "[0]\ttrain-merror:0.3659\n",
      "Round = 1, Iteration = 46, lr = 0.4\n",
      "[0]\ttrain-merror:0.3637\n",
      "Round = 1, Iteration = 47, lr = 0.4\n",
      "[0]\ttrain-merror:0.3622\n",
      "Round = 1, Iteration = 48, lr = 0.4\n",
      "[0]\ttrain-merror:0.3636\n",
      "Round = 1, Iteration = 49, lr = 0.4\n",
      "[0]\ttrain-merror:0.3605\n",
      "Round = 1, Iteration = 50, lr = 0.4\n",
      "[0]\ttrain-merror:0.362\n",
      "Round = 1, Iteration = 51, lr = 0.4\n",
      "[0]\ttrain-merror:0.3679\n",
      "Round = 1, Iteration = 52, lr = 0.4\n",
      "[0]\ttrain-merror:0.3704\n",
      "Round = 1, Iteration = 53, lr = 0.4\n",
      "[0]\ttrain-merror:0.3583\n",
      "Round = 1, Iteration = 54, lr = 0.4\n",
      "[0]\ttrain-merror:0.3511\n",
      "Round = 1, Iteration = 55, lr = 0.4\n",
      "[0]\ttrain-merror:0.357249\n"
     ]
    },
    {
     "data": {
      "application/vnd.jupyter.widget-view+json": {
       "model_id": "27ee4574c3984c48b2cf7722651a8874",
       "version_major": 2,
       "version_minor": 0
      },
      "text/plain": [
       "  0%|          | 0/27 [00:00<?, ?it/s]"
      ]
     },
     "metadata": {},
     "output_type": "display_data"
    },
    {
     "name": "stdout",
     "output_type": "stream",
     "text": [
      "Round = 2, Iteration = 56, lr = 0.3\n",
      "[0]\ttrain-merror:0.356\n",
      "Round = 2, Iteration = 57, lr = 0.3\n",
      "[0]\ttrain-merror:0.3552\n",
      "Round = 2, Iteration = 58, lr = 0.3\n",
      "[0]\ttrain-merror:0.3504\n",
      "Round = 2, Iteration = 59, lr = 0.3\n",
      "[0]\ttrain-merror:0.3498\n",
      "Round = 2, Iteration = 60, lr = 0.3\n",
      "[0]\ttrain-merror:0.3529\n",
      "Round = 2, Iteration = 61, lr = 0.3\n",
      "[0]\ttrain-merror:0.3496\n",
      "Round = 2, Iteration = 62, lr = 0.3\n",
      "[0]\ttrain-merror:0.3511\n",
      "Round = 2, Iteration = 63, lr = 0.3\n",
      "[0]\ttrain-merror:0.3488\n",
      "Round = 2, Iteration = 64, lr = 0.3\n",
      "[0]\ttrain-merror:0.3568\n",
      "Round = 2, Iteration = 65, lr = 0.3\n",
      "[0]\ttrain-merror:0.3486\n",
      "Round = 2, Iteration = 66, lr = 0.3\n",
      "[0]\ttrain-merror:0.339\n",
      "Round = 2, Iteration = 67, lr = 0.3\n",
      "[0]\ttrain-merror:0.3447\n",
      "Round = 2, Iteration = 68, lr = 0.3\n",
      "[0]\ttrain-merror:0.3481\n",
      "Round = 2, Iteration = 69, lr = 0.3\n",
      "[0]\ttrain-merror:0.3478\n",
      "Round = 2, Iteration = 70, lr = 0.3\n",
      "[0]\ttrain-merror:0.346\n",
      "Round = 2, Iteration = 71, lr = 0.3\n",
      "[0]\ttrain-merror:0.3467\n",
      "Round = 2, Iteration = 72, lr = 0.3\n",
      "[0]\ttrain-merror:0.3517\n",
      "Round = 2, Iteration = 73, lr = 0.3\n",
      "[0]\ttrain-merror:0.3469\n",
      "Round = 2, Iteration = 74, lr = 0.3\n",
      "[0]\ttrain-merror:0.3508\n",
      "Round = 2, Iteration = 75, lr = 0.3\n",
      "[0]\ttrain-merror:0.3433\n",
      "Round = 2, Iteration = 76, lr = 0.3\n",
      "[0]\ttrain-merror:0.3432\n",
      "Round = 2, Iteration = 77, lr = 0.3\n",
      "[0]\ttrain-merror:0.3423\n",
      "Round = 2, Iteration = 78, lr = 0.3\n",
      "[0]\ttrain-merror:0.3421\n",
      "Round = 2, Iteration = 79, lr = 0.3\n",
      "[0]\ttrain-merror:0.3428\n",
      "Round = 2, Iteration = 80, lr = 0.3\n",
      "[0]\ttrain-merror:0.346\n",
      "Round = 2, Iteration = 81, lr = 0.3\n",
      "[0]\ttrain-merror:0.3426\n",
      "Round = 2, Iteration = 82, lr = 0.3\n",
      "[0]\ttrain-merror:0.3456\n",
      "Round = 2, Iteration = 83, lr = 0.3\n",
      "[0]\ttrain-merror:0.331578\n"
     ]
    },
    {
     "data": {
      "application/vnd.jupyter.widget-view+json": {
       "model_id": "2de7051254ad485d84c716396e331922",
       "version_major": 2,
       "version_minor": 0
      },
      "text/plain": [
       "  0%|          | 0/27 [00:00<?, ?it/s]"
      ]
     },
     "metadata": {},
     "output_type": "display_data"
    },
    {
     "name": "stdout",
     "output_type": "stream",
     "text": [
      "Round = 3, Iteration = 84, lr = 0.2\n",
      "[0]\ttrain-merror:0.3327\n",
      "Round = 3, Iteration = 85, lr = 0.2\n",
      "[0]\ttrain-merror:0.3354\n",
      "Round = 3, Iteration = 86, lr = 0.2\n",
      "[0]\ttrain-merror:0.3324\n",
      "Round = 3, Iteration = 87, lr = 0.2\n",
      "[0]\ttrain-merror:0.3304\n",
      "Round = 3, Iteration = 88, lr = 0.2\n",
      "[0]\ttrain-merror:0.3433\n",
      "Round = 3, Iteration = 89, lr = 0.2\n",
      "[0]\ttrain-merror:0.3313\n",
      "Round = 3, Iteration = 90, lr = 0.2\n",
      "[0]\ttrain-merror:0.3396\n",
      "Round = 3, Iteration = 91, lr = 0.2\n",
      "[0]\ttrain-merror:0.3282\n",
      "Round = 3, Iteration = 92, lr = 0.2\n",
      "[0]\ttrain-merror:0.3409\n",
      "Round = 3, Iteration = 93, lr = 0.2\n",
      "[0]\ttrain-merror:0.3357\n",
      "Round = 3, Iteration = 94, lr = 0.2\n",
      "[0]\ttrain-merror:0.3366\n",
      "Round = 3, Iteration = 95, lr = 0.2\n",
      "[0]\ttrain-merror:0.3407\n",
      "Round = 3, Iteration = 96, lr = 0.2\n",
      "[0]\ttrain-merror:0.3439\n",
      "Round = 3, Iteration = 97, lr = 0.2\n",
      "[0]\ttrain-merror:0.3279\n",
      "Round = 3, Iteration = 98, lr = 0.1\n",
      "[0]\ttrain-merror:0.3405\n",
      "Round = 3, Iteration = 99, lr = 0.1\n",
      "[0]\ttrain-merror:0.3412\n",
      "Round = 3, Iteration = 100, lr = 0.1\n",
      "[0]\ttrain-merror:0.338\n",
      "Round = 3, Iteration = 101, lr = 0.1\n",
      "[0]\ttrain-merror:0.341\n",
      "Round = 3, Iteration = 102, lr = 0.1\n",
      "[0]\ttrain-merror:0.3437\n",
      "Round = 3, Iteration = 103, lr = 0.1\n",
      "[0]\ttrain-merror:0.3367\n",
      "Round = 3, Iteration = 104, lr = 0.1\n",
      "[0]\ttrain-merror:0.34\n",
      "Round = 3, Iteration = 105, lr = 0.1\n",
      "[0]\ttrain-merror:0.3376\n",
      "Round = 3, Iteration = 106, lr = 0.1\n",
      "[0]\ttrain-merror:0.3338\n",
      "Round = 3, Iteration = 107, lr = 0.1\n",
      "[0]\ttrain-merror:0.3433\n",
      "Round = 3, Iteration = 108, lr = 0.1\n",
      "[0]\ttrain-merror:0.344\n",
      "Round = 3, Iteration = 109, lr = 0.1\n",
      "[0]\ttrain-merror:0.3408\n",
      "Round = 3, Iteration = 110, lr = 0.1\n",
      "[0]\ttrain-merror:0.3347\n",
      "Round = 3, Iteration = 111, lr = 0.1\n",
      "[0]\ttrain-merror:0.356426\n"
     ]
    },
    {
     "data": {
      "application/vnd.jupyter.widget-view+json": {
       "model_id": "1b170ef9a3a44a79a43847aa7b50bf6b",
       "version_major": 2,
       "version_minor": 0
      },
      "text/plain": [
       "  0%|          | 0/27 [00:00<?, ?it/s]"
      ]
     },
     "metadata": {},
     "output_type": "display_data"
    },
    {
     "name": "stdout",
     "output_type": "stream",
     "text": [
      "Round = 4, Iteration = 112, lr = 0.05\n",
      "[0]\ttrain-merror:0.3358\n",
      "Round = 4, Iteration = 113, lr = 0.05\n",
      "[0]\ttrain-merror:0.3366\n",
      "Round = 4, Iteration = 114, lr = 0.05\n",
      "[0]\ttrain-merror:0.3413\n",
      "Round = 4, Iteration = 115, lr = 0.05\n",
      "[0]\ttrain-merror:0.3405\n",
      "Round = 4, Iteration = 116, lr = 0.05\n",
      "[0]\ttrain-merror:0.3306\n",
      "Round = 4, Iteration = 117, lr = 0.05\n",
      "[0]\ttrain-merror:0.3262\n",
      "Round = 4, Iteration = 118, lr = 0.05\n",
      "[0]\ttrain-merror:0.3387\n",
      "Round = 4, Iteration = 119, lr = 0.05\n",
      "[0]\ttrain-merror:0.3301\n",
      "Round = 4, Iteration = 120, lr = 0.05\n",
      "[0]\ttrain-merror:0.3356\n",
      "Round = 4, Iteration = 121, lr = 0.05\n",
      "[0]\ttrain-merror:0.329\n",
      "Round = 4, Iteration = 122, lr = 0.05\n",
      "[0]\ttrain-merror:0.3322\n",
      "Round = 4, Iteration = 123, lr = 0.05\n",
      "[0]\ttrain-merror:0.3445\n",
      "Round = 4, Iteration = 124, lr = 0.05\n",
      "[0]\ttrain-merror:0.3324\n",
      "Round = 4, Iteration = 125, lr = 0.05\n",
      "[0]\ttrain-merror:0.3347\n",
      "Round = 4, Iteration = 126, lr = 0.05\n",
      "[0]\ttrain-merror:0.3307\n",
      "Round = 4, Iteration = 127, lr = 0.05\n",
      "[0]\ttrain-merror:0.3257\n",
      "Round = 4, Iteration = 128, lr = 0.05\n",
      "[0]\ttrain-merror:0.3359\n",
      "Round = 4, Iteration = 129, lr = 0.05\n",
      "[0]\ttrain-merror:0.3398\n",
      "Round = 4, Iteration = 130, lr = 0.05\n",
      "[0]\ttrain-merror:0.3371\n",
      "Round = 4, Iteration = 131, lr = 0.05\n",
      "[0]\ttrain-merror:0.3336\n",
      "Round = 4, Iteration = 132, lr = 0.05\n",
      "[0]\ttrain-merror:0.3358\n",
      "Round = 4, Iteration = 133, lr = 0.05\n",
      "[0]\ttrain-merror:0.3366\n",
      "Round = 4, Iteration = 134, lr = 0.05\n",
      "[0]\ttrain-merror:0.3438\n",
      "Round = 4, Iteration = 135, lr = 0.05\n",
      "[0]\ttrain-merror:0.3399\n",
      "Round = 4, Iteration = 136, lr = 0.05\n",
      "[0]\ttrain-merror:0.3318\n",
      "Round = 4, Iteration = 137, lr = 0.05\n",
      "[0]\ttrain-merror:0.3313\n",
      "Round = 4, Iteration = 138, lr = 0.05\n",
      "[0]\ttrain-merror:0.3294\n",
      "Round = 4, Iteration = 139, lr = 0.05\n",
      "[0]\ttrain-merror:0.333224\n"
     ]
    },
    {
     "data": {
      "application/vnd.jupyter.widget-view+json": {
       "model_id": "b984bb5680b0424f8fb519064369b7ac",
       "version_major": 2,
       "version_minor": 0
      },
      "text/plain": [
       "  0%|          | 0/27 [00:00<?, ?it/s]"
      ]
     },
     "metadata": {},
     "output_type": "display_data"
    },
    {
     "name": "stdout",
     "output_type": "stream",
     "text": [
      "Round = 5, Iteration = 140, lr = 0.05\n",
      "[0]\ttrain-merror:0.3315\n",
      "Round = 5, Iteration = 141, lr = 0.05\n",
      "[0]\ttrain-merror:0.3317\n",
      "Round = 5, Iteration = 142, lr = 0.05\n",
      "[0]\ttrain-merror:0.3373\n",
      "Round = 5, Iteration = 143, lr = 0.05\n",
      "[0]\ttrain-merror:0.3305\n",
      "Round = 5, Iteration = 144, lr = 0.05\n",
      "[0]\ttrain-merror:0.3324\n",
      "Round = 5, Iteration = 145, lr = 0.05\n",
      "[0]\ttrain-merror:0.3296\n",
      "Round = 5, Iteration = 146, lr = 0.05\n",
      "[0]\ttrain-merror:0.3309\n",
      "Round = 5, Iteration = 147, lr = 0.05\n",
      "[0]\ttrain-merror:0.334\n",
      "Round = 5, Iteration = 148, lr = 0.05\n",
      "[0]\ttrain-merror:0.3345\n",
      "Round = 5, Iteration = 149, lr = 0.05\n",
      "[0]\ttrain-merror:0.3231\n",
      "Round = 5, Iteration = 150, lr = 0.05\n",
      "[0]\ttrain-merror:0.3304\n",
      "Round = 5, Iteration = 151, lr = 0.05\n",
      "[0]\ttrain-merror:0.3288\n",
      "Round = 5, Iteration = 152, lr = 0.05\n",
      "[0]\ttrain-merror:0.3312\n",
      "Round = 5, Iteration = 153, lr = 0.05\n",
      "[0]\ttrain-merror:0.3272\n",
      "Round = 5, Iteration = 154, lr = 0.05\n",
      "[0]\ttrain-merror:0.3339\n",
      "Round = 5, Iteration = 155, lr = 0.05\n",
      "[0]\ttrain-merror:0.3347\n",
      "Round = 5, Iteration = 156, lr = 0.05\n",
      "[0]\ttrain-merror:0.3303\n",
      "Round = 5, Iteration = 157, lr = 0.05\n",
      "[0]\ttrain-merror:0.3304\n",
      "Round = 5, Iteration = 158, lr = 0.05\n",
      "[0]\ttrain-merror:0.3327\n",
      "Round = 5, Iteration = 159, lr = 0.05\n",
      "[0]\ttrain-merror:0.3304\n",
      "Round = 5, Iteration = 160, lr = 0.05\n",
      "[0]\ttrain-merror:0.3361\n",
      "Round = 5, Iteration = 161, lr = 0.05\n",
      "[0]\ttrain-merror:0.3323\n",
      "Round = 5, Iteration = 162, lr = 0.05\n",
      "[0]\ttrain-merror:0.3268\n",
      "Round = 5, Iteration = 163, lr = 0.05\n",
      "[0]\ttrain-merror:0.3362\n",
      "Round = 5, Iteration = 164, lr = 0.05\n",
      "[0]\ttrain-merror:0.3312\n",
      "Round = 5, Iteration = 165, lr = 0.05\n",
      "[0]\ttrain-merror:0.3309\n",
      "Round = 5, Iteration = 166, lr = 0.05\n",
      "[0]\ttrain-merror:0.3347\n",
      "Round = 5, Iteration = 167, lr = 0.05\n",
      "[0]\ttrain-merror:0.340958\n",
      "saving model:  xgb_chapter_models/xgbchap_model_5ksamp_v6_5\n"
     ]
    },
    {
     "data": {
      "application/vnd.jupyter.widget-view+json": {
       "model_id": "7f0f77a6719a467ea1b77a364a33f464",
       "version_major": 2,
       "version_minor": 0
      },
      "text/plain": [
       "  0%|          | 0/27 [00:00<?, ?it/s]"
      ]
     },
     "metadata": {},
     "output_type": "display_data"
    },
    {
     "name": "stdout",
     "output_type": "stream",
     "text": [
      "Round = 6, Iteration = 168, lr = 0.05\n",
      "[0]\ttrain-merror:0.3352\n",
      "Round = 6, Iteration = 169, lr = 0.05\n",
      "[0]\ttrain-merror:0.3284\n",
      "Round = 6, Iteration = 170, lr = 0.05\n",
      "[0]\ttrain-merror:0.3337\n",
      "Round = 6, Iteration = 171, lr = 0.05\n",
      "[0]\ttrain-merror:0.3303\n",
      "Round = 6, Iteration = 172, lr = 0.05\n",
      "[0]\ttrain-merror:0.3395\n",
      "Round = 6, Iteration = 173, lr = 0.05\n",
      "[0]\ttrain-merror:0.3334\n",
      "Round = 6, Iteration = 174, lr = 0.05\n",
      "[0]\ttrain-merror:0.3342\n",
      "Round = 6, Iteration = 175, lr = 0.05\n",
      "[0]\ttrain-merror:0.3328\n",
      "Round = 6, Iteration = 176, lr = 0.05\n",
      "[0]\ttrain-merror:0.327\n",
      "Round = 6, Iteration = 177, lr = 0.05\n",
      "[0]\ttrain-merror:0.3307\n",
      "Round = 6, Iteration = 178, lr = 0.05\n",
      "[0]\ttrain-merror:0.3176\n",
      "Round = 6, Iteration = 179, lr = 0.05\n",
      "[0]\ttrain-merror:0.3319\n",
      "Round = 6, Iteration = 180, lr = 0.05\n",
      "[0]\ttrain-merror:0.329\n",
      "Round = 6, Iteration = 181, lr = 0.05\n",
      "[0]\ttrain-merror:0.3236\n",
      "Round = 6, Iteration = 182, lr = 0.05\n",
      "[0]\ttrain-merror:0.3305\n",
      "Round = 6, Iteration = 183, lr = 0.05\n",
      "[0]\ttrain-merror:0.3229\n",
      "Round = 6, Iteration = 184, lr = 0.05\n",
      "[0]\ttrain-merror:0.3317\n",
      "Round = 6, Iteration = 185, lr = 0.05\n",
      "[0]\ttrain-merror:0.3263\n",
      "Round = 6, Iteration = 186, lr = 0.05\n",
      "[0]\ttrain-merror:0.3367\n",
      "Round = 6, Iteration = 187, lr = 0.05\n",
      "[0]\ttrain-merror:0.332\n",
      "Round = 6, Iteration = 188, lr = 0.05\n",
      "[0]\ttrain-merror:0.3261\n",
      "Round = 6, Iteration = 189, lr = 0.05\n",
      "[0]\ttrain-merror:0.3217\n",
      "Round = 6, Iteration = 190, lr = 0.05\n",
      "[0]\ttrain-merror:0.3311\n",
      "Round = 6, Iteration = 191, lr = 0.05\n",
      "[0]\ttrain-merror:0.3266\n",
      "Round = 6, Iteration = 192, lr = 0.05\n",
      "[0]\ttrain-merror:0.32\n",
      "Round = 6, Iteration = 193, lr = 0.05\n",
      "[0]\ttrain-merror:0.3305\n",
      "Round = 6, Iteration = 194, lr = 0.05\n",
      "[0]\ttrain-merror:0.3299\n",
      "Round = 6, Iteration = 195, lr = 0.05\n",
      "[0]\ttrain-merror:0.320882\n",
      "saving model:  xgb_chapter_models/xgbchap_model_5ksamp_v6_6\n"
     ]
    },
    {
     "data": {
      "application/vnd.jupyter.widget-view+json": {
       "model_id": "77513e21e9744261bfbd5d0d3b4a5361",
       "version_major": 2,
       "version_minor": 0
      },
      "text/plain": [
       "  0%|          | 0/27 [00:00<?, ?it/s]"
      ]
     },
     "metadata": {},
     "output_type": "display_data"
    },
    {
     "name": "stdout",
     "output_type": "stream",
     "text": [
      "Round = 7, Iteration = 196, lr = 0.05\n",
      "[0]\ttrain-merror:0.3236\n",
      "Round = 7, Iteration = 197, lr = 0.05\n",
      "[0]\ttrain-merror:0.3266\n",
      "Round = 7, Iteration = 198, lr = 0.05\n",
      "[0]\ttrain-merror:0.335\n",
      "Round = 7, Iteration = 199, lr = 0.05\n",
      "[0]\ttrain-merror:0.3198\n",
      "Round = 7, Iteration = 200, lr = 0.05\n",
      "[0]\ttrain-merror:0.3294\n",
      "Round = 7, Iteration = 201, lr = 0.05\n",
      "[0]\ttrain-merror:0.3275\n",
      "Round = 7, Iteration = 202, lr = 0.05\n",
      "[0]\ttrain-merror:0.3209\n",
      "Round = 7, Iteration = 203, lr = 0.05\n",
      "[0]\ttrain-merror:0.3393\n",
      "Round = 7, Iteration = 204, lr = 0.05\n",
      "[0]\ttrain-merror:0.3287\n",
      "Round = 7, Iteration = 205, lr = 0.05\n",
      "[0]\ttrain-merror:0.3277\n",
      "Round = 7, Iteration = 206, lr = 0.05\n",
      "[0]\ttrain-merror:0.3225\n",
      "Round = 7, Iteration = 207, lr = 0.05\n",
      "[0]\ttrain-merror:0.328\n",
      "Round = 7, Iteration = 208, lr = 0.05\n",
      "[0]\ttrain-merror:0.3206\n",
      "Round = 7, Iteration = 209, lr = 0.05\n",
      "[0]\ttrain-merror:0.3259\n",
      "Round = 7, Iteration = 210, lr = 0.05\n",
      "[0]\ttrain-merror:0.3146\n",
      "Round = 7, Iteration = 211, lr = 0.05\n",
      "[0]\ttrain-merror:0.3263\n",
      "Round = 7, Iteration = 212, lr = 0.05\n",
      "[0]\ttrain-merror:0.325\n",
      "Round = 7, Iteration = 213, lr = 0.05\n",
      "[0]\ttrain-merror:0.324\n",
      "Round = 7, Iteration = 214, lr = 0.05\n",
      "[0]\ttrain-merror:0.3362\n",
      "Round = 7, Iteration = 215, lr = 0.05\n",
      "[0]\ttrain-merror:0.3252\n",
      "Round = 7, Iteration = 216, lr = 0.05\n",
      "[0]\ttrain-merror:0.328\n",
      "Round = 7, Iteration = 217, lr = 0.05\n",
      "[0]\ttrain-merror:0.3288\n",
      "Round = 7, Iteration = 218, lr = 0.05\n",
      "[0]\ttrain-merror:0.3253\n",
      "Round = 7, Iteration = 219, lr = 0.05\n",
      "[0]\ttrain-merror:0.3252\n",
      "Round = 7, Iteration = 220, lr = 0.05\n",
      "[0]\ttrain-merror:0.3289\n",
      "Round = 7, Iteration = 221, lr = 0.05\n",
      "[0]\ttrain-merror:0.3276\n",
      "Round = 7, Iteration = 222, lr = 0.05\n",
      "[0]\ttrain-merror:0.3255\n",
      "Round = 7, Iteration = 223, lr = 0.05\n",
      "[0]\ttrain-merror:0.336186\n",
      "saving model:  xgb_chapter_models/xgbchap_model_5ksamp_v6_7\n"
     ]
    },
    {
     "data": {
      "application/vnd.jupyter.widget-view+json": {
       "model_id": "17b7721e1bcc4f9f91b2af8886c32307",
       "version_major": 2,
       "version_minor": 0
      },
      "text/plain": [
       "  0%|          | 0/27 [00:00<?, ?it/s]"
      ]
     },
     "metadata": {},
     "output_type": "display_data"
    },
    {
     "name": "stdout",
     "output_type": "stream",
     "text": [
      "Round = 8, Iteration = 224, lr = 0.05\n",
      "[0]\ttrain-merror:0.3274\n",
      "Round = 8, Iteration = 225, lr = 0.05\n",
      "[0]\ttrain-merror:0.3213\n",
      "Round = 8, Iteration = 226, lr = 0.05\n",
      "[0]\ttrain-merror:0.3272\n",
      "Round = 8, Iteration = 227, lr = 0.05\n",
      "[0]\ttrain-merror:0.3313\n",
      "Round = 8, Iteration = 228, lr = 0.05\n",
      "[0]\ttrain-merror:0.3225\n",
      "Round = 8, Iteration = 229, lr = 0.05\n",
      "[0]\ttrain-merror:0.324\n",
      "Round = 8, Iteration = 230, lr = 0.05\n",
      "[0]\ttrain-merror:0.3185\n",
      "Round = 8, Iteration = 231, lr = 0.05\n",
      "[0]\ttrain-merror:0.3201\n",
      "Round = 8, Iteration = 232, lr = 0.05\n",
      "[0]\ttrain-merror:0.3205\n",
      "Round = 8, Iteration = 233, lr = 0.05\n",
      "[0]\ttrain-merror:0.3211\n",
      "Round = 8, Iteration = 234, lr = 0.05\n",
      "[0]\ttrain-merror:0.3288\n",
      "Round = 8, Iteration = 235, lr = 0.05\n",
      "[0]\ttrain-merror:0.3291\n",
      "Round = 8, Iteration = 236, lr = 0.05\n",
      "[0]\ttrain-merror:0.3147\n",
      "Round = 8, Iteration = 237, lr = 0.05\n",
      "[0]\ttrain-merror:0.3274\n",
      "Round = 8, Iteration = 238, lr = 0.05\n",
      "[0]\ttrain-merror:0.3166\n",
      "Round = 8, Iteration = 239, lr = 0.05\n",
      "[0]\ttrain-merror:0.3268\n",
      "Round = 8, Iteration = 240, lr = 0.05\n",
      "[0]\ttrain-merror:0.3253\n",
      "Round = 8, Iteration = 241, lr = 0.05\n",
      "[0]\ttrain-merror:0.3236\n",
      "Round = 8, Iteration = 242, lr = 0.05\n",
      "[0]\ttrain-merror:0.3299\n",
      "Round = 8, Iteration = 243, lr = 0.05\n",
      "[0]\ttrain-merror:0.3288\n",
      "Round = 8, Iteration = 244, lr = 0.05\n",
      "[0]\ttrain-merror:0.3193\n",
      "Round = 8, Iteration = 245, lr = 0.05\n",
      "[0]\ttrain-merror:0.3236\n",
      "Round = 8, Iteration = 246, lr = 0.05\n",
      "[0]\ttrain-merror:0.3288\n",
      "Round = 8, Iteration = 247, lr = 0.05\n",
      "[0]\ttrain-merror:0.3284\n",
      "Round = 8, Iteration = 248, lr = 0.05\n",
      "[0]\ttrain-merror:0.3254\n",
      "Round = 8, Iteration = 249, lr = 0.05\n",
      "[0]\ttrain-merror:0.3183\n",
      "Round = 8, Iteration = 250, lr = 0.05\n",
      "[0]\ttrain-merror:0.3267\n",
      "Round = 8, Iteration = 251, lr = 0.05\n",
      "[0]\ttrain-merror:0.326806\n",
      "saving model:  xgb_chapter_models/xgbchap_model_5ksamp_v6_8\n"
     ]
    },
    {
     "data": {
      "application/vnd.jupyter.widget-view+json": {
       "model_id": "bfbe19a6417e431b8e5089c0efcf04fb",
       "version_major": 2,
       "version_minor": 0
      },
      "text/plain": [
       "  0%|          | 0/27 [00:00<?, ?it/s]"
      ]
     },
     "metadata": {},
     "output_type": "display_data"
    },
    {
     "name": "stdout",
     "output_type": "stream",
     "text": [
      "Round = 9, Iteration = 252, lr = 0.05\n",
      "[0]\ttrain-merror:0.3235\n",
      "Round = 9, Iteration = 253, lr = 0.05\n",
      "[0]\ttrain-merror:0.3256\n",
      "Round = 9, Iteration = 254, lr = 0.05\n",
      "[0]\ttrain-merror:0.3206\n",
      "Round = 9, Iteration = 255, lr = 0.05\n",
      "[0]\ttrain-merror:0.3163\n",
      "Round = 9, Iteration = 256, lr = 0.05\n",
      "[0]\ttrain-merror:0.3236\n",
      "Round = 9, Iteration = 257, lr = 0.05\n",
      "[0]\ttrain-merror:0.3077\n",
      "Round = 9, Iteration = 258, lr = 0.05\n",
      "[0]\ttrain-merror:0.327\n",
      "Round = 9, Iteration = 259, lr = 0.05\n",
      "[0]\ttrain-merror:0.3212\n",
      "Round = 9, Iteration = 260, lr = 0.05\n",
      "[0]\ttrain-merror:0.325\n",
      "Round = 9, Iteration = 261, lr = 0.05\n",
      "[0]\ttrain-merror:0.3258\n",
      "Round = 9, Iteration = 262, lr = 0.05\n",
      "[0]\ttrain-merror:0.3183\n",
      "Round = 9, Iteration = 263, lr = 0.05\n",
      "[0]\ttrain-merror:0.3262\n",
      "Round = 9, Iteration = 264, lr = 0.05\n",
      "[0]\ttrain-merror:0.3296\n",
      "Round = 9, Iteration = 265, lr = 0.05\n",
      "[0]\ttrain-merror:0.3262\n",
      "Round = 9, Iteration = 266, lr = 0.05\n",
      "[0]\ttrain-merror:0.3217\n",
      "Round = 9, Iteration = 267, lr = 0.05\n",
      "[0]\ttrain-merror:0.3253\n",
      "Round = 9, Iteration = 268, lr = 0.05\n",
      "[0]\ttrain-merror:0.3228\n",
      "Round = 9, Iteration = 269, lr = 0.05\n",
      "[0]\ttrain-merror:0.3254\n",
      "Round = 9, Iteration = 270, lr = 0.05\n",
      "[0]\ttrain-merror:0.3182\n",
      "Round = 9, Iteration = 271, lr = 0.05\n",
      "[0]\ttrain-merror:0.3166\n",
      "Round = 9, Iteration = 272, lr = 0.05\n",
      "[0]\ttrain-merror:0.3158\n",
      "Round = 9, Iteration = 273, lr = 0.05\n",
      "[0]\ttrain-merror:0.3242\n",
      "Round = 9, Iteration = 274, lr = 0.05\n",
      "[0]\ttrain-merror:0.3218\n",
      "Round = 9, Iteration = 275, lr = 0.05\n",
      "[0]\ttrain-merror:0.3222\n",
      "Round = 9, Iteration = 276, lr = 0.05\n",
      "[0]\ttrain-merror:0.3279\n",
      "Round = 9, Iteration = 277, lr = 0.05\n",
      "[0]\ttrain-merror:0.3285\n",
      "Round = 9, Iteration = 278, lr = 0.05\n",
      "[0]\ttrain-merror:0.3187\n",
      "Round = 9, Iteration = 279, lr = 0.05\n",
      "[0]\ttrain-merror:0.318578\n",
      "saving model:  xgb_chapter_models/xgbchap_model_5ksamp_v6_9\n"
     ]
    },
    {
     "data": {
      "application/vnd.jupyter.widget-view+json": {
       "model_id": "3bfc3350dd68454f9861721ba9e36148",
       "version_major": 2,
       "version_minor": 0
      },
      "text/plain": [
       "  0%|          | 0/27 [00:00<?, ?it/s]"
      ]
     },
     "metadata": {},
     "output_type": "display_data"
    },
    {
     "name": "stdout",
     "output_type": "stream",
     "text": [
      "Round = 10, Iteration = 280, lr = 0.05\n",
      "[0]\ttrain-merror:0.3153\n",
      "Round = 10, Iteration = 281, lr = 0.05\n",
      "[0]\ttrain-merror:0.3124\n",
      "Round = 10, Iteration = 282, lr = 0.05\n",
      "[0]\ttrain-merror:0.3165\n",
      "Round = 10, Iteration = 283, lr = 0.05\n",
      "[0]\ttrain-merror:0.3191\n",
      "Round = 10, Iteration = 284, lr = 0.05\n",
      "[0]\ttrain-merror:0.3239\n",
      "Round = 10, Iteration = 285, lr = 0.05\n",
      "[0]\ttrain-merror:0.3256\n",
      "Round = 10, Iteration = 286, lr = 0.05\n",
      "[0]\ttrain-merror:0.3188\n",
      "Round = 10, Iteration = 287, lr = 0.05\n",
      "[0]\ttrain-merror:0.3146\n",
      "Round = 10, Iteration = 288, lr = 0.05\n",
      "[0]\ttrain-merror:0.3214\n",
      "Round = 10, Iteration = 289, lr = 0.05\n",
      "[0]\ttrain-merror:0.3208\n",
      "Round = 10, Iteration = 290, lr = 0.05\n",
      "[0]\ttrain-merror:0.3223\n",
      "Round = 10, Iteration = 291, lr = 0.05\n",
      "[0]\ttrain-merror:0.3221\n",
      "Round = 10, Iteration = 292, lr = 0.05\n",
      "[0]\ttrain-merror:0.3179\n",
      "Round = 10, Iteration = 293, lr = 0.05\n",
      "[0]\ttrain-merror:0.3183\n",
      "Round = 10, Iteration = 294, lr = 0.05\n",
      "[0]\ttrain-merror:0.3264\n",
      "Round = 10, Iteration = 295, lr = 0.05\n",
      "[0]\ttrain-merror:0.3192\n",
      "Round = 10, Iteration = 296, lr = 0.05\n",
      "[0]\ttrain-merror:0.3183\n",
      "Round = 10, Iteration = 297, lr = 0.05\n",
      "[0]\ttrain-merror:0.3203\n",
      "Round = 10, Iteration = 298, lr = 0.05\n",
      "[0]\ttrain-merror:0.3266\n",
      "Round = 10, Iteration = 299, lr = 0.05\n",
      "[0]\ttrain-merror:0.3157\n",
      "Round = 10, Iteration = 300, lr = 0.05\n",
      "[0]\ttrain-merror:0.3139\n",
      "Round = 10, Iteration = 301, lr = 0.05\n",
      "[0]\ttrain-merror:0.327\n",
      "Round = 10, Iteration = 302, lr = 0.05\n",
      "[0]\ttrain-merror:0.3176\n",
      "Round = 10, Iteration = 303, lr = 0.05\n",
      "[0]\ttrain-merror:0.3131\n",
      "Round = 10, Iteration = 304, lr = 0.05\n",
      "[0]\ttrain-merror:0.3239\n",
      "Round = 10, Iteration = 305, lr = 0.05\n",
      "[0]\ttrain-merror:0.3205\n",
      "Round = 10, Iteration = 306, lr = 0.05\n",
      "[0]\ttrain-merror:0.3296\n",
      "Round = 10, Iteration = 307, lr = 0.05\n",
      "[0]\ttrain-merror:0.315287\n",
      "saving model:  xgb_chapter_models/xgbchap_model_5ksamp_v6_10\n"
     ]
    },
    {
     "data": {
      "application/vnd.jupyter.widget-view+json": {
       "model_id": "d1d149a5f5414d1fb8912e4940ada1ce",
       "version_major": 2,
       "version_minor": 0
      },
      "text/plain": [
       "  0%|          | 0/27 [00:00<?, ?it/s]"
      ]
     },
     "metadata": {},
     "output_type": "display_data"
    },
    {
     "name": "stdout",
     "output_type": "stream",
     "text": [
      "Round = 11, Iteration = 308, lr = 0.05\n",
      "[0]\ttrain-merror:0.3137\n",
      "Round = 11, Iteration = 309, lr = 0.05\n",
      "[0]\ttrain-merror:0.3175\n",
      "Round = 11, Iteration = 310, lr = 0.05\n",
      "[0]\ttrain-merror:0.3204\n",
      "Round = 11, Iteration = 311, lr = 0.05\n",
      "[0]\ttrain-merror:0.3191\n",
      "Round = 11, Iteration = 312, lr = 0.05\n",
      "[0]\ttrain-merror:0.3251\n",
      "Round = 11, Iteration = 313, lr = 0.05\n",
      "[0]\ttrain-merror:0.3252\n",
      "Round = 11, Iteration = 314, lr = 0.05\n",
      "[0]\ttrain-merror:0.3176\n",
      "Round = 11, Iteration = 315, lr = 0.05\n",
      "[0]\ttrain-merror:0.321\n",
      "Round = 11, Iteration = 316, lr = 0.05\n",
      "[0]\ttrain-merror:0.311\n",
      "Round = 11, Iteration = 317, lr = 0.05\n",
      "[0]\ttrain-merror:0.3187\n",
      "Round = 11, Iteration = 318, lr = 0.05\n",
      "[0]\ttrain-merror:0.3201\n",
      "Round = 11, Iteration = 319, lr = 0.05\n",
      "[0]\ttrain-merror:0.3204\n",
      "Round = 11, Iteration = 320, lr = 0.05\n",
      "[0]\ttrain-merror:0.3157\n",
      "Round = 11, Iteration = 321, lr = 0.05\n",
      "[0]\ttrain-merror:0.3245\n",
      "Round = 11, Iteration = 322, lr = 0.05\n",
      "[0]\ttrain-merror:0.3232\n",
      "Round = 11, Iteration = 323, lr = 0.05\n",
      "[0]\ttrain-merror:0.3189\n",
      "Round = 11, Iteration = 324, lr = 0.05\n",
      "[0]\ttrain-merror:0.3223\n",
      "Round = 11, Iteration = 325, lr = 0.05\n",
      "[0]\ttrain-merror:0.3201\n",
      "Round = 11, Iteration = 326, lr = 0.05\n",
      "[0]\ttrain-merror:0.3206\n",
      "Round = 11, Iteration = 327, lr = 0.05\n",
      "[0]\ttrain-merror:0.3104\n",
      "Round = 11, Iteration = 328, lr = 0.05\n",
      "[0]\ttrain-merror:0.3254\n",
      "Round = 11, Iteration = 329, lr = 0.05\n",
      "[0]\ttrain-merror:0.309\n",
      "Round = 11, Iteration = 330, lr = 0.05\n",
      "[0]\ttrain-merror:0.3225\n",
      "Round = 11, Iteration = 331, lr = 0.05\n",
      "[0]\ttrain-merror:0.3098\n",
      "Round = 11, Iteration = 332, lr = 0.05\n",
      "[0]\ttrain-merror:0.3151\n",
      "Round = 11, Iteration = 333, lr = 0.05\n",
      "[0]\ttrain-merror:0.3209\n",
      "Round = 11, Iteration = 334, lr = 0.05\n",
      "[0]\ttrain-merror:0.3065\n",
      "Round = 11, Iteration = 335, lr = 0.05\n",
      "[0]\ttrain-merror:0.311667\n",
      "saving model:  xgb_chapter_models/xgbchap_model_5ksamp_v6_11\n"
     ]
    },
    {
     "data": {
      "application/vnd.jupyter.widget-view+json": {
       "model_id": "195ed454d61744c48071138f9520106b",
       "version_major": 2,
       "version_minor": 0
      },
      "text/plain": [
       "  0%|          | 0/27 [00:00<?, ?it/s]"
      ]
     },
     "metadata": {},
     "output_type": "display_data"
    },
    {
     "name": "stdout",
     "output_type": "stream",
     "text": [
      "Round = 12, Iteration = 336, lr = 0.05\n",
      "[0]\ttrain-merror:0.3185\n",
      "Round = 12, Iteration = 337, lr = 0.05\n",
      "[0]\ttrain-merror:0.312\n",
      "Round = 12, Iteration = 338, lr = 0.05\n",
      "[0]\ttrain-merror:0.3137\n",
      "Round = 12, Iteration = 339, lr = 0.05\n",
      "[0]\ttrain-merror:0.3116\n",
      "Round = 12, Iteration = 340, lr = 0.05\n",
      "[0]\ttrain-merror:0.3113\n",
      "Round = 12, Iteration = 341, lr = 0.05\n",
      "[0]\ttrain-merror:0.3276\n",
      "Round = 12, Iteration = 342, lr = 0.05\n",
      "[0]\ttrain-merror:0.3292\n",
      "Round = 12, Iteration = 343, lr = 0.05\n",
      "[0]\ttrain-merror:0.3243\n",
      "Round = 12, Iteration = 344, lr = 0.05\n",
      "[0]\ttrain-merror:0.3161\n",
      "Round = 12, Iteration = 345, lr = 0.05\n",
      "[0]\ttrain-merror:0.3209\n",
      "Round = 12, Iteration = 346, lr = 0.05\n",
      "[0]\ttrain-merror:0.3105\n",
      "Round = 12, Iteration = 347, lr = 0.05\n",
      "[0]\ttrain-merror:0.3155\n",
      "Round = 12, Iteration = 348, lr = 0.05\n",
      "[0]\ttrain-merror:0.3137\n",
      "Round = 12, Iteration = 349, lr = 0.05\n",
      "[0]\ttrain-merror:0.313\n",
      "Round = 12, Iteration = 350, lr = 0.05\n",
      "[0]\ttrain-merror:0.3153\n",
      "Round = 12, Iteration = 351, lr = 0.05\n",
      "[0]\ttrain-merror:0.3229\n",
      "Round = 12, Iteration = 352, lr = 0.05\n",
      "[0]\ttrain-merror:0.3162\n",
      "Round = 12, Iteration = 353, lr = 0.05\n",
      "[0]\ttrain-merror:0.3113\n",
      "Round = 12, Iteration = 354, lr = 0.05\n",
      "[0]\ttrain-merror:0.3103\n",
      "Round = 12, Iteration = 355, lr = 0.05\n",
      "[0]\ttrain-merror:0.3105\n",
      "Round = 12, Iteration = 356, lr = 0.05\n",
      "[0]\ttrain-merror:0.313\n",
      "Round = 12, Iteration = 357, lr = 0.05\n",
      "[0]\ttrain-merror:0.3144\n",
      "Round = 12, Iteration = 358, lr = 0.05\n",
      "[0]\ttrain-merror:0.3111\n",
      "Round = 12, Iteration = 359, lr = 0.05\n",
      "[0]\ttrain-merror:0.3181\n",
      "Round = 12, Iteration = 360, lr = 0.05\n",
      "[0]\ttrain-merror:0.319\n",
      "Round = 12, Iteration = 361, lr = 0.05\n",
      "[0]\ttrain-merror:0.3162\n",
      "Round = 12, Iteration = 362, lr = 0.05\n",
      "[0]\ttrain-merror:0.3262\n",
      "Round = 12, Iteration = 363, lr = 0.05\n",
      "[0]\ttrain-merror:0.3143\n",
      "saving model:  xgb_chapter_models/xgbchap_model_5ksamp_v6_12\n"
     ]
    },
    {
     "data": {
      "application/vnd.jupyter.widget-view+json": {
       "model_id": "628aed0e8dcc48cba3e95c6a1fde2674",
       "version_major": 2,
       "version_minor": 0
      },
      "text/plain": [
       "  0%|          | 0/27 [00:00<?, ?it/s]"
      ]
     },
     "metadata": {},
     "output_type": "display_data"
    },
    {
     "name": "stdout",
     "output_type": "stream",
     "text": [
      "Round = 13, Iteration = 364, lr = 0.05\n",
      "[0]\ttrain-merror:0.3151\n",
      "Round = 13, Iteration = 365, lr = 0.05\n",
      "[0]\ttrain-merror:0.3166\n",
      "Round = 13, Iteration = 366, lr = 0.05\n",
      "[0]\ttrain-merror:0.3123\n",
      "Round = 13, Iteration = 367, lr = 0.05\n",
      "[0]\ttrain-merror:0.3136\n",
      "Round = 13, Iteration = 368, lr = 0.05\n",
      "[0]\ttrain-merror:0.3197\n",
      "Round = 13, Iteration = 369, lr = 0.05\n",
      "[0]\ttrain-merror:0.3148\n",
      "Round = 13, Iteration = 370, lr = 0.05\n",
      "[0]\ttrain-merror:0.3193\n",
      "Round = 13, Iteration = 371, lr = 0.05\n",
      "[0]\ttrain-merror:0.3096\n",
      "Round = 13, Iteration = 372, lr = 0.05\n",
      "[0]\ttrain-merror:0.3131\n",
      "Round = 13, Iteration = 373, lr = 0.05\n",
      "[0]\ttrain-merror:0.3166\n",
      "Round = 13, Iteration = 374, lr = 0.05\n",
      "[0]\ttrain-merror:0.3065\n",
      "Round = 13, Iteration = 375, lr = 0.05\n",
      "[0]\ttrain-merror:0.3138\n",
      "Round = 13, Iteration = 376, lr = 0.05\n",
      "[0]\ttrain-merror:0.3146\n",
      "Round = 13, Iteration = 377, lr = 0.05\n",
      "[0]\ttrain-merror:0.3117\n",
      "Round = 13, Iteration = 378, lr = 0.05\n",
      "[0]\ttrain-merror:0.3117\n",
      "Round = 13, Iteration = 379, lr = 0.05\n",
      "[0]\ttrain-merror:0.3114\n",
      "Round = 13, Iteration = 380, lr = 0.05\n",
      "[0]\ttrain-merror:0.3185\n",
      "Round = 13, Iteration = 381, lr = 0.05\n",
      "[0]\ttrain-merror:0.3184\n",
      "Round = 13, Iteration = 382, lr = 0.05\n",
      "[0]\ttrain-merror:0.3069\n",
      "Round = 13, Iteration = 383, lr = 0.05\n",
      "[0]\ttrain-merror:0.3181\n",
      "Round = 13, Iteration = 384, lr = 0.05\n",
      "[0]\ttrain-merror:0.3209\n",
      "Round = 13, Iteration = 385, lr = 0.05\n",
      "[0]\ttrain-merror:0.3179\n",
      "Round = 13, Iteration = 386, lr = 0.05\n",
      "[0]\ttrain-merror:0.3117\n",
      "Round = 13, Iteration = 387, lr = 0.05\n",
      "[0]\ttrain-merror:0.3155\n",
      "Round = 13, Iteration = 388, lr = 0.05\n",
      "[0]\ttrain-merror:0.3169\n",
      "Round = 13, Iteration = 389, lr = 0.05\n",
      "[0]\ttrain-merror:0.3107\n",
      "Round = 13, Iteration = 390, lr = 0.05\n",
      "[0]\ttrain-merror:0.3124\n",
      "Round = 13, Iteration = 391, lr = 0.05\n",
      "[0]\ttrain-merror:0.316439\n",
      "saving model:  xgb_chapter_models/xgbchap_model_5ksamp_v6_13\n"
     ]
    },
    {
     "data": {
      "application/vnd.jupyter.widget-view+json": {
       "model_id": "009ebeaa82f84175a411b615ba66bc47",
       "version_major": 2,
       "version_minor": 0
      },
      "text/plain": [
       "  0%|          | 0/27 [00:00<?, ?it/s]"
      ]
     },
     "metadata": {},
     "output_type": "display_data"
    },
    {
     "name": "stdout",
     "output_type": "stream",
     "text": [
      "Round = 14, Iteration = 392, lr = 0.05\n",
      "[0]\ttrain-merror:0.3232\n",
      "Round = 14, Iteration = 393, lr = 0.05\n",
      "[0]\ttrain-merror:0.3084\n",
      "Round = 14, Iteration = 394, lr = 0.05\n",
      "[0]\ttrain-merror:0.3117\n",
      "Round = 14, Iteration = 395, lr = 0.05\n",
      "[0]\ttrain-merror:0.3219\n",
      "Round = 14, Iteration = 396, lr = 0.05\n",
      "[0]\ttrain-merror:0.3073\n",
      "Round = 14, Iteration = 397, lr = 0.05\n",
      "[0]\ttrain-merror:0.3093\n",
      "Round = 14, Iteration = 398, lr = 0.05\n",
      "[0]\ttrain-merror:0.3074\n",
      "Round = 14, Iteration = 399, lr = 0.05\n",
      "[0]\ttrain-merror:0.3176\n",
      "Round = 14, Iteration = 400, lr = 0.05\n",
      "[0]\ttrain-merror:0.3182\n",
      "Round = 14, Iteration = 401, lr = 0.05\n",
      "[0]\ttrain-merror:0.3146\n",
      "Round = 14, Iteration = 402, lr = 0.05\n",
      "[0]\ttrain-merror:0.3107\n",
      "Round = 14, Iteration = 403, lr = 0.05\n",
      "[0]\ttrain-merror:0.3124\n",
      "Round = 14, Iteration = 404, lr = 0.05\n",
      "[0]\ttrain-merror:0.3165\n",
      "Round = 14, Iteration = 405, lr = 0.05\n",
      "[0]\ttrain-merror:0.3142\n",
      "Round = 14, Iteration = 406, lr = 0.05\n",
      "[0]\ttrain-merror:0.311\n",
      "Round = 14, Iteration = 407, lr = 0.05\n",
      "[0]\ttrain-merror:0.3154\n",
      "Round = 14, Iteration = 408, lr = 0.05\n",
      "[0]\ttrain-merror:0.3113\n",
      "Round = 14, Iteration = 409, lr = 0.05\n",
      "[0]\ttrain-merror:0.311\n",
      "Round = 14, Iteration = 410, lr = 0.05\n",
      "[0]\ttrain-merror:0.3092\n",
      "Round = 14, Iteration = 411, lr = 0.05\n",
      "[0]\ttrain-merror:0.3102\n",
      "Round = 14, Iteration = 412, lr = 0.05\n",
      "[0]\ttrain-merror:0.3093\n",
      "Round = 14, Iteration = 413, lr = 0.05\n",
      "[0]\ttrain-merror:0.3125\n",
      "Round = 14, Iteration = 414, lr = 0.05\n",
      "[0]\ttrain-merror:0.3146\n",
      "Round = 14, Iteration = 415, lr = 0.05\n",
      "[0]\ttrain-merror:0.3064\n",
      "Round = 14, Iteration = 416, lr = 0.05\n",
      "[0]\ttrain-merror:0.3105\n",
      "Round = 14, Iteration = 417, lr = 0.05\n",
      "[0]\ttrain-merror:0.3098\n",
      "Round = 14, Iteration = 418, lr = 0.05\n",
      "[0]\ttrain-merror:0.3177\n",
      "Round = 14, Iteration = 419, lr = 0.05\n",
      "[0]\ttrain-merror:0.322528\n",
      "saving model:  xgb_chapter_models/xgbchap_model_5ksamp_v6_14\n"
     ]
    },
    {
     "data": {
      "application/vnd.jupyter.widget-view+json": {
       "model_id": "f57a95f4298047e28ed7c83f29c4587c",
       "version_major": 2,
       "version_minor": 0
      },
      "text/plain": [
       "  0%|          | 0/27 [00:00<?, ?it/s]"
      ]
     },
     "metadata": {},
     "output_type": "display_data"
    },
    {
     "name": "stdout",
     "output_type": "stream",
     "text": [
      "Round = 15, Iteration = 420, lr = 0.05\n",
      "[0]\ttrain-merror:0.3106\n",
      "Round = 15, Iteration = 421, lr = 0.05\n",
      "[0]\ttrain-merror:0.3091\n",
      "Round = 15, Iteration = 422, lr = 0.05\n",
      "[0]\ttrain-merror:0.3098\n",
      "Round = 15, Iteration = 423, lr = 0.05\n",
      "[0]\ttrain-merror:0.3123\n",
      "Round = 15, Iteration = 424, lr = 0.05\n",
      "[0]\ttrain-merror:0.3098\n",
      "Round = 15, Iteration = 425, lr = 0.05\n",
      "[0]\ttrain-merror:0.3101\n",
      "Round = 15, Iteration = 426, lr = 0.05\n",
      "[0]\ttrain-merror:0.3068\n",
      "Round = 15, Iteration = 427, lr = 0.05\n",
      "[0]\ttrain-merror:0.3106\n",
      "Round = 15, Iteration = 428, lr = 0.05\n",
      "[0]\ttrain-merror:0.3108\n",
      "Round = 15, Iteration = 429, lr = 0.05\n",
      "[0]\ttrain-merror:0.3103\n",
      "Round = 15, Iteration = 430, lr = 0.05\n",
      "[0]\ttrain-merror:0.3084\n",
      "Round = 15, Iteration = 431, lr = 0.05\n",
      "[0]\ttrain-merror:0.3078\n",
      "Round = 15, Iteration = 432, lr = 0.05\n",
      "[0]\ttrain-merror:0.3105\n",
      "Round = 15, Iteration = 433, lr = 0.05\n",
      "[0]\ttrain-merror:0.3172\n",
      "Round = 15, Iteration = 434, lr = 0.05\n",
      "[0]\ttrain-merror:0.3085\n",
      "Round = 15, Iteration = 435, lr = 0.05\n",
      "[0]\ttrain-merror:0.3115\n",
      "Round = 15, Iteration = 436, lr = 0.05\n",
      "[0]\ttrain-merror:0.3054\n",
      "Round = 15, Iteration = 437, lr = 0.05\n",
      "[0]\ttrain-merror:0.3113\n",
      "Round = 15, Iteration = 438, lr = 0.05\n",
      "[0]\ttrain-merror:0.3111\n",
      "Round = 15, Iteration = 439, lr = 0.05\n",
      "[0]\ttrain-merror:0.3155\n",
      "Round = 15, Iteration = 440, lr = 0.05\n",
      "[0]\ttrain-merror:0.3161\n",
      "Round = 15, Iteration = 441, lr = 0.05\n",
      "[0]\ttrain-merror:0.3102\n",
      "Round = 15, Iteration = 442, lr = 0.05\n",
      "[0]\ttrain-merror:0.3125\n",
      "Round = 15, Iteration = 443, lr = 0.05\n",
      "[0]\ttrain-merror:0.3162\n",
      "Round = 15, Iteration = 444, lr = 0.05\n",
      "[0]\ttrain-merror:0.3079\n",
      "Round = 15, Iteration = 445, lr = 0.05\n",
      "[0]\ttrain-merror:0.3121\n",
      "Round = 15, Iteration = 446, lr = 0.05\n",
      "[0]\ttrain-merror:0.3143\n",
      "Round = 15, Iteration = 447, lr = 0.05\n",
      "[0]\ttrain-merror:0.314793\n",
      "saving model:  xgb_chapter_models/xgbchap_model_5ksamp_v6_15\n"
     ]
    },
    {
     "data": {
      "application/vnd.jupyter.widget-view+json": {
       "model_id": "c360dcfcd3af4e8b9f1e64c61f700d0e",
       "version_major": 2,
       "version_minor": 0
      },
      "text/plain": [
       "  0%|          | 0/27 [00:00<?, ?it/s]"
      ]
     },
     "metadata": {},
     "output_type": "display_data"
    },
    {
     "name": "stdout",
     "output_type": "stream",
     "text": [
      "Round = 16, Iteration = 448, lr = 0.05\n",
      "[0]\ttrain-merror:0.3166\n",
      "Round = 16, Iteration = 449, lr = 0.05\n",
      "[0]\ttrain-merror:0.309\n",
      "Round = 16, Iteration = 450, lr = 0.05\n",
      "[0]\ttrain-merror:0.3113\n",
      "Round = 16, Iteration = 451, lr = 0.05\n",
      "[0]\ttrain-merror:0.3084\n",
      "Round = 16, Iteration = 452, lr = 0.05\n",
      "[0]\ttrain-merror:0.306\n",
      "Round = 16, Iteration = 453, lr = 0.05\n",
      "[0]\ttrain-merror:0.3107\n",
      "Round = 16, Iteration = 454, lr = 0.05\n",
      "[0]\ttrain-merror:0.3083\n",
      "Round = 16, Iteration = 455, lr = 0.05\n",
      "[0]\ttrain-merror:0.3115\n",
      "Round = 16, Iteration = 456, lr = 0.05\n",
      "[0]\ttrain-merror:0.3112\n",
      "Round = 16, Iteration = 457, lr = 0.05\n",
      "[0]\ttrain-merror:0.3072\n",
      "Round = 16, Iteration = 458, lr = 0.05\n",
      "[0]\ttrain-merror:0.3144\n",
      "Round = 16, Iteration = 459, lr = 0.05\n",
      "[0]\ttrain-merror:0.3009\n",
      "Round = 16, Iteration = 460, lr = 0.05\n",
      "[0]\ttrain-merror:0.3124\n",
      "Round = 16, Iteration = 461, lr = 0.05\n",
      "[0]\ttrain-merror:0.3128\n",
      "Round = 16, Iteration = 462, lr = 0.05\n",
      "[0]\ttrain-merror:0.3157\n",
      "Round = 16, Iteration = 463, lr = 0.05\n",
      "[0]\ttrain-merror:0.3012\n",
      "Round = 16, Iteration = 464, lr = 0.05\n",
      "[0]\ttrain-merror:0.3149\n",
      "Round = 16, Iteration = 465, lr = 0.05\n",
      "[0]\ttrain-merror:0.3054\n",
      "Round = 16, Iteration = 466, lr = 0.05\n",
      "[0]\ttrain-merror:0.3093\n",
      "Round = 16, Iteration = 467, lr = 0.05\n",
      "[0]\ttrain-merror:0.315\n",
      "Round = 16, Iteration = 468, lr = 0.05\n",
      "[0]\ttrain-merror:0.3031\n",
      "Round = 16, Iteration = 469, lr = 0.05\n",
      "[0]\ttrain-merror:0.3086\n",
      "Round = 16, Iteration = 470, lr = 0.05\n",
      "[0]\ttrain-merror:0.3066\n",
      "Round = 16, Iteration = 471, lr = 0.05\n",
      "[0]\ttrain-merror:0.3149\n",
      "Round = 16, Iteration = 472, lr = 0.05\n",
      "[0]\ttrain-merror:0.3026\n",
      "Round = 16, Iteration = 473, lr = 0.05\n",
      "[0]\ttrain-merror:0.3074\n",
      "Round = 16, Iteration = 474, lr = 0.05\n",
      "[0]\ttrain-merror:0.3138\n",
      "Round = 16, Iteration = 475, lr = 0.05\n",
      "[0]\ttrain-merror:0.304591\n",
      "saving model:  xgb_chapter_models/xgbchap_model_5ksamp_v6_16\n"
     ]
    },
    {
     "data": {
      "application/vnd.jupyter.widget-view+json": {
       "model_id": "e2013e9e5e1b4ed499b20982bd67df67",
       "version_major": 2,
       "version_minor": 0
      },
      "text/plain": [
       "  0%|          | 0/27 [00:00<?, ?it/s]"
      ]
     },
     "metadata": {},
     "output_type": "display_data"
    },
    {
     "name": "stdout",
     "output_type": "stream",
     "text": [
      "Round = 17, Iteration = 476, lr = 0.05\n",
      "[0]\ttrain-merror:0.3021\n",
      "Round = 17, Iteration = 477, lr = 0.05\n",
      "[0]\ttrain-merror:0.3043\n",
      "Round = 17, Iteration = 478, lr = 0.05\n",
      "[0]\ttrain-merror:0.309\n",
      "Round = 17, Iteration = 479, lr = 0.05\n",
      "[0]\ttrain-merror:0.3127\n",
      "Round = 17, Iteration = 480, lr = 0.05\n",
      "[0]\ttrain-merror:0.3049\n",
      "Round = 17, Iteration = 481, lr = 0.05\n",
      "[0]\ttrain-merror:0.3119\n",
      "Round = 17, Iteration = 482, lr = 0.05\n",
      "[0]\ttrain-merror:0.3164\n",
      "Round = 17, Iteration = 483, lr = 0.05\n",
      "[0]\ttrain-merror:0.3064\n",
      "Round = 17, Iteration = 484, lr = 0.05\n",
      "[0]\ttrain-merror:0.3056\n",
      "Round = 17, Iteration = 485, lr = 0.05\n",
      "[0]\ttrain-merror:0.3081\n",
      "Round = 17, Iteration = 486, lr = 0.05\n",
      "[0]\ttrain-merror:0.31\n",
      "Round = 17, Iteration = 487, lr = 0.05\n",
      "[0]\ttrain-merror:0.3053\n",
      "Round = 17, Iteration = 488, lr = 0.05\n",
      "[0]\ttrain-merror:0.3075\n",
      "Round = 17, Iteration = 489, lr = 0.05\n",
      "[0]\ttrain-merror:0.3071\n",
      "Round = 17, Iteration = 490, lr = 0.05\n",
      "[0]\ttrain-merror:0.3085\n",
      "Round = 17, Iteration = 491, lr = 0.05\n",
      "[0]\ttrain-merror:0.3109\n",
      "Round = 17, Iteration = 492, lr = 0.05\n",
      "[0]\ttrain-merror:0.3019\n",
      "Round = 17, Iteration = 493, lr = 0.05\n",
      "[0]\ttrain-merror:0.3155\n",
      "Round = 17, Iteration = 494, lr = 0.05\n",
      "[0]\ttrain-merror:0.3114\n",
      "Round = 17, Iteration = 495, lr = 0.05\n",
      "[0]\ttrain-merror:0.2896\n",
      "Round = 17, Iteration = 496, lr = 0.05\n",
      "[0]\ttrain-merror:0.311\n",
      "Round = 17, Iteration = 497, lr = 0.05\n",
      "[0]\ttrain-merror:0.3083\n",
      "Round = 17, Iteration = 498, lr = 0.05\n",
      "[0]\ttrain-merror:0.305\n",
      "Round = 17, Iteration = 499, lr = 0.05\n",
      "[0]\ttrain-merror:0.3165\n",
      "Round = 17, Iteration = 500, lr = 0.05\n",
      "[0]\ttrain-merror:0.3027\n",
      "Round = 17, Iteration = 501, lr = 0.05\n",
      "[0]\ttrain-merror:0.307\n",
      "Round = 17, Iteration = 502, lr = 0.05\n",
      "[0]\ttrain-merror:0.3087\n",
      "Round = 17, Iteration = 503, lr = 0.05\n",
      "[0]\ttrain-merror:0.30887\n",
      "saving model:  xgb_chapter_models/xgbchap_model_5ksamp_v6_17\n"
     ]
    },
    {
     "data": {
      "application/vnd.jupyter.widget-view+json": {
       "model_id": "2815ddab19a64b7d85eaf141f30660fa",
       "version_major": 2,
       "version_minor": 0
      },
      "text/plain": [
       "  0%|          | 0/27 [00:00<?, ?it/s]"
      ]
     },
     "metadata": {},
     "output_type": "display_data"
    },
    {
     "name": "stdout",
     "output_type": "stream",
     "text": [
      "Round = 18, Iteration = 504, lr = 0.05\n",
      "[0]\ttrain-merror:0.315\n",
      "Round = 18, Iteration = 505, lr = 0.05\n",
      "[0]\ttrain-merror:0.304\n",
      "Round = 18, Iteration = 506, lr = 0.05\n",
      "[0]\ttrain-merror:0.3009\n",
      "Round = 18, Iteration = 507, lr = 0.05\n",
      "[0]\ttrain-merror:0.3058\n",
      "Round = 18, Iteration = 508, lr = 0.05\n",
      "[0]\ttrain-merror:0.3145\n",
      "Round = 18, Iteration = 509, lr = 0.05\n",
      "[0]\ttrain-merror:0.3019\n",
      "Round = 18, Iteration = 510, lr = 0.05\n",
      "[0]\ttrain-merror:0.3012\n",
      "Round = 18, Iteration = 511, lr = 0.05\n",
      "[0]\ttrain-merror:0.2966\n",
      "Round = 18, Iteration = 512, lr = 0.05\n",
      "[0]\ttrain-merror:0.304\n",
      "Round = 18, Iteration = 513, lr = 0.05\n",
      "[0]\ttrain-merror:0.3079\n",
      "Round = 18, Iteration = 514, lr = 0.05\n",
      "[0]\ttrain-merror:0.3052\n",
      "Round = 18, Iteration = 515, lr = 0.05\n",
      "[0]\ttrain-merror:0.3068\n",
      "Round = 18, Iteration = 516, lr = 0.05\n",
      "[0]\ttrain-merror:0.3008\n",
      "Round = 18, Iteration = 517, lr = 0.05\n",
      "[0]\ttrain-merror:0.3011\n",
      "Round = 18, Iteration = 518, lr = 0.05\n",
      "[0]\ttrain-merror:0.3097\n",
      "Round = 18, Iteration = 519, lr = 0.05\n",
      "[0]\ttrain-merror:0.3042\n",
      "Round = 18, Iteration = 520, lr = 0.05\n",
      "[0]\ttrain-merror:0.3098\n",
      "Round = 18, Iteration = 521, lr = 0.05\n",
      "[0]\ttrain-merror:0.31\n",
      "Round = 18, Iteration = 522, lr = 0.05\n",
      "[0]\ttrain-merror:0.3116\n",
      "Round = 18, Iteration = 523, lr = 0.05\n",
      "[0]\ttrain-merror:0.3111\n",
      "Round = 18, Iteration = 524, lr = 0.05\n",
      "[0]\ttrain-merror:0.3122\n",
      "Round = 18, Iteration = 525, lr = 0.05\n",
      "[0]\ttrain-merror:0.3045\n",
      "Round = 18, Iteration = 526, lr = 0.05\n",
      "[0]\ttrain-merror:0.3016\n",
      "Round = 18, Iteration = 527, lr = 0.05\n",
      "[0]\ttrain-merror:0.3091\n",
      "Round = 18, Iteration = 528, lr = 0.05\n",
      "[0]\ttrain-merror:0.3095\n",
      "Round = 18, Iteration = 529, lr = 0.05\n",
      "[0]\ttrain-merror:0.3055\n",
      "Round = 18, Iteration = 530, lr = 0.05\n",
      "[0]\ttrain-merror:0.304\n",
      "Round = 18, Iteration = 531, lr = 0.05\n",
      "[0]\ttrain-merror:0.301958\n",
      "saving model:  xgb_chapter_models/xgbchap_model_5ksamp_v6_18\n"
     ]
    },
    {
     "data": {
      "application/vnd.jupyter.widget-view+json": {
       "model_id": "6a28b63211c1478c9b1d92dbb93af14e",
       "version_major": 2,
       "version_minor": 0
      },
      "text/plain": [
       "  0%|          | 0/27 [00:00<?, ?it/s]"
      ]
     },
     "metadata": {},
     "output_type": "display_data"
    },
    {
     "name": "stdout",
     "output_type": "stream",
     "text": [
      "Round = 19, Iteration = 532, lr = 0.05\n",
      "[0]\ttrain-merror:0.3038\n",
      "Round = 19, Iteration = 533, lr = 0.05\n",
      "[0]\ttrain-merror:0.3009\n",
      "Round = 19, Iteration = 534, lr = 0.05\n",
      "[0]\ttrain-merror:0.3107\n",
      "Round = 19, Iteration = 535, lr = 0.05\n",
      "[0]\ttrain-merror:0.2981\n",
      "Round = 19, Iteration = 536, lr = 0.05\n",
      "[0]\ttrain-merror:0.3084\n",
      "Round = 19, Iteration = 537, lr = 0.05\n",
      "[0]\ttrain-merror:0.3039\n",
      "Round = 19, Iteration = 538, lr = 0.05\n",
      "[0]\ttrain-merror:0.3054\n",
      "Round = 19, Iteration = 539, lr = 0.05\n",
      "[0]\ttrain-merror:0.3056\n",
      "Round = 19, Iteration = 540, lr = 0.05\n",
      "[0]\ttrain-merror:0.3043\n",
      "Round = 19, Iteration = 541, lr = 0.05\n",
      "[0]\ttrain-merror:0.3071\n",
      "Round = 19, Iteration = 542, lr = 0.05\n",
      "[0]\ttrain-merror:0.3005\n",
      "Round = 19, Iteration = 543, lr = 0.05\n",
      "[0]\ttrain-merror:0.3022\n",
      "Round = 19, Iteration = 544, lr = 0.05\n",
      "[0]\ttrain-merror:0.3044\n",
      "Round = 19, Iteration = 545, lr = 0.05\n",
      "[0]\ttrain-merror:0.3054\n",
      "Round = 19, Iteration = 546, lr = 0.05\n",
      "[0]\ttrain-merror:0.3037\n",
      "Round = 19, Iteration = 547, lr = 0.05\n",
      "[0]\ttrain-merror:0.3108\n",
      "Round = 19, Iteration = 548, lr = 0.05\n",
      "[0]\ttrain-merror:0.3064\n",
      "Round = 19, Iteration = 549, lr = 0.05\n",
      "[0]\ttrain-merror:0.3004\n",
      "Round = 19, Iteration = 550, lr = 0.05\n",
      "[0]\ttrain-merror:0.3087\n",
      "Round = 19, Iteration = 551, lr = 0.05\n",
      "[0]\ttrain-merror:0.3053\n",
      "Round = 19, Iteration = 552, lr = 0.05\n",
      "[0]\ttrain-merror:0.3086\n",
      "Round = 19, Iteration = 553, lr = 0.05\n",
      "[0]\ttrain-merror:0.3082\n",
      "Round = 19, Iteration = 554, lr = 0.05\n",
      "[0]\ttrain-merror:0.3109\n",
      "Round = 19, Iteration = 555, lr = 0.05\n",
      "[0]\ttrain-merror:0.3014\n",
      "Round = 19, Iteration = 556, lr = 0.05\n",
      "[0]\ttrain-merror:0.3045\n",
      "Round = 19, Iteration = 557, lr = 0.05\n",
      "[0]\ttrain-merror:0.2998\n",
      "Round = 19, Iteration = 558, lr = 0.05\n",
      "[0]\ttrain-merror:0.3003\n",
      "Round = 19, Iteration = 559, lr = 0.05\n",
      "[0]\ttrain-merror:0.30311\n",
      "saving model:  xgb_chapter_models/xgbchap_model_5ksamp_v6_19\n"
     ]
    },
    {
     "data": {
      "application/vnd.jupyter.widget-view+json": {
       "model_id": "b6bd4c40394a404397b9b7a02b53f140",
       "version_major": 2,
       "version_minor": 0
      },
      "text/plain": [
       "  0%|          | 0/27 [00:00<?, ?it/s]"
      ]
     },
     "metadata": {},
     "output_type": "display_data"
    },
    {
     "name": "stdout",
     "output_type": "stream",
     "text": [
      "Round = 20, Iteration = 560, lr = 0.05\n",
      "[0]\ttrain-merror:0.2984\n",
      "Round = 20, Iteration = 561, lr = 0.05\n",
      "[0]\ttrain-merror:0.3079\n",
      "Round = 20, Iteration = 562, lr = 0.05\n",
      "[0]\ttrain-merror:0.3019\n",
      "Round = 20, Iteration = 563, lr = 0.05\n",
      "[0]\ttrain-merror:0.3005\n",
      "Round = 20, Iteration = 564, lr = 0.05\n",
      "[0]\ttrain-merror:0.2929\n",
      "Round = 20, Iteration = 565, lr = 0.05\n",
      "[0]\ttrain-merror:0.3089\n",
      "Round = 20, Iteration = 566, lr = 0.05\n",
      "[0]\ttrain-merror:0.2987\n",
      "Round = 20, Iteration = 567, lr = 0.05\n",
      "[0]\ttrain-merror:0.2943\n",
      "Round = 20, Iteration = 568, lr = 0.05\n",
      "[0]\ttrain-merror:0.304\n",
      "Round = 20, Iteration = 569, lr = 0.05\n",
      "[0]\ttrain-merror:0.307\n",
      "Round = 20, Iteration = 570, lr = 0.05\n",
      "[0]\ttrain-merror:0.3027\n",
      "Round = 20, Iteration = 571, lr = 0.05\n",
      "[0]\ttrain-merror:0.3019\n",
      "Round = 20, Iteration = 572, lr = 0.05\n",
      "[0]\ttrain-merror:0.3098\n",
      "Round = 20, Iteration = 573, lr = 0.05\n",
      "[0]\ttrain-merror:0.2998\n",
      "Round = 20, Iteration = 574, lr = 0.05\n",
      "[0]\ttrain-merror:0.3038\n",
      "Round = 20, Iteration = 575, lr = 0.05\n",
      "[0]\ttrain-merror:0.3088\n",
      "Round = 20, Iteration = 576, lr = 0.05\n",
      "[0]\ttrain-merror:0.3112\n",
      "Round = 20, Iteration = 577, lr = 0.05\n",
      "[0]\ttrain-merror:0.3031\n",
      "Round = 20, Iteration = 578, lr = 0.05\n",
      "[0]\ttrain-merror:0.3074\n",
      "Round = 20, Iteration = 579, lr = 0.05\n",
      "[0]\ttrain-merror:0.3109\n",
      "Round = 20, Iteration = 580, lr = 0.05\n",
      "[0]\ttrain-merror:0.3038\n",
      "Round = 20, Iteration = 581, lr = 0.05\n",
      "[0]\ttrain-merror:0.2975\n",
      "Round = 20, Iteration = 582, lr = 0.05\n",
      "[0]\ttrain-merror:0.3012\n",
      "Round = 20, Iteration = 583, lr = 0.05\n",
      "[0]\ttrain-merror:0.3018\n",
      "Round = 20, Iteration = 584, lr = 0.05\n",
      "[0]\ttrain-merror:0.3073\n",
      "Round = 20, Iteration = 585, lr = 0.05\n",
      "[0]\ttrain-merror:0.2984\n",
      "Round = 20, Iteration = 586, lr = 0.05\n",
      "[0]\ttrain-merror:0.3077\n",
      "Round = 20, Iteration = 587, lr = 0.05\n",
      "[0]\ttrain-merror:0.295047\n",
      "saving model:  xgb_chapter_models/xgbchap_model_5ksamp_v6_20\n"
     ]
    },
    {
     "data": {
      "application/vnd.jupyter.widget-view+json": {
       "model_id": "75e2f47a07ce4a7cb6b8166013d4aea7",
       "version_major": 2,
       "version_minor": 0
      },
      "text/plain": [
       "  0%|          | 0/27 [00:00<?, ?it/s]"
      ]
     },
     "metadata": {},
     "output_type": "display_data"
    },
    {
     "name": "stdout",
     "output_type": "stream",
     "text": [
      "Round = 21, Iteration = 588, lr = 0.05\n",
      "[0]\ttrain-merror:0.2989\n",
      "Round = 21, Iteration = 589, lr = 0.05\n",
      "[0]\ttrain-merror:0.304\n",
      "Round = 21, Iteration = 590, lr = 0.05\n",
      "[0]\ttrain-merror:0.3094\n",
      "Round = 21, Iteration = 591, lr = 0.05\n",
      "[0]\ttrain-merror:0.2968\n",
      "Round = 21, Iteration = 592, lr = 0.05\n",
      "[0]\ttrain-merror:0.2964\n",
      "Round = 21, Iteration = 593, lr = 0.05\n",
      "[0]\ttrain-merror:0.2978\n",
      "Round = 21, Iteration = 594, lr = 0.05\n",
      "[0]\ttrain-merror:0.3108\n",
      "Round = 21, Iteration = 595, lr = 0.05\n",
      "[0]\ttrain-merror:0.3068\n",
      "Round = 21, Iteration = 596, lr = 0.05\n",
      "[0]\ttrain-merror:0.3091\n",
      "Round = 21, Iteration = 597, lr = 0.05\n",
      "[0]\ttrain-merror:0.3042\n",
      "Round = 21, Iteration = 598, lr = 0.05\n",
      "[0]\ttrain-merror:0.2964\n",
      "Round = 21, Iteration = 599, lr = 0.05\n",
      "[0]\ttrain-merror:0.2981\n",
      "Round = 21, Iteration = 600, lr = 0.05\n",
      "[0]\ttrain-merror:0.3001\n",
      "Round = 21, Iteration = 601, lr = 0.05\n",
      "[0]\ttrain-merror:0.3055\n",
      "Round = 21, Iteration = 602, lr = 0.05\n",
      "[0]\ttrain-merror:0.3077\n",
      "Round = 21, Iteration = 603, lr = 0.05\n",
      "[0]\ttrain-merror:0.3016\n",
      "Round = 21, Iteration = 604, lr = 0.05\n",
      "[0]\ttrain-merror:0.2955\n",
      "Round = 21, Iteration = 605, lr = 0.05\n",
      "[0]\ttrain-merror:0.303\n",
      "Round = 21, Iteration = 606, lr = 0.05\n",
      "[0]\ttrain-merror:0.3114\n",
      "Round = 21, Iteration = 607, lr = 0.05\n",
      "[0]\ttrain-merror:0.2968\n",
      "Round = 21, Iteration = 608, lr = 0.05\n",
      "[0]\ttrain-merror:0.2958\n",
      "Round = 21, Iteration = 609, lr = 0.05\n",
      "[0]\ttrain-merror:0.3019\n",
      "Round = 21, Iteration = 610, lr = 0.05\n",
      "[0]\ttrain-merror:0.2962\n",
      "Round = 21, Iteration = 611, lr = 0.05\n",
      "[0]\ttrain-merror:0.2993\n",
      "Round = 21, Iteration = 612, lr = 0.05\n",
      "[0]\ttrain-merror:0.2941\n",
      "Round = 21, Iteration = 613, lr = 0.05\n",
      "[0]\ttrain-merror:0.3067\n",
      "Round = 21, Iteration = 614, lr = 0.05\n",
      "[0]\ttrain-merror:0.3043\n",
      "Round = 21, Iteration = 615, lr = 0.05\n",
      "[0]\ttrain-merror:0.299819\n",
      "saving model:  xgb_chapter_models/xgbchap_model_5ksamp_v6_21\n"
     ]
    },
    {
     "data": {
      "application/vnd.jupyter.widget-view+json": {
       "model_id": "30748bca114e44c28f5b1e3c40833121",
       "version_major": 2,
       "version_minor": 0
      },
      "text/plain": [
       "  0%|          | 0/27 [00:00<?, ?it/s]"
      ]
     },
     "metadata": {},
     "output_type": "display_data"
    },
    {
     "name": "stdout",
     "output_type": "stream",
     "text": [
      "Round = 22, Iteration = 616, lr = 0.05\n",
      "[0]\ttrain-merror:0.3024\n",
      "Round = 22, Iteration = 617, lr = 0.05\n",
      "[0]\ttrain-merror:0.3032\n",
      "Round = 22, Iteration = 618, lr = 0.05\n",
      "[0]\ttrain-merror:0.2982\n",
      "Round = 22, Iteration = 619, lr = 0.05\n",
      "[0]\ttrain-merror:0.2976\n",
      "Round = 22, Iteration = 620, lr = 0.05\n",
      "[0]\ttrain-merror:0.3007\n",
      "Round = 22, Iteration = 621, lr = 0.05\n",
      "[0]\ttrain-merror:0.3068\n",
      "Round = 22, Iteration = 622, lr = 0.05\n",
      "[0]\ttrain-merror:0.2954\n",
      "Round = 22, Iteration = 623, lr = 0.05\n",
      "[0]\ttrain-merror:0.3084\n",
      "Round = 22, Iteration = 624, lr = 0.05\n",
      "[0]\ttrain-merror:0.3069\n",
      "Round = 22, Iteration = 625, lr = 0.05\n",
      "[0]\ttrain-merror:0.2962\n",
      "Round = 22, Iteration = 626, lr = 0.05\n",
      "[0]\ttrain-merror:0.312\n",
      "Round = 22, Iteration = 627, lr = 0.05\n",
      "[0]\ttrain-merror:0.3034\n",
      "Round = 22, Iteration = 628, lr = 0.05\n",
      "[0]\ttrain-merror:0.2963\n",
      "Round = 22, Iteration = 629, lr = 0.05\n",
      "[0]\ttrain-merror:0.3\n",
      "Round = 22, Iteration = 630, lr = 0.05\n",
      "[0]\ttrain-merror:0.3008\n",
      "Round = 22, Iteration = 631, lr = 0.05\n",
      "[0]\ttrain-merror:0.3011\n",
      "Round = 22, Iteration = 632, lr = 0.05\n",
      "[0]\ttrain-merror:0.2975\n",
      "Round = 22, Iteration = 633, lr = 0.05\n",
      "[0]\ttrain-merror:0.3017\n",
      "Round = 22, Iteration = 634, lr = 0.05\n",
      "[0]\ttrain-merror:0.2922\n",
      "Round = 22, Iteration = 635, lr = 0.05\n",
      "[0]\ttrain-merror:0.293\n",
      "Round = 22, Iteration = 636, lr = 0.05\n",
      "[0]\ttrain-merror:0.2955\n",
      "Round = 22, Iteration = 637, lr = 0.05\n",
      "[0]\ttrain-merror:0.2941\n",
      "Round = 22, Iteration = 638, lr = 0.05\n",
      "[0]\ttrain-merror:0.2987\n",
      "Round = 22, Iteration = 639, lr = 0.05\n",
      "[0]\ttrain-merror:0.3026\n",
      "Round = 22, Iteration = 640, lr = 0.05\n",
      "[0]\ttrain-merror:0.3009\n",
      "Round = 22, Iteration = 641, lr = 0.05\n",
      "[0]\ttrain-merror:0.2983\n",
      "Round = 22, Iteration = 642, lr = 0.05\n",
      "[0]\ttrain-merror:0.3024\n",
      "Round = 22, Iteration = 643, lr = 0.05\n",
      "[0]\ttrain-merror:0.308047\n",
      "saving model:  xgb_chapter_models/xgbchap_model_5ksamp_v6_22\n"
     ]
    },
    {
     "data": {
      "application/vnd.jupyter.widget-view+json": {
       "model_id": "5831f5ffb45e477bb6b1b4ecb8986051",
       "version_major": 2,
       "version_minor": 0
      },
      "text/plain": [
       "  0%|          | 0/27 [00:00<?, ?it/s]"
      ]
     },
     "metadata": {},
     "output_type": "display_data"
    },
    {
     "name": "stdout",
     "output_type": "stream",
     "text": [
      "Round = 23, Iteration = 644, lr = 0.05\n",
      "[0]\ttrain-merror:0.2987\n",
      "Round = 23, Iteration = 645, lr = 0.05\n",
      "[0]\ttrain-merror:0.3006\n",
      "Round = 23, Iteration = 646, lr = 0.05\n",
      "[0]\ttrain-merror:0.304\n",
      "Round = 23, Iteration = 647, lr = 0.05\n",
      "[0]\ttrain-merror:0.3038\n",
      "Round = 23, Iteration = 648, lr = 0.05\n",
      "[0]\ttrain-merror:0.3015\n",
      "Round = 23, Iteration = 649, lr = 0.05\n",
      "[0]\ttrain-merror:0.3008\n",
      "Round = 23, Iteration = 650, lr = 0.05\n",
      "[0]\ttrain-merror:0.303\n",
      "Round = 23, Iteration = 651, lr = 0.05\n",
      "[0]\ttrain-merror:0.2881\n",
      "Round = 23, Iteration = 652, lr = 0.05\n",
      "[0]\ttrain-merror:0.3026\n",
      "Round = 23, Iteration = 653, lr = 0.05\n",
      "[0]\ttrain-merror:0.2959\n",
      "Round = 23, Iteration = 654, lr = 0.05\n",
      "[0]\ttrain-merror:0.3026\n",
      "Round = 23, Iteration = 655, lr = 0.05\n",
      "[0]\ttrain-merror:0.2935\n",
      "Round = 23, Iteration = 656, lr = 0.05\n",
      "[0]\ttrain-merror:0.2992\n",
      "Round = 23, Iteration = 657, lr = 0.05\n",
      "[0]\ttrain-merror:0.2988\n",
      "Round = 23, Iteration = 658, lr = 0.05\n",
      "[0]\ttrain-merror:0.2952\n",
      "Round = 23, Iteration = 659, lr = 0.05\n",
      "[0]\ttrain-merror:0.3054\n",
      "Round = 23, Iteration = 660, lr = 0.05\n",
      "[0]\ttrain-merror:0.3045\n",
      "Round = 23, Iteration = 661, lr = 0.05\n",
      "[0]\ttrain-merror:0.2998\n",
      "Round = 23, Iteration = 662, lr = 0.05\n",
      "[0]\ttrain-merror:0.3005\n",
      "Round = 23, Iteration = 663, lr = 0.05\n",
      "[0]\ttrain-merror:0.2971\n",
      "Round = 23, Iteration = 664, lr = 0.05\n",
      "[0]\ttrain-merror:0.3015\n",
      "Round = 23, Iteration = 665, lr = 0.05\n",
      "[0]\ttrain-merror:0.2996\n",
      "Round = 23, Iteration = 666, lr = 0.05\n",
      "[0]\ttrain-merror:0.3006\n",
      "Round = 23, Iteration = 667, lr = 0.05\n",
      "[0]\ttrain-merror:0.2933\n",
      "Round = 23, Iteration = 668, lr = 0.05\n",
      "[0]\ttrain-merror:0.2988\n",
      "Round = 23, Iteration = 669, lr = 0.05\n",
      "[0]\ttrain-merror:0.2982\n",
      "Round = 23, Iteration = 670, lr = 0.05\n",
      "[0]\ttrain-merror:0.2959\n",
      "Round = 23, Iteration = 671, lr = 0.05\n",
      "[0]\ttrain-merror:0.295211\n",
      "saving model:  xgb_chapter_models/xgbchap_model_5ksamp_v6_23\n"
     ]
    }
   ],
   "source": [
    "# lr =  [0.3]*100\n",
    "lr =  [0.45]*14*2 + [0.4]*14*2 + [0.3] * 14 * 2 + [0.2]* 14 * 1 +  [0.1]* 14 * 1 +  [0.05]* 14 * 100\n",
    "\n",
    "parameters = {'max_depth':7, 'objective':'multi:softprob', 'subsample':0.8, \n",
    "            'colsample_bytree':0.8, 'eta': 0.3, 'min_child_weight':0.1,\n",
    "            'tree_method':'auto', 'num_class' : len(all_labels)\n",
    "            }\n",
    "\n",
    "model = make_model(parameters, lr, num_round=24, batch_size=10000) \n",
    "model.fit(X_train_counts, y_train)"
   ]
  },
  {
   "cell_type": "markdown",
   "id": "generous-business",
   "metadata": {},
   "source": [
    "## Load the saved, trained model for further experiments"
   ]
  },
  {
   "cell_type": "code",
   "execution_count": 118,
   "id": "detected-outreach",
   "metadata": {},
   "outputs": [],
   "source": [
    "model.model = xgb.Booster(model_file='xgb_chapter_models/xgbchap_model_5ksamp_v6_23')"
   ]
  },
  {
   "cell_type": "markdown",
   "id": "varied-jefferson",
   "metadata": {},
   "source": [
    "## Do prediction in batches, else it will crash with out of memory errors"
   ]
  },
  {
   "cell_type": "code",
   "execution_count": 119,
   "id": "aggregate-classic",
   "metadata": {},
   "outputs": [
    {
     "data": {
      "application/vnd.jupyter.widget-view+json": {
       "model_id": "c70ba9f66b1f4d3eac6f3cecef9735c5",
       "version_major": 2,
       "version_minor": 0
      },
      "text/plain": [
       "  0%|          | 0/67948 [00:00<?, ?it/s]"
      ]
     },
     "metadata": {},
     "output_type": "display_data"
    }
   ],
   "source": [
    "def batch(lst, n=1):\n",
    "    l = len(lst)\n",
    "    for ndx in range(0, l, n):\n",
    "        yield lst[ndx:min(ndx + n, l)]\n",
    "\n",
    "def do_predict_batch(input):\n",
    "    first  = []\n",
    "    second = []\n",
    "    third  = []\n",
    "    fourth = []\n",
    "    fifth  = []\n",
    "    \n",
    "    with tqdm(total=len(valid_df['text'])) as progress_bar:\n",
    "        for x in batch(input, 2000):\n",
    "            tmp_valid_counts = count_vector.transform(x)\n",
    "            tmp_predict_da = model.model.predict(xgb.DMatrix(tmp_valid_counts.todense()))\n",
    "            sorted_idx = np.argsort(-tmp_predict_da)\n",
    "            first = first + list(label_enc.inverse_transform(list(sorted_idx[:,0])))\n",
    "            second = second + list(label_enc.inverse_transform(list(sorted_idx[:,1])))\n",
    "            third = third + list(label_enc.inverse_transform(list(sorted_idx[:,2])))\n",
    "            fourth = fourth + list(label_enc.inverse_transform(list(sorted_idx[:,3])))\n",
    "            fifth = fifth + list(label_enc.inverse_transform(list(sorted_idx[:,4])))\n",
    "            progress_bar.update(2000)\n",
    "        return first, second, third, fourth, fifth\n",
    "\n",
    "y1, y2, y3, y4, y5 = do_predict_batch(list(valid_df['text']))"
   ]
  },
  {
   "cell_type": "markdown",
   "id": "serial-mexico",
   "metadata": {},
   "source": [
    "## Calculate accuracy for top 5 classes"
   ]
  },
  {
   "cell_type": "code",
   "execution_count": 120,
   "id": "bacterial-black",
   "metadata": {},
   "outputs": [
    {
     "name": "stdout",
     "output_type": "stream",
     "text": [
      "Accuracy: 0.6595337611114381 0.11157061282156944 0.046358980396774004 0.026623300170718785 0.018013775239889326\n",
      "Total: 0.8621004297403897\n"
     ]
    }
   ],
   "source": [
    "from sklearn.metrics import confusion_matrix, f1_score, precision_score, recall_score, plot_confusion_matrix, accuracy_score\n",
    "\n",
    "a1 = accuracy_score(list(valid_df['label']), y1)\n",
    "a2 = accuracy_score(list(valid_df['label']), y2)\n",
    "a3 = accuracy_score(list(valid_df['label']), y3)\n",
    "a4 = accuracy_score(list(valid_df['label']), y4)\n",
    "a5 = accuracy_score(list(valid_df['label']), y5)\n",
    "\n",
    "print('Accuracy:', a1, a2, a3, a4, a5)\n",
    "print('Total:', a1+a2+a3+a4+a5)"
   ]
  },
  {
   "cell_type": "code",
   "execution_count": null,
   "id": "driven-swaziland",
   "metadata": {},
   "outputs": [],
   "source": [
    "import time\n",
    "time.sleep(30)\n",
    "print('Terminate Instance')\n",
    "!aws ec2 terminate-instances --instance-ids i-0f41741a0c8b12972"
   ]
  }
 ],
 "metadata": {
  "kernelspec": {
   "display_name": "Python 3",
   "language": "python",
   "name": "python3"
  },
  "language_info": {
   "codemirror_mode": {
    "name": "ipython",
    "version": 3
   },
   "file_extension": ".py",
   "mimetype": "text/x-python",
   "name": "python",
   "nbconvert_exporter": "python",
   "pygments_lexer": "ipython3",
   "version": "3.8.5"
  }
 },
 "nbformat": 4,
 "nbformat_minor": 5
}
