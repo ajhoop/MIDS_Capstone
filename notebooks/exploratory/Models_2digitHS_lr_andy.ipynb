{
 "cells": [
  {
   "cell_type": "code",
   "execution_count": null,
   "id": "dense-ticket",
   "metadata": {},
   "outputs": [],
   "source": [
    "!pip install graphviz\n",
    "!pip install transformers\n",
    "!pip install bert\n",
    "!pip install bert-tensorflow\n",
    "!pip install keras\n",
    "!pip install dask_ml\n",
    "!pip install xgboost\n",
    "!pip install datascroller\n",
    "!pip install tensorflow"
   ]
  },
  {
   "cell_type": "code",
   "execution_count": 22,
   "id": "parliamentary-andrew",
   "metadata": {},
   "outputs": [
    {
     "name": "stderr",
     "output_type": "stream",
     "text": [
      "[nltk_data] Downloading package stopwords to /root/nltk_data...\n",
      "[nltk_data]   Package stopwords is already up-to-date!\n",
      "[nltk_data] Downloading package punkt to /root/nltk_data...\n",
      "[nltk_data]   Package punkt is already up-to-date!\n"
     ]
    }
   ],
   "source": [
    "# Import relevant packages\n",
    "import pandas as pd\n",
    "import numpy as np\n",
    "import pandas as pd\n",
    "import seaborn as sns\n",
    "import matplotlib\n",
    "import matplotlib.pyplot as plt\n",
    "import pickle\n",
    "import time\n",
    "import timeit\n",
    "\n",
    "# Import dask packages\n",
    "# import dask.dataframe as ddf\n",
    "from math import nan\n",
    "import panel as pn\n",
    "import dask\n",
    "import dask.array as da\n",
    "import dask.dataframe as dd\n",
    "from dask.delayed import delayed\n",
    "import seaborn as sns\n",
    "import matplotlib.pyplot as plt\n",
    "from dask_ml.model_selection import train_test_split\n",
    "import graphviz\n",
    "from datascroller import scroll\n",
    "\n",
    "from dask.diagnostics import ProgressBar\n",
    "ProgressBar().register()\n",
    "\n",
    "# text processing libraries\n",
    "import re\n",
    "import string\n",
    "import nltk\n",
    "nltk.download('stopwords')\n",
    "nltk.download('punkt')\n",
    "from nltk.corpus import stopwords\n",
    "\n",
    "import warnings\n",
    "warnings.filterwarnings('ignore')\n",
    "from sklearn.model_selection import train_test_split\n",
    "\n",
    "import json\n",
    "import os\n",
    "import sys\n",
    "import glob\n",
    "import tensorflow as tf\n",
    "\n",
    "import transformers as ppb\n",
    "from time import time\n",
    "import io\n",
    "import re\n",
    "from csv import reader\n",
    "\n",
    "import bert\n",
    "# from bert import run_classifier\n",
    "# from bert import optimization\n",
    "from bert import tokenization\n",
    "from transformers import RobertaTokenizer, TFRobertaModel\n",
    "\n",
    "from matplotlib import colors\n",
    "from matplotlib.ticker import PercentFormatter\n",
    "\n",
    "from tensorflow import keras\n",
    "#### if use tensorflow=2.0.0, then import tensorflow.keras.model_selection \n",
    "from tensorflow.keras import backend as K\n",
    "from tensorflow.keras import layers\n",
    "from tensorflow.keras.backend import sparse_categorical_crossentropy\n",
    "from tensorflow.keras.layers import Dense, Flatten\n",
    "from tensorflow.keras.callbacks import Callback, EarlyStopping, ModelCheckpoint\n",
    "from keras.models import load_model\n",
    "\n",
    "from sklearn.metrics import confusion_matrix, f1_score, precision_score, recall_score, plot_confusion_matrix\n",
    "from sklearn.model_selection import GridSearchCV \n",
    "from sklearn.preprocessing import LabelEncoder\n",
    "from keras.utils import np_utils\n",
    "from sklearn.feature_extraction.text import CountVectorizer, TfidfTransformer\n",
    "from sklearn.ensemble import RandomForestClassifier\n",
    "from sklearn.naive_bayes import MultinomialNB\n",
    "from sklearn.neighbors import KNeighborsClassifier\n",
    "from sklearn.linear_model import LogisticRegression\n",
    "from sklearn.svm import SVC\n",
    "from xgboost import XGBClassifier\n",
    "from sklearn.pipeline import Pipeline\n",
    "from sklearn.metrics import classification_report\n",
    "from sklearn.metrics import accuracy_score\n",
    "from sklearn.feature_extraction.text import CountVectorizer\n",
    "from sklearn.feature_extraction.text import TfidfVectorizer\n",
    "from sklearn.model_selection import RepeatedStratifiedKFold\n",
    "\n",
    "\n",
    "\n",
    "from datetime import datetime"
   ]
  },
  {
   "cell_type": "markdown",
   "id": "composite-affiliation",
   "metadata": {},
   "source": [
    "## Import data. Importing all data to build the first stage model to predict 2 digit HS codes."
   ]
  },
  {
   "cell_type": "code",
   "execution_count": 3,
   "id": "gorgeous-medium",
   "metadata": {},
   "outputs": [
    {
     "name": "stdout",
     "output_type": "stream",
     "text": [
      "hs_code_chap_to_keep.csv  sample_chap_39.parq  sample_chap_74.parq\n",
      "sample_chap_10.parq\t  sample_chap_40.parq  sample_chap_75.parq\n",
      "sample_chap_11.parq\t  sample_chap_47.parq  sample_chap_76.parq\n",
      "sample_chap_12.parq\t  sample_chap_48.parq  sample_chap_78.parq\n",
      "sample_chap_13.parq\t  sample_chap_49.parq  sample_chap_79.parq\n",
      "sample_chap_14.parq\t  sample_chap_50.parq  sample_chap_80.parq\n",
      "sample_chap_15.parq\t  sample_chap_51.parq  sample_chap_81.parq\n",
      "sample_chap_16.parq\t  sample_chap_52.parq  sample_chap_82.parq\n",
      "sample_chap_17.parq\t  sample_chap_53.parq  sample_chap_83.parq\n",
      "sample_chap_18.parq\t  sample_chap_54.parq  sample_chap_84.parq\n",
      "sample_chap_19.parq\t  sample_chap_55.parq  sample_chap_85.parq\n",
      "sample_chap_20.parq\t  sample_chap_56.parq  sample_chap_86.parq\n",
      "sample_chap_21.parq\t  sample_chap_57.parq  sample_chap_87.parq\n",
      "sample_chap_22.parq\t  sample_chap_58.parq  sample_chap_88.parq\n",
      "sample_chap_28.parq\t  sample_chap_59.parq  sample_chap_89.parq\n",
      "sample_chap_29.parq\t  sample_chap_60.parq  sample_chap_9.parq\n",
      "sample_chap_30.parq\t  sample_chap_61.parq  sample_chap_90.parq\n",
      "sample_chap_31.parq\t  sample_chap_62.parq  sample_chap_91.parq\n",
      "sample_chap_32.parq\t  sample_chap_63.parq  sample_chap_92.parq\n",
      "sample_chap_33.parq\t  sample_chap_64.parq  sample_chap_93.parq\n",
      "sample_chap_34.parq\t  sample_chap_65.parq  sample_chap_94.parq\n",
      "sample_chap_35.parq\t  sample_chap_66.parq  sample_chap_95.parq\n",
      "sample_chap_36.parq\t  sample_chap_67.parq  sample_chap_96.parq\n",
      "sample_chap_37.parq\t  sample_chap_72.parq\n",
      "sample_chap_38.parq\t  sample_chap_73.parq\n"
     ]
    }
   ],
   "source": [
    "!ls /data/common/trade_data/2019_updated/data_samples_ignore_multiple_hscode/sample_by_chapter"
   ]
  },
  {
   "cell_type": "code",
   "execution_count": 2,
   "id": "domestic-chamber",
   "metadata": {},
   "outputs": [],
   "source": [
    "# first sample\n",
    "# import_df = dd.read_parquet('/data/common/trade_data/2019/data_samples/sample_87128714.parq', engine='fastparquet', chunksize=\"100MB\")\n",
    "\n",
    "# updated sample with the multple hs codes entries removed\n",
    "# import_df = dd.read_parquet('/data/common/trade_data/2019_updated/data_samples_ignore_multiple_hscode/sample_ignore_multiple_hscode_chap39_40.parq', engine='fastparquet', chunksize=\"100MB\")\n",
    "files1 = glob.glob('/data/common/trade_data/2019_updated/data_samples_ignore_multiple_hscode/sample_by_chapter/sample_chap_1*.parq')\n",
    "files2 = glob.glob('/data/common/trade_data/2019_updated/data_samples_ignore_multiple_hscode/sample_by_chapter/sample_chap_2*.parq')\n",
    "files3 = glob.glob('/data/common/trade_data/2019_updated/data_samples_ignore_multiple_hscode/sample_by_chapter/sample_chap_3*.parq')\n",
    "files4 = glob.glob('/data/common/trade_data/2019_updated/data_samples_ignore_multiple_hscode/sample_by_chapter/sample_chap_4*.parq')\n",
    "files5 = glob.glob('/data/common/trade_data/2019_updated/data_samples_ignore_multiple_hscode/sample_by_chapter/sample_chap_5*.parq')\n",
    "files6 = glob.glob('/data/common/trade_data/2019_updated/data_samples_ignore_multiple_hscode/sample_by_chapter/sample_chap_6*.parq')\n",
    "files7 = glob.glob('/data/common/trade_data/2019_updated/data_samples_ignore_multiple_hscode/sample_by_chapter/sample_chap_7*.parq')\n",
    "files8 = glob.glob('/data/common/trade_data/2019_updated/data_samples_ignore_multiple_hscode/sample_by_chapter/sample_chap_8*.parq')\n",
    "files9 = glob.glob('/data/common/trade_data/2019_updated/data_samples_ignore_multiple_hscode/sample_by_chapter/sample_chap_9*.parq')\n",
    "\n",
    "all_files = files1 + files2 + files3 + files4 + files5 + files6 + files7 + files8 + files9\n",
    "import_df = pd.concat([pd.read_parquet(fp) for fp in all_files])\n",
    "\n",
    "# import_df = pd.read_parquet('/data/common/trade_data/2019_updated/data_samples_ignore_multiple_hscode/sample_by_chapter')"
   ]
  },
  {
   "cell_type": "code",
   "execution_count": null,
   "id": "productive-message",
   "metadata": {},
   "outputs": [],
   "source": [
    "all_files\n"
   ]
  },
  {
   "cell_type": "code",
   "execution_count": 6,
   "id": "working-bobby",
   "metadata": {},
   "outputs": [
    {
     "data": {
      "text/plain": [
       "Index(['System Identity Id', 'Estimate Arrival Date', 'Actual Arrival Date',\n",
       "       'Bill of Lading', 'Master Bill of Lading', 'Bill Type Code',\n",
       "       'Carrier SASC Code', 'Vessel Country Code', 'Vessel Code',\n",
       "       'Vessel Name', 'Voyage', 'Inbond Type', 'Manifest No',\n",
       "       'Mode of Transportation', 'Loading Port', 'Last Vist Foreign Port',\n",
       "       'US Clearing District', 'Unloading Port', 'Place of Receipt', 'Country',\n",
       "       'Country Sure Level', 'Weight in KG', 'Weight', 'Weight Unit', 'TEU',\n",
       "       'Quantity', 'Quantity Unit', 'Measure in CM', 'Measure', 'Measure Unit',\n",
       "       'Container Id', 'Container Size', 'Container Type',\n",
       "       'Container Desc Code', 'Container Load Status',\n",
       "       'Container Type of Service', 'Shipper Name', 'Shipper Address ',\n",
       "       'Raw Shipper Name', 'Raw Shipper Addr1', 'Raw Shipper Addr2',\n",
       "       'Raw Shipper Addr3', 'Raw Shipper Addr4', 'Raw Shipper Addr Others',\n",
       "       'Consignee Name', 'Consignee Address ', 'Raw Consignee Name',\n",
       "       'Raw Consignee Addr1', 'Raw Consignee Addr2', 'Raw Consignee Addr3',\n",
       "       'Raw Consignee Addr4', 'Raw Consignee Addr Others', 'Notify Party Name',\n",
       "       'Notify Party Address ', 'Raw Notify Party Name',\n",
       "       'Raw Notify Party Addr1', 'Raw Notify Party Addr2',\n",
       "       'Raw Notify Party Addr3', 'Raw Notify Party Addr4',\n",
       "       'Raw Notify Party Addr Others', 'Product Desc', 'Marks & Numbers',\n",
       "       'HS Code', 'HS Code Sure Level', 'CIF', 'Indicator of true supplier',\n",
       "       'Indicator of true buyer', 'END', 'Cleaned_HS_Code', 'HS_Code',\n",
       "       'Merged_Description'],\n",
       "      dtype='object')"
      ]
     },
     "execution_count": 6,
     "metadata": {},
     "output_type": "execute_result"
    }
   ],
   "source": [
    "import_df.columns"
   ]
  },
  {
   "cell_type": "code",
   "execution_count": 3,
   "id": "physical-appeal",
   "metadata": {},
   "outputs": [
    {
     "data": {
      "text/html": [
       "<div>\n",
       "<style scoped>\n",
       "    .dataframe tbody tr th:only-of-type {\n",
       "        vertical-align: middle;\n",
       "    }\n",
       "\n",
       "    .dataframe tbody tr th {\n",
       "        vertical-align: top;\n",
       "    }\n",
       "\n",
       "    .dataframe thead th {\n",
       "        text-align: right;\n",
       "    }\n",
       "</style>\n",
       "<table border=\"1\" class=\"dataframe\">\n",
       "  <thead>\n",
       "    <tr style=\"text-align: right;\">\n",
       "      <th></th>\n",
       "      <th>System Identity Id</th>\n",
       "      <th>Estimate Arrival Date</th>\n",
       "      <th>Actual Arrival Date</th>\n",
       "      <th>Bill of Lading</th>\n",
       "      <th>Master Bill of Lading</th>\n",
       "      <th>Bill Type Code</th>\n",
       "      <th>Carrier SASC Code</th>\n",
       "      <th>Vessel Country Code</th>\n",
       "      <th>Vessel Code</th>\n",
       "      <th>Vessel Name</th>\n",
       "      <th>...</th>\n",
       "      <th>Marks &amp; Numbers</th>\n",
       "      <th>HS Code</th>\n",
       "      <th>HS Code Sure Level</th>\n",
       "      <th>CIF</th>\n",
       "      <th>Indicator of true supplier</th>\n",
       "      <th>Indicator of true buyer</th>\n",
       "      <th>END</th>\n",
       "      <th>Cleaned_HS_Code</th>\n",
       "      <th>HS_Code</th>\n",
       "      <th>Merged_Description</th>\n",
       "    </tr>\n",
       "  </thead>\n",
       "  <tbody>\n",
       "    <tr>\n",
       "      <th>193322</th>\n",
       "      <td>6003201908300000674681</td>\n",
       "      <td>20190828</td>\n",
       "      <td>20190829</td>\n",
       "      <td>ZIMUTRT0102730</td>\n",
       "      <td>None</td>\n",
       "      <td>R</td>\n",
       "      <td>ZIMU, ZIM ISRAEL NAVIGATION CO</td>\n",
       "      <td>SG</td>\n",
       "      <td>9366500</td>\n",
       "      <td>ASIATIC HORIZON</td>\n",
       "      <td>...</td>\n",
       "      <td>NO MARKS&lt;br/&gt;</td>\n",
       "      <td>150110</td>\n",
       "      <td>8</td>\n",
       "      <td>533600.0</td>\n",
       "      <td>Y</td>\n",
       "      <td>Y</td>\n",
       "      <td>END</td>\n",
       "      <td>150110</td>\n",
       "      <td>150110</td>\n",
       "      <td>Pig fat (including lard) and poultry fat, other than that of heading 0209 or 1503 ;Lard</td>\n",
       "    </tr>\n",
       "    <tr>\n",
       "      <th>489756</th>\n",
       "      <td>6003201904090000598510</td>\n",
       "      <td>20190408</td>\n",
       "      <td>20190408</td>\n",
       "      <td>TSCW13645275</td>\n",
       "      <td>None</td>\n",
       "      <td>R</td>\n",
       "      <td>TSCW, TROPICAL SHIPPING &amp; CONSTRUCTION CO</td>\n",
       "      <td>PA</td>\n",
       "      <td>9809904</td>\n",
       "      <td>TROPIC HOPE</td>\n",
       "      <td>...</td>\n",
       "      <td>BSIU9477265&lt;br/&gt;</td>\n",
       "      <td>150110</td>\n",
       "      <td>8</td>\n",
       "      <td>0.0</td>\n",
       "      <td>Y</td>\n",
       "      <td>Y</td>\n",
       "      <td>END</td>\n",
       "      <td>150110</td>\n",
       "      <td>150110</td>\n",
       "      <td>Pig fat (including lard) and poultry fat, other than that of heading 0209 or 1503 ;Lard</td>\n",
       "    </tr>\n",
       "  </tbody>\n",
       "</table>\n",
       "<p>2 rows × 71 columns</p>\n",
       "</div>"
      ],
      "text/plain": [
       "            System Identity Id Estimate Arrival Date Actual Arrival Date  \\\n",
       "193322  6003201908300000674681  20190828              20190829             \n",
       "489756  6003201904090000598510  20190408              20190408             \n",
       "\n",
       "        Bill of Lading Master Bill of Lading Bill Type Code  \\\n",
       "193322  ZIMUTRT0102730  None                  R               \n",
       "489756  TSCW13645275    None                  R               \n",
       "\n",
       "                                Carrier SASC Code Vessel Country Code  \\\n",
       "193322  ZIMU, ZIM ISRAEL NAVIGATION CO             SG                   \n",
       "489756  TSCW, TROPICAL SHIPPING & CONSTRUCTION CO  PA                   \n",
       "\n",
       "       Vessel Code      Vessel Name  ...   Marks & Numbers HS Code  \\\n",
       "193322  9366500     ASIATIC HORIZON  ...  NO MARKS<br/>     150110   \n",
       "489756  9809904     TROPIC HOPE      ...  BSIU9477265<br/>  150110   \n",
       "\n",
       "       HS Code Sure Level       CIF Indicator of true supplier  \\\n",
       "193322  8                  533600.0  Y                           \n",
       "489756  8                  0.0       Y                           \n",
       "\n",
       "       Indicator of true buyer  END Cleaned_HS_Code HS_Code  \\\n",
       "193322  Y                       END  150110          150110   \n",
       "489756  Y                       END  150110          150110   \n",
       "\n",
       "                                                                             Merged_Description  \n",
       "193322  Pig fat (including lard) and poultry fat, other than that of heading 0209 or 1503 ;Lard  \n",
       "489756  Pig fat (including lard) and poultry fat, other than that of heading 0209 or 1503 ;Lard  \n",
       "\n",
       "[2 rows x 71 columns]"
      ]
     },
     "execution_count": 3,
     "metadata": {},
     "output_type": "execute_result"
    }
   ],
   "source": [
    "# Don't truncate text fields in the display\n",
    "pd.set_option(\"display.max_colwidth\", -1)\n",
    "\n",
    "import_df.head(2)"
   ]
  },
  {
   "cell_type": "code",
   "execution_count": 3,
   "id": "conscious-worker",
   "metadata": {},
   "outputs": [
    {
     "data": {
      "text/plain": [
       "1982138"
      ]
     },
     "execution_count": 3,
     "metadata": {},
     "output_type": "execute_result"
    }
   ],
   "source": [
    "len(import_df.index)"
   ]
  },
  {
   "cell_type": "code",
   "execution_count": 4,
   "id": "convinced-analyst",
   "metadata": {},
   "outputs": [
    {
     "name": "stdout",
     "output_type": "stream",
     "text": [
      "                                                     Desc  HSCode\n",
      "193322  SUPREME ALL PURPOSE LARD IN PAILS 37LBS CAED N...  150110\n",
      "489756  SLAC: 840 PAILS NABORI ALL PURPOSE LARD HS COD...  150110\n",
      "1982138\n"
     ]
    }
   ],
   "source": [
    "df1 = import_df[['Product Desc', 'Cleaned_HS_Code']]\n",
    "df1.columns = ['Desc', 'HSCode']\n",
    "\n",
    "print(df1.head(2))\n",
    "print(len(df1))"
   ]
  },
  {
   "cell_type": "code",
   "execution_count": 5,
   "id": "streaming-scientist",
   "metadata": {},
   "outputs": [],
   "source": [
    "# test = df1.HSCode.iloc[[1]]\n",
    "# test"
   ]
  },
  {
   "cell_type": "code",
   "execution_count": 6,
   "id": "brave-working",
   "metadata": {},
   "outputs": [
    {
     "name": "stdout",
     "output_type": "stream",
     "text": [
      "        HSCode                                               Desc\n",
      "193322  150110  Pig fat (including lard) and poultry fat, othe...\n",
      "485667  150120  Pig fat (including lard) and poultry fat, othe...\n",
      "4137\n"
     ]
    }
   ],
   "source": [
    "hs_code_desc = import_df[['Cleaned_HS_Code', 'Merged_Description']]\n",
    "hs_code_desc = hs_code_desc.drop_duplicates()\n",
    "hs_code_desc.columns = ['HSCode', 'Desc']\n",
    "print(hs_code_desc.head(2))\n",
    "print(len(hs_code_desc))"
   ]
  },
  {
   "cell_type": "code",
   "execution_count": 7,
   "id": "comparable-things",
   "metadata": {},
   "outputs": [
    {
     "data": {
      "text/plain": [
       "1986275"
      ]
     },
     "execution_count": 7,
     "metadata": {},
     "output_type": "execute_result"
    }
   ],
   "source": [
    "df1 = df1.append(hs_code_desc[['Desc', 'HSCode']]).reset_index()\n",
    "df1['HSChap'] = df1['HSCode'].astype(str).str[:2]\n",
    "len(df1)"
   ]
  },
  {
   "cell_type": "code",
   "execution_count": 8,
   "id": "wanted-rainbow",
   "metadata": {},
   "outputs": [
    {
     "data": {
      "text/html": [
       "<div>\n",
       "<style scoped>\n",
       "    .dataframe tbody tr th:only-of-type {\n",
       "        vertical-align: middle;\n",
       "    }\n",
       "\n",
       "    .dataframe tbody tr th {\n",
       "        vertical-align: top;\n",
       "    }\n",
       "\n",
       "    .dataframe thead th {\n",
       "        text-align: right;\n",
       "    }\n",
       "</style>\n",
       "<table border=\"1\" class=\"dataframe\">\n",
       "  <thead>\n",
       "    <tr style=\"text-align: right;\">\n",
       "      <th></th>\n",
       "      <th>index</th>\n",
       "      <th>Desc</th>\n",
       "      <th>HSCode</th>\n",
       "      <th>HSChap</th>\n",
       "    </tr>\n",
       "  </thead>\n",
       "  <tbody>\n",
       "    <tr>\n",
       "      <th>0</th>\n",
       "      <td>193322</td>\n",
       "      <td>SUPREME ALL PURPOSE LARD IN PAILS 37LBS CAED N...</td>\n",
       "      <td>150110</td>\n",
       "      <td>15</td>\n",
       "    </tr>\n",
       "    <tr>\n",
       "      <th>1</th>\n",
       "      <td>489756</td>\n",
       "      <td>SLAC: 840 PAILS NABORI ALL PURPOSE LARD HS COD...</td>\n",
       "      <td>150110</td>\n",
       "      <td>15</td>\n",
       "    </tr>\n",
       "  </tbody>\n",
       "</table>\n",
       "</div>"
      ],
      "text/plain": [
       "    index                                               Desc  HSCode HSChap\n",
       "0  193322  SUPREME ALL PURPOSE LARD IN PAILS 37LBS CAED N...  150110     15\n",
       "1  489756  SLAC: 840 PAILS NABORI ALL PURPOSE LARD HS COD...  150110     15"
      ]
     },
     "execution_count": 8,
     "metadata": {},
     "output_type": "execute_result"
    }
   ],
   "source": [
    "df1.head(2)"
   ]
  },
  {
   "cell_type": "code",
   "execution_count": 9,
   "id": "linear-culture",
   "metadata": {},
   "outputs": [],
   "source": [
    "# convert the dataframes back to pandas\n",
    "\n",
    "# df1_pd = df1.compute()\n",
    "# len(df1_pd)"
   ]
  },
  {
   "cell_type": "code",
   "execution_count": 10,
   "id": "formal-start",
   "metadata": {},
   "outputs": [],
   "source": [
    "df1_pd = df1"
   ]
  },
  {
   "cell_type": "markdown",
   "id": "accepting-panel",
   "metadata": {},
   "source": [
    "Remove long number sequences (that potentially contain HS Codes) from the descriptions."
   ]
  },
  {
   "cell_type": "code",
   "execution_count": 11,
   "id": "knowing-setting",
   "metadata": {},
   "outputs": [],
   "source": [
    "df1_pd['Desc'] = [re.sub('\\d{4,}', '', x) for x in df1_pd['Desc']]\n",
    "\n",
    "df1_pd['Desc_orig'] = df1_pd['Desc']\n",
    "df1_pd['Desc'] = df1_pd['Desc_orig'].str.split('<br/>').str[0]\n",
    "df1_pd['Desc'] = [re.sub('<br/>', '', x) for x in df1_pd['Desc']]"
   ]
  },
  {
   "cell_type": "markdown",
   "id": "studied-privacy",
   "metadata": {},
   "source": [
    "### Let's create a smaller sample set with samples from each chapter"
   ]
  },
  {
   "cell_type": "code",
   "execution_count": 12,
   "id": "yellow-citizen",
   "metadata": {},
   "outputs": [
    {
     "data": {
      "image/png": "[encoded data removed]",
      "text/plain": [
       "<Figure size 720x360 with 1 Axes>"
      ]
     },
     "metadata": {
      "needs_background": "light"
     },
     "output_type": "display_data"
    }
   ],
   "source": [
    "chap_count = df1_pd['HSChap'].value_counts()\n",
    "plt.figure(figsize=(10,5))\n",
    "sns.barplot(chap_count.index, chap_count.values, alpha=0.8)\n",
    "plt.title('Count of records by HS Chapter')\n",
    "plt.ylabel('Number of Occurrences', fontsize=12)\n",
    "plt.xlabel('HS Chapter', fontsize=12)\n",
    "plt.show()"
   ]
  },
  {
   "cell_type": "code",
   "execution_count": 13,
   "id": "right-brook",
   "metadata": {},
   "outputs": [
    {
     "data": {
      "text/plain": [
       "84    283591\n",
       "85    159502\n",
       "29    104937\n",
       "39     87014\n",
       "73     82828\n",
       "Name: HSChap, dtype: int64"
      ]
     },
     "execution_count": 13,
     "metadata": {},
     "output_type": "execute_result"
    }
   ],
   "source": [
    "chap_count.head()"
   ]
  },
  {
   "cell_type": "code",
   "execution_count": 14,
   "id": "royal-terminology",
   "metadata": {},
   "outputs": [
    {
     "data": {
      "text/plain": [
       "80    2633\n",
       "36    2539\n",
       "14    2152\n",
       "78    1898\n",
       "50    1214\n",
       "Name: HSChap, dtype: int64"
      ]
     },
     "execution_count": 14,
     "metadata": {},
     "output_type": "execute_result"
    }
   ],
   "source": [
    "chap_count.tail()"
   ]
  },
  {
   "cell_type": "code",
   "execution_count": 15,
   "id": "fitting-basis",
   "metadata": {},
   "outputs": [
    {
     "data": {
      "text/plain": [
       "99314"
      ]
     },
     "execution_count": 15,
     "metadata": {},
     "output_type": "execute_result"
    }
   ],
   "source": [
    "df1_pd_samp = df1_pd.sample(frac=0.05, weights = df1_pd['HSChap'])\n",
    "len(df1_pd_samp.index)"
   ]
  },
  {
   "cell_type": "code",
   "execution_count": 37,
   "id": "mathematical-grass",
   "metadata": {},
   "outputs": [
    {
     "data": {
      "text/html": [
       "<div>\n",
       "<style scoped>\n",
       "    .dataframe tbody tr th:only-of-type {\n",
       "        vertical-align: middle;\n",
       "    }\n",
       "\n",
       "    .dataframe tbody tr th {\n",
       "        vertical-align: top;\n",
       "    }\n",
       "\n",
       "    .dataframe thead th {\n",
       "        text-align: right;\n",
       "    }\n",
       "</style>\n",
       "<table border=\"1\" class=\"dataframe\">\n",
       "  <thead>\n",
       "    <tr style=\"text-align: right;\">\n",
       "      <th></th>\n",
       "      <th>index</th>\n",
       "      <th>Desc</th>\n",
       "      <th>HSCode</th>\n",
       "      <th>HSChap</th>\n",
       "      <th>Desc_orig</th>\n",
       "    </tr>\n",
       "  </thead>\n",
       "  <tbody>\n",
       "    <tr>\n",
       "      <th>417671</th>\n",
       "      <td>1043181</td>\n",
       "      <td>AUTOMOTIVE SPARE PARTS HS-CODES , ,  , ,  , ,  , ,  ,  HBL BANQBRE</td>\n",
       "      <td>391739</td>\n",
       "      <td>39</td>\n",
       "      <td>AUTOMOTIVE SPARE PARTS HS-CODES , ,  , ,  , ,  , ,  ,  HBL BANQBRE&lt;br/&gt;</td>\n",
       "    </tr>\n",
       "    <tr>\n",
       "      <th>1851082</th>\n",
       "      <td>448971</td>\n",
       "      <td>ASSEMBLED BAGG</td>\n",
       "      <td>911012</td>\n",
       "      <td>91</td>\n",
       "      <td>ASSEMBLED BAGG&lt;br/&gt;ASSEMBLED BAGG&lt;br/&gt;ASSEMBLED BAGG&lt;br/&gt;ASSEMBLED BAGG&lt;br/&gt;ASSEMBLED BAGG&lt;br/&gt;ASSEMBLED BAGG&lt;br/&gt;</td>\n",
       "    </tr>\n",
       "    <tr>\n",
       "      <th>88222</th>\n",
       "      <td>287017</td>\n",
       "      <td>COOKIES, WAFERS HS CODE ,</td>\n",
       "      <td>190531</td>\n",
       "      <td>19</td>\n",
       "      <td>COOKIES, WAFERS HS CODE , &lt;br/&gt;</td>\n",
       "    </tr>\n",
       "    <tr>\n",
       "      <th>525007</th>\n",
       "      <td>812693</td>\n",
       "      <td>COVERLET HS CODE:  GELOCAST HS CODE:</td>\n",
       "      <td>300510</td>\n",
       "      <td>30</td>\n",
       "      <td>COVERLET HS CODE:  GELOCAST HS CODE: &lt;br/&gt;</td>\n",
       "    </tr>\n",
       "    <tr>\n",
       "      <th>1924452</th>\n",
       "      <td>120104</td>\n",
       "      <td>HEB BLK POLYBAND HAIR ELASTICS . . . . . . HEB 24PC DF LRG MC ELSTC BNDS . . . . . . HEB CLEAR HAIR ELASTICS . . . . . . HEB 30PC ELASTICS W.CRIMP . . . . . . HEB 24PC DF LRG ELSTC BND BLK . . . . . . HEB 4MM ELASTIC BLACK 18 CT . . . . . . HEB CLEAR HAIR ELASTICS . . . . . . HEB 60PC BOBBY PINS BROWN . . . . . . HEB 60PC BOBBY PINS BLACK . . . . . . HEB 24PC DF LRG ELSTC BND BLK . . . . . . . . . . . . . . . . . . . . . . . . . . . . . . . . . . . . . . . . . . . . . . . . . . . . . . . . . . . . . . . . . . . . . . . . . . . . . . . . . . . . . . . . . . . . . . . . . . . . . . . . . . . . . . . . . . . . . . . . . . . . . . . . . . . . . . . . . . . . . . . . . . . . . . . . . . . . . . . . . . . . . . . . . . . . . .</td>\n",
       "      <td>961590</td>\n",
       "      <td>96</td>\n",
       "      <td>HEB BLK POLYBAND HAIR ELASTICS . . . . . . HEB 24PC DF LRG MC ELSTC BNDS . . . . . . HEB CLEAR HAIR ELASTICS . . . . . . HEB 30PC ELASTICS W.CRIMP . . . . . . HEB 24PC DF LRG ELSTC BND BLK . . . . . . HEB 4MM ELASTIC BLACK 18 CT . . . . . . HEB CLEAR HAIR ELASTICS . . . . . . HEB 60PC BOBBY PINS BROWN . . . . . . HEB 60PC BOBBY PINS BLACK . . . . . . HEB 24PC DF LRG ELSTC BND BLK . . . . . . . . . . . . . . . . . . . . . . . . . . . . . . . . . . . . . . . . . . . . . . . . . . . . . . . . . . . . . . . . . . . . . . . . . . . . . . . . . . . . . . . . . . . . . . . . . . . . . . . . . . . . . . . . . . . . . . . . . . . . . . . . . . . . . . . . . . . . . . . . . . . . . . . . . . . . . . . . . . . . . . . . . . . . . .&lt;br/&gt;</td>\n",
       "    </tr>\n",
       "  </tbody>\n",
       "</table>\n",
       "</div>"
      ],
      "text/plain": [
       "           index  \\\n",
       "417671   1043181   \n",
       "1851082  448971    \n",
       "88222    287017    \n",
       "525007   812693    \n",
       "1924452  120104    \n",
       "\n",
       "                                                                                                                                                                                                                                                                                                                                                                                                                                                                                                                                                                                                                                                                                                                                                               Desc  \\\n",
       "417671   AUTOMOTIVE SPARE PARTS HS-CODES , ,  , ,  , ,  , ,  ,  HBL BANQBRE                                                                                                                                                                                                                                                                                                                                                                                                                                                                                                                                                                                                                                                                                           \n",
       "1851082  ASSEMBLED BAGG                                                                                                                                                                                                                                                                                                                                                                                                                                                                                                                                                                                                                                                                                                                                               \n",
       "88222    COOKIES, WAFERS HS CODE ,                                                                                                                                                                                                                                                                                                                                                                                                                                                                                                                                                                                                                                                                                                                                    \n",
       "525007   COVERLET HS CODE:  GELOCAST HS CODE:                                                                                                                                                                                                                                                                                                                                                                                                                                                                                                                                                                                                                                                                                                                         \n",
       "1924452  HEB BLK POLYBAND HAIR ELASTICS . . . . . . HEB 24PC DF LRG MC ELSTC BNDS . . . . . . HEB CLEAR HAIR ELASTICS . . . . . . HEB 30PC ELASTICS W.CRIMP . . . . . . HEB 24PC DF LRG ELSTC BND BLK . . . . . . HEB 4MM ELASTIC BLACK 18 CT . . . . . . HEB CLEAR HAIR ELASTICS . . . . . . HEB 60PC BOBBY PINS BROWN . . . . . . HEB 60PC BOBBY PINS BLACK . . . . . . HEB 24PC DF LRG ELSTC BND BLK . . . . . . . . . . . . . . . . . . . . . . . . . . . . . . . . . . . . . . . . . . . . . . . . . . . . . . . . . . . . . . . . . . . . . . . . . . . . . . . . . . . . . . . . . . . . . . . . . . . . . . . . . . . . . . . . . . . . . . . . . . . . . . . . . . . . . . . . . . . . . . . . . . . . . . . . . . . . . . . . . . . . . . . . . . . . . .   \n",
       "\n",
       "         HSCode HSChap  \\\n",
       "417671   391739  39      \n",
       "1851082  911012  91      \n",
       "88222    190531  19      \n",
       "525007   300510  30      \n",
       "1924452  961590  96      \n",
       "\n",
       "                                                                                                                                                                                                                                                                                                                                                                                                                                                                                                                                                                                                                                                                                                                                                               Desc_orig  \n",
       "417671   AUTOMOTIVE SPARE PARTS HS-CODES , ,  , ,  , ,  , ,  ,  HBL BANQBRE<br/>                                                                                                                                                                                                                                                                                                                                                                                                                                                                                                                                                                                                                                                                                          \n",
       "1851082  ASSEMBLED BAGG<br/>ASSEMBLED BAGG<br/>ASSEMBLED BAGG<br/>ASSEMBLED BAGG<br/>ASSEMBLED BAGG<br/>ASSEMBLED BAGG<br/>                                                                                                                                                                                                                                                                                                                                                                                                                                                                                                                                                                                                                                               \n",
       "88222    COOKIES, WAFERS HS CODE , <br/>                                                                                                                                                                                                                                                                                                                                                                                                                                                                                                                                                                                                                                                                                                                                  \n",
       "525007   COVERLET HS CODE:  GELOCAST HS CODE: <br/>                                                                                                                                                                                                                                                                                                                                                                                                                                                                                                                                                                                                                                                                                                                       \n",
       "1924452  HEB BLK POLYBAND HAIR ELASTICS . . . . . . HEB 24PC DF LRG MC ELSTC BNDS . . . . . . HEB CLEAR HAIR ELASTICS . . . . . . HEB 30PC ELASTICS W.CRIMP . . . . . . HEB 24PC DF LRG ELSTC BND BLK . . . . . . HEB 4MM ELASTIC BLACK 18 CT . . . . . . HEB CLEAR HAIR ELASTICS . . . . . . HEB 60PC BOBBY PINS BROWN . . . . . . HEB 60PC BOBBY PINS BLACK . . . . . . HEB 24PC DF LRG ELSTC BND BLK . . . . . . . . . . . . . . . . . . . . . . . . . . . . . . . . . . . . . . . . . . . . . . . . . . . . . . . . . . . . . . . . . . . . . . . . . . . . . . . . . . . . . . . . . . . . . . . . . . . . . . . . . . . . . . . . . . . . . . . . . . . . . . . . . . . . . . . . . . . . . . . . . . . . . . . . . . . . . . . . . . . . . . . . . . . . . .<br/>  "
      ]
     },
     "execution_count": 37,
     "metadata": {},
     "output_type": "execute_result"
    }
   ],
   "source": [
    "df1_pd_samp.head()"
   ]
  },
  {
   "cell_type": "markdown",
   "id": "handmade-limit",
   "metadata": {},
   "source": [
    "### Create train, dev, and test sets"
   ]
  },
  {
   "cell_type": "code",
   "execution_count": 16,
   "id": "defined-emperor",
   "metadata": {},
   "outputs": [],
   "source": [
    "X_pd = df1_pd_samp"
   ]
  },
  {
   "cell_type": "code",
   "execution_count": 17,
   "id": "shaped-mount",
   "metadata": {},
   "outputs": [
    {
     "data": {
      "text/plain": [
       "99314"
      ]
     },
     "execution_count": 17,
     "metadata": {},
     "output_type": "execute_result"
    }
   ],
   "source": [
    "y_pd = X_pd['HSChap']\n",
    "len(y_pd)"
   ]
  },
  {
   "cell_type": "code",
   "execution_count": 18,
   "id": "hungry-madagascar",
   "metadata": {},
   "outputs": [
    {
     "data": {
      "text/plain": [
       "72"
      ]
     },
     "execution_count": 18,
     "metadata": {},
     "output_type": "execute_result"
    }
   ],
   "source": [
    "X_pd['HSChap'].nunique()"
   ]
  },
  {
   "cell_type": "code",
   "execution_count": 19,
   "id": "stunning-disclosure",
   "metadata": {},
   "outputs": [
    {
     "name": "stdout",
     "output_type": "stream",
     "text": [
      "Size of the train set is 79451\n",
      "Size of the dev set is 19863\n",
      "Size of the test set is 19863\n",
      "Size of the train label set is 79451\n",
      "Size of the dev label set is 19863\n",
      "Size of the test label set is 19863\n"
     ]
    }
   ],
   "source": [
    "# X = X_pd['Desc']\n",
    "y = X_pd['HSChap']\n",
    "\n",
    "# Split once to create the test set\n",
    "X_temp, X_test, y_temp, y_test = train_test_split(X_pd, y, test_size=0.2, random_state=91)\n",
    "\n",
    "# Re-split the train set to create a dev set\n",
    "X_train, X_dev, y_train, y_dev = train_test_split(X_pd, y, test_size=0.2, random_state=91, stratify=y)\n",
    "\n",
    "print('Size of the train set is', len(X_train))\n",
    "print('Size of the dev set is', len(X_dev))\n",
    "print('Size of the test set is', len(X_test))\n",
    "print('Size of the train label set is', len(y_train))\n",
    "print('Size of the dev label set is', len(y_dev))\n",
    "print('Size of the test label set is', len(y_test))\n"
   ]
  },
  {
   "cell_type": "code",
   "execution_count": 42,
   "id": "suburban-celebrity",
   "metadata": {},
   "outputs": [
    {
     "data": {
      "text/html": [
       "<div>\n",
       "<style scoped>\n",
       "    .dataframe tbody tr th:only-of-type {\n",
       "        vertical-align: middle;\n",
       "    }\n",
       "\n",
       "    .dataframe tbody tr th {\n",
       "        vertical-align: top;\n",
       "    }\n",
       "\n",
       "    .dataframe thead th {\n",
       "        text-align: right;\n",
       "    }\n",
       "</style>\n",
       "<table border=\"1\" class=\"dataframe\">\n",
       "  <thead>\n",
       "    <tr style=\"text-align: right;\">\n",
       "      <th></th>\n",
       "      <th>index</th>\n",
       "      <th>Desc</th>\n",
       "      <th>HSCode</th>\n",
       "      <th>HSChap</th>\n",
       "      <th>Desc_orig</th>\n",
       "    </tr>\n",
       "  </thead>\n",
       "  <tbody>\n",
       "    <tr>\n",
       "      <th>672541</th>\n",
       "      <td>537172</td>\n",
       "      <td>SHIPPER S LOAD, COUNT &amp; SEAL (27CTNS) CY / CY MOA RAINBOW COLOR STAMP-6 COLORS S/C: AMS:PP CNT THIS SHIPMENT CONTAINS NO WOOD PACKAGING MATERIALS ++++ LINDEN BLVD 3RD FLOOR ELMONTY, NY  TEL: 516-872- FAX:516-872- FREIGHT COLLECT</td>\n",
       "      <td>551331</td>\n",
       "      <td>55</td>\n",
       "      <td>SHIPPER S LOAD, COUNT &amp; SEAL (27CTNS) CY / CY MOA RAINBOW COLOR STAMP-6 COLORS S/C: AMS:PP CNT THIS SHIPMENT CONTAINS NO WOOD PACKAGING MATERIALS ++++ LINDEN BLVD 3RD FLOOR ELMONTY, NY  TEL: 516-872- FAX:516-872- FREIGHT COLLECT&lt;br/&gt;</td>\n",
       "    </tr>\n",
       "    <tr>\n",
       "      <th>1846443</th>\n",
       "      <td>290911</td>\n",
       "      <td>IKEA HOME FURNITURE AND HOME FURNISHING PRODUCTS SHIPPER DECLARED THAT THIS SHIPMENT CONTAINS NO SOLID WOOD PACKING MATERIAL SHIPPER S LOAD, STOW, WEIGHT AND COUNT REC NO.345 SHIPMENT ID:516-CP-S 192 SETS SUPPLIER NO. CONSIGNMENT NO.ECIS IKEA HOME FURNITURE AND HOME FURNISHING PRODUCTS H.S. CODE</td>\n",
       "      <td>910521</td>\n",
       "      <td>91</td>\n",
       "      <td>IKEA HOME FURNITURE AND HOME FURNISHING PRODUCTS SHIPPER DECLARED THAT THIS SHIPMENT CONTAINS NO SOLID WOOD PACKING MATERIAL SHIPPER S LOAD, STOW, WEIGHT AND COUNT REC NO.345 SHIPMENT ID:516-CP-S 192 SETS SUPPLIER NO. CONSIGNMENT NO.ECIS IKEA HOME FURNITURE AND HOME FURNISHING PRODUCTS H.S. CODE  &lt;br/&gt;</td>\n",
       "    </tr>\n",
       "  </tbody>\n",
       "</table>\n",
       "</div>"
      ],
      "text/plain": [
       "          index  \\\n",
       "672541   537172   \n",
       "1846443  290911   \n",
       "\n",
       "                                                                                                                                                                                                                                                                                                               Desc  \\\n",
       "672541   SHIPPER S LOAD, COUNT & SEAL (27CTNS) CY / CY MOA RAINBOW COLOR STAMP-6 COLORS S/C: AMS:PP CNT THIS SHIPMENT CONTAINS NO WOOD PACKAGING MATERIALS ++++ LINDEN BLVD 3RD FLOOR ELMONTY, NY  TEL: 516-872- FAX:516-872- FREIGHT COLLECT                                                                         \n",
       "1846443  IKEA HOME FURNITURE AND HOME FURNISHING PRODUCTS SHIPPER DECLARED THAT THIS SHIPMENT CONTAINS NO SOLID WOOD PACKING MATERIAL SHIPPER S LOAD, STOW, WEIGHT AND COUNT REC NO.345 SHIPMENT ID:516-CP-S 192 SETS SUPPLIER NO. CONSIGNMENT NO.ECIS IKEA HOME FURNITURE AND HOME FURNISHING PRODUCTS H.S. CODE     \n",
       "\n",
       "         HSCode HSChap  \\\n",
       "672541   551331  55      \n",
       "1846443  910521  91      \n",
       "\n",
       "                                                                                                                                                                                                                                                                                                               Desc_orig  \n",
       "672541   SHIPPER S LOAD, COUNT & SEAL (27CTNS) CY / CY MOA RAINBOW COLOR STAMP-6 COLORS S/C: AMS:PP CNT THIS SHIPMENT CONTAINS NO WOOD PACKAGING MATERIALS ++++ LINDEN BLVD 3RD FLOOR ELMONTY, NY  TEL: 516-872- FAX:516-872- FREIGHT COLLECT<br/>                                                                        \n",
       "1846443  IKEA HOME FURNITURE AND HOME FURNISHING PRODUCTS SHIPPER DECLARED THAT THIS SHIPMENT CONTAINS NO SOLID WOOD PACKING MATERIAL SHIPPER S LOAD, STOW, WEIGHT AND COUNT REC NO.345 SHIPMENT ID:516-CP-S 192 SETS SUPPLIER NO. CONSIGNMENT NO.ECIS IKEA HOME FURNITURE AND HOME FURNISHING PRODUCTS H.S. CODE  <br/>  "
      ]
     },
     "execution_count": 42,
     "metadata": {},
     "output_type": "execute_result"
    }
   ],
   "source": [
    "X_train.head(2)"
   ]
  },
  {
   "cell_type": "code",
   "execution_count": 43,
   "id": "killing-browser",
   "metadata": {},
   "outputs": [
    {
     "data": {
      "text/html": [
       "<div>\n",
       "<style scoped>\n",
       "    .dataframe tbody tr th:only-of-type {\n",
       "        vertical-align: middle;\n",
       "    }\n",
       "\n",
       "    .dataframe tbody tr th {\n",
       "        vertical-align: top;\n",
       "    }\n",
       "\n",
       "    .dataframe thead th {\n",
       "        text-align: right;\n",
       "    }\n",
       "</style>\n",
       "<table border=\"1\" class=\"dataframe\">\n",
       "  <thead>\n",
       "    <tr style=\"text-align: right;\">\n",
       "      <th></th>\n",
       "      <th>index</th>\n",
       "      <th>Desc</th>\n",
       "      <th>HSCode</th>\n",
       "      <th>HSChap</th>\n",
       "      <th>Desc_orig</th>\n",
       "    </tr>\n",
       "  </thead>\n",
       "  <tbody>\n",
       "    <tr>\n",
       "      <th>871269</th>\n",
       "      <td>81238</td>\n",
       "      <td>WEARING APPARELS HTS NO.: 61   READYMADE GARM ENTS. TODDLER GIRLS / INFANT S COTTON KNIT PANTS, WITH 5% OR MORE SPANDEX DPO. NO. ST YLE NO. TG25O7A -04 INVOICE NO.: AGL260B DAT E: 04-11- EXP NO.: / / DATE: 04-11- CONT. NO. MOU#: BD DT 23. 08.  FCR# CHT- 8 RELAY VESSEL MAERSK SE NTOSA 947W CONTAINER S UMMARY --------------------- -------------- MSKU MLBD 45X9 6 76CTN 5.246CBM .890KGS B/L TO TAL SUMMARY ---------------- ------------------- 76CTN 5. 246CBM .890KGS</td>\n",
       "      <td>610462</td>\n",
       "      <td>61</td>\n",
       "      <td>WEARING APPARELS HTS NO.: 61   READYMADE GARM ENTS. TODDLER GIRLS / INFANT S COTTON KNIT PANTS, WITH 5% OR MORE SPANDEX DPO. NO. ST YLE NO. TG25O7A -04 INVOICE NO.: AGL260B DAT E: 04-11- EXP NO.: / / DATE: 04-11- CONT. NO. MOU#: BD DT 23. 08.  FCR# CHT- 8 RELAY VESSEL MAERSK SE NTOSA 947W CONTAINER S UMMARY --------------------- -------------- MSKU MLBD 45X9 6 76CTN 5.246CBM .890KGS B/L TO TAL SUMMARY ---------------- ------------------- 76CTN 5. 246CBM .890KGS&lt;br/&gt;</td>\n",
       "    </tr>\n",
       "    <tr>\n",
       "      <th>806163</th>\n",
       "      <td>1088683</td>\n",
       "      <td>DRESSES GIRLS 60% COTTON 40% POLYESTER KNITTED DRESSES PO NBR  SKU NBR NIL . . . . . . . 195CTN 343.25KGS 3.522CBM SHIPPER ++ O/B THIEN CHI COMPANY LIMITED 45 PHAM VAN SANG STREET, HAMLET 2, XUAN THOI THUONG VILLAGE, HOC MON DISTRICT, HO CHI MINH CITY, VIETNAM. HO CHI MINH CITY, VIETNAM CONSIGNEE ++ PHONE 262-703- CTC TRACY SCHROEDER PHONE 262-703- NOTIFY PARTY ++ FAX 1 (310)  EMAIL LAX-STATEMENTS@EXPEDITORS.COM SHIPPER DECLARE THAT THIS SHIPMENT CONTAINS NO WOOD PACKAGING MATERIALS</td>\n",
       "      <td>620449</td>\n",
       "      <td>62</td>\n",
       "      <td>DRESSES GIRLS 60% COTTON 40% POLYESTER KNITTED DRESSES PO NBR  SKU NBR NIL . . . . . . . 195CTN 343.25KGS 3.522CBM SHIPPER ++ O/B THIEN CHI COMPANY LIMITED 45 PHAM VAN SANG STREET, HAMLET 2, XUAN THOI THUONG VILLAGE, HOC MON DISTRICT, HO CHI MINH CITY, VIETNAM. HO CHI MINH CITY, VIETNAM CONSIGNEE ++ PHONE 262-703- CTC TRACY SCHROEDER PHONE 262-703- NOTIFY PARTY ++ FAX 1 (310)  EMAIL LAX-STATEMENTS@EXPEDITORS.COM SHIPPER DECLARE THAT THIS SHIPMENT CONTAINS NO WOOD PACKAGING MATERIALS&lt;br/&gt;</td>\n",
       "    </tr>\n",
       "  </tbody>\n",
       "</table>\n",
       "</div>"
      ],
      "text/plain": [
       "          index  \\\n",
       "871269  81238     \n",
       "806163  1088683   \n",
       "\n",
       "                                                                                                                                                                                                                                                                                                                                                                                                                                                                                                           Desc  \\\n",
       "871269  WEARING APPARELS HTS NO.: 61   READYMADE GARM ENTS. TODDLER GIRLS / INFANT S COTTON KNIT PANTS, WITH 5% OR MORE SPANDEX DPO. NO. ST YLE NO. TG25O7A -04 INVOICE NO.: AGL260B DAT E: 04-11- EXP NO.: / / DATE: 04-11- CONT. NO. MOU#: BD DT 23. 08.  FCR# CHT- 8 RELAY VESSEL MAERSK SE NTOSA 947W CONTAINER S UMMARY --------------------- -------------- MSKU MLBD 45X9 6 76CTN 5.246CBM .890KGS B/L TO TAL SUMMARY ---------------- ------------------- 76CTN 5. 246CBM .890KGS                         \n",
       "806163  DRESSES GIRLS 60% COTTON 40% POLYESTER KNITTED DRESSES PO NBR  SKU NBR NIL . . . . . . . 195CTN 343.25KGS 3.522CBM SHIPPER ++ O/B THIEN CHI COMPANY LIMITED 45 PHAM VAN SANG STREET, HAMLET 2, XUAN THOI THUONG VILLAGE, HOC MON DISTRICT, HO CHI MINH CITY, VIETNAM. HO CHI MINH CITY, VIETNAM CONSIGNEE ++ PHONE 262-703- CTC TRACY SCHROEDER PHONE 262-703- NOTIFY PARTY ++ FAX 1 (310)  EMAIL LAX-STATEMENTS@EXPEDITORS.COM SHIPPER DECLARE THAT THIS SHIPMENT CONTAINS NO WOOD PACKAGING MATERIALS   \n",
       "\n",
       "        HSCode HSChap  \\\n",
       "871269  610462  61      \n",
       "806163  620449  62      \n",
       "\n",
       "                                                                                                                                                                                                                                                                                                                                                                                                                                                                                                           Desc_orig  \n",
       "871269  WEARING APPARELS HTS NO.: 61   READYMADE GARM ENTS. TODDLER GIRLS / INFANT S COTTON KNIT PANTS, WITH 5% OR MORE SPANDEX DPO. NO. ST YLE NO. TG25O7A -04 INVOICE NO.: AGL260B DAT E: 04-11- EXP NO.: / / DATE: 04-11- CONT. NO. MOU#: BD DT 23. 08.  FCR# CHT- 8 RELAY VESSEL MAERSK SE NTOSA 947W CONTAINER S UMMARY --------------------- -------------- MSKU MLBD 45X9 6 76CTN 5.246CBM .890KGS B/L TO TAL SUMMARY ---------------- ------------------- 76CTN 5. 246CBM .890KGS<br/>                        \n",
       "806163  DRESSES GIRLS 60% COTTON 40% POLYESTER KNITTED DRESSES PO NBR  SKU NBR NIL . . . . . . . 195CTN 343.25KGS 3.522CBM SHIPPER ++ O/B THIEN CHI COMPANY LIMITED 45 PHAM VAN SANG STREET, HAMLET 2, XUAN THOI THUONG VILLAGE, HOC MON DISTRICT, HO CHI MINH CITY, VIETNAM. HO CHI MINH CITY, VIETNAM CONSIGNEE ++ PHONE 262-703- CTC TRACY SCHROEDER PHONE 262-703- NOTIFY PARTY ++ FAX 1 (310)  EMAIL LAX-STATEMENTS@EXPEDITORS.COM SHIPPER DECLARE THAT THIS SHIPMENT CONTAINS NO WOOD PACKAGING MATERIALS<br/>  "
      ]
     },
     "execution_count": 43,
     "metadata": {},
     "output_type": "execute_result"
    }
   ],
   "source": [
    "X_dev.head(2)"
   ]
  },
  {
   "cell_type": "markdown",
   "id": "minus-phenomenon",
   "metadata": {},
   "source": [
    "## Create baseline of predicting the majority class"
   ]
  },
  {
   "cell_type": "code",
   "execution_count": 20,
   "id": "loving-governor",
   "metadata": {},
   "outputs": [
    {
     "name": "stdout",
     "output_type": "stream",
     "text": [
      "Accuracy when predicting majority class  0.19240789920831708\n"
     ]
    }
   ],
   "source": [
    "counts = X_train['HSChap'].value_counts().to_dict()\n",
    "# print(counts)\n",
    "max_value = max(counts.values())\n",
    "print('Accuracy when predicting majority class ', max_value/len(X_train))"
   ]
  },
  {
   "cell_type": "markdown",
   "id": "separated-laser",
   "metadata": {},
   "source": [
    "## Create functions to make model building easier"
   ]
  },
  {
   "cell_type": "code",
   "execution_count": 37,
   "id": "stone-plane",
   "metadata": {},
   "outputs": [],
   "source": [
    "# # column_names = ['Model Name', 'Accuracy', 'Precision', 'Recall']\n",
    "# # results = pd.DataFrame(columns = column_names)\n",
    "\n",
    "# results = pd.DataFrame()\n",
    "# results = pd.DataFrame(index = ['Baseline', 'NB-BOW Desc','NB-tfidf Desc', 'LogReg-BOW Desc', 'LogReg-tfidf Desc', \n",
    "#                                 'SVM-BOW Desc', 'SVM-tfidf Desc', 'XGBoost-BOW Desc', 'XGBoost-tfidf Desc', 'RF-BOW Desc', 'RF-tfidf Desc'],\n",
    "#                        columns=['Accuracy'])"
   ]
  },
  {
   "cell_type": "code",
   "execution_count": null,
   "id": "opponent-celebrity",
   "metadata": {},
   "outputs": [],
   "source": [
    "# results"
   ]
  },
  {
   "cell_type": "code",
   "execution_count": 39,
   "id": "humanitarian-ferry",
   "metadata": {},
   "outputs": [],
   "source": [
    "# results.at['Baseline', 'Accuracy'] = max_value/len(X_train)"
   ]
  },
  {
   "cell_type": "markdown",
   "id": "representative-paste",
   "metadata": {},
   "source": [
    "### Train  and save the models"
   ]
  },
  {
   "cell_type": "code",
   "execution_count": 42,
   "id": "opposed-motel",
   "metadata": {},
   "outputs": [],
   "source": [
    "# def train(classifier, X, y, X_test, y_test, filename):\n",
    "#     ### provide classifier, train and test set\n",
    "#     ### get train/val split\n",
    "#     ### fit on val\n",
    "#     ### test on test\n",
    "#     ### return accuracy score for test\n",
    "#     tic = time()\n",
    "#     mod = classifier.fit(X, y)\n",
    "#     toc = time()\n",
    "#     print(f\"Trained model in {toc - tic:0.4} seconds\")\n",
    "    \n",
    "#     # save model parameters\n",
    "# #     filename = classifier([('vectorizer')])+'_model.sav'\n",
    "#     pickle.dump(mod, open(filename, 'wb'))\n",
    "    \n",
    "#     print(\"Dev set results:\")\n",
    "#     tic = time()\n",
    "#     X_test_preds = mod.predict(X_test)\n",
    "#     toc = time()\n",
    "#     print(classification_report(y_test, X_test_preds) )\n",
    "#     # plot confusion matrix\n",
    "# #     plt.figure(figsize=(30,30))\n",
    "# #     plot_confusion_matrix(mod, y_test, X_test_preds)\n",
    "# #     plt.show()\n",
    "#     # print confusion matrix\n",
    "# #     print(confusion_matrix(y_test, X_test_preds))\n",
    "#     print(f\"Created predictions in {toc - tic:0.4} seconds\")\n",
    "#     print(\"Model accurayc: \",accuracy_score(y_test,X_test_preds))\n",
    "#     return accuracy_score(y_test,X_test_preds)"
   ]
  },
  {
   "cell_type": "markdown",
   "id": "purple-perspective",
   "metadata": {},
   "source": [
    "### Let's do gridsearch on the logistic regression model"
   ]
  },
  {
   "cell_type": "code",
   "execution_count": 24,
   "id": "ethical-helena",
   "metadata": {},
   "outputs": [
    {
     "name": "stdout",
     "output_type": "stream",
     "text": [
      "Fitting 6 folds for each of 40 candidates, totalling 240 fits\n",
      "Performed gridsearch for model in 7.219e+03 seconds\n",
      "Best: 0.568120 using {'classifier__C': 11.288378916846883, 'classifier__class_weight': 'balanced', 'classifier__penalty': 'l2'}\n",
      "nan (nan) with: {'classifier__C': 0.0001, 'classifier__class_weight': 'balanced', 'classifier__penalty': 'l1'}\n",
      "0.124450 (0.006182) with: {'classifier__C': 0.0001, 'classifier__class_weight': 'balanced', 'classifier__penalty': 'l2'}\n",
      "nan (nan) with: {'classifier__C': 0.00026366508987303583, 'classifier__class_weight': 'balanced', 'classifier__penalty': 'l1'}\n",
      "0.141777 (0.004206) with: {'classifier__C': 0.00026366508987303583, 'classifier__class_weight': 'balanced', 'classifier__penalty': 'l2'}\n",
      "nan (nan) with: {'classifier__C': 0.0006951927961775605, 'classifier__class_weight': 'balanced', 'classifier__penalty': 'l1'}\n",
      "0.169031 (0.003591) with: {'classifier__C': 0.0006951927961775605, 'classifier__class_weight': 'balanced', 'classifier__penalty': 'l2'}\n",
      "nan (nan) with: {'classifier__C': 0.0018329807108324356, 'classifier__class_weight': 'balanced', 'classifier__penalty': 'l1'}\n",
      "0.206135 (0.005153) with: {'classifier__C': 0.0018329807108324356, 'classifier__class_weight': 'balanced', 'classifier__penalty': 'l2'}\n",
      "nan (nan) with: {'classifier__C': 0.004832930238571752, 'classifier__class_weight': 'balanced', 'classifier__penalty': 'l1'}\n",
      "0.255042 (0.006865) with: {'classifier__C': 0.004832930238571752, 'classifier__class_weight': 'balanced', 'classifier__penalty': 'l2'}\n",
      "nan (nan) with: {'classifier__C': 0.012742749857031334, 'classifier__class_weight': 'balanced', 'classifier__penalty': 'l1'}\n",
      "0.320533 (0.006247) with: {'classifier__C': 0.012742749857031334, 'classifier__class_weight': 'balanced', 'classifier__penalty': 'l2'}\n",
      "nan (nan) with: {'classifier__C': 0.03359818286283781, 'classifier__class_weight': 'balanced', 'classifier__penalty': 'l1'}\n",
      "0.390060 (0.004670) with: {'classifier__C': 0.03359818286283781, 'classifier__class_weight': 'balanced', 'classifier__penalty': 'l2'}\n",
      "nan (nan) with: {'classifier__C': 0.08858667904100823, 'classifier__class_weight': 'balanced', 'classifier__penalty': 'l1'}\n",
      "0.454741 (0.003961) with: {'classifier__C': 0.08858667904100823, 'classifier__class_weight': 'balanced', 'classifier__penalty': 'l2'}\n",
      "nan (nan) with: {'classifier__C': 0.23357214690901212, 'classifier__class_weight': 'balanced', 'classifier__penalty': 'l1'}\n",
      "0.503535 (0.002265) with: {'classifier__C': 0.23357214690901212, 'classifier__class_weight': 'balanced', 'classifier__penalty': 'l2'}\n",
      "nan (nan) with: {'classifier__C': 0.615848211066026, 'classifier__class_weight': 'balanced', 'classifier__penalty': 'l1'}\n",
      "0.535009 (0.001465) with: {'classifier__C': 0.615848211066026, 'classifier__class_weight': 'balanced', 'classifier__penalty': 'l2'}\n",
      "nan (nan) with: {'classifier__C': 1.623776739188721, 'classifier__class_weight': 'balanced', 'classifier__penalty': 'l1'}\n",
      "0.556104 (0.001234) with: {'classifier__C': 1.623776739188721, 'classifier__class_weight': 'balanced', 'classifier__penalty': 'l2'}\n",
      "nan (nan) with: {'classifier__C': 4.281332398719396, 'classifier__class_weight': 'balanced', 'classifier__penalty': 'l1'}\n",
      "0.566609 (0.000738) with: {'classifier__C': 4.281332398719396, 'classifier__class_weight': 'balanced', 'classifier__penalty': 'l2'}\n",
      "nan (nan) with: {'classifier__C': 11.288378916846883, 'classifier__class_weight': 'balanced', 'classifier__penalty': 'l1'}\n",
      "0.568120 (0.002249) with: {'classifier__C': 11.288378916846883, 'classifier__class_weight': 'balanced', 'classifier__penalty': 'l2'}\n",
      "nan (nan) with: {'classifier__C': 29.763514416313132, 'classifier__class_weight': 'balanced', 'classifier__penalty': 'l1'}\n",
      "0.563819 (0.001716) with: {'classifier__C': 29.763514416313132, 'classifier__class_weight': 'balanced', 'classifier__penalty': 'l2'}\n",
      "nan (nan) with: {'classifier__C': 78.47599703514607, 'classifier__class_weight': 'balanced', 'classifier__penalty': 'l1'}\n",
      "0.558923 (0.001739) with: {'classifier__C': 78.47599703514607, 'classifier__class_weight': 'balanced', 'classifier__penalty': 'l2'}\n",
      "nan (nan) with: {'classifier__C': 206.913808111479, 'classifier__class_weight': 'balanced', 'classifier__penalty': 'l1'}\n",
      "0.556670 (0.001739) with: {'classifier__C': 206.913808111479, 'classifier__class_weight': 'balanced', 'classifier__penalty': 'l2'}\n",
      "nan (nan) with: {'classifier__C': 545.5594781168514, 'classifier__class_weight': 'balanced', 'classifier__penalty': 'l1'}\n",
      "0.553318 (0.002331) with: {'classifier__C': 545.5594781168514, 'classifier__class_weight': 'balanced', 'classifier__penalty': 'l2'}\n",
      "nan (nan) with: {'classifier__C': 1438.44988828766, 'classifier__class_weight': 'balanced', 'classifier__penalty': 'l1'}\n",
      "0.550452 (0.002262) with: {'classifier__C': 1438.44988828766, 'classifier__class_weight': 'balanced', 'classifier__penalty': 'l2'}\n",
      "nan (nan) with: {'classifier__C': 3792.690190732246, 'classifier__class_weight': 'balanced', 'classifier__penalty': 'l1'}\n",
      "0.548426 (0.002414) with: {'classifier__C': 3792.690190732246, 'classifier__class_weight': 'balanced', 'classifier__penalty': 'l2'}\n",
      "nan (nan) with: {'classifier__C': 10000.0, 'classifier__class_weight': 'balanced', 'classifier__penalty': 'l1'}\n",
      "0.547574 (0.001240) with: {'classifier__C': 10000.0, 'classifier__class_weight': 'balanced', 'classifier__penalty': 'l2'}\n"
     ]
    }
   ],
   "source": [
    "# Create first pipeline for base without reducing features.\n",
    "\n",
    "pipe = Pipeline([\n",
    "    ('vectorizer', CountVectorizer(stop_words='english')),\n",
    "    ('classifier', LogisticRegression()),\n",
    "])\n",
    "\n",
    "\n",
    "cv = RepeatedStratifiedKFold(n_splits=2, n_repeats=3, random_state=1)\n",
    "\n",
    "# Create param grid.\n",
    "\n",
    "param_grid = [\n",
    "    {'classifier__penalty' : ['l1', 'l2'],\n",
    "    'classifier__C' : np.logspace(-4, 4, 20),\n",
    "     'classifier__class_weight' : ['balanced']}\n",
    "    ]\n",
    "\n",
    "# Create grid search object\n",
    "\n",
    "clf = GridSearchCV(pipe, param_grid = param_grid, cv = cv, verbose=True, n_jobs=-1)\n",
    "\n",
    "# Fit on data\n",
    "\n",
    "tic = time()\n",
    "grid_result = clf.fit(X_train['Desc'], y_train)\n",
    "toc = time()\n",
    "print(f\"Performed gridsearch for model in {toc - tic:0.4} seconds\")\n",
    "# print(f\"Created predictions in {toc - tic:0.4} seconds\")\n",
    "\n",
    "\n",
    "# summarize results\n",
    "print(\"Best: %f using %s\" % (grid_result.best_score_, grid_result.best_params_))\n",
    "means = grid_result.cv_results_['mean_test_score']\n",
    "stds = grid_result.cv_results_['std_test_score']\n",
    "params = grid_result.cv_results_['params']\n",
    "for mean, stdev, param in zip(means, stds, params):\n",
    "    print(\"%f (%f) with: %r\" % (mean, stdev, param))"
   ]
  },
  {
   "cell_type": "code",
   "execution_count": 27,
   "id": "infectious-laptop",
   "metadata": {},
   "outputs": [
    {
     "name": "stdout",
     "output_type": "stream",
     "text": [
      "Dev set results:\n",
      "              precision    recall  f1-score   support\n",
      "\n",
      "          09       0.50      0.41      0.45        27\n",
      "          10       0.57      0.33      0.42        12\n",
      "          11       0.50      0.46      0.48        26\n",
      "          12       0.24      0.29      0.26        28\n",
      "          13       0.40      0.25      0.31         8\n",
      "          14       0.60      0.50      0.55         6\n",
      "          15       0.55      0.63      0.59        35\n",
      "          16       0.57      0.59      0.58        34\n",
      "          17       0.53      0.47      0.50        36\n",
      "          18       0.67      0.50      0.57        28\n",
      "          19       0.44      0.47      0.46        49\n",
      "          20       0.56      0.54      0.55       109\n",
      "          21       0.30      0.33      0.31        42\n",
      "          22       0.57      0.66      0.61        73\n",
      "          28       0.56      0.60      0.58       197\n",
      "          29       0.51      0.49      0.50       502\n",
      "          30       0.55      0.65      0.59        51\n",
      "          31       0.20      0.36      0.25        28\n",
      "          32       0.47      0.48      0.47       130\n",
      "          33       0.52      0.55      0.54       112\n",
      "          34       0.25      0.31      0.28        83\n",
      "          35       0.45      0.54      0.49        52\n",
      "          36       0.38      0.36      0.37        14\n",
      "          37       0.48      0.38      0.43        39\n",
      "          38       0.50      0.53      0.51       205\n",
      "          39       0.52      0.55      0.54       557\n",
      "          40       0.56      0.64      0.60       307\n",
      "          47       0.70      0.82      0.76        51\n",
      "          48       0.58      0.63      0.60       486\n",
      "          49       0.51      0.59      0.55       107\n",
      "          50       0.44      0.44      0.44         9\n",
      "          51       0.47      0.47      0.47        38\n",
      "          52       0.46      0.51      0.49       162\n",
      "          53       0.50      0.56      0.53        43\n",
      "          54       0.47      0.53      0.50       173\n",
      "          55       0.38      0.46      0.42       149\n",
      "          56       0.41      0.53      0.46       127\n",
      "          57       0.78      0.82      0.80       148\n",
      "          58       0.59      0.59      0.59        82\n",
      "          59       0.46      0.62      0.53       131\n",
      "          60       0.52      0.53      0.53       101\n",
      "          61       0.63      0.65      0.64       640\n",
      "          62       0.63      0.56      0.60       587\n",
      "          63       0.52      0.60      0.56       341\n",
      "          64       0.70      0.74      0.72       210\n",
      "          65       0.43      0.51      0.47        53\n",
      "          66       0.59      0.76      0.66        49\n",
      "          67       0.60      0.62      0.61        42\n",
      "          72       0.65      0.65      0.65       578\n",
      "          73       0.64      0.62      0.63       968\n",
      "          74       0.62      0.68      0.65       279\n",
      "          75       0.46      0.65      0.54        57\n",
      "          76       0.56      0.68      0.61       314\n",
      "          78       0.67      0.89      0.76        18\n",
      "          79       0.39      0.66      0.49        64\n",
      "          80       0.68      0.64      0.66        42\n",
      "          81       0.51      0.73      0.60        63\n",
      "          82       0.59      0.65      0.62       592\n",
      "          83       0.51      0.59      0.55       383\n",
      "          84       0.73      0.56      0.63      3822\n",
      "          85       0.70      0.62      0.65      2186\n",
      "          86       0.55      0.71      0.62       150\n",
      "          87       0.57      0.60      0.58       763\n",
      "          88       0.38      0.66      0.48        93\n",
      "          89       0.58      0.67      0.62       114\n",
      "          90       0.60      0.64      0.62       881\n",
      "          91       0.51      0.62      0.56       244\n",
      "          92       0.57      0.71      0.63       137\n",
      "          93       0.66      0.72      0.69       109\n",
      "          94       0.56      0.63      0.59       534\n",
      "          95       0.65      0.66      0.66       380\n",
      "          96       0.61      0.63      0.62       573\n",
      "\n",
      "    accuracy                           0.60     19863\n",
      "   macro avg       0.53      0.57      0.55     19863\n",
      "weighted avg       0.61      0.60      0.60     19863\n",
      "\n"
     ]
    }
   ],
   "source": [
    "print(\"Dev set results:\")\n",
    "tic = time()\n",
    "X_dev_preds = grid_result.predict(X_dev['Desc'])\n",
    "toc = time()\n",
    "print(classification_report(y_dev, X_dev_preds) )\n"
   ]
  },
  {
   "cell_type": "code",
   "execution_count": null,
   "id": "monetary-negative",
   "metadata": {},
   "outputs": [],
   "source": []
  },
  {
   "cell_type": "code",
   "execution_count": null,
   "id": "blank-audience",
   "metadata": {},
   "outputs": [],
   "source": []
  },
  {
   "cell_type": "code",
   "execution_count": null,
   "id": "crucial-korea",
   "metadata": {},
   "outputs": [],
   "source": []
  },
  {
   "cell_type": "code",
   "execution_count": null,
   "id": "former-fraud",
   "metadata": {},
   "outputs": [],
   "source": []
  },
  {
   "cell_type": "code",
   "execution_count": 43,
   "id": "eleven-clark",
   "metadata": {},
   "outputs": [
    {
     "name": "stdout",
     "output_type": "stream",
     "text": [
      "Trained model in 6.797 seconds\n",
      "Dev set results:\n",
      "              precision    recall  f1-score   support\n",
      "\n",
      "          09       0.00      0.00      0.00        54\n",
      "          10       1.00      0.12      0.21        26\n",
      "          11       1.00      0.02      0.04        48\n",
      "          12       0.67      0.03      0.07        58\n",
      "          13       0.00      0.00      0.00        17\n",
      "          14       0.00      0.00      0.00        10\n",
      "          15       1.00      0.10      0.19        77\n",
      "          16       0.67      0.18      0.29        87\n",
      "          17       0.50      0.02      0.03        64\n",
      "          18       0.75      0.10      0.17        62\n",
      "          19       0.73      0.17      0.27        96\n",
      "          20       0.64      0.36      0.46       216\n",
      "          21       0.70      0.07      0.13        96\n",
      "          22       0.73      0.41      0.53       148\n",
      "          28       0.80      0.22      0.35       393\n",
      "          29       0.44      0.47      0.45      1022\n",
      "          30       0.45      0.09      0.15        99\n",
      "          31       1.00      0.02      0.03        60\n",
      "          32       0.69      0.09      0.16       272\n",
      "          33       0.75      0.15      0.25       225\n",
      "          34       0.85      0.07      0.12       163\n",
      "          35       0.80      0.07      0.13       114\n",
      "          36       0.00      0.00      0.00        32\n",
      "          37       0.00      0.00      0.00        74\n",
      "          38       0.77      0.11      0.18       419\n",
      "          39       0.53      0.42      0.47      1129\n",
      "          40       0.77      0.29      0.42       616\n",
      "          47       0.92      0.37      0.53        97\n",
      "          48       0.67      0.40      0.50      1011\n",
      "          49       0.70      0.08      0.15       230\n",
      "          50       0.00      0.00      0.00        21\n",
      "          51       1.00      0.01      0.03        72\n",
      "          52       0.61      0.15      0.25       298\n",
      "          53       0.71      0.06      0.12        78\n",
      "          54       0.72      0.15      0.25       332\n",
      "          55       0.61      0.09      0.15       318\n",
      "          56       0.87      0.16      0.28       251\n",
      "          57       0.71      0.66      0.69       294\n",
      "          58       0.71      0.03      0.06       173\n",
      "          59       0.80      0.07      0.13       276\n",
      "          60       0.66      0.11      0.18       219\n",
      "          61       0.44      0.76      0.56      1273\n",
      "          62       0.44      0.62      0.52      1133\n",
      "          63       0.45      0.39      0.42       700\n",
      "          64       0.68      0.48      0.56       433\n",
      "          65       0.47      0.06      0.11       112\n",
      "          66       1.00      0.02      0.04        90\n",
      "          67       0.85      0.12      0.21        92\n",
      "          72       0.67      0.47      0.55      1166\n",
      "          73       0.53      0.55      0.54      1943\n",
      "          74       0.82      0.20      0.32       557\n",
      "          75       0.00      0.00      0.00       115\n",
      "          76       0.68      0.30      0.42       641\n",
      "          78       1.00      0.02      0.04        45\n",
      "          79       0.75      0.03      0.05       112\n",
      "          80       0.00      0.00      0.00        70\n",
      "          81       0.87      0.10      0.19       125\n",
      "          82       0.59      0.27      0.37      1191\n",
      "          83       0.70      0.17      0.27       755\n",
      "          84       0.39      0.85      0.53      7618\n",
      "          85       0.49      0.66      0.56      4308\n",
      "          86       0.93      0.13      0.22       300\n",
      "          87       0.60      0.41      0.49      1515\n",
      "          88       1.00      0.11      0.20       166\n",
      "          89       1.00      0.11      0.20       220\n",
      "          90       0.69      0.32      0.43      1769\n",
      "          91       0.84      0.11      0.19       496\n",
      "          92       0.98      0.20      0.33       276\n",
      "          93       0.93      0.12      0.21       206\n",
      "          94       0.50      0.48      0.49      1060\n",
      "          95       0.71      0.36      0.48       751\n",
      "          96       0.51      0.33      0.40      1141\n",
      "\n",
      "    accuracy                           0.48     39726\n",
      "   macro avg       0.64      0.20      0.25     39726\n",
      "weighted avg       0.57      0.48      0.44     39726\n",
      "\n",
      "Created predictions in 1.01 seconds\n",
      "Model accurayc:  0.47570860393696823\n"
     ]
    }
   ],
   "source": [
    "trial1 = Pipeline([\n",
    "    ('vectorizer', CountVectorizer(stop_words='english')),\n",
    "    ('classifier', MultinomialNB()),\n",
    "])\n",
    " \n",
    "acc = train(trial1, X_train['Desc'], y_train, X_dev['Desc'], y_dev, 'saved_models/NB_BOW_model_HSChap.sav')\n",
    "\n",
    "results.at['NB-BOW Desc','Accuracy'] = acc\n",
    "# results = results.append(pd.DataFrame([['MNB_BOW'] + acc], columns=column_names), ignore_index=True)"
   ]
  },
  {
   "cell_type": "code",
   "execution_count": 44,
   "id": "expected-genre",
   "metadata": {},
   "outputs": [
    {
     "name": "stdout",
     "output_type": "stream",
     "text": [
      "Trained model in 6.791 seconds\n",
      "Dev set results:\n",
      "              precision    recall  f1-score   support\n",
      "\n",
      "          09       0.00      0.00      0.00        54\n",
      "          10       0.00      0.00      0.00        26\n",
      "          11       0.00      0.00      0.00        48\n",
      "          12       0.00      0.00      0.00        58\n",
      "          13       0.00      0.00      0.00        17\n",
      "          14       0.00      0.00      0.00        10\n",
      "          15       0.00      0.00      0.00        77\n",
      "          16       0.00      0.00      0.00        87\n",
      "          17       0.00      0.00      0.00        64\n",
      "          18       0.00      0.00      0.00        62\n",
      "          19       0.00      0.00      0.00        96\n",
      "          20       0.75      0.01      0.03       216\n",
      "          21       0.00      0.00      0.00        96\n",
      "          22       1.00      0.02      0.04       148\n",
      "          28       0.91      0.05      0.10       393\n",
      "          29       0.71      0.20      0.31      1022\n",
      "          30       0.00      0.00      0.00        99\n",
      "          31       0.00      0.00      0.00        60\n",
      "          32       1.00      0.01      0.02       272\n",
      "          33       0.00      0.00      0.00       225\n",
      "          34       0.00      0.00      0.00       163\n",
      "          35       0.00      0.00      0.00       114\n",
      "          36       0.00      0.00      0.00        32\n",
      "          37       0.00      0.00      0.00        74\n",
      "          38       1.00      0.00      0.00       419\n",
      "          39       0.82      0.12      0.22      1129\n",
      "          40       0.94      0.02      0.05       616\n",
      "          47       1.00      0.10      0.19        97\n",
      "          48       0.89      0.14      0.25      1011\n",
      "          49       0.00      0.00      0.00       230\n",
      "          50       0.00      0.00      0.00        21\n",
      "          51       0.00      0.00      0.00        72\n",
      "          52       1.00      0.01      0.01       298\n",
      "          53       0.00      0.00      0.00        78\n",
      "          54       1.00      0.01      0.02       332\n",
      "          55       1.00      0.01      0.02       318\n",
      "          56       1.00      0.00      0.01       251\n",
      "          57       0.91      0.20      0.33       294\n",
      "          58       0.00      0.00      0.00       173\n",
      "          59       1.00      0.01      0.01       276\n",
      "          60       0.00      0.00      0.00       219\n",
      "          61       0.49      0.64      0.56      1273\n",
      "          62       0.56      0.43      0.49      1133\n",
      "          63       0.58      0.05      0.10       700\n",
      "          64       0.93      0.10      0.18       433\n",
      "          65       0.00      0.00      0.00       112\n",
      "          66       0.00      0.00      0.00        90\n",
      "          67       0.00      0.00      0.00        92\n",
      "          72       0.77      0.24      0.36      1166\n",
      "          73       0.74      0.29      0.41      1943\n",
      "          74       0.96      0.04      0.08       557\n",
      "          75       0.00      0.00      0.00       115\n",
      "          76       0.83      0.04      0.07       641\n",
      "          78       0.00      0.00      0.00        45\n",
      "          79       0.00      0.00      0.00       112\n",
      "          80       0.00      0.00      0.00        70\n",
      "          81       0.00      0.00      0.00       125\n",
      "          82       0.84      0.04      0.08      1191\n",
      "          83       1.00      0.02      0.03       755\n",
      "          84       0.24      0.98      0.39      7618\n",
      "          85       0.64      0.52      0.57      4308\n",
      "          86       0.92      0.04      0.08       300\n",
      "          87       0.72      0.12      0.21      1515\n",
      "          88       0.00      0.00      0.00       166\n",
      "          89       0.00      0.00      0.00       220\n",
      "          90       0.90      0.12      0.21      1769\n",
      "          91       1.00      0.01      0.02       496\n",
      "          92       0.95      0.08      0.14       276\n",
      "          93       1.00      0.01      0.02       206\n",
      "          94       0.83      0.11      0.19      1060\n",
      "          95       0.99      0.10      0.17       751\n",
      "          96       0.85      0.08      0.14      1141\n",
      "\n",
      "    accuracy                           0.34     39726\n",
      "   macro avg       0.44      0.07      0.08     39726\n",
      "weighted avg       0.62      0.34      0.27     39726\n",
      "\n",
      "Created predictions in 1.052 seconds\n",
      "Model accurayc:  0.3360519558979006\n"
     ]
    }
   ],
   "source": [
    "trial2 = Pipeline([\n",
    "    ('vectorizer', TfidfVectorizer(stop_words='english')),\n",
    "    ('classifier', MultinomialNB()),\n",
    "])\n",
    " \n",
    "acc = train(trial2, X_train['Desc'], y_train, X_dev['Desc'], y_dev, 'saved_models/NB_tfidf_model_HSChap.sav')\n",
    "\n",
    "results.at['NB-tfidf Desc','Accuracy'] = acc\n",
    "# results = results.append(pd.DataFrame([['MNB_tfidf'] + acc], columns=column_names), ignore_index=True)"
   ]
  },
  {
   "cell_type": "code",
   "execution_count": null,
   "id": "demanding-defendant",
   "metadata": {},
   "outputs": [],
   "source": [
    "# trial3 = Pipeline([\n",
    "#     ('vectorizer', CountVectorizer(stop_words='english')),\n",
    "#     ('classifier', KNeighborsClassifier()),\n",
    "# ])\n",
    " \n",
    "# acc = train(trial3, X_train['Desc'], y_train, X_dev['Desc'], y_dev, 'saved_models/KNN_BOW_model_HSChap.sav')\n",
    "\n",
    "# results.at['KNN-BOW Desc','Accuracy'] = acc"
   ]
  },
  {
   "cell_type": "code",
   "execution_count": null,
   "id": "artistic-trout",
   "metadata": {},
   "outputs": [],
   "source": [
    "# trial4 = Pipeline([\n",
    "#     ('vectorizer', TfidfVectorizer(stop_words='english')),\n",
    "#     ('classifier', KNeighborsClassifier()),\n",
    "# ])\n",
    " \n",
    "# acc = train(trial4, X_train['Desc'], y_train, X_dev['Desc'], y_dev, 'saved_models/KNN_tfidf_model_HSChap.sav')\n",
    "\n",
    "# results.at['KNN-tfidf Desc','Accuracy'] = acc"
   ]
  },
  {
   "cell_type": "code",
   "execution_count": 45,
   "id": "british-organic",
   "metadata": {},
   "outputs": [
    {
     "name": "stdout",
     "output_type": "stream",
     "text": [
      "Trained model in 339.9 seconds\n",
      "Dev set results:\n",
      "              precision    recall  f1-score   support\n",
      "\n",
      "          09       0.46      0.33      0.39        54\n",
      "          10       0.47      0.31      0.37        26\n",
      "          11       0.60      0.50      0.55        48\n",
      "          12       0.62      0.34      0.44        58\n",
      "          13       0.80      0.24      0.36        17\n",
      "          14       0.25      0.10      0.14        10\n",
      "          15       0.77      0.52      0.62        77\n",
      "          16       0.69      0.64      0.67        87\n",
      "          17       0.68      0.36      0.47        64\n",
      "          18       0.75      0.39      0.51        62\n",
      "          19       0.72      0.51      0.60        96\n",
      "          20       0.76      0.62      0.69       216\n",
      "          21       0.67      0.32      0.44        96\n",
      "          22       0.78      0.69      0.73       148\n",
      "          28       0.68      0.55      0.61       393\n",
      "          29       0.59      0.52      0.55      1022\n",
      "          30       0.66      0.45      0.54        99\n",
      "          31       0.67      0.48      0.56        60\n",
      "          32       0.54      0.41      0.47       272\n",
      "          33       0.62      0.52      0.57       225\n",
      "          34       0.70      0.41      0.52       163\n",
      "          35       0.65      0.55      0.60       114\n",
      "          36       0.64      0.22      0.33        32\n",
      "          37       0.42      0.30      0.35        74\n",
      "          38       0.65      0.55      0.60       419\n",
      "          39       0.60      0.57      0.58      1129\n",
      "          40       0.75      0.59      0.66       616\n",
      "          47       0.90      0.72      0.80        97\n",
      "          48       0.65      0.64      0.65      1011\n",
      "          49       0.68      0.50      0.58       230\n",
      "          50       0.74      0.67      0.70        21\n",
      "          51       0.69      0.51      0.59        72\n",
      "          52       0.56      0.47      0.51       298\n",
      "          53       0.69      0.53      0.60        78\n",
      "          54       0.62      0.49      0.55       332\n",
      "          55       0.54      0.48      0.51       318\n",
      "          56       0.60      0.48      0.54       251\n",
      "          57       0.83      0.77      0.80       294\n",
      "          58       0.59      0.54      0.56       173\n",
      "          59       0.63      0.50      0.56       276\n",
      "          60       0.63      0.53      0.58       219\n",
      "          61       0.70      0.68      0.69      1273\n",
      "          62       0.64      0.67      0.66      1133\n",
      "          63       0.61      0.58      0.59       700\n",
      "          64       0.79      0.72      0.75       433\n",
      "          65       0.68      0.54      0.60       112\n",
      "          66       0.71      0.67      0.69        90\n",
      "          67       0.74      0.70      0.72        92\n",
      "          72       0.72      0.67      0.69      1166\n",
      "          73       0.67      0.66      0.66      1943\n",
      "          74       0.74      0.68      0.71       557\n",
      "          75       0.67      0.54      0.60       115\n",
      "          76       0.65      0.66      0.65       641\n",
      "          78       0.62      0.64      0.63        45\n",
      "          79       0.72      0.71      0.71       112\n",
      "          80       0.75      0.54      0.63        70\n",
      "          81       0.67      0.62      0.64       125\n",
      "          82       0.65      0.58      0.61      1191\n",
      "          83       0.61      0.55      0.58       755\n",
      "          84       0.62      0.79      0.70      7618\n",
      "          85       0.65      0.71      0.68      4308\n",
      "          86       0.71      0.68      0.69       300\n",
      "          87       0.65      0.60      0.63      1515\n",
      "          88       0.67      0.58      0.62       166\n",
      "          89       0.79      0.70      0.75       220\n",
      "          90       0.66      0.65      0.65      1769\n",
      "          91       0.62      0.54      0.58       496\n",
      "          92       0.77      0.71      0.74       276\n",
      "          93       0.75      0.67      0.71       206\n",
      "          94       0.67      0.62      0.64      1060\n",
      "          95       0.76      0.68      0.72       751\n",
      "          96       0.67      0.61      0.64      1141\n",
      "\n",
      "    accuracy                           0.65     39726\n",
      "   macro avg       0.66      0.55      0.60     39726\n",
      "weighted avg       0.66      0.65      0.65     39726\n",
      "\n",
      "Created predictions in 0.9826 seconds\n",
      "Model accurayc:  0.6527966571011429\n"
     ]
    }
   ],
   "source": [
    "trial5 = Pipeline([\n",
    "    ('vectorizer', CountVectorizer(stop_words='english')),\n",
    "    ('classifier',LogisticRegression()),\n",
    "])\n",
    " \n",
    "acc = train(trial5, X_train['Desc'], y_train, X_dev['Desc'], y_dev, 'saved_models/LogReg_BOW_model_HSChap.sav')\n",
    "\n",
    "results.at['LogReg-BOW Desc','Accuracy'] = acc"
   ]
  },
  {
   "cell_type": "code",
   "execution_count": 46,
   "id": "sitting-minneapolis",
   "metadata": {},
   "outputs": [
    {
     "name": "stdout",
     "output_type": "stream",
     "text": [
      "Trained model in 347.6 seconds\n",
      "Dev set results:\n",
      "              precision    recall  f1-score   support\n",
      "\n",
      "          09       0.40      0.22      0.29        54\n",
      "          10       1.00      0.12      0.21        26\n",
      "          11       1.00      0.04      0.08        48\n",
      "          12       0.69      0.31      0.43        58\n",
      "          13       1.00      0.06      0.11        17\n",
      "          14       0.00      0.00      0.00        10\n",
      "          15       0.77      0.39      0.52        77\n",
      "          16       0.55      0.46      0.50        87\n",
      "          17       1.00      0.08      0.14        64\n",
      "          18       0.79      0.24      0.37        62\n",
      "          19       0.96      0.26      0.41        96\n",
      "          20       0.65      0.56      0.60       216\n",
      "          21       0.68      0.14      0.23        96\n",
      "          22       0.84      0.59      0.69       148\n",
      "          28       0.68      0.46      0.55       393\n",
      "          29       0.55      0.50      0.52      1022\n",
      "          30       0.70      0.16      0.26        99\n",
      "          31       0.80      0.20      0.32        60\n",
      "          32       0.69      0.26      0.38       272\n",
      "          33       0.65      0.39      0.49       225\n",
      "          34       0.80      0.21      0.34       163\n",
      "          35       0.73      0.32      0.44       114\n",
      "          36       0.50      0.03      0.06        32\n",
      "          37       1.00      0.01      0.03        74\n",
      "          38       0.69      0.42      0.52       419\n",
      "          39       0.57      0.56      0.57      1129\n",
      "          40       0.72      0.56      0.63       616\n",
      "          47       0.93      0.58      0.71        97\n",
      "          48       0.66      0.59      0.62      1011\n",
      "          49       0.76      0.40      0.52       230\n",
      "          50       0.85      0.52      0.65        21\n",
      "          51       0.60      0.38      0.46        72\n",
      "          52       0.55      0.42      0.47       298\n",
      "          53       0.83      0.37      0.51        78\n",
      "          54       0.61      0.47      0.53       332\n",
      "          55       0.55      0.40      0.46       318\n",
      "          56       0.72      0.39      0.50       251\n",
      "          57       0.85      0.71      0.77       294\n",
      "          58       0.59      0.35      0.44       173\n",
      "          59       0.72      0.42      0.53       276\n",
      "          60       0.62      0.43      0.51       219\n",
      "          61       0.64      0.73      0.68      1273\n",
      "          62       0.63      0.67      0.65      1133\n",
      "          63       0.61      0.55      0.58       700\n",
      "          64       0.80      0.67      0.73       433\n",
      "          65       0.63      0.49      0.55       112\n",
      "          66       0.67      0.52      0.59        90\n",
      "          67       0.78      0.58      0.66        92\n",
      "          72       0.72      0.64      0.68      1166\n",
      "          73       0.65      0.64      0.64      1943\n",
      "          74       0.73      0.59      0.65       557\n",
      "          75       0.77      0.44      0.56       115\n",
      "          76       0.66      0.61      0.63       641\n",
      "          78       0.81      0.47      0.59        45\n",
      "          79       0.70      0.53      0.60       112\n",
      "          80       0.83      0.41      0.55        70\n",
      "          81       0.70      0.51      0.59       125\n",
      "          82       0.67      0.54      0.60      1191\n",
      "          83       0.65      0.47      0.54       755\n",
      "          84       0.55      0.81      0.65      7618\n",
      "          85       0.59      0.75      0.66      4308\n",
      "          86       0.76      0.55      0.64       300\n",
      "          87       0.63      0.59      0.61      1515\n",
      "          88       0.64      0.36      0.46       166\n",
      "          89       0.84      0.51      0.63       220\n",
      "          90       0.66      0.60      0.63      1769\n",
      "          91       0.66      0.47      0.55       496\n",
      "          92       0.83      0.63      0.71       276\n",
      "          93       0.73      0.54      0.62       206\n",
      "          94       0.64      0.59      0.62      1060\n",
      "          95       0.77      0.64      0.70       751\n",
      "          96       0.66      0.57      0.61      1141\n",
      "\n",
      "    accuracy                           0.62     39726\n",
      "   macro avg       0.71      0.44      0.51     39726\n",
      "weighted avg       0.64      0.62      0.61     39726\n",
      "\n",
      "Created predictions in 1.011 seconds\n",
      "Model accurayc:  0.6203745657755626\n"
     ]
    }
   ],
   "source": [
    "trial6 = Pipeline([\n",
    "    ('vectorizer', TfidfVectorizer(stop_words='english')),\n",
    "    ('classifier',LogisticRegression()),\n",
    "])\n",
    " \n",
    "acc = train(trial6, X_train['Desc'], y_train, X_dev['Desc'], y_dev, 'saved_models/LogReg_tfidf_model_HSChap.sav')\n",
    "\n",
    "results.at['LogReg-tfidf Desc','Accuracy'] = acc"
   ]
  },
  {
   "cell_type": "code",
   "execution_count": null,
   "id": "sought-animal",
   "metadata": {},
   "outputs": [
    {
     "name": "stdout",
     "output_type": "stream",
     "text": [
      "[LibSVM]"
     ]
    }
   ],
   "source": [
    "trial7 = Pipeline([\n",
    "    ('vectorizer', CountVectorizer(stop_words='english')),\n",
    "    ('classifier', SVC(probability=True, class_weight='balanced', verbose=True)),\n",
    "])\n",
    " \n",
    "acc = train(trial7, X_train['Desc'], y_train, X_dev['Desc'], y_dev, 'saved_models/SVM_BOW_model_HSChap.sav')\n",
    "\n",
    "results.at['SVM-BOW Desc','Accuracy'] = acc"
   ]
  },
  {
   "cell_type": "code",
   "execution_count": null,
   "id": "incident-transformation",
   "metadata": {},
   "outputs": [],
   "source": [
    "trial8 = Pipeline([\n",
    "    ('vectorizer', TfidfVectorizer(stop_words='english')),\n",
    "    ('classifier', SVC()),\n",
    "])\n",
    " \n",
    "acc = train(trial8, X_train['Desc'], y_train, X_dev['Desc'], y_dev, 'saved_models/SVM_tfidf_model_HSChap.sav')\n",
    "\n",
    "results.at['SVM-tfidf Desc','Accuracy'] = acc"
   ]
  },
  {
   "cell_type": "code",
   "execution_count": null,
   "id": "sixth-split",
   "metadata": {},
   "outputs": [],
   "source": [
    "trial9 = Pipeline([\n",
    "    ('vectorizer', CountVectorizer(stop_words='english')),\n",
    "    ('classifier', XGBClassifier()),\n",
    "])\n",
    " \n",
    "acc = train(trial9, X_train['Desc'], y_train, X_dev['Desc'], y_dev, 'saved_models/XGB_BOW_model_HSChap.sav')\n",
    "\n",
    "results.at['XGBoost-BOW Desc','Accuracy'] = acc"
   ]
  },
  {
   "cell_type": "code",
   "execution_count": null,
   "id": "announced-kingston",
   "metadata": {},
   "outputs": [],
   "source": [
    "trial10 = Pipeline([\n",
    "    ('vectorizer', TfidfVectorizer(stop_words='english')),\n",
    "    ('classifier', XGBClassifier()),\n",
    "])\n",
    " \n",
    "acc = train(trial10, X_train['Desc'], y_train, X_dev['Desc'], y_dev, 'saved_models/XGB_tfidf_model_HSChap.sav')\n",
    "\n",
    "results.at['XGBoost-tfidf Desc','Accuracy'] = acc"
   ]
  },
  {
   "cell_type": "code",
   "execution_count": null,
   "id": "taken-funds",
   "metadata": {},
   "outputs": [],
   "source": [
    "trial11 = Pipeline([\n",
    "    ('vectorizer', CountVectorizer(stop_words='english')),\n",
    "    ('classifier', RandomForestClassifier()),\n",
    "])\n",
    " \n",
    "acc = train(trial11, X_train['Desc'], y_train, X_dev['Desc'], y_dev, 'saved_models/RF_BOW_model_HSChap.sav')\n",
    "\n",
    "results.at['RF-BOW Desc','Accuracy'] = acc"
   ]
  },
  {
   "cell_type": "code",
   "execution_count": null,
   "id": "significant-edwards",
   "metadata": {},
   "outputs": [],
   "source": [
    "trial12 = Pipeline([\n",
    "    ('vectorizer', TfidfVectorizer(stop_words='english')),\n",
    "    ('classifier', RandomForestClassifier()),\n",
    "])\n",
    " \n",
    "acc = train(trial12, X_train['Desc'], y_train, X_dev['Desc'], y_dev, 'saved_models/RF_tfidf_model_HSChap.sav')\n",
    "\n",
    "results.at['RF-tfidf Desc','Accuracy'] = acc"
   ]
  },
  {
   "cell_type": "markdown",
   "id": "unlikely-language",
   "metadata": {},
   "source": [
    "### Reload models, generate results"
   ]
  },
  {
   "cell_type": "code",
   "execution_count": null,
   "id": "square-magnitude",
   "metadata": {},
   "outputs": [],
   "source": [
    "# https://machinelearningmastery.com/save-load-machine-learning-models-python-scikit-learn/\n",
    "\n",
    "def load_model(filename):\n",
    "    loaded = pickle.load(open(filename, 'rb'))\n",
    "    return loaded"
   ]
  },
  {
   "cell_type": "code",
   "execution_count": null,
   "id": "vietnamese-consideration",
   "metadata": {},
   "outputs": [],
   "source": [
    "nb_bow_mod = load_model('saved_models/NB_BOW_model_HSChap.sav')\n",
    "results.at['NB-BOW Desc','Accuracy'] = nb_bow_mod.score(X_dev['Desc'], y_dev)\n",
    "\n",
    "nb_tfidf_mod = load_model('saved_models/NB_tfidf_model_HSChap.sav')\n",
    "results.at['NB-tfidf Desc','Accuracy'] = nb_tfidf_mod.score(X_dev['Desc'], y_dev)\n",
    "\n",
    "# knn_bow_mod = load_model('saved_models/KNN_BOW_HSChap.sav')\n",
    "# results.at['KNN-BOW Desc','Accuracy'] = knn_bow_mod.score(X_dev['Desc'], y_dev)\n",
    "\n",
    "# knn_tfidf_mod = load_model('saved_models/KNN_tfidf_HSChap.sav')\n",
    "# results.at['KNN-tfidf Desc','Accuracy'] = knn_tfidf_mod.score(X_dev['Desc'], y_dev)\n",
    "\n"
   ]
  },
  {
   "cell_type": "code",
   "execution_count": null,
   "id": "constitutional-portable",
   "metadata": {},
   "outputs": [],
   "source": [
    "lr_bow_mod = load_model('saved_models/LogReg_BOW_model_HSChap.sav')\n",
    "results.at['LogReg-BOW Desc','Accuracy'] = lr_bow_mod.score(X_dev['Desc'], y_dev)\n",
    "\n",
    "lr_tfidf_mod = load_model('saved_models/LogReg_tfidf_model_HSChap.sav')\n",
    "results.at['LogReg-tfidf Desc','Accuracy'] = lr_tfidf_mod.score(X_dev['Desc'], y_dev)\n",
    "\n",
    "rf_bow_mod = load_model('saved_models/RF_BOW_model_HSChap.sav')\n",
    "results.at['RF-BOW Desc','Accuracy'] = rf_bow_mod.score(X_dev['Desc'], y_dev)\n",
    "\n",
    "rf_tfidf_mod = load_model('saved_models/RF_tfidf_model_HSChap.sav')\n",
    "results.at['RF-tfidf Desc','Accuracy'] = rf_tfidf_mod.score(X_dev['Desc'], y_dev)"
   ]
  },
  {
   "cell_type": "code",
   "execution_count": null,
   "id": "impossible-disco",
   "metadata": {},
   "outputs": [],
   "source": [
    "xgb_bow_mod = load_model('saved_models/XGB_BOW_model_HSChap.sav')\n",
    "results.at['XGBoost-BOW Desc','Accuracy'] = xgb_bow_mod.score(X_dev['Desc'], y_dev)\n",
    "\n",
    "xgb_tfidf_mod = load_model('saved_models/XGB_tfidf_model_HSChap.sav')\n",
    "results.at['XGBoost-tfidf Desc','Accuracy'] = xgb_tfidf_mod.score(X_dev['Desc'], y_dev)\n",
    "\n",
    "svm_bow_mod = load_model('saved_models/SVM_BOW_model_HSChap.sav')\n",
    "results.at['SVM-BOW Desc','Accuracy'] = svm_bow_mod.score(X_dev['Desc'], y_dev)\n",
    "\n",
    "svm_tfidf_mod = load_model('saved_models/SVM_tfidf_model_HSChap.sav')\n",
    "results.at['SVM-tfidf Desc','Accuracy'] = svm_tfidf_mod.score(X_dev['Desc'], y_dev)"
   ]
  },
  {
   "cell_type": "code",
   "execution_count": 24,
   "id": "gentle-plenty",
   "metadata": {},
   "outputs": [
    {
     "data": {
      "text/html": [
       "<div>\n",
       "<style scoped>\n",
       "    .dataframe tbody tr th:only-of-type {\n",
       "        vertical-align: middle;\n",
       "    }\n",
       "\n",
       "    .dataframe tbody tr th {\n",
       "        vertical-align: top;\n",
       "    }\n",
       "\n",
       "    .dataframe thead th {\n",
       "        text-align: right;\n",
       "    }\n",
       "</style>\n",
       "<table border=\"1\" class=\"dataframe\">\n",
       "  <thead>\n",
       "    <tr style=\"text-align: right;\">\n",
       "      <th></th>\n",
       "      <th>Accuracy</th>\n",
       "    </tr>\n",
       "  </thead>\n",
       "  <tbody>\n",
       "    <tr>\n",
       "      <th>Baseline</th>\n",
       "      <td>0.142775</td>\n",
       "    </tr>\n",
       "    <tr>\n",
       "      <th>NB-BOW Desc</th>\n",
       "      <td>0.549073</td>\n",
       "    </tr>\n",
       "    <tr>\n",
       "      <th>NB-tfidf Desc</th>\n",
       "      <td>0.406442</td>\n",
       "    </tr>\n",
       "    <tr>\n",
       "      <th>LogReg-BOW Desc</th>\n",
       "      <td>0.673295</td>\n",
       "    </tr>\n",
       "    <tr>\n",
       "      <th>LogReg-tfidf Desc</th>\n",
       "      <td>NaN</td>\n",
       "    </tr>\n",
       "    <tr>\n",
       "      <th>SVM-BOW Desc</th>\n",
       "      <td>NaN</td>\n",
       "    </tr>\n",
       "    <tr>\n",
       "      <th>SVM-tfidf Desc</th>\n",
       "      <td>NaN</td>\n",
       "    </tr>\n",
       "    <tr>\n",
       "      <th>XGBoost-BOW Desc</th>\n",
       "      <td>0.692175</td>\n",
       "    </tr>\n",
       "    <tr>\n",
       "      <th>XGBoost-tfidf Desc</th>\n",
       "      <td>NaN</td>\n",
       "    </tr>\n",
       "    <tr>\n",
       "      <th>RF-BOW Desc</th>\n",
       "      <td>NaN</td>\n",
       "    </tr>\n",
       "    <tr>\n",
       "      <th>RF-tfidf Desc</th>\n",
       "      <td>NaN</td>\n",
       "    </tr>\n",
       "  </tbody>\n",
       "</table>\n",
       "</div>"
      ],
      "text/plain": [
       "                    Accuracy\n",
       "Baseline            0.142775\n",
       "NB-BOW Desc         0.549073\n",
       "NB-tfidf Desc       0.406442\n",
       "LogReg-BOW Desc     0.673295\n",
       "LogReg-tfidf Desc        NaN\n",
       "SVM-BOW Desc             NaN\n",
       "SVM-tfidf Desc           NaN\n",
       "XGBoost-BOW Desc    0.692175\n",
       "XGBoost-tfidf Desc       NaN\n",
       "RF-BOW Desc              NaN\n",
       "RF-tfidf Desc            NaN"
      ]
     },
     "execution_count": 24,
     "metadata": {},
     "output_type": "execute_result"
    }
   ],
   "source": [
    "results"
   ]
  },
  {
   "cell_type": "code",
   "execution_count": null,
   "id": "modified-tracy",
   "metadata": {},
   "outputs": [],
   "source": [
    "ax = sns.barplot(x=results.index, y=results[\"Accuracy\"])\n",
    "ax.set_xticklabels(ax.get_xticklabels(),rotation=75)\n",
    "plt.title(\"Model Comparison, Chapters 40 - 69\", size=20)"
   ]
  },
  {
   "cell_type": "code",
   "execution_count": null,
   "id": "sixth-valley",
   "metadata": {},
   "outputs": [],
   "source": [
    "results.to_csv('ModelResults_Chps_40_69'+ '03032021' + '.csv', index=False)"
   ]
  },
  {
   "cell_type": "code",
   "execution_count": null,
   "id": "contrary-netscape",
   "metadata": {},
   "outputs": [],
   "source": []
  }
 ],
 "metadata": {
  "kernelspec": {
   "display_name": "Python 3",
   "language": "python",
   "name": "python3"
  },
  "language_info": {
   "codemirror_mode": {
    "name": "ipython",
    "version": 3
   },
   "file_extension": ".py",
   "mimetype": "text/x-python",
   "name": "python",
   "nbconvert_exporter": "python",
   "pygments_lexer": "ipython3",
   "version": "3.8.5"
  }
 },
 "nbformat": 4,
 "nbformat_minor": 5
}
