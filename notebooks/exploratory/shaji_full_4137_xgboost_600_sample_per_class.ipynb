{
 "cells": [
  {
   "cell_type": "markdown",
   "id": "congressional-check",
   "metadata": {},
   "source": [
    "# References & starter code\n"
   ]
  },
  {
   "cell_type": "markdown",
   "id": "liquid-intelligence",
   "metadata": {},
   "source": [
    "https://github.com/dmlc/xgboost/blob/master/demo/guide-python/basic_walkthrough.py"
   ]
  },
  {
   "cell_type": "code",
   "execution_count": 1,
   "id": "nonprofit-activation",
   "metadata": {},
   "outputs": [],
   "source": [
    "import numpy as np\n",
    "\n",
    "import xgboost as xgb\n",
    "\n",
    "import pandas as pd\n",
    "from tqdm import tqdm\n",
    "\n",
    "from scipy import sparse\n",
    "from scipy import stats\n",
    "from tqdm.notebook import tqdm\n",
    "from sklearn.preprocessing import LabelEncoder "
   ]
  },
  {
   "cell_type": "code",
   "execution_count": 2,
   "id": "radical-antibody",
   "metadata": {},
   "outputs": [
    {
     "data": {
      "text/plain": [
       "'1.3.3'"
      ]
     },
     "execution_count": 2,
     "metadata": {},
     "output_type": "execute_result"
    }
   ],
   "source": [
    "xgb.__version__\n"
   ]
  },
  {
   "cell_type": "code",
   "execution_count": 3,
   "id": "surrounded-seattle",
   "metadata": {},
   "outputs": [
    {
     "name": "stderr",
     "output_type": "stream",
     "text": [
      "[nltk_data] Downloading package wordnet to /root/nltk_data...\n",
      "[nltk_data]   Package wordnet is already up-to-date!\n",
      "[nltk_data] Downloading package averaged_perceptron_tagger to\n",
      "[nltk_data]     /root/nltk_data...\n",
      "[nltk_data]   Package averaged_perceptron_tagger is already up-to-\n",
      "[nltk_data]       date!\n",
      "[nltk_data] Downloading package stopwords to /root/nltk_data...\n",
      "[nltk_data]   Package stopwords is already up-to-date!\n"
     ]
    }
   ],
   "source": [
    "import nltk\n",
    "nltk.download('wordnet')\n",
    "from nltk.stem import WordNetLemmatizer\n",
    "from nltk.corpus import wordnet\n",
    "nltk.download('averaged_perceptron_tagger')\n",
    "nltk.download('stopwords')\n",
    "\n",
    "from nltk.corpus import stopwords\n",
    "stop = stopwords.words('english')\n",
    "import re"
   ]
  },
  {
   "cell_type": "code",
   "execution_count": 4,
   "id": "animated-addiction",
   "metadata": {},
   "outputs": [],
   "source": [
    "import dask.dataframe as dd\n",
    "from dask.diagnostics import ProgressBar\n",
    "ProgressBar().register()\n",
    "import pickle"
   ]
  },
  {
   "cell_type": "code",
   "execution_count": 5,
   "id": "japanese-hometown",
   "metadata": {},
   "outputs": [],
   "source": [
    "result_dd = dd.read_parquet('data/full_cleaned')"
   ]
  },
  {
   "cell_type": "code",
   "execution_count": 6,
   "id": "infinite-portrait",
   "metadata": {},
   "outputs": [
    {
     "name": "stdout",
     "output_type": "stream",
     "text": [
      "[########################################] | 100% Completed |  4.6s\n",
      "Number of classes :  4137\n"
     ]
    }
   ],
   "source": [
    "all_labels = result_dd.label.unique()\n",
    "print('Number of classes : ', len(all_labels))"
   ]
  },
  {
   "cell_type": "code",
   "execution_count": 7,
   "id": "effective-sustainability",
   "metadata": {},
   "outputs": [
    {
     "name": "stdout",
     "output_type": "stream",
     "text": [
      "[########################################] | 100% Completed |  4.4s\n"
     ]
    },
    {
     "data": {
      "text/plain": [
       "1982138"
      ]
     },
     "execution_count": 7,
     "metadata": {},
     "output_type": "execute_result"
    }
   ],
   "source": [
    "len(result_dd)"
   ]
  },
  {
   "cell_type": "code",
   "execution_count": 8,
   "id": "existing-newsletter",
   "metadata": {},
   "outputs": [
    {
     "name": "stdout",
     "output_type": "stream",
     "text": [
      "[########################################] | 100% Completed |  4.3s\n"
     ]
    }
   ],
   "source": [
    "result = result_dd.compute()"
   ]
  },
  {
   "cell_type": "markdown",
   "id": "auburn-andrews",
   "metadata": {},
   "source": [
    "# Lemmatizer\n"
   ]
  },
  {
   "cell_type": "code",
   "execution_count": 9,
   "id": "mechanical-choir",
   "metadata": {},
   "outputs": [],
   "source": [
    "lemmatizer = WordNetLemmatizer()\n",
    "\n",
    "# function to convert nltk tag to wordnet tag\n",
    "def nltk_tag_to_wordnet_tag(nltk_tag):\n",
    "    if nltk_tag.startswith('J'):\n",
    "        return wordnet.ADJ\n",
    "    elif nltk_tag.startswith('V'):\n",
    "        return wordnet.VERB\n",
    "    elif nltk_tag.startswith('N'):\n",
    "        return wordnet.NOUN\n",
    "    elif nltk_tag.startswith('R'):\n",
    "        return wordnet.ADV\n",
    "    else:          \n",
    "        return None\n",
    "\n",
    "from nltk.tokenize import RegexpTokenizer\n",
    "tok = RegexpTokenizer(r'\\w+')\n",
    "    \n",
    "def clean_sentence(sentence):\n",
    "    #tokenize the sentence and find the POS tag for each token\n",
    "    sentence = re.sub(r'\\d+', '', sentence)\n",
    "    remove_dig_pun = tok.tokenize(sentence.lower())\n",
    "\n",
    "    nltk_tagged = nltk.pos_tag(remove_dig_pun)  \n",
    "    #tuple of (token, wordnet_tag)\n",
    "    wordnet_tagged = map(lambda x: (x[0], nltk_tag_to_wordnet_tag(x[1])), nltk_tagged)\n",
    "    lemmatized_sentence = []\n",
    "    for word, tag in wordnet_tagged:\n",
    "        if tag is None:\n",
    "            #if there is no available tag, append the token as is\n",
    "            lemmatized_sentence.append(word)\n",
    "        else:        \n",
    "            #else use the tag to lemmatize the token\n",
    "            lemmatized_sentence.append(lemmatizer.lemmatize(word, tag))\n",
    "            \n",
    "    lemmatized_sentence_clean = list(map((lambda x : x if x not in stop else \"\"), lemmatized_sentence))\n",
    "    input_clean = list(map((lambda x : x if x not in stop else \"\"), remove_dig_pun))\n",
    "\n",
    "    return \" \".join(input_clean + lemmatized_sentence_clean)"
   ]
  },
  {
   "cell_type": "markdown",
   "id": "alone-perth",
   "metadata": {},
   "source": [
    "# Read the HTS descriptions, process\n"
   ]
  },
  {
   "cell_type": "code",
   "execution_count": 10,
   "id": "valued-concentrate",
   "metadata": {},
   "outputs": [],
   "source": [
    "hts = pd.read_csv(\"./hts_train.csv\", dtype={'hs': str, 'desc' : str})"
   ]
  },
  {
   "cell_type": "code",
   "execution_count": 11,
   "id": "steady-federal",
   "metadata": {},
   "outputs": [],
   "source": [
    "hts['clean'] = hts.desc.apply(lambda x : clean_sentence(x))\n",
    "hts = hts.rename({'hs' : 'label', 'clean' : 'text'}, axis=1)[['label', 'text']]"
   ]
  },
  {
   "cell_type": "code",
   "execution_count": 12,
   "id": "hollow-french",
   "metadata": {},
   "outputs": [
    {
     "data": {
      "text/html": [
       "<div>\n",
       "<style scoped>\n",
       "    .dataframe tbody tr th:only-of-type {\n",
       "        vertical-align: middle;\n",
       "    }\n",
       "\n",
       "    .dataframe tbody tr th {\n",
       "        vertical-align: top;\n",
       "    }\n",
       "\n",
       "    .dataframe thead th {\n",
       "        text-align: right;\n",
       "    }\n",
       "</style>\n",
       "<table border=\"1\" class=\"dataframe\">\n",
       "  <thead>\n",
       "    <tr style=\"text-align: right;\">\n",
       "      <th></th>\n",
       "      <th>label</th>\n",
       "      <th>text</th>\n",
       "    </tr>\n",
       "  </thead>\n",
       "  <tbody>\n",
       "    <tr>\n",
       "      <th>0</th>\n",
       "      <td>010121</td>\n",
       "      <td>live horses asses mules  hinnies horses purebr...</td>\n",
       "    </tr>\n",
       "  </tbody>\n",
       "</table>\n",
       "</div>"
      ],
      "text/plain": [
       "    label                                               text\n",
       "0  010121  live horses asses mules  hinnies horses purebr..."
      ]
     },
     "execution_count": 12,
     "metadata": {},
     "output_type": "execute_result"
    }
   ],
   "source": [
    "hts.head(1)"
   ]
  },
  {
   "cell_type": "markdown",
   "id": "higher-measure",
   "metadata": {},
   "source": [
    "# Read the NACIS->HTS examples, process\n"
   ]
  },
  {
   "cell_type": "code",
   "execution_count": 13,
   "id": "directed-suicide",
   "metadata": {},
   "outputs": [],
   "source": [
    "nacis = pd.read_csv(\"commodity_hts_extract.csv\", dtype={'hts6': str, 'description_long' : str})"
   ]
  },
  {
   "cell_type": "code",
   "execution_count": 14,
   "id": "postal-myanmar",
   "metadata": {},
   "outputs": [],
   "source": [
    "nacis['clean'] = nacis.description_long.apply(lambda x : clean_sentence(x))"
   ]
  },
  {
   "cell_type": "code",
   "execution_count": 15,
   "id": "cross-moderator",
   "metadata": {},
   "outputs": [],
   "source": [
    "nacis = nacis.rename({'hts6' : 'label', 'clean' : 'text'}, axis=1)[['label', 'text']]"
   ]
  },
  {
   "cell_type": "code",
   "execution_count": 16,
   "id": "operating-ebony",
   "metadata": {},
   "outputs": [
    {
     "data": {
      "text/html": [
       "<div>\n",
       "<style scoped>\n",
       "    .dataframe tbody tr th:only-of-type {\n",
       "        vertical-align: middle;\n",
       "    }\n",
       "\n",
       "    .dataframe tbody tr th {\n",
       "        vertical-align: top;\n",
       "    }\n",
       "\n",
       "    .dataframe thead th {\n",
       "        text-align: right;\n",
       "    }\n",
       "</style>\n",
       "<table border=\"1\" class=\"dataframe\">\n",
       "  <thead>\n",
       "    <tr style=\"text-align: right;\">\n",
       "      <th></th>\n",
       "      <th>label</th>\n",
       "      <th>text</th>\n",
       "    </tr>\n",
       "  </thead>\n",
       "  <tbody>\n",
       "    <tr>\n",
       "      <th>0</th>\n",
       "      <td>910211</td>\n",
       "      <td>batteries  wrist watches battery powered  mech...</td>\n",
       "    </tr>\n",
       "  </tbody>\n",
       "</table>\n",
       "</div>"
      ],
      "text/plain": [
       "    label                                               text\n",
       "0  910211  batteries  wrist watches battery powered  mech..."
      ]
     },
     "execution_count": 16,
     "metadata": {},
     "output_type": "execute_result"
    }
   ],
   "source": [
    "nacis.head(1)"
   ]
  },
  {
   "cell_type": "markdown",
   "id": "universal-architect",
   "metadata": {},
   "source": [
    "# Sample the full data, 4137 classes. Create a subset of 100 examples each per class. Save it off"
   ]
  },
  {
   "cell_type": "code",
   "execution_count": 17,
   "id": "occasional-blink",
   "metadata": {},
   "outputs": [
    {
     "name": "stdout",
     "output_type": "stream",
     "text": [
      "[########################################] | 100% Completed |  4.4s\n"
     ]
    },
    {
     "data": {
      "application/vnd.jupyter.widget-view+json": {
       "model_id": "6dc2f8179c3340249683513d14346e88",
       "version_major": 2,
       "version_minor": 0
      },
      "text/plain": [
       "  0%|          | 0/4137 [00:00<?, ?it/s]"
      ]
     },
     "metadata": {},
     "output_type": "display_data"
    },
    {
     "name": "stdout",
     "output_type": "stream",
     "text": [
      "[########################################] | 100% Completed |  4.3s\n"
     ]
    }
   ],
   "source": [
    "all_train_df = []\n",
    "all_valid_df = []\n",
    "count = 600\n",
    "recompute = False\n",
    "\n",
    "if not recompute :\n",
    "    with open('saved_v3/all_train_df_600.pkl', 'rb') as f: all_train_df = pickle.load(f)\n",
    "    with open('saved_v3/all_valid_df_600.pkl', 'rb') as f: all_valid_df = pickle.load(f)\n",
    "    pass\n",
    "\n",
    "\n",
    "for c in tqdm(all_labels) :\n",
    "    if (not recompute) : break\n",
    "    df = result[result.label == c]\n",
    "    df_sampled = df.sample(frac=min(count/len(df), 1))\n",
    "    df_hts = hts[hts.label == c]\n",
    "    df_nacis  = nacis[nacis.label == c]\n",
    "    \n",
    "    \n",
    "    train_df  = df_sampled.sample(frac=0.8)\n",
    "    valid_df = df_sampled.drop(train_df.index)\n",
    "\n",
    "    all_train_df.append(train_df)\n",
    "    all_train_df.append(df_hts)\n",
    "    all_train_df.append(df_nacis)\n",
    "    \n",
    "    all_valid_df.append(valid_df)\n",
    "\n",
    "train_df  = pd.concat(all_train_df)\n",
    "valid_df  = pd.concat(all_valid_df)\n",
    "\n",
    "if recompute :\n",
    "    with open('saved_v3/all_train_df_600.pkl', 'wb') as f: pickle.dump(all_train_df, f)\n",
    "    with open('saved_v3/all_valid_df_600.pkl', 'wb') as f: pickle.dump(all_valid_df, f)\n",
    "    pass"
   ]
  },
  {
   "cell_type": "code",
   "execution_count": 18,
   "id": "respiratory-chile",
   "metadata": {},
   "outputs": [
    {
     "name": "stdout",
     "output_type": "stream",
     "text": [
      "147306\n"
     ]
    },
    {
     "data": {
      "text/plain": [
       "False"
      ]
     },
     "execution_count": 18,
     "metadata": {},
     "output_type": "execute_result"
    }
   ],
   "source": [
    "from nltk.tokenize import word_tokenize\n",
    "from nltk.corpus import wordnet\n",
    "wn_lemmas = set(wordnet.words())\n",
    "print(len(wn_lemmas))\n",
    "'threadmill' in wn_lemmas"
   ]
  },
  {
   "cell_type": "code",
   "execution_count": 75,
   "id": "orange-prophet",
   "metadata": {},
   "outputs": [],
   "source": [
    "#import spacy\n",
    "\n",
    "# nlp = spacy.load('en_core_web_md')\n",
    "# list(nlp.vocab.strings)"
   ]
  },
  {
   "cell_type": "code",
   "execution_count": 60,
   "id": "ranking-sociology",
   "metadata": {},
   "outputs": [
    {
     "data": {
      "text/plain": [
       "['hello', 'cool']"
      ]
     },
     "execution_count": 60,
     "metadata": {},
     "output_type": "execute_result"
    }
   ],
   "source": [
    "[w for w in word_tokenize('Hello this is cool xxx1'.lower()) if w in wn_lemmas]"
   ]
  },
  {
   "cell_type": "code",
   "execution_count": 18,
   "id": "entitled-owner",
   "metadata": {},
   "outputs": [],
   "source": [
    "all_data_1 = pd.concat([train_df, valid_df])\n",
    "all_data_1['token_present'] = all_data_1.apply(lambda x : x)\n",
    "#nacis['clean'] = nacis.description_long.apply(lambda x : clean_sentence(x))"
   ]
  },
  {
   "cell_type": "code",
   "execution_count": 19,
   "id": "timely-closer",
   "metadata": {},
   "outputs": [
    {
     "data": {
      "text/plain": [
       "(286546, 1171158, 23.42316)"
      ]
     },
     "execution_count": 19,
     "metadata": {},
     "output_type": "execute_result"
    }
   ],
   "source": [
    "len(valid_df['text']), len(train_df['text']), len(train_df['text'])/50000"
   ]
  },
  {
   "cell_type": "markdown",
   "id": "south-divide",
   "metadata": {},
   "source": [
    "# Construct count vectorizer with HTS, NACIS keywords"
   ]
  },
  {
   "cell_type": "code",
   "execution_count": 20,
   "id": "considerable-buying",
   "metadata": {},
   "outputs": [
    {
     "data": {
      "text/plain": [
       "CountVectorizer(max_features=30000)"
      ]
     },
     "execution_count": 20,
     "metadata": {},
     "output_type": "execute_result"
    }
   ],
   "source": [
    "from sklearn.feature_extraction.text import CountVectorizer, TfidfVectorizer\n",
    "count_vector = CountVectorizer(max_features=30000)\n",
    "count_vector.fit(list(hts['text']) + list(nacis['text']))"
   ]
  },
  {
   "cell_type": "code",
   "execution_count": 21,
   "id": "funny-neighbor",
   "metadata": {},
   "outputs": [
    {
     "data": {
      "text/plain": [
       "(34707, 14588)"
      ]
     },
     "execution_count": 21,
     "metadata": {},
     "output_type": "execute_result"
    }
   ],
   "source": [
    "test = count_vector.transform(list(hts['text']) + list(nacis['text']))\n",
    "test.shape"
   ]
  },
  {
   "cell_type": "code",
   "execution_count": 22,
   "id": "intended-lewis",
   "metadata": {},
   "outputs": [
    {
     "data": {
      "text/plain": [
       "(1171158, 14588)"
      ]
     },
     "execution_count": 22,
     "metadata": {},
     "output_type": "execute_result"
    }
   ],
   "source": [
    "X_train_counts = count_vector.transform(list(train_df['text']))\n",
    "X_train_counts.shape"
   ]
  },
  {
   "cell_type": "code",
   "execution_count": 23,
   "id": "velvet-toner",
   "metadata": {},
   "outputs": [],
   "source": [
    "label_enc = LabelEncoder() \n",
    "label_enc.fit(result['label']) \n",
    "y_train = np.expand_dims(np.array(label_enc.transform(train_df['label'])), 1)"
   ]
  },
  {
   "cell_type": "code",
   "execution_count": 57,
   "id": "scenic-melbourne",
   "metadata": {},
   "outputs": [
    {
     "data": {
      "text/plain": [
       "((1171158, 14588), (1171158, 1))"
      ]
     },
     "execution_count": 57,
     "metadata": {},
     "output_type": "execute_result"
    }
   ],
   "source": [
    "X_train_counts.shape, y_train.shape"
   ]
  },
  {
   "cell_type": "code",
   "execution_count": 58,
   "id": "authorized-limitation",
   "metadata": {},
   "outputs": [],
   "source": [
    "#pickle.dump(count_vector, open(\"saved_v3/count_vector.pickle\", \"wb\"))"
   ]
  },
  {
   "cell_type": "markdown",
   "id": "prerequisite-cigarette",
   "metadata": {},
   "source": [
    "# Batch logic for GBT\n"
   ]
  },
  {
   "cell_type": "code",
   "execution_count": 59,
   "id": "pointed-stress",
   "metadata": {},
   "outputs": [],
   "source": [
    "def batch(csr, y, rows, random_row_array, n=1):\n",
    "    l = len(rows)\n",
    "    for ndx in range(0, l, n):\n",
    "        yield (csr[random_row_array[ndx:min(ndx + n, l)]].todense(), \n",
    "               y[random_row_array[ndx:min(ndx + n, l)]])"
   ]
  },
  {
   "cell_type": "markdown",
   "id": "blessed-stationery",
   "metadata": {},
   "source": [
    "# Enable batching"
   ]
  },
  {
   "cell_type": "code",
   "execution_count": 60,
   "id": "collect-ocean",
   "metadata": {},
   "outputs": [],
   "source": [
    "from datetime import datetime\n",
    "from pytz import timezone, utc\n",
    "\n",
    "def get_pst_time():\n",
    "    date_format='%m/%d/%Y %H:%M:%S:%Z'\n",
    "    date = datetime.now(tz=utc)\n",
    "    date = date.astimezone(timezone('US/Pacific'))\n",
    "    pstDateTime=date.strftime(date_format)\n",
    "    return pstDateTime"
   ]
  },
  {
   "cell_type": "code",
   "execution_count": 61,
   "id": "funded-milton",
   "metadata": {},
   "outputs": [],
   "source": [
    "class make_model():\n",
    "    def __init__(self, param, lr, num_round = 5, batch_size=1000):\n",
    "        self.param     = param\n",
    "        self.num_round = num_round\n",
    "        self.batch_size = batch_size\n",
    "        self.lr = lr\n",
    "        \n",
    "    def fit(self, csr, y_val):\n",
    "        iteration = 0\n",
    "        print(\"Will run for {} rounds\".format(self.num_round))\n",
    "        for n_round in range(0, self.num_round):     \n",
    "            random_row_array = np.random.choice(np.arange(csr.shape[0]), csr.shape[0], replace=False)\n",
    "            rows = range(0, csr.shape[0])\n",
    "            with tqdm(total=int(len(rows)/self.batch_size)) as progress_bar:\n",
    "                for x,y in batch(csr, y_val, rows, random_row_array, self.batch_size):\n",
    "                    dtrain = xgb.DMatrix(x, y)\n",
    "                    watchlist = [(dtrain,'train')]\n",
    "\n",
    "                    if iteration == 0 : model = xgb.Booster(self.param, [dtrain])\n",
    "                    \n",
    "                    self.param['eta'] = self.lr[iteration]\n",
    "                    print('{} : Round = {}, Iteration = {}, lr = {}'.format(get_pst_time(), n_round, iteration, self.lr[iteration]))\n",
    "                    \n",
    "                    model = xgb.train(self.param, dtrain, num_boost_round=1, xgb_model=model, evals=watchlist)\n",
    "                    iteration = iteration + 1\n",
    "                    progress_bar.update(1)\n",
    "            \n",
    "            name = 'saved_v3/xgb_model_{}'.format(n_round)\n",
    "            print(\"saving model: \", name)\n",
    "            model.save_model(name)\n",
    "                \n",
    "        self.model  = model"
   ]
  },
  {
   "cell_type": "markdown",
   "id": "expressed-plaintiff",
   "metadata": {},
   "source": [
    "# Carefully adjust Learning rate for each iteration so that training converges (else it won't work)"
   ]
  },
  {
   "cell_type": "code",
   "execution_count": 62,
   "id": "gross-nature",
   "metadata": {},
   "outputs": [
    {
     "name": "stdout",
     "output_type": "stream",
     "text": [
      "[########################################] | 100% Completed |  4.8s\n"
     ]
    }
   ],
   "source": [
    "#lr =  [0.3]*100 + [0.1] * 20 + [0.05]*100 \n",
    "lr =  [0.45]*24*1 + [0.3]*24*1 + [0.2] * 23 * 2 + [0.1] * 23 * 4 +  [0.05]* 10 * 100\n",
    "\n",
    "parameters = {'max_depth':5, 'objective':'multi:softprob', 'subsample':0.8, \n",
    "            'colsample_bytree':0.8, 'eta': 0.3, 'min_child_weight':0.1,\n",
    "            'tree_method':'gpu_hist', 'gpu_id': 0, 'num_class' : len(all_labels)\n",
    "            }\n",
    "\n",
    "model = make_model(parameters, lr, num_round=8, batch_size=50000) \n",
    "#model.fit(X_train_counts, y_train)"
   ]
  },
  {
   "cell_type": "markdown",
   "id": "bound-criterion",
   "metadata": {},
   "source": [
    "# Load the saved, trained model for further experiments¶\n"
   ]
  },
  {
   "cell_type": "code",
   "execution_count": 63,
   "id": "expanded-penguin",
   "metadata": {},
   "outputs": [],
   "source": [
    "model.model = xgb.Booster(model_file='saved_v3/xgb_model_7')"
   ]
  },
  {
   "cell_type": "markdown",
   "id": "nutritional-column",
   "metadata": {},
   "source": [
    "# Do prediction in batches, else it will crash with out of memory errors (OOM)"
   ]
  },
  {
   "cell_type": "code",
   "execution_count": 31,
   "id": "driven-wesley",
   "metadata": {},
   "outputs": [
    {
     "data": {
      "application/vnd.jupyter.widget-view+json": {
       "model_id": "20d75e4f2ab246a180ff3f94b4c782ba",
       "version_major": 2,
       "version_minor": 0
      },
      "text/plain": [
       "  0%|          | 0/286546 [00:00<?, ?it/s]"
      ]
     },
     "metadata": {},
     "output_type": "display_data"
    }
   ],
   "source": [
    "def batch(lst, n=1):\n",
    "    l = len(lst)\n",
    "    for ndx in range(0, l, n):\n",
    "        yield lst[ndx:min(ndx + n, l)]\n",
    "\n",
    "def do_predict_batch(input):\n",
    "    first  = []\n",
    "    second = []\n",
    "    third  = []\n",
    "    fourth = []\n",
    "    fifth  = []\n",
    "    \n",
    "    with tqdm(total=len(valid_df['text'])) as progress_bar:\n",
    "        for x in batch(input, 2000):\n",
    "            tmp_valid_counts = count_vector.transform(x)\n",
    "            tmp_predict_da = model.model.predict(xgb.DMatrix(tmp_valid_counts.todense()))\n",
    "            sorted_idx = np.argsort(-tmp_predict_da)\n",
    "            first = first + list(label_enc.inverse_transform(list(sorted_idx[:,0])))\n",
    "            second = second + list(label_enc.inverse_transform(list(sorted_idx[:,1])))\n",
    "            third = third + list(label_enc.inverse_transform(list(sorted_idx[:,2])))\n",
    "            fourth = fourth + list(label_enc.inverse_transform(list(sorted_idx[:,3])))\n",
    "            fifth = fifth + list(label_enc.inverse_transform(list(sorted_idx[:,4])))\n",
    "            progress_bar.update(2000)\n",
    "        return first, second, third, fourth, fifth\n",
    "\n",
    "y1, y2, y3, y4, y5 = do_predict_batch(list(valid_df['text']))"
   ]
  },
  {
   "cell_type": "markdown",
   "id": "tough-facility",
   "metadata": {},
   "source": [
    "# Calculate accuracy for top 5 classes (For the big model)\n"
   ]
  },
  {
   "cell_type": "code",
   "execution_count": 32,
   "id": "essential-rates",
   "metadata": {},
   "outputs": [
    {
     "name": "stdout",
     "output_type": "stream",
     "text": [
      "Accuracy: 0.5924040119212971 0.09369874295924564 0.03737619788794818 0.022317533659517146 0.015205237553481814\n",
      "Total: 0.7610017239814899\n"
     ]
    }
   ],
   "source": [
    "from sklearn.metrics import confusion_matrix, f1_score, precision_score, recall_score, plot_confusion_matrix, accuracy_score\n",
    "\n",
    "a1 = accuracy_score(list(valid_df['label']), y1)\n",
    "a2 = accuracy_score(list(valid_df['label']), y2)\n",
    "a3 = accuracy_score(list(valid_df['label']), y3)\n",
    "a4 = accuracy_score(list(valid_df['label']), y4)\n",
    "a5 = accuracy_score(list(valid_df['label']), y5)\n",
    "\n",
    "print('Accuracy:', a1, a2, a3, a4, a5)\n",
    "print('Total:', a1+a2+a3+a4+a5)"
   ]
  },
  {
   "cell_type": "markdown",
   "id": "played-diana",
   "metadata": {},
   "source": [
    "# Lookup number of classes per chapter and generate masks for each chapter\n",
    "**Masks are used to mask off probablity from other chapters, while computing per chapter accuracy**"
   ]
  },
  {
   "cell_type": "code",
   "execution_count": 199,
   "id": "insured-edgar",
   "metadata": {},
   "outputs": [
    {
     "data": {
      "text/html": [
       "<div>\n",
       "<style scoped>\n",
       "    .dataframe tbody tr th:only-of-type {\n",
       "        vertical-align: middle;\n",
       "    }\n",
       "\n",
       "    .dataframe tbody tr th {\n",
       "        vertical-align: top;\n",
       "    }\n",
       "\n",
       "    .dataframe thead th {\n",
       "        text-align: right;\n",
       "    }\n",
       "</style>\n",
       "<table border=\"1\" class=\"dataframe\">\n",
       "  <thead>\n",
       "    <tr style=\"text-align: right;\">\n",
       "      <th></th>\n",
       "      <th>Index</th>\n",
       "      <th>chapter</th>\n",
       "      <th>label</th>\n",
       "      <th>mask</th>\n",
       "    </tr>\n",
       "  </thead>\n",
       "  <tbody>\n",
       "    <tr>\n",
       "      <th>0</th>\n",
       "      <td>0</td>\n",
       "      <td>09</td>\n",
       "      <td>090111</td>\n",
       "      <td>[1, 1, 1, 1, 1, 1, 1, 1, 1, 1, 1, 1, 1, 1, 1, ...</td>\n",
       "    </tr>\n",
       "    <tr>\n",
       "      <th>1</th>\n",
       "      <td>1</td>\n",
       "      <td>09</td>\n",
       "      <td>090112</td>\n",
       "      <td>[1, 1, 1, 1, 1, 1, 1, 1, 1, 1, 1, 1, 1, 1, 1, ...</td>\n",
       "    </tr>\n",
       "    <tr>\n",
       "      <th>2</th>\n",
       "      <td>2</td>\n",
       "      <td>09</td>\n",
       "      <td>090121</td>\n",
       "      <td>[1, 1, 1, 1, 1, 1, 1, 1, 1, 1, 1, 1, 1, 1, 1, ...</td>\n",
       "    </tr>\n",
       "    <tr>\n",
       "      <th>3</th>\n",
       "      <td>3</td>\n",
       "      <td>09</td>\n",
       "      <td>090122</td>\n",
       "      <td>[1, 1, 1, 1, 1, 1, 1, 1, 1, 1, 1, 1, 1, 1, 1, ...</td>\n",
       "    </tr>\n",
       "    <tr>\n",
       "      <th>4</th>\n",
       "      <td>4</td>\n",
       "      <td>09</td>\n",
       "      <td>090190</td>\n",
       "      <td>[1, 1, 1, 1, 1, 1, 1, 1, 1, 1, 1, 1, 1, 1, 1, ...</td>\n",
       "    </tr>\n",
       "  </tbody>\n",
       "</table>\n",
       "</div>"
      ],
      "text/plain": [
       "   Index chapter   label                                               mask\n",
       "0      0      09  090111  [1, 1, 1, 1, 1, 1, 1, 1, 1, 1, 1, 1, 1, 1, 1, ...\n",
       "1      1      09  090112  [1, 1, 1, 1, 1, 1, 1, 1, 1, 1, 1, 1, 1, 1, 1, ...\n",
       "2      2      09  090121  [1, 1, 1, 1, 1, 1, 1, 1, 1, 1, 1, 1, 1, 1, 1, ...\n",
       "3      3      09  090122  [1, 1, 1, 1, 1, 1, 1, 1, 1, 1, 1, 1, 1, 1, 1, ...\n",
       "4      4      09  090190  [1, 1, 1, 1, 1, 1, 1, 1, 1, 1, 1, 1, 1, 1, 1, ..."
      ]
     },
     "execution_count": 199,
     "metadata": {},
     "output_type": "execute_result"
    }
   ],
   "source": [
    "lookup = []\n",
    "all_class_list = list(label_enc.classes_)\n",
    "for i, l in enumerate(all_class_list) :\n",
    "    lookup.append({ 'Index': i, 'chapter' : \"\".join(list(l)[:2]), 'label' : l})\n",
    "    \n",
    "grouped_lookup = pd.DataFrame(lookup)\n",
    "\n",
    "grouped_lookup.groupby(['chapter'])\n",
    "\n",
    "lookup_with_mask = {}\n",
    "for c, df in grouped_lookup.groupby(['chapter']) :\n",
    "    mask = np.array([0] * len(all_class_list)) \n",
    "    index_list = list(df.Index.unique())\n",
    "    mask[index_list] = 1\n",
    "    lookup_with_mask[c] = mask\n",
    "        \n",
    "lookup_with_mask\n",
    "\n",
    "grouped_lookup['mask'] = grouped_lookup.chapter.apply(lambda x : lookup_with_mask[x])\n",
    "\n",
    "\n",
    "# Give label as key, give the mask back\n",
    "label_2_mask    = { l: m for l, m in zip(list(grouped_lookup['label']), list(grouped_lookup['mask']))}\n",
    "\n",
    "# Give the label as key, get the corresponding chapter back\n",
    "label_2_chapter = { l: m for l, m in zip(list(grouped_lookup['label']), list(grouped_lookup['chapter']))}\n",
    "\n",
    "grouped_lookup.head()"
   ]
  },
  {
   "cell_type": "markdown",
   "id": "first-threshold",
   "metadata": {},
   "source": [
    "# Find out number of classes available per chapter. "
   ]
  },
  {
   "cell_type": "code",
   "execution_count": 200,
   "id": "elect-quantum",
   "metadata": {},
   "outputs": [],
   "source": [
    "# Give chapter as key, give number of classes in that chapter back\n",
    "per_chapter_labels_ser = grouped_lookup.groupby(['chapter']).count()\n",
    "per_chapter_labels = { l: c for l, c in zip(list(per_chapter_labels_ser.index), list(list(per_chapter_labels_ser['mask'])))}"
   ]
  },
  {
   "cell_type": "markdown",
   "id": "fundamental-offering",
   "metadata": {},
   "source": [
    "# Do the predictions.\n",
    "\n",
    "* While computing prediction for a class from a chapter, mask off probablity from other chapters by setting them to zero before argmax\n",
    "* Stack the masks per batch to make dimentions right\n",
    "* Element multiply with original probablity array"
   ]
  },
  {
   "cell_type": "code",
   "execution_count": 116,
   "id": "vital-baptist",
   "metadata": {},
   "outputs": [
    {
     "data": {
      "application/vnd.jupyter.widget-view+json": {
       "model_id": "17abe879c4544b53a4f0f00348559748",
       "version_major": 2,
       "version_minor": 0
      },
      "text/plain": [
       "  0%|          | 0/286546 [00:00<?, ?it/s]"
      ]
     },
     "metadata": {},
     "output_type": "display_data"
    }
   ],
   "source": [
    "def batch_1(lst, labels, n=1):\n",
    "    l = len(lst)\n",
    "    for ndx in range(0, l, n):\n",
    "        yield (lst[ndx:min(ndx + n, l)], labels[ndx:min(ndx + n, l)])\n",
    "\n",
    "def do_predict_batch(data, labels):\n",
    "    first  = []\n",
    "    second = []\n",
    "    third  = []\n",
    "    fourth = []\n",
    "    fifth  = []\n",
    "    \n",
    "    with tqdm(total=len(valid_df['text'])) as progress_bar:\n",
    "        for x, labels in batch_1(data, labels, 1000):\n",
    "            tmp_valid_counts = count_vector.transform(x)\n",
    "            \n",
    "            raw_pred = model.model.predict(xgb.DMatrix(tmp_valid_counts.todense()))\n",
    "            \n",
    "            # Mask the probablities from other chapters.\n",
    "            masks = map(lambda x : label_2_mask[x], labels)\n",
    "            full_mask = np.vstack(list(masks))\n",
    "            \n",
    "            tmp_predict_da = np.multiply(full_mask, raw_pred)\n",
    "\n",
    "            \n",
    "            sorted_idx = np.argsort(-tmp_predict_da)\n",
    "            first = first + list(label_enc.inverse_transform(list(sorted_idx[:,0])))\n",
    "            second = second + list(label_enc.inverse_transform(list(sorted_idx[:,1])))\n",
    "            third = third + list(label_enc.inverse_transform(list(sorted_idx[:,2])))\n",
    "            fourth = fourth + list(label_enc.inverse_transform(list(sorted_idx[:,3])))\n",
    "            fifth = fifth + list(label_enc.inverse_transform(list(sorted_idx[:,4])))\n",
    "            progress_bar.update(1000)\n",
    "        return first, second, third, fourth, fifth\n",
    "\n",
    "y1, y2, y3, y4, y5 = do_predict_batch(list(valid_df['text']), list(valid_df['label']))"
   ]
  },
  {
   "cell_type": "markdown",
   "id": "polar-parker",
   "metadata": {},
   "source": [
    "# Set the predictions and labels into a single dataframe\n",
    "\n",
    "* Save the dataframe into a pickle as compute is expensive interms of time"
   ]
  },
  {
   "cell_type": "code",
   "execution_count": 119,
   "id": "sitting-induction",
   "metadata": {},
   "outputs": [],
   "source": [
    "final_df = pd.DataFrame(list(zip(list(valid_df['label']), y1, y2, y3, y4, y5)), \n",
    "               columns =['label', 'first', 'second', 'third', 'fourth', 'fifth']) "
   ]
  },
  {
   "cell_type": "code",
   "execution_count": 125,
   "id": "future-campus",
   "metadata": {},
   "outputs": [
    {
     "data": {
      "text/plain": [
       "(286546, 6)"
      ]
     },
     "execution_count": 125,
     "metadata": {},
     "output_type": "execute_result"
    }
   ],
   "source": [
    "#final_df.to_pickle(\"./final_df.pkl\")\n",
    "final_df = pd.read_pickle(\"./final_df.pkl\")\n",
    "final_df.shape"
   ]
  },
  {
   "cell_type": "code",
   "execution_count": 202,
   "id": "twenty-valley",
   "metadata": {},
   "outputs": [
    {
     "data": {
      "text/html": [
       "<div>\n",
       "<style scoped>\n",
       "    .dataframe tbody tr th:only-of-type {\n",
       "        vertical-align: middle;\n",
       "    }\n",
       "\n",
       "    .dataframe tbody tr th {\n",
       "        vertical-align: top;\n",
       "    }\n",
       "\n",
       "    .dataframe thead th {\n",
       "        text-align: right;\n",
       "    }\n",
       "</style>\n",
       "<table border=\"1\" class=\"dataframe\">\n",
       "  <thead>\n",
       "    <tr style=\"text-align: right;\">\n",
       "      <th></th>\n",
       "      <th>label</th>\n",
       "      <th>first</th>\n",
       "      <th>second</th>\n",
       "      <th>third</th>\n",
       "      <th>fourth</th>\n",
       "      <th>fifth</th>\n",
       "      <th>chapter</th>\n",
       "    </tr>\n",
       "  </thead>\n",
       "  <tbody>\n",
       "    <tr>\n",
       "      <th>0</th>\n",
       "      <td>090111</td>\n",
       "      <td>090111</td>\n",
       "      <td>090122</td>\n",
       "      <td>090190</td>\n",
       "      <td>090112</td>\n",
       "      <td>090121</td>\n",
       "      <td>09</td>\n",
       "    </tr>\n",
       "    <tr>\n",
       "      <th>1</th>\n",
       "      <td>090111</td>\n",
       "      <td>090111</td>\n",
       "      <td>090122</td>\n",
       "      <td>090190</td>\n",
       "      <td>090112</td>\n",
       "      <td>090220</td>\n",
       "      <td>09</td>\n",
       "    </tr>\n",
       "    <tr>\n",
       "      <th>2</th>\n",
       "      <td>090111</td>\n",
       "      <td>090190</td>\n",
       "      <td>090121</td>\n",
       "      <td>090111</td>\n",
       "      <td>090122</td>\n",
       "      <td>090112</td>\n",
       "      <td>09</td>\n",
       "    </tr>\n",
       "    <tr>\n",
       "      <th>3</th>\n",
       "      <td>090111</td>\n",
       "      <td>090111</td>\n",
       "      <td>090190</td>\n",
       "      <td>090121</td>\n",
       "      <td>090112</td>\n",
       "      <td>090620</td>\n",
       "      <td>09</td>\n",
       "    </tr>\n",
       "    <tr>\n",
       "      <th>4</th>\n",
       "      <td>090111</td>\n",
       "      <td>090111</td>\n",
       "      <td>090122</td>\n",
       "      <td>090190</td>\n",
       "      <td>090121</td>\n",
       "      <td>090812</td>\n",
       "      <td>09</td>\n",
       "    </tr>\n",
       "  </tbody>\n",
       "</table>\n",
       "</div>"
      ],
      "text/plain": [
       "    label   first  second   third  fourth   fifth chapter\n",
       "0  090111  090111  090122  090190  090112  090121      09\n",
       "1  090111  090111  090122  090190  090112  090220      09\n",
       "2  090111  090190  090121  090111  090122  090112      09\n",
       "3  090111  090111  090190  090121  090112  090620      09\n",
       "4  090111  090111  090122  090190  090121  090812      09"
      ]
     },
     "execution_count": 202,
     "metadata": {},
     "output_type": "execute_result"
    }
   ],
   "source": [
    "# Add chapter name\n",
    "final_df['chapter'] = final_df.label.apply(lambda x : label_2_chapter[x])\n",
    "final_df.head()"
   ]
  },
  {
   "cell_type": "markdown",
   "id": "decreased-comfort",
   "metadata": {},
   "source": [
    "# Compute the per chapter accuracy and display as dataframe\n",
    "\n",
    "* Use group by per chapter to compute chapter specific accuracy"
   ]
  },
  {
   "cell_type": "code",
   "execution_count": 157,
   "id": "equal-parcel",
   "metadata": {},
   "outputs": [],
   "source": [
    "from sklearn.metrics import confusion_matrix, f1_score, precision_score, recall_score, plot_confusion_matrix, accuracy_score\n",
    "\n",
    "\n",
    "def calculate_accuracy(x) :\n",
    "    y1 = accuracy_score(list(x['label']), x['first'])\n",
    "    y2 = accuracy_score(list(x['label']), x['second'])\n",
    "    y3 = accuracy_score(list(x['label']), x['third'])\n",
    "    y4 = accuracy_score(list(x['label']), x['fourth'])\n",
    "    y5 = accuracy_score(list(x['label']), x['fifth'])\n",
    "    y_total = y1 + y2 + y3 + y4 + y5 \n",
    "    return y1, y2, y3, y4, y5, y_total\n",
    "\n",
    "k = final_df.groupby(['chapter']).apply(lambda x : calculate_accuracy(x))"
   ]
  },
  {
   "cell_type": "code",
   "execution_count": 197,
   "id": "homeless-denmark",
   "metadata": {},
   "outputs": [],
   "source": [
    "per_chapter_df = (pd.DataFrame(k.values.tolist(), index=k.index)\n",
    "                    .reset_index(level=0)\n",
    "                    .rename({0 : 'first', 1 : 'second', 2 : 'third', 3 : 'forth', 4 : 'fifth', 5 : 'total'}, axis=1)\n",
    "                 )\n",
    "per_chapter_df['class per chapter']  = per_chapter_df.chapter.apply(lambda x : per_chapter_labels[x])"
   ]
  },
  {
   "cell_type": "code",
   "execution_count": 230,
   "id": "entertaining-sucking",
   "metadata": {},
   "outputs": [
    {
     "data": {
      "text/html": [
       "<style  type=\"text/css\" >\n",
       "#T_5bb7c23e_81f0_11eb_b24f_0242ac110004row5_col7,#T_5bb7c23e_81f0_11eb_b24f_0242ac110004row55_col7{\n",
       "            background-color:  yellow;\n",
       "        }</style><table id=\"T_5bb7c23e_81f0_11eb_b24f_0242ac110004\" ><thead>    <tr>        <th class=\"blank level0\" ></th>        <th class=\"col_heading level0 col0\" >chapter</th>        <th class=\"col_heading level0 col1\" >first</th>        <th class=\"col_heading level0 col2\" >second</th>        <th class=\"col_heading level0 col3\" >third</th>        <th class=\"col_heading level0 col4\" >forth</th>        <th class=\"col_heading level0 col5\" >fifth</th>        <th class=\"col_heading level0 col6\" >total</th>        <th class=\"col_heading level0 col7\" >class per chapter</th>    </tr></thead><tbody>\n",
       "                <tr>\n",
       "                        <th id=\"T_5bb7c23e_81f0_11eb_b24f_0242ac110004level0_row0\" class=\"row_heading level0 row0\" >0</th>\n",
       "                        <td id=\"T_5bb7c23e_81f0_11eb_b24f_0242ac110004row0_col0\" class=\"data row0 col0\" >09</td>\n",
       "                        <td id=\"T_5bb7c23e_81f0_11eb_b24f_0242ac110004row0_col1\" class=\"data row0 col1\" >0.784533</td>\n",
       "                        <td id=\"T_5bb7c23e_81f0_11eb_b24f_0242ac110004row0_col2\" class=\"data row0 col2\" >0.095947</td>\n",
       "                        <td id=\"T_5bb7c23e_81f0_11eb_b24f_0242ac110004row0_col3\" class=\"data row0 col3\" >0.035980</td>\n",
       "                        <td id=\"T_5bb7c23e_81f0_11eb_b24f_0242ac110004row0_col4\" class=\"data row0 col4\" >0.023160</td>\n",
       "                        <td id=\"T_5bb7c23e_81f0_11eb_b24f_0242ac110004row0_col5\" class=\"data row0 col5\" >0.008685</td>\n",
       "                        <td id=\"T_5bb7c23e_81f0_11eb_b24f_0242ac110004row0_col6\" class=\"data row0 col6\" >0.948304</td>\n",
       "                        <td id=\"T_5bb7c23e_81f0_11eb_b24f_0242ac110004row0_col7\" class=\"data row0 col7\" >39</td>\n",
       "            </tr>\n",
       "            <tr>\n",
       "                        <th id=\"T_5bb7c23e_81f0_11eb_b24f_0242ac110004level0_row1\" class=\"row_heading level0 row1\" >1</th>\n",
       "                        <td id=\"T_5bb7c23e_81f0_11eb_b24f_0242ac110004row1_col0\" class=\"data row1 col0\" >10</td>\n",
       "                        <td id=\"T_5bb7c23e_81f0_11eb_b24f_0242ac110004row1_col1\" class=\"data row1 col1\" >0.912639</td>\n",
       "                        <td id=\"T_5bb7c23e_81f0_11eb_b24f_0242ac110004row1_col2\" class=\"data row1 col2\" >0.048327</td>\n",
       "                        <td id=\"T_5bb7c23e_81f0_11eb_b24f_0242ac110004row1_col3\" class=\"data row1 col3\" >0.011152</td>\n",
       "                        <td id=\"T_5bb7c23e_81f0_11eb_b24f_0242ac110004row1_col4\" class=\"data row1 col4\" >0.004647</td>\n",
       "                        <td id=\"T_5bb7c23e_81f0_11eb_b24f_0242ac110004row1_col5\" class=\"data row1 col5\" >0.003717</td>\n",
       "                        <td id=\"T_5bb7c23e_81f0_11eb_b24f_0242ac110004row1_col6\" class=\"data row1 col6\" >0.980483</td>\n",
       "                        <td id=\"T_5bb7c23e_81f0_11eb_b24f_0242ac110004row1_col7\" class=\"data row1 col7\" >23</td>\n",
       "            </tr>\n",
       "            <tr>\n",
       "                        <th id=\"T_5bb7c23e_81f0_11eb_b24f_0242ac110004level0_row2\" class=\"row_heading level0 row2\" >2</th>\n",
       "                        <td id=\"T_5bb7c23e_81f0_11eb_b24f_0242ac110004row2_col0\" class=\"data row2 col0\" >11</td>\n",
       "                        <td id=\"T_5bb7c23e_81f0_11eb_b24f_0242ac110004row2_col1\" class=\"data row2 col1\" >0.831361</td>\n",
       "                        <td id=\"T_5bb7c23e_81f0_11eb_b24f_0242ac110004row2_col2\" class=\"data row2 col2\" >0.068047</td>\n",
       "                        <td id=\"T_5bb7c23e_81f0_11eb_b24f_0242ac110004row2_col3\" class=\"data row2 col3\" >0.023669</td>\n",
       "                        <td id=\"T_5bb7c23e_81f0_11eb_b24f_0242ac110004row2_col4\" class=\"data row2 col4\" >0.010355</td>\n",
       "                        <td id=\"T_5bb7c23e_81f0_11eb_b24f_0242ac110004row2_col5\" class=\"data row2 col5\" >0.005424</td>\n",
       "                        <td id=\"T_5bb7c23e_81f0_11eb_b24f_0242ac110004row2_col6\" class=\"data row2 col6\" >0.938856</td>\n",
       "                        <td id=\"T_5bb7c23e_81f0_11eb_b24f_0242ac110004row2_col7\" class=\"data row2 col7\" >27</td>\n",
       "            </tr>\n",
       "            <tr>\n",
       "                        <th id=\"T_5bb7c23e_81f0_11eb_b24f_0242ac110004level0_row3\" class=\"row_heading level0 row3\" >3</th>\n",
       "                        <td id=\"T_5bb7c23e_81f0_11eb_b24f_0242ac110004row3_col0\" class=\"data row3 col0\" >12</td>\n",
       "                        <td id=\"T_5bb7c23e_81f0_11eb_b24f_0242ac110004row3_col1\" class=\"data row3 col1\" >0.836148</td>\n",
       "                        <td id=\"T_5bb7c23e_81f0_11eb_b24f_0242ac110004row3_col2\" class=\"data row3 col2\" >0.063441</td>\n",
       "                        <td id=\"T_5bb7c23e_81f0_11eb_b24f_0242ac110004row3_col3\" class=\"data row3 col3\" >0.024190</td>\n",
       "                        <td id=\"T_5bb7c23e_81f0_11eb_b24f_0242ac110004row3_col4\" class=\"data row3 col4\" >0.010497</td>\n",
       "                        <td id=\"T_5bb7c23e_81f0_11eb_b24f_0242ac110004row3_col5\" class=\"data row3 col5\" >0.007303</td>\n",
       "                        <td id=\"T_5bb7c23e_81f0_11eb_b24f_0242ac110004row3_col6\" class=\"data row3 col6\" >0.941579</td>\n",
       "                        <td id=\"T_5bb7c23e_81f0_11eb_b24f_0242ac110004row3_col7\" class=\"data row3 col7\" >47</td>\n",
       "            </tr>\n",
       "            <tr>\n",
       "                        <th id=\"T_5bb7c23e_81f0_11eb_b24f_0242ac110004level0_row4\" class=\"row_heading level0 row4\" >4</th>\n",
       "                        <td id=\"T_5bb7c23e_81f0_11eb_b24f_0242ac110004row4_col0\" class=\"data row4 col0\" >13</td>\n",
       "                        <td id=\"T_5bb7c23e_81f0_11eb_b24f_0242ac110004row4_col1\" class=\"data row4 col1\" >0.844221</td>\n",
       "                        <td id=\"T_5bb7c23e_81f0_11eb_b24f_0242ac110004row4_col2\" class=\"data row4 col2\" >0.072027</td>\n",
       "                        <td id=\"T_5bb7c23e_81f0_11eb_b24f_0242ac110004row4_col3\" class=\"data row4 col3\" >0.030151</td>\n",
       "                        <td id=\"T_5bb7c23e_81f0_11eb_b24f_0242ac110004row4_col4\" class=\"data row4 col4\" >0.025126</td>\n",
       "                        <td id=\"T_5bb7c23e_81f0_11eb_b24f_0242ac110004row4_col5\" class=\"data row4 col5\" >0.011725</td>\n",
       "                        <td id=\"T_5bb7c23e_81f0_11eb_b24f_0242ac110004row4_col6\" class=\"data row4 col6\" >0.983250</td>\n",
       "                        <td id=\"T_5bb7c23e_81f0_11eb_b24f_0242ac110004row4_col7\" class=\"data row4 col7\" >11</td>\n",
       "            </tr>\n",
       "            <tr>\n",
       "                        <th id=\"T_5bb7c23e_81f0_11eb_b24f_0242ac110004level0_row5\" class=\"row_heading level0 row5\" >5</th>\n",
       "                        <td id=\"T_5bb7c23e_81f0_11eb_b24f_0242ac110004row5_col0\" class=\"data row5 col0\" >14</td>\n",
       "                        <td id=\"T_5bb7c23e_81f0_11eb_b24f_0242ac110004row5_col1\" class=\"data row5 col1\" >0.922857</td>\n",
       "                        <td id=\"T_5bb7c23e_81f0_11eb_b24f_0242ac110004row5_col2\" class=\"data row5 col2\" >0.042857</td>\n",
       "                        <td id=\"T_5bb7c23e_81f0_11eb_b24f_0242ac110004row5_col3\" class=\"data row5 col3\" >0.031429</td>\n",
       "                        <td id=\"T_5bb7c23e_81f0_11eb_b24f_0242ac110004row5_col4\" class=\"data row5 col4\" >0.000000</td>\n",
       "                        <td id=\"T_5bb7c23e_81f0_11eb_b24f_0242ac110004row5_col5\" class=\"data row5 col5\" >0.002857</td>\n",
       "                        <td id=\"T_5bb7c23e_81f0_11eb_b24f_0242ac110004row5_col6\" class=\"data row5 col6\" >1.000000</td>\n",
       "                        <td id=\"T_5bb7c23e_81f0_11eb_b24f_0242ac110004row5_col7\" class=\"data row5 col7\" >5</td>\n",
       "            </tr>\n",
       "            <tr>\n",
       "                        <th id=\"T_5bb7c23e_81f0_11eb_b24f_0242ac110004level0_row6\" class=\"row_heading level0 row6\" >6</th>\n",
       "                        <td id=\"T_5bb7c23e_81f0_11eb_b24f_0242ac110004row6_col0\" class=\"data row6 col0\" >15</td>\n",
       "                        <td id=\"T_5bb7c23e_81f0_11eb_b24f_0242ac110004row6_col1\" class=\"data row6 col1\" >0.849427</td>\n",
       "                        <td id=\"T_5bb7c23e_81f0_11eb_b24f_0242ac110004row6_col2\" class=\"data row6 col2\" >0.047872</td>\n",
       "                        <td id=\"T_5bb7c23e_81f0_11eb_b24f_0242ac110004row6_col3\" class=\"data row6 col3\" >0.018412</td>\n",
       "                        <td id=\"T_5bb7c23e_81f0_11eb_b24f_0242ac110004row6_col4\" class=\"data row6 col4\" >0.011457</td>\n",
       "                        <td id=\"T_5bb7c23e_81f0_11eb_b24f_0242ac110004row6_col5\" class=\"data row6 col5\" >0.009002</td>\n",
       "                        <td id=\"T_5bb7c23e_81f0_11eb_b24f_0242ac110004row6_col6\" class=\"data row6 col6\" >0.936170</td>\n",
       "                        <td id=\"T_5bb7c23e_81f0_11eb_b24f_0242ac110004row6_col7\" class=\"data row6 col7\" >48</td>\n",
       "            </tr>\n",
       "            <tr>\n",
       "                        <th id=\"T_5bb7c23e_81f0_11eb_b24f_0242ac110004level0_row7\" class=\"row_heading level0 row7\" >7</th>\n",
       "                        <td id=\"T_5bb7c23e_81f0_11eb_b24f_0242ac110004row7_col0\" class=\"data row7 col0\" >16</td>\n",
       "                        <td id=\"T_5bb7c23e_81f0_11eb_b24f_0242ac110004row7_col1\" class=\"data row7 col1\" >0.848131</td>\n",
       "                        <td id=\"T_5bb7c23e_81f0_11eb_b24f_0242ac110004row7_col2\" class=\"data row7 col2\" >0.065888</td>\n",
       "                        <td id=\"T_5bb7c23e_81f0_11eb_b24f_0242ac110004row7_col3\" class=\"data row7 col3\" >0.016822</td>\n",
       "                        <td id=\"T_5bb7c23e_81f0_11eb_b24f_0242ac110004row7_col4\" class=\"data row7 col4\" >0.011682</td>\n",
       "                        <td id=\"T_5bb7c23e_81f0_11eb_b24f_0242ac110004row7_col5\" class=\"data row7 col5\" >0.008411</td>\n",
       "                        <td id=\"T_5bb7c23e_81f0_11eb_b24f_0242ac110004row7_col6\" class=\"data row7 col6\" >0.950935</td>\n",
       "                        <td id=\"T_5bb7c23e_81f0_11eb_b24f_0242ac110004row7_col7\" class=\"data row7 col7\" >39</td>\n",
       "            </tr>\n",
       "            <tr>\n",
       "                        <th id=\"T_5bb7c23e_81f0_11eb_b24f_0242ac110004level0_row8\" class=\"row_heading level0 row8\" >8</th>\n",
       "                        <td id=\"T_5bb7c23e_81f0_11eb_b24f_0242ac110004row8_col0\" class=\"data row8 col0\" >17</td>\n",
       "                        <td id=\"T_5bb7c23e_81f0_11eb_b24f_0242ac110004row8_col1\" class=\"data row8 col1\" >0.760207</td>\n",
       "                        <td id=\"T_5bb7c23e_81f0_11eb_b24f_0242ac110004row8_col2\" class=\"data row8 col2\" >0.100454</td>\n",
       "                        <td id=\"T_5bb7c23e_81f0_11eb_b24f_0242ac110004row8_col3\" class=\"data row8 col3\" >0.053791</td>\n",
       "                        <td id=\"T_5bb7c23e_81f0_11eb_b24f_0242ac110004row8_col4\" class=\"data row8 col4\" >0.033701</td>\n",
       "                        <td id=\"T_5bb7c23e_81f0_11eb_b24f_0242ac110004row8_col5\" class=\"data row8 col5\" >0.012962</td>\n",
       "                        <td id=\"T_5bb7c23e_81f0_11eb_b24f_0242ac110004row8_col6\" class=\"data row8 col6\" >0.961115</td>\n",
       "                        <td id=\"T_5bb7c23e_81f0_11eb_b24f_0242ac110004row8_col7\" class=\"data row8 col7\" >17</td>\n",
       "            </tr>\n",
       "            <tr>\n",
       "                        <th id=\"T_5bb7c23e_81f0_11eb_b24f_0242ac110004level0_row9\" class=\"row_heading level0 row9\" >9</th>\n",
       "                        <td id=\"T_5bb7c23e_81f0_11eb_b24f_0242ac110004row9_col0\" class=\"data row9 col0\" >18</td>\n",
       "                        <td id=\"T_5bb7c23e_81f0_11eb_b24f_0242ac110004row9_col1\" class=\"data row9 col1\" >0.802126</td>\n",
       "                        <td id=\"T_5bb7c23e_81f0_11eb_b24f_0242ac110004row9_col2\" class=\"data row9 col2\" >0.094031</td>\n",
       "                        <td id=\"T_5bb7c23e_81f0_11eb_b24f_0242ac110004row9_col3\" class=\"data row9 col3\" >0.035977</td>\n",
       "                        <td id=\"T_5bb7c23e_81f0_11eb_b24f_0242ac110004row9_col4\" class=\"data row9 col4\" >0.029436</td>\n",
       "                        <td id=\"T_5bb7c23e_81f0_11eb_b24f_0242ac110004row9_col5\" class=\"data row9 col5\" >0.011447</td>\n",
       "                        <td id=\"T_5bb7c23e_81f0_11eb_b24f_0242ac110004row9_col6\" class=\"data row9 col6\" >0.973017</td>\n",
       "                        <td id=\"T_5bb7c23e_81f0_11eb_b24f_0242ac110004row9_col7\" class=\"data row9 col7\" >11</td>\n",
       "            </tr>\n",
       "            <tr>\n",
       "                        <th id=\"T_5bb7c23e_81f0_11eb_b24f_0242ac110004level0_row10\" class=\"row_heading level0 row10\" >10</th>\n",
       "                        <td id=\"T_5bb7c23e_81f0_11eb_b24f_0242ac110004row10_col0\" class=\"data row10 col0\" >19</td>\n",
       "                        <td id=\"T_5bb7c23e_81f0_11eb_b24f_0242ac110004row10_col1\" class=\"data row10 col1\" >0.765489</td>\n",
       "                        <td id=\"T_5bb7c23e_81f0_11eb_b24f_0242ac110004row10_col2\" class=\"data row10 col2\" >0.099846</td>\n",
       "                        <td id=\"T_5bb7c23e_81f0_11eb_b24f_0242ac110004row10_col3\" class=\"data row10 col3\" >0.035330</td>\n",
       "                        <td id=\"T_5bb7c23e_81f0_11eb_b24f_0242ac110004row10_col4\" class=\"data row10 col4\" >0.016385</td>\n",
       "                        <td id=\"T_5bb7c23e_81f0_11eb_b24f_0242ac110004row10_col5\" class=\"data row10 col5\" >0.013825</td>\n",
       "                        <td id=\"T_5bb7c23e_81f0_11eb_b24f_0242ac110004row10_col6\" class=\"data row10 col6\" >0.930876</td>\n",
       "                        <td id=\"T_5bb7c23e_81f0_11eb_b24f_0242ac110004row10_col7\" class=\"data row10 col7\" >19</td>\n",
       "            </tr>\n",
       "            <tr>\n",
       "                        <th id=\"T_5bb7c23e_81f0_11eb_b24f_0242ac110004level0_row11\" class=\"row_heading level0 row11\" >11</th>\n",
       "                        <td id=\"T_5bb7c23e_81f0_11eb_b24f_0242ac110004row11_col0\" class=\"data row11 col0\" >20</td>\n",
       "                        <td id=\"T_5bb7c23e_81f0_11eb_b24f_0242ac110004row11_col1\" class=\"data row11 col1\" >0.789099</td>\n",
       "                        <td id=\"T_5bb7c23e_81f0_11eb_b24f_0242ac110004row11_col2\" class=\"data row11 col2\" >0.091614</td>\n",
       "                        <td id=\"T_5bb7c23e_81f0_11eb_b24f_0242ac110004row11_col3\" class=\"data row11 col3\" >0.030189</td>\n",
       "                        <td id=\"T_5bb7c23e_81f0_11eb_b24f_0242ac110004row11_col4\" class=\"data row11 col4\" >0.014675</td>\n",
       "                        <td id=\"T_5bb7c23e_81f0_11eb_b24f_0242ac110004row11_col5\" class=\"data row11 col5\" >0.009853</td>\n",
       "                        <td id=\"T_5bb7c23e_81f0_11eb_b24f_0242ac110004row11_col6\" class=\"data row11 col6\" >0.935430</td>\n",
       "                        <td id=\"T_5bb7c23e_81f0_11eb_b24f_0242ac110004row11_col7\" class=\"data row11 col7\" >52</td>\n",
       "            </tr>\n",
       "            <tr>\n",
       "                        <th id=\"T_5bb7c23e_81f0_11eb_b24f_0242ac110004level0_row12\" class=\"row_heading level0 row12\" >12</th>\n",
       "                        <td id=\"T_5bb7c23e_81f0_11eb_b24f_0242ac110004row12_col0\" class=\"data row12 col0\" >21</td>\n",
       "                        <td id=\"T_5bb7c23e_81f0_11eb_b24f_0242ac110004row12_col1\" class=\"data row12 col1\" >0.822508</td>\n",
       "                        <td id=\"T_5bb7c23e_81f0_11eb_b24f_0242ac110004row12_col2\" class=\"data row12 col2\" >0.080627</td>\n",
       "                        <td id=\"T_5bb7c23e_81f0_11eb_b24f_0242ac110004row12_col3\" class=\"data row12 col3\" >0.029675</td>\n",
       "                        <td id=\"T_5bb7c23e_81f0_11eb_b24f_0242ac110004row12_col4\" class=\"data row12 col4\" >0.014558</td>\n",
       "                        <td id=\"T_5bb7c23e_81f0_11eb_b24f_0242ac110004row12_col5\" class=\"data row12 col5\" >0.017357</td>\n",
       "                        <td id=\"T_5bb7c23e_81f0_11eb_b24f_0242ac110004row12_col6\" class=\"data row12 col6\" >0.964726</td>\n",
       "                        <td id=\"T_5bb7c23e_81f0_11eb_b24f_0242ac110004row12_col7\" class=\"data row12 col7\" >16</td>\n",
       "            </tr>\n",
       "            <tr>\n",
       "                        <th id=\"T_5bb7c23e_81f0_11eb_b24f_0242ac110004level0_row13\" class=\"row_heading level0 row13\" >13</th>\n",
       "                        <td id=\"T_5bb7c23e_81f0_11eb_b24f_0242ac110004row13_col0\" class=\"data row13 col0\" >22</td>\n",
       "                        <td id=\"T_5bb7c23e_81f0_11eb_b24f_0242ac110004row13_col1\" class=\"data row13 col1\" >0.806765</td>\n",
       "                        <td id=\"T_5bb7c23e_81f0_11eb_b24f_0242ac110004row13_col2\" class=\"data row13 col2\" >0.089036</td>\n",
       "                        <td id=\"T_5bb7c23e_81f0_11eb_b24f_0242ac110004row13_col3\" class=\"data row13 col3\" >0.030715</td>\n",
       "                        <td id=\"T_5bb7c23e_81f0_11eb_b24f_0242ac110004row13_col4\" class=\"data row13 col4\" >0.020607</td>\n",
       "                        <td id=\"T_5bb7c23e_81f0_11eb_b24f_0242ac110004row13_col5\" class=\"data row13 col5\" >0.010886</td>\n",
       "                        <td id=\"T_5bb7c23e_81f0_11eb_b24f_0242ac110004row13_col6\" class=\"data row13 col6\" >0.958009</td>\n",
       "                        <td id=\"T_5bb7c23e_81f0_11eb_b24f_0242ac110004row13_col7\" class=\"data row13 col7\" >24</td>\n",
       "            </tr>\n",
       "            <tr>\n",
       "                        <th id=\"T_5bb7c23e_81f0_11eb_b24f_0242ac110004level0_row14\" class=\"row_heading level0 row14\" >14</th>\n",
       "                        <td id=\"T_5bb7c23e_81f0_11eb_b24f_0242ac110004row14_col0\" class=\"data row14 col0\" >28</td>\n",
       "                        <td id=\"T_5bb7c23e_81f0_11eb_b24f_0242ac110004row14_col1\" class=\"data row14 col1\" >0.840780</td>\n",
       "                        <td id=\"T_5bb7c23e_81f0_11eb_b24f_0242ac110004row14_col2\" class=\"data row14 col2\" >0.045263</td>\n",
       "                        <td id=\"T_5bb7c23e_81f0_11eb_b24f_0242ac110004row14_col3\" class=\"data row14 col3\" >0.017901</td>\n",
       "                        <td id=\"T_5bb7c23e_81f0_11eb_b24f_0242ac110004row14_col4\" class=\"data row14 col4\" >0.009023</td>\n",
       "                        <td id=\"T_5bb7c23e_81f0_11eb_b24f_0242ac110004row14_col5\" class=\"data row14 col5\" >0.005385</td>\n",
       "                        <td id=\"T_5bb7c23e_81f0_11eb_b24f_0242ac110004row14_col6\" class=\"data row14 col6\" >0.918352</td>\n",
       "                        <td id=\"T_5bb7c23e_81f0_11eb_b24f_0242ac110004row14_col7\" class=\"data row14 col7\" >169</td>\n",
       "            </tr>\n",
       "            <tr>\n",
       "                        <th id=\"T_5bb7c23e_81f0_11eb_b24f_0242ac110004level0_row15\" class=\"row_heading level0 row15\" >15</th>\n",
       "                        <td id=\"T_5bb7c23e_81f0_11eb_b24f_0242ac110004row15_col0\" class=\"data row15 col0\" >29</td>\n",
       "                        <td id=\"T_5bb7c23e_81f0_11eb_b24f_0242ac110004row15_col1\" class=\"data row15 col1\" >0.600477</td>\n",
       "                        <td id=\"T_5bb7c23e_81f0_11eb_b24f_0242ac110004row15_col2\" class=\"data row15 col2\" >0.063155</td>\n",
       "                        <td id=\"T_5bb7c23e_81f0_11eb_b24f_0242ac110004row15_col3\" class=\"data row15 col3\" >0.031013</td>\n",
       "                        <td id=\"T_5bb7c23e_81f0_11eb_b24f_0242ac110004row15_col4\" class=\"data row15 col4\" >0.021659</td>\n",
       "                        <td id=\"T_5bb7c23e_81f0_11eb_b24f_0242ac110004row15_col5\" class=\"data row15 col5\" >0.016448</td>\n",
       "                        <td id=\"T_5bb7c23e_81f0_11eb_b24f_0242ac110004row15_col6\" class=\"data row15 col6\" >0.732752</td>\n",
       "                        <td id=\"T_5bb7c23e_81f0_11eb_b24f_0242ac110004row15_col7\" class=\"data row15 col7\" >310</td>\n",
       "            </tr>\n",
       "            <tr>\n",
       "                        <th id=\"T_5bb7c23e_81f0_11eb_b24f_0242ac110004level0_row16\" class=\"row_heading level0 row16\" >16</th>\n",
       "                        <td id=\"T_5bb7c23e_81f0_11eb_b24f_0242ac110004row16_col0\" class=\"data row16 col0\" >30</td>\n",
       "                        <td id=\"T_5bb7c23e_81f0_11eb_b24f_0242ac110004row16_col1\" class=\"data row16 col1\" >0.736478</td>\n",
       "                        <td id=\"T_5bb7c23e_81f0_11eb_b24f_0242ac110004row16_col2\" class=\"data row16 col2\" >0.093082</td>\n",
       "                        <td id=\"T_5bb7c23e_81f0_11eb_b24f_0242ac110004row16_col3\" class=\"data row16 col3\" >0.032075</td>\n",
       "                        <td id=\"T_5bb7c23e_81f0_11eb_b24f_0242ac110004row16_col4\" class=\"data row16 col4\" >0.016352</td>\n",
       "                        <td id=\"T_5bb7c23e_81f0_11eb_b24f_0242ac110004row16_col5\" class=\"data row16 col5\" >0.017610</td>\n",
       "                        <td id=\"T_5bb7c23e_81f0_11eb_b24f_0242ac110004row16_col6\" class=\"data row16 col6\" >0.895597</td>\n",
       "                        <td id=\"T_5bb7c23e_81f0_11eb_b24f_0242ac110004row16_col7\" class=\"data row16 col7\" >33</td>\n",
       "            </tr>\n",
       "            <tr>\n",
       "                        <th id=\"T_5bb7c23e_81f0_11eb_b24f_0242ac110004level0_row17\" class=\"row_heading level0 row17\" >17</th>\n",
       "                        <td id=\"T_5bb7c23e_81f0_11eb_b24f_0242ac110004row17_col0\" class=\"data row17 col0\" >31</td>\n",
       "                        <td id=\"T_5bb7c23e_81f0_11eb_b24f_0242ac110004row17_col1\" class=\"data row17 col1\" >0.873016</td>\n",
       "                        <td id=\"T_5bb7c23e_81f0_11eb_b24f_0242ac110004row17_col2\" class=\"data row17 col2\" >0.032738</td>\n",
       "                        <td id=\"T_5bb7c23e_81f0_11eb_b24f_0242ac110004row17_col3\" class=\"data row17 col3\" >0.023810</td>\n",
       "                        <td id=\"T_5bb7c23e_81f0_11eb_b24f_0242ac110004row17_col4\" class=\"data row17 col4\" >0.013889</td>\n",
       "                        <td id=\"T_5bb7c23e_81f0_11eb_b24f_0242ac110004row17_col5\" class=\"data row17 col5\" >0.004960</td>\n",
       "                        <td id=\"T_5bb7c23e_81f0_11eb_b24f_0242ac110004row17_col6\" class=\"data row17 col6\" >0.948413</td>\n",
       "                        <td id=\"T_5bb7c23e_81f0_11eb_b24f_0242ac110004row17_col7\" class=\"data row17 col7\" >23</td>\n",
       "            </tr>\n",
       "            <tr>\n",
       "                        <th id=\"T_5bb7c23e_81f0_11eb_b24f_0242ac110004level0_row18\" class=\"row_heading level0 row18\" >18</th>\n",
       "                        <td id=\"T_5bb7c23e_81f0_11eb_b24f_0242ac110004row18_col0\" class=\"data row18 col0\" >32</td>\n",
       "                        <td id=\"T_5bb7c23e_81f0_11eb_b24f_0242ac110004row18_col1\" class=\"data row18 col1\" >0.647561</td>\n",
       "                        <td id=\"T_5bb7c23e_81f0_11eb_b24f_0242ac110004row18_col2\" class=\"data row18 col2\" >0.093965</td>\n",
       "                        <td id=\"T_5bb7c23e_81f0_11eb_b24f_0242ac110004row18_col3\" class=\"data row18 col3\" >0.047396</td>\n",
       "                        <td id=\"T_5bb7c23e_81f0_11eb_b24f_0242ac110004row18_col4\" class=\"data row18 col4\" >0.039956</td>\n",
       "                        <td id=\"T_5bb7c23e_81f0_11eb_b24f_0242ac110004row18_col5\" class=\"data row18 col5\" >0.020667</td>\n",
       "                        <td id=\"T_5bb7c23e_81f0_11eb_b24f_0242ac110004row18_col6\" class=\"data row18 col6\" >0.849545</td>\n",
       "                        <td id=\"T_5bb7c23e_81f0_11eb_b24f_0242ac110004row18_col7\" class=\"data row18 col7\" >44</td>\n",
       "            </tr>\n",
       "            <tr>\n",
       "                        <th id=\"T_5bb7c23e_81f0_11eb_b24f_0242ac110004level0_row19\" class=\"row_heading level0 row19\" >19</th>\n",
       "                        <td id=\"T_5bb7c23e_81f0_11eb_b24f_0242ac110004row19_col0\" class=\"data row19 col0\" >33</td>\n",
       "                        <td id=\"T_5bb7c23e_81f0_11eb_b24f_0242ac110004row19_col1\" class=\"data row19 col1\" >0.801085</td>\n",
       "                        <td id=\"T_5bb7c23e_81f0_11eb_b24f_0242ac110004row19_col2\" class=\"data row19 col2\" >0.073056</td>\n",
       "                        <td id=\"T_5bb7c23e_81f0_11eb_b24f_0242ac110004row19_col3\" class=\"data row19 col3\" >0.029656</td>\n",
       "                        <td id=\"T_5bb7c23e_81f0_11eb_b24f_0242ac110004row19_col4\" class=\"data row19 col4\" >0.015552</td>\n",
       "                        <td id=\"T_5bb7c23e_81f0_11eb_b24f_0242ac110004row19_col5\" class=\"data row19 col5\" >0.010127</td>\n",
       "                        <td id=\"T_5bb7c23e_81f0_11eb_b24f_0242ac110004row19_col6\" class=\"data row19 col6\" >0.929476</td>\n",
       "                        <td id=\"T_5bb7c23e_81f0_11eb_b24f_0242ac110004row19_col7\" class=\"data row19 col7\" >29</td>\n",
       "            </tr>\n",
       "            <tr>\n",
       "                        <th id=\"T_5bb7c23e_81f0_11eb_b24f_0242ac110004level0_row20\" class=\"row_heading level0 row20\" >20</th>\n",
       "                        <td id=\"T_5bb7c23e_81f0_11eb_b24f_0242ac110004row20_col0\" class=\"data row20 col0\" >34</td>\n",
       "                        <td id=\"T_5bb7c23e_81f0_11eb_b24f_0242ac110004row20_col1\" class=\"data row20 col1\" >0.680681</td>\n",
       "                        <td id=\"T_5bb7c23e_81f0_11eb_b24f_0242ac110004row20_col2\" class=\"data row20 col2\" >0.108108</td>\n",
       "                        <td id=\"T_5bb7c23e_81f0_11eb_b24f_0242ac110004row20_col3\" class=\"data row20 col3\" >0.042042</td>\n",
       "                        <td id=\"T_5bb7c23e_81f0_11eb_b24f_0242ac110004row20_col4\" class=\"data row20 col4\" >0.034535</td>\n",
       "                        <td id=\"T_5bb7c23e_81f0_11eb_b24f_0242ac110004row20_col5\" class=\"data row20 col5\" >0.022022</td>\n",
       "                        <td id=\"T_5bb7c23e_81f0_11eb_b24f_0242ac110004row20_col6\" class=\"data row20 col6\" >0.887387</td>\n",
       "                        <td id=\"T_5bb7c23e_81f0_11eb_b24f_0242ac110004row20_col7\" class=\"data row20 col7\" >23</td>\n",
       "            </tr>\n",
       "            <tr>\n",
       "                        <th id=\"T_5bb7c23e_81f0_11eb_b24f_0242ac110004level0_row21\" class=\"row_heading level0 row21\" >21</th>\n",
       "                        <td id=\"T_5bb7c23e_81f0_11eb_b24f_0242ac110004row21_col0\" class=\"data row21 col0\" >35</td>\n",
       "                        <td id=\"T_5bb7c23e_81f0_11eb_b24f_0242ac110004row21_col1\" class=\"data row21 col1\" >0.867271</td>\n",
       "                        <td id=\"T_5bb7c23e_81f0_11eb_b24f_0242ac110004row21_col2\" class=\"data row21 col2\" >0.061006</td>\n",
       "                        <td id=\"T_5bb7c23e_81f0_11eb_b24f_0242ac110004row21_col3\" class=\"data row21 col3\" >0.024732</td>\n",
       "                        <td id=\"T_5bb7c23e_81f0_11eb_b24f_0242ac110004row21_col4\" class=\"data row21 col4\" >0.010717</td>\n",
       "                        <td id=\"T_5bb7c23e_81f0_11eb_b24f_0242ac110004row21_col5\" class=\"data row21 col5\" >0.010717</td>\n",
       "                        <td id=\"T_5bb7c23e_81f0_11eb_b24f_0242ac110004row21_col6\" class=\"data row21 col6\" >0.974444</td>\n",
       "                        <td id=\"T_5bb7c23e_81f0_11eb_b24f_0242ac110004row21_col7\" class=\"data row21 col7\" >14</td>\n",
       "            </tr>\n",
       "            <tr>\n",
       "                        <th id=\"T_5bb7c23e_81f0_11eb_b24f_0242ac110004level0_row22\" class=\"row_heading level0 row22\" >22</th>\n",
       "                        <td id=\"T_5bb7c23e_81f0_11eb_b24f_0242ac110004row22_col0\" class=\"data row22 col0\" >36</td>\n",
       "                        <td id=\"T_5bb7c23e_81f0_11eb_b24f_0242ac110004row22_col1\" class=\"data row22 col1\" >0.847938</td>\n",
       "                        <td id=\"T_5bb7c23e_81f0_11eb_b24f_0242ac110004row22_col2\" class=\"data row22 col2\" >0.072165</td>\n",
       "                        <td id=\"T_5bb7c23e_81f0_11eb_b24f_0242ac110004row22_col3\" class=\"data row22 col3\" >0.033505</td>\n",
       "                        <td id=\"T_5bb7c23e_81f0_11eb_b24f_0242ac110004row22_col4\" class=\"data row22 col4\" >0.010309</td>\n",
       "                        <td id=\"T_5bb7c23e_81f0_11eb_b24f_0242ac110004row22_col5\" class=\"data row22 col5\" >0.007732</td>\n",
       "                        <td id=\"T_5bb7c23e_81f0_11eb_b24f_0242ac110004row22_col6\" class=\"data row22 col6\" >0.971649</td>\n",
       "                        <td id=\"T_5bb7c23e_81f0_11eb_b24f_0242ac110004row22_col7\" class=\"data row22 col7\" >8</td>\n",
       "            </tr>\n",
       "            <tr>\n",
       "                        <th id=\"T_5bb7c23e_81f0_11eb_b24f_0242ac110004level0_row23\" class=\"row_heading level0 row23\" >23</th>\n",
       "                        <td id=\"T_5bb7c23e_81f0_11eb_b24f_0242ac110004row23_col0\" class=\"data row23 col0\" >37</td>\n",
       "                        <td id=\"T_5bb7c23e_81f0_11eb_b24f_0242ac110004row23_col1\" class=\"data row23 col1\" >0.693593</td>\n",
       "                        <td id=\"T_5bb7c23e_81f0_11eb_b24f_0242ac110004row23_col2\" class=\"data row23 col2\" >0.096565</td>\n",
       "                        <td id=\"T_5bb7c23e_81f0_11eb_b24f_0242ac110004row23_col3\" class=\"data row23 col3\" >0.031569</td>\n",
       "                        <td id=\"T_5bb7c23e_81f0_11eb_b24f_0242ac110004row23_col4\" class=\"data row23 col4\" >0.024141</td>\n",
       "                        <td id=\"T_5bb7c23e_81f0_11eb_b24f_0242ac110004row23_col5\" class=\"data row23 col5\" >0.013928</td>\n",
       "                        <td id=\"T_5bb7c23e_81f0_11eb_b24f_0242ac110004row23_col6\" class=\"data row23 col6\" >0.859796</td>\n",
       "                        <td id=\"T_5bb7c23e_81f0_11eb_b24f_0242ac110004row23_col7\" class=\"data row23 col7\" >29</td>\n",
       "            </tr>\n",
       "            <tr>\n",
       "                        <th id=\"T_5bb7c23e_81f0_11eb_b24f_0242ac110004level0_row24\" class=\"row_heading level0 row24\" >24</th>\n",
       "                        <td id=\"T_5bb7c23e_81f0_11eb_b24f_0242ac110004row24_col0\" class=\"data row24 col0\" >38</td>\n",
       "                        <td id=\"T_5bb7c23e_81f0_11eb_b24f_0242ac110004row24_col1\" class=\"data row24 col1\" >0.785025</td>\n",
       "                        <td id=\"T_5bb7c23e_81f0_11eb_b24f_0242ac110004row24_col2\" class=\"data row24 col2\" >0.060208</td>\n",
       "                        <td id=\"T_5bb7c23e_81f0_11eb_b24f_0242ac110004row24_col3\" class=\"data row24 col3\" >0.024315</td>\n",
       "                        <td id=\"T_5bb7c23e_81f0_11eb_b24f_0242ac110004row24_col4\" class=\"data row24 col4\" >0.016403</td>\n",
       "                        <td id=\"T_5bb7c23e_81f0_11eb_b24f_0242ac110004row24_col5\" class=\"data row24 col5\" >0.012350</td>\n",
       "                        <td id=\"T_5bb7c23e_81f0_11eb_b24f_0242ac110004row24_col6\" class=\"data row24 col6\" >0.898302</td>\n",
       "                        <td id=\"T_5bb7c23e_81f0_11eb_b24f_0242ac110004row24_col7\" class=\"data row24 col7\" >77</td>\n",
       "            </tr>\n",
       "            <tr>\n",
       "                        <th id=\"T_5bb7c23e_81f0_11eb_b24f_0242ac110004level0_row25\" class=\"row_heading level0 row25\" >25</th>\n",
       "                        <td id=\"T_5bb7c23e_81f0_11eb_b24f_0242ac110004row25_col0\" class=\"data row25 col0\" >39</td>\n",
       "                        <td id=\"T_5bb7c23e_81f0_11eb_b24f_0242ac110004row25_col1\" class=\"data row25 col1\" >0.660579</td>\n",
       "                        <td id=\"T_5bb7c23e_81f0_11eb_b24f_0242ac110004row25_col2\" class=\"data row25 col2\" >0.085705</td>\n",
       "                        <td id=\"T_5bb7c23e_81f0_11eb_b24f_0242ac110004row25_col3\" class=\"data row25 col3\" >0.035335</td>\n",
       "                        <td id=\"T_5bb7c23e_81f0_11eb_b24f_0242ac110004row25_col4\" class=\"data row25 col4\" >0.026416</td>\n",
       "                        <td id=\"T_5bb7c23e_81f0_11eb_b24f_0242ac110004row25_col5\" class=\"data row25 col5\" >0.015034</td>\n",
       "                        <td id=\"T_5bb7c23e_81f0_11eb_b24f_0242ac110004row25_col6\" class=\"data row25 col6\" >0.823070</td>\n",
       "                        <td id=\"T_5bb7c23e_81f0_11eb_b24f_0242ac110004row25_col7\" class=\"data row25 col7\" >129</td>\n",
       "            </tr>\n",
       "            <tr>\n",
       "                        <th id=\"T_5bb7c23e_81f0_11eb_b24f_0242ac110004level0_row26\" class=\"row_heading level0 row26\" >26</th>\n",
       "                        <td id=\"T_5bb7c23e_81f0_11eb_b24f_0242ac110004row26_col0\" class=\"data row26 col0\" >40</td>\n",
       "                        <td id=\"T_5bb7c23e_81f0_11eb_b24f_0242ac110004row26_col1\" class=\"data row26 col1\" >0.746944</td>\n",
       "                        <td id=\"T_5bb7c23e_81f0_11eb_b24f_0242ac110004row26_col2\" class=\"data row26 col2\" >0.079744</td>\n",
       "                        <td id=\"T_5bb7c23e_81f0_11eb_b24f_0242ac110004row26_col3\" class=\"data row26 col3\" >0.037253</td>\n",
       "                        <td id=\"T_5bb7c23e_81f0_11eb_b24f_0242ac110004row26_col4\" class=\"data row26 col4\" >0.016007</td>\n",
       "                        <td id=\"T_5bb7c23e_81f0_11eb_b24f_0242ac110004row26_col5\" class=\"data row26 col5\" >0.010914</td>\n",
       "                        <td id=\"T_5bb7c23e_81f0_11eb_b24f_0242ac110004row26_col6\" class=\"data row26 col6\" >0.890861</td>\n",
       "                        <td id=\"T_5bb7c23e_81f0_11eb_b24f_0242ac110004row26_col7\" class=\"data row26 col7\" >80</td>\n",
       "            </tr>\n",
       "            <tr>\n",
       "                        <th id=\"T_5bb7c23e_81f0_11eb_b24f_0242ac110004level0_row27\" class=\"row_heading level0 row27\" >27</th>\n",
       "                        <td id=\"T_5bb7c23e_81f0_11eb_b24f_0242ac110004row27_col0\" class=\"data row27 col0\" >47</td>\n",
       "                        <td id=\"T_5bb7c23e_81f0_11eb_b24f_0242ac110004row27_col1\" class=\"data row27 col1\" >0.820803</td>\n",
       "                        <td id=\"T_5bb7c23e_81f0_11eb_b24f_0242ac110004row27_col2\" class=\"data row27 col2\" >0.081359</td>\n",
       "                        <td id=\"T_5bb7c23e_81f0_11eb_b24f_0242ac110004row27_col3\" class=\"data row27 col3\" >0.027806</td>\n",
       "                        <td id=\"T_5bb7c23e_81f0_11eb_b24f_0242ac110004row27_col4\" class=\"data row27 col4\" >0.009269</td>\n",
       "                        <td id=\"T_5bb7c23e_81f0_11eb_b24f_0242ac110004row27_col5\" class=\"data row27 col5\" >0.010299</td>\n",
       "                        <td id=\"T_5bb7c23e_81f0_11eb_b24f_0242ac110004row27_col6\" class=\"data row27 col6\" >0.949537</td>\n",
       "                        <td id=\"T_5bb7c23e_81f0_11eb_b24f_0242ac110004row27_col7\" class=\"data row27 col7\" >19</td>\n",
       "            </tr>\n",
       "            <tr>\n",
       "                        <th id=\"T_5bb7c23e_81f0_11eb_b24f_0242ac110004level0_row28\" class=\"row_heading level0 row28\" >28</th>\n",
       "                        <td id=\"T_5bb7c23e_81f0_11eb_b24f_0242ac110004row28_col0\" class=\"data row28 col0\" >48</td>\n",
       "                        <td id=\"T_5bb7c23e_81f0_11eb_b24f_0242ac110004row28_col1\" class=\"data row28 col1\" >0.701612</td>\n",
       "                        <td id=\"T_5bb7c23e_81f0_11eb_b24f_0242ac110004row28_col2\" class=\"data row28 col2\" >0.091421</td>\n",
       "                        <td id=\"T_5bb7c23e_81f0_11eb_b24f_0242ac110004row28_col3\" class=\"data row28 col3\" >0.032804</td>\n",
       "                        <td id=\"T_5bb7c23e_81f0_11eb_b24f_0242ac110004row28_col4\" class=\"data row28 col4\" >0.023673</td>\n",
       "                        <td id=\"T_5bb7c23e_81f0_11eb_b24f_0242ac110004row28_col5\" class=\"data row28 col5\" >0.016571</td>\n",
       "                        <td id=\"T_5bb7c23e_81f0_11eb_b24f_0242ac110004row28_col6\" class=\"data row28 col6\" >0.866080</td>\n",
       "                        <td id=\"T_5bb7c23e_81f0_11eb_b24f_0242ac110004row28_col7\" class=\"data row28 col7\" >101</td>\n",
       "            </tr>\n",
       "            <tr>\n",
       "                        <th id=\"T_5bb7c23e_81f0_11eb_b24f_0242ac110004level0_row29\" class=\"row_heading level0 row29\" >29</th>\n",
       "                        <td id=\"T_5bb7c23e_81f0_11eb_b24f_0242ac110004row29_col0\" class=\"data row29 col0\" >49</td>\n",
       "                        <td id=\"T_5bb7c23e_81f0_11eb_b24f_0242ac110004row29_col1\" class=\"data row29 col1\" >0.794134</td>\n",
       "                        <td id=\"T_5bb7c23e_81f0_11eb_b24f_0242ac110004row29_col2\" class=\"data row29 col2\" >0.066554</td>\n",
       "                        <td id=\"T_5bb7c23e_81f0_11eb_b24f_0242ac110004row29_col3\" class=\"data row29 col3\" >0.037789</td>\n",
       "                        <td id=\"T_5bb7c23e_81f0_11eb_b24f_0242ac110004row29_col4\" class=\"data row29 col4\" >0.019177</td>\n",
       "                        <td id=\"T_5bb7c23e_81f0_11eb_b24f_0242ac110004row29_col5\" class=\"data row29 col5\" >0.017484</td>\n",
       "                        <td id=\"T_5bb7c23e_81f0_11eb_b24f_0242ac110004row29_col6\" class=\"data row29 col6\" >0.935138</td>\n",
       "                        <td id=\"T_5bb7c23e_81f0_11eb_b24f_0242ac110004row29_col7\" class=\"data row29 col7\" >19</td>\n",
       "            </tr>\n",
       "            <tr>\n",
       "                        <th id=\"T_5bb7c23e_81f0_11eb_b24f_0242ac110004level0_row30\" class=\"row_heading level0 row30\" >30</th>\n",
       "                        <td id=\"T_5bb7c23e_81f0_11eb_b24f_0242ac110004row30_col0\" class=\"data row30 col0\" >50</td>\n",
       "                        <td id=\"T_5bb7c23e_81f0_11eb_b24f_0242ac110004row30_col1\" class=\"data row30 col1\" >0.834711</td>\n",
       "                        <td id=\"T_5bb7c23e_81f0_11eb_b24f_0242ac110004row30_col2\" class=\"data row30 col2\" >0.090909</td>\n",
       "                        <td id=\"T_5bb7c23e_81f0_11eb_b24f_0242ac110004row30_col3\" class=\"data row30 col3\" >0.020661</td>\n",
       "                        <td id=\"T_5bb7c23e_81f0_11eb_b24f_0242ac110004row30_col4\" class=\"data row30 col4\" >0.008264</td>\n",
       "                        <td id=\"T_5bb7c23e_81f0_11eb_b24f_0242ac110004row30_col5\" class=\"data row30 col5\" >0.004132</td>\n",
       "                        <td id=\"T_5bb7c23e_81f0_11eb_b24f_0242ac110004row30_col6\" class=\"data row30 col6\" >0.958678</td>\n",
       "                        <td id=\"T_5bb7c23e_81f0_11eb_b24f_0242ac110004row30_col7\" class=\"data row30 col7\" >9</td>\n",
       "            </tr>\n",
       "            <tr>\n",
       "                        <th id=\"T_5bb7c23e_81f0_11eb_b24f_0242ac110004level0_row31\" class=\"row_heading level0 row31\" >31</th>\n",
       "                        <td id=\"T_5bb7c23e_81f0_11eb_b24f_0242ac110004row31_col0\" class=\"data row31 col0\" >51</td>\n",
       "                        <td id=\"T_5bb7c23e_81f0_11eb_b24f_0242ac110004row31_col1\" class=\"data row31 col1\" >0.742972</td>\n",
       "                        <td id=\"T_5bb7c23e_81f0_11eb_b24f_0242ac110004row31_col2\" class=\"data row31 col2\" >0.054886</td>\n",
       "                        <td id=\"T_5bb7c23e_81f0_11eb_b24f_0242ac110004row31_col3\" class=\"data row31 col3\" >0.041499</td>\n",
       "                        <td id=\"T_5bb7c23e_81f0_11eb_b24f_0242ac110004row31_col4\" class=\"data row31 col4\" >0.017403</td>\n",
       "                        <td id=\"T_5bb7c23e_81f0_11eb_b24f_0242ac110004row31_col5\" class=\"data row31 col5\" >0.012048</td>\n",
       "                        <td id=\"T_5bb7c23e_81f0_11eb_b24f_0242ac110004row31_col6\" class=\"data row31 col6\" >0.868809</td>\n",
       "                        <td id=\"T_5bb7c23e_81f0_11eb_b24f_0242ac110004row31_col7\" class=\"data row31 col7\" >37</td>\n",
       "            </tr>\n",
       "            <tr>\n",
       "                        <th id=\"T_5bb7c23e_81f0_11eb_b24f_0242ac110004level0_row32\" class=\"row_heading level0 row32\" >32</th>\n",
       "                        <td id=\"T_5bb7c23e_81f0_11eb_b24f_0242ac110004row32_col0\" class=\"data row32 col0\" >52</td>\n",
       "                        <td id=\"T_5bb7c23e_81f0_11eb_b24f_0242ac110004row32_col1\" class=\"data row32 col1\" >0.597306</td>\n",
       "                        <td id=\"T_5bb7c23e_81f0_11eb_b24f_0242ac110004row32_col2\" class=\"data row32 col2\" >0.122652</td>\n",
       "                        <td id=\"T_5bb7c23e_81f0_11eb_b24f_0242ac110004row32_col3\" class=\"data row32 col3\" >0.065580</td>\n",
       "                        <td id=\"T_5bb7c23e_81f0_11eb_b24f_0242ac110004row32_col4\" class=\"data row32 col4\" >0.027650</td>\n",
       "                        <td id=\"T_5bb7c23e_81f0_11eb_b24f_0242ac110004row32_col5\" class=\"data row32 col5\" >0.020560</td>\n",
       "                        <td id=\"T_5bb7c23e_81f0_11eb_b24f_0242ac110004row32_col6\" class=\"data row32 col6\" >0.833747</td>\n",
       "                        <td id=\"T_5bb7c23e_81f0_11eb_b24f_0242ac110004row32_col7\" class=\"data row32 col7\" >119</td>\n",
       "            </tr>\n",
       "            <tr>\n",
       "                        <th id=\"T_5bb7c23e_81f0_11eb_b24f_0242ac110004level0_row33\" class=\"row_heading level0 row33\" >33</th>\n",
       "                        <td id=\"T_5bb7c23e_81f0_11eb_b24f_0242ac110004row33_col0\" class=\"data row33 col0\" >53</td>\n",
       "                        <td id=\"T_5bb7c23e_81f0_11eb_b24f_0242ac110004row33_col1\" class=\"data row33 col1\" >0.790503</td>\n",
       "                        <td id=\"T_5bb7c23e_81f0_11eb_b24f_0242ac110004row33_col2\" class=\"data row33 col2\" >0.081006</td>\n",
       "                        <td id=\"T_5bb7c23e_81f0_11eb_b24f_0242ac110004row33_col3\" class=\"data row33 col3\" >0.033520</td>\n",
       "                        <td id=\"T_5bb7c23e_81f0_11eb_b24f_0242ac110004row33_col4\" class=\"data row33 col4\" >0.029330</td>\n",
       "                        <td id=\"T_5bb7c23e_81f0_11eb_b24f_0242ac110004row33_col5\" class=\"data row33 col5\" >0.012570</td>\n",
       "                        <td id=\"T_5bb7c23e_81f0_11eb_b24f_0242ac110004row33_col6\" class=\"data row33 col6\" >0.946927</td>\n",
       "                        <td id=\"T_5bb7c23e_81f0_11eb_b24f_0242ac110004row33_col7\" class=\"data row33 col7\" >23</td>\n",
       "            </tr>\n",
       "            <tr>\n",
       "                        <th id=\"T_5bb7c23e_81f0_11eb_b24f_0242ac110004level0_row34\" class=\"row_heading level0 row34\" >34</th>\n",
       "                        <td id=\"T_5bb7c23e_81f0_11eb_b24f_0242ac110004row34_col0\" class=\"data row34 col0\" >54</td>\n",
       "                        <td id=\"T_5bb7c23e_81f0_11eb_b24f_0242ac110004row34_col1\" class=\"data row34 col1\" >0.701616</td>\n",
       "                        <td id=\"T_5bb7c23e_81f0_11eb_b24f_0242ac110004row34_col2\" class=\"data row34 col2\" >0.090010</td>\n",
       "                        <td id=\"T_5bb7c23e_81f0_11eb_b24f_0242ac110004row34_col3\" class=\"data row34 col3\" >0.035608</td>\n",
       "                        <td id=\"T_5bb7c23e_81f0_11eb_b24f_0242ac110004row34_col4\" class=\"data row34 col4\" >0.023409</td>\n",
       "                        <td id=\"T_5bb7c23e_81f0_11eb_b24f_0242ac110004row34_col5\" class=\"data row34 col5\" >0.017145</td>\n",
       "                        <td id=\"T_5bb7c23e_81f0_11eb_b24f_0242ac110004row34_col6\" class=\"data row34 col6\" >0.867788</td>\n",
       "                        <td id=\"T_5bb7c23e_81f0_11eb_b24f_0242ac110004row34_col7\" class=\"data row34 col7\" >72</td>\n",
       "            </tr>\n",
       "            <tr>\n",
       "                        <th id=\"T_5bb7c23e_81f0_11eb_b24f_0242ac110004level0_row35\" class=\"row_heading level0 row35\" >35</th>\n",
       "                        <td id=\"T_5bb7c23e_81f0_11eb_b24f_0242ac110004row35_col0\" class=\"data row35 col0\" >55</td>\n",
       "                        <td id=\"T_5bb7c23e_81f0_11eb_b24f_0242ac110004row35_col1\" class=\"data row35 col1\" >0.757046</td>\n",
       "                        <td id=\"T_5bb7c23e_81f0_11eb_b24f_0242ac110004row35_col2\" class=\"data row35 col2\" >0.076347</td>\n",
       "                        <td id=\"T_5bb7c23e_81f0_11eb_b24f_0242ac110004row35_col3\" class=\"data row35 col3\" >0.032822</td>\n",
       "                        <td id=\"T_5bb7c23e_81f0_11eb_b24f_0242ac110004row35_col4\" class=\"data row35 col4\" >0.014984</td>\n",
       "                        <td id=\"T_5bb7c23e_81f0_11eb_b24f_0242ac110004row35_col5\" class=\"data row35 col5\" >0.011773</td>\n",
       "                        <td id=\"T_5bb7c23e_81f0_11eb_b24f_0242ac110004row35_col6\" class=\"data row35 col6\" >0.892972</td>\n",
       "                        <td id=\"T_5bb7c23e_81f0_11eb_b24f_0242ac110004row35_col7\" class=\"data row35 col7\" >104</td>\n",
       "            </tr>\n",
       "            <tr>\n",
       "                        <th id=\"T_5bb7c23e_81f0_11eb_b24f_0242ac110004level0_row36\" class=\"row_heading level0 row36\" >36</th>\n",
       "                        <td id=\"T_5bb7c23e_81f0_11eb_b24f_0242ac110004row36_col0\" class=\"data row36 col0\" >56</td>\n",
       "                        <td id=\"T_5bb7c23e_81f0_11eb_b24f_0242ac110004row36_col1\" class=\"data row36 col1\" >0.701606</td>\n",
       "                        <td id=\"T_5bb7c23e_81f0_11eb_b24f_0242ac110004row36_col2\" class=\"data row36 col2\" >0.092328</td>\n",
       "                        <td id=\"T_5bb7c23e_81f0_11eb_b24f_0242ac110004row36_col3\" class=\"data row36 col3\" >0.043711</td>\n",
       "                        <td id=\"T_5bb7c23e_81f0_11eb_b24f_0242ac110004row36_col4\" class=\"data row36 col4\" >0.023194</td>\n",
       "                        <td id=\"T_5bb7c23e_81f0_11eb_b24f_0242ac110004row36_col5\" class=\"data row36 col5\" >0.021409</td>\n",
       "                        <td id=\"T_5bb7c23e_81f0_11eb_b24f_0242ac110004row36_col6\" class=\"data row36 col6\" >0.882248</td>\n",
       "                        <td id=\"T_5bb7c23e_81f0_11eb_b24f_0242ac110004row36_col7\" class=\"data row36 col7\" >30</td>\n",
       "            </tr>\n",
       "            <tr>\n",
       "                        <th id=\"T_5bb7c23e_81f0_11eb_b24f_0242ac110004level0_row37\" class=\"row_heading level0 row37\" >37</th>\n",
       "                        <td id=\"T_5bb7c23e_81f0_11eb_b24f_0242ac110004row37_col0\" class=\"data row37 col0\" >57</td>\n",
       "                        <td id=\"T_5bb7c23e_81f0_11eb_b24f_0242ac110004row37_col1\" class=\"data row37 col1\" >0.640146</td>\n",
       "                        <td id=\"T_5bb7c23e_81f0_11eb_b24f_0242ac110004row37_col2\" class=\"data row37 col2\" >0.145862</td>\n",
       "                        <td id=\"T_5bb7c23e_81f0_11eb_b24f_0242ac110004row37_col3\" class=\"data row37 col3\" >0.058985</td>\n",
       "                        <td id=\"T_5bb7c23e_81f0_11eb_b24f_0242ac110004row37_col4\" class=\"data row37 col4\" >0.032007</td>\n",
       "                        <td id=\"T_5bb7c23e_81f0_11eb_b24f_0242ac110004row37_col5\" class=\"data row37 col5\" >0.026978</td>\n",
       "                        <td id=\"T_5bb7c23e_81f0_11eb_b24f_0242ac110004row37_col6\" class=\"data row37 col6\" >0.903978</td>\n",
       "                        <td id=\"T_5bb7c23e_81f0_11eb_b24f_0242ac110004row37_col7\" class=\"data row37 col7\" >22</td>\n",
       "            </tr>\n",
       "            <tr>\n",
       "                        <th id=\"T_5bb7c23e_81f0_11eb_b24f_0242ac110004level0_row38\" class=\"row_heading level0 row38\" >38</th>\n",
       "                        <td id=\"T_5bb7c23e_81f0_11eb_b24f_0242ac110004row38_col0\" class=\"data row38 col0\" >58</td>\n",
       "                        <td id=\"T_5bb7c23e_81f0_11eb_b24f_0242ac110004row38_col1\" class=\"data row38 col1\" >0.755102</td>\n",
       "                        <td id=\"T_5bb7c23e_81f0_11eb_b24f_0242ac110004row38_col2\" class=\"data row38 col2\" >0.084106</td>\n",
       "                        <td id=\"T_5bb7c23e_81f0_11eb_b24f_0242ac110004row38_col3\" class=\"data row38 col3\" >0.034632</td>\n",
       "                        <td id=\"T_5bb7c23e_81f0_11eb_b24f_0242ac110004row38_col4\" class=\"data row38 col4\" >0.024737</td>\n",
       "                        <td id=\"T_5bb7c23e_81f0_11eb_b24f_0242ac110004row38_col5\" class=\"data row38 col5\" >0.012987</td>\n",
       "                        <td id=\"T_5bb7c23e_81f0_11eb_b24f_0242ac110004row38_col6\" class=\"data row38 col6\" >0.911565</td>\n",
       "                        <td id=\"T_5bb7c23e_81f0_11eb_b24f_0242ac110004row38_col7\" class=\"data row38 col7\" >37</td>\n",
       "            </tr>\n",
       "            <tr>\n",
       "                        <th id=\"T_5bb7c23e_81f0_11eb_b24f_0242ac110004level0_row39\" class=\"row_heading level0 row39\" >39</th>\n",
       "                        <td id=\"T_5bb7c23e_81f0_11eb_b24f_0242ac110004row39_col0\" class=\"data row39 col0\" >59</td>\n",
       "                        <td id=\"T_5bb7c23e_81f0_11eb_b24f_0242ac110004row39_col1\" class=\"data row39 col1\" >0.862599</td>\n",
       "                        <td id=\"T_5bb7c23e_81f0_11eb_b24f_0242ac110004row39_col2\" class=\"data row39 col2\" >0.055892</td>\n",
       "                        <td id=\"T_5bb7c23e_81f0_11eb_b24f_0242ac110004row39_col3\" class=\"data row39 col3\" >0.014905</td>\n",
       "                        <td id=\"T_5bb7c23e_81f0_11eb_b24f_0242ac110004row39_col4\" class=\"data row39 col4\" >0.011644</td>\n",
       "                        <td id=\"T_5bb7c23e_81f0_11eb_b24f_0242ac110004row39_col5\" class=\"data row39 col5\" >0.007452</td>\n",
       "                        <td id=\"T_5bb7c23e_81f0_11eb_b24f_0242ac110004row39_col6\" class=\"data row39 col6\" >0.952492</td>\n",
       "                        <td id=\"T_5bb7c23e_81f0_11eb_b24f_0242ac110004row39_col7\" class=\"data row39 col7\" >24</td>\n",
       "            </tr>\n",
       "            <tr>\n",
       "                        <th id=\"T_5bb7c23e_81f0_11eb_b24f_0242ac110004level0_row40\" class=\"row_heading level0 row40\" >40</th>\n",
       "                        <td id=\"T_5bb7c23e_81f0_11eb_b24f_0242ac110004row40_col0\" class=\"data row40 col0\" >60</td>\n",
       "                        <td id=\"T_5bb7c23e_81f0_11eb_b24f_0242ac110004row40_col1\" class=\"data row40 col1\" >0.756742</td>\n",
       "                        <td id=\"T_5bb7c23e_81f0_11eb_b24f_0242ac110004row40_col2\" class=\"data row40 col2\" >0.089708</td>\n",
       "                        <td id=\"T_5bb7c23e_81f0_11eb_b24f_0242ac110004row40_col3\" class=\"data row40 col3\" >0.035223</td>\n",
       "                        <td id=\"T_5bb7c23e_81f0_11eb_b24f_0242ac110004row40_col4\" class=\"data row40 col4\" >0.024216</td>\n",
       "                        <td id=\"T_5bb7c23e_81f0_11eb_b24f_0242ac110004row40_col5\" class=\"data row40 col5\" >0.013759</td>\n",
       "                        <td id=\"T_5bb7c23e_81f0_11eb_b24f_0242ac110004row40_col6\" class=\"data row40 col6\" >0.919648</td>\n",
       "                        <td id=\"T_5bb7c23e_81f0_11eb_b24f_0242ac110004row40_col7\" class=\"data row40 col7\" >42</td>\n",
       "            </tr>\n",
       "            <tr>\n",
       "                        <th id=\"T_5bb7c23e_81f0_11eb_b24f_0242ac110004level0_row41\" class=\"row_heading level0 row41\" >41</th>\n",
       "                        <td id=\"T_5bb7c23e_81f0_11eb_b24f_0242ac110004row41_col0\" class=\"data row41 col0\" >61</td>\n",
       "                        <td id=\"T_5bb7c23e_81f0_11eb_b24f_0242ac110004row41_col1\" class=\"data row41 col1\" >0.641322</td>\n",
       "                        <td id=\"T_5bb7c23e_81f0_11eb_b24f_0242ac110004row41_col2\" class=\"data row41 col2\" >0.107452</td>\n",
       "                        <td id=\"T_5bb7c23e_81f0_11eb_b24f_0242ac110004row41_col3\" class=\"data row41 col3\" >0.044733</td>\n",
       "                        <td id=\"T_5bb7c23e_81f0_11eb_b24f_0242ac110004row41_col4\" class=\"data row41 col4\" >0.027914</td>\n",
       "                        <td id=\"T_5bb7c23e_81f0_11eb_b24f_0242ac110004row41_col5\" class=\"data row41 col5\" >0.020089</td>\n",
       "                        <td id=\"T_5bb7c23e_81f0_11eb_b24f_0242ac110004row41_col6\" class=\"data row41 col6\" >0.841509</td>\n",
       "                        <td id=\"T_5bb7c23e_81f0_11eb_b24f_0242ac110004row41_col7\" class=\"data row41 col7\" >106</td>\n",
       "            </tr>\n",
       "            <tr>\n",
       "                        <th id=\"T_5bb7c23e_81f0_11eb_b24f_0242ac110004level0_row42\" class=\"row_heading level0 row42\" >42</th>\n",
       "                        <td id=\"T_5bb7c23e_81f0_11eb_b24f_0242ac110004row42_col0\" class=\"data row42 col0\" >62</td>\n",
       "                        <td id=\"T_5bb7c23e_81f0_11eb_b24f_0242ac110004row42_col1\" class=\"data row42 col1\" >0.658222</td>\n",
       "                        <td id=\"T_5bb7c23e_81f0_11eb_b24f_0242ac110004row42_col2\" class=\"data row42 col2\" >0.096272</td>\n",
       "                        <td id=\"T_5bb7c23e_81f0_11eb_b24f_0242ac110004row42_col3\" class=\"data row42 col3\" >0.045965</td>\n",
       "                        <td id=\"T_5bb7c23e_81f0_11eb_b24f_0242ac110004row42_col4\" class=\"data row42 col4\" >0.026903</td>\n",
       "                        <td id=\"T_5bb7c23e_81f0_11eb_b24f_0242ac110004row42_col5\" class=\"data row42 col5\" >0.020509</td>\n",
       "                        <td id=\"T_5bb7c23e_81f0_11eb_b24f_0242ac110004row42_col6\" class=\"data row42 col6\" >0.847871</td>\n",
       "                        <td id=\"T_5bb7c23e_81f0_11eb_b24f_0242ac110004row42_col7\" class=\"data row42 col7\" >112</td>\n",
       "            </tr>\n",
       "            <tr>\n",
       "                        <th id=\"T_5bb7c23e_81f0_11eb_b24f_0242ac110004level0_row43\" class=\"row_heading level0 row43\" >43</th>\n",
       "                        <td id=\"T_5bb7c23e_81f0_11eb_b24f_0242ac110004row43_col0\" class=\"data row43 col0\" >63</td>\n",
       "                        <td id=\"T_5bb7c23e_81f0_11eb_b24f_0242ac110004row43_col1\" class=\"data row43 col1\" >0.730911</td>\n",
       "                        <td id=\"T_5bb7c23e_81f0_11eb_b24f_0242ac110004row43_col2\" class=\"data row43 col2\" >0.096150</td>\n",
       "                        <td id=\"T_5bb7c23e_81f0_11eb_b24f_0242ac110004row43_col3\" class=\"data row43 col3\" >0.042637</td>\n",
       "                        <td id=\"T_5bb7c23e_81f0_11eb_b24f_0242ac110004row43_col4\" class=\"data row43 col4\" >0.020883</td>\n",
       "                        <td id=\"T_5bb7c23e_81f0_11eb_b24f_0242ac110004row43_col5\" class=\"data row43 col5\" >0.016315</td>\n",
       "                        <td id=\"T_5bb7c23e_81f0_11eb_b24f_0242ac110004row43_col6\" class=\"data row43 col6\" >0.906896</td>\n",
       "                        <td id=\"T_5bb7c23e_81f0_11eb_b24f_0242ac110004row43_col7\" class=\"data row43 col7\" >52</td>\n",
       "            </tr>\n",
       "            <tr>\n",
       "                        <th id=\"T_5bb7c23e_81f0_11eb_b24f_0242ac110004level0_row44\" class=\"row_heading level0 row44\" >44</th>\n",
       "                        <td id=\"T_5bb7c23e_81f0_11eb_b24f_0242ac110004row44_col0\" class=\"data row44 col0\" >64</td>\n",
       "                        <td id=\"T_5bb7c23e_81f0_11eb_b24f_0242ac110004row44_col1\" class=\"data row44 col1\" >0.683140</td>\n",
       "                        <td id=\"T_5bb7c23e_81f0_11eb_b24f_0242ac110004row44_col2\" class=\"data row44 col2\" >0.091206</td>\n",
       "                        <td id=\"T_5bb7c23e_81f0_11eb_b24f_0242ac110004row44_col3\" class=\"data row44 col3\" >0.049419</td>\n",
       "                        <td id=\"T_5bb7c23e_81f0_11eb_b24f_0242ac110004row44_col4\" class=\"data row44 col4\" >0.031977</td>\n",
       "                        <td id=\"T_5bb7c23e_81f0_11eb_b24f_0242ac110004row44_col5\" class=\"data row44 col5\" >0.026163</td>\n",
       "                        <td id=\"T_5bb7c23e_81f0_11eb_b24f_0242ac110004row44_col6\" class=\"data row44 col6\" >0.881904</td>\n",
       "                        <td id=\"T_5bb7c23e_81f0_11eb_b24f_0242ac110004row44_col7\" class=\"data row44 col7\" >25</td>\n",
       "            </tr>\n",
       "            <tr>\n",
       "                        <th id=\"T_5bb7c23e_81f0_11eb_b24f_0242ac110004level0_row45\" class=\"row_heading level0 row45\" >45</th>\n",
       "                        <td id=\"T_5bb7c23e_81f0_11eb_b24f_0242ac110004row45_col0\" class=\"data row45 col0\" >65</td>\n",
       "                        <td id=\"T_5bb7c23e_81f0_11eb_b24f_0242ac110004row45_col1\" class=\"data row45 col1\" >0.823377</td>\n",
       "                        <td id=\"T_5bb7c23e_81f0_11eb_b24f_0242ac110004row45_col2\" class=\"data row45 col2\" >0.083117</td>\n",
       "                        <td id=\"T_5bb7c23e_81f0_11eb_b24f_0242ac110004row45_col3\" class=\"data row45 col3\" >0.031169</td>\n",
       "                        <td id=\"T_5bb7c23e_81f0_11eb_b24f_0242ac110004row45_col4\" class=\"data row45 col4\" >0.029870</td>\n",
       "                        <td id=\"T_5bb7c23e_81f0_11eb_b24f_0242ac110004row45_col5\" class=\"data row45 col5\" >0.011688</td>\n",
       "                        <td id=\"T_5bb7c23e_81f0_11eb_b24f_0242ac110004row45_col6\" class=\"data row45 col6\" >0.979221</td>\n",
       "                        <td id=\"T_5bb7c23e_81f0_11eb_b24f_0242ac110004row45_col7\" class=\"data row45 col7\" >8</td>\n",
       "            </tr>\n",
       "            <tr>\n",
       "                        <th id=\"T_5bb7c23e_81f0_11eb_b24f_0242ac110004level0_row46\" class=\"row_heading level0 row46\" >46</th>\n",
       "                        <td id=\"T_5bb7c23e_81f0_11eb_b24f_0242ac110004row46_col0\" class=\"data row46 col0\" >66</td>\n",
       "                        <td id=\"T_5bb7c23e_81f0_11eb_b24f_0242ac110004row46_col1\" class=\"data row46 col1\" >0.880328</td>\n",
       "                        <td id=\"T_5bb7c23e_81f0_11eb_b24f_0242ac110004row46_col2\" class=\"data row46 col2\" >0.062295</td>\n",
       "                        <td id=\"T_5bb7c23e_81f0_11eb_b24f_0242ac110004row46_col3\" class=\"data row46 col3\" >0.021311</td>\n",
       "                        <td id=\"T_5bb7c23e_81f0_11eb_b24f_0242ac110004row46_col4\" class=\"data row46 col4\" >0.014754</td>\n",
       "                        <td id=\"T_5bb7c23e_81f0_11eb_b24f_0242ac110004row46_col5\" class=\"data row46 col5\" >0.014754</td>\n",
       "                        <td id=\"T_5bb7c23e_81f0_11eb_b24f_0242ac110004row46_col6\" class=\"data row46 col6\" >0.993443</td>\n",
       "                        <td id=\"T_5bb7c23e_81f0_11eb_b24f_0242ac110004row46_col7\" class=\"data row46 col7\" >6</td>\n",
       "            </tr>\n",
       "            <tr>\n",
       "                        <th id=\"T_5bb7c23e_81f0_11eb_b24f_0242ac110004level0_row47\" class=\"row_heading level0 row47\" >47</th>\n",
       "                        <td id=\"T_5bb7c23e_81f0_11eb_b24f_0242ac110004row47_col0\" class=\"data row47 col0\" >67</td>\n",
       "                        <td id=\"T_5bb7c23e_81f0_11eb_b24f_0242ac110004row47_col1\" class=\"data row47 col1\" >0.847682</td>\n",
       "                        <td id=\"T_5bb7c23e_81f0_11eb_b24f_0242ac110004row47_col2\" class=\"data row47 col2\" >0.135762</td>\n",
       "                        <td id=\"T_5bb7c23e_81f0_11eb_b24f_0242ac110004row47_col3\" class=\"data row47 col3\" >0.006623</td>\n",
       "                        <td id=\"T_5bb7c23e_81f0_11eb_b24f_0242ac110004row47_col4\" class=\"data row47 col4\" >0.000000</td>\n",
       "                        <td id=\"T_5bb7c23e_81f0_11eb_b24f_0242ac110004row47_col5\" class=\"data row47 col5\" >0.001656</td>\n",
       "                        <td id=\"T_5bb7c23e_81f0_11eb_b24f_0242ac110004row47_col6\" class=\"data row47 col6\" >0.991722</td>\n",
       "                        <td id=\"T_5bb7c23e_81f0_11eb_b24f_0242ac110004row47_col7\" class=\"data row47 col7\" >8</td>\n",
       "            </tr>\n",
       "            <tr>\n",
       "                        <th id=\"T_5bb7c23e_81f0_11eb_b24f_0242ac110004level0_row48\" class=\"row_heading level0 row48\" >48</th>\n",
       "                        <td id=\"T_5bb7c23e_81f0_11eb_b24f_0242ac110004row48_col0\" class=\"data row48 col0\" >72</td>\n",
       "                        <td id=\"T_5bb7c23e_81f0_11eb_b24f_0242ac110004row48_col1\" class=\"data row48 col1\" >0.676898</td>\n",
       "                        <td id=\"T_5bb7c23e_81f0_11eb_b24f_0242ac110004row48_col2\" class=\"data row48 col2\" >0.090966</td>\n",
       "                        <td id=\"T_5bb7c23e_81f0_11eb_b24f_0242ac110004row48_col3\" class=\"data row48 col3\" >0.046104</td>\n",
       "                        <td id=\"T_5bb7c23e_81f0_11eb_b24f_0242ac110004row48_col4\" class=\"data row48 col4\" >0.024357</td>\n",
       "                        <td id=\"T_5bb7c23e_81f0_11eb_b24f_0242ac110004row48_col5\" class=\"data row48 col5\" >0.015782</td>\n",
       "                        <td id=\"T_5bb7c23e_81f0_11eb_b24f_0242ac110004row48_col6\" class=\"data row48 col6\" >0.854107</td>\n",
       "                        <td id=\"T_5bb7c23e_81f0_11eb_b24f_0242ac110004row48_col7\" class=\"data row48 col7\" >165</td>\n",
       "            </tr>\n",
       "            <tr>\n",
       "                        <th id=\"T_5bb7c23e_81f0_11eb_b24f_0242ac110004level0_row49\" class=\"row_heading level0 row49\" >49</th>\n",
       "                        <td id=\"T_5bb7c23e_81f0_11eb_b24f_0242ac110004row49_col0\" class=\"data row49 col0\" >73</td>\n",
       "                        <td id=\"T_5bb7c23e_81f0_11eb_b24f_0242ac110004row49_col1\" class=\"data row49 col1\" >0.723352</td>\n",
       "                        <td id=\"T_5bb7c23e_81f0_11eb_b24f_0242ac110004row49_col2\" class=\"data row49 col2\" >0.087052</td>\n",
       "                        <td id=\"T_5bb7c23e_81f0_11eb_b24f_0242ac110004row49_col3\" class=\"data row49 col3\" >0.035208</td>\n",
       "                        <td id=\"T_5bb7c23e_81f0_11eb_b24f_0242ac110004row49_col4\" class=\"data row49 col4\" >0.019629</td>\n",
       "                        <td id=\"T_5bb7c23e_81f0_11eb_b24f_0242ac110004row49_col5\" class=\"data row49 col5\" >0.013643</td>\n",
       "                        <td id=\"T_5bb7c23e_81f0_11eb_b24f_0242ac110004row49_col6\" class=\"data row49 col6\" >0.878884</td>\n",
       "                        <td id=\"T_5bb7c23e_81f0_11eb_b24f_0242ac110004row49_col7\" class=\"data row49 col7\" >124</td>\n",
       "            </tr>\n",
       "            <tr>\n",
       "                        <th id=\"T_5bb7c23e_81f0_11eb_b24f_0242ac110004level0_row50\" class=\"row_heading level0 row50\" >50</th>\n",
       "                        <td id=\"T_5bb7c23e_81f0_11eb_b24f_0242ac110004row50_col0\" class=\"data row50 col0\" >74</td>\n",
       "                        <td id=\"T_5bb7c23e_81f0_11eb_b24f_0242ac110004row50_col1\" class=\"data row50 col1\" >0.821670</td>\n",
       "                        <td id=\"T_5bb7c23e_81f0_11eb_b24f_0242ac110004row50_col2\" class=\"data row50 col2\" >0.064334</td>\n",
       "                        <td id=\"T_5bb7c23e_81f0_11eb_b24f_0242ac110004row50_col3\" class=\"data row50 col3\" >0.026524</td>\n",
       "                        <td id=\"T_5bb7c23e_81f0_11eb_b24f_0242ac110004row50_col4\" class=\"data row50 col4\" >0.012415</td>\n",
       "                        <td id=\"T_5bb7c23e_81f0_11eb_b24f_0242ac110004row50_col5\" class=\"data row50 col5\" >0.011851</td>\n",
       "                        <td id=\"T_5bb7c23e_81f0_11eb_b24f_0242ac110004row50_col6\" class=\"data row50 col6\" >0.936795</td>\n",
       "                        <td id=\"T_5bb7c23e_81f0_11eb_b24f_0242ac110004row50_col7\" class=\"data row50 col7\" >50</td>\n",
       "            </tr>\n",
       "            <tr>\n",
       "                        <th id=\"T_5bb7c23e_81f0_11eb_b24f_0242ac110004level0_row51\" class=\"row_heading level0 row51\" >51</th>\n",
       "                        <td id=\"T_5bb7c23e_81f0_11eb_b24f_0242ac110004row51_col0\" class=\"data row51 col0\" >75</td>\n",
       "                        <td id=\"T_5bb7c23e_81f0_11eb_b24f_0242ac110004row51_col1\" class=\"data row51 col1\" >0.866324</td>\n",
       "                        <td id=\"T_5bb7c23e_81f0_11eb_b24f_0242ac110004row51_col2\" class=\"data row51 col2\" >0.041131</td>\n",
       "                        <td id=\"T_5bb7c23e_81f0_11eb_b24f_0242ac110004row51_col3\" class=\"data row51 col3\" >0.024422</td>\n",
       "                        <td id=\"T_5bb7c23e_81f0_11eb_b24f_0242ac110004row51_col4\" class=\"data row51 col4\" >0.014139</td>\n",
       "                        <td id=\"T_5bb7c23e_81f0_11eb_b24f_0242ac110004row51_col5\" class=\"data row51 col5\" >0.006427</td>\n",
       "                        <td id=\"T_5bb7c23e_81f0_11eb_b24f_0242ac110004row51_col6\" class=\"data row51 col6\" >0.952442</td>\n",
       "                        <td id=\"T_5bb7c23e_81f0_11eb_b24f_0242ac110004row51_col7\" class=\"data row51 col7\" >17</td>\n",
       "            </tr>\n",
       "            <tr>\n",
       "                        <th id=\"T_5bb7c23e_81f0_11eb_b24f_0242ac110004level0_row52\" class=\"row_heading level0 row52\" >52</th>\n",
       "                        <td id=\"T_5bb7c23e_81f0_11eb_b24f_0242ac110004row52_col0\" class=\"data row52 col0\" >76</td>\n",
       "                        <td id=\"T_5bb7c23e_81f0_11eb_b24f_0242ac110004row52_col1\" class=\"data row52 col1\" >0.788920</td>\n",
       "                        <td id=\"T_5bb7c23e_81f0_11eb_b24f_0242ac110004row52_col2\" class=\"data row52 col2\" >0.077273</td>\n",
       "                        <td id=\"T_5bb7c23e_81f0_11eb_b24f_0242ac110004row52_col3\" class=\"data row52 col3\" >0.029261</td>\n",
       "                        <td id=\"T_5bb7c23e_81f0_11eb_b24f_0242ac110004row52_col4\" class=\"data row52 col4\" >0.024148</td>\n",
       "                        <td id=\"T_5bb7c23e_81f0_11eb_b24f_0242ac110004row52_col5\" class=\"data row52 col5\" >0.013920</td>\n",
       "                        <td id=\"T_5bb7c23e_81f0_11eb_b24f_0242ac110004row52_col6\" class=\"data row52 col6\" >0.933523</td>\n",
       "                        <td id=\"T_5bb7c23e_81f0_11eb_b24f_0242ac110004row52_col7\" class=\"data row52 col7\" >35</td>\n",
       "            </tr>\n",
       "            <tr>\n",
       "                        <th id=\"T_5bb7c23e_81f0_11eb_b24f_0242ac110004level0_row53\" class=\"row_heading level0 row53\" >53</th>\n",
       "                        <td id=\"T_5bb7c23e_81f0_11eb_b24f_0242ac110004row53_col0\" class=\"data row53 col0\" >78</td>\n",
       "                        <td id=\"T_5bb7c23e_81f0_11eb_b24f_0242ac110004row53_col1\" class=\"data row53 col1\" >0.886228</td>\n",
       "                        <td id=\"T_5bb7c23e_81f0_11eb_b24f_0242ac110004row53_col2\" class=\"data row53 col2\" >0.041916</td>\n",
       "                        <td id=\"T_5bb7c23e_81f0_11eb_b24f_0242ac110004row53_col3\" class=\"data row53 col3\" >0.032934</td>\n",
       "                        <td id=\"T_5bb7c23e_81f0_11eb_b24f_0242ac110004row53_col4\" class=\"data row53 col4\" >0.020958</td>\n",
       "                        <td id=\"T_5bb7c23e_81f0_11eb_b24f_0242ac110004row53_col5\" class=\"data row53 col5\" >0.008982</td>\n",
       "                        <td id=\"T_5bb7c23e_81f0_11eb_b24f_0242ac110004row53_col6\" class=\"data row53 col6\" >0.991018</td>\n",
       "                        <td id=\"T_5bb7c23e_81f0_11eb_b24f_0242ac110004row53_col7\" class=\"data row53 col7\" >8</td>\n",
       "            </tr>\n",
       "            <tr>\n",
       "                        <th id=\"T_5bb7c23e_81f0_11eb_b24f_0242ac110004level0_row54\" class=\"row_heading level0 row54\" >54</th>\n",
       "                        <td id=\"T_5bb7c23e_81f0_11eb_b24f_0242ac110004row54_col0\" class=\"data row54 col0\" >79</td>\n",
       "                        <td id=\"T_5bb7c23e_81f0_11eb_b24f_0242ac110004row54_col1\" class=\"data row54 col1\" >0.890390</td>\n",
       "                        <td id=\"T_5bb7c23e_81f0_11eb_b24f_0242ac110004row54_col2\" class=\"data row54 col2\" >0.076577</td>\n",
       "                        <td id=\"T_5bb7c23e_81f0_11eb_b24f_0242ac110004row54_col3\" class=\"data row54 col3\" >0.015015</td>\n",
       "                        <td id=\"T_5bb7c23e_81f0_11eb_b24f_0242ac110004row54_col4\" class=\"data row54 col4\" >0.001502</td>\n",
       "                        <td id=\"T_5bb7c23e_81f0_11eb_b24f_0242ac110004row54_col5\" class=\"data row54 col5\" >0.001502</td>\n",
       "                        <td id=\"T_5bb7c23e_81f0_11eb_b24f_0242ac110004row54_col6\" class=\"data row54 col6\" >0.984985</td>\n",
       "                        <td id=\"T_5bb7c23e_81f0_11eb_b24f_0242ac110004row54_col7\" class=\"data row54 col7\" >9</td>\n",
       "            </tr>\n",
       "            <tr>\n",
       "                        <th id=\"T_5bb7c23e_81f0_11eb_b24f_0242ac110004level0_row55\" class=\"row_heading level0 row55\" >55</th>\n",
       "                        <td id=\"T_5bb7c23e_81f0_11eb_b24f_0242ac110004row55_col0\" class=\"data row55 col0\" >80</td>\n",
       "                        <td id=\"T_5bb7c23e_81f0_11eb_b24f_0242ac110004row55_col1\" class=\"data row55 col1\" >0.876712</td>\n",
       "                        <td id=\"T_5bb7c23e_81f0_11eb_b24f_0242ac110004row55_col2\" class=\"data row55 col2\" >0.087671</td>\n",
       "                        <td id=\"T_5bb7c23e_81f0_11eb_b24f_0242ac110004row55_col3\" class=\"data row55 col3\" >0.021918</td>\n",
       "                        <td id=\"T_5bb7c23e_81f0_11eb_b24f_0242ac110004row55_col4\" class=\"data row55 col4\" >0.005479</td>\n",
       "                        <td id=\"T_5bb7c23e_81f0_11eb_b24f_0242ac110004row55_col5\" class=\"data row55 col5\" >0.008219</td>\n",
       "                        <td id=\"T_5bb7c23e_81f0_11eb_b24f_0242ac110004row55_col6\" class=\"data row55 col6\" >1.000000</td>\n",
       "                        <td id=\"T_5bb7c23e_81f0_11eb_b24f_0242ac110004row55_col7\" class=\"data row55 col7\" >5</td>\n",
       "            </tr>\n",
       "            <tr>\n",
       "                        <th id=\"T_5bb7c23e_81f0_11eb_b24f_0242ac110004level0_row56\" class=\"row_heading level0 row56\" >56</th>\n",
       "                        <td id=\"T_5bb7c23e_81f0_11eb_b24f_0242ac110004row56_col0\" class=\"data row56 col0\" >81</td>\n",
       "                        <td id=\"T_5bb7c23e_81f0_11eb_b24f_0242ac110004row56_col1\" class=\"data row56 col1\" >0.795371</td>\n",
       "                        <td id=\"T_5bb7c23e_81f0_11eb_b24f_0242ac110004row56_col2\" class=\"data row56 col2\" >0.047503</td>\n",
       "                        <td id=\"T_5bb7c23e_81f0_11eb_b24f_0242ac110004row56_col3\" class=\"data row56 col3\" >0.026797</td>\n",
       "                        <td id=\"T_5bb7c23e_81f0_11eb_b24f_0242ac110004row56_col4\" class=\"data row56 col4\" >0.019488</td>\n",
       "                        <td id=\"T_5bb7c23e_81f0_11eb_b24f_0242ac110004row56_col5\" class=\"data row56 col5\" >0.012180</td>\n",
       "                        <td id=\"T_5bb7c23e_81f0_11eb_b24f_0242ac110004row56_col6\" class=\"data row56 col6\" >0.901340</td>\n",
       "                        <td id=\"T_5bb7c23e_81f0_11eb_b24f_0242ac110004row56_col7\" class=\"data row56 col7\" >40</td>\n",
       "            </tr>\n",
       "            <tr>\n",
       "                        <th id=\"T_5bb7c23e_81f0_11eb_b24f_0242ac110004level0_row57\" class=\"row_heading level0 row57\" >57</th>\n",
       "                        <td id=\"T_5bb7c23e_81f0_11eb_b24f_0242ac110004row57_col0\" class=\"data row57 col0\" >82</td>\n",
       "                        <td id=\"T_5bb7c23e_81f0_11eb_b24f_0242ac110004row57_col1\" class=\"data row57 col1\" >0.762824</td>\n",
       "                        <td id=\"T_5bb7c23e_81f0_11eb_b24f_0242ac110004row57_col2\" class=\"data row57 col2\" >0.073725</td>\n",
       "                        <td id=\"T_5bb7c23e_81f0_11eb_b24f_0242ac110004row57_col3\" class=\"data row57 col3\" >0.029804</td>\n",
       "                        <td id=\"T_5bb7c23e_81f0_11eb_b24f_0242ac110004row57_col4\" class=\"data row57 col4\" >0.018353</td>\n",
       "                        <td id=\"T_5bb7c23e_81f0_11eb_b24f_0242ac110004row57_col5\" class=\"data row57 col5\" >0.013176</td>\n",
       "                        <td id=\"T_5bb7c23e_81f0_11eb_b24f_0242ac110004row57_col6\" class=\"data row57 col6\" >0.897882</td>\n",
       "                        <td id=\"T_5bb7c23e_81f0_11eb_b24f_0242ac110004row57_col7\" class=\"data row57 col7\" >64</td>\n",
       "            </tr>\n",
       "            <tr>\n",
       "                        <th id=\"T_5bb7c23e_81f0_11eb_b24f_0242ac110004level0_row58\" class=\"row_heading level0 row58\" >58</th>\n",
       "                        <td id=\"T_5bb7c23e_81f0_11eb_b24f_0242ac110004row58_col0\" class=\"data row58 col0\" >83</td>\n",
       "                        <td id=\"T_5bb7c23e_81f0_11eb_b24f_0242ac110004row58_col1\" class=\"data row58 col1\" >0.805119</td>\n",
       "                        <td id=\"T_5bb7c23e_81f0_11eb_b24f_0242ac110004row58_col2\" class=\"data row58 col2\" >0.060251</td>\n",
       "                        <td id=\"T_5bb7c23e_81f0_11eb_b24f_0242ac110004row58_col3\" class=\"data row58 col3\" >0.026660</td>\n",
       "                        <td id=\"T_5bb7c23e_81f0_11eb_b24f_0242ac110004row58_col4\" class=\"data row58 col4\" >0.018928</td>\n",
       "                        <td id=\"T_5bb7c23e_81f0_11eb_b24f_0242ac110004row58_col5\" class=\"data row58 col5\" >0.011730</td>\n",
       "                        <td id=\"T_5bb7c23e_81f0_11eb_b24f_0242ac110004row58_col6\" class=\"data row58 col6\" >0.922687</td>\n",
       "                        <td id=\"T_5bb7c23e_81f0_11eb_b24f_0242ac110004row58_col7\" class=\"data row58 col7\" >36</td>\n",
       "            </tr>\n",
       "            <tr>\n",
       "                        <th id=\"T_5bb7c23e_81f0_11eb_b24f_0242ac110004level0_row59\" class=\"row_heading level0 row59\" >59</th>\n",
       "                        <td id=\"T_5bb7c23e_81f0_11eb_b24f_0242ac110004row59_col0\" class=\"data row59 col0\" >84</td>\n",
       "                        <td id=\"T_5bb7c23e_81f0_11eb_b24f_0242ac110004row59_col1\" class=\"data row59 col1\" >0.680097</td>\n",
       "                        <td id=\"T_5bb7c23e_81f0_11eb_b24f_0242ac110004row59_col2\" class=\"data row59 col2\" >0.079245</td>\n",
       "                        <td id=\"T_5bb7c23e_81f0_11eb_b24f_0242ac110004row59_col3\" class=\"data row59 col3\" >0.030410</td>\n",
       "                        <td id=\"T_5bb7c23e_81f0_11eb_b24f_0242ac110004row59_col4\" class=\"data row59 col4\" >0.018004</td>\n",
       "                        <td id=\"T_5bb7c23e_81f0_11eb_b24f_0242ac110004row59_col5\" class=\"data row59 col5\" >0.012654</td>\n",
       "                        <td id=\"T_5bb7c23e_81f0_11eb_b24f_0242ac110004row59_col6\" class=\"data row59 col6\" >0.820411</td>\n",
       "                        <td id=\"T_5bb7c23e_81f0_11eb_b24f_0242ac110004row59_col7\" class=\"data row59 col7\" >513</td>\n",
       "            </tr>\n",
       "            <tr>\n",
       "                        <th id=\"T_5bb7c23e_81f0_11eb_b24f_0242ac110004level0_row60\" class=\"row_heading level0 row60\" >60</th>\n",
       "                        <td id=\"T_5bb7c23e_81f0_11eb_b24f_0242ac110004row60_col0\" class=\"data row60 col0\" >85</td>\n",
       "                        <td id=\"T_5bb7c23e_81f0_11eb_b24f_0242ac110004row60_col1\" class=\"data row60 col1\" >0.668091</td>\n",
       "                        <td id=\"T_5bb7c23e_81f0_11eb_b24f_0242ac110004row60_col2\" class=\"data row60 col2\" >0.088770</td>\n",
       "                        <td id=\"T_5bb7c23e_81f0_11eb_b24f_0242ac110004row60_col3\" class=\"data row60 col3\" >0.032080</td>\n",
       "                        <td id=\"T_5bb7c23e_81f0_11eb_b24f_0242ac110004row60_col4\" class=\"data row60 col4\" >0.018222</td>\n",
       "                        <td id=\"T_5bb7c23e_81f0_11eb_b24f_0242ac110004row60_col5\" class=\"data row60 col5\" >0.013453</td>\n",
       "                        <td id=\"T_5bb7c23e_81f0_11eb_b24f_0242ac110004row60_col6\" class=\"data row60 col6\" >0.820615</td>\n",
       "                        <td id=\"T_5bb7c23e_81f0_11eb_b24f_0242ac110004row60_col7\" class=\"data row60 col7\" >264</td>\n",
       "            </tr>\n",
       "            <tr>\n",
       "                        <th id=\"T_5bb7c23e_81f0_11eb_b24f_0242ac110004level0_row61\" class=\"row_heading level0 row61\" >61</th>\n",
       "                        <td id=\"T_5bb7c23e_81f0_11eb_b24f_0242ac110004row61_col0\" class=\"data row61 col0\" >86</td>\n",
       "                        <td id=\"T_5bb7c23e_81f0_11eb_b24f_0242ac110004row61_col1\" class=\"data row61 col1\" >0.891566</td>\n",
       "                        <td id=\"T_5bb7c23e_81f0_11eb_b24f_0242ac110004row61_col2\" class=\"data row61 col2\" >0.034242</td>\n",
       "                        <td id=\"T_5bb7c23e_81f0_11eb_b24f_0242ac110004row61_col3\" class=\"data row61 col3\" >0.012048</td>\n",
       "                        <td id=\"T_5bb7c23e_81f0_11eb_b24f_0242ac110004row61_col4\" class=\"data row61 col4\" >0.006341</td>\n",
       "                        <td id=\"T_5bb7c23e_81f0_11eb_b24f_0242ac110004row61_col5\" class=\"data row61 col5\" >0.012048</td>\n",
       "                        <td id=\"T_5bb7c23e_81f0_11eb_b24f_0242ac110004row61_col6\" class=\"data row61 col6\" >0.956246</td>\n",
       "                        <td id=\"T_5bb7c23e_81f0_11eb_b24f_0242ac110004row61_col7\" class=\"data row61 col7\" >23</td>\n",
       "            </tr>\n",
       "            <tr>\n",
       "                        <th id=\"T_5bb7c23e_81f0_11eb_b24f_0242ac110004level0_row62\" class=\"row_heading level0 row62\" >62</th>\n",
       "                        <td id=\"T_5bb7c23e_81f0_11eb_b24f_0242ac110004row62_col0\" class=\"data row62 col0\" >87</td>\n",
       "                        <td id=\"T_5bb7c23e_81f0_11eb_b24f_0242ac110004row62_col1\" class=\"data row62 col1\" >0.710116</td>\n",
       "                        <td id=\"T_5bb7c23e_81f0_11eb_b24f_0242ac110004row62_col2\" class=\"data row62 col2\" >0.078102</td>\n",
       "                        <td id=\"T_5bb7c23e_81f0_11eb_b24f_0242ac110004row62_col3\" class=\"data row62 col3\" >0.035452</td>\n",
       "                        <td id=\"T_5bb7c23e_81f0_11eb_b24f_0242ac110004row62_col4\" class=\"data row62 col4\" >0.027322</td>\n",
       "                        <td id=\"T_5bb7c23e_81f0_11eb_b24f_0242ac110004row62_col5\" class=\"data row62 col5\" >0.019725</td>\n",
       "                        <td id=\"T_5bb7c23e_81f0_11eb_b24f_0242ac110004row62_col6\" class=\"data row62 col6\" >0.870718</td>\n",
       "                        <td id=\"T_5bb7c23e_81f0_11eb_b24f_0242ac110004row62_col7\" class=\"data row62 col7\" >84</td>\n",
       "            </tr>\n",
       "            <tr>\n",
       "                        <th id=\"T_5bb7c23e_81f0_11eb_b24f_0242ac110004level0_row63\" class=\"row_heading level0 row63\" >63</th>\n",
       "                        <td id=\"T_5bb7c23e_81f0_11eb_b24f_0242ac110004row63_col0\" class=\"data row63 col0\" >88</td>\n",
       "                        <td id=\"T_5bb7c23e_81f0_11eb_b24f_0242ac110004row63_col1\" class=\"data row63 col1\" >0.777389</td>\n",
       "                        <td id=\"T_5bb7c23e_81f0_11eb_b24f_0242ac110004row63_col2\" class=\"data row63 col2\" >0.089744</td>\n",
       "                        <td id=\"T_5bb7c23e_81f0_11eb_b24f_0242ac110004row63_col3\" class=\"data row63 col3\" >0.043124</td>\n",
       "                        <td id=\"T_5bb7c23e_81f0_11eb_b24f_0242ac110004row63_col4\" class=\"data row63 col4\" >0.030303</td>\n",
       "                        <td id=\"T_5bb7c23e_81f0_11eb_b24f_0242ac110004row63_col5\" class=\"data row63 col5\" >0.016317</td>\n",
       "                        <td id=\"T_5bb7c23e_81f0_11eb_b24f_0242ac110004row63_col6\" class=\"data row63 col6\" >0.956876</td>\n",
       "                        <td id=\"T_5bb7c23e_81f0_11eb_b24f_0242ac110004row63_col7\" class=\"data row63 col7\" >15</td>\n",
       "            </tr>\n",
       "            <tr>\n",
       "                        <th id=\"T_5bb7c23e_81f0_11eb_b24f_0242ac110004level0_row64\" class=\"row_heading level0 row64\" >64</th>\n",
       "                        <td id=\"T_5bb7c23e_81f0_11eb_b24f_0242ac110004row64_col0\" class=\"data row64 col0\" >89</td>\n",
       "                        <td id=\"T_5bb7c23e_81f0_11eb_b24f_0242ac110004row64_col1\" class=\"data row64 col1\" >0.866297</td>\n",
       "                        <td id=\"T_5bb7c23e_81f0_11eb_b24f_0242ac110004row64_col2\" class=\"data row64 col2\" >0.047468</td>\n",
       "                        <td id=\"T_5bb7c23e_81f0_11eb_b24f_0242ac110004row64_col3\" class=\"data row64 col3\" >0.017405</td>\n",
       "                        <td id=\"T_5bb7c23e_81f0_11eb_b24f_0242ac110004row64_col4\" class=\"data row64 col4\" >0.012658</td>\n",
       "                        <td id=\"T_5bb7c23e_81f0_11eb_b24f_0242ac110004row64_col5\" class=\"data row64 col5\" >0.011076</td>\n",
       "                        <td id=\"T_5bb7c23e_81f0_11eb_b24f_0242ac110004row64_col6\" class=\"data row64 col6\" >0.954905</td>\n",
       "                        <td id=\"T_5bb7c23e_81f0_11eb_b24f_0242ac110004row64_col7\" class=\"data row64 col7\" >17</td>\n",
       "            </tr>\n",
       "            <tr>\n",
       "                        <th id=\"T_5bb7c23e_81f0_11eb_b24f_0242ac110004level0_row65\" class=\"row_heading level0 row65\" >65</th>\n",
       "                        <td id=\"T_5bb7c23e_81f0_11eb_b24f_0242ac110004row65_col0\" class=\"data row65 col0\" >90</td>\n",
       "                        <td id=\"T_5bb7c23e_81f0_11eb_b24f_0242ac110004row65_col1\" class=\"data row65 col1\" >0.738073</td>\n",
       "                        <td id=\"T_5bb7c23e_81f0_11eb_b24f_0242ac110004row65_col2\" class=\"data row65 col2\" >0.061445</td>\n",
       "                        <td id=\"T_5bb7c23e_81f0_11eb_b24f_0242ac110004row65_col3\" class=\"data row65 col3\" >0.023592</td>\n",
       "                        <td id=\"T_5bb7c23e_81f0_11eb_b24f_0242ac110004row65_col4\" class=\"data row65 col4\" >0.013212</td>\n",
       "                        <td id=\"T_5bb7c23e_81f0_11eb_b24f_0242ac110004row65_col5\" class=\"data row65 col5\" >0.010800</td>\n",
       "                        <td id=\"T_5bb7c23e_81f0_11eb_b24f_0242ac110004row65_col6\" class=\"data row65 col6\" >0.847122</td>\n",
       "                        <td id=\"T_5bb7c23e_81f0_11eb_b24f_0242ac110004row65_col7\" class=\"data row65 col7\" >142</td>\n",
       "            </tr>\n",
       "            <tr>\n",
       "                        <th id=\"T_5bb7c23e_81f0_11eb_b24f_0242ac110004level0_row66\" class=\"row_heading level0 row66\" >66</th>\n",
       "                        <td id=\"T_5bb7c23e_81f0_11eb_b24f_0242ac110004row66_col0\" class=\"data row66 col0\" >91</td>\n",
       "                        <td id=\"T_5bb7c23e_81f0_11eb_b24f_0242ac110004row66_col1\" class=\"data row66 col1\" >0.707135</td>\n",
       "                        <td id=\"T_5bb7c23e_81f0_11eb_b24f_0242ac110004row66_col2\" class=\"data row66 col2\" >0.083422</td>\n",
       "                        <td id=\"T_5bb7c23e_81f0_11eb_b24f_0242ac110004row66_col3\" class=\"data row66 col3\" >0.031949</td>\n",
       "                        <td id=\"T_5bb7c23e_81f0_11eb_b24f_0242ac110004row66_col4\" class=\"data row66 col4\" >0.027334</td>\n",
       "                        <td id=\"T_5bb7c23e_81f0_11eb_b24f_0242ac110004row66_col5\" class=\"data row66 col5\" >0.016684</td>\n",
       "                        <td id=\"T_5bb7c23e_81f0_11eb_b24f_0242ac110004row66_col6\" class=\"data row66 col6\" >0.866525</td>\n",
       "                        <td id=\"T_5bb7c23e_81f0_11eb_b24f_0242ac110004row66_col7\" class=\"data row66 col7\" >48</td>\n",
       "            </tr>\n",
       "            <tr>\n",
       "                        <th id=\"T_5bb7c23e_81f0_11eb_b24f_0242ac110004level0_row67\" class=\"row_heading level0 row67\" >67</th>\n",
       "                        <td id=\"T_5bb7c23e_81f0_11eb_b24f_0242ac110004row67_col0\" class=\"data row67 col0\" >92</td>\n",
       "                        <td id=\"T_5bb7c23e_81f0_11eb_b24f_0242ac110004row67_col1\" class=\"data row67 col1\" >0.771084</td>\n",
       "                        <td id=\"T_5bb7c23e_81f0_11eb_b24f_0242ac110004row67_col2\" class=\"data row67 col2\" >0.093551</td>\n",
       "                        <td id=\"T_5bb7c23e_81f0_11eb_b24f_0242ac110004row67_col3\" class=\"data row67 col3\" >0.038271</td>\n",
       "                        <td id=\"T_5bb7c23e_81f0_11eb_b24f_0242ac110004row67_col4\" class=\"data row67 col4\" >0.025514</td>\n",
       "                        <td id=\"T_5bb7c23e_81f0_11eb_b24f_0242ac110004row67_col5\" class=\"data row67 col5\" >0.014174</td>\n",
       "                        <td id=\"T_5bb7c23e_81f0_11eb_b24f_0242ac110004row67_col6\" class=\"data row67 col6\" >0.942594</td>\n",
       "                        <td id=\"T_5bb7c23e_81f0_11eb_b24f_0242ac110004row67_col7\" class=\"data row67 col7\" >17</td>\n",
       "            </tr>\n",
       "            <tr>\n",
       "                        <th id=\"T_5bb7c23e_81f0_11eb_b24f_0242ac110004level0_row68\" class=\"row_heading level0 row68\" >68</th>\n",
       "                        <td id=\"T_5bb7c23e_81f0_11eb_b24f_0242ac110004row68_col0\" class=\"data row68 col0\" >93</td>\n",
       "                        <td id=\"T_5bb7c23e_81f0_11eb_b24f_0242ac110004row68_col1\" class=\"data row68 col1\" >0.879439</td>\n",
       "                        <td id=\"T_5bb7c23e_81f0_11eb_b24f_0242ac110004row68_col2\" class=\"data row68 col2\" >0.036449</td>\n",
       "                        <td id=\"T_5bb7c23e_81f0_11eb_b24f_0242ac110004row68_col3\" class=\"data row68 col3\" >0.018692</td>\n",
       "                        <td id=\"T_5bb7c23e_81f0_11eb_b24f_0242ac110004row68_col4\" class=\"data row68 col4\" >0.016822</td>\n",
       "                        <td id=\"T_5bb7c23e_81f0_11eb_b24f_0242ac110004row68_col5\" class=\"data row68 col5\" >0.004673</td>\n",
       "                        <td id=\"T_5bb7c23e_81f0_11eb_b24f_0242ac110004row68_col6\" class=\"data row68 col6\" >0.956075</td>\n",
       "                        <td id=\"T_5bb7c23e_81f0_11eb_b24f_0242ac110004row68_col7\" class=\"data row68 col7\" >18</td>\n",
       "            </tr>\n",
       "            <tr>\n",
       "                        <th id=\"T_5bb7c23e_81f0_11eb_b24f_0242ac110004level0_row69\" class=\"row_heading level0 row69\" >69</th>\n",
       "                        <td id=\"T_5bb7c23e_81f0_11eb_b24f_0242ac110004row69_col0\" class=\"data row69 col0\" >94</td>\n",
       "                        <td id=\"T_5bb7c23e_81f0_11eb_b24f_0242ac110004row69_col1\" class=\"data row69 col1\" >0.685982</td>\n",
       "                        <td id=\"T_5bb7c23e_81f0_11eb_b24f_0242ac110004row69_col2\" class=\"data row69 col2\" >0.097615</td>\n",
       "                        <td id=\"T_5bb7c23e_81f0_11eb_b24f_0242ac110004row69_col3\" class=\"data row69 col3\" >0.047916</td>\n",
       "                        <td id=\"T_5bb7c23e_81f0_11eb_b24f_0242ac110004row69_col4\" class=\"data row69 col4\" >0.026075</td>\n",
       "                        <td id=\"T_5bb7c23e_81f0_11eb_b24f_0242ac110004row69_col5\" class=\"data row69 col5\" >0.022509</td>\n",
       "                        <td id=\"T_5bb7c23e_81f0_11eb_b24f_0242ac110004row69_col6\" class=\"data row69 col6\" >0.880098</td>\n",
       "                        <td id=\"T_5bb7c23e_81f0_11eb_b24f_0242ac110004row69_col7\" class=\"data row69 col7\" >42</td>\n",
       "            </tr>\n",
       "            <tr>\n",
       "                        <th id=\"T_5bb7c23e_81f0_11eb_b24f_0242ac110004level0_row70\" class=\"row_heading level0 row70\" >70</th>\n",
       "                        <td id=\"T_5bb7c23e_81f0_11eb_b24f_0242ac110004row70_col0\" class=\"data row70 col0\" >95</td>\n",
       "                        <td id=\"T_5bb7c23e_81f0_11eb_b24f_0242ac110004row70_col1\" class=\"data row70 col1\" >0.810585</td>\n",
       "                        <td id=\"T_5bb7c23e_81f0_11eb_b24f_0242ac110004row70_col2\" class=\"data row70 col2\" >0.076447</td>\n",
       "                        <td id=\"T_5bb7c23e_81f0_11eb_b24f_0242ac110004row70_col3\" class=\"data row70 col3\" >0.026927</td>\n",
       "                        <td id=\"T_5bb7c23e_81f0_11eb_b24f_0242ac110004row70_col4\" class=\"data row70 col4\" >0.011452</td>\n",
       "                        <td id=\"T_5bb7c23e_81f0_11eb_b24f_0242ac110004row70_col5\" class=\"data row70 col5\" >0.013618</td>\n",
       "                        <td id=\"T_5bb7c23e_81f0_11eb_b24f_0242ac110004row70_col6\" class=\"data row70 col6\" >0.939028</td>\n",
       "                        <td id=\"T_5bb7c23e_81f0_11eb_b24f_0242ac110004row70_col7\" class=\"data row70 col7\" >31</td>\n",
       "            </tr>\n",
       "            <tr>\n",
       "                        <th id=\"T_5bb7c23e_81f0_11eb_b24f_0242ac110004level0_row71\" class=\"row_heading level0 row71\" >71</th>\n",
       "                        <td id=\"T_5bb7c23e_81f0_11eb_b24f_0242ac110004row71_col0\" class=\"data row71 col0\" >96</td>\n",
       "                        <td id=\"T_5bb7c23e_81f0_11eb_b24f_0242ac110004row71_col1\" class=\"data row71 col1\" >0.831787</td>\n",
       "                        <td id=\"T_5bb7c23e_81f0_11eb_b24f_0242ac110004row71_col2\" class=\"data row71 col2\" >0.058638</td>\n",
       "                        <td id=\"T_5bb7c23e_81f0_11eb_b24f_0242ac110004row71_col3\" class=\"data row71 col3\" >0.025864</td>\n",
       "                        <td id=\"T_5bb7c23e_81f0_11eb_b24f_0242ac110004row71_col4\" class=\"data row71 col4\" >0.013623</td>\n",
       "                        <td id=\"T_5bb7c23e_81f0_11eb_b24f_0242ac110004row71_col5\" class=\"data row71 col5\" >0.009477</td>\n",
       "                        <td id=\"T_5bb7c23e_81f0_11eb_b24f_0242ac110004row71_col6\" class=\"data row71 col6\" >0.939388</td>\n",
       "                        <td id=\"T_5bb7c23e_81f0_11eb_b24f_0242ac110004row71_col7\" class=\"data row71 col7\" >49</td>\n",
       "            </tr>\n",
       "    </tbody></table>"
      ],
      "text/plain": [
       "<pandas.io.formats.style.Styler at 0x7f414c7ae710>"
      ]
     },
     "execution_count": 230,
     "metadata": {},
     "output_type": "execute_result"
    }
   ],
   "source": [
    "pd.set_option('display.max_rows',100)\n",
    "per_chapter_df.style.apply(lambda x : ['background-color: yellow' if v else '' for v in (x == 5)])"
   ]
  }
 ],
 "metadata": {
  "kernelspec": {
   "display_name": "Python 3",
   "language": "python",
   "name": "python3"
  },
  "language_info": {
   "codemirror_mode": {
    "name": "ipython",
    "version": 3
   },
   "file_extension": ".py",
   "mimetype": "text/x-python",
   "name": "python",
   "nbconvert_exporter": "python",
   "pygments_lexer": "ipython3",
   "version": "3.7.10"
  }
 },
 "nbformat": 4,
 "nbformat_minor": 5
}
