{
 "cells": [
  {
   "cell_type": "code",
   "execution_count": 1,
   "id": "antique-undergraduate",
   "metadata": {},
   "outputs": [
    {
     "name": "stdout",
     "output_type": "stream",
     "text": [
      "Collecting geopy\n",
      "  Using cached geopy-2.1.0-py3-none-any.whl (112 kB)\n",
      "Collecting geographiclib<2,>=1.49\n",
      "  Using cached geographiclib-1.50-py3-none-any.whl (38 kB)\n",
      "Installing collected packages: geographiclib, geopy\n",
      "Successfully installed geographiclib-1.50 geopy-2.1.0\n",
      "Collecting pgeocode\n",
      "  Using cached pgeocode-0.3.0-py3-none-any.whl (8.5 kB)\n",
      "Requirement already satisfied: requests in /usr/local/lib/python3.8/dist-packages (from pgeocode) (2.25.1)\n",
      "Requirement already satisfied: pandas in /usr/local/lib/python3.8/dist-packages (from pgeocode) (1.2.2)\n",
      "Requirement already satisfied: numpy in /usr/local/lib/python3.8/dist-packages (from pgeocode) (1.18.1)\n",
      "Requirement already satisfied: python-dateutil>=2.7.3 in /usr/local/lib/python3.8/dist-packages (from pandas->pgeocode) (2.8.1)\n",
      "Requirement already satisfied: pytz>=2017.3 in /usr/local/lib/python3.8/dist-packages (from pandas->pgeocode) (2021.1)\n",
      "Requirement already satisfied: six>=1.5 in /usr/local/lib/python3.8/dist-packages (from python-dateutil>=2.7.3->pandas->pgeocode) (1.15.0)\n",
      "Requirement already satisfied: chardet<5,>=3.0.2 in /usr/local/lib/python3.8/dist-packages (from requests->pgeocode) (4.0.0)\n",
      "Requirement already satisfied: urllib3<1.27,>=1.21.1 in /usr/local/lib/python3.8/dist-packages (from requests->pgeocode) (1.26.3)\n",
      "Requirement already satisfied: idna<3,>=2.5 in /usr/local/lib/python3.8/dist-packages (from requests->pgeocode) (2.10)\n",
      "Requirement already satisfied: certifi>=2017.4.17 in /usr/local/lib/python3.8/dist-packages (from requests->pgeocode) (2020.12.5)\n",
      "Installing collected packages: pgeocode\n",
      "Successfully installed pgeocode-0.3.0\n"
     ]
    }
   ],
   "source": [
    "import numpy as np\n",
    "import pandas as pd\n",
    "import dask.dataframe as dd\n",
    "import matplotlib.pyplot as plt\n",
    "import os\n",
    "import time\n",
    "\n",
    "!pip install geopy\n",
    "!pip install pgeocode\n",
    "from geopy.geocoders import Nominatim\n",
    "from geopy.extra.rate_limiter import RateLimiter\n",
    "from geopy.exc import GeocoderTimedOut, GeocoderQuotaExceeded\n",
    "import pgeocode\n",
    "import time"
   ]
  },
  {
   "cell_type": "markdown",
   "id": "ranging-knock",
   "metadata": {},
   "source": [
    "### Load NAICS 6 Digit Dictionary\n",
    "\n",
    "source: https://www.census.gov/naics/?48967"
   ]
  },
  {
   "cell_type": "code",
   "execution_count": 2,
   "id": "minimal-burton",
   "metadata": {},
   "outputs": [
    {
     "name": "stderr",
     "output_type": "stream",
     "text": [
      "<ipython-input-2-7f092fc433cd>:1: FutureWarning: Your version of xlrd is 1.2.0. In xlrd >= 2.0, only the xls format is supported. As a result, the openpyxl engine will be used if it is installed and the engine argument is not specified. Install openpyxl instead.\n",
      "  df_naics6 = pd.read_excel('6-digit_2017_Codes.xlsx', usecols=[0,1], dtype='str', skiprows=[1])\n"
     ]
    },
    {
     "data": {
      "text/html": [
       "<div>\n",
       "<style scoped>\n",
       "    .dataframe tbody tr th:only-of-type {\n",
       "        vertical-align: middle;\n",
       "    }\n",
       "\n",
       "    .dataframe tbody tr th {\n",
       "        vertical-align: top;\n",
       "    }\n",
       "\n",
       "    .dataframe thead th {\n",
       "        text-align: right;\n",
       "    }\n",
       "</style>\n",
       "<table border=\"1\" class=\"dataframe\">\n",
       "  <thead>\n",
       "    <tr style=\"text-align: right;\">\n",
       "      <th></th>\n",
       "      <th>2017 NAICS Code</th>\n",
       "      <th>2017 NAICS Title</th>\n",
       "    </tr>\n",
       "  </thead>\n",
       "  <tbody>\n",
       "    <tr>\n",
       "      <th>0</th>\n",
       "      <td>111110</td>\n",
       "      <td>Soybean Farming</td>\n",
       "    </tr>\n",
       "    <tr>\n",
       "      <th>1</th>\n",
       "      <td>111120</td>\n",
       "      <td>Oilseed (except Soybean) Farming</td>\n",
       "    </tr>\n",
       "    <tr>\n",
       "      <th>2</th>\n",
       "      <td>111130</td>\n",
       "      <td>Dry Pea and Bean Farming</td>\n",
       "    </tr>\n",
       "    <tr>\n",
       "      <th>3</th>\n",
       "      <td>111140</td>\n",
       "      <td>Wheat Farming</td>\n",
       "    </tr>\n",
       "    <tr>\n",
       "      <th>4</th>\n",
       "      <td>111150</td>\n",
       "      <td>Corn Farming</td>\n",
       "    </tr>\n",
       "  </tbody>\n",
       "</table>\n",
       "</div>"
      ],
      "text/plain": [
       "  2017 NAICS Code                   2017 NAICS Title\n",
       "0          111110                    Soybean Farming\n",
       "1          111120  Oilseed (except Soybean) Farming \n",
       "2          111130          Dry Pea and Bean Farming \n",
       "3          111140                      Wheat Farming\n",
       "4          111150                      Corn Farming "
      ]
     },
     "execution_count": 2,
     "metadata": {},
     "output_type": "execute_result"
    }
   ],
   "source": [
    "df_naics6 = pd.read_excel('6-digit_2017_Codes.xlsx', usecols=[0,1], dtype='str', skiprows=[1])\n",
    "df_naics6.head()"
   ]
  },
  {
   "cell_type": "markdown",
   "id": "designing-wholesale",
   "metadata": {},
   "source": [
    "### Load HS NAICS Mapping File\n",
    "\n",
    "source: https://dataweb.usitc.gov/classification/commodity-translation"
   ]
  },
  {
   "cell_type": "code",
   "execution_count": 3,
   "id": "numerical-acquisition",
   "metadata": {},
   "outputs": [],
   "source": [
    "#hs_to_naics = pd.read_csv('commodity_translation_wizard.csv')"
   ]
  },
  {
   "cell_type": "code",
   "execution_count": 10,
   "id": "given-sheffield",
   "metadata": {},
   "outputs": [],
   "source": [
    "#hs_to_naics['hs6'] = [str(x)[0:6] for x in hs_to_naics['hts10']]"
   ]
  },
  {
   "cell_type": "code",
   "execution_count": 5,
   "id": "facial-abortion",
   "metadata": {},
   "outputs": [],
   "source": [
    "#print(\"Num HTS10 rows: \", len(hs_to_naics['hts10']))\n",
    "#print(\"Num unique HTS10 numbers: \", len(hs_to_naics['hts10'].unique()))\n",
    "#print(\"Num unique HS6 numbers: \", len(hs_to_naics['hs6'].unique()))"
   ]
  },
  {
   "cell_type": "markdown",
   "id": "placed-sugar",
   "metadata": {},
   "source": [
    "Num HTS10 rows:  539515 \\\n",
    "Num unique HTS10 numbers:  31580 \\\n",
    "Num unique HS6 numbers:  7035 "
   ]
  },
  {
   "cell_type": "code",
   "execution_count": 22,
   "id": "nuclear-lighter",
   "metadata": {},
   "outputs": [],
   "source": [
    "#hs6_to_naics_mapping = hs_to_naics[['hs6', 'naics']].dropna(subset=['naics']).drop_duplicates()"
   ]
  },
  {
   "cell_type": "code",
   "execution_count": 27,
   "id": "instructional-speech",
   "metadata": {},
   "outputs": [],
   "source": [
    "#hs6_to_naics_mapping.to_csv('hs6_to_naics_mapping.csv')"
   ]
  },
  {
   "cell_type": "markdown",
   "id": "tribal-listing",
   "metadata": {},
   "source": [
    "### Load PPP Data\n",
    "\n",
    "source: https://sba.app.box.com/s/5myd1nxutoq8wxecx2562baruz774si6"
   ]
  },
  {
   "cell_type": "code",
   "execution_count": 29,
   "id": "brilliant-frequency",
   "metadata": {},
   "outputs": [],
   "source": [
    "#df_ppp = pd.read_parquet('ppp_loans.parq')"
   ]
  },
  {
   "cell_type": "code",
   "execution_count": 31,
   "id": "periodic-comparison",
   "metadata": {},
   "outputs": [
    {
     "data": {
      "text/plain": [
       "Index(['LoanNumber', 'DateApproved', 'SBAOfficeCode', 'ProcessingMethod',\n",
       "       'BorrowerName', 'BorrowerAddress', 'BorrowerCity', 'BorrowerState',\n",
       "       'BorrowerZip', 'LoanStatusDate', 'LoanStatus', 'Term',\n",
       "       'SBAGuarantyPercentage', 'InitialApprovalAmount',\n",
       "       'CurrentApprovalAmount', 'UndisbursedAmount', 'FranchiseName',\n",
       "       'ServicingLenderLocationID', 'ServicingLenderName',\n",
       "       'ServicingLenderAddress', 'ServicingLenderCity', 'ServicingLenderState',\n",
       "       'ServicingLenderZip', 'RuralUrbanIndicator', 'HubzoneIndicator',\n",
       "       'LMIIndicator', 'BusinessAgeDescription', 'ProjectCity',\n",
       "       'ProjectCountyName', 'ProjectState', 'ProjectZip', 'CD', 'JobsReported',\n",
       "       'NAICSCode', 'RaceEthnicity', 'UTILITIES_PROCEED', 'PAYROLL_PROCEED',\n",
       "       'MORTGAGE_INTEREST_PROCEED', 'RENT_PROCEED', 'REFINANCE_EIDL_PROCEED',\n",
       "       'HEALTH_CARE_PROCEED', 'DEBT_INTEREST_PROCEED', 'BusinessType',\n",
       "       'OriginatingLenderLocationID', 'OriginatingLender',\n",
       "       'OriginatingLenderCity', 'OriginatingLenderState', 'Gender', 'Veteran',\n",
       "       'NonProfit'],\n",
       "      dtype='object')"
      ]
     },
     "execution_count": 31,
     "metadata": {},
     "output_type": "execute_result"
    }
   ],
   "source": [
    "#df_ppp.columns"
   ]
  },
  {
   "cell_type": "code",
   "execution_count": 32,
   "id": "chief-expression",
   "metadata": {},
   "outputs": [],
   "source": [
    "#df_ppp = df_ppp.dropna(subset=['NAICSCode'])"
   ]
  },
  {
   "cell_type": "code",
   "execution_count": 33,
   "id": "polish-switzerland",
   "metadata": {},
   "outputs": [
    {
     "name": "stdout",
     "output_type": "stream",
     "text": [
      "5905815\n"
     ]
    }
   ],
   "source": [
    "#print(len(df_ppp)) -5905815"
   ]
  },
  {
   "cell_type": "markdown",
   "id": "worth-annotation",
   "metadata": {},
   "source": [
    "### Join PPP Loan Data to NAICS Dictionary Lookup"
   ]
  },
  {
   "cell_type": "code",
   "execution_count": 57,
   "id": "tired-breakfast",
   "metadata": {},
   "outputs": [],
   "source": [
    "#df_ppp_naics_join = pd.merge(df_ppp, df_naics6, left_on='NAICSCode', right_on='2017 NAICS Code')"
   ]
  },
  {
   "cell_type": "code",
   "execution_count": 58,
   "id": "amended-nevada",
   "metadata": {},
   "outputs": [],
   "source": [
    "#print('Num of PPP loans with valid NAICS codes: ', len(df_ppp_naics_join))"
   ]
  },
  {
   "cell_type": "code",
   "execution_count": 59,
   "id": "collect-master",
   "metadata": {},
   "outputs": [],
   "source": [
    "#df_ppp_naics_join.head()"
   ]
  },
  {
   "cell_type": "code",
   "execution_count": 60,
   "id": "partial-seminar",
   "metadata": {},
   "outputs": [],
   "source": [
    "#print(df_ppp_naics_join.columns)"
   ]
  },
  {
   "cell_type": "markdown",
   "id": "subsequent-commission",
   "metadata": {},
   "source": [
    "#### Renamed the columns for the joined df"
   ]
  },
  {
   "cell_type": "code",
   "execution_count": 76,
   "id": "weird-transcript",
   "metadata": {},
   "outputs": [],
   "source": [
    "#df_ppp_naics_join.columns = ['LoanNumber', 'DateApproved', 'SBAOfficeCode', 'ProcessingMethod',\n",
    "#                               'BorrowerName', 'BorrowerAddress', 'BorrowerCity', 'BorrowerState',\n",
    "#                               'BorrowerZip', 'LoanStatusDate', 'LoanStatus', 'Term',\n",
    "#                               'SBAGuarantyPercentage', 'InitialApprovalAmount',\n",
    "#                               'CurrentApprovalAmount', 'UndisbursedAmount', 'FranchiseName',\n",
    "#                               'ServicingLenderLocationID', 'ServicingLenderName',\n",
    "#                               'ServicingLenderAddress', 'ServicingLenderCity', 'ServicingLenderState',\n",
    "#                               'ServicingLenderZip', 'RuralUrbanIndicator', 'HubzoneIndicator',\n",
    "#                               'LMIIndicator', 'BusinessAgeDescription', 'ProjectCity',\n",
    "#                               'ProjectCountyName', 'ProjectState', 'ProjectZip', 'CD', 'JobsReported',\n",
    "#                               'NAICSCode', 'RaceEthnicity', 'UTILITIES_PROCEED', 'PAYROLL_PROCEED',\n",
    "#                               'MORTGAGE_INTEREST_PROCEED', 'RENT_PROCEED', 'REFINANCE_EIDL_PROCEED',\n",
    "#                               'HEALTH_CARE_PROCEED', 'DEBT_INTEREST_PROCEED', 'BusinessType',\n",
    "#                               'OriginatingLenderLocationID', 'OriginatingLender',\n",
    "#                               'OriginatingLenderCity', 'OriginatingLenderState', 'Gender', 'Veteran',\n",
    "#                               'NonProfit', 'OfficialNAICSCode', 'OfficialNAICSDescription']"
   ]
  },
  {
   "cell_type": "code",
   "execution_count": 77,
   "id": "classical-attempt",
   "metadata": {},
   "outputs": [],
   "source": [
    "#df_ppp_naics_join.to_parquet('ppp_loans_naics_join.parq')"
   ]
  },
  {
   "cell_type": "code",
   "execution_count": null,
   "id": "promising-lloyd",
   "metadata": {},
   "outputs": [],
   "source": []
  },
  {
   "cell_type": "markdown",
   "id": "artificial-tablet",
   "metadata": {},
   "source": [
    "### Reload Joined PPP-NAICS data from parquet"
   ]
  },
  {
   "cell_type": "code",
   "execution_count": 61,
   "id": "asian-remark",
   "metadata": {},
   "outputs": [],
   "source": [
    "df_ppp_naics_join = pd.read_parquet('ppp_loans_naics_join.parq')"
   ]
  },
  {
   "cell_type": "code",
   "execution_count": 65,
   "id": "spatial-lobby",
   "metadata": {},
   "outputs": [
    {
     "name": "stdout",
     "output_type": "stream",
     "text": [
      "Num of PPP loans with valid NAICS codes:  5810835\n"
     ]
    }
   ],
   "source": [
    "print('Num of PPP loans with valid NAICS codes: ', len(df_ppp_naics_join))"
   ]
  },
  {
   "cell_type": "markdown",
   "id": "deadly-ground",
   "metadata": {},
   "source": [
    "### Quick analysis - top NAICS categories with the most number of PPP Loans"
   ]
  },
  {
   "cell_type": "code",
   "execution_count": 62,
   "id": "bottom-major",
   "metadata": {},
   "outputs": [],
   "source": [
    "df_ppp_naics_count = pd.DataFrame(df_ppp_naics_join.groupby('OfficialNAICSDescription').count()['LoanNumber']).reset_index()"
   ]
  },
  {
   "cell_type": "code",
   "execution_count": 63,
   "id": "champion-section",
   "metadata": {},
   "outputs": [],
   "source": [
    "df_ppp_naics_count.columns = ['NAICS Category', 'NumPPPLoans']"
   ]
  },
  {
   "cell_type": "code",
   "execution_count": 64,
   "id": "vocational-disco",
   "metadata": {},
   "outputs": [
    {
     "data": {
      "text/html": [
       "<div>\n",
       "<style scoped>\n",
       "    .dataframe tbody tr th:only-of-type {\n",
       "        vertical-align: middle;\n",
       "    }\n",
       "\n",
       "    .dataframe tbody tr th {\n",
       "        vertical-align: top;\n",
       "    }\n",
       "\n",
       "    .dataframe thead th {\n",
       "        text-align: right;\n",
       "    }\n",
       "</style>\n",
       "<table border=\"1\" class=\"dataframe\">\n",
       "  <thead>\n",
       "    <tr style=\"text-align: right;\">\n",
       "      <th></th>\n",
       "      <th>NAICS Category</th>\n",
       "      <th>NumPPPLoans</th>\n",
       "    </tr>\n",
       "  </thead>\n",
       "  <tbody>\n",
       "    <tr>\n",
       "      <th>368</th>\n",
       "      <td>Full-Service Restaurants</td>\n",
       "      <td>220926</td>\n",
       "    </tr>\n",
       "    <tr>\n",
       "      <th>615</th>\n",
       "      <td>Offices of Lawyers</td>\n",
       "      <td>147009</td>\n",
       "    </tr>\n",
       "    <tr>\n",
       "      <th>624</th>\n",
       "      <td>Offices of Real Estate Agents and Brokers</td>\n",
       "      <td>140245</td>\n",
       "    </tr>\n",
       "    <tr>\n",
       "      <th>621</th>\n",
       "      <td>Offices of Physicians (except Mental Health Sp...</td>\n",
       "      <td>127974</td>\n",
       "    </tr>\n",
       "    <tr>\n",
       "      <th>614</th>\n",
       "      <td>Offices of Dentists</td>\n",
       "      <td>124800</td>\n",
       "    </tr>\n",
       "    <tr>\n",
       "      <th>107</th>\n",
       "      <td>Beauty Salons</td>\n",
       "      <td>112842</td>\n",
       "    </tr>\n",
       "    <tr>\n",
       "      <th>453</th>\n",
       "      <td>Insurance Agencies and Brokerages</td>\n",
       "      <td>99499</td>\n",
       "    </tr>\n",
       "    <tr>\n",
       "      <th>849</th>\n",
       "      <td>Religious Organizations</td>\n",
       "      <td>96557</td>\n",
       "    </tr>\n",
       "    <tr>\n",
       "      <th>494</th>\n",
       "      <td>Limited-Service Restaurants</td>\n",
       "      <td>94899</td>\n",
       "    </tr>\n",
       "    <tr>\n",
       "      <th>53</th>\n",
       "      <td>All Other Personal Services</td>\n",
       "      <td>86912</td>\n",
       "    </tr>\n",
       "    <tr>\n",
       "      <th>57</th>\n",
       "      <td>All Other Professional, Scientific, and Techni...</td>\n",
       "      <td>74141</td>\n",
       "    </tr>\n",
       "    <tr>\n",
       "      <th>46</th>\n",
       "      <td>All Other Miscellaneous Store Retailers (excep...</td>\n",
       "      <td>73551</td>\n",
       "    </tr>\n",
       "    <tr>\n",
       "      <th>583</th>\n",
       "      <td>New Single-Family Housing Construction (except...</td>\n",
       "      <td>72381</td>\n",
       "    </tr>\n",
       "    <tr>\n",
       "      <th>376</th>\n",
       "      <td>General Freight Trucking, Local</td>\n",
       "      <td>71600</td>\n",
       "    </tr>\n",
       "    <tr>\n",
       "      <th>109</th>\n",
       "      <td>Beef Cattle Ranching and Farming</td>\n",
       "      <td>69073</td>\n",
       "    </tr>\n",
       "    <tr>\n",
       "      <th>786</th>\n",
       "      <td>Plumbing, Heating, and Air-Conditioning Contra...</td>\n",
       "      <td>68703</td>\n",
       "    </tr>\n",
       "    <tr>\n",
       "      <th>861</th>\n",
       "      <td>Residential Remodelers</td>\n",
       "      <td>63249</td>\n",
       "    </tr>\n",
       "    <tr>\n",
       "      <th>375</th>\n",
       "      <td>General Automotive Repair</td>\n",
       "      <td>59833</td>\n",
       "    </tr>\n",
       "    <tr>\n",
       "      <th>423</th>\n",
       "      <td>Hotels (except Casino Hotels) and Motels</td>\n",
       "      <td>55741</td>\n",
       "    </tr>\n",
       "    <tr>\n",
       "      <th>480</th>\n",
       "      <td>Landscaping Services</td>\n",
       "      <td>53167</td>\n",
       "    </tr>\n",
       "  </tbody>\n",
       "</table>\n",
       "</div>"
      ],
      "text/plain": [
       "                                        NAICS Category  NumPPPLoans\n",
       "368                          Full-Service Restaurants        220926\n",
       "615                                 Offices of Lawyers       147009\n",
       "624          Offices of Real Estate Agents and Brokers       140245\n",
       "621  Offices of Physicians (except Mental Health Sp...       127974\n",
       "614                               Offices of Dentists        124800\n",
       "107                                     Beauty Salons        112842\n",
       "453                 Insurance Agencies and Brokerages         99499\n",
       "849                           Religious Organizations         96557\n",
       "494                       Limited-Service Restaurants         94899\n",
       "53                        All Other Personal Services         86912\n",
       "57   All Other Professional, Scientific, and Techni...        74141\n",
       "46   All Other Miscellaneous Store Retailers (excep...        73551\n",
       "583  New Single-Family Housing Construction (except...        72381\n",
       "376                   General Freight Trucking, Local         71600\n",
       "109                  Beef Cattle Ranching and Farming         69073\n",
       "786  Plumbing, Heating, and Air-Conditioning Contra...        68703\n",
       "861                            Residential Remodelers         63249\n",
       "375                         General Automotive Repair         59833\n",
       "423          Hotels (except Casino Hotels) and Motels         55741\n",
       "480                               Landscaping Services        53167"
      ]
     },
     "execution_count": 64,
     "metadata": {},
     "output_type": "execute_result"
    }
   ],
   "source": [
    "df_ppp_naics_count.sort_values(by='NumPPPLoans', ascending=False).head(20)"
   ]
  },
  {
   "cell_type": "code",
   "execution_count": 105,
   "id": "killing-performer",
   "metadata": {},
   "outputs": [
    {
     "data": {
      "text/html": [
       "<div>\n",
       "<style scoped>\n",
       "    .dataframe tbody tr th:only-of-type {\n",
       "        vertical-align: middle;\n",
       "    }\n",
       "\n",
       "    .dataframe tbody tr th {\n",
       "        vertical-align: top;\n",
       "    }\n",
       "\n",
       "    .dataframe thead th {\n",
       "        text-align: right;\n",
       "    }\n",
       "</style>\n",
       "<table border=\"1\" class=\"dataframe\">\n",
       "  <thead>\n",
       "    <tr style=\"text-align: right;\">\n",
       "      <th></th>\n",
       "      <th>NAICS Category</th>\n",
       "      <th>NumPPPLoans</th>\n",
       "    </tr>\n",
       "  </thead>\n",
       "  <tbody>\n",
       "    <tr>\n",
       "      <th>246</th>\n",
       "      <td>Cyclic Crude, Intermediate, and Gum and Wood C...</td>\n",
       "      <td>20</td>\n",
       "    </tr>\n",
       "    <tr>\n",
       "      <th>493</th>\n",
       "      <td>Lime Manufacturing</td>\n",
       "      <td>19</td>\n",
       "    </tr>\n",
       "    <tr>\n",
       "      <th>305</th>\n",
       "      <td>Executive and Legislative Offices, Combined</td>\n",
       "      <td>18</td>\n",
       "    </tr>\n",
       "    <tr>\n",
       "      <th>473</th>\n",
       "      <td>Kaolin and Ball Clay Mining</td>\n",
       "      <td>17</td>\n",
       "    </tr>\n",
       "    <tr>\n",
       "      <th>795</th>\n",
       "      <td>Potash, Soda, and Borate Mineral Mining</td>\n",
       "      <td>14</td>\n",
       "    </tr>\n",
       "    <tr>\n",
       "      <th>766</th>\n",
       "      <td>Phosphatic Fertilizer Manufacturing</td>\n",
       "      <td>14</td>\n",
       "    </tr>\n",
       "    <tr>\n",
       "      <th>189</th>\n",
       "      <td>Commuter Rail Systems</td>\n",
       "      <td>13</td>\n",
       "    </tr>\n",
       "    <tr>\n",
       "      <th>915</th>\n",
       "      <td>Silver Ore Mining</td>\n",
       "      <td>10</td>\n",
       "    </tr>\n",
       "    <tr>\n",
       "      <th>112</th>\n",
       "      <td>Beet Sugar Manufacturing</td>\n",
       "      <td>10</td>\n",
       "    </tr>\n",
       "    <tr>\n",
       "      <th>1023</th>\n",
       "      <td>Uranium-Radium-Vanadium Ore Mining</td>\n",
       "      <td>9</td>\n",
       "    </tr>\n",
       "  </tbody>\n",
       "</table>\n",
       "</div>"
      ],
      "text/plain": [
       "                                         NAICS Category  NumPPPLoans\n",
       "246   Cyclic Crude, Intermediate, and Gum and Wood C...           20\n",
       "493                                  Lime Manufacturing           19\n",
       "305        Executive and Legislative Offices, Combined            18\n",
       "473                        Kaolin and Ball Clay Mining            17\n",
       "795            Potash, Soda, and Borate Mineral Mining            14\n",
       "766                Phosphatic Fertilizer Manufacturing            14\n",
       "189                              Commuter Rail Systems            13\n",
       "915                                  Silver Ore Mining            10\n",
       "112                           Beet Sugar Manufacturing            10\n",
       "1023                Uranium-Radium-Vanadium Ore Mining             9"
      ]
     },
     "execution_count": 105,
     "metadata": {},
     "output_type": "execute_result"
    }
   ],
   "source": [
    "df_ppp_naics_count.sort_values(by='NumPPPLoans', ascending=False).tail(10)"
   ]
  },
  {
   "cell_type": "code",
   "execution_count": null,
   "id": "finished-seven",
   "metadata": {},
   "outputs": [],
   "source": []
  },
  {
   "cell_type": "markdown",
   "id": "powered-correlation",
   "metadata": {},
   "source": [
    "### Get lat-long for each PPP loan zip code\n",
    "\n",
    "https://stackoverflow.com/questions/58439692/convert-physical-addresses-to-geographic-locations-latitude-and-longitude \\\n",
    "https://pypi.org/project/pgeocode/"
   ]
  },
  {
   "cell_type": "code",
   "execution_count": 67,
   "id": "capable-juvenile",
   "metadata": {},
   "outputs": [
    {
     "name": "stdout",
     "output_type": "stream",
     "text": [
      "Num of PPP loans with valid NAICS codes AND addresses:  5810646\n"
     ]
    }
   ],
   "source": [
    "#Combine the full address\n",
    "df_ppp_naics_join['full_address'] = df_ppp_naics_join['BorrowerAddress'] + \" \" + \\\n",
    "                                    df_ppp_naics_join['BorrowerCity']    + \" \" + \\\n",
    "                                    df_ppp_naics_join['BorrowerState']   + \" \" + \\\n",
    "                                    df_ppp_naics_join['BorrowerZip']\n",
    "            \n",
    "#Drop records with Null addresses\n",
    "df_ppp_naics_join_address = df_ppp_naics_join.dropna(subset=['full_address'])\n",
    "print('Num of PPP loans with valid NAICS codes AND addresses: ', len(df_ppp_naics_join_address))"
   ]
  },
  {
   "cell_type": "code",
   "execution_count": 68,
   "id": "chicken-huntington",
   "metadata": {},
   "outputs": [
    {
     "data": {
      "text/html": [
       "<div>\n",
       "<style scoped>\n",
       "    .dataframe tbody tr th:only-of-type {\n",
       "        vertical-align: middle;\n",
       "    }\n",
       "\n",
       "    .dataframe tbody tr th {\n",
       "        vertical-align: top;\n",
       "    }\n",
       "\n",
       "    .dataframe thead th {\n",
       "        text-align: right;\n",
       "    }\n",
       "</style>\n",
       "<table border=\"1\" class=\"dataframe\">\n",
       "  <thead>\n",
       "    <tr style=\"text-align: right;\">\n",
       "      <th></th>\n",
       "      <th>LoanNumber</th>\n",
       "      <th>DateApproved</th>\n",
       "      <th>SBAOfficeCode</th>\n",
       "      <th>ProcessingMethod</th>\n",
       "      <th>BorrowerName</th>\n",
       "      <th>BorrowerAddress</th>\n",
       "      <th>BorrowerCity</th>\n",
       "      <th>BorrowerState</th>\n",
       "      <th>BorrowerZip</th>\n",
       "      <th>LoanStatusDate</th>\n",
       "      <th>...</th>\n",
       "      <th>OriginatingLenderLocationID</th>\n",
       "      <th>OriginatingLender</th>\n",
       "      <th>OriginatingLenderCity</th>\n",
       "      <th>OriginatingLenderState</th>\n",
       "      <th>Gender</th>\n",
       "      <th>Veteran</th>\n",
       "      <th>NonProfit</th>\n",
       "      <th>OfficialNAICSCode</th>\n",
       "      <th>OfficialNAICSDescription</th>\n",
       "      <th>full_address</th>\n",
       "    </tr>\n",
       "  </thead>\n",
       "  <tbody>\n",
       "    <tr>\n",
       "      <th>1</th>\n",
       "      <td>2743777209</td>\n",
       "      <td>04/16/2020</td>\n",
       "      <td>0459</td>\n",
       "      <td>PPP</td>\n",
       "      <td>MOBILE PAINT MANUFACTURING COMPANY OF DELAWARE...</td>\n",
       "      <td>4775 Hamilton Blvd,</td>\n",
       "      <td>Theodore</td>\n",
       "      <td>AL</td>\n",
       "      <td>36582-8509</td>\n",
       "      <td>None</td>\n",
       "      <td>...</td>\n",
       "      <td>2408</td>\n",
       "      <td>Regions Bank</td>\n",
       "      <td>BIRMINGHAM</td>\n",
       "      <td>AL</td>\n",
       "      <td>Unanswered</td>\n",
       "      <td>Unanswered</td>\n",
       "      <td>None</td>\n",
       "      <td>325510</td>\n",
       "      <td>Paint and Coating Manufacturing</td>\n",
       "      <td>4775 Hamilton Blvd, Theodore AL 36582-8509</td>\n",
       "    </tr>\n",
       "    <tr>\n",
       "      <th>2</th>\n",
       "      <td>4993247205</td>\n",
       "      <td>04/27/2020</td>\n",
       "      <td>0459</td>\n",
       "      <td>PPP</td>\n",
       "      <td>ABC APPLICATORS INC</td>\n",
       "      <td>4470 McCrary Road</td>\n",
       "      <td>SEMMES</td>\n",
       "      <td>AL</td>\n",
       "      <td>36575-4440</td>\n",
       "      <td>None</td>\n",
       "      <td>...</td>\n",
       "      <td>39217</td>\n",
       "      <td>Community Bank of Mississippi</td>\n",
       "      <td>FOREST</td>\n",
       "      <td>MS</td>\n",
       "      <td>Male Owned</td>\n",
       "      <td>Non-Veteran</td>\n",
       "      <td>None</td>\n",
       "      <td>325510</td>\n",
       "      <td>Paint and Coating Manufacturing</td>\n",
       "      <td>4470 McCrary Road SEMMES AL 36575-4440</td>\n",
       "    </tr>\n",
       "    <tr>\n",
       "      <th>3</th>\n",
       "      <td>5470787100</td>\n",
       "      <td>04/13/2020</td>\n",
       "      <td>0459</td>\n",
       "      <td>PPP</td>\n",
       "      <td>TITAN COATINGS, INC.</td>\n",
       "      <td>2025 Exchange Place</td>\n",
       "      <td>BESSEMER</td>\n",
       "      <td>AL</td>\n",
       "      <td>35022-5650</td>\n",
       "      <td>12/16/2020</td>\n",
       "      <td>...</td>\n",
       "      <td>2408</td>\n",
       "      <td>Regions Bank</td>\n",
       "      <td>BIRMINGHAM</td>\n",
       "      <td>AL</td>\n",
       "      <td>Unanswered</td>\n",
       "      <td>Unanswered</td>\n",
       "      <td>None</td>\n",
       "      <td>325510</td>\n",
       "      <td>Paint and Coating Manufacturing</td>\n",
       "      <td>2025 Exchange Place BESSEMER AL 35022-5650</td>\n",
       "    </tr>\n",
       "    <tr>\n",
       "      <th>4</th>\n",
       "      <td>6497257001</td>\n",
       "      <td>04/07/2020</td>\n",
       "      <td>0459</td>\n",
       "      <td>PPP</td>\n",
       "      <td>INDURON COATINGS LLC</td>\n",
       "      <td>3333 RICHARD ARRINGTON JR BLVD</td>\n",
       "      <td>BIRMINGHAM</td>\n",
       "      <td>AL</td>\n",
       "      <td>35234-2303</td>\n",
       "      <td>None</td>\n",
       "      <td>...</td>\n",
       "      <td>434138</td>\n",
       "      <td>ServisFirst Bank</td>\n",
       "      <td>BIRMINGHAM</td>\n",
       "      <td>AL</td>\n",
       "      <td>Unanswered</td>\n",
       "      <td>Unanswered</td>\n",
       "      <td>None</td>\n",
       "      <td>325510</td>\n",
       "      <td>Paint and Coating Manufacturing</td>\n",
       "      <td>3333 RICHARD ARRINGTON JR BLVD BIRMINGHAM AL 3...</td>\n",
       "    </tr>\n",
       "    <tr>\n",
       "      <th>5</th>\n",
       "      <td>1026398408</td>\n",
       "      <td>01/31/2021</td>\n",
       "      <td>0459</td>\n",
       "      <td>PPS</td>\n",
       "      <td>MAX COATING INC.</td>\n",
       "      <td>3653 Industrial Pkwy</td>\n",
       "      <td>Birmingham</td>\n",
       "      <td>AL</td>\n",
       "      <td>35217-1346</td>\n",
       "      <td>01/31/2021</td>\n",
       "      <td>...</td>\n",
       "      <td>19248</td>\n",
       "      <td>Synovus Bank</td>\n",
       "      <td>COLUMBUS</td>\n",
       "      <td>GA</td>\n",
       "      <td>Unanswered</td>\n",
       "      <td>Unanswered</td>\n",
       "      <td>None</td>\n",
       "      <td>325510</td>\n",
       "      <td>Paint and Coating Manufacturing</td>\n",
       "      <td>3653 Industrial Pkwy Birmingham AL 35217-1346</td>\n",
       "    </tr>\n",
       "  </tbody>\n",
       "</table>\n",
       "<p>5 rows × 53 columns</p>\n",
       "</div>"
      ],
      "text/plain": [
       "   LoanNumber DateApproved SBAOfficeCode ProcessingMethod  \\\n",
       "1  2743777209   04/16/2020          0459              PPP   \n",
       "2  4993247205   04/27/2020          0459              PPP   \n",
       "3  5470787100   04/13/2020          0459              PPP   \n",
       "4  6497257001   04/07/2020          0459              PPP   \n",
       "5  1026398408   01/31/2021          0459              PPS   \n",
       "\n",
       "                                        BorrowerName  \\\n",
       "1  MOBILE PAINT MANUFACTURING COMPANY OF DELAWARE...   \n",
       "2                                ABC APPLICATORS INC   \n",
       "3                               TITAN COATINGS, INC.   \n",
       "4                               INDURON COATINGS LLC   \n",
       "5                                   MAX COATING INC.   \n",
       "\n",
       "                  BorrowerAddress BorrowerCity BorrowerState BorrowerZip  \\\n",
       "1             4775 Hamilton Blvd,     Theodore            AL  36582-8509   \n",
       "2               4470 McCrary Road       SEMMES            AL  36575-4440   \n",
       "3             2025 Exchange Place     BESSEMER            AL  35022-5650   \n",
       "4  3333 RICHARD ARRINGTON JR BLVD   BIRMINGHAM            AL  35234-2303   \n",
       "5            3653 Industrial Pkwy   Birmingham            AL  35217-1346   \n",
       "\n",
       "  LoanStatusDate  ... OriginatingLenderLocationID  \\\n",
       "1           None  ...                        2408   \n",
       "2           None  ...                       39217   \n",
       "3     12/16/2020  ...                        2408   \n",
       "4           None  ...                      434138   \n",
       "5     01/31/2021  ...                       19248   \n",
       "\n",
       "               OriginatingLender OriginatingLenderCity OriginatingLenderState  \\\n",
       "1                   Regions Bank            BIRMINGHAM                     AL   \n",
       "2  Community Bank of Mississippi                FOREST                     MS   \n",
       "3                   Regions Bank            BIRMINGHAM                     AL   \n",
       "4               ServisFirst Bank            BIRMINGHAM                     AL   \n",
       "5                   Synovus Bank              COLUMBUS                     GA   \n",
       "\n",
       "       Gender      Veteran NonProfit OfficialNAICSCode  \\\n",
       "1  Unanswered   Unanswered      None            325510   \n",
       "2  Male Owned  Non-Veteran      None            325510   \n",
       "3  Unanswered   Unanswered      None            325510   \n",
       "4  Unanswered   Unanswered      None            325510   \n",
       "5  Unanswered   Unanswered      None            325510   \n",
       "\n",
       "          OfficialNAICSDescription  \\\n",
       "1  Paint and Coating Manufacturing   \n",
       "2  Paint and Coating Manufacturing   \n",
       "3  Paint and Coating Manufacturing   \n",
       "4  Paint and Coating Manufacturing   \n",
       "5  Paint and Coating Manufacturing   \n",
       "\n",
       "                                        full_address  \n",
       "1         4775 Hamilton Blvd, Theodore AL 36582-8509  \n",
       "2             4470 McCrary Road SEMMES AL 36575-4440  \n",
       "3         2025 Exchange Place BESSEMER AL 35022-5650  \n",
       "4  3333 RICHARD ARRINGTON JR BLVD BIRMINGHAM AL 3...  \n",
       "5      3653 Industrial Pkwy Birmingham AL 35217-1346  \n",
       "\n",
       "[5 rows x 53 columns]"
      ]
     },
     "execution_count": 68,
     "metadata": {},
     "output_type": "execute_result"
    }
   ],
   "source": [
    "df_ppp_naics_join_address.head()"
   ]
  },
  {
   "cell_type": "code",
   "execution_count": 252,
   "id": "simple-lecture",
   "metadata": {},
   "outputs": [
    {
     "name": "stdout",
     "output_type": "stream",
     "text": [
      "5810646\n",
      "36627\n"
     ]
    }
   ],
   "source": [
    "print(len([x[0:5] for x in df_ppp_naics_join_address['BorrowerZip']]))\n",
    "print(len(set([x[0:5] for x in df_ppp_naics_join_address['BorrowerZip']])))"
   ]
  },
  {
   "cell_type": "code",
   "execution_count": null,
   "id": "massive-rapid",
   "metadata": {},
   "outputs": [],
   "source": [
    "#Extract unique zip codes\n",
    "unique_zip_codes = set([x[0:5] for x in df_ppp_naics_join_address['BorrowerZip']])"
   ]
  },
  {
   "cell_type": "code",
   "execution_count": 253,
   "id": "alert-answer",
   "metadata": {},
   "outputs": [],
   "source": [
    "#Initialize package and query lat long for all unique zips\n",
    "nomi = pgeocode.Nominatim('us')\n",
    "df_zip_code_lat_long = nomi.query_postal_code(unique_zip_codes)"
   ]
  },
  {
   "cell_type": "code",
   "execution_count": 254,
   "id": "remarkable-anthropology",
   "metadata": {},
   "outputs": [
    {
     "data": {
      "text/html": [
       "<div>\n",
       "<style scoped>\n",
       "    .dataframe tbody tr th:only-of-type {\n",
       "        vertical-align: middle;\n",
       "    }\n",
       "\n",
       "    .dataframe tbody tr th {\n",
       "        vertical-align: top;\n",
       "    }\n",
       "\n",
       "    .dataframe thead th {\n",
       "        text-align: right;\n",
       "    }\n",
       "</style>\n",
       "<table border=\"1\" class=\"dataframe\">\n",
       "  <thead>\n",
       "    <tr style=\"text-align: right;\">\n",
       "      <th></th>\n",
       "      <th>postal_code</th>\n",
       "      <th>country_code</th>\n",
       "      <th>place_name</th>\n",
       "      <th>state_name</th>\n",
       "      <th>state_code</th>\n",
       "      <th>county_name</th>\n",
       "      <th>county_code</th>\n",
       "      <th>community_name</th>\n",
       "      <th>community_code</th>\n",
       "      <th>latitude</th>\n",
       "      <th>longitude</th>\n",
       "      <th>accuracy</th>\n",
       "    </tr>\n",
       "  </thead>\n",
       "  <tbody>\n",
       "    <tr>\n",
       "      <th>0</th>\n",
       "      <td>29645</td>\n",
       "      <td>US</td>\n",
       "      <td>Gray Court</td>\n",
       "      <td>South Carolina</td>\n",
       "      <td>SC</td>\n",
       "      <td>Laurens</td>\n",
       "      <td>59.0</td>\n",
       "      <td>NaN</td>\n",
       "      <td>NaN</td>\n",
       "      <td>34.5953</td>\n",
       "      <td>-82.1147</td>\n",
       "      <td>4.0</td>\n",
       "    </tr>\n",
       "    <tr>\n",
       "      <th>1</th>\n",
       "      <td>83874</td>\n",
       "      <td>US</td>\n",
       "      <td>Murray</td>\n",
       "      <td>Idaho</td>\n",
       "      <td>ID</td>\n",
       "      <td>Shoshone</td>\n",
       "      <td>79.0</td>\n",
       "      <td>NaN</td>\n",
       "      <td>NaN</td>\n",
       "      <td>47.6271</td>\n",
       "      <td>-115.8585</td>\n",
       "      <td>4.0</td>\n",
       "    </tr>\n",
       "  </tbody>\n",
       "</table>\n",
       "</div>"
      ],
      "text/plain": [
       "  postal_code country_code  place_name      state_name state_code county_name  \\\n",
       "0       29645           US  Gray Court  South Carolina         SC     Laurens   \n",
       "1       83874           US      Murray           Idaho         ID    Shoshone   \n",
       "\n",
       "   county_code community_name  community_code  latitude  longitude  accuracy  \n",
       "0         59.0            NaN             NaN   34.5953   -82.1147       4.0  \n",
       "1         79.0            NaN             NaN   47.6271  -115.8585       4.0  "
      ]
     },
     "execution_count": 254,
     "metadata": {},
     "output_type": "execute_result"
    }
   ],
   "source": [
    "df_zip_code_lat_long.head(2)"
   ]
  },
  {
   "cell_type": "code",
   "execution_count": 255,
   "id": "floral-competition",
   "metadata": {},
   "outputs": [
    {
     "name": "stderr",
     "output_type": "stream",
     "text": [
      "<ipython-input-255-27eca24948aa>:1: SettingWithCopyWarning: \n",
      "A value is trying to be set on a copy of a slice from a DataFrame.\n",
      "Try using .loc[row_indexer,col_indexer] = value instead\n",
      "\n",
      "See the caveats in the documentation: https://pandas.pydata.org/pandas-docs/stable/user_guide/indexing.html#returning-a-view-versus-a-copy\n",
      "  df_ppp_naics_join_address['ZIP5'] = [x[0:5] for x in df_ppp_naics_join_address['BorrowerZip']]\n"
     ]
    }
   ],
   "source": [
    "df_ppp_naics_join_address['ZIP5'] = [x[0:5] for x in df_ppp_naics_join_address['BorrowerZip']]"
   ]
  },
  {
   "cell_type": "code",
   "execution_count": 256,
   "id": "usual-ground",
   "metadata": {},
   "outputs": [
    {
     "data": {
      "text/html": [
       "<div>\n",
       "<style scoped>\n",
       "    .dataframe tbody tr th:only-of-type {\n",
       "        vertical-align: middle;\n",
       "    }\n",
       "\n",
       "    .dataframe tbody tr th {\n",
       "        vertical-align: top;\n",
       "    }\n",
       "\n",
       "    .dataframe thead th {\n",
       "        text-align: right;\n",
       "    }\n",
       "</style>\n",
       "<table border=\"1\" class=\"dataframe\">\n",
       "  <thead>\n",
       "    <tr style=\"text-align: right;\">\n",
       "      <th></th>\n",
       "      <th>LoanNumber</th>\n",
       "      <th>DateApproved</th>\n",
       "      <th>SBAOfficeCode</th>\n",
       "      <th>ProcessingMethod</th>\n",
       "      <th>BorrowerName</th>\n",
       "      <th>BorrowerAddress</th>\n",
       "      <th>BorrowerCity</th>\n",
       "      <th>BorrowerState</th>\n",
       "      <th>BorrowerZip</th>\n",
       "      <th>LoanStatusDate</th>\n",
       "      <th>...</th>\n",
       "      <th>OriginatingLender</th>\n",
       "      <th>OriginatingLenderCity</th>\n",
       "      <th>OriginatingLenderState</th>\n",
       "      <th>Gender</th>\n",
       "      <th>Veteran</th>\n",
       "      <th>NonProfit</th>\n",
       "      <th>OfficialNAICSCode</th>\n",
       "      <th>OfficialNAICSDescription</th>\n",
       "      <th>full_address</th>\n",
       "      <th>ZIP5</th>\n",
       "    </tr>\n",
       "  </thead>\n",
       "  <tbody>\n",
       "    <tr>\n",
       "      <th>1</th>\n",
       "      <td>2743777209</td>\n",
       "      <td>04/16/2020</td>\n",
       "      <td>0459</td>\n",
       "      <td>PPP</td>\n",
       "      <td>MOBILE PAINT MANUFACTURING COMPANY OF DELAWARE...</td>\n",
       "      <td>4775 Hamilton Blvd,</td>\n",
       "      <td>Theodore</td>\n",
       "      <td>AL</td>\n",
       "      <td>36582-8509</td>\n",
       "      <td>None</td>\n",
       "      <td>...</td>\n",
       "      <td>Regions Bank</td>\n",
       "      <td>BIRMINGHAM</td>\n",
       "      <td>AL</td>\n",
       "      <td>Unanswered</td>\n",
       "      <td>Unanswered</td>\n",
       "      <td>None</td>\n",
       "      <td>325510</td>\n",
       "      <td>Paint and Coating Manufacturing</td>\n",
       "      <td>4775 Hamilton Blvd, Theodore AL 36582-8509</td>\n",
       "      <td>36582</td>\n",
       "    </tr>\n",
       "    <tr>\n",
       "      <th>2</th>\n",
       "      <td>4993247205</td>\n",
       "      <td>04/27/2020</td>\n",
       "      <td>0459</td>\n",
       "      <td>PPP</td>\n",
       "      <td>ABC APPLICATORS INC</td>\n",
       "      <td>4470 McCrary Road</td>\n",
       "      <td>SEMMES</td>\n",
       "      <td>AL</td>\n",
       "      <td>36575-4440</td>\n",
       "      <td>None</td>\n",
       "      <td>...</td>\n",
       "      <td>Community Bank of Mississippi</td>\n",
       "      <td>FOREST</td>\n",
       "      <td>MS</td>\n",
       "      <td>Male Owned</td>\n",
       "      <td>Non-Veteran</td>\n",
       "      <td>None</td>\n",
       "      <td>325510</td>\n",
       "      <td>Paint and Coating Manufacturing</td>\n",
       "      <td>4470 McCrary Road SEMMES AL 36575-4440</td>\n",
       "      <td>36575</td>\n",
       "    </tr>\n",
       "    <tr>\n",
       "      <th>3</th>\n",
       "      <td>5470787100</td>\n",
       "      <td>04/13/2020</td>\n",
       "      <td>0459</td>\n",
       "      <td>PPP</td>\n",
       "      <td>TITAN COATINGS, INC.</td>\n",
       "      <td>2025 Exchange Place</td>\n",
       "      <td>BESSEMER</td>\n",
       "      <td>AL</td>\n",
       "      <td>35022-5650</td>\n",
       "      <td>12/16/2020</td>\n",
       "      <td>...</td>\n",
       "      <td>Regions Bank</td>\n",
       "      <td>BIRMINGHAM</td>\n",
       "      <td>AL</td>\n",
       "      <td>Unanswered</td>\n",
       "      <td>Unanswered</td>\n",
       "      <td>None</td>\n",
       "      <td>325510</td>\n",
       "      <td>Paint and Coating Manufacturing</td>\n",
       "      <td>2025 Exchange Place BESSEMER AL 35022-5650</td>\n",
       "      <td>35022</td>\n",
       "    </tr>\n",
       "    <tr>\n",
       "      <th>4</th>\n",
       "      <td>6497257001</td>\n",
       "      <td>04/07/2020</td>\n",
       "      <td>0459</td>\n",
       "      <td>PPP</td>\n",
       "      <td>INDURON COATINGS LLC</td>\n",
       "      <td>3333 RICHARD ARRINGTON JR BLVD</td>\n",
       "      <td>BIRMINGHAM</td>\n",
       "      <td>AL</td>\n",
       "      <td>35234-2303</td>\n",
       "      <td>None</td>\n",
       "      <td>...</td>\n",
       "      <td>ServisFirst Bank</td>\n",
       "      <td>BIRMINGHAM</td>\n",
       "      <td>AL</td>\n",
       "      <td>Unanswered</td>\n",
       "      <td>Unanswered</td>\n",
       "      <td>None</td>\n",
       "      <td>325510</td>\n",
       "      <td>Paint and Coating Manufacturing</td>\n",
       "      <td>3333 RICHARD ARRINGTON JR BLVD BIRMINGHAM AL 3...</td>\n",
       "      <td>35234</td>\n",
       "    </tr>\n",
       "    <tr>\n",
       "      <th>5</th>\n",
       "      <td>1026398408</td>\n",
       "      <td>01/31/2021</td>\n",
       "      <td>0459</td>\n",
       "      <td>PPS</td>\n",
       "      <td>MAX COATING INC.</td>\n",
       "      <td>3653 Industrial Pkwy</td>\n",
       "      <td>Birmingham</td>\n",
       "      <td>AL</td>\n",
       "      <td>35217-1346</td>\n",
       "      <td>01/31/2021</td>\n",
       "      <td>...</td>\n",
       "      <td>Synovus Bank</td>\n",
       "      <td>COLUMBUS</td>\n",
       "      <td>GA</td>\n",
       "      <td>Unanswered</td>\n",
       "      <td>Unanswered</td>\n",
       "      <td>None</td>\n",
       "      <td>325510</td>\n",
       "      <td>Paint and Coating Manufacturing</td>\n",
       "      <td>3653 Industrial Pkwy Birmingham AL 35217-1346</td>\n",
       "      <td>35217</td>\n",
       "    </tr>\n",
       "  </tbody>\n",
       "</table>\n",
       "<p>5 rows × 54 columns</p>\n",
       "</div>"
      ],
      "text/plain": [
       "   LoanNumber DateApproved SBAOfficeCode ProcessingMethod  \\\n",
       "1  2743777209   04/16/2020          0459              PPP   \n",
       "2  4993247205   04/27/2020          0459              PPP   \n",
       "3  5470787100   04/13/2020          0459              PPP   \n",
       "4  6497257001   04/07/2020          0459              PPP   \n",
       "5  1026398408   01/31/2021          0459              PPS   \n",
       "\n",
       "                                        BorrowerName  \\\n",
       "1  MOBILE PAINT MANUFACTURING COMPANY OF DELAWARE...   \n",
       "2                                ABC APPLICATORS INC   \n",
       "3                               TITAN COATINGS, INC.   \n",
       "4                               INDURON COATINGS LLC   \n",
       "5                                   MAX COATING INC.   \n",
       "\n",
       "                  BorrowerAddress BorrowerCity BorrowerState BorrowerZip  \\\n",
       "1             4775 Hamilton Blvd,     Theodore            AL  36582-8509   \n",
       "2               4470 McCrary Road       SEMMES            AL  36575-4440   \n",
       "3             2025 Exchange Place     BESSEMER            AL  35022-5650   \n",
       "4  3333 RICHARD ARRINGTON JR BLVD   BIRMINGHAM            AL  35234-2303   \n",
       "5            3653 Industrial Pkwy   Birmingham            AL  35217-1346   \n",
       "\n",
       "  LoanStatusDate  ...              OriginatingLender OriginatingLenderCity  \\\n",
       "1           None  ...                   Regions Bank            BIRMINGHAM   \n",
       "2           None  ...  Community Bank of Mississippi                FOREST   \n",
       "3     12/16/2020  ...                   Regions Bank            BIRMINGHAM   \n",
       "4           None  ...               ServisFirst Bank            BIRMINGHAM   \n",
       "5     01/31/2021  ...                   Synovus Bank              COLUMBUS   \n",
       "\n",
       "  OriginatingLenderState      Gender      Veteran NonProfit OfficialNAICSCode  \\\n",
       "1                     AL  Unanswered   Unanswered      None            325510   \n",
       "2                     MS  Male Owned  Non-Veteran      None            325510   \n",
       "3                     AL  Unanswered   Unanswered      None            325510   \n",
       "4                     AL  Unanswered   Unanswered      None            325510   \n",
       "5                     GA  Unanswered   Unanswered      None            325510   \n",
       "\n",
       "          OfficialNAICSDescription  \\\n",
       "1  Paint and Coating Manufacturing   \n",
       "2  Paint and Coating Manufacturing   \n",
       "3  Paint and Coating Manufacturing   \n",
       "4  Paint and Coating Manufacturing   \n",
       "5  Paint and Coating Manufacturing   \n",
       "\n",
       "                                        full_address   ZIP5  \n",
       "1         4775 Hamilton Blvd, Theodore AL 36582-8509  36582  \n",
       "2             4470 McCrary Road SEMMES AL 36575-4440  36575  \n",
       "3         2025 Exchange Place BESSEMER AL 35022-5650  35022  \n",
       "4  3333 RICHARD ARRINGTON JR BLVD BIRMINGHAM AL 3...  35234  \n",
       "5      3653 Industrial Pkwy Birmingham AL 35217-1346  35217  \n",
       "\n",
       "[5 rows x 54 columns]"
      ]
     },
     "execution_count": 256,
     "metadata": {},
     "output_type": "execute_result"
    }
   ],
   "source": [
    "df_ppp_naics_join_address.head(5)"
   ]
  },
  {
   "cell_type": "code",
   "execution_count": 258,
   "id": "irish-google",
   "metadata": {},
   "outputs": [],
   "source": [
    "df_ppp_naics_address_lat_long = pd.merge(df_ppp_naics_join_address, \n",
    "                                         df_zip_code_lat_long[['postal_code', 'place_name', 'state_name', 'state_code','latitude', 'longitude']], \n",
    "                                         left_on='ZIP5', right_on='postal_code')"
   ]
  },
  {
   "cell_type": "code",
   "execution_count": 259,
   "id": "comprehensive-karma",
   "metadata": {},
   "outputs": [
    {
     "data": {
      "text/html": [
       "<div>\n",
       "<style scoped>\n",
       "    .dataframe tbody tr th:only-of-type {\n",
       "        vertical-align: middle;\n",
       "    }\n",
       "\n",
       "    .dataframe tbody tr th {\n",
       "        vertical-align: top;\n",
       "    }\n",
       "\n",
       "    .dataframe thead th {\n",
       "        text-align: right;\n",
       "    }\n",
       "</style>\n",
       "<table border=\"1\" class=\"dataframe\">\n",
       "  <thead>\n",
       "    <tr style=\"text-align: right;\">\n",
       "      <th></th>\n",
       "      <th>LoanNumber</th>\n",
       "      <th>DateApproved</th>\n",
       "      <th>SBAOfficeCode</th>\n",
       "      <th>ProcessingMethod</th>\n",
       "      <th>BorrowerName</th>\n",
       "      <th>BorrowerAddress</th>\n",
       "      <th>BorrowerCity</th>\n",
       "      <th>BorrowerState</th>\n",
       "      <th>BorrowerZip</th>\n",
       "      <th>LoanStatusDate</th>\n",
       "      <th>...</th>\n",
       "      <th>OfficialNAICSCode</th>\n",
       "      <th>OfficialNAICSDescription</th>\n",
       "      <th>full_address</th>\n",
       "      <th>ZIP5</th>\n",
       "      <th>postal_code</th>\n",
       "      <th>place_name</th>\n",
       "      <th>state_name</th>\n",
       "      <th>state_code</th>\n",
       "      <th>latitude</th>\n",
       "      <th>longitude</th>\n",
       "    </tr>\n",
       "  </thead>\n",
       "  <tbody>\n",
       "    <tr>\n",
       "      <th>0</th>\n",
       "      <td>2743777209</td>\n",
       "      <td>04/16/2020</td>\n",
       "      <td>0459</td>\n",
       "      <td>PPP</td>\n",
       "      <td>MOBILE PAINT MANUFACTURING COMPANY OF DELAWARE...</td>\n",
       "      <td>4775 Hamilton Blvd,</td>\n",
       "      <td>Theodore</td>\n",
       "      <td>AL</td>\n",
       "      <td>36582-8509</td>\n",
       "      <td>None</td>\n",
       "      <td>...</td>\n",
       "      <td>325510</td>\n",
       "      <td>Paint and Coating Manufacturing</td>\n",
       "      <td>4775 Hamilton Blvd, Theodore AL 36582-8509</td>\n",
       "      <td>36582</td>\n",
       "      <td>36582</td>\n",
       "      <td>Theodore</td>\n",
       "      <td>Alabama</td>\n",
       "      <td>AL</td>\n",
       "      <td>30.5444</td>\n",
       "      <td>-88.1807</td>\n",
       "    </tr>\n",
       "    <tr>\n",
       "      <th>1</th>\n",
       "      <td>5769087303</td>\n",
       "      <td>04/30/2020</td>\n",
       "      <td>0459</td>\n",
       "      <td>PPP</td>\n",
       "      <td>OAKRIDGE SERVICES LLC</td>\n",
       "      <td>5685B I-10 Industrial Pky \\r\\nNorth</td>\n",
       "      <td>Theodore</td>\n",
       "      <td>AL</td>\n",
       "      <td>36582</td>\n",
       "      <td>None</td>\n",
       "      <td>...</td>\n",
       "      <td>561730</td>\n",
       "      <td>Landscaping Services</td>\n",
       "      <td>5685B I-10 Industrial Pky \\r\\nNorth Theodore A...</td>\n",
       "      <td>36582</td>\n",
       "      <td>36582</td>\n",
       "      <td>Theodore</td>\n",
       "      <td>Alabama</td>\n",
       "      <td>AL</td>\n",
       "      <td>30.5444</td>\n",
       "      <td>-88.1807</td>\n",
       "    </tr>\n",
       "    <tr>\n",
       "      <th>2</th>\n",
       "      <td>8287317410</td>\n",
       "      <td>05/18/2020</td>\n",
       "      <td>0459</td>\n",
       "      <td>PPP</td>\n",
       "      <td>BILL BAFF LANDSCAPE, INC.</td>\n",
       "      <td>9830 BELLINGRATH RD</td>\n",
       "      <td>THEODORE</td>\n",
       "      <td>AL</td>\n",
       "      <td>36582</td>\n",
       "      <td>None</td>\n",
       "      <td>...</td>\n",
       "      <td>561730</td>\n",
       "      <td>Landscaping Services</td>\n",
       "      <td>9830 BELLINGRATH RD THEODORE AL 36582</td>\n",
       "      <td>36582</td>\n",
       "      <td>36582</td>\n",
       "      <td>Theodore</td>\n",
       "      <td>Alabama</td>\n",
       "      <td>AL</td>\n",
       "      <td>30.5444</td>\n",
       "      <td>-88.1807</td>\n",
       "    </tr>\n",
       "    <tr>\n",
       "      <th>3</th>\n",
       "      <td>3468087300</td>\n",
       "      <td>04/29/2020</td>\n",
       "      <td>0459</td>\n",
       "      <td>PPP</td>\n",
       "      <td>MARK YANCEY</td>\n",
       "      <td>9781 OLD PASCAGOULA RD</td>\n",
       "      <td>THEODORE</td>\n",
       "      <td>AL</td>\n",
       "      <td>36582</td>\n",
       "      <td>None</td>\n",
       "      <td>...</td>\n",
       "      <td>561730</td>\n",
       "      <td>Landscaping Services</td>\n",
       "      <td>9781 OLD PASCAGOULA RD THEODORE AL 36582</td>\n",
       "      <td>36582</td>\n",
       "      <td>36582</td>\n",
       "      <td>Theodore</td>\n",
       "      <td>Alabama</td>\n",
       "      <td>AL</td>\n",
       "      <td>30.5444</td>\n",
       "      <td>-88.1807</td>\n",
       "    </tr>\n",
       "    <tr>\n",
       "      <th>4</th>\n",
       "      <td>6138817001</td>\n",
       "      <td>04/06/2020</td>\n",
       "      <td>0459</td>\n",
       "      <td>PPP</td>\n",
       "      <td>G BRIAN LINDSEY ENTERPRISES, LLC</td>\n",
       "      <td>3820 LE BLANC DR</td>\n",
       "      <td>THEODORE</td>\n",
       "      <td>AL</td>\n",
       "      <td>36582-2536</td>\n",
       "      <td>None</td>\n",
       "      <td>...</td>\n",
       "      <td>561730</td>\n",
       "      <td>Landscaping Services</td>\n",
       "      <td>3820 LE BLANC DR THEODORE AL 36582-2536</td>\n",
       "      <td>36582</td>\n",
       "      <td>36582</td>\n",
       "      <td>Theodore</td>\n",
       "      <td>Alabama</td>\n",
       "      <td>AL</td>\n",
       "      <td>30.5444</td>\n",
       "      <td>-88.1807</td>\n",
       "    </tr>\n",
       "  </tbody>\n",
       "</table>\n",
       "<p>5 rows × 60 columns</p>\n",
       "</div>"
      ],
      "text/plain": [
       "   LoanNumber DateApproved SBAOfficeCode ProcessingMethod  \\\n",
       "0  2743777209   04/16/2020          0459              PPP   \n",
       "1  5769087303   04/30/2020          0459              PPP   \n",
       "2  8287317410   05/18/2020          0459              PPP   \n",
       "3  3468087300   04/29/2020          0459              PPP   \n",
       "4  6138817001   04/06/2020          0459              PPP   \n",
       "\n",
       "                                        BorrowerName  \\\n",
       "0  MOBILE PAINT MANUFACTURING COMPANY OF DELAWARE...   \n",
       "1                              OAKRIDGE SERVICES LLC   \n",
       "2                          BILL BAFF LANDSCAPE, INC.   \n",
       "3                                        MARK YANCEY   \n",
       "4                   G BRIAN LINDSEY ENTERPRISES, LLC   \n",
       "\n",
       "                       BorrowerAddress BorrowerCity BorrowerState BorrowerZip  \\\n",
       "0                  4775 Hamilton Blvd,     Theodore            AL  36582-8509   \n",
       "1  5685B I-10 Industrial Pky \\r\\nNorth     Theodore            AL       36582   \n",
       "2                  9830 BELLINGRATH RD     THEODORE            AL       36582   \n",
       "3               9781 OLD PASCAGOULA RD     THEODORE            AL       36582   \n",
       "4                     3820 LE BLANC DR     THEODORE            AL  36582-2536   \n",
       "\n",
       "  LoanStatusDate  ... OfficialNAICSCode         OfficialNAICSDescription  \\\n",
       "0           None  ...            325510  Paint and Coating Manufacturing   \n",
       "1           None  ...            561730             Landscaping Services   \n",
       "2           None  ...            561730             Landscaping Services   \n",
       "3           None  ...            561730             Landscaping Services   \n",
       "4           None  ...            561730             Landscaping Services   \n",
       "\n",
       "                                        full_address   ZIP5 postal_code  \\\n",
       "0         4775 Hamilton Blvd, Theodore AL 36582-8509  36582       36582   \n",
       "1  5685B I-10 Industrial Pky \\r\\nNorth Theodore A...  36582       36582   \n",
       "2              9830 BELLINGRATH RD THEODORE AL 36582  36582       36582   \n",
       "3           9781 OLD PASCAGOULA RD THEODORE AL 36582  36582       36582   \n",
       "4            3820 LE BLANC DR THEODORE AL 36582-2536  36582       36582   \n",
       "\n",
       "  place_name state_name state_code latitude longitude  \n",
       "0   Theodore    Alabama         AL  30.5444  -88.1807  \n",
       "1   Theodore    Alabama         AL  30.5444  -88.1807  \n",
       "2   Theodore    Alabama         AL  30.5444  -88.1807  \n",
       "3   Theodore    Alabama         AL  30.5444  -88.1807  \n",
       "4   Theodore    Alabama         AL  30.5444  -88.1807  \n",
       "\n",
       "[5 rows x 60 columns]"
      ]
     },
     "execution_count": 259,
     "metadata": {},
     "output_type": "execute_result"
    }
   ],
   "source": [
    "df_ppp_naics_address_lat_long.head()"
   ]
  },
  {
   "cell_type": "code",
   "execution_count": 260,
   "id": "liquid-doctor",
   "metadata": {},
   "outputs": [],
   "source": [
    "#df_ppp_naics_address_lat_long.to_parquet('ppp_loans_naics_lat_long.parq')"
   ]
  },
  {
   "cell_type": "code",
   "execution_count": 276,
   "id": "ceramic-tomorrow",
   "metadata": {},
   "outputs": [],
   "source": [
    "#df_ppp_naics_address_lat_long = pd.read_parquet('ppp_loans_naics_lat_long.parq')"
   ]
  },
  {
   "cell_type": "code",
   "execution_count": null,
   "id": "muslim-lebanon",
   "metadata": {},
   "outputs": [],
   "source": []
  },
  {
   "cell_type": "markdown",
   "id": "defensive-approach",
   "metadata": {},
   "source": [
    "#### PPP by State Count (for those with full addresses)"
   ]
  },
  {
   "cell_type": "code",
   "execution_count": 96,
   "id": "artificial-shirt",
   "metadata": {},
   "outputs": [],
   "source": [
    "ppp_naics_count_by_state = pd.DataFrame(df_ppp_naics_join_address.groupby(by='BorrowerState').count()['LoanNumber'].reset_index())"
   ]
  },
  {
   "cell_type": "code",
   "execution_count": 104,
   "id": "featured-madagascar",
   "metadata": {},
   "outputs": [
    {
     "data": {
      "text/plain": [
       "<BarContainer object of 58 artists>"
      ]
     },
     "execution_count": 104,
     "metadata": {},
     "output_type": "execute_result"
    },
    {
     "data": {
      "image/png": "[encoded data removed]",
      "text/plain": [
       "<Figure size 1440x576 with 1 Axes>"
      ]
     },
     "metadata": {
      "needs_background": "light"
     },
     "output_type": "display_data"
    }
   ],
   "source": [
    "import matplotlib.pyplot as plt\n",
    "%matplotlib inline  \n",
    "plt.figure(figsize=(20,8)) \n",
    "plt.bar(x=ppp_naics_count_by_state.BorrowerState, height=ppp_naics_count_by_state.LoanNumber)"
   ]
  },
  {
   "cell_type": "markdown",
   "id": "handed-bullet",
   "metadata": {},
   "source": [
    "#### Sample PPP data for each NAICS code"
   ]
  },
  {
   "cell_type": "code",
   "execution_count": 277,
   "id": "handy-provincial",
   "metadata": {},
   "outputs": [
    {
     "name": "stdout",
     "output_type": "stream",
     "text": [
      "1057\n"
     ]
    }
   ],
   "source": [
    "unique_naics = list(df_ppp_naics_address_lat_long['OfficialNAICSCode'].unique())\n",
    "print(len(unique_naics))"
   ]
  },
  {
   "cell_type": "code",
   "execution_count": 278,
   "id": "literary-windsor",
   "metadata": {},
   "outputs": [],
   "source": [
    "def ppp_naics_address_sample_by_naics():\n",
    "    ret_df = pd.DataFrame(columns = df_ppp_naics_address_lat_long.columns)\n",
    "    i = 0\n",
    "    for n in unique_naics:\n",
    "        sample_size = 5\n",
    "        i+=5\n",
    "        if(i in np.arange(0,10000,500)):\n",
    "            print(\"Iteration {} \".format(i))        \n",
    "        tempdf = df_ppp_naics_address_lat_long[df_ppp_naics_address_lat_long['OfficialNAICSCode']==n].sample(n=sample_size, random_state=99)        \n",
    "        ret_df = pd.concat([ret_df, tempdf])\n",
    "    return ret_df"
   ]
  },
  {
   "cell_type": "code",
   "execution_count": 279,
   "id": "eleven-guest",
   "metadata": {},
   "outputs": [
    {
     "name": "stdout",
     "output_type": "stream",
     "text": [
      "Iteration 500 \n",
      "Iteration 1000 \n",
      "Iteration 1500 \n",
      "Iteration 2000 \n",
      "Iteration 2500 \n",
      "Iteration 3000 \n",
      "Iteration 3500 \n",
      "Iteration 4000 \n",
      "Iteration 4500 \n",
      "Iteration 5000 \n"
     ]
    }
   ],
   "source": [
    "df_ppp_naics_address_lat_long_sample = ppp_naics_address_sample_by_naics()"
   ]
  },
  {
   "cell_type": "code",
   "execution_count": 280,
   "id": "modified-hormone",
   "metadata": {},
   "outputs": [
    {
     "data": {
      "text/plain": [
       "5285"
      ]
     },
     "execution_count": 280,
     "metadata": {},
     "output_type": "execute_result"
    }
   ],
   "source": [
    "len(df_ppp_naics_address_lat_long_sample)"
   ]
  },
  {
   "cell_type": "code",
   "execution_count": 282,
   "id": "nuclear-panic",
   "metadata": {},
   "outputs": [],
   "source": [
    "#df_ppp_naics_address_lat_long_sample.to_parquet('ppp_loans_naics_lat_long_sample.parq')"
   ]
  },
  {
   "cell_type": "code",
   "execution_count": null,
   "id": "comic-seeking",
   "metadata": {},
   "outputs": [],
   "source": []
  },
  {
   "cell_type": "code",
   "execution_count": null,
   "id": "massive-cookie",
   "metadata": {},
   "outputs": [],
   "source": []
  }
 ],
 "metadata": {
  "kernelspec": {
   "display_name": "Python 3",
   "language": "python",
   "name": "python3"
  },
  "language_info": {
   "codemirror_mode": {
    "name": "ipython",
    "version": 3
   },
   "file_extension": ".py",
   "mimetype": "text/x-python",
   "name": "python",
   "nbconvert_exporter": "python",
   "pygments_lexer": "ipython3",
   "version": "3.8.5"
  }
 },
 "nbformat": 4,
 "nbformat_minor": 5
}
