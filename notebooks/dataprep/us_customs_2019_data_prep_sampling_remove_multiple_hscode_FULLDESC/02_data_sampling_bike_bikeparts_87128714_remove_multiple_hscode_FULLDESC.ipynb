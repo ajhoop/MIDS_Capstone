{
 "cells": [
  {
   "cell_type": "code",
   "execution_count": 1,
   "id": "associate-amplifier",
   "metadata": {},
   "outputs": [],
   "source": [
    "import numpy as np\n",
    "import pandas as pd\n",
    "import dask.dataframe as dd\n",
    "import matplotlib.pyplot as plt\n",
    "import os\n",
    "import time"
   ]
  },
  {
   "cell_type": "markdown",
   "id": "organic-lyric",
   "metadata": {},
   "source": [
    "### Load FULL DESC data for 2019 imports"
   ]
  },
  {
   "cell_type": "code",
   "execution_count": 19,
   "id": "accompanied-monte",
   "metadata": {},
   "outputs": [
    {
     "name": "stdout",
     "output_type": "stream",
     "text": [
      "us_customs_2019_ignore_multiple_hscode_not_null_hscode.parq\n",
      "us_customs_2019_ignore_multiple_hscode_null_hscode.parq\n"
     ]
    }
   ],
   "source": [
    "!ls /data/common/trade_data/2019_updated/us_customs_2019_cleaned_ignore_multiple_hscode_FULLDESC"
   ]
  },
  {
   "cell_type": "code",
   "execution_count": 3,
   "id": "simple-intake",
   "metadata": {},
   "outputs": [],
   "source": [
    "#Load full dataset without nulls\n",
    "df_no_null = dd.read_parquet('/data/common/trade_data/2019_updated/us_customs_2019_cleaned_ignore_multiple_hscode_FULLDESC/us_customs_2019_ignore_multiple_hscode_not_null_hscode.parq', engine='fastparquet', chunksize=\"100MB\")"
   ]
  },
  {
   "cell_type": "code",
   "execution_count": null,
   "id": "forward-infrared",
   "metadata": {},
   "outputs": [],
   "source": [
    "len(df_no_null)"
   ]
  },
  {
   "cell_type": "markdown",
   "id": "miniature-virgin",
   "metadata": {},
   "source": [
    "### Load HS Codes\n",
    "Note: we want HS4 here for 8712 and 8714"
   ]
  },
  {
   "cell_type": "code",
   "execution_count": 4,
   "id": "convertible-hunger",
   "metadata": {},
   "outputs": [
    {
     "data": {
      "text/html": [
       "<div>\n",
       "<style scoped>\n",
       "    .dataframe tbody tr th:only-of-type {\n",
       "        vertical-align: middle;\n",
       "    }\n",
       "\n",
       "    .dataframe tbody tr th {\n",
       "        vertical-align: top;\n",
       "    }\n",
       "\n",
       "    .dataframe thead th {\n",
       "        text-align: right;\n",
       "    }\n",
       "</style>\n",
       "<table border=\"1\" class=\"dataframe\">\n",
       "  <thead>\n",
       "    <tr style=\"text-align: right;\">\n",
       "      <th></th>\n",
       "      <th>HS_Code</th>\n",
       "      <th>Merged_Description</th>\n",
       "      <th>HTS4</th>\n",
       "    </tr>\n",
       "  </thead>\n",
       "  <tbody>\n",
       "    <tr>\n",
       "      <th>0</th>\n",
       "      <td>010121</td>\n",
       "      <td>Live horses, asses, mules and hinnies ;Horses ...</td>\n",
       "      <td>0101</td>\n",
       "    </tr>\n",
       "    <tr>\n",
       "      <th>1</th>\n",
       "      <td>010129</td>\n",
       "      <td>Live horses, asses, mules and hinnies ;Horses ...</td>\n",
       "      <td>0101</td>\n",
       "    </tr>\n",
       "    <tr>\n",
       "      <th>2</th>\n",
       "      <td>010130</td>\n",
       "      <td>Live horses, asses, mules and hinnies ;Asses</td>\n",
       "      <td>0101</td>\n",
       "    </tr>\n",
       "    <tr>\n",
       "      <th>3</th>\n",
       "      <td>010190</td>\n",
       "      <td>Live horses, asses, mules and hinnies ;Other ;...</td>\n",
       "      <td>0101</td>\n",
       "    </tr>\n",
       "    <tr>\n",
       "      <th>4</th>\n",
       "      <td>010221</td>\n",
       "      <td>Live bovine animals ;Cattle ;Purebred breeding...</td>\n",
       "      <td>0102</td>\n",
       "    </tr>\n",
       "    <tr>\n",
       "      <th>...</th>\n",
       "      <td>...</td>\n",
       "      <td>...</td>\n",
       "      <td>...</td>\n",
       "    </tr>\n",
       "    <tr>\n",
       "      <th>5516</th>\n",
       "      <td>991921</td>\n",
       "      <td>Goods of Panama, under the terms of general no...</td>\n",
       "      <td>9919</td>\n",
       "    </tr>\n",
       "    <tr>\n",
       "      <th>5517</th>\n",
       "      <td>991961</td>\n",
       "      <td>Goods of Panama, under the terms of general no...</td>\n",
       "      <td>9919</td>\n",
       "    </tr>\n",
       "    <tr>\n",
       "      <th>5518</th>\n",
       "      <td>992004</td>\n",
       "      <td>Goods of Korea, under the terms of general not...</td>\n",
       "      <td>9920</td>\n",
       "    </tr>\n",
       "    <tr>\n",
       "      <th>5519</th>\n",
       "      <td>992038</td>\n",
       "      <td>Goods of Korea, under the terms of general not...</td>\n",
       "      <td>9920</td>\n",
       "    </tr>\n",
       "    <tr>\n",
       "      <th>5520</th>\n",
       "      <td>992085</td>\n",
       "      <td>Goods of Korea, under the terms of general not...</td>\n",
       "      <td>9920</td>\n",
       "    </tr>\n",
       "  </tbody>\n",
       "</table>\n",
       "<p>5521 rows × 3 columns</p>\n",
       "</div>"
      ],
      "text/plain": [
       "     HS_Code                                 Merged_Description  HTS4\n",
       "0     010121  Live horses, asses, mules and hinnies ;Horses ...  0101\n",
       "1     010129  Live horses, asses, mules and hinnies ;Horses ...  0101\n",
       "2     010130       Live horses, asses, mules and hinnies ;Asses  0101\n",
       "3     010190  Live horses, asses, mules and hinnies ;Other ;...  0101\n",
       "4     010221  Live bovine animals ;Cattle ;Purebred breeding...  0102\n",
       "...      ...                                                ...   ...\n",
       "5516  991921  Goods of Panama, under the terms of general no...  9919\n",
       "5517  991961  Goods of Panama, under the terms of general no...  9919\n",
       "5518  992004  Goods of Korea, under the terms of general not...  9920\n",
       "5519  992038  Goods of Korea, under the terms of general not...  9920\n",
       "5520  992085  Goods of Korea, under the terms of general not...  9920\n",
       "\n",
       "[5521 rows x 3 columns]"
      ]
     },
     "execution_count": 4,
     "metadata": {},
     "output_type": "execute_result"
    }
   ],
   "source": [
    "#Load hs codes\n",
    "hs_code = pd.read_csv('/data/common/trade_data/HS/hs_code_2019_final.csv', dtype='str')\n",
    "hs_code['HTS4'] = [x[0:4] for x in hs_code['HS_Code']]\n",
    "hs_code"
   ]
  },
  {
   "cell_type": "markdown",
   "id": "configured-collector",
   "metadata": {},
   "source": [
    "### Find all HS6 codes within subset of HS4 codes and filter full data for 2019"
   ]
  },
  {
   "cell_type": "code",
   "execution_count": 5,
   "id": "still-carter",
   "metadata": {},
   "outputs": [],
   "source": [
    "def subset_full_df_by_hts4_code(hscodes, hts4codes_to_filter=[]):\n",
    "    unique_hs_code = hs_code[hs_code['HTS4'].isin(hts4codes_to_filter)]['HS_Code'].unique()\n",
    "    print(\"There are {} unique hs6 codes in these hts4 code groups.\".format(len(unique_hs_code)))\n",
    "    tempdf = df_no_null[df_no_null['Cleaned_HS_Code'].isin(unique_hs_code)] \n",
    "    return tempdf"
   ]
  },
  {
   "cell_type": "code",
   "execution_count": 6,
   "id": "bearing-cisco",
   "metadata": {},
   "outputs": [],
   "source": [
    "#Specify hs codes\n",
    "specific_hscodes = ['8712','8714']\n",
    "\n",
    "#List of unique HS Codes within the HS4 codes specified\n",
    "unique_hs_code = hs_code[hs_code['HTS4'].isin(specific_hscodes)]['HS_Code'].unique()"
   ]
  },
  {
   "cell_type": "code",
   "execution_count": 7,
   "id": "reverse-journalist",
   "metadata": {},
   "outputs": [
    {
     "name": "stdout",
     "output_type": "stream",
     "text": [
      "There are 10 unique hs6 codes in these hts4 code groups.\n"
     ]
    }
   ],
   "source": [
    "#Call function passing in specific hs codes to filter on\n",
    "df_subset = subset_full_df_by_hts4_code(hs_code, specific_hscodes)"
   ]
  },
  {
   "cell_type": "code",
   "execution_count": null,
   "id": "pleased-longer",
   "metadata": {},
   "outputs": [],
   "source": [
    "#df_subset.head()"
   ]
  },
  {
   "cell_type": "code",
   "execution_count": 8,
   "id": "treated-draft",
   "metadata": {},
   "outputs": [],
   "source": [
    "#Convert to pandas\n",
    "df_subset_pandas = df_subset.compute()"
   ]
  },
  {
   "cell_type": "markdown",
   "id": "announced-turner",
   "metadata": {},
   "source": [
    "### Sample subsetted df"
   ]
  },
  {
   "cell_type": "code",
   "execution_count": 9,
   "id": "dying-trainer",
   "metadata": {},
   "outputs": [],
   "source": [
    "#Create an empty pandas dataframe for the sample\n",
    "df_sample = pd.DataFrame(columns = df_subset_pandas.columns)"
   ]
  },
  {
   "cell_type": "code",
   "execution_count": 10,
   "id": "asian-traffic",
   "metadata": {},
   "outputs": [
    {
     "name": "stdout",
     "output_type": "stream",
     "text": [
      "before: 6893\n",
      "after: 3751\n",
      "before: 1204\n",
      "after: 995\n",
      "before: 8922\n",
      "after: 3016\n",
      "before: 567\n",
      "after: 334\n",
      "before: 5611\n",
      "after: 1945\n",
      "before: 16836\n",
      "after: 4606\n",
      "before: 2046\n",
      "after: 800\n",
      "before: 95\n",
      "after: 78\n",
      "before: 654\n",
      "after: 405\n",
      "before: 3063\n",
      "after: 1524\n"
     ]
    }
   ],
   "source": [
    "#Loop through unique hs code list and sample 1000 from each hs code\n",
    "for h in unique_hs_code:\n",
    "    #print(h)\n",
    "    tempdf = df_subset_pandas[df_subset_pandas['Cleaned_HS_Code']==h]\n",
    "    print(\"before:\", len(tempdf))\n",
    "    tempdf = tempdf.drop_duplicates('Product Desc')\n",
    "    print(\"after:\", len(tempdf))\n",
    "    sample_size = 1000\n",
    "    if(len(tempdf)<1000):\n",
    "        sample_size = len(tempdf)\n",
    "    ret_df = tempdf.sample(n=sample_size, random_state=99)\n",
    "    df_sample = pd.concat([df_sample, ret_df])"
   ]
  },
  {
   "cell_type": "code",
   "execution_count": 11,
   "id": "confirmed-asbestos",
   "metadata": {},
   "outputs": [
    {
     "data": {
      "text/plain": [
       "HS Code\n",
       "871200    1000\n",
       "871410     995\n",
       "871420    1000\n",
       "871491     334\n",
       "871492    1000\n",
       "871493    1000\n",
       "871494     800\n",
       "871495      78\n",
       "871496     405\n",
       "871499    1000\n",
       "Name: System Identity Id, dtype: int64"
      ]
     },
     "execution_count": 11,
     "metadata": {},
     "output_type": "execute_result"
    }
   ],
   "source": [
    "df_sample.groupby(by='HS Code').count()['System Identity Id']"
   ]
  },
  {
   "cell_type": "code",
   "execution_count": 12,
   "id": "considered-photograph",
   "metadata": {},
   "outputs": [
    {
     "data": {
      "text/plain": [
       "7612"
      ]
     },
     "execution_count": 12,
     "metadata": {},
     "output_type": "execute_result"
    }
   ],
   "source": [
    "len(df_sample)"
   ]
  },
  {
   "cell_type": "code",
   "execution_count": 16,
   "id": "rational-warehouse",
   "metadata": {},
   "outputs": [],
   "source": [
    "df_sample.to_parquet('/data/common/trade_data/2019_updated/data_samples_ignore_multiple_hscode/sample_ignore_multiple_hscode_87128714.parq')"
   ]
  },
  {
   "cell_type": "code",
   "execution_count": 18,
   "id": "numeric-validation",
   "metadata": {},
   "outputs": [],
   "source": [
    "df_sample[['HS Code', 'Cleaned_HS_Code']].to_csv('temp.csv')"
   ]
  },
  {
   "cell_type": "code",
   "execution_count": null,
   "id": "proper-novelty",
   "metadata": {},
   "outputs": [],
   "source": []
  }
 ],
 "metadata": {
  "kernelspec": {
   "display_name": "Python 3",
   "language": "python",
   "name": "python3"
  },
  "language_info": {
   "codemirror_mode": {
    "name": "ipython",
    "version": 3
   },
   "file_extension": ".py",
   "mimetype": "text/x-python",
   "name": "python",
   "nbconvert_exporter": "python",
   "pygments_lexer": "ipython3",
   "version": "3.8.5"
  }
 },
 "nbformat": 4,
 "nbformat_minor": 5
}
