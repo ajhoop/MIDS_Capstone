{
 "cells": [
  {
   "cell_type": "code",
   "execution_count": 1,
   "id": "collected-mixture",
   "metadata": {},
   "outputs": [],
   "source": [
    "import numpy as np\n",
    "import pandas as pd\n",
    "import dask.dataframe as dd\n",
    "import matplotlib.pyplot as plt\n",
    "import os\n",
    "import time"
   ]
  },
  {
   "cell_type": "markdown",
   "id": "soviet-disco",
   "metadata": {},
   "source": [
    "### Load FULL DESC data for 2019 imports"
   ]
  },
  {
   "cell_type": "code",
   "execution_count": 2,
   "id": "pharmaceutical-china",
   "metadata": {},
   "outputs": [
    {
     "name": "stdout",
     "output_type": "stream",
     "text": [
      "us_customs_2019_FULLDESC_not_null.parq\n",
      "us_customs_2019_FULLDESC_null_hscode.parq\n"
     ]
    }
   ],
   "source": [
    "!ls /data/common/trade_data/2019_updated/us_customs_2019_cleaned_joined_data_FULLDESC"
   ]
  },
  {
   "cell_type": "code",
   "execution_count": 3,
   "id": "union-packaging",
   "metadata": {},
   "outputs": [],
   "source": [
    "#Load full dataset without nulls\n",
    "df_no_null = dd.read_parquet('/data/common/trade_data/2019_updated/us_customs_2019_cleaned_joined_data_FULLDESC/us_customs_2019_FULLDESC_not_null.parq', engine='fastparquet', chunksize=\"100MB\")"
   ]
  },
  {
   "cell_type": "code",
   "execution_count": 4,
   "id": "trying-comedy",
   "metadata": {},
   "outputs": [
    {
     "data": {
      "text/plain": [
       "11066173"
      ]
     },
     "execution_count": 4,
     "metadata": {},
     "output_type": "execute_result"
    }
   ],
   "source": [
    "len(df_no_null)"
   ]
  },
  {
   "cell_type": "markdown",
   "id": "arctic-pulse",
   "metadata": {},
   "source": [
    "### Load HS Codes\n",
    "Note: we want HS4 here for 8712 and 8714"
   ]
  },
  {
   "cell_type": "code",
   "execution_count": 7,
   "id": "alone-sharing",
   "metadata": {},
   "outputs": [
    {
     "data": {
      "text/html": [
       "<div>\n",
       "<style scoped>\n",
       "    .dataframe tbody tr th:only-of-type {\n",
       "        vertical-align: middle;\n",
       "    }\n",
       "\n",
       "    .dataframe tbody tr th {\n",
       "        vertical-align: top;\n",
       "    }\n",
       "\n",
       "    .dataframe thead th {\n",
       "        text-align: right;\n",
       "    }\n",
       "</style>\n",
       "<table border=\"1\" class=\"dataframe\">\n",
       "  <thead>\n",
       "    <tr style=\"text-align: right;\">\n",
       "      <th></th>\n",
       "      <th>HS_Code</th>\n",
       "      <th>Merged_Description</th>\n",
       "      <th>HTS4</th>\n",
       "    </tr>\n",
       "  </thead>\n",
       "  <tbody>\n",
       "    <tr>\n",
       "      <th>0</th>\n",
       "      <td>010121</td>\n",
       "      <td>Live horses, asses, mules and hinnies ;Horses ...</td>\n",
       "      <td>0101</td>\n",
       "    </tr>\n",
       "    <tr>\n",
       "      <th>1</th>\n",
       "      <td>010129</td>\n",
       "      <td>Live horses, asses, mules and hinnies ;Horses ...</td>\n",
       "      <td>0101</td>\n",
       "    </tr>\n",
       "    <tr>\n",
       "      <th>2</th>\n",
       "      <td>010130</td>\n",
       "      <td>Live horses, asses, mules and hinnies ;Asses</td>\n",
       "      <td>0101</td>\n",
       "    </tr>\n",
       "    <tr>\n",
       "      <th>3</th>\n",
       "      <td>010190</td>\n",
       "      <td>Live horses, asses, mules and hinnies ;Other ;...</td>\n",
       "      <td>0101</td>\n",
       "    </tr>\n",
       "    <tr>\n",
       "      <th>4</th>\n",
       "      <td>010221</td>\n",
       "      <td>Live bovine animals ;Cattle ;Purebred breeding...</td>\n",
       "      <td>0102</td>\n",
       "    </tr>\n",
       "    <tr>\n",
       "      <th>...</th>\n",
       "      <td>...</td>\n",
       "      <td>...</td>\n",
       "      <td>...</td>\n",
       "    </tr>\n",
       "    <tr>\n",
       "      <th>5516</th>\n",
       "      <td>991921</td>\n",
       "      <td>Goods of Panama, under the terms of general no...</td>\n",
       "      <td>9919</td>\n",
       "    </tr>\n",
       "    <tr>\n",
       "      <th>5517</th>\n",
       "      <td>991961</td>\n",
       "      <td>Goods of Panama, under the terms of general no...</td>\n",
       "      <td>9919</td>\n",
       "    </tr>\n",
       "    <tr>\n",
       "      <th>5518</th>\n",
       "      <td>992004</td>\n",
       "      <td>Goods of Korea, under the terms of general not...</td>\n",
       "      <td>9920</td>\n",
       "    </tr>\n",
       "    <tr>\n",
       "      <th>5519</th>\n",
       "      <td>992038</td>\n",
       "      <td>Goods of Korea, under the terms of general not...</td>\n",
       "      <td>9920</td>\n",
       "    </tr>\n",
       "    <tr>\n",
       "      <th>5520</th>\n",
       "      <td>992085</td>\n",
       "      <td>Goods of Korea, under the terms of general not...</td>\n",
       "      <td>9920</td>\n",
       "    </tr>\n",
       "  </tbody>\n",
       "</table>\n",
       "<p>5521 rows × 3 columns</p>\n",
       "</div>"
      ],
      "text/plain": [
       "     HS_Code                                 Merged_Description  HTS4\n",
       "0     010121  Live horses, asses, mules and hinnies ;Horses ...  0101\n",
       "1     010129  Live horses, asses, mules and hinnies ;Horses ...  0101\n",
       "2     010130       Live horses, asses, mules and hinnies ;Asses  0101\n",
       "3     010190  Live horses, asses, mules and hinnies ;Other ;...  0101\n",
       "4     010221  Live bovine animals ;Cattle ;Purebred breeding...  0102\n",
       "...      ...                                                ...   ...\n",
       "5516  991921  Goods of Panama, under the terms of general no...  9919\n",
       "5517  991961  Goods of Panama, under the terms of general no...  9919\n",
       "5518  992004  Goods of Korea, under the terms of general not...  9920\n",
       "5519  992038  Goods of Korea, under the terms of general not...  9920\n",
       "5520  992085  Goods of Korea, under the terms of general not...  9920\n",
       "\n",
       "[5521 rows x 3 columns]"
      ]
     },
     "execution_count": 7,
     "metadata": {},
     "output_type": "execute_result"
    }
   ],
   "source": [
    "#Load hs codes\n",
    "hs_code = pd.read_csv('/data/common/trade_data/HS/hs_code_2019_final.csv', dtype='str')\n",
    "hs_code['HTS4'] = [x[0:4] for x in hs_code['HS_Code']]\n",
    "hs_code"
   ]
  },
  {
   "cell_type": "markdown",
   "id": "random-magnitude",
   "metadata": {},
   "source": [
    "### Find all HS6 codes within subset of HS4 codes and filter full data for 2019"
   ]
  },
  {
   "cell_type": "code",
   "execution_count": 8,
   "id": "fuzzy-ordering",
   "metadata": {},
   "outputs": [],
   "source": [
    "def subset_full_df_by_hts4_code(hscodes, hts4codes_to_filter=[]):\n",
    "    unique_hs_code = hs_code[hs_code['HTS4'].isin(hts4codes_to_filter)]['HS_Code'].unique()\n",
    "    print(\"There are {} unique hs6 codes in these hts4 code groups.\".format(len(unique_hs_code)))\n",
    "    tempdf = df_no_null[df_no_null['HS Code'].isin(unique_hs_code)] \n",
    "    return tempdf"
   ]
  },
  {
   "cell_type": "code",
   "execution_count": 19,
   "id": "urban-latex",
   "metadata": {},
   "outputs": [],
   "source": [
    "#Specify hs codes\n",
    "specific_hscodes = ['8712','8714']\n",
    "\n",
    "#List of unique HS Codes within the HS4 codes specified\n",
    "unique_hs_code = hs_code[hs_code['HTS4'].isin(specific_hscodes)]['HS_Code'].unique()"
   ]
  },
  {
   "cell_type": "code",
   "execution_count": 9,
   "id": "knowing-writing",
   "metadata": {},
   "outputs": [
    {
     "name": "stdout",
     "output_type": "stream",
     "text": [
      "There are 10 unique hs6 codes in these hts4 code groups.\n"
     ]
    }
   ],
   "source": [
    "#Call function passing in specific hs codes to filter on\n",
    "df_subset = subset_full_df_by_hts4_code(hs_code, specific_hscodes)"
   ]
  },
  {
   "cell_type": "code",
   "execution_count": 10,
   "id": "waiting-jefferson",
   "metadata": {},
   "outputs": [
    {
     "data": {
      "text/html": [
       "<div>\n",
       "<style scoped>\n",
       "    .dataframe tbody tr th:only-of-type {\n",
       "        vertical-align: middle;\n",
       "    }\n",
       "\n",
       "    .dataframe tbody tr th {\n",
       "        vertical-align: top;\n",
       "    }\n",
       "\n",
       "    .dataframe thead th {\n",
       "        text-align: right;\n",
       "    }\n",
       "</style>\n",
       "<table border=\"1\" class=\"dataframe\">\n",
       "  <thead>\n",
       "    <tr style=\"text-align: right;\">\n",
       "      <th></th>\n",
       "      <th>System Identity Id</th>\n",
       "      <th>Estimate Arrival Date</th>\n",
       "      <th>Actual Arrival Date</th>\n",
       "      <th>Bill of Lading</th>\n",
       "      <th>Master Bill of Lading</th>\n",
       "      <th>Bill Type Code</th>\n",
       "      <th>Carrier SASC Code</th>\n",
       "      <th>Vessel Country Code</th>\n",
       "      <th>Vessel Code</th>\n",
       "      <th>Vessel Name</th>\n",
       "      <th>...</th>\n",
       "      <th>Product Desc</th>\n",
       "      <th>Marks &amp; Numbers</th>\n",
       "      <th>HS Code Sure Level</th>\n",
       "      <th>CIF</th>\n",
       "      <th>Indicator of true supplier</th>\n",
       "      <th>Indicator of true buyer</th>\n",
       "      <th>END</th>\n",
       "      <th>HS Code</th>\n",
       "      <th>HS_Code</th>\n",
       "      <th>Merged_Description</th>\n",
       "    </tr>\n",
       "  </thead>\n",
       "  <tbody>\n",
       "    <tr>\n",
       "      <th>57</th>\n",
       "      <td>6003201906260000008284</td>\n",
       "      <td>20190227</td>\n",
       "      <td>20190607</td>\n",
       "      <td>EXDO6680020941</td>\n",
       "      <td>OOLU4047460450</td>\n",
       "      <td>H</td>\n",
       "      <td>EXDO, EXPEDITORS INTERNATIONAL</td>\n",
       "      <td>FR</td>\n",
       "      <td>9299783</td>\n",
       "      <td>CMA CGM TOSCA</td>\n",
       "      <td>...</td>\n",
       "      <td>ALUMINIUM PARTS&lt;br/&gt;</td>\n",
       "      <td>PO#0550685107&lt;br/&gt;</td>\n",
       "      <td>5</td>\n",
       "      <td>0.0</td>\n",
       "      <td>Y</td>\n",
       "      <td>Y</td>\n",
       "      <td>END</td>\n",
       "      <td>871493</td>\n",
       "      <td>871493</td>\n",
       "      <td>Parts and accessories of vehicles of headings ...</td>\n",
       "    </tr>\n",
       "    <tr>\n",
       "      <th>484</th>\n",
       "      <td>6003201906260000018152</td>\n",
       "      <td>20190614</td>\n",
       "      <td>20190607</td>\n",
       "      <td>DMALPKGA08540</td>\n",
       "      <td>MEDUMY642529</td>\n",
       "      <td>H</td>\n",
       "      <td>DMAL, DANMAR LINES LTD</td>\n",
       "      <td>MH</td>\n",
       "      <td>9290464</td>\n",
       "      <td>SEAMAX NORWALK</td>\n",
       "      <td>...</td>\n",
       "      <td>ALUMINIUM EXTRUSION&lt;br/&gt;</td>\n",
       "      <td>NIL MARKS&lt;br/&gt;</td>\n",
       "      <td>5</td>\n",
       "      <td>0.0</td>\n",
       "      <td>N</td>\n",
       "      <td>Y</td>\n",
       "      <td>END</td>\n",
       "      <td>871493</td>\n",
       "      <td>871493</td>\n",
       "      <td>Parts and accessories of vehicles of headings ...</td>\n",
       "    </tr>\n",
       "    <tr>\n",
       "      <th>1407</th>\n",
       "      <td>6003201906260000034628</td>\n",
       "      <td>20190622</td>\n",
       "      <td>20190625</td>\n",
       "      <td>OERT110702I00805</td>\n",
       "      <td>APLUAOC0136618</td>\n",
       "      <td>H</td>\n",
       "      <td>OERT</td>\n",
       "      <td>CY</td>\n",
       "      <td>9356294</td>\n",
       "      <td>CMA CGM THALASSA</td>\n",
       "      <td>...</td>\n",
       "      <td>OF ALUMINIUM&lt;br/&gt;OF ALUMINIUM&lt;br/&gt;</td>\n",
       "      <td>NO MARKS&lt;br/&gt;NO MARKS&lt;br/&gt;</td>\n",
       "      <td>5</td>\n",
       "      <td>0.0</td>\n",
       "      <td>Y</td>\n",
       "      <td>Y</td>\n",
       "      <td>END</td>\n",
       "      <td>871493</td>\n",
       "      <td>871493</td>\n",
       "      <td>Parts and accessories of vehicles of headings ...</td>\n",
       "    </tr>\n",
       "    <tr>\n",
       "      <th>1450</th>\n",
       "      <td>6003201906260000035497</td>\n",
       "      <td>20190623</td>\n",
       "      <td>20190625</td>\n",
       "      <td>CHQFTJN90016277C</td>\n",
       "      <td>HDMUXGWB3702917</td>\n",
       "      <td>H</td>\n",
       "      <td>CHQF, CHINA INTERNATIONAL FREIGHT CO LTD</td>\n",
       "      <td>DE</td>\n",
       "      <td>9290555</td>\n",
       "      <td>SANTA LINEA</td>\n",
       "      <td>...</td>\n",
       "      <td>WHEEL&lt;br/&gt;WHEEL&lt;br/&gt;TYRE&lt;br/&gt;TYRE&lt;br/&gt;</td>\n",
       "      <td>NO MARKS&lt;br/&gt;NO MARKS&lt;br/&gt;NO MARKS&lt;br/&gt;NO MARK...</td>\n",
       "      <td>5</td>\n",
       "      <td>0.0</td>\n",
       "      <td>Y</td>\n",
       "      <td>Y</td>\n",
       "      <td>END</td>\n",
       "      <td>871492</td>\n",
       "      <td>871492</td>\n",
       "      <td>Parts and accessories of vehicles of headings ...</td>\n",
       "    </tr>\n",
       "    <tr>\n",
       "      <th>1648</th>\n",
       "      <td>6003201906260000038438</td>\n",
       "      <td>20190610</td>\n",
       "      <td>20190625</td>\n",
       "      <td>ABTB2903320298</td>\n",
       "      <td>COSU4521564060</td>\n",
       "      <td>H</td>\n",
       "      <td>ABTB</td>\n",
       "      <td>DE</td>\n",
       "      <td>VIENNA EXPRESS</td>\n",
       "      <td>VIENNA EXPRESS</td>\n",
       "      <td>...</td>\n",
       "      <td>NAUTICAL ACCESSORIES&lt;br/&gt;</td>\n",
       "      <td>UFLEX USA INC.&lt;br/&gt;</td>\n",
       "      <td>5</td>\n",
       "      <td>0.0</td>\n",
       "      <td>Y</td>\n",
       "      <td>Y</td>\n",
       "      <td>END</td>\n",
       "      <td>871420</td>\n",
       "      <td>871420</td>\n",
       "      <td>Parts and accessories of vehicles of headings ...</td>\n",
       "    </tr>\n",
       "  </tbody>\n",
       "</table>\n",
       "<p>5 rows × 70 columns</p>\n",
       "</div>"
      ],
      "text/plain": [
       "          System Identity Id Estimate Arrival Date Actual Arrival Date  \\\n",
       "57    6003201906260000008284              20190227            20190607   \n",
       "484   6003201906260000018152              20190614            20190607   \n",
       "1407  6003201906260000034628              20190622            20190625   \n",
       "1450  6003201906260000035497              20190623            20190625   \n",
       "1648  6003201906260000038438              20190610            20190625   \n",
       "\n",
       "        Bill of Lading Master Bill of Lading Bill Type Code  \\\n",
       "57      EXDO6680020941        OOLU4047460450              H   \n",
       "484      DMALPKGA08540          MEDUMY642529              H   \n",
       "1407  OERT110702I00805        APLUAOC0136618              H   \n",
       "1450  CHQFTJN90016277C       HDMUXGWB3702917              H   \n",
       "1648    ABTB2903320298        COSU4521564060              H   \n",
       "\n",
       "                             Carrier SASC Code Vessel Country Code  \\\n",
       "57              EXDO, EXPEDITORS INTERNATIONAL                  FR   \n",
       "484                     DMAL, DANMAR LINES LTD                  MH   \n",
       "1407                                      OERT                  CY   \n",
       "1450  CHQF, CHINA INTERNATIONAL FREIGHT CO LTD                  DE   \n",
       "1648                                      ABTB                  DE   \n",
       "\n",
       "         Vessel Code       Vessel Name  ...  \\\n",
       "57           9299783     CMA CGM TOSCA  ...   \n",
       "484          9290464    SEAMAX NORWALK  ...   \n",
       "1407         9356294  CMA CGM THALASSA  ...   \n",
       "1450         9290555       SANTA LINEA  ...   \n",
       "1648  VIENNA EXPRESS    VIENNA EXPRESS  ...   \n",
       "\n",
       "                                Product Desc  \\\n",
       "57                      ALUMINIUM PARTS<br/>   \n",
       "484                 ALUMINIUM EXTRUSION<br/>   \n",
       "1407      OF ALUMINIUM<br/>OF ALUMINIUM<br/>   \n",
       "1450  WHEEL<br/>WHEEL<br/>TYRE<br/>TYRE<br/>   \n",
       "1648               NAUTICAL ACCESSORIES<br/>   \n",
       "\n",
       "                                        Marks & Numbers HS Code Sure Level  \\\n",
       "57                                   PO#0550685107<br/>                  5   \n",
       "484                                      NIL MARKS<br/>                  5   \n",
       "1407                         NO MARKS<br/>NO MARKS<br/>                  5   \n",
       "1450  NO MARKS<br/>NO MARKS<br/>NO MARKS<br/>NO MARK...                  5   \n",
       "1648                                UFLEX USA INC.<br/>                  5   \n",
       "\n",
       "      CIF Indicator of true supplier Indicator of true buyer  END HS Code  \\\n",
       "57    0.0                          Y                       Y  END  871493   \n",
       "484   0.0                          N                       Y  END  871493   \n",
       "1407  0.0                          Y                       Y  END  871493   \n",
       "1450  0.0                          Y                       Y  END  871492   \n",
       "1648  0.0                          Y                       Y  END  871420   \n",
       "\n",
       "     HS_Code                                 Merged_Description  \n",
       "57    871493  Parts and accessories of vehicles of headings ...  \n",
       "484   871493  Parts and accessories of vehicles of headings ...  \n",
       "1407  871493  Parts and accessories of vehicles of headings ...  \n",
       "1450  871492  Parts and accessories of vehicles of headings ...  \n",
       "1648  871420  Parts and accessories of vehicles of headings ...  \n",
       "\n",
       "[5 rows x 70 columns]"
      ]
     },
     "execution_count": 10,
     "metadata": {},
     "output_type": "execute_result"
    }
   ],
   "source": [
    "df_subset.head()"
   ]
  },
  {
   "cell_type": "code",
   "execution_count": 11,
   "id": "victorian-hobby",
   "metadata": {},
   "outputs": [],
   "source": [
    "#Convert to pandas\n",
    "df_subset_pandas = df_subset.compute()"
   ]
  },
  {
   "cell_type": "markdown",
   "id": "advanced-employee",
   "metadata": {},
   "source": [
    "### Sample subsetted df"
   ]
  },
  {
   "cell_type": "code",
   "execution_count": 12,
   "id": "protecting-count",
   "metadata": {},
   "outputs": [],
   "source": [
    "#Create an empty pandas dataframe for the sample\n",
    "df_sample = pd.DataFrame(columns = df_subset_pandas.columns)"
   ]
  },
  {
   "cell_type": "code",
   "execution_count": 20,
   "id": "beneficial-insider",
   "metadata": {},
   "outputs": [
    {
     "name": "stdout",
     "output_type": "stream",
     "text": [
      "before: 6898\n",
      "after: 3756\n",
      "before: 1229\n",
      "after: 1020\n",
      "before: 8927\n",
      "after: 3021\n",
      "before: 570\n",
      "after: 337\n",
      "before: 5618\n",
      "after: 1951\n",
      "before: 16839\n",
      "after: 4609\n",
      "before: 2047\n",
      "after: 801\n",
      "before: 98\n",
      "after: 81\n",
      "before: 654\n",
      "after: 405\n",
      "before: 3070\n",
      "after: 1530\n"
     ]
    }
   ],
   "source": [
    "#Loop through unique hs code list and sample 1000 from each hs code\n",
    "for h in unique_hs_code:\n",
    "    #print(h)\n",
    "    tempdf = df_subset_pandas[df_subset_pandas['HS Code']==h]\n",
    "    print(\"before:\", len(tempdf))\n",
    "    tempdf = tempdf.drop_duplicates('Product Desc')\n",
    "    print(\"after:\", len(tempdf))\n",
    "    sample_size = 1000\n",
    "    if(len(tempdf)<1000):\n",
    "        sample_size = len(tempdf)\n",
    "    ret_df = tempdf.sample(n=sample_size, random_state=99)\n",
    "    df_sample = pd.concat([df_sample, ret_df])"
   ]
  },
  {
   "cell_type": "code",
   "execution_count": 21,
   "id": "seeing-cache",
   "metadata": {},
   "outputs": [
    {
     "data": {
      "text/plain": [
       "HS Code\n",
       "871200    1000\n",
       "871410    1000\n",
       "871420    1000\n",
       "871491     337\n",
       "871492    1000\n",
       "871493    1000\n",
       "871494     801\n",
       "871495      81\n",
       "871496     405\n",
       "871499    1000\n",
       "Name: System Identity Id, dtype: int64"
      ]
     },
     "execution_count": 21,
     "metadata": {},
     "output_type": "execute_result"
    }
   ],
   "source": [
    "df_sample.groupby(by='HS Code').count()['System Identity Id']"
   ]
  },
  {
   "cell_type": "code",
   "execution_count": 22,
   "id": "honey-albany",
   "metadata": {},
   "outputs": [
    {
     "data": {
      "text/plain": [
       "7624"
      ]
     },
     "execution_count": 22,
     "metadata": {},
     "output_type": "execute_result"
    }
   ],
   "source": [
    "len(df_sample)"
   ]
  },
  {
   "cell_type": "code",
   "execution_count": 23,
   "id": "lined-enemy",
   "metadata": {},
   "outputs": [],
   "source": [
    "df_sample.to_parquet('/data/common/trade_data/2019_updated/data_samples/sample_87128714.parq')"
   ]
  },
  {
   "cell_type": "code",
   "execution_count": null,
   "id": "interim-beaver",
   "metadata": {},
   "outputs": [],
   "source": []
  }
 ],
 "metadata": {
  "kernelspec": {
   "display_name": "Python 3",
   "language": "python",
   "name": "python3"
  },
  "language_info": {
   "codemirror_mode": {
    "name": "ipython",
    "version": 3
   },
   "file_extension": ".py",
   "mimetype": "text/x-python",
   "name": "python",
   "nbconvert_exporter": "python",
   "pygments_lexer": "ipython3",
   "version": "3.8.5"
  }
 },
 "nbformat": 4,
 "nbformat_minor": 5
}
