{
 "cells": [
  {
   "cell_type": "code",
   "execution_count": 15,
   "id": "prompt-equilibrium",
   "metadata": {},
   "outputs": [],
   "source": [
    "import numpy as np\n",
    "import pandas as pd\n",
    "import dask.dataframe as dd\n",
    "import matplotlib.pyplot as plt\n",
    "import os\n",
    "import time"
   ]
  },
  {
   "cell_type": "code",
   "execution_count": 16,
   "id": "familiar-congress",
   "metadata": {},
   "outputs": [
    {
     "data": {
      "text/plain": [
       "['US_Imp_Dec_2019_ignore_multiple_hscode.parq',\n",
       " 'US_Imp_Aug_2019_ignore_multiple_hscode.parq',\n",
       " 'US_Imp_Feb_2019_ignore_multiple_hscode.parq',\n",
       " 'US_Imp_Mar_2019_ignore_multiple_hscode.parq',\n",
       " 'US_Imp_Jun_2019_ignore_multiple_hscode.parq',\n",
       " 'US_Imp_Oct_2019_ignore_multiple_hscode.parq',\n",
       " 'US_Imp_Nov_2019_ignore_multiple_hscode.parq',\n",
       " 'US_Imp_Jan_2019_ignore_multiple_hscode.parq',\n",
       " 'US_Imp_Apr_2019_ignore_multiple_hscode.parq',\n",
       " 'US_Imp_Jul_2019_ignore_multiple_hscode.parq',\n",
       " 'US_Imp_May_2019_ignore_multiple_hscode.parq',\n",
       " 'US_Imp_Sep_2019_ignore_multiple_hscode.parq']"
      ]
     },
     "execution_count": 16,
     "metadata": {},
     "output_type": "execute_result"
    }
   ],
   "source": [
    "basePath = '/data/common/trade_data/2019_updated/us_customs_2019_cleaned_ignore_multiple_hscode_FULLDESC/parquet_by_month/'\n",
    "os.listdir(basePath)"
   ]
  },
  {
   "cell_type": "markdown",
   "id": "practical-weather",
   "metadata": {},
   "source": [
    "### Load HS Code Chapters to Keep"
   ]
  },
  {
   "cell_type": "code",
   "execution_count": 17,
   "id": "apparent-concentration",
   "metadata": {},
   "outputs": [],
   "source": [
    "df_hscode_chap = pd.read_csv('hs_code_chap_to_keep.csv')"
   ]
  },
  {
   "cell_type": "code",
   "execution_count": 18,
   "id": "laden-summer",
   "metadata": {},
   "outputs": [],
   "source": [
    "hscode_tokeep = list(df_hscode_chap[df_hscode_chap['Keep?']=='Yes']['HS code'])"
   ]
  },
  {
   "cell_type": "markdown",
   "id": "alpine-flooring",
   "metadata": {},
   "source": [
    "### Load HS Codes"
   ]
  },
  {
   "cell_type": "code",
   "execution_count": 19,
   "id": "essential-extension",
   "metadata": {},
   "outputs": [
    {
     "data": {
      "text/html": [
       "<div>\n",
       "<style scoped>\n",
       "    .dataframe tbody tr th:only-of-type {\n",
       "        vertical-align: middle;\n",
       "    }\n",
       "\n",
       "    .dataframe tbody tr th {\n",
       "        vertical-align: top;\n",
       "    }\n",
       "\n",
       "    .dataframe thead th {\n",
       "        text-align: right;\n",
       "    }\n",
       "</style>\n",
       "<table border=\"1\" class=\"dataframe\">\n",
       "  <thead>\n",
       "    <tr style=\"text-align: right;\">\n",
       "      <th></th>\n",
       "      <th>HS_Code</th>\n",
       "      <th>Merged_Description</th>\n",
       "      <th>HS2</th>\n",
       "    </tr>\n",
       "  </thead>\n",
       "  <tbody>\n",
       "    <tr>\n",
       "      <th>0</th>\n",
       "      <td>010121</td>\n",
       "      <td>Live horses, asses, mules and hinnies ;Horses ...</td>\n",
       "      <td>1</td>\n",
       "    </tr>\n",
       "    <tr>\n",
       "      <th>1</th>\n",
       "      <td>010129</td>\n",
       "      <td>Live horses, asses, mules and hinnies ;Horses ...</td>\n",
       "      <td>1</td>\n",
       "    </tr>\n",
       "    <tr>\n",
       "      <th>2</th>\n",
       "      <td>010130</td>\n",
       "      <td>Live horses, asses, mules and hinnies ;Asses</td>\n",
       "      <td>1</td>\n",
       "    </tr>\n",
       "    <tr>\n",
       "      <th>3</th>\n",
       "      <td>010190</td>\n",
       "      <td>Live horses, asses, mules and hinnies ;Other ;...</td>\n",
       "      <td>1</td>\n",
       "    </tr>\n",
       "    <tr>\n",
       "      <th>4</th>\n",
       "      <td>010221</td>\n",
       "      <td>Live bovine animals ;Cattle ;Purebred breeding...</td>\n",
       "      <td>1</td>\n",
       "    </tr>\n",
       "    <tr>\n",
       "      <th>...</th>\n",
       "      <td>...</td>\n",
       "      <td>...</td>\n",
       "      <td>...</td>\n",
       "    </tr>\n",
       "    <tr>\n",
       "      <th>5516</th>\n",
       "      <td>991921</td>\n",
       "      <td>Goods of Panama, under the terms of general no...</td>\n",
       "      <td>99</td>\n",
       "    </tr>\n",
       "    <tr>\n",
       "      <th>5517</th>\n",
       "      <td>991961</td>\n",
       "      <td>Goods of Panama, under the terms of general no...</td>\n",
       "      <td>99</td>\n",
       "    </tr>\n",
       "    <tr>\n",
       "      <th>5518</th>\n",
       "      <td>992004</td>\n",
       "      <td>Goods of Korea, under the terms of general not...</td>\n",
       "      <td>99</td>\n",
       "    </tr>\n",
       "    <tr>\n",
       "      <th>5519</th>\n",
       "      <td>992038</td>\n",
       "      <td>Goods of Korea, under the terms of general not...</td>\n",
       "      <td>99</td>\n",
       "    </tr>\n",
       "    <tr>\n",
       "      <th>5520</th>\n",
       "      <td>992085</td>\n",
       "      <td>Goods of Korea, under the terms of general not...</td>\n",
       "      <td>99</td>\n",
       "    </tr>\n",
       "  </tbody>\n",
       "</table>\n",
       "<p>5521 rows × 3 columns</p>\n",
       "</div>"
      ],
      "text/plain": [
       "     HS_Code                                 Merged_Description  HS2\n",
       "0     010121  Live horses, asses, mules and hinnies ;Horses ...    1\n",
       "1     010129  Live horses, asses, mules and hinnies ;Horses ...    1\n",
       "2     010130       Live horses, asses, mules and hinnies ;Asses    1\n",
       "3     010190  Live horses, asses, mules and hinnies ;Other ;...    1\n",
       "4     010221  Live bovine animals ;Cattle ;Purebred breeding...    1\n",
       "...      ...                                                ...  ...\n",
       "5516  991921  Goods of Panama, under the terms of general no...   99\n",
       "5517  991961  Goods of Panama, under the terms of general no...   99\n",
       "5518  992004  Goods of Korea, under the terms of general not...   99\n",
       "5519  992038  Goods of Korea, under the terms of general not...   99\n",
       "5520  992085  Goods of Korea, under the terms of general not...   99\n",
       "\n",
       "[5521 rows x 3 columns]"
      ]
     },
     "execution_count": 19,
     "metadata": {},
     "output_type": "execute_result"
    }
   ],
   "source": [
    "#Load hs codes\n",
    "hs_code = pd.read_csv('/data/common/trade_data/HS/hs_code_2019_final.csv', dtype='str')\n",
    "hs_code['HS2'] = [int(x[0:2]) for x in hs_code['HS_Code']]\n",
    "hs_code"
   ]
  },
  {
   "cell_type": "markdown",
   "id": "tropical-carrier",
   "metadata": {},
   "source": [
    "### Iterate through hs codes chapter"
   ]
  },
  {
   "cell_type": "code",
   "execution_count": 20,
   "id": "classical-ocean",
   "metadata": {},
   "outputs": [],
   "source": [
    "def sample_by_chapter(chap):\n",
    "    #Get unique hs codes\n",
    "    unique_hs_code = hs_code[hs_code['HS2']==chap]['HS_Code'].unique()\n",
    "    \n",
    "    #Create empty df \n",
    "    df_subset = None\n",
    "    \n",
    "    #Iterate through all parquet files by month\n",
    "    for fn in os.listdir(basePath):\n",
    "        tempdf = pd.read_parquet(basePath + fn)\n",
    "        \n",
    "        #Filter out unique hs codes\n",
    "        tempdf = tempdf[tempdf['Cleaned_HS_Code'].isin(unique_hs_code)] \n",
    "        \n",
    "        #Append to empty df\n",
    "        if df_subset is None:\n",
    "            df_subset =  tempdf\n",
    "        else:\n",
    "            df_subset = pd.concat([df_subset, tempdf], axis=0)\n",
    "        \n",
    "    #Create sample df\n",
    "    df_sample = pd.DataFrame(columns = df_subset.columns)\n",
    "\n",
    "    #Iterate through unique hs codes\n",
    "    for h in unique_hs_code:\n",
    "        #Iterate through each hs code\n",
    "        tempdf = df_subset[df_subset['Cleaned_HS_Code']==h]\n",
    "        #Drop duplicate product descriptions\n",
    "        tempdf = tempdf.drop_duplicates('Product Desc')\n",
    "        #Set sample size\n",
    "        sample_size = 1000\n",
    "        if(len(tempdf)<1000):\n",
    "            sample_size = len(tempdf)\n",
    "        #sample  hs code\n",
    "        ret_df = tempdf.sample(n=sample_size, random_state=99)\n",
    "        #concat samples by hscode together\n",
    "        df_sample = pd.concat([df_sample, ret_df])\n",
    "    \n",
    "    print(\"Length of sample for chapter {} is {}\".format(chap, len(df_sample)))\n",
    "    df_sample.to_parquet('/data/common/trade_data/2019_updated/data_samples_ignore_multiple_hscode/sample_by_chapter/sample_chap_' + str(chap) + '.parq')"
   ]
  },
  {
   "cell_type": "code",
   "execution_count": 24,
   "id": "accurate-transport",
   "metadata": {},
   "outputs": [
    {
     "name": "stdout",
     "output_type": "stream",
     "text": [
      "Length of sample for chapter 10 is 7161\n",
      "Length of sample for chapter 11 is 12887\n",
      "Length of sample for chapter 12 is 13914\n",
      "Length of sample for chapter 13 is 3876\n",
      "Length of sample for chapter 14 is 2147\n",
      "Length of sample for chapter 15 is 15361\n",
      "Length of sample for chapter 16 is 13915\n",
      "Length of sample for chapter 17 is 11224\n",
      "Length of sample for chapter 18 is 9595\n",
      "Length of sample for chapter 19 is 14786\n",
      "Length of sample for chapter 20 is 32909\n",
      "Length of sample for chapter 21 is 12925\n",
      "Length of sample for chapter 22 is 20036\n",
      "Length of sample for chapter 28 is 41813\n",
      "Length of sample for chapter 29 is 104627\n",
      "Length of sample for chapter 30 is 9999\n",
      "Length of sample for chapter 31 is 5659\n",
      "Length of sample for chapter 32 is 24678\n",
      "Length of sample for chapter 33 is 20138\n",
      "Length of sample for chapter 34 is 14619\n",
      "Length of sample for chapter 35 is 9373\n",
      "Length of sample for chapter 36 is 2531\n",
      "Length of sample for chapter 37 is 6141\n",
      "Length of sample for chapter 38 is 32576\n"
     ]
    }
   ],
   "source": [
    "#for chap in hscode_tokeep[1:25]:\n",
    "#    sample_by_chapter(chap)"
   ]
  },
  {
   "cell_type": "code",
   "execution_count": null,
   "id": "supreme-mistake",
   "metadata": {},
   "outputs": [],
   "source": []
  },
  {
   "cell_type": "code",
   "execution_count": null,
   "id": "intermediate-jungle",
   "metadata": {},
   "outputs": [
    {
     "name": "stdout",
     "output_type": "stream",
     "text": [
      "Length of sample for chapter 39 is 86885\n",
      "Length of sample for chapter 40 is 47150\n",
      "Length of sample for chapter 47 is 6153\n",
      "Length of sample for chapter 48 is 63559\n"
     ]
    }
   ],
   "source": [
    "#for chap in hscode_tokeep[25:50]:\n",
    "#    sample_by_chapter(chap)"
   ]
  },
  {
   "cell_type": "code",
   "execution_count": 34,
   "id": "joined-accommodation",
   "metadata": {},
   "outputs": [
    {
     "name": "stdout",
     "output_type": "stream",
     "text": [
      "Length of sample for chapter 74 is 23301\n",
      "Length of sample for chapter 75 is 4690\n",
      "Length of sample for chapter 76 is 25770\n",
      "Length of sample for chapter 78 is 1890\n",
      "Length of sample for chapter 79 is 4530\n",
      "Length of sample for chapter 80 is 2628\n",
      "Length of sample for chapter 81 is 4508\n",
      "Length of sample for chapter 82 is 45087\n",
      "Length of sample for chapter 83 is 28301\n",
      "Length of sample for chapter 84 is 283078\n",
      "Length of sample for chapter 85 is 159238\n",
      "Length of sample for chapter 86 is 10516\n",
      "Length of sample for chapter 87 is 54530\n",
      "Length of sample for chapter 88 is 6285\n",
      "Length of sample for chapter 89 is 8052\n",
      "Length of sample for chapter 90 is 61342\n",
      "Length of sample for chapter 91 is 16889\n",
      "Length of sample for chapter 92 is 9446\n",
      "Length of sample for chapter 93 is 7230\n",
      "Length of sample for chapter 94 is 35393\n",
      "Length of sample for chapter 95 is 25180\n",
      "Length of sample for chapter 96 is 37732\n"
     ]
    }
   ],
   "source": [
    "for chap in hscode_tokeep[50:]:\n",
    "    sample_by_chapter(chap)"
   ]
  },
  {
   "cell_type": "code",
   "execution_count": null,
   "id": "valid-vocabulary",
   "metadata": {},
   "outputs": [],
   "source": []
  }
 ],
 "metadata": {
  "kernelspec": {
   "display_name": "Python 3",
   "language": "python",
   "name": "python3"
  },
  "language_info": {
   "codemirror_mode": {
    "name": "ipython",
    "version": 3
   },
   "file_extension": ".py",
   "mimetype": "text/x-python",
   "name": "python",
   "nbconvert_exporter": "python",
   "pygments_lexer": "ipython3",
   "version": "3.8.5"
  }
 },
 "nbformat": 4,
 "nbformat_minor": 5
}
