{
 "cells": [
  {
   "cell_type": "code",
   "execution_count": 2,
   "id": "frequent-advancement",
   "metadata": {},
   "outputs": [],
   "source": [
    "#%pip install \"dask[complete]\""
   ]
  },
  {
   "cell_type": "code",
   "execution_count": 10,
   "id": "supported-chart",
   "metadata": {},
   "outputs": [],
   "source": [
    "import numpy as np\n",
    "import pandas as pd\n",
    "import dask.dataframe as dd\n",
    "import matplotlib.pyplot as plt\n",
    "import os\n",
    "import time"
   ]
  },
  {
   "cell_type": "markdown",
   "id": "assigned-salon",
   "metadata": {},
   "source": [
    "### Load Official HS Code Dictionary "
   ]
  },
  {
   "cell_type": "code",
   "execution_count": 11,
   "id": "molecular-clark",
   "metadata": {},
   "outputs": [
    {
     "name": "stdout",
     "output_type": "stream",
     "text": [
      "  HS_Code                                 Merged_Description\n",
      "0  010121  Live horses, asses, mules and hinnies ;Horses ...\n",
      "1  010129  Live horses, asses, mules and hinnies ;Horses ...\n",
      "2  010130       Live horses, asses, mules and hinnies ;Asses\n",
      "3  010190  Live horses, asses, mules and hinnies ;Other ;...\n",
      "4  010221  Live bovine animals ;Cattle ;Purebred breeding...\n"
     ]
    }
   ],
   "source": [
    "#load hscode dictionary - 6 digit rolled up\n",
    "hs_code = pd.read_csv('/data/common/trade_data/HS/hs_code_2019_final.csv', dtype='str')\n",
    "print(hs_code.head())"
   ]
  },
  {
   "cell_type": "code",
   "execution_count": 12,
   "id": "precious-drill",
   "metadata": {},
   "outputs": [],
   "source": [
    "def cleanup_hs_code(hscode):\n",
    "    tempvar = str.replace(hscode, ' ', '')\n",
    "    if len(tempvar.split(',')) > 1:\n",
    "        return None\n",
    "    else: return tempvar"
   ]
  },
  {
   "cell_type": "code",
   "execution_count": 13,
   "id": "theoretical-lawyer",
   "metadata": {},
   "outputs": [],
   "source": [
    "basePath = '/data/common/trade_data/2019_updated/us_customs_2019_raw_data_FULLDESC/'"
   ]
  },
  {
   "cell_type": "code",
   "execution_count": 14,
   "id": "sporting-thomson",
   "metadata": {},
   "outputs": [
    {
     "data": {
      "text/plain": [
       "['US_Imp_Jun_2019_FULL.parq',\n",
       " 'US_Imp_Jul_2019_FULL.parq',\n",
       " 'US_Imp_Mar_2019_FULL.parq',\n",
       " 'US_Imp_Nov_2019_FULL.parq',\n",
       " 'US_Imp_Sep_2019_FULL.parq',\n",
       " 'US_Imp_May_2019_FULL.parq',\n",
       " 'US_Imp_Feb_2019_FULL.parq',\n",
       " 'US_Imp_Jan_2019_FULL.parq',\n",
       " 'US_Imp_Apr_2019_FULL.parq',\n",
       " 'US_Imp_Dec_2019_FULL.parq',\n",
       " 'US_Imp_Aug_2019_FULL.parq',\n",
       " 'US_Imp_Oct_2019_FULL.parq']"
      ]
     },
     "execution_count": 14,
     "metadata": {},
     "output_type": "execute_result"
    }
   ],
   "source": [
    "os.listdir(basePath)"
   ]
  },
  {
   "cell_type": "code",
   "execution_count": 15,
   "id": "micro-bullet",
   "metadata": {},
   "outputs": [
    {
     "name": "stdout",
     "output_type": "stream",
     "text": [
      "US_Imp_Jun_2019_FULL.parq\n",
      "Number of not null hscodes: {} 910817\n",
      "Number of null hscodes: {} 119292\n",
      "US_Imp_Jul_2019_FULL.parq\n",
      "Number of not null hscodes: {} 1007159\n",
      "Number of null hscodes: {} 136424\n",
      "US_Imp_Mar_2019_FULL.parq\n",
      "Number of not null hscodes: {} 825713\n",
      "Number of null hscodes: {} 104688\n",
      "US_Imp_Nov_2019_FULL.parq\n",
      "Number of not null hscodes: {} 866595\n",
      "Number of null hscodes: {} 114788\n",
      "US_Imp_Sep_2019_FULL.parq\n",
      "Number of not null hscodes: {} 928058\n",
      "Number of null hscodes: {} 127402\n",
      "US_Imp_May_2019_FULL.parq\n",
      "Number of not null hscodes: {} 974555\n",
      "Number of null hscodes: {} 126773\n",
      "US_Imp_Feb_2019_FULL.parq\n",
      "Number of not null hscodes: {} 829688\n",
      "Number of null hscodes: {} 111396\n",
      "US_Imp_Jan_2019_FULL.parq\n",
      "Number of not null hscodes: {} 956816\n",
      "Number of null hscodes: {} 129173\n",
      "US_Imp_Apr_2019_FULL.parq\n",
      "Number of not null hscodes: {} 901688\n",
      "Number of null hscodes: {} 115480\n",
      "US_Imp_Dec_2019_FULL.parq\n",
      "Number of not null hscodes: {} 872252\n",
      "Number of null hscodes: {} 113411\n",
      "US_Imp_Aug_2019_FULL.parq\n",
      "Number of not null hscodes: {} 981253\n",
      "Number of null hscodes: {} 134090\n",
      "US_Imp_Oct_2019_FULL.parq\n",
      "Number of not null hscodes: {} 937518\n",
      "Number of null hscodes: {} 126329\n"
     ]
    }
   ],
   "source": [
    "for filename in (os.listdir(basePath)):\n",
    "    print(filename)\n",
    "    newfn = filename.split('_FULL')[0]\n",
    "    #Load data\n",
    "    import_df = pd.read_parquet(basePath + filename)#, engine='fastparquet')\n",
    "    \n",
    "    #Cleanup whitespace around hs code - set to null if multiple in column\n",
    "    import_df['Cleaned_HS_Code'] = [x if x is None else cleanup_hs_code(x) for x in import_df['HS Code']]\n",
    "    \n",
    "    #Join to official HS Code List\n",
    "    tempdf = import_df.merge(hs_code, how='left', left_on='Cleaned_HS_Code', right_on='HS_Code')\n",
    "    print(\"Number of not null hscodes: {}\", len(tempdf) - len(tempdf[tempdf['HS_Code'].isna()]))\n",
    "    print(\"Number of null hscodes: {}\", len(tempdf[tempdf['HS_Code'].isna()]))\n",
    "    \n",
    "    tempdf = tempdf.dropna(subset=['HS_Code'])\n",
    "    tempdf.to_parquet('/data/common/trade_data/2019_updated/us_customs_2019_cleaned_ignore_multiple_hscode_FULLDESC/parquet_by_month/' + \n",
    "                                                 newfn + '_ignore_multiple_hscode.parq')"
   ]
  },
  {
   "cell_type": "code",
   "execution_count": null,
   "id": "civilian-crest",
   "metadata": {},
   "outputs": [],
   "source": []
  }
 ],
 "metadata": {
  "kernelspec": {
   "display_name": "Python 3",
   "language": "python",
   "name": "python3"
  },
  "language_info": {
   "codemirror_mode": {
    "name": "ipython",
    "version": 3
   },
   "file_extension": ".py",
   "mimetype": "text/x-python",
   "name": "python",
   "nbconvert_exporter": "python",
   "pygments_lexer": "ipython3",
   "version": "3.8.5"
  }
 },
 "nbformat": 4,
 "nbformat_minor": 5
}
