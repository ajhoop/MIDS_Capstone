{
 "cells": [
  {
   "cell_type": "code",
   "execution_count": 136,
   "id": "willing-novelty",
   "metadata": {},
   "outputs": [],
   "source": [
    "import pandas as pd\n",
    "import numpy as np\n",
    "import re\n",
    "import dask.dataframe as ddf\n",
    "from math import nan\n",
    "import panel as pn\n",
    "import dask\n",
    "import dask.dataframe as dd\n",
    "\n",
    "from dask.diagnostics import ProgressBar\n",
    "ProgressBar().register()\n",
    "\n",
    "import geopandas as gpd\n",
    "\n",
    "import matplotlib.pyplot as plt\n",
    "import plotly.graph_objects as go\n",
    "import seaborn as sns"
   ]
  },
  {
   "cell_type": "code",
   "execution_count": 137,
   "id": "passive-better",
   "metadata": {},
   "outputs": [],
   "source": [
    "df_2020 = pd.read_parquet('/data/common/trade_data/import_data_2019_enhanced.parq')"
   ]
  },
  {
   "cell_type": "code",
   "execution_count": 138,
   "id": "removable-nothing",
   "metadata": {},
   "outputs": [
    {
     "data": {
      "text/plain": [
       "Index(['BookingNumber', 'BOLNumber', 'Shipper', 'ShipperAddress', 'Consignee',\n",
       "       'ConsigneeAddress', 'TwentyFeetContainerCount',\n",
       "       'FortyFeetContainerCount', 'TrunkVVD', 'CarrierVesselName',\n",
       "       'PlaceOfReceipt', 'PortOfLoading', 'PortOfDischarge',\n",
       "       'FinalDeliveryPort', 'CargoWeightKgs', 'CargoVolumeCubicMeters',\n",
       "       'NumberOfPackages', 'PackingUnit', 'CommodityRepCode', 'CommodityCode',\n",
       "       'CommodityDescription', 'CustomsDescription', 'FreightTerm',\n",
       "       'FreightForwarderName', 'NotifyPartyName', 'NotifyPartyAddress',\n",
       "       'AlsoNotifyOtherName', 'ExportName', 'TrunkPOL', 'TrunkPOD',\n",
       "       'BookingPartyPhoneNumber', 'BookingPartyEmail',\n",
       "       'ShippingInstructorPhoneNumber', 'ShippingInstructorEmail',\n",
       "       'SailingDateOfVessel', 'ShipmentRevenueWeek', 'ActivityTEU',\n",
       "       'ActivityFEU', 'EmptyContainersPickUpLocation',\n",
       "       'PlaceOfReceipt_Country', 'PlaceOfReceipt_Latitude',\n",
       "       'PlaceOfReceipt_Longitude', 'PortOfLoading_Country',\n",
       "       'PortOfLoading_Latitude', 'PortOfLoading_Longitude',\n",
       "       'PortOfDischarge_Country', 'PortOfDischarge_Latitude',\n",
       "       'PortOfDischarge_Longitude', 'FinalDeliveryPort_Country',\n",
       "       'FinalDeliveryPort_Latitude', 'FinalDeliveryPort_Longitude',\n",
       "       'SailingDate', 'SailingDateYear', 'SailingDateMonth'],\n",
       "      dtype='object')"
      ]
     },
     "execution_count": 138,
     "metadata": {},
     "output_type": "execute_result"
    }
   ],
   "source": [
    "df_2020.columns"
   ]
  },
  {
   "cell_type": "code",
   "execution_count": 139,
   "id": "three-vermont",
   "metadata": {},
   "outputs": [],
   "source": [
    "df_2020['CMDT'] = df_2020['CommodityCode'].astype(str, errors='ignore')"
   ]
  },
  {
   "cell_type": "code",
   "execution_count": 140,
   "id": "historical-vegetarian",
   "metadata": {},
   "outputs": [],
   "source": [
    "df_2020['CMDT'] = df_2020['CMDT'].str.rstrip('.0')"
   ]
  },
  {
   "cell_type": "code",
   "execution_count": 141,
   "id": "parliamentary-angola",
   "metadata": {},
   "outputs": [
    {
     "data": {
      "text/plain": [
       "''"
      ]
     },
     "execution_count": 141,
     "metadata": {},
     "output_type": "execute_result"
    }
   ],
   "source": [
    "df_2020['CMDT'].min()"
   ]
  },
  {
   "cell_type": "code",
   "execution_count": null,
   "id": "british-exclusive",
   "metadata": {},
   "outputs": [],
   "source": []
  },
  {
   "cell_type": "code",
   "execution_count": 142,
   "id": "substantial-courage",
   "metadata": {},
   "outputs": [
    {
     "data": {
      "text/plain": [
       "'\\nBOLNumber\\nPortOfLoading_Country\\nPortOfLoading_Latitude\\nPortOfLoading_Longitude\\nFinalDeliveryPort_Country\\nFinalDeliveryPort_Latitude\\nFinalDeliveryPort_Longitude\\n'"
      ]
     },
     "execution_count": 142,
     "metadata": {},
     "output_type": "execute_result"
    }
   ],
   "source": [
    "\"\"\"\n",
    "BOLNumber\n",
    "PortOfLoading_Country\n",
    "PortOfLoading_Latitude\n",
    "PortOfLoading_Longitude\n",
    "FinalDeliveryPort_Country\n",
    "FinalDeliveryPort_Latitude\n",
    "FinalDeliveryPort_Longitude\n",
    "\"\"\""
   ]
  },
  {
   "cell_type": "code",
   "execution_count": 143,
   "id": "outdoor-juvenile",
   "metadata": {},
   "outputs": [
    {
     "name": "stdout",
     "output_type": "stream",
     "text": [
      "690232\n",
      "684514\n"
     ]
    }
   ],
   "source": [
    "overseas_df = df_2020[(df_2020[\"PortOfLoading_Country\"] != df_2020[\"FinalDeliveryPort_Country\"])]\n",
    "print(len(overseas_df))\n",
    "\n",
    "overseas_df = overseas_df[overseas_df[\"PortOfLoading\"].str.slice(0, 2)!='US']\n",
    "print(len(overseas_df))"
   ]
  },
  {
   "cell_type": "code",
   "execution_count": 144,
   "id": "neural-gardening",
   "metadata": {},
   "outputs": [],
   "source": [
    "overseas_cnt_df = overseas_df.groupby([\"CMDT\",'CommodityDescription']).count()[[\"BOLNumber\"]].reset_index()"
   ]
  },
  {
   "cell_type": "code",
   "execution_count": 145,
   "id": "congressional-accommodation",
   "metadata": {},
   "outputs": [],
   "source": [
    "overseas_cnt_df.sort_values(by = 'BOLNumber', ascending=False).to_csv('cmdt_2019.csv')"
   ]
  },
  {
   "cell_type": "code",
   "execution_count": 146,
   "id": "disturbed-ordering",
   "metadata": {},
   "outputs": [],
   "source": [
    "cmdt_cnt_country = overseas_df.groupby([\"CMDT\",'CommodityDescription', 'PortOfLoading_Country']).count()[[\"BOLNumber\"]].reset_index()"
   ]
  },
  {
   "cell_type": "code",
   "execution_count": 147,
   "id": "sitting-individual",
   "metadata": {},
   "outputs": [],
   "source": [
    "cmdt_cnt_country[cmdt_cnt_country['PortOfLoading_Country']=='China'].sort_values(by = 'BOLNumber', ascending=False).to_csv('china_cmdt_2019.csv')"
   ]
  },
  {
   "cell_type": "code",
   "execution_count": null,
   "id": "sweet-reach",
   "metadata": {},
   "outputs": [],
   "source": []
  },
  {
   "cell_type": "code",
   "execution_count": null,
   "id": "premier-manhattan",
   "metadata": {},
   "outputs": [],
   "source": []
  }
 ],
 "metadata": {
  "kernelspec": {
   "display_name": "Python 3",
   "language": "python",
   "name": "python3"
  },
  "language_info": {
   "codemirror_mode": {
    "name": "ipython",
    "version": 3
   },
   "file_extension": ".py",
   "mimetype": "text/x-python",
   "name": "python",
   "nbconvert_exporter": "python",
   "pygments_lexer": "ipython3",
   "version": "3.8.5"
  }
 },
 "nbformat": 4,
 "nbformat_minor": 5
}
