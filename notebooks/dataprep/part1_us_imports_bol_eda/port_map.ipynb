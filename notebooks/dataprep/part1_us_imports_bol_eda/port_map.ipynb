{
 "cells": [
  {
   "cell_type": "code",
   "execution_count": 111,
   "id": "governmental-doctor",
   "metadata": {},
   "outputs": [],
   "source": [
    "import pandas as pd\n",
    "import numpy as np\n",
    "import re\n",
    "import dask.dataframe as ddf\n",
    "from math import nan\n",
    "import panel as pn\n",
    "import dask\n",
    "import dask.dataframe as dd\n",
    "\n",
    "from dask.diagnostics import ProgressBar\n",
    "ProgressBar().register()\n",
    "\n",
    "import geopandas as gpd\n",
    "\n",
    "import matplotlib.pyplot as plt\n",
    "import plotly.graph_objects as go\n",
    "import seaborn as sns"
   ]
  },
  {
   "cell_type": "code",
   "execution_count": 112,
   "id": "living-generator",
   "metadata": {},
   "outputs": [],
   "source": [
    "df_2020 = pd.read_parquet('/data/common/trade_data/import_data_2018_enhanced.parq')"
   ]
  },
  {
   "cell_type": "code",
   "execution_count": 113,
   "id": "parliamentary-auditor",
   "metadata": {},
   "outputs": [
    {
     "data": {
      "text/plain": [
       "Index(['BookingNumber', 'BOLNumber', 'Shipper', 'ShipperAddress', 'Consignee',\n",
       "       'ConsigneeAddress', 'TwentyFeetContainerCount',\n",
       "       'FortyFeetContainerCount', 'TrunkVVD', 'CarrierVesselName',\n",
       "       'PlaceOfReceipt', 'PortOfLoading', 'PortOfDischarge',\n",
       "       'FinalDeliveryPort', 'CargoWeightKgs', 'CargoVolumeCubicMeters',\n",
       "       'NumberOfPackages', 'PackingUnit', 'CommodityRepCode', 'CommodityCode',\n",
       "       'CommodityDescription', 'CustomsDescription', 'FreightTerm',\n",
       "       'FreightForwarderName', 'NotifyPartyName', 'NotifyPartyAddress',\n",
       "       'AlsoNotifyOtherName', 'ExportName', 'TrunkPOL', 'TrunkPOD',\n",
       "       'BookingPartyPhoneNumber', 'BookingPartyEmail',\n",
       "       'ShippingInstructorPhoneNumber', 'ShippingInstructorEmail',\n",
       "       'SailingDateOfVessel', 'ShipmentRevenueWeek', 'ActivityTEU',\n",
       "       'ActivityFEU', 'EmptyContainersPickUpLocation',\n",
       "       'PlaceOfReceipt_Country', 'PlaceOfReceipt_Latitude',\n",
       "       'PlaceOfReceipt_Longitude', 'PortOfLoading_Country',\n",
       "       'PortOfLoading_Latitude', 'PortOfLoading_Longitude',\n",
       "       'PortOfDischarge_Country', 'PortOfDischarge_Latitude',\n",
       "       'PortOfDischarge_Longitude', 'FinalDeliveryPort_Country',\n",
       "       'FinalDeliveryPort_Latitude', 'FinalDeliveryPort_Longitude',\n",
       "       'SailingDate', 'SailingDateYear', 'SailingDateMonth'],\n",
       "      dtype='object')"
      ]
     },
     "execution_count": 113,
     "metadata": {},
     "output_type": "execute_result"
    }
   ],
   "source": [
    "df_2020.columns"
   ]
  },
  {
   "cell_type": "code",
   "execution_count": 114,
   "id": "absent-enterprise",
   "metadata": {},
   "outputs": [
    {
     "data": {
      "text/plain": [
       "'\\nBOLNumber\\nPortOfLoading_Country\\nPortOfLoading_Latitude\\nPortOfLoading_Longitude\\nFinalDeliveryPort_Country\\nFinalDeliveryPort_Latitude\\nFinalDeliveryPort_Longitude\\n'"
      ]
     },
     "execution_count": 114,
     "metadata": {},
     "output_type": "execute_result"
    }
   ],
   "source": [
    "\"\"\"\n",
    "BOLNumber\n",
    "PortOfLoading_Country\n",
    "PortOfLoading_Latitude\n",
    "PortOfLoading_Longitude\n",
    "FinalDeliveryPort_Country\n",
    "FinalDeliveryPort_Latitude\n",
    "FinalDeliveryPort_Longitude\n",
    "\"\"\""
   ]
  },
  {
   "cell_type": "code",
   "execution_count": 115,
   "id": "reliable-adobe",
   "metadata": {},
   "outputs": [
    {
     "name": "stdout",
     "output_type": "stream",
     "text": [
      "400495\n",
      "397221\n"
     ]
    }
   ],
   "source": [
    "overseas_df = df_2020[(df_2020[\"PortOfLoading_Country\"] != df_2020[\"FinalDeliveryPort_Country\"])]\n",
    "print(len(overseas_df))\n",
    "\n",
    "overseas_df = overseas_df[overseas_df[\"PortOfLoading\"].str.slice(0, 2)!='US']\n",
    "print(len(overseas_df))"
   ]
  },
  {
   "cell_type": "code",
   "execution_count": 116,
   "id": "federal-timeline",
   "metadata": {},
   "outputs": [],
   "source": [
    "overseas_cnt_df = overseas_df.groupby([\"FinalDeliveryPort_Country\", \"FinalDeliveryPort_Longitude\",\"FinalDeliveryPort_Latitude\",\"PortOfLoading_Country\", \"PortOfLoading_Longitude\",\"PortOfLoading_Latitude\", \"PortOfLoading\", \"FinalDeliveryPort\"]).count()[[\"BOLNumber\"]].rename(columns={\"BOLNumber\":\"Num_Shipments\"}).reset_index()"
   ]
  },
  {
   "cell_type": "code",
   "execution_count": 117,
   "id": "domestic-archives",
   "metadata": {},
   "outputs": [],
   "source": [
    "overseas_cnt_df['Bin'] = np.where(overseas_cnt_df['Num_Shipments'] < 501 , '0-500', '')\n",
    "overseas_cnt_df['Bin'] = np.where(overseas_cnt_df['Num_Shipments'] > 500 , '501-1000', overseas_cnt_df['Bin'])\n",
    "overseas_cnt_df['Bin'] = np.where(overseas_cnt_df['Num_Shipments'] > 1000 , '1000+', overseas_cnt_df['Bin'])"
   ]
  },
  {
   "cell_type": "code",
   "execution_count": 118,
   "id": "capital-signature",
   "metadata": {},
   "outputs": [
    {
     "data": {
      "text/plain": [
       "7086"
      ]
     },
     "execution_count": 118,
     "metadata": {},
     "output_type": "execute_result"
    }
   ],
   "source": [
    "len(overseas_cnt_df)"
   ]
  },
  {
   "cell_type": "code",
   "execution_count": 119,
   "id": "ideal-granny",
   "metadata": {},
   "outputs": [
    {
     "data": {
      "text/html": [
       "<div>\n",
       "<style scoped>\n",
       "    .dataframe tbody tr th:only-of-type {\n",
       "        vertical-align: middle;\n",
       "    }\n",
       "\n",
       "    .dataframe tbody tr th {\n",
       "        vertical-align: top;\n",
       "    }\n",
       "\n",
       "    .dataframe thead th {\n",
       "        text-align: right;\n",
       "    }\n",
       "</style>\n",
       "<table border=\"1\" class=\"dataframe\">\n",
       "  <thead>\n",
       "    <tr style=\"text-align: right;\">\n",
       "      <th></th>\n",
       "      <th>FinalDeliveryPort_Longitude</th>\n",
       "      <th>FinalDeliveryPort_Latitude</th>\n",
       "      <th>PortOfLoading_Longitude</th>\n",
       "      <th>PortOfLoading_Latitude</th>\n",
       "      <th>Num_Shipments</th>\n",
       "    </tr>\n",
       "  </thead>\n",
       "  <tbody>\n",
       "    <tr>\n",
       "      <th>count</th>\n",
       "      <td>7086.000000</td>\n",
       "      <td>7086.000000</td>\n",
       "      <td>7086.000000</td>\n",
       "      <td>7086.000000</td>\n",
       "      <td>7086.000000</td>\n",
       "    </tr>\n",
       "    <tr>\n",
       "      <th>mean</th>\n",
       "      <td>-94.495143</td>\n",
       "      <td>38.104504</td>\n",
       "      <td>100.624141</td>\n",
       "      <td>25.511025</td>\n",
       "      <td>53.799605</td>\n",
       "    </tr>\n",
       "    <tr>\n",
       "      <th>std</th>\n",
       "      <td>17.632006</td>\n",
       "      <td>5.438263</td>\n",
       "      <td>45.524809</td>\n",
       "      <td>12.934032</td>\n",
       "      <td>403.292687</td>\n",
       "    </tr>\n",
       "    <tr>\n",
       "      <th>min</th>\n",
       "      <td>-167.949241</td>\n",
       "      <td>18.335601</td>\n",
       "      <td>-130.325490</td>\n",
       "      <td>-37.814218</td>\n",
       "      <td>1.000000</td>\n",
       "    </tr>\n",
       "    <tr>\n",
       "      <th>25%</th>\n",
       "      <td>-109.832860</td>\n",
       "      <td>33.956215</td>\n",
       "      <td>103.819499</td>\n",
       "      <td>20.858864</td>\n",
       "      <td>2.000000</td>\n",
       "    </tr>\n",
       "    <tr>\n",
       "      <th>50%</th>\n",
       "      <td>-89.244299</td>\n",
       "      <td>38.624495</td>\n",
       "      <td>114.266188</td>\n",
       "      <td>29.862219</td>\n",
       "      <td>5.000000</td>\n",
       "    </tr>\n",
       "    <tr>\n",
       "      <th>75%</th>\n",
       "      <td>-81.529758</td>\n",
       "      <td>41.343519</td>\n",
       "      <td>121.469207</td>\n",
       "      <td>34.940526</td>\n",
       "      <td>17.000000</td>\n",
       "    </tr>\n",
       "    <tr>\n",
       "      <th>max</th>\n",
       "      <td>120.378137</td>\n",
       "      <td>70.245011</td>\n",
       "      <td>153.023499</td>\n",
       "      <td>55.774622</td>\n",
       "      <td>20045.000000</td>\n",
       "    </tr>\n",
       "  </tbody>\n",
       "</table>\n",
       "</div>"
      ],
      "text/plain": [
       "       FinalDeliveryPort_Longitude  FinalDeliveryPort_Latitude  \\\n",
       "count                  7086.000000                 7086.000000   \n",
       "mean                    -94.495143                   38.104504   \n",
       "std                      17.632006                    5.438263   \n",
       "min                    -167.949241                   18.335601   \n",
       "25%                    -109.832860                   33.956215   \n",
       "50%                     -89.244299                   38.624495   \n",
       "75%                     -81.529758                   41.343519   \n",
       "max                     120.378137                   70.245011   \n",
       "\n",
       "       PortOfLoading_Longitude  PortOfLoading_Latitude  Num_Shipments  \n",
       "count              7086.000000             7086.000000    7086.000000  \n",
       "mean                100.624141               25.511025      53.799605  \n",
       "std                  45.524809               12.934032     403.292687  \n",
       "min                -130.325490              -37.814218       1.000000  \n",
       "25%                 103.819499               20.858864       2.000000  \n",
       "50%                 114.266188               29.862219       5.000000  \n",
       "75%                 121.469207               34.940526      17.000000  \n",
       "max                 153.023499               55.774622   20045.000000  "
      ]
     },
     "execution_count": 119,
     "metadata": {},
     "output_type": "execute_result"
    }
   ],
   "source": [
    "overseas_cnt_df.describe()"
   ]
  },
  {
   "cell_type": "code",
   "execution_count": 120,
   "id": "breeding-triangle",
   "metadata": {},
   "outputs": [
    {
     "data": {
      "text/html": [
       "<div>\n",
       "<style scoped>\n",
       "    .dataframe tbody tr th:only-of-type {\n",
       "        vertical-align: middle;\n",
       "    }\n",
       "\n",
       "    .dataframe tbody tr th {\n",
       "        vertical-align: top;\n",
       "    }\n",
       "\n",
       "    .dataframe thead th {\n",
       "        text-align: right;\n",
       "    }\n",
       "</style>\n",
       "<table border=\"1\" class=\"dataframe\">\n",
       "  <thead>\n",
       "    <tr style=\"text-align: right;\">\n",
       "      <th></th>\n",
       "      <th>FinalDeliveryPort_Country</th>\n",
       "      <th>FinalDeliveryPort_Longitude</th>\n",
       "      <th>FinalDeliveryPort_Latitude</th>\n",
       "      <th>PortOfLoading_Country</th>\n",
       "      <th>PortOfLoading_Longitude</th>\n",
       "      <th>PortOfLoading_Latitude</th>\n",
       "      <th>PortOfLoading</th>\n",
       "      <th>FinalDeliveryPort</th>\n",
       "      <th>Num_Shipments</th>\n",
       "    </tr>\n",
       "    <tr>\n",
       "      <th>Bin</th>\n",
       "      <th></th>\n",
       "      <th></th>\n",
       "      <th></th>\n",
       "      <th></th>\n",
       "      <th></th>\n",
       "      <th></th>\n",
       "      <th></th>\n",
       "      <th></th>\n",
       "      <th></th>\n",
       "    </tr>\n",
       "  </thead>\n",
       "  <tbody>\n",
       "    <tr>\n",
       "      <th>0-500</th>\n",
       "      <td>6961</td>\n",
       "      <td>6961</td>\n",
       "      <td>6961</td>\n",
       "      <td>6961</td>\n",
       "      <td>6961</td>\n",
       "      <td>6961</td>\n",
       "      <td>6961</td>\n",
       "      <td>6961</td>\n",
       "      <td>6961</td>\n",
       "    </tr>\n",
       "    <tr>\n",
       "      <th>1000+</th>\n",
       "      <td>60</td>\n",
       "      <td>60</td>\n",
       "      <td>60</td>\n",
       "      <td>60</td>\n",
       "      <td>60</td>\n",
       "      <td>60</td>\n",
       "      <td>60</td>\n",
       "      <td>60</td>\n",
       "      <td>60</td>\n",
       "    </tr>\n",
       "    <tr>\n",
       "      <th>501-1000</th>\n",
       "      <td>65</td>\n",
       "      <td>65</td>\n",
       "      <td>65</td>\n",
       "      <td>65</td>\n",
       "      <td>65</td>\n",
       "      <td>65</td>\n",
       "      <td>65</td>\n",
       "      <td>65</td>\n",
       "      <td>65</td>\n",
       "    </tr>\n",
       "  </tbody>\n",
       "</table>\n",
       "</div>"
      ],
      "text/plain": [
       "          FinalDeliveryPort_Country  FinalDeliveryPort_Longitude  \\\n",
       "Bin                                                                \n",
       "0-500                          6961                         6961   \n",
       "1000+                            60                           60   \n",
       "501-1000                         65                           65   \n",
       "\n",
       "          FinalDeliveryPort_Latitude  PortOfLoading_Country  \\\n",
       "Bin                                                           \n",
       "0-500                           6961                   6961   \n",
       "1000+                             60                     60   \n",
       "501-1000                          65                     65   \n",
       "\n",
       "          PortOfLoading_Longitude  PortOfLoading_Latitude  PortOfLoading  \\\n",
       "Bin                                                                        \n",
       "0-500                        6961                    6961           6961   \n",
       "1000+                          60                      60             60   \n",
       "501-1000                       65                      65             65   \n",
       "\n",
       "          FinalDeliveryPort  Num_Shipments  \n",
       "Bin                                         \n",
       "0-500                  6961           6961  \n",
       "1000+                    60             60  \n",
       "501-1000                 65             65  "
      ]
     },
     "execution_count": 120,
     "metadata": {},
     "output_type": "execute_result"
    }
   ],
   "source": [
    "overseas_cnt_df.groupby(['Bin']).count()"
   ]
  },
  {
   "cell_type": "code",
   "execution_count": 121,
   "id": "personal-effort",
   "metadata": {},
   "outputs": [
    {
     "data": {
      "text/html": [
       "<div>\n",
       "<style scoped>\n",
       "    .dataframe tbody tr th:only-of-type {\n",
       "        vertical-align: middle;\n",
       "    }\n",
       "\n",
       "    .dataframe tbody tr th {\n",
       "        vertical-align: top;\n",
       "    }\n",
       "\n",
       "    .dataframe thead th {\n",
       "        text-align: right;\n",
       "    }\n",
       "</style>\n",
       "<table border=\"1\" class=\"dataframe\">\n",
       "  <thead>\n",
       "    <tr style=\"text-align: right;\">\n",
       "      <th></th>\n",
       "      <th>FinalDeliveryPort_Country</th>\n",
       "      <th>FinalDeliveryPort_Longitude</th>\n",
       "      <th>FinalDeliveryPort_Latitude</th>\n",
       "      <th>PortOfLoading_Country</th>\n",
       "      <th>PortOfLoading_Longitude</th>\n",
       "      <th>PortOfLoading_Latitude</th>\n",
       "      <th>PortOfLoading</th>\n",
       "      <th>FinalDeliveryPort</th>\n",
       "      <th>Num_Shipments</th>\n",
       "      <th>Bin</th>\n",
       "    </tr>\n",
       "  </thead>\n",
       "  <tbody>\n",
       "    <tr>\n",
       "      <th>1110</th>\n",
       "      <td>USA</td>\n",
       "      <td>-118.191604</td>\n",
       "      <td>33.769016</td>\n",
       "      <td>China</td>\n",
       "      <td>121.469207</td>\n",
       "      <td>31.232276</td>\n",
       "      <td>CNSHA</td>\n",
       "      <td>USLGB</td>\n",
       "      <td>20045</td>\n",
       "      <td>1000+</td>\n",
       "    </tr>\n",
       "    <tr>\n",
       "      <th>1091</th>\n",
       "      <td>USA</td>\n",
       "      <td>-118.191604</td>\n",
       "      <td>33.769016</td>\n",
       "      <td>China</td>\n",
       "      <td>114.232441</td>\n",
       "      <td>22.559050</td>\n",
       "      <td>CNYIT</td>\n",
       "      <td>USLGB</td>\n",
       "      <td>12590</td>\n",
       "      <td>1000+</td>\n",
       "    </tr>\n",
       "    <tr>\n",
       "      <th>979</th>\n",
       "      <td>USA</td>\n",
       "      <td>-118.242766</td>\n",
       "      <td>34.053691</td>\n",
       "      <td>China</td>\n",
       "      <td>114.232441</td>\n",
       "      <td>22.559050</td>\n",
       "      <td>CNYIT</td>\n",
       "      <td>USLAX</td>\n",
       "      <td>9953</td>\n",
       "      <td>1000+</td>\n",
       "    </tr>\n",
       "    <tr>\n",
       "      <th>6729</th>\n",
       "      <td>USA</td>\n",
       "      <td>-74.006015</td>\n",
       "      <td>40.712728</td>\n",
       "      <td>China</td>\n",
       "      <td>121.469207</td>\n",
       "      <td>31.232276</td>\n",
       "      <td>CNSHA</td>\n",
       "      <td>USNYC</td>\n",
       "      <td>7773</td>\n",
       "      <td>1000+</td>\n",
       "    </tr>\n",
       "    <tr>\n",
       "      <th>1147</th>\n",
       "      <td>USA</td>\n",
       "      <td>-118.191604</td>\n",
       "      <td>33.769016</td>\n",
       "      <td>Korea</td>\n",
       "      <td>129.075236</td>\n",
       "      <td>35.179953</td>\n",
       "      <td>KRPUS</td>\n",
       "      <td>USLGB</td>\n",
       "      <td>7341</td>\n",
       "      <td>1000+</td>\n",
       "    </tr>\n",
       "    <tr>\n",
       "      <th>6768</th>\n",
       "      <td>USA</td>\n",
       "      <td>-74.006015</td>\n",
       "      <td>40.712728</td>\n",
       "      <td>Korea</td>\n",
       "      <td>129.075236</td>\n",
       "      <td>35.179953</td>\n",
       "      <td>KRPUS</td>\n",
       "      <td>USNYC</td>\n",
       "      <td>4949</td>\n",
       "      <td>1000+</td>\n",
       "    </tr>\n",
       "    <tr>\n",
       "      <th>5445</th>\n",
       "      <td>USA</td>\n",
       "      <td>-81.091177</td>\n",
       "      <td>32.080926</td>\n",
       "      <td>China</td>\n",
       "      <td>121.620387</td>\n",
       "      <td>29.862219</td>\n",
       "      <td>CNNBO</td>\n",
       "      <td>USSAV</td>\n",
       "      <td>4937</td>\n",
       "      <td>1000+</td>\n",
       "    </tr>\n",
       "    <tr>\n",
       "      <th>2628</th>\n",
       "      <td>USA</td>\n",
       "      <td>-95.367697</td>\n",
       "      <td>29.758938</td>\n",
       "      <td>China</td>\n",
       "      <td>114.232441</td>\n",
       "      <td>22.559050</td>\n",
       "      <td>CNYIT</td>\n",
       "      <td>USHOU</td>\n",
       "      <td>4510</td>\n",
       "      <td>1000+</td>\n",
       "    </tr>\n",
       "    <tr>\n",
       "      <th>1509</th>\n",
       "      <td>USA</td>\n",
       "      <td>-117.138585</td>\n",
       "      <td>33.504574</td>\n",
       "      <td>Bangladesh</td>\n",
       "      <td>91.496770</td>\n",
       "      <td>22.931975</td>\n",
       "      <td>BDCGP</td>\n",
       "      <td>USMIK</td>\n",
       "      <td>4383</td>\n",
       "      <td>1000+</td>\n",
       "    </tr>\n",
       "    <tr>\n",
       "      <th>997</th>\n",
       "      <td>USA</td>\n",
       "      <td>-118.242766</td>\n",
       "      <td>34.053691</td>\n",
       "      <td>China</td>\n",
       "      <td>121.620387</td>\n",
       "      <td>29.862219</td>\n",
       "      <td>CNNBO</td>\n",
       "      <td>USLAX</td>\n",
       "      <td>4321</td>\n",
       "      <td>1000+</td>\n",
       "    </tr>\n",
       "  </tbody>\n",
       "</table>\n",
       "</div>"
      ],
      "text/plain": [
       "     FinalDeliveryPort_Country  FinalDeliveryPort_Longitude  \\\n",
       "1110                       USA                  -118.191604   \n",
       "1091                       USA                  -118.191604   \n",
       "979                        USA                  -118.242766   \n",
       "6729                       USA                   -74.006015   \n",
       "1147                       USA                  -118.191604   \n",
       "6768                       USA                   -74.006015   \n",
       "5445                       USA                   -81.091177   \n",
       "2628                       USA                   -95.367697   \n",
       "1509                       USA                  -117.138585   \n",
       "997                        USA                  -118.242766   \n",
       "\n",
       "      FinalDeliveryPort_Latitude PortOfLoading_Country  \\\n",
       "1110                   33.769016                 China   \n",
       "1091                   33.769016                 China   \n",
       "979                    34.053691                 China   \n",
       "6729                   40.712728                 China   \n",
       "1147                   33.769016                 Korea   \n",
       "6768                   40.712728                 Korea   \n",
       "5445                   32.080926                 China   \n",
       "2628                   29.758938                 China   \n",
       "1509                   33.504574            Bangladesh   \n",
       "997                    34.053691                 China   \n",
       "\n",
       "      PortOfLoading_Longitude  PortOfLoading_Latitude PortOfLoading  \\\n",
       "1110               121.469207               31.232276         CNSHA   \n",
       "1091               114.232441               22.559050         CNYIT   \n",
       "979                114.232441               22.559050         CNYIT   \n",
       "6729               121.469207               31.232276         CNSHA   \n",
       "1147               129.075236               35.179953         KRPUS   \n",
       "6768               129.075236               35.179953         KRPUS   \n",
       "5445               121.620387               29.862219         CNNBO   \n",
       "2628               114.232441               22.559050         CNYIT   \n",
       "1509                91.496770               22.931975         BDCGP   \n",
       "997                121.620387               29.862219         CNNBO   \n",
       "\n",
       "     FinalDeliveryPort  Num_Shipments    Bin  \n",
       "1110             USLGB          20045  1000+  \n",
       "1091             USLGB          12590  1000+  \n",
       "979              USLAX           9953  1000+  \n",
       "6729             USNYC           7773  1000+  \n",
       "1147             USLGB           7341  1000+  \n",
       "6768             USNYC           4949  1000+  \n",
       "5445             USSAV           4937  1000+  \n",
       "2628             USHOU           4510  1000+  \n",
       "1509             USMIK           4383  1000+  \n",
       "997              USLAX           4321  1000+  "
      ]
     },
     "execution_count": 121,
     "metadata": {},
     "output_type": "execute_result"
    }
   ],
   "source": [
    "subset_df_1 = overseas_cnt_df.sort_values(by='Num_Shipments', ascending=False).head(10)\n",
    "subset_df_1"
   ]
  },
  {
   "cell_type": "code",
   "execution_count": 122,
   "id": "quiet-payroll",
   "metadata": {},
   "outputs": [
    {
     "data": {
      "text/html": [
       "<div>\n",
       "<style scoped>\n",
       "    .dataframe tbody tr th:only-of-type {\n",
       "        vertical-align: middle;\n",
       "    }\n",
       "\n",
       "    .dataframe tbody tr th {\n",
       "        vertical-align: top;\n",
       "    }\n",
       "\n",
       "    .dataframe thead th {\n",
       "        text-align: right;\n",
       "    }\n",
       "</style>\n",
       "<table border=\"1\" class=\"dataframe\">\n",
       "  <thead>\n",
       "    <tr style=\"text-align: right;\">\n",
       "      <th></th>\n",
       "      <th>FinalDeliveryPort_Country</th>\n",
       "      <th>FinalDeliveryPort_Longitude</th>\n",
       "      <th>FinalDeliveryPort_Latitude</th>\n",
       "      <th>PortOfLoading_Country</th>\n",
       "      <th>PortOfLoading_Longitude</th>\n",
       "      <th>PortOfLoading_Latitude</th>\n",
       "      <th>PortOfLoading</th>\n",
       "      <th>FinalDeliveryPort</th>\n",
       "      <th>Num_Shipments</th>\n",
       "      <th>Bin</th>\n",
       "    </tr>\n",
       "  </thead>\n",
       "  <tbody>\n",
       "    <tr>\n",
       "      <th>1578</th>\n",
       "      <td>USA</td>\n",
       "      <td>-116.083314</td>\n",
       "      <td>34.825302</td>\n",
       "      <td>China</td>\n",
       "      <td>121.469207</td>\n",
       "      <td>31.232276</td>\n",
       "      <td>CNSHA</td>\n",
       "      <td>USSBT</td>\n",
       "      <td>500</td>\n",
       "      <td>0-500</td>\n",
       "    </tr>\n",
       "    <tr>\n",
       "      <th>1017</th>\n",
       "      <td>USA</td>\n",
       "      <td>-118.242766</td>\n",
       "      <td>34.053691</td>\n",
       "      <td>Malaysia</td>\n",
       "      <td>101.396674</td>\n",
       "      <td>3.002762</td>\n",
       "      <td>MYPKG</td>\n",
       "      <td>USLAX</td>\n",
       "      <td>499</td>\n",
       "      <td>0-500</td>\n",
       "    </tr>\n",
       "    <tr>\n",
       "      <th>5720</th>\n",
       "      <td>USA</td>\n",
       "      <td>-79.940273</td>\n",
       "      <td>32.787601</td>\n",
       "      <td>China</td>\n",
       "      <td>114.232441</td>\n",
       "      <td>22.559050</td>\n",
       "      <td>CNYIT</td>\n",
       "      <td>USCHS</td>\n",
       "      <td>498</td>\n",
       "      <td>0-500</td>\n",
       "    </tr>\n",
       "    <tr>\n",
       "      <th>3930</th>\n",
       "      <td>USA</td>\n",
       "      <td>-87.717549</td>\n",
       "      <td>41.625312</td>\n",
       "      <td>China</td>\n",
       "      <td>114.232441</td>\n",
       "      <td>22.559050</td>\n",
       "      <td>CNYIT</td>\n",
       "      <td>USMIB</td>\n",
       "      <td>486</td>\n",
       "      <td>0-500</td>\n",
       "    </tr>\n",
       "    <tr>\n",
       "      <th>6523</th>\n",
       "      <td>USA</td>\n",
       "      <td>-74.394517</td>\n",
       "      <td>40.538238</td>\n",
       "      <td>Vietnam</td>\n",
       "      <td>106.701756</td>\n",
       "      <td>10.775844</td>\n",
       "      <td>VNSGN</td>\n",
       "      <td>USEDN</td>\n",
       "      <td>474</td>\n",
       "      <td>0-500</td>\n",
       "    </tr>\n",
       "    <tr>\n",
       "      <th>4436</th>\n",
       "      <td>USA</td>\n",
       "      <td>-85.505655</td>\n",
       "      <td>36.154558</td>\n",
       "      <td>Indonesia</td>\n",
       "      <td>106.827183</td>\n",
       "      <td>-6.175394</td>\n",
       "      <td>IDJKT</td>\n",
       "      <td>USPHX</td>\n",
       "      <td>472</td>\n",
       "      <td>0-500</td>\n",
       "    </tr>\n",
       "    <tr>\n",
       "      <th>833</th>\n",
       "      <td>USA</td>\n",
       "      <td>-119.708861</td>\n",
       "      <td>36.729529</td>\n",
       "      <td>China</td>\n",
       "      <td>121.469207</td>\n",
       "      <td>31.232276</td>\n",
       "      <td>CNSHA</td>\n",
       "      <td>USFAT</td>\n",
       "      <td>471</td>\n",
       "      <td>0-500</td>\n",
       "    </tr>\n",
       "    <tr>\n",
       "      <th>1985</th>\n",
       "      <td>USA</td>\n",
       "      <td>-101.335390</td>\n",
       "      <td>35.363656</td>\n",
       "      <td>China</td>\n",
       "      <td>114.232441</td>\n",
       "      <td>22.559050</td>\n",
       "      <td>CNYIT</td>\n",
       "      <td>USCRU</td>\n",
       "      <td>463</td>\n",
       "      <td>0-500</td>\n",
       "    </tr>\n",
       "    <tr>\n",
       "      <th>4168</th>\n",
       "      <td>USA</td>\n",
       "      <td>-86.585901</td>\n",
       "      <td>34.729847</td>\n",
       "      <td>Korea</td>\n",
       "      <td>129.075236</td>\n",
       "      <td>35.179953</td>\n",
       "      <td>KRPUS</td>\n",
       "      <td>USHSV</td>\n",
       "      <td>461</td>\n",
       "      <td>0-500</td>\n",
       "    </tr>\n",
       "    <tr>\n",
       "      <th>6310</th>\n",
       "      <td>USA</td>\n",
       "      <td>-75.546589</td>\n",
       "      <td>39.745947</td>\n",
       "      <td>China</td>\n",
       "      <td>120.378137</td>\n",
       "      <td>36.063803</td>\n",
       "      <td>CNTAO</td>\n",
       "      <td>USILM</td>\n",
       "      <td>460</td>\n",
       "      <td>0-500</td>\n",
       "    </tr>\n",
       "  </tbody>\n",
       "</table>\n",
       "</div>"
      ],
      "text/plain": [
       "     FinalDeliveryPort_Country  FinalDeliveryPort_Longitude  \\\n",
       "1578                       USA                  -116.083314   \n",
       "1017                       USA                  -118.242766   \n",
       "5720                       USA                   -79.940273   \n",
       "3930                       USA                   -87.717549   \n",
       "6523                       USA                   -74.394517   \n",
       "4436                       USA                   -85.505655   \n",
       "833                        USA                  -119.708861   \n",
       "1985                       USA                  -101.335390   \n",
       "4168                       USA                   -86.585901   \n",
       "6310                       USA                   -75.546589   \n",
       "\n",
       "      FinalDeliveryPort_Latitude PortOfLoading_Country  \\\n",
       "1578                   34.825302                 China   \n",
       "1017                   34.053691              Malaysia   \n",
       "5720                   32.787601                 China   \n",
       "3930                   41.625312                 China   \n",
       "6523                   40.538238               Vietnam   \n",
       "4436                   36.154558             Indonesia   \n",
       "833                    36.729529                 China   \n",
       "1985                   35.363656                 China   \n",
       "4168                   34.729847                 Korea   \n",
       "6310                   39.745947                 China   \n",
       "\n",
       "      PortOfLoading_Longitude  PortOfLoading_Latitude PortOfLoading  \\\n",
       "1578               121.469207               31.232276         CNSHA   \n",
       "1017               101.396674                3.002762         MYPKG   \n",
       "5720               114.232441               22.559050         CNYIT   \n",
       "3930               114.232441               22.559050         CNYIT   \n",
       "6523               106.701756               10.775844         VNSGN   \n",
       "4436               106.827183               -6.175394         IDJKT   \n",
       "833                121.469207               31.232276         CNSHA   \n",
       "1985               114.232441               22.559050         CNYIT   \n",
       "4168               129.075236               35.179953         KRPUS   \n",
       "6310               120.378137               36.063803         CNTAO   \n",
       "\n",
       "     FinalDeliveryPort  Num_Shipments    Bin  \n",
       "1578             USSBT            500  0-500  \n",
       "1017             USLAX            499  0-500  \n",
       "5720             USCHS            498  0-500  \n",
       "3930             USMIB            486  0-500  \n",
       "6523             USEDN            474  0-500  \n",
       "4436             USPHX            472  0-500  \n",
       "833              USFAT            471  0-500  \n",
       "1985             USCRU            463  0-500  \n",
       "4168             USHSV            461  0-500  \n",
       "6310             USILM            460  0-500  "
      ]
     },
     "execution_count": 122,
     "metadata": {},
     "output_type": "execute_result"
    }
   ],
   "source": [
    "subset_df_2 = overseas_cnt_df[overseas_cnt_df['Bin']=='0-500'].sort_values(by='Num_Shipments', ascending=False).head(10)\n",
    "subset_df_2"
   ]
  },
  {
   "cell_type": "code",
   "execution_count": 123,
   "id": "threaded-cuisine",
   "metadata": {},
   "outputs": [
    {
     "data": {
      "text/html": [
       "<div>\n",
       "<style scoped>\n",
       "    .dataframe tbody tr th:only-of-type {\n",
       "        vertical-align: middle;\n",
       "    }\n",
       "\n",
       "    .dataframe tbody tr th {\n",
       "        vertical-align: top;\n",
       "    }\n",
       "\n",
       "    .dataframe thead th {\n",
       "        text-align: right;\n",
       "    }\n",
       "</style>\n",
       "<table border=\"1\" class=\"dataframe\">\n",
       "  <thead>\n",
       "    <tr style=\"text-align: right;\">\n",
       "      <th></th>\n",
       "      <th>FinalDeliveryPort_Country</th>\n",
       "      <th>FinalDeliveryPort_Longitude</th>\n",
       "      <th>FinalDeliveryPort_Latitude</th>\n",
       "      <th>PortOfLoading_Country</th>\n",
       "      <th>PortOfLoading_Longitude</th>\n",
       "      <th>PortOfLoading_Latitude</th>\n",
       "      <th>PortOfLoading</th>\n",
       "      <th>FinalDeliveryPort</th>\n",
       "      <th>Num_Shipments</th>\n",
       "      <th>Bin</th>\n",
       "    </tr>\n",
       "  </thead>\n",
       "  <tbody>\n",
       "    <tr>\n",
       "      <th>1110</th>\n",
       "      <td>USA</td>\n",
       "      <td>-118.191604</td>\n",
       "      <td>33.769016</td>\n",
       "      <td>China</td>\n",
       "      <td>121.469207</td>\n",
       "      <td>31.232276</td>\n",
       "      <td>CNSHA</td>\n",
       "      <td>USLGB</td>\n",
       "      <td>20045</td>\n",
       "      <td>1000+</td>\n",
       "    </tr>\n",
       "    <tr>\n",
       "      <th>1091</th>\n",
       "      <td>USA</td>\n",
       "      <td>-118.191604</td>\n",
       "      <td>33.769016</td>\n",
       "      <td>China</td>\n",
       "      <td>114.232441</td>\n",
       "      <td>22.559050</td>\n",
       "      <td>CNYIT</td>\n",
       "      <td>USLGB</td>\n",
       "      <td>12590</td>\n",
       "      <td>1000+</td>\n",
       "    </tr>\n",
       "    <tr>\n",
       "      <th>979</th>\n",
       "      <td>USA</td>\n",
       "      <td>-118.242766</td>\n",
       "      <td>34.053691</td>\n",
       "      <td>China</td>\n",
       "      <td>114.232441</td>\n",
       "      <td>22.559050</td>\n",
       "      <td>CNYIT</td>\n",
       "      <td>USLAX</td>\n",
       "      <td>9953</td>\n",
       "      <td>1000+</td>\n",
       "    </tr>\n",
       "    <tr>\n",
       "      <th>6729</th>\n",
       "      <td>USA</td>\n",
       "      <td>-74.006015</td>\n",
       "      <td>40.712728</td>\n",
       "      <td>China</td>\n",
       "      <td>121.469207</td>\n",
       "      <td>31.232276</td>\n",
       "      <td>CNSHA</td>\n",
       "      <td>USNYC</td>\n",
       "      <td>7773</td>\n",
       "      <td>1000+</td>\n",
       "    </tr>\n",
       "    <tr>\n",
       "      <th>1147</th>\n",
       "      <td>USA</td>\n",
       "      <td>-118.191604</td>\n",
       "      <td>33.769016</td>\n",
       "      <td>Korea</td>\n",
       "      <td>129.075236</td>\n",
       "      <td>35.179953</td>\n",
       "      <td>KRPUS</td>\n",
       "      <td>USLGB</td>\n",
       "      <td>7341</td>\n",
       "      <td>1000+</td>\n",
       "    </tr>\n",
       "    <tr>\n",
       "      <th>6768</th>\n",
       "      <td>USA</td>\n",
       "      <td>-74.006015</td>\n",
       "      <td>40.712728</td>\n",
       "      <td>Korea</td>\n",
       "      <td>129.075236</td>\n",
       "      <td>35.179953</td>\n",
       "      <td>KRPUS</td>\n",
       "      <td>USNYC</td>\n",
       "      <td>4949</td>\n",
       "      <td>1000+</td>\n",
       "    </tr>\n",
       "    <tr>\n",
       "      <th>5445</th>\n",
       "      <td>USA</td>\n",
       "      <td>-81.091177</td>\n",
       "      <td>32.080926</td>\n",
       "      <td>China</td>\n",
       "      <td>121.620387</td>\n",
       "      <td>29.862219</td>\n",
       "      <td>CNNBO</td>\n",
       "      <td>USSAV</td>\n",
       "      <td>4937</td>\n",
       "      <td>1000+</td>\n",
       "    </tr>\n",
       "    <tr>\n",
       "      <th>2628</th>\n",
       "      <td>USA</td>\n",
       "      <td>-95.367697</td>\n",
       "      <td>29.758938</td>\n",
       "      <td>China</td>\n",
       "      <td>114.232441</td>\n",
       "      <td>22.559050</td>\n",
       "      <td>CNYIT</td>\n",
       "      <td>USHOU</td>\n",
       "      <td>4510</td>\n",
       "      <td>1000+</td>\n",
       "    </tr>\n",
       "    <tr>\n",
       "      <th>1509</th>\n",
       "      <td>USA</td>\n",
       "      <td>-117.138585</td>\n",
       "      <td>33.504574</td>\n",
       "      <td>Bangladesh</td>\n",
       "      <td>91.496770</td>\n",
       "      <td>22.931975</td>\n",
       "      <td>BDCGP</td>\n",
       "      <td>USMIK</td>\n",
       "      <td>4383</td>\n",
       "      <td>1000+</td>\n",
       "    </tr>\n",
       "    <tr>\n",
       "      <th>997</th>\n",
       "      <td>USA</td>\n",
       "      <td>-118.242766</td>\n",
       "      <td>34.053691</td>\n",
       "      <td>China</td>\n",
       "      <td>121.620387</td>\n",
       "      <td>29.862219</td>\n",
       "      <td>CNNBO</td>\n",
       "      <td>USLAX</td>\n",
       "      <td>4321</td>\n",
       "      <td>1000+</td>\n",
       "    </tr>\n",
       "    <tr>\n",
       "      <th>1578</th>\n",
       "      <td>USA</td>\n",
       "      <td>-116.083314</td>\n",
       "      <td>34.825302</td>\n",
       "      <td>China</td>\n",
       "      <td>121.469207</td>\n",
       "      <td>31.232276</td>\n",
       "      <td>CNSHA</td>\n",
       "      <td>USSBT</td>\n",
       "      <td>500</td>\n",
       "      <td>0-500</td>\n",
       "    </tr>\n",
       "    <tr>\n",
       "      <th>1017</th>\n",
       "      <td>USA</td>\n",
       "      <td>-118.242766</td>\n",
       "      <td>34.053691</td>\n",
       "      <td>Malaysia</td>\n",
       "      <td>101.396674</td>\n",
       "      <td>3.002762</td>\n",
       "      <td>MYPKG</td>\n",
       "      <td>USLAX</td>\n",
       "      <td>499</td>\n",
       "      <td>0-500</td>\n",
       "    </tr>\n",
       "    <tr>\n",
       "      <th>5720</th>\n",
       "      <td>USA</td>\n",
       "      <td>-79.940273</td>\n",
       "      <td>32.787601</td>\n",
       "      <td>China</td>\n",
       "      <td>114.232441</td>\n",
       "      <td>22.559050</td>\n",
       "      <td>CNYIT</td>\n",
       "      <td>USCHS</td>\n",
       "      <td>498</td>\n",
       "      <td>0-500</td>\n",
       "    </tr>\n",
       "    <tr>\n",
       "      <th>3930</th>\n",
       "      <td>USA</td>\n",
       "      <td>-87.717549</td>\n",
       "      <td>41.625312</td>\n",
       "      <td>China</td>\n",
       "      <td>114.232441</td>\n",
       "      <td>22.559050</td>\n",
       "      <td>CNYIT</td>\n",
       "      <td>USMIB</td>\n",
       "      <td>486</td>\n",
       "      <td>0-500</td>\n",
       "    </tr>\n",
       "    <tr>\n",
       "      <th>6523</th>\n",
       "      <td>USA</td>\n",
       "      <td>-74.394517</td>\n",
       "      <td>40.538238</td>\n",
       "      <td>Vietnam</td>\n",
       "      <td>106.701756</td>\n",
       "      <td>10.775844</td>\n",
       "      <td>VNSGN</td>\n",
       "      <td>USEDN</td>\n",
       "      <td>474</td>\n",
       "      <td>0-500</td>\n",
       "    </tr>\n",
       "    <tr>\n",
       "      <th>4436</th>\n",
       "      <td>USA</td>\n",
       "      <td>-85.505655</td>\n",
       "      <td>36.154558</td>\n",
       "      <td>Indonesia</td>\n",
       "      <td>106.827183</td>\n",
       "      <td>-6.175394</td>\n",
       "      <td>IDJKT</td>\n",
       "      <td>USPHX</td>\n",
       "      <td>472</td>\n",
       "      <td>0-500</td>\n",
       "    </tr>\n",
       "    <tr>\n",
       "      <th>833</th>\n",
       "      <td>USA</td>\n",
       "      <td>-119.708861</td>\n",
       "      <td>36.729529</td>\n",
       "      <td>China</td>\n",
       "      <td>121.469207</td>\n",
       "      <td>31.232276</td>\n",
       "      <td>CNSHA</td>\n",
       "      <td>USFAT</td>\n",
       "      <td>471</td>\n",
       "      <td>0-500</td>\n",
       "    </tr>\n",
       "    <tr>\n",
       "      <th>1985</th>\n",
       "      <td>USA</td>\n",
       "      <td>-101.335390</td>\n",
       "      <td>35.363656</td>\n",
       "      <td>China</td>\n",
       "      <td>114.232441</td>\n",
       "      <td>22.559050</td>\n",
       "      <td>CNYIT</td>\n",
       "      <td>USCRU</td>\n",
       "      <td>463</td>\n",
       "      <td>0-500</td>\n",
       "    </tr>\n",
       "    <tr>\n",
       "      <th>4168</th>\n",
       "      <td>USA</td>\n",
       "      <td>-86.585901</td>\n",
       "      <td>34.729847</td>\n",
       "      <td>Korea</td>\n",
       "      <td>129.075236</td>\n",
       "      <td>35.179953</td>\n",
       "      <td>KRPUS</td>\n",
       "      <td>USHSV</td>\n",
       "      <td>461</td>\n",
       "      <td>0-500</td>\n",
       "    </tr>\n",
       "    <tr>\n",
       "      <th>6310</th>\n",
       "      <td>USA</td>\n",
       "      <td>-75.546589</td>\n",
       "      <td>39.745947</td>\n",
       "      <td>China</td>\n",
       "      <td>120.378137</td>\n",
       "      <td>36.063803</td>\n",
       "      <td>CNTAO</td>\n",
       "      <td>USILM</td>\n",
       "      <td>460</td>\n",
       "      <td>0-500</td>\n",
       "    </tr>\n",
       "  </tbody>\n",
       "</table>\n",
       "</div>"
      ],
      "text/plain": [
       "     FinalDeliveryPort_Country  FinalDeliveryPort_Longitude  \\\n",
       "1110                       USA                  -118.191604   \n",
       "1091                       USA                  -118.191604   \n",
       "979                        USA                  -118.242766   \n",
       "6729                       USA                   -74.006015   \n",
       "1147                       USA                  -118.191604   \n",
       "6768                       USA                   -74.006015   \n",
       "5445                       USA                   -81.091177   \n",
       "2628                       USA                   -95.367697   \n",
       "1509                       USA                  -117.138585   \n",
       "997                        USA                  -118.242766   \n",
       "1578                       USA                  -116.083314   \n",
       "1017                       USA                  -118.242766   \n",
       "5720                       USA                   -79.940273   \n",
       "3930                       USA                   -87.717549   \n",
       "6523                       USA                   -74.394517   \n",
       "4436                       USA                   -85.505655   \n",
       "833                        USA                  -119.708861   \n",
       "1985                       USA                  -101.335390   \n",
       "4168                       USA                   -86.585901   \n",
       "6310                       USA                   -75.546589   \n",
       "\n",
       "      FinalDeliveryPort_Latitude PortOfLoading_Country  \\\n",
       "1110                   33.769016                 China   \n",
       "1091                   33.769016                 China   \n",
       "979                    34.053691                 China   \n",
       "6729                   40.712728                 China   \n",
       "1147                   33.769016                 Korea   \n",
       "6768                   40.712728                 Korea   \n",
       "5445                   32.080926                 China   \n",
       "2628                   29.758938                 China   \n",
       "1509                   33.504574            Bangladesh   \n",
       "997                    34.053691                 China   \n",
       "1578                   34.825302                 China   \n",
       "1017                   34.053691              Malaysia   \n",
       "5720                   32.787601                 China   \n",
       "3930                   41.625312                 China   \n",
       "6523                   40.538238               Vietnam   \n",
       "4436                   36.154558             Indonesia   \n",
       "833                    36.729529                 China   \n",
       "1985                   35.363656                 China   \n",
       "4168                   34.729847                 Korea   \n",
       "6310                   39.745947                 China   \n",
       "\n",
       "      PortOfLoading_Longitude  PortOfLoading_Latitude PortOfLoading  \\\n",
       "1110               121.469207               31.232276         CNSHA   \n",
       "1091               114.232441               22.559050         CNYIT   \n",
       "979                114.232441               22.559050         CNYIT   \n",
       "6729               121.469207               31.232276         CNSHA   \n",
       "1147               129.075236               35.179953         KRPUS   \n",
       "6768               129.075236               35.179953         KRPUS   \n",
       "5445               121.620387               29.862219         CNNBO   \n",
       "2628               114.232441               22.559050         CNYIT   \n",
       "1509                91.496770               22.931975         BDCGP   \n",
       "997                121.620387               29.862219         CNNBO   \n",
       "1578               121.469207               31.232276         CNSHA   \n",
       "1017               101.396674                3.002762         MYPKG   \n",
       "5720               114.232441               22.559050         CNYIT   \n",
       "3930               114.232441               22.559050         CNYIT   \n",
       "6523               106.701756               10.775844         VNSGN   \n",
       "4436               106.827183               -6.175394         IDJKT   \n",
       "833                121.469207               31.232276         CNSHA   \n",
       "1985               114.232441               22.559050         CNYIT   \n",
       "4168               129.075236               35.179953         KRPUS   \n",
       "6310               120.378137               36.063803         CNTAO   \n",
       "\n",
       "     FinalDeliveryPort  Num_Shipments    Bin  \n",
       "1110             USLGB          20045  1000+  \n",
       "1091             USLGB          12590  1000+  \n",
       "979              USLAX           9953  1000+  \n",
       "6729             USNYC           7773  1000+  \n",
       "1147             USLGB           7341  1000+  \n",
       "6768             USNYC           4949  1000+  \n",
       "5445             USSAV           4937  1000+  \n",
       "2628             USHOU           4510  1000+  \n",
       "1509             USMIK           4383  1000+  \n",
       "997              USLAX           4321  1000+  \n",
       "1578             USSBT            500  0-500  \n",
       "1017             USLAX            499  0-500  \n",
       "5720             USCHS            498  0-500  \n",
       "3930             USMIB            486  0-500  \n",
       "6523             USEDN            474  0-500  \n",
       "4436             USPHX            472  0-500  \n",
       "833              USFAT            471  0-500  \n",
       "1985             USCRU            463  0-500  \n",
       "4168             USHSV            461  0-500  \n",
       "6310             USILM            460  0-500  "
      ]
     },
     "execution_count": 123,
     "metadata": {},
     "output_type": "execute_result"
    }
   ],
   "source": [
    "subset_df = pd.concat([subset_df_1, subset_df_2])\n",
    "subset_df"
   ]
  },
  {
   "cell_type": "code",
   "execution_count": 124,
   "id": "innocent-watch",
   "metadata": {},
   "outputs": [
    {
     "data": {
      "text/html": [
       "<div>\n",
       "<style scoped>\n",
       "    .dataframe tbody tr th:only-of-type {\n",
       "        vertical-align: middle;\n",
       "    }\n",
       "\n",
       "    .dataframe tbody tr th {\n",
       "        vertical-align: top;\n",
       "    }\n",
       "\n",
       "    .dataframe thead th {\n",
       "        text-align: right;\n",
       "    }\n",
       "</style>\n",
       "<table border=\"1\" class=\"dataframe\">\n",
       "  <thead>\n",
       "    <tr style=\"text-align: right;\">\n",
       "      <th></th>\n",
       "      <th>PortOfLoading_Country</th>\n",
       "      <th>PortOfLoading</th>\n",
       "      <th>FinalDeliveryPort_Country</th>\n",
       "      <th>FinalDeliveryPort</th>\n",
       "      <th>Num_Shipments</th>\n",
       "      <th>Bin</th>\n",
       "    </tr>\n",
       "  </thead>\n",
       "  <tbody>\n",
       "    <tr>\n",
       "      <th>1110</th>\n",
       "      <td>China</td>\n",
       "      <td>CNSHA</td>\n",
       "      <td>USA</td>\n",
       "      <td>USLGB</td>\n",
       "      <td>20045</td>\n",
       "      <td>1000+</td>\n",
       "    </tr>\n",
       "    <tr>\n",
       "      <th>1091</th>\n",
       "      <td>China</td>\n",
       "      <td>CNYIT</td>\n",
       "      <td>USA</td>\n",
       "      <td>USLGB</td>\n",
       "      <td>12590</td>\n",
       "      <td>1000+</td>\n",
       "    </tr>\n",
       "    <tr>\n",
       "      <th>979</th>\n",
       "      <td>China</td>\n",
       "      <td>CNYIT</td>\n",
       "      <td>USA</td>\n",
       "      <td>USLAX</td>\n",
       "      <td>9953</td>\n",
       "      <td>1000+</td>\n",
       "    </tr>\n",
       "    <tr>\n",
       "      <th>6729</th>\n",
       "      <td>China</td>\n",
       "      <td>CNSHA</td>\n",
       "      <td>USA</td>\n",
       "      <td>USNYC</td>\n",
       "      <td>7773</td>\n",
       "      <td>1000+</td>\n",
       "    </tr>\n",
       "    <tr>\n",
       "      <th>1147</th>\n",
       "      <td>Korea</td>\n",
       "      <td>KRPUS</td>\n",
       "      <td>USA</td>\n",
       "      <td>USLGB</td>\n",
       "      <td>7341</td>\n",
       "      <td>1000+</td>\n",
       "    </tr>\n",
       "    <tr>\n",
       "      <th>6768</th>\n",
       "      <td>Korea</td>\n",
       "      <td>KRPUS</td>\n",
       "      <td>USA</td>\n",
       "      <td>USNYC</td>\n",
       "      <td>4949</td>\n",
       "      <td>1000+</td>\n",
       "    </tr>\n",
       "    <tr>\n",
       "      <th>5445</th>\n",
       "      <td>China</td>\n",
       "      <td>CNNBO</td>\n",
       "      <td>USA</td>\n",
       "      <td>USSAV</td>\n",
       "      <td>4937</td>\n",
       "      <td>1000+</td>\n",
       "    </tr>\n",
       "    <tr>\n",
       "      <th>2628</th>\n",
       "      <td>China</td>\n",
       "      <td>CNYIT</td>\n",
       "      <td>USA</td>\n",
       "      <td>USHOU</td>\n",
       "      <td>4510</td>\n",
       "      <td>1000+</td>\n",
       "    </tr>\n",
       "    <tr>\n",
       "      <th>1509</th>\n",
       "      <td>Bangladesh</td>\n",
       "      <td>BDCGP</td>\n",
       "      <td>USA</td>\n",
       "      <td>USMIK</td>\n",
       "      <td>4383</td>\n",
       "      <td>1000+</td>\n",
       "    </tr>\n",
       "    <tr>\n",
       "      <th>997</th>\n",
       "      <td>China</td>\n",
       "      <td>CNNBO</td>\n",
       "      <td>USA</td>\n",
       "      <td>USLAX</td>\n",
       "      <td>4321</td>\n",
       "      <td>1000+</td>\n",
       "    </tr>\n",
       "    <tr>\n",
       "      <th>1578</th>\n",
       "      <td>China</td>\n",
       "      <td>CNSHA</td>\n",
       "      <td>USA</td>\n",
       "      <td>USSBT</td>\n",
       "      <td>500</td>\n",
       "      <td>0-500</td>\n",
       "    </tr>\n",
       "    <tr>\n",
       "      <th>1017</th>\n",
       "      <td>Malaysia</td>\n",
       "      <td>MYPKG</td>\n",
       "      <td>USA</td>\n",
       "      <td>USLAX</td>\n",
       "      <td>499</td>\n",
       "      <td>0-500</td>\n",
       "    </tr>\n",
       "    <tr>\n",
       "      <th>5720</th>\n",
       "      <td>China</td>\n",
       "      <td>CNYIT</td>\n",
       "      <td>USA</td>\n",
       "      <td>USCHS</td>\n",
       "      <td>498</td>\n",
       "      <td>0-500</td>\n",
       "    </tr>\n",
       "    <tr>\n",
       "      <th>3930</th>\n",
       "      <td>China</td>\n",
       "      <td>CNYIT</td>\n",
       "      <td>USA</td>\n",
       "      <td>USMIB</td>\n",
       "      <td>486</td>\n",
       "      <td>0-500</td>\n",
       "    </tr>\n",
       "    <tr>\n",
       "      <th>6523</th>\n",
       "      <td>Vietnam</td>\n",
       "      <td>VNSGN</td>\n",
       "      <td>USA</td>\n",
       "      <td>USEDN</td>\n",
       "      <td>474</td>\n",
       "      <td>0-500</td>\n",
       "    </tr>\n",
       "    <tr>\n",
       "      <th>4436</th>\n",
       "      <td>Indonesia</td>\n",
       "      <td>IDJKT</td>\n",
       "      <td>USA</td>\n",
       "      <td>USPHX</td>\n",
       "      <td>472</td>\n",
       "      <td>0-500</td>\n",
       "    </tr>\n",
       "    <tr>\n",
       "      <th>833</th>\n",
       "      <td>China</td>\n",
       "      <td>CNSHA</td>\n",
       "      <td>USA</td>\n",
       "      <td>USFAT</td>\n",
       "      <td>471</td>\n",
       "      <td>0-500</td>\n",
       "    </tr>\n",
       "    <tr>\n",
       "      <th>1985</th>\n",
       "      <td>China</td>\n",
       "      <td>CNYIT</td>\n",
       "      <td>USA</td>\n",
       "      <td>USCRU</td>\n",
       "      <td>463</td>\n",
       "      <td>0-500</td>\n",
       "    </tr>\n",
       "    <tr>\n",
       "      <th>4168</th>\n",
       "      <td>Korea</td>\n",
       "      <td>KRPUS</td>\n",
       "      <td>USA</td>\n",
       "      <td>USHSV</td>\n",
       "      <td>461</td>\n",
       "      <td>0-500</td>\n",
       "    </tr>\n",
       "    <tr>\n",
       "      <th>6310</th>\n",
       "      <td>China</td>\n",
       "      <td>CNTAO</td>\n",
       "      <td>USA</td>\n",
       "      <td>USILM</td>\n",
       "      <td>460</td>\n",
       "      <td>0-500</td>\n",
       "    </tr>\n",
       "  </tbody>\n",
       "</table>\n",
       "</div>"
      ],
      "text/plain": [
       "     PortOfLoading_Country PortOfLoading FinalDeliveryPort_Country  \\\n",
       "1110                 China         CNSHA                       USA   \n",
       "1091                 China         CNYIT                       USA   \n",
       "979                  China         CNYIT                       USA   \n",
       "6729                 China         CNSHA                       USA   \n",
       "1147                 Korea         KRPUS                       USA   \n",
       "6768                 Korea         KRPUS                       USA   \n",
       "5445                 China         CNNBO                       USA   \n",
       "2628                 China         CNYIT                       USA   \n",
       "1509            Bangladesh         BDCGP                       USA   \n",
       "997                  China         CNNBO                       USA   \n",
       "1578                 China         CNSHA                       USA   \n",
       "1017              Malaysia         MYPKG                       USA   \n",
       "5720                 China         CNYIT                       USA   \n",
       "3930                 China         CNYIT                       USA   \n",
       "6523               Vietnam         VNSGN                       USA   \n",
       "4436             Indonesia         IDJKT                       USA   \n",
       "833                  China         CNSHA                       USA   \n",
       "1985                 China         CNYIT                       USA   \n",
       "4168                 Korea         KRPUS                       USA   \n",
       "6310                 China         CNTAO                       USA   \n",
       "\n",
       "     FinalDeliveryPort  Num_Shipments    Bin  \n",
       "1110             USLGB          20045  1000+  \n",
       "1091             USLGB          12590  1000+  \n",
       "979              USLAX           9953  1000+  \n",
       "6729             USNYC           7773  1000+  \n",
       "1147             USLGB           7341  1000+  \n",
       "6768             USNYC           4949  1000+  \n",
       "5445             USSAV           4937  1000+  \n",
       "2628             USHOU           4510  1000+  \n",
       "1509             USMIK           4383  1000+  \n",
       "997              USLAX           4321  1000+  \n",
       "1578             USSBT            500  0-500  \n",
       "1017             USLAX            499  0-500  \n",
       "5720             USCHS            498  0-500  \n",
       "3930             USMIB            486  0-500  \n",
       "6523             USEDN            474  0-500  \n",
       "4436             USPHX            472  0-500  \n",
       "833              USFAT            471  0-500  \n",
       "1985             USCRU            463  0-500  \n",
       "4168             USHSV            461  0-500  \n",
       "6310             USILM            460  0-500  "
      ]
     },
     "execution_count": 124,
     "metadata": {},
     "output_type": "execute_result"
    }
   ],
   "source": [
    "edge_df = subset_df[[\"PortOfLoading_Country\", 'PortOfLoading', 'FinalDeliveryPort_Country', 'FinalDeliveryPort', 'Num_Shipments', 'Bin']]\n",
    "edge_df"
   ]
  },
  {
   "cell_type": "code",
   "execution_count": 125,
   "id": "weekly-music",
   "metadata": {},
   "outputs": [],
   "source": [
    "node_df_1 = subset_df[[\"PortOfLoading_Country\", 'PortOfLoading', 'PortOfLoading_Latitude', 'PortOfLoading_Longitude']]\n",
    "node_df_1.columns = ['Country','Port', \"Lat\", \"Long\"]"
   ]
  },
  {
   "cell_type": "code",
   "execution_count": 126,
   "id": "bored-leonard",
   "metadata": {},
   "outputs": [],
   "source": [
    "node_df_2 = overseas_cnt_df[[\"FinalDeliveryPort_Country\", 'FinalDeliveryPort', 'FinalDeliveryPort_Latitude', 'FinalDeliveryPort_Longitude']]\n",
    "node_df_2.columns = ['Country', 'Port', \"Lat\", \"Long\"]"
   ]
  },
  {
   "cell_type": "code",
   "execution_count": 127,
   "id": "afraid-ontario",
   "metadata": {},
   "outputs": [],
   "source": [
    "node_df = pd.concat([node_df_1, node_df_2])"
   ]
  },
  {
   "cell_type": "code",
   "execution_count": 128,
   "id": "patient-warren",
   "metadata": {},
   "outputs": [],
   "source": [
    "node_df.drop_duplicates(inplace=True)"
   ]
  },
  {
   "cell_type": "code",
   "execution_count": 129,
   "id": "proprietary-disclaimer",
   "metadata": {},
   "outputs": [
    {
     "data": {
      "text/html": [
       "<div>\n",
       "<style scoped>\n",
       "    .dataframe tbody tr th:only-of-type {\n",
       "        vertical-align: middle;\n",
       "    }\n",
       "\n",
       "    .dataframe tbody tr th {\n",
       "        vertical-align: top;\n",
       "    }\n",
       "\n",
       "    .dataframe thead th {\n",
       "        text-align: right;\n",
       "    }\n",
       "</style>\n",
       "<table border=\"1\" class=\"dataframe\">\n",
       "  <thead>\n",
       "    <tr style=\"text-align: right;\">\n",
       "      <th></th>\n",
       "      <th>Country</th>\n",
       "      <th>Port</th>\n",
       "      <th>Lat</th>\n",
       "      <th>Long</th>\n",
       "    </tr>\n",
       "  </thead>\n",
       "  <tbody>\n",
       "    <tr>\n",
       "      <th>1110</th>\n",
       "      <td>China</td>\n",
       "      <td>CNSHA</td>\n",
       "      <td>31.232276</td>\n",
       "      <td>121.469207</td>\n",
       "    </tr>\n",
       "    <tr>\n",
       "      <th>1091</th>\n",
       "      <td>China</td>\n",
       "      <td>CNYIT</td>\n",
       "      <td>22.559050</td>\n",
       "      <td>114.232441</td>\n",
       "    </tr>\n",
       "    <tr>\n",
       "      <th>1147</th>\n",
       "      <td>Korea</td>\n",
       "      <td>KRPUS</td>\n",
       "      <td>35.179953</td>\n",
       "      <td>129.075236</td>\n",
       "    </tr>\n",
       "    <tr>\n",
       "      <th>5445</th>\n",
       "      <td>China</td>\n",
       "      <td>CNNBO</td>\n",
       "      <td>29.862219</td>\n",
       "      <td>121.620387</td>\n",
       "    </tr>\n",
       "    <tr>\n",
       "      <th>1509</th>\n",
       "      <td>Bangladesh</td>\n",
       "      <td>BDCGP</td>\n",
       "      <td>22.931975</td>\n",
       "      <td>91.496770</td>\n",
       "    </tr>\n",
       "  </tbody>\n",
       "</table>\n",
       "</div>"
      ],
      "text/plain": [
       "         Country   Port        Lat        Long\n",
       "1110       China  CNSHA  31.232276  121.469207\n",
       "1091       China  CNYIT  22.559050  114.232441\n",
       "1147       Korea  KRPUS  35.179953  129.075236\n",
       "5445       China  CNNBO  29.862219  121.620387\n",
       "1509  Bangladesh  BDCGP  22.931975   91.496770"
      ]
     },
     "execution_count": 129,
     "metadata": {},
     "output_type": "execute_result"
    }
   ],
   "source": [
    "node_df.head()"
   ]
  },
  {
   "cell_type": "code",
   "execution_count": 130,
   "id": "banner-contest",
   "metadata": {},
   "outputs": [
    {
     "data": {
      "text/html": [
       "<div>\n",
       "<style scoped>\n",
       "    .dataframe tbody tr th:only-of-type {\n",
       "        vertical-align: middle;\n",
       "    }\n",
       "\n",
       "    .dataframe tbody tr th {\n",
       "        vertical-align: top;\n",
       "    }\n",
       "\n",
       "    .dataframe thead th {\n",
       "        text-align: right;\n",
       "    }\n",
       "</style>\n",
       "<table border=\"1\" class=\"dataframe\">\n",
       "  <thead>\n",
       "    <tr style=\"text-align: right;\">\n",
       "      <th></th>\n",
       "      <th>FinalDeliveryPort_Country</th>\n",
       "      <th>FinalDeliveryPort_Longitude</th>\n",
       "      <th>FinalDeliveryPort_Latitude</th>\n",
       "      <th>PortOfLoading_Country</th>\n",
       "      <th>PortOfLoading_Longitude</th>\n",
       "      <th>PortOfLoading_Latitude</th>\n",
       "      <th>PortOfLoading</th>\n",
       "      <th>FinalDeliveryPort</th>\n",
       "      <th>Num_Shipments</th>\n",
       "      <th>Bin</th>\n",
       "    </tr>\n",
       "  </thead>\n",
       "  <tbody>\n",
       "    <tr>\n",
       "      <th>1110</th>\n",
       "      <td>USA</td>\n",
       "      <td>-118.191604</td>\n",
       "      <td>33.769016</td>\n",
       "      <td>China</td>\n",
       "      <td>121.469207</td>\n",
       "      <td>31.232276</td>\n",
       "      <td>CNSHA</td>\n",
       "      <td>USLGB</td>\n",
       "      <td>20045</td>\n",
       "      <td>1000+</td>\n",
       "    </tr>\n",
       "    <tr>\n",
       "      <th>1091</th>\n",
       "      <td>USA</td>\n",
       "      <td>-118.191604</td>\n",
       "      <td>33.769016</td>\n",
       "      <td>China</td>\n",
       "      <td>114.232441</td>\n",
       "      <td>22.559050</td>\n",
       "      <td>CNYIT</td>\n",
       "      <td>USLGB</td>\n",
       "      <td>12590</td>\n",
       "      <td>1000+</td>\n",
       "    </tr>\n",
       "    <tr>\n",
       "      <th>979</th>\n",
       "      <td>USA</td>\n",
       "      <td>-118.242766</td>\n",
       "      <td>34.053691</td>\n",
       "      <td>China</td>\n",
       "      <td>114.232441</td>\n",
       "      <td>22.559050</td>\n",
       "      <td>CNYIT</td>\n",
       "      <td>USLAX</td>\n",
       "      <td>9953</td>\n",
       "      <td>1000+</td>\n",
       "    </tr>\n",
       "    <tr>\n",
       "      <th>6729</th>\n",
       "      <td>USA</td>\n",
       "      <td>-74.006015</td>\n",
       "      <td>40.712728</td>\n",
       "      <td>China</td>\n",
       "      <td>121.469207</td>\n",
       "      <td>31.232276</td>\n",
       "      <td>CNSHA</td>\n",
       "      <td>USNYC</td>\n",
       "      <td>7773</td>\n",
       "      <td>1000+</td>\n",
       "    </tr>\n",
       "    <tr>\n",
       "      <th>1147</th>\n",
       "      <td>USA</td>\n",
       "      <td>-118.191604</td>\n",
       "      <td>33.769016</td>\n",
       "      <td>Korea</td>\n",
       "      <td>129.075236</td>\n",
       "      <td>35.179953</td>\n",
       "      <td>KRPUS</td>\n",
       "      <td>USLGB</td>\n",
       "      <td>7341</td>\n",
       "      <td>1000+</td>\n",
       "    </tr>\n",
       "    <tr>\n",
       "      <th>6768</th>\n",
       "      <td>USA</td>\n",
       "      <td>-74.006015</td>\n",
       "      <td>40.712728</td>\n",
       "      <td>Korea</td>\n",
       "      <td>129.075236</td>\n",
       "      <td>35.179953</td>\n",
       "      <td>KRPUS</td>\n",
       "      <td>USNYC</td>\n",
       "      <td>4949</td>\n",
       "      <td>1000+</td>\n",
       "    </tr>\n",
       "    <tr>\n",
       "      <th>5445</th>\n",
       "      <td>USA</td>\n",
       "      <td>-81.091177</td>\n",
       "      <td>32.080926</td>\n",
       "      <td>China</td>\n",
       "      <td>121.620387</td>\n",
       "      <td>29.862219</td>\n",
       "      <td>CNNBO</td>\n",
       "      <td>USSAV</td>\n",
       "      <td>4937</td>\n",
       "      <td>1000+</td>\n",
       "    </tr>\n",
       "    <tr>\n",
       "      <th>2628</th>\n",
       "      <td>USA</td>\n",
       "      <td>-95.367697</td>\n",
       "      <td>29.758938</td>\n",
       "      <td>China</td>\n",
       "      <td>114.232441</td>\n",
       "      <td>22.559050</td>\n",
       "      <td>CNYIT</td>\n",
       "      <td>USHOU</td>\n",
       "      <td>4510</td>\n",
       "      <td>1000+</td>\n",
       "    </tr>\n",
       "    <tr>\n",
       "      <th>1509</th>\n",
       "      <td>USA</td>\n",
       "      <td>-117.138585</td>\n",
       "      <td>33.504574</td>\n",
       "      <td>Bangladesh</td>\n",
       "      <td>91.496770</td>\n",
       "      <td>22.931975</td>\n",
       "      <td>BDCGP</td>\n",
       "      <td>USMIK</td>\n",
       "      <td>4383</td>\n",
       "      <td>1000+</td>\n",
       "    </tr>\n",
       "    <tr>\n",
       "      <th>997</th>\n",
       "      <td>USA</td>\n",
       "      <td>-118.242766</td>\n",
       "      <td>34.053691</td>\n",
       "      <td>China</td>\n",
       "      <td>121.620387</td>\n",
       "      <td>29.862219</td>\n",
       "      <td>CNNBO</td>\n",
       "      <td>USLAX</td>\n",
       "      <td>4321</td>\n",
       "      <td>1000+</td>\n",
       "    </tr>\n",
       "    <tr>\n",
       "      <th>1578</th>\n",
       "      <td>USA</td>\n",
       "      <td>-116.083314</td>\n",
       "      <td>34.825302</td>\n",
       "      <td>China</td>\n",
       "      <td>121.469207</td>\n",
       "      <td>31.232276</td>\n",
       "      <td>CNSHA</td>\n",
       "      <td>USSBT</td>\n",
       "      <td>500</td>\n",
       "      <td>0-500</td>\n",
       "    </tr>\n",
       "    <tr>\n",
       "      <th>1017</th>\n",
       "      <td>USA</td>\n",
       "      <td>-118.242766</td>\n",
       "      <td>34.053691</td>\n",
       "      <td>Malaysia</td>\n",
       "      <td>101.396674</td>\n",
       "      <td>3.002762</td>\n",
       "      <td>MYPKG</td>\n",
       "      <td>USLAX</td>\n",
       "      <td>499</td>\n",
       "      <td>0-500</td>\n",
       "    </tr>\n",
       "    <tr>\n",
       "      <th>5720</th>\n",
       "      <td>USA</td>\n",
       "      <td>-79.940273</td>\n",
       "      <td>32.787601</td>\n",
       "      <td>China</td>\n",
       "      <td>114.232441</td>\n",
       "      <td>22.559050</td>\n",
       "      <td>CNYIT</td>\n",
       "      <td>USCHS</td>\n",
       "      <td>498</td>\n",
       "      <td>0-500</td>\n",
       "    </tr>\n",
       "    <tr>\n",
       "      <th>3930</th>\n",
       "      <td>USA</td>\n",
       "      <td>-87.717549</td>\n",
       "      <td>41.625312</td>\n",
       "      <td>China</td>\n",
       "      <td>114.232441</td>\n",
       "      <td>22.559050</td>\n",
       "      <td>CNYIT</td>\n",
       "      <td>USMIB</td>\n",
       "      <td>486</td>\n",
       "      <td>0-500</td>\n",
       "    </tr>\n",
       "    <tr>\n",
       "      <th>6523</th>\n",
       "      <td>USA</td>\n",
       "      <td>-74.394517</td>\n",
       "      <td>40.538238</td>\n",
       "      <td>Vietnam</td>\n",
       "      <td>106.701756</td>\n",
       "      <td>10.775844</td>\n",
       "      <td>VNSGN</td>\n",
       "      <td>USEDN</td>\n",
       "      <td>474</td>\n",
       "      <td>0-500</td>\n",
       "    </tr>\n",
       "    <tr>\n",
       "      <th>4436</th>\n",
       "      <td>USA</td>\n",
       "      <td>-85.505655</td>\n",
       "      <td>36.154558</td>\n",
       "      <td>Indonesia</td>\n",
       "      <td>106.827183</td>\n",
       "      <td>-6.175394</td>\n",
       "      <td>IDJKT</td>\n",
       "      <td>USPHX</td>\n",
       "      <td>472</td>\n",
       "      <td>0-500</td>\n",
       "    </tr>\n",
       "    <tr>\n",
       "      <th>833</th>\n",
       "      <td>USA</td>\n",
       "      <td>-119.708861</td>\n",
       "      <td>36.729529</td>\n",
       "      <td>China</td>\n",
       "      <td>121.469207</td>\n",
       "      <td>31.232276</td>\n",
       "      <td>CNSHA</td>\n",
       "      <td>USFAT</td>\n",
       "      <td>471</td>\n",
       "      <td>0-500</td>\n",
       "    </tr>\n",
       "    <tr>\n",
       "      <th>1985</th>\n",
       "      <td>USA</td>\n",
       "      <td>-101.335390</td>\n",
       "      <td>35.363656</td>\n",
       "      <td>China</td>\n",
       "      <td>114.232441</td>\n",
       "      <td>22.559050</td>\n",
       "      <td>CNYIT</td>\n",
       "      <td>USCRU</td>\n",
       "      <td>463</td>\n",
       "      <td>0-500</td>\n",
       "    </tr>\n",
       "    <tr>\n",
       "      <th>4168</th>\n",
       "      <td>USA</td>\n",
       "      <td>-86.585901</td>\n",
       "      <td>34.729847</td>\n",
       "      <td>Korea</td>\n",
       "      <td>129.075236</td>\n",
       "      <td>35.179953</td>\n",
       "      <td>KRPUS</td>\n",
       "      <td>USHSV</td>\n",
       "      <td>461</td>\n",
       "      <td>0-500</td>\n",
       "    </tr>\n",
       "    <tr>\n",
       "      <th>6310</th>\n",
       "      <td>USA</td>\n",
       "      <td>-75.546589</td>\n",
       "      <td>39.745947</td>\n",
       "      <td>China</td>\n",
       "      <td>120.378137</td>\n",
       "      <td>36.063803</td>\n",
       "      <td>CNTAO</td>\n",
       "      <td>USILM</td>\n",
       "      <td>460</td>\n",
       "      <td>0-500</td>\n",
       "    </tr>\n",
       "  </tbody>\n",
       "</table>\n",
       "</div>"
      ],
      "text/plain": [
       "     FinalDeliveryPort_Country  FinalDeliveryPort_Longitude  \\\n",
       "1110                       USA                  -118.191604   \n",
       "1091                       USA                  -118.191604   \n",
       "979                        USA                  -118.242766   \n",
       "6729                       USA                   -74.006015   \n",
       "1147                       USA                  -118.191604   \n",
       "6768                       USA                   -74.006015   \n",
       "5445                       USA                   -81.091177   \n",
       "2628                       USA                   -95.367697   \n",
       "1509                       USA                  -117.138585   \n",
       "997                        USA                  -118.242766   \n",
       "1578                       USA                  -116.083314   \n",
       "1017                       USA                  -118.242766   \n",
       "5720                       USA                   -79.940273   \n",
       "3930                       USA                   -87.717549   \n",
       "6523                       USA                   -74.394517   \n",
       "4436                       USA                   -85.505655   \n",
       "833                        USA                  -119.708861   \n",
       "1985                       USA                  -101.335390   \n",
       "4168                       USA                   -86.585901   \n",
       "6310                       USA                   -75.546589   \n",
       "\n",
       "      FinalDeliveryPort_Latitude PortOfLoading_Country  \\\n",
       "1110                   33.769016                 China   \n",
       "1091                   33.769016                 China   \n",
       "979                    34.053691                 China   \n",
       "6729                   40.712728                 China   \n",
       "1147                   33.769016                 Korea   \n",
       "6768                   40.712728                 Korea   \n",
       "5445                   32.080926                 China   \n",
       "2628                   29.758938                 China   \n",
       "1509                   33.504574            Bangladesh   \n",
       "997                    34.053691                 China   \n",
       "1578                   34.825302                 China   \n",
       "1017                   34.053691              Malaysia   \n",
       "5720                   32.787601                 China   \n",
       "3930                   41.625312                 China   \n",
       "6523                   40.538238               Vietnam   \n",
       "4436                   36.154558             Indonesia   \n",
       "833                    36.729529                 China   \n",
       "1985                   35.363656                 China   \n",
       "4168                   34.729847                 Korea   \n",
       "6310                   39.745947                 China   \n",
       "\n",
       "      PortOfLoading_Longitude  PortOfLoading_Latitude PortOfLoading  \\\n",
       "1110               121.469207               31.232276         CNSHA   \n",
       "1091               114.232441               22.559050         CNYIT   \n",
       "979                114.232441               22.559050         CNYIT   \n",
       "6729               121.469207               31.232276         CNSHA   \n",
       "1147               129.075236               35.179953         KRPUS   \n",
       "6768               129.075236               35.179953         KRPUS   \n",
       "5445               121.620387               29.862219         CNNBO   \n",
       "2628               114.232441               22.559050         CNYIT   \n",
       "1509                91.496770               22.931975         BDCGP   \n",
       "997                121.620387               29.862219         CNNBO   \n",
       "1578               121.469207               31.232276         CNSHA   \n",
       "1017               101.396674                3.002762         MYPKG   \n",
       "5720               114.232441               22.559050         CNYIT   \n",
       "3930               114.232441               22.559050         CNYIT   \n",
       "6523               106.701756               10.775844         VNSGN   \n",
       "4436               106.827183               -6.175394         IDJKT   \n",
       "833                121.469207               31.232276         CNSHA   \n",
       "1985               114.232441               22.559050         CNYIT   \n",
       "4168               129.075236               35.179953         KRPUS   \n",
       "6310               120.378137               36.063803         CNTAO   \n",
       "\n",
       "     FinalDeliveryPort  Num_Shipments    Bin  \n",
       "1110             USLGB          20045  1000+  \n",
       "1091             USLGB          12590  1000+  \n",
       "979              USLAX           9953  1000+  \n",
       "6729             USNYC           7773  1000+  \n",
       "1147             USLGB           7341  1000+  \n",
       "6768             USNYC           4949  1000+  \n",
       "5445             USSAV           4937  1000+  \n",
       "2628             USHOU           4510  1000+  \n",
       "1509             USMIK           4383  1000+  \n",
       "997              USLAX           4321  1000+  \n",
       "1578             USSBT            500  0-500  \n",
       "1017             USLAX            499  0-500  \n",
       "5720             USCHS            498  0-500  \n",
       "3930             USMIB            486  0-500  \n",
       "6523             USEDN            474  0-500  \n",
       "4436             USPHX            472  0-500  \n",
       "833              USFAT            471  0-500  \n",
       "1985             USCRU            463  0-500  \n",
       "4168             USHSV            461  0-500  \n",
       "6310             USILM            460  0-500  "
      ]
     },
     "execution_count": 130,
     "metadata": {},
     "output_type": "execute_result"
    }
   ],
   "source": [
    "subset_df"
   ]
  },
  {
   "cell_type": "code",
   "execution_count": 131,
   "id": "designing-finding",
   "metadata": {},
   "outputs": [
    {
     "data": {
      "application/vnd.plotly.v1+json": {
       "config": {
        "plotlyServerURL": "https://plot.ly"
       },
       "data": [
        {
         "hoverinfo": "text",
         "lat": [
          31.2322758,
          33.7690164
         ],
         "line": {
          "color": "red",
          "width": 1
         },
         "lon": [
          121.4692071,
          -118.191604
         ],
         "mode": "lines",
         "text": "China to USA USLGB <br> Num Shipments: 20045",
         "type": "scattergeo"
        },
        {
         "hoverinfo": "text",
         "lat": [
          22.5590503,
          33.7690164
         ],
         "line": {
          "color": "red",
          "width": 1
         },
         "lon": [
          114.2324407,
          -118.191604
         ],
         "mode": "lines",
         "text": "China to USA USLGB <br> Num Shipments: 12590",
         "type": "scattergeo"
        },
        {
         "hoverinfo": "text",
         "lat": [
          22.5590503,
          34.0536909
         ],
         "line": {
          "color": "red",
          "width": 1
         },
         "lon": [
          114.2324407,
          -118.242766
         ],
         "mode": "lines",
         "text": "China to USA USLAX <br> Num Shipments: 9953",
         "type": "scattergeo"
        },
        {
         "hoverinfo": "text",
         "lat": [
          31.2322758,
          40.7127281
         ],
         "line": {
          "color": "red",
          "width": 1
         },
         "lon": [
          121.4692071,
          -74.0060152
         ],
         "mode": "lines",
         "text": "China to USA USNYC <br> Num Shipments: 7773",
         "type": "scattergeo"
        },
        {
         "hoverinfo": "text",
         "lat": [
          35.1799528,
          33.7690164
         ],
         "line": {
          "color": "red",
          "width": 1
         },
         "lon": [
          129.0752365,
          -118.191604
         ],
         "mode": "lines",
         "text": "Korea to USA USLGB <br> Num Shipments: 7341",
         "type": "scattergeo"
        },
        {
         "hoverinfo": "text",
         "lat": [
          35.1799528,
          40.7127281
         ],
         "line": {
          "color": "red",
          "width": 1
         },
         "lon": [
          129.0752365,
          -74.0060152
         ],
         "mode": "lines",
         "text": "Korea to USA USNYC <br> Num Shipments: 4949",
         "type": "scattergeo"
        },
        {
         "hoverinfo": "text",
         "lat": [
          29.8622194,
          32.0809263
         ],
         "line": {
          "color": "red",
          "width": 1
         },
         "lon": [
          121.6203873,
          -81.0911768
         ],
         "mode": "lines",
         "text": "China to USA USSAV <br> Num Shipments: 4937",
         "type": "scattergeo"
        },
        {
         "hoverinfo": "text",
         "lat": [
          22.5590503,
          29.7589382
         ],
         "line": {
          "color": "red",
          "width": 1
         },
         "lon": [
          114.2324407,
          -95.3676974
         ],
         "mode": "lines",
         "text": "China to USA USHOU <br> Num Shipments: 4510",
         "type": "scattergeo"
        },
        {
         "hoverinfo": "text",
         "lat": [
          22.9319753,
          33.5045742
         ],
         "line": {
          "color": "red",
          "width": 1
         },
         "lon": [
          91.4967701,
          -117.1385853
         ],
         "mode": "lines",
         "text": "Bangladesh to USA USMIK <br> Num Shipments: 4383",
         "type": "scattergeo"
        },
        {
         "hoverinfo": "text",
         "lat": [
          29.8622194,
          34.0536909
         ],
         "line": {
          "color": "red",
          "width": 1
         },
         "lon": [
          121.6203873,
          -118.242766
         ],
         "mode": "lines",
         "text": "China to USA USLAX <br> Num Shipments: 4321",
         "type": "scattergeo"
        },
        {
         "hoverinfo": "text",
         "lat": [
          31.2322758,
          34.8253019
         ],
         "line": {
          "color": "green",
          "width": 1
         },
         "lon": [
          121.4692071,
          -116.0833144
         ],
         "mode": "lines",
         "text": "China to USA USSBT <br> Num Shipments: 500",
         "type": "scattergeo"
        },
        {
         "hoverinfo": "text",
         "lat": [
          3.0027625,
          34.0536909
         ],
         "line": {
          "color": "green",
          "width": 1
         },
         "lon": [
          101.3966735,
          -118.242766
         ],
         "mode": "lines",
         "text": "Malaysia to USA USLAX <br> Num Shipments: 499",
         "type": "scattergeo"
        },
        {
         "hoverinfo": "text",
         "lat": [
          22.5590503,
          32.7876012
         ],
         "line": {
          "color": "green",
          "width": 1
         },
         "lon": [
          114.2324407,
          -79.9402728
         ],
         "mode": "lines",
         "text": "China to USA USCHS <br> Num Shipments: 498",
         "type": "scattergeo"
        },
        {
         "hoverinfo": "text",
         "lat": [
          22.5590503,
          41.6253116
         ],
         "line": {
          "color": "green",
          "width": 1
         },
         "lon": [
          114.2324407,
          -87.7175491
         ],
         "mode": "lines",
         "text": "China to USA USMIB <br> Num Shipments: 486",
         "type": "scattergeo"
        },
        {
         "hoverinfo": "text",
         "lat": [
          10.7758439,
          40.5382375
         ],
         "line": {
          "color": "green",
          "width": 1
         },
         "lon": [
          106.7017555,
          -74.39451735
         ],
         "mode": "lines",
         "text": "Vietnam to USA USEDN <br> Num Shipments: 474",
         "type": "scattergeo"
        },
        {
         "hoverinfo": "text",
         "lat": [
          -6.1753942,
          36.1545577
         ],
         "line": {
          "color": "green",
          "width": 1
         },
         "lon": [
          106.827183,
          -85.50565462
         ],
         "mode": "lines",
         "text": "Indonesia to USA USPHX <br> Num Shipments: 472",
         "type": "scattergeo"
        },
        {
         "hoverinfo": "text",
         "lat": [
          31.2322758,
          36.7295295
         ],
         "line": {
          "color": "green",
          "width": 1
         },
         "lon": [
          121.4692071,
          -119.7088613
         ],
         "mode": "lines",
         "text": "China to USA USFAT <br> Num Shipments: 471",
         "type": "scattergeo"
        },
        {
         "hoverinfo": "text",
         "lat": [
          22.5590503,
          35.3636563
         ],
         "line": {
          "color": "green",
          "width": 1
         },
         "lon": [
          114.2324407,
          -101.3353895
         ],
         "mode": "lines",
         "text": "China to USA USCRU <br> Num Shipments: 463",
         "type": "scattergeo"
        },
        {
         "hoverinfo": "text",
         "lat": [
          35.1799528,
          34.729847
         ],
         "line": {
          "color": "green",
          "width": 1
         },
         "lon": [
          129.0752365,
          -86.5859011
         ],
         "mode": "lines",
         "text": "Korea to USA USHSV <br> Num Shipments: 461",
         "type": "scattergeo"
        },
        {
         "hoverinfo": "text",
         "lat": [
          36.0638034,
          39.7459468
         ],
         "line": {
          "color": "green",
          "width": 1
         },
         "lon": [
          120.3781372,
          -75.546589
         ],
         "mode": "lines",
         "text": "China to USA USILM <br> Num Shipments: 460",
         "type": "scattergeo"
        },
        {
         "hoverinfo": "text",
         "lat": [
          31.2322758,
          22.5590503,
          22.5590503,
          31.2322758,
          35.1799528,
          35.1799528,
          29.8622194,
          22.5590503,
          22.9319753,
          29.8622194,
          31.2322758,
          3.0027625,
          22.5590503,
          22.5590503,
          10.7758439,
          -6.1753942,
          31.2322758,
          22.5590503,
          35.1799528,
          36.0638034,
          33.7690164,
          33.7690164,
          34.0536909,
          40.7127281,
          33.7690164,
          40.7127281,
          32.0809263,
          29.7589382,
          33.5045742,
          34.0536909,
          34.8253019,
          34.0536909,
          32.7876012,
          41.6253116,
          40.5382375,
          36.1545577,
          36.7295295,
          35.3636563,
          34.729847,
          39.7459468
         ],
         "lon": [
          121.4692071,
          114.2324407,
          114.2324407,
          121.4692071,
          129.0752365,
          129.0752365,
          121.6203873,
          114.2324407,
          91.4967701,
          121.6203873,
          121.4692071,
          101.3966735,
          114.2324407,
          114.2324407,
          106.7017555,
          106.827183,
          121.4692071,
          114.2324407,
          129.0752365,
          120.3781372,
          -118.191604,
          -118.191604,
          -118.242766,
          -74.0060152,
          -118.191604,
          -74.0060152,
          -81.0911768,
          -95.3676974,
          -117.1385853,
          -118.242766,
          -116.0833144,
          -118.242766,
          -79.9402728,
          -87.7175491,
          -74.39451735,
          -85.50565462,
          -119.7088613,
          -101.3353895,
          -86.5859011,
          -75.546589
         ],
         "marker": {
          "color": "blue",
          "size": 10
         },
         "mode": "markers",
         "type": "scattergeo"
        }
       ],
       "layout": {
        "autosize": true,
        "geo": {
         "center": {
          "lat": -24.89971118152254,
          "lon": -121.4741141481931
         },
         "countrycolor": "grey",
         "projection": {
          "rotation": {
           "lon": -121.4741141481931
          },
          "scale": 1.5157165665103989,
          "type": "equirectangular"
         },
         "showcountries": true,
         "showland": true
        },
        "margin": {
         "b": 0,
         "l": 0,
         "pad": 0,
         "r": 0,
         "t": 0
        },
        "showlegend": false,
        "template": {
         "data": {
          "bar": [
           {
            "error_x": {
             "color": "#2a3f5f"
            },
            "error_y": {
             "color": "#2a3f5f"
            },
            "marker": {
             "line": {
              "color": "#E5ECF6",
              "width": 0.5
             }
            },
            "type": "bar"
           }
          ],
          "barpolar": [
           {
            "marker": {
             "line": {
              "color": "#E5ECF6",
              "width": 0.5
             }
            },
            "type": "barpolar"
           }
          ],
          "carpet": [
           {
            "aaxis": {
             "endlinecolor": "#2a3f5f",
             "gridcolor": "white",
             "linecolor": "white",
             "minorgridcolor": "white",
             "startlinecolor": "#2a3f5f"
            },
            "baxis": {
             "endlinecolor": "#2a3f5f",
             "gridcolor": "white",
             "linecolor": "white",
             "minorgridcolor": "white",
             "startlinecolor": "#2a3f5f"
            },
            "type": "carpet"
           }
          ],
          "choropleth": [
           {
            "colorbar": {
             "outlinewidth": 0,
             "ticks": ""
            },
            "type": "choropleth"
           }
          ],
          "contour": [
           {
            "colorbar": {
             "outlinewidth": 0,
             "ticks": ""
            },
            "colorscale": [
             [
              0,
              "#0d0887"
             ],
             [
              0.1111111111111111,
              "#46039f"
             ],
             [
              0.2222222222222222,
              "#7201a8"
             ],
             [
              0.3333333333333333,
              "#9c179e"
             ],
             [
              0.4444444444444444,
              "#bd3786"
             ],
             [
              0.5555555555555556,
              "#d8576b"
             ],
             [
              0.6666666666666666,
              "#ed7953"
             ],
             [
              0.7777777777777778,
              "#fb9f3a"
             ],
             [
              0.8888888888888888,
              "#fdca26"
             ],
             [
              1,
              "#f0f921"
             ]
            ],
            "type": "contour"
           }
          ],
          "contourcarpet": [
           {
            "colorbar": {
             "outlinewidth": 0,
             "ticks": ""
            },
            "type": "contourcarpet"
           }
          ],
          "heatmap": [
           {
            "colorbar": {
             "outlinewidth": 0,
             "ticks": ""
            },
            "colorscale": [
             [
              0,
              "#0d0887"
             ],
             [
              0.1111111111111111,
              "#46039f"
             ],
             [
              0.2222222222222222,
              "#7201a8"
             ],
             [
              0.3333333333333333,
              "#9c179e"
             ],
             [
              0.4444444444444444,
              "#bd3786"
             ],
             [
              0.5555555555555556,
              "#d8576b"
             ],
             [
              0.6666666666666666,
              "#ed7953"
             ],
             [
              0.7777777777777778,
              "#fb9f3a"
             ],
             [
              0.8888888888888888,
              "#fdca26"
             ],
             [
              1,
              "#f0f921"
             ]
            ],
            "type": "heatmap"
           }
          ],
          "heatmapgl": [
           {
            "colorbar": {
             "outlinewidth": 0,
             "ticks": ""
            },
            "colorscale": [
             [
              0,
              "#0d0887"
             ],
             [
              0.1111111111111111,
              "#46039f"
             ],
             [
              0.2222222222222222,
              "#7201a8"
             ],
             [
              0.3333333333333333,
              "#9c179e"
             ],
             [
              0.4444444444444444,
              "#bd3786"
             ],
             [
              0.5555555555555556,
              "#d8576b"
             ],
             [
              0.6666666666666666,
              "#ed7953"
             ],
             [
              0.7777777777777778,
              "#fb9f3a"
             ],
             [
              0.8888888888888888,
              "#fdca26"
             ],
             [
              1,
              "#f0f921"
             ]
            ],
            "type": "heatmapgl"
           }
          ],
          "histogram": [
           {
            "marker": {
             "colorbar": {
              "outlinewidth": 0,
              "ticks": ""
             }
            },
            "type": "histogram"
           }
          ],
          "histogram2d": [
           {
            "colorbar": {
             "outlinewidth": 0,
             "ticks": ""
            },
            "colorscale": [
             [
              0,
              "#0d0887"
             ],
             [
              0.1111111111111111,
              "#46039f"
             ],
             [
              0.2222222222222222,
              "#7201a8"
             ],
             [
              0.3333333333333333,
              "#9c179e"
             ],
             [
              0.4444444444444444,
              "#bd3786"
             ],
             [
              0.5555555555555556,
              "#d8576b"
             ],
             [
              0.6666666666666666,
              "#ed7953"
             ],
             [
              0.7777777777777778,
              "#fb9f3a"
             ],
             [
              0.8888888888888888,
              "#fdca26"
             ],
             [
              1,
              "#f0f921"
             ]
            ],
            "type": "histogram2d"
           }
          ],
          "histogram2dcontour": [
           {
            "colorbar": {
             "outlinewidth": 0,
             "ticks": ""
            },
            "colorscale": [
             [
              0,
              "#0d0887"
             ],
             [
              0.1111111111111111,
              "#46039f"
             ],
             [
              0.2222222222222222,
              "#7201a8"
             ],
             [
              0.3333333333333333,
              "#9c179e"
             ],
             [
              0.4444444444444444,
              "#bd3786"
             ],
             [
              0.5555555555555556,
              "#d8576b"
             ],
             [
              0.6666666666666666,
              "#ed7953"
             ],
             [
              0.7777777777777778,
              "#fb9f3a"
             ],
             [
              0.8888888888888888,
              "#fdca26"
             ],
             [
              1,
              "#f0f921"
             ]
            ],
            "type": "histogram2dcontour"
           }
          ],
          "mesh3d": [
           {
            "colorbar": {
             "outlinewidth": 0,
             "ticks": ""
            },
            "type": "mesh3d"
           }
          ],
          "parcoords": [
           {
            "line": {
             "colorbar": {
              "outlinewidth": 0,
              "ticks": ""
             }
            },
            "type": "parcoords"
           }
          ],
          "pie": [
           {
            "automargin": true,
            "type": "pie"
           }
          ],
          "scatter": [
           {
            "marker": {
             "colorbar": {
              "outlinewidth": 0,
              "ticks": ""
             }
            },
            "type": "scatter"
           }
          ],
          "scatter3d": [
           {
            "line": {
             "colorbar": {
              "outlinewidth": 0,
              "ticks": ""
             }
            },
            "marker": {
             "colorbar": {
              "outlinewidth": 0,
              "ticks": ""
             }
            },
            "type": "scatter3d"
           }
          ],
          "scattercarpet": [
           {
            "marker": {
             "colorbar": {
              "outlinewidth": 0,
              "ticks": ""
             }
            },
            "type": "scattercarpet"
           }
          ],
          "scattergeo": [
           {
            "marker": {
             "colorbar": {
              "outlinewidth": 0,
              "ticks": ""
             }
            },
            "type": "scattergeo"
           }
          ],
          "scattergl": [
           {
            "marker": {
             "colorbar": {
              "outlinewidth": 0,
              "ticks": ""
             }
            },
            "type": "scattergl"
           }
          ],
          "scattermapbox": [
           {
            "marker": {
             "colorbar": {
              "outlinewidth": 0,
              "ticks": ""
             }
            },
            "type": "scattermapbox"
           }
          ],
          "scatterpolar": [
           {
            "marker": {
             "colorbar": {
              "outlinewidth": 0,
              "ticks": ""
             }
            },
            "type": "scatterpolar"
           }
          ],
          "scatterpolargl": [
           {
            "marker": {
             "colorbar": {
              "outlinewidth": 0,
              "ticks": ""
             }
            },
            "type": "scatterpolargl"
           }
          ],
          "scatterternary": [
           {
            "marker": {
             "colorbar": {
              "outlinewidth": 0,
              "ticks": ""
             }
            },
            "type": "scatterternary"
           }
          ],
          "surface": [
           {
            "colorbar": {
             "outlinewidth": 0,
             "ticks": ""
            },
            "colorscale": [
             [
              0,
              "#0d0887"
             ],
             [
              0.1111111111111111,
              "#46039f"
             ],
             [
              0.2222222222222222,
              "#7201a8"
             ],
             [
              0.3333333333333333,
              "#9c179e"
             ],
             [
              0.4444444444444444,
              "#bd3786"
             ],
             [
              0.5555555555555556,
              "#d8576b"
             ],
             [
              0.6666666666666666,
              "#ed7953"
             ],
             [
              0.7777777777777778,
              "#fb9f3a"
             ],
             [
              0.8888888888888888,
              "#fdca26"
             ],
             [
              1,
              "#f0f921"
             ]
            ],
            "type": "surface"
           }
          ],
          "table": [
           {
            "cells": {
             "fill": {
              "color": "#EBF0F8"
             },
             "line": {
              "color": "white"
             }
            },
            "header": {
             "fill": {
              "color": "#C8D4E3"
             },
             "line": {
              "color": "white"
             }
            },
            "type": "table"
           }
          ]
         },
         "layout": {
          "annotationdefaults": {
           "arrowcolor": "#2a3f5f",
           "arrowhead": 0,
           "arrowwidth": 1
          },
          "autotypenumbers": "strict",
          "coloraxis": {
           "colorbar": {
            "outlinewidth": 0,
            "ticks": ""
           }
          },
          "colorscale": {
           "diverging": [
            [
             0,
             "#8e0152"
            ],
            [
             0.1,
             "#c51b7d"
            ],
            [
             0.2,
             "#de77ae"
            ],
            [
             0.3,
             "#f1b6da"
            ],
            [
             0.4,
             "#fde0ef"
            ],
            [
             0.5,
             "#f7f7f7"
            ],
            [
             0.6,
             "#e6f5d0"
            ],
            [
             0.7,
             "#b8e186"
            ],
            [
             0.8,
             "#7fbc41"
            ],
            [
             0.9,
             "#4d9221"
            ],
            [
             1,
             "#276419"
            ]
           ],
           "sequential": [
            [
             0,
             "#0d0887"
            ],
            [
             0.1111111111111111,
             "#46039f"
            ],
            [
             0.2222222222222222,
             "#7201a8"
            ],
            [
             0.3333333333333333,
             "#9c179e"
            ],
            [
             0.4444444444444444,
             "#bd3786"
            ],
            [
             0.5555555555555556,
             "#d8576b"
            ],
            [
             0.6666666666666666,
             "#ed7953"
            ],
            [
             0.7777777777777778,
             "#fb9f3a"
            ],
            [
             0.8888888888888888,
             "#fdca26"
            ],
            [
             1,
             "#f0f921"
            ]
           ],
           "sequentialminus": [
            [
             0,
             "#0d0887"
            ],
            [
             0.1111111111111111,
             "#46039f"
            ],
            [
             0.2222222222222222,
             "#7201a8"
            ],
            [
             0.3333333333333333,
             "#9c179e"
            ],
            [
             0.4444444444444444,
             "#bd3786"
            ],
            [
             0.5555555555555556,
             "#d8576b"
            ],
            [
             0.6666666666666666,
             "#ed7953"
            ],
            [
             0.7777777777777778,
             "#fb9f3a"
            ],
            [
             0.8888888888888888,
             "#fdca26"
            ],
            [
             1,
             "#f0f921"
            ]
           ]
          },
          "colorway": [
           "#636efa",
           "#EF553B",
           "#00cc96",
           "#ab63fa",
           "#FFA15A",
           "#19d3f3",
           "#FF6692",
           "#B6E880",
           "#FF97FF",
           "#FECB52"
          ],
          "font": {
           "color": "#2a3f5f"
          },
          "geo": {
           "bgcolor": "white",
           "lakecolor": "white",
           "landcolor": "#E5ECF6",
           "showlakes": true,
           "showland": true,
           "subunitcolor": "white"
          },
          "hoverlabel": {
           "align": "left"
          },
          "hovermode": "closest",
          "mapbox": {
           "style": "light"
          },
          "paper_bgcolor": "white",
          "plot_bgcolor": "#E5ECF6",
          "polar": {
           "angularaxis": {
            "gridcolor": "white",
            "linecolor": "white",
            "ticks": ""
           },
           "bgcolor": "#E5ECF6",
           "radialaxis": {
            "gridcolor": "white",
            "linecolor": "white",
            "ticks": ""
           }
          },
          "scene": {
           "xaxis": {
            "backgroundcolor": "#E5ECF6",
            "gridcolor": "white",
            "gridwidth": 2,
            "linecolor": "white",
            "showbackground": true,
            "ticks": "",
            "zerolinecolor": "white"
           },
           "yaxis": {
            "backgroundcolor": "#E5ECF6",
            "gridcolor": "white",
            "gridwidth": 2,
            "linecolor": "white",
            "showbackground": true,
            "ticks": "",
            "zerolinecolor": "white"
           },
           "zaxis": {
            "backgroundcolor": "#E5ECF6",
            "gridcolor": "white",
            "gridwidth": 2,
            "linecolor": "white",
            "showbackground": true,
            "ticks": "",
            "zerolinecolor": "white"
           }
          },
          "shapedefaults": {
           "line": {
            "color": "#2a3f5f"
           }
          },
          "ternary": {
           "aaxis": {
            "gridcolor": "white",
            "linecolor": "white",
            "ticks": ""
           },
           "baxis": {
            "gridcolor": "white",
            "linecolor": "white",
            "ticks": ""
           },
           "bgcolor": "#E5ECF6",
           "caxis": {
            "gridcolor": "white",
            "linecolor": "white",
            "ticks": ""
           }
          },
          "title": {
           "x": 0.05
          },
          "xaxis": {
           "automargin": true,
           "gridcolor": "white",
           "linecolor": "white",
           "ticks": "",
           "title": {
            "standoff": 15
           },
           "zerolinecolor": "white",
           "zerolinewidth": 2
          },
          "yaxis": {
           "automargin": true,
           "gridcolor": "white",
           "linecolor": "white",
           "ticks": "",
           "title": {
            "standoff": 15
           },
           "zerolinecolor": "white",
           "zerolinewidth": 2
          }
         }
        },
        "title": {
         "text": "Connection Map Depicting Flights from Brazil to All Other Countries (Orthographic Projection)"
        }
       }
      },
      "image/png": "[encoded data removed]",
      "text/html": [
       "<div>                            <div id=\"1f69b96a-a280-4e52-a590-b12c6f57f37a\" class=\"plotly-graph-div\" style=\"height:1000px; width:100%;\"></div>            <script type=\"text/javascript\">                require([\"plotly\"], function(Plotly) {                    window.PLOTLYENV=window.PLOTLYENV || {};                                    if (document.getElementById(\"1f69b96a-a280-4e52-a590-b12c6f57f37a\")) {                    Plotly.newPlot(                        \"1f69b96a-a280-4e52-a590-b12c6f57f37a\",                        [{\"hoverinfo\": \"text\", \"lat\": [31.2322758, 33.7690164], \"line\": {\"color\": \"red\", \"width\": 1}, \"lon\": [121.4692071, -118.191604], \"mode\": \"lines\", \"text\": \"China to USA USLGB <br> Num Shipments: 20045\", \"type\": \"scattergeo\"}, {\"hoverinfo\": \"text\", \"lat\": [22.5590503, 33.7690164], \"line\": {\"color\": \"red\", \"width\": 1}, \"lon\": [114.2324407, -118.191604], \"mode\": \"lines\", \"text\": \"China to USA USLGB <br> Num Shipments: 12590\", \"type\": \"scattergeo\"}, {\"hoverinfo\": \"text\", \"lat\": [22.5590503, 34.0536909], \"line\": {\"color\": \"red\", \"width\": 1}, \"lon\": [114.2324407, -118.242766], \"mode\": \"lines\", \"text\": \"China to USA USLAX <br> Num Shipments: 9953\", \"type\": \"scattergeo\"}, {\"hoverinfo\": \"text\", \"lat\": [31.2322758, 40.7127281], \"line\": {\"color\": \"red\", \"width\": 1}, \"lon\": [121.4692071, -74.0060152], \"mode\": \"lines\", \"text\": \"China to USA USNYC <br> Num Shipments: 7773\", \"type\": \"scattergeo\"}, {\"hoverinfo\": \"text\", \"lat\": [35.1799528, 33.7690164], \"line\": {\"color\": \"red\", \"width\": 1}, \"lon\": [129.0752365, -118.191604], \"mode\": \"lines\", \"text\": \"Korea to USA USLGB <br> Num Shipments: 7341\", \"type\": \"scattergeo\"}, {\"hoverinfo\": \"text\", \"lat\": [35.1799528, 40.7127281], \"line\": {\"color\": \"red\", \"width\": 1}, \"lon\": [129.0752365, -74.0060152], \"mode\": \"lines\", \"text\": \"Korea to USA USNYC <br> Num Shipments: 4949\", \"type\": \"scattergeo\"}, {\"hoverinfo\": \"text\", \"lat\": [29.8622194, 32.0809263], \"line\": {\"color\": \"red\", \"width\": 1}, \"lon\": [121.6203873, -81.0911768], \"mode\": \"lines\", \"text\": \"China to USA USSAV <br> Num Shipments: 4937\", \"type\": \"scattergeo\"}, {\"hoverinfo\": \"text\", \"lat\": [22.5590503, 29.7589382], \"line\": {\"color\": \"red\", \"width\": 1}, \"lon\": [114.2324407, -95.3676974], \"mode\": \"lines\", \"text\": \"China to USA USHOU <br> Num Shipments: 4510\", \"type\": \"scattergeo\"}, {\"hoverinfo\": \"text\", \"lat\": [22.9319753, 33.5045742], \"line\": {\"color\": \"red\", \"width\": 1}, \"lon\": [91.4967701, -117.1385853], \"mode\": \"lines\", \"text\": \"Bangladesh to USA USMIK <br> Num Shipments: 4383\", \"type\": \"scattergeo\"}, {\"hoverinfo\": \"text\", \"lat\": [29.8622194, 34.0536909], \"line\": {\"color\": \"red\", \"width\": 1}, \"lon\": [121.6203873, -118.242766], \"mode\": \"lines\", \"text\": \"China to USA USLAX <br> Num Shipments: 4321\", \"type\": \"scattergeo\"}, {\"hoverinfo\": \"text\", \"lat\": [31.2322758, 34.8253019], \"line\": {\"color\": \"green\", \"width\": 1}, \"lon\": [121.4692071, -116.0833144], \"mode\": \"lines\", \"text\": \"China to USA USSBT <br> Num Shipments: 500\", \"type\": \"scattergeo\"}, {\"hoverinfo\": \"text\", \"lat\": [3.0027625, 34.0536909], \"line\": {\"color\": \"green\", \"width\": 1}, \"lon\": [101.3966735, -118.242766], \"mode\": \"lines\", \"text\": \"Malaysia to USA USLAX <br> Num Shipments: 499\", \"type\": \"scattergeo\"}, {\"hoverinfo\": \"text\", \"lat\": [22.5590503, 32.7876012], \"line\": {\"color\": \"green\", \"width\": 1}, \"lon\": [114.2324407, -79.9402728], \"mode\": \"lines\", \"text\": \"China to USA USCHS <br> Num Shipments: 498\", \"type\": \"scattergeo\"}, {\"hoverinfo\": \"text\", \"lat\": [22.5590503, 41.6253116], \"line\": {\"color\": \"green\", \"width\": 1}, \"lon\": [114.2324407, -87.7175491], \"mode\": \"lines\", \"text\": \"China to USA USMIB <br> Num Shipments: 486\", \"type\": \"scattergeo\"}, {\"hoverinfo\": \"text\", \"lat\": [10.7758439, 40.5382375], \"line\": {\"color\": \"green\", \"width\": 1}, \"lon\": [106.7017555, -74.39451735], \"mode\": \"lines\", \"text\": \"Vietnam to USA USEDN <br> Num Shipments: 474\", \"type\": \"scattergeo\"}, {\"hoverinfo\": \"text\", \"lat\": [-6.1753942, 36.1545577], \"line\": {\"color\": \"green\", \"width\": 1}, \"lon\": [106.827183, -85.50565462], \"mode\": \"lines\", \"text\": \"Indonesia to USA USPHX <br> Num Shipments: 472\", \"type\": \"scattergeo\"}, {\"hoverinfo\": \"text\", \"lat\": [31.2322758, 36.7295295], \"line\": {\"color\": \"green\", \"width\": 1}, \"lon\": [121.4692071, -119.7088613], \"mode\": \"lines\", \"text\": \"China to USA USFAT <br> Num Shipments: 471\", \"type\": \"scattergeo\"}, {\"hoverinfo\": \"text\", \"lat\": [22.5590503, 35.3636563], \"line\": {\"color\": \"green\", \"width\": 1}, \"lon\": [114.2324407, -101.3353895], \"mode\": \"lines\", \"text\": \"China to USA USCRU <br> Num Shipments: 463\", \"type\": \"scattergeo\"}, {\"hoverinfo\": \"text\", \"lat\": [35.1799528, 34.729847], \"line\": {\"color\": \"green\", \"width\": 1}, \"lon\": [129.0752365, -86.5859011], \"mode\": \"lines\", \"text\": \"Korea to USA USHSV <br> Num Shipments: 461\", \"type\": \"scattergeo\"}, {\"hoverinfo\": \"text\", \"lat\": [36.0638034, 39.7459468], \"line\": {\"color\": \"green\", \"width\": 1}, \"lon\": [120.3781372, -75.546589], \"mode\": \"lines\", \"text\": \"China to USA USILM <br> Num Shipments: 460\", \"type\": \"scattergeo\"}, {\"hoverinfo\": \"text\", \"lat\": [31.2322758, 22.5590503, 22.5590503, 31.2322758, 35.1799528, 35.1799528, 29.8622194, 22.5590503, 22.9319753, 29.8622194, 31.2322758, 3.0027625, 22.5590503, 22.5590503, 10.7758439, -6.1753942, 31.2322758, 22.5590503, 35.1799528, 36.0638034, 33.7690164, 33.7690164, 34.0536909, 40.7127281, 33.7690164, 40.7127281, 32.0809263, 29.7589382, 33.5045742, 34.0536909, 34.8253019, 34.0536909, 32.7876012, 41.6253116, 40.5382375, 36.1545577, 36.7295295, 35.3636563, 34.729847, 39.7459468], \"lon\": [121.4692071, 114.2324407, 114.2324407, 121.4692071, 129.0752365, 129.0752365, 121.6203873, 114.2324407, 91.4967701, 121.6203873, 121.4692071, 101.3966735, 114.2324407, 114.2324407, 106.7017555, 106.827183, 121.4692071, 114.2324407, 129.0752365, 120.3781372, -118.191604, -118.191604, -118.242766, -74.0060152, -118.191604, -74.0060152, -81.0911768, -95.3676974, -117.1385853, -118.242766, -116.0833144, -118.242766, -79.9402728, -87.7175491, -74.39451735, -85.50565462, -119.7088613, -101.3353895, -86.5859011, -75.546589], \"marker\": {\"color\": \"blue\", \"size\": 10}, \"mode\": \"markers\", \"type\": \"scattergeo\"}],                        {\"geo\": {\"countrycolor\": \"grey\", \"projection\": {\"type\": \"equirectangular\"}, \"showcountries\": true, \"showland\": true}, \"height\": 1000, \"margin\": {\"b\": 0, \"l\": 0, \"pad\": 0, \"r\": 0, \"t\": 0}, \"showlegend\": false, \"template\": {\"data\": {\"bar\": [{\"error_x\": {\"color\": \"#2a3f5f\"}, \"error_y\": {\"color\": \"#2a3f5f\"}, \"marker\": {\"line\": {\"color\": \"#E5ECF6\", \"width\": 0.5}}, \"type\": \"bar\"}], \"barpolar\": [{\"marker\": {\"line\": {\"color\": \"#E5ECF6\", \"width\": 0.5}}, \"type\": \"barpolar\"}], \"carpet\": [{\"aaxis\": {\"endlinecolor\": \"#2a3f5f\", \"gridcolor\": \"white\", \"linecolor\": \"white\", \"minorgridcolor\": \"white\", \"startlinecolor\": \"#2a3f5f\"}, \"baxis\": {\"endlinecolor\": \"#2a3f5f\", \"gridcolor\": \"white\", \"linecolor\": \"white\", \"minorgridcolor\": \"white\", \"startlinecolor\": \"#2a3f5f\"}, \"type\": \"carpet\"}], \"choropleth\": [{\"colorbar\": {\"outlinewidth\": 0, \"ticks\": \"\"}, \"type\": \"choropleth\"}], \"contour\": [{\"colorbar\": {\"outlinewidth\": 0, \"ticks\": \"\"}, \"colorscale\": [[0.0, \"#0d0887\"], [0.1111111111111111, \"#46039f\"], [0.2222222222222222, \"#7201a8\"], [0.3333333333333333, \"#9c179e\"], [0.4444444444444444, \"#bd3786\"], [0.5555555555555556, \"#d8576b\"], [0.6666666666666666, \"#ed7953\"], [0.7777777777777778, \"#fb9f3a\"], [0.8888888888888888, \"#fdca26\"], [1.0, \"#f0f921\"]], \"type\": \"contour\"}], \"contourcarpet\": [{\"colorbar\": {\"outlinewidth\": 0, \"ticks\": \"\"}, \"type\": \"contourcarpet\"}], \"heatmap\": [{\"colorbar\": {\"outlinewidth\": 0, \"ticks\": \"\"}, \"colorscale\": [[0.0, \"#0d0887\"], [0.1111111111111111, \"#46039f\"], [0.2222222222222222, \"#7201a8\"], [0.3333333333333333, \"#9c179e\"], [0.4444444444444444, \"#bd3786\"], [0.5555555555555556, \"#d8576b\"], [0.6666666666666666, \"#ed7953\"], [0.7777777777777778, \"#fb9f3a\"], [0.8888888888888888, \"#fdca26\"], [1.0, \"#f0f921\"]], \"type\": \"heatmap\"}], \"heatmapgl\": [{\"colorbar\": {\"outlinewidth\": 0, \"ticks\": \"\"}, \"colorscale\": [[0.0, \"#0d0887\"], [0.1111111111111111, \"#46039f\"], [0.2222222222222222, \"#7201a8\"], [0.3333333333333333, \"#9c179e\"], [0.4444444444444444, \"#bd3786\"], [0.5555555555555556, \"#d8576b\"], [0.6666666666666666, \"#ed7953\"], [0.7777777777777778, \"#fb9f3a\"], [0.8888888888888888, \"#fdca26\"], [1.0, \"#f0f921\"]], \"type\": \"heatmapgl\"}], \"histogram\": [{\"marker\": {\"colorbar\": {\"outlinewidth\": 0, \"ticks\": \"\"}}, \"type\": \"histogram\"}], \"histogram2d\": [{\"colorbar\": {\"outlinewidth\": 0, \"ticks\": \"\"}, \"colorscale\": [[0.0, \"#0d0887\"], [0.1111111111111111, \"#46039f\"], [0.2222222222222222, \"#7201a8\"], [0.3333333333333333, \"#9c179e\"], [0.4444444444444444, \"#bd3786\"], [0.5555555555555556, \"#d8576b\"], [0.6666666666666666, \"#ed7953\"], [0.7777777777777778, \"#fb9f3a\"], [0.8888888888888888, \"#fdca26\"], [1.0, \"#f0f921\"]], \"type\": \"histogram2d\"}], \"histogram2dcontour\": [{\"colorbar\": {\"outlinewidth\": 0, \"ticks\": \"\"}, \"colorscale\": [[0.0, \"#0d0887\"], [0.1111111111111111, \"#46039f\"], [0.2222222222222222, \"#7201a8\"], [0.3333333333333333, \"#9c179e\"], [0.4444444444444444, \"#bd3786\"], [0.5555555555555556, \"#d8576b\"], [0.6666666666666666, \"#ed7953\"], [0.7777777777777778, \"#fb9f3a\"], [0.8888888888888888, \"#fdca26\"], [1.0, \"#f0f921\"]], \"type\": \"histogram2dcontour\"}], \"mesh3d\": [{\"colorbar\": {\"outlinewidth\": 0, \"ticks\": \"\"}, \"type\": \"mesh3d\"}], \"parcoords\": [{\"line\": {\"colorbar\": {\"outlinewidth\": 0, \"ticks\": \"\"}}, \"type\": \"parcoords\"}], \"pie\": [{\"automargin\": true, \"type\": \"pie\"}], \"scatter\": [{\"marker\": {\"colorbar\": {\"outlinewidth\": 0, \"ticks\": \"\"}}, \"type\": \"scatter\"}], \"scatter3d\": [{\"line\": {\"colorbar\": {\"outlinewidth\": 0, \"ticks\": \"\"}}, \"marker\": {\"colorbar\": {\"outlinewidth\": 0, \"ticks\": \"\"}}, \"type\": \"scatter3d\"}], \"scattercarpet\": [{\"marker\": {\"colorbar\": {\"outlinewidth\": 0, \"ticks\": \"\"}}, \"type\": \"scattercarpet\"}], \"scattergeo\": [{\"marker\": {\"colorbar\": {\"outlinewidth\": 0, \"ticks\": \"\"}}, \"type\": \"scattergeo\"}], \"scattergl\": [{\"marker\": {\"colorbar\": {\"outlinewidth\": 0, \"ticks\": \"\"}}, \"type\": \"scattergl\"}], \"scattermapbox\": [{\"marker\": {\"colorbar\": {\"outlinewidth\": 0, \"ticks\": \"\"}}, \"type\": \"scattermapbox\"}], \"scatterpolar\": [{\"marker\": {\"colorbar\": {\"outlinewidth\": 0, \"ticks\": \"\"}}, \"type\": \"scatterpolar\"}], \"scatterpolargl\": [{\"marker\": {\"colorbar\": {\"outlinewidth\": 0, \"ticks\": \"\"}}, \"type\": \"scatterpolargl\"}], \"scatterternary\": [{\"marker\": {\"colorbar\": {\"outlinewidth\": 0, \"ticks\": \"\"}}, \"type\": \"scatterternary\"}], \"surface\": [{\"colorbar\": {\"outlinewidth\": 0, \"ticks\": \"\"}, \"colorscale\": [[0.0, \"#0d0887\"], [0.1111111111111111, \"#46039f\"], [0.2222222222222222, \"#7201a8\"], [0.3333333333333333, \"#9c179e\"], [0.4444444444444444, \"#bd3786\"], [0.5555555555555556, \"#d8576b\"], [0.6666666666666666, \"#ed7953\"], [0.7777777777777778, \"#fb9f3a\"], [0.8888888888888888, \"#fdca26\"], [1.0, \"#f0f921\"]], \"type\": \"surface\"}], \"table\": [{\"cells\": {\"fill\": {\"color\": \"#EBF0F8\"}, \"line\": {\"color\": \"white\"}}, \"header\": {\"fill\": {\"color\": \"#C8D4E3\"}, \"line\": {\"color\": \"white\"}}, \"type\": \"table\"}]}, \"layout\": {\"annotationdefaults\": {\"arrowcolor\": \"#2a3f5f\", \"arrowhead\": 0, \"arrowwidth\": 1}, \"autotypenumbers\": \"strict\", \"coloraxis\": {\"colorbar\": {\"outlinewidth\": 0, \"ticks\": \"\"}}, \"colorscale\": {\"diverging\": [[0, \"#8e0152\"], [0.1, \"#c51b7d\"], [0.2, \"#de77ae\"], [0.3, \"#f1b6da\"], [0.4, \"#fde0ef\"], [0.5, \"#f7f7f7\"], [0.6, \"#e6f5d0\"], [0.7, \"#b8e186\"], [0.8, \"#7fbc41\"], [0.9, \"#4d9221\"], [1, \"#276419\"]], \"sequential\": [[0.0, \"#0d0887\"], [0.1111111111111111, \"#46039f\"], [0.2222222222222222, \"#7201a8\"], [0.3333333333333333, \"#9c179e\"], [0.4444444444444444, \"#bd3786\"], [0.5555555555555556, \"#d8576b\"], [0.6666666666666666, \"#ed7953\"], [0.7777777777777778, \"#fb9f3a\"], [0.8888888888888888, \"#fdca26\"], [1.0, \"#f0f921\"]], \"sequentialminus\": [[0.0, \"#0d0887\"], [0.1111111111111111, \"#46039f\"], [0.2222222222222222, \"#7201a8\"], [0.3333333333333333, \"#9c179e\"], [0.4444444444444444, \"#bd3786\"], [0.5555555555555556, \"#d8576b\"], [0.6666666666666666, \"#ed7953\"], [0.7777777777777778, \"#fb9f3a\"], [0.8888888888888888, \"#fdca26\"], [1.0, \"#f0f921\"]]}, \"colorway\": [\"#636efa\", \"#EF553B\", \"#00cc96\", \"#ab63fa\", \"#FFA15A\", \"#19d3f3\", \"#FF6692\", \"#B6E880\", \"#FF97FF\", \"#FECB52\"], \"font\": {\"color\": \"#2a3f5f\"}, \"geo\": {\"bgcolor\": \"white\", \"lakecolor\": \"white\", \"landcolor\": \"#E5ECF6\", \"showlakes\": true, \"showland\": true, \"subunitcolor\": \"white\"}, \"hoverlabel\": {\"align\": \"left\"}, \"hovermode\": \"closest\", \"mapbox\": {\"style\": \"light\"}, \"paper_bgcolor\": \"white\", \"plot_bgcolor\": \"#E5ECF6\", \"polar\": {\"angularaxis\": {\"gridcolor\": \"white\", \"linecolor\": \"white\", \"ticks\": \"\"}, \"bgcolor\": \"#E5ECF6\", \"radialaxis\": {\"gridcolor\": \"white\", \"linecolor\": \"white\", \"ticks\": \"\"}}, \"scene\": {\"xaxis\": {\"backgroundcolor\": \"#E5ECF6\", \"gridcolor\": \"white\", \"gridwidth\": 2, \"linecolor\": \"white\", \"showbackground\": true, \"ticks\": \"\", \"zerolinecolor\": \"white\"}, \"yaxis\": {\"backgroundcolor\": \"#E5ECF6\", \"gridcolor\": \"white\", \"gridwidth\": 2, \"linecolor\": \"white\", \"showbackground\": true, \"ticks\": \"\", \"zerolinecolor\": \"white\"}, \"zaxis\": {\"backgroundcolor\": \"#E5ECF6\", \"gridcolor\": \"white\", \"gridwidth\": 2, \"linecolor\": \"white\", \"showbackground\": true, \"ticks\": \"\", \"zerolinecolor\": \"white\"}}, \"shapedefaults\": {\"line\": {\"color\": \"#2a3f5f\"}}, \"ternary\": {\"aaxis\": {\"gridcolor\": \"white\", \"linecolor\": \"white\", \"ticks\": \"\"}, \"baxis\": {\"gridcolor\": \"white\", \"linecolor\": \"white\", \"ticks\": \"\"}, \"bgcolor\": \"#E5ECF6\", \"caxis\": {\"gridcolor\": \"white\", \"linecolor\": \"white\", \"ticks\": \"\"}}, \"title\": {\"x\": 0.05}, \"xaxis\": {\"automargin\": true, \"gridcolor\": \"white\", \"linecolor\": \"white\", \"ticks\": \"\", \"title\": {\"standoff\": 15}, \"zerolinecolor\": \"white\", \"zerolinewidth\": 2}, \"yaxis\": {\"automargin\": true, \"gridcolor\": \"white\", \"linecolor\": \"white\", \"ticks\": \"\", \"title\": {\"standoff\": 15}, \"zerolinecolor\": \"white\", \"zerolinewidth\": 2}}}, \"title\": {\"text\": \"Connection Map Depicting Flights from Brazil to All Other Countries (Orthographic Projection)\"}},                        {\"responsive\": true}                    ).then(function(){\n",
       "                            \n",
       "var gd = document.getElementById('1f69b96a-a280-4e52-a590-b12c6f57f37a');\n",
       "var x = new MutationObserver(function (mutations, observer) {{\n",
       "        var display = window.getComputedStyle(gd).display;\n",
       "        if (!display || display === 'none') {{\n",
       "            console.log([gd, 'removed!']);\n",
       "            Plotly.purge(gd);\n",
       "            observer.disconnect();\n",
       "        }}\n",
       "}});\n",
       "\n",
       "// Listen for the removal of the full notebook cells\n",
       "var notebookContainer = gd.closest('#notebook-container');\n",
       "if (notebookContainer) {{\n",
       "    x.observe(notebookContainer, {childList: true});\n",
       "}}\n",
       "\n",
       "// Listen for the clearing of the current output cell\n",
       "var outputEl = gd.closest('.output');\n",
       "if (outputEl) {{\n",
       "    x.observe(outputEl, {childList: true});\n",
       "}}\n",
       "\n",
       "                        })                };                });            </script>        </div>"
      ]
     },
     "metadata": {},
     "output_type": "display_data"
    }
   ],
   "source": [
    "fig = go.Figure()\n",
    "\n",
    "source_to_dest = zip(subset_df[\"PortOfLoading_Latitude\"], subset_df[\"FinalDeliveryPort_Latitude\"],\n",
    "                     subset_df[\"PortOfLoading_Longitude\"], subset_df[\"FinalDeliveryPort_Longitude\"],\n",
    "                     subset_df[\"Num_Shipments\"], subset_df[\"Bin\"], subset_df['PortOfLoading_Country'], subset_df['FinalDeliveryPort_Country'], subset_df['FinalDeliveryPort'])\n",
    "\n",
    "## Loop thorugh each flight entry to add line between source and destination\n",
    "for slat,dlat, slon, dlon, num_flights, binn, origCountry, destCountry, destPort in source_to_dest:\n",
    "    color_line = 'red'\n",
    "    if(binn!='1000+'):\n",
    "        color_line='green'\n",
    "    \n",
    "    fig.add_trace(go.Scattergeo(\n",
    "                        lat = [slat,dlat],\n",
    "                        lon = [slon, dlon],\n",
    "                        mode = 'lines',\n",
    "                        line = dict(width = 1, color=color_line),\n",
    "                        hoverinfo=\"text\",\n",
    "                        text=origCountry + \" to \" + destCountry + \" \" + destPort + \" <br> \" + \"Num Shipments: \" + str(num_flights)\n",
    "                        ))\n",
    "\n",
    "## Logic to create labels of source and destination cities of flights\n",
    "#cities = overseas_cnt_df[\"Cidade.Origem\"].values.tolist()+overseas_cnt_df[\"Cidade.Destino\"].values.tolist()\n",
    "#countries = overseas_cnt_df[\"Pais.Origem\"].values.tolist()+overseas_cnt_df[\"Pais.Destino\"].values.tolist()\n",
    "#scatter_hover_data = [country + \" : \"+ city for city, country in zip(cities, countries)]\n",
    "\n",
    "## Loop thorugh each flight entry to plot source and destination as points.\n",
    "fig.add_trace(\n",
    "    go.Scattergeo(\n",
    "                lon = subset_df[\"PortOfLoading_Longitude\"].values.tolist()+subset_df[\"FinalDeliveryPort_Longitude\"].values.tolist(),\n",
    "                lat = subset_df[\"PortOfLoading_Latitude\"].values.tolist()+subset_df[\"FinalDeliveryPort_Latitude\"].values.tolist(),\n",
    "                hoverinfo = 'text',\n",
    "                #text = scatter_hover_data,\n",
    "                mode = 'markers',\n",
    "                marker = dict(size = 10, color = 'blue'))\n",
    "                \n",
    "    )\n",
    "\n",
    "## Update graph layout to improve graph styling.\n",
    "fig.update_layout(title_text=\"Connection Map Depicting Flights from Brazil to All Other Countries (Orthographic Projection)\",\n",
    "                  height=1000,\n",
    "                  margin={\"t\":0,\"b\":0,\"l\":0, \"r\":0, \"pad\":0},\n",
    "                  showlegend=False,\n",
    "                  geo= dict(projection_type = 'equirectangular', showland = True, showcountries=True, countrycolor = 'grey'))\n",
    "\n",
    "fig.show()"
   ]
  },
  {
   "cell_type": "code",
   "execution_count": 132,
   "id": "peripheral-correlation",
   "metadata": {},
   "outputs": [
    {
     "data": {
      "text/plain": [
       "Index(['FinalDeliveryPort_Country', 'FinalDeliveryPort_Longitude',\n",
       "       'FinalDeliveryPort_Latitude', 'PortOfLoading_Country',\n",
       "       'PortOfLoading_Longitude', 'PortOfLoading_Latitude', 'PortOfLoading',\n",
       "       'FinalDeliveryPort', 'Num_Shipments', 'Bin'],\n",
       "      dtype='object')"
      ]
     },
     "execution_count": 132,
     "metadata": {},
     "output_type": "execute_result"
    }
   ],
   "source": [
    "overseas_cnt_df.columns"
   ]
  },
  {
   "cell_type": "code",
   "execution_count": 133,
   "id": "romantic-discovery",
   "metadata": {},
   "outputs": [
    {
     "data": {
      "text/plain": [
       "array(['China', 'Saudi Arabia', 'Australia', 'Canada', '.', 'Indonesia',\n",
       "       'Japan', 'Korea', 'Malaysia', 'Taiwan', 'Thailand', 'Vietnam',\n",
       "       'Italy', 'Spain', 'Philipines', 'India', 'France', 'Singapore',\n",
       "       'Bangladesh', 'Cambodia', 'Egypt', 'Pakistan', 'South Africa',\n",
       "       'Sri Lanka', 'UAE', 'Qatar', 'Kenya', 'Myanmar', 'Oman', 'Bahrain',\n",
       "       'Morocco', 'Kuwait', 'Colombia', 'Panama', 'Portugal', 'Tunisia',\n",
       "       'Israel', 'Lebanon'], dtype=object)"
      ]
     },
     "execution_count": 133,
     "metadata": {},
     "output_type": "execute_result"
    }
   ],
   "source": [
    "overseas_cnt_df['PortOfLoading_Country'].unique()"
   ]
  },
  {
   "cell_type": "code",
   "execution_count": 138,
   "id": "received-panama",
   "metadata": {},
   "outputs": [
    {
     "data": {
      "text/html": [
       "<div>\n",
       "<style scoped>\n",
       "    .dataframe tbody tr th:only-of-type {\n",
       "        vertical-align: middle;\n",
       "    }\n",
       "\n",
       "    .dataframe tbody tr th {\n",
       "        vertical-align: top;\n",
       "    }\n",
       "\n",
       "    .dataframe thead th {\n",
       "        text-align: right;\n",
       "    }\n",
       "</style>\n",
       "<table border=\"1\" class=\"dataframe\">\n",
       "  <thead>\n",
       "    <tr style=\"text-align: right;\">\n",
       "      <th></th>\n",
       "      <th>PortOfLoading_Country</th>\n",
       "      <th>FinalDeliveryPort_Longitude</th>\n",
       "      <th>FinalDeliveryPort_Latitude</th>\n",
       "      <th>PortOfLoading_Longitude</th>\n",
       "      <th>PortOfLoading_Latitude</th>\n",
       "      <th>Num_Shipments</th>\n",
       "    </tr>\n",
       "  </thead>\n",
       "  <tbody>\n",
       "    <tr>\n",
       "      <th>0</th>\n",
       "      <td>China</td>\n",
       "      <td>-268929.009159</td>\n",
       "      <td>108027.537516</td>\n",
       "      <td>331364.078655</td>\n",
       "      <td>82907.371154</td>\n",
       "      <td>221525</td>\n",
       "    </tr>\n",
       "    <tr>\n",
       "      <th>1</th>\n",
       "      <td>Korea</td>\n",
       "      <td>-72065.606600</td>\n",
       "      <td>29760.802185</td>\n",
       "      <td>99817.123424</td>\n",
       "      <td>27239.786798</td>\n",
       "      <td>39470</td>\n",
       "    </tr>\n",
       "    <tr>\n",
       "      <th>2</th>\n",
       "      <td>Vietnam</td>\n",
       "      <td>-48552.031179</td>\n",
       "      <td>19350.946884</td>\n",
       "      <td>54291.264172</td>\n",
       "      <td>6282.557573</td>\n",
       "      <td>25375</td>\n",
       "    </tr>\n",
       "    <tr>\n",
       "      <th>3</th>\n",
       "      <td>Indonesia</td>\n",
       "      <td>-24460.832828</td>\n",
       "      <td>9919.746592</td>\n",
       "      <td>28331.598128</td>\n",
       "      <td>-1481.714079</td>\n",
       "      <td>16705</td>\n",
       "    </tr>\n",
       "    <tr>\n",
       "      <th>4</th>\n",
       "      <td>Japan</td>\n",
       "      <td>-44601.891560</td>\n",
       "      <td>18107.547624</td>\n",
       "      <td>15687.716295</td>\n",
       "      <td>19482.765839</td>\n",
       "      <td>15380</td>\n",
       "    </tr>\n",
       "    <tr>\n",
       "      <th>5</th>\n",
       "      <td>Taiwan</td>\n",
       "      <td>-33575.460625</td>\n",
       "      <td>13373.871379</td>\n",
       "      <td>42577.547082</td>\n",
       "      <td>8370.457411</td>\n",
       "      <td>11547</td>\n",
       "    </tr>\n",
       "    <tr>\n",
       "      <th>6</th>\n",
       "      <td>Bangladesh</td>\n",
       "      <td>-6345.265395</td>\n",
       "      <td>2608.796001</td>\n",
       "      <td>6214.209316</td>\n",
       "      <td>1557.518110</td>\n",
       "      <td>9963</td>\n",
       "    </tr>\n",
       "    <tr>\n",
       "      <th>7</th>\n",
       "      <td>India</td>\n",
       "      <td>-29985.338525</td>\n",
       "      <td>11583.903811</td>\n",
       "      <td>23468.651003</td>\n",
       "      <td>5673.855565</td>\n",
       "      <td>9064</td>\n",
       "    </tr>\n",
       "    <tr>\n",
       "      <th>8</th>\n",
       "      <td>Thailand</td>\n",
       "      <td>-21356.864994</td>\n",
       "      <td>8592.813220</td>\n",
       "      <td>22730.019306</td>\n",
       "      <td>2822.130714</td>\n",
       "      <td>8180</td>\n",
       "    </tr>\n",
       "    <tr>\n",
       "      <th>9</th>\n",
       "      <td>Malaysia</td>\n",
       "      <td>-24812.284848</td>\n",
       "      <td>9806.046719</td>\n",
       "      <td>26520.146398</td>\n",
       "      <td>857.497409</td>\n",
       "      <td>4422</td>\n",
       "    </tr>\n",
       "    <tr>\n",
       "      <th>10</th>\n",
       "      <td>Italy</td>\n",
       "      <td>-22053.036066</td>\n",
       "      <td>9691.620517</td>\n",
       "      <td>2338.181772</td>\n",
       "      <td>10966.113063</td>\n",
       "      <td>3758</td>\n",
       "    </tr>\n",
       "    <tr>\n",
       "      <th>11</th>\n",
       "      <td>Spain</td>\n",
       "      <td>-15156.350768</td>\n",
       "      <td>6461.725843</td>\n",
       "      <td>10628.222302</td>\n",
       "      <td>4423.378085</td>\n",
       "      <td>2861</td>\n",
       "    </tr>\n",
       "    <tr>\n",
       "      <th>12</th>\n",
       "      <td>Singapore</td>\n",
       "      <td>-6680.728445</td>\n",
       "      <td>2572.767845</td>\n",
       "      <td>7059.725946</td>\n",
       "      <td>92.283276</td>\n",
       "      <td>1936</td>\n",
       "    </tr>\n",
       "    <tr>\n",
       "      <th>13</th>\n",
       "      <td>Philipines</td>\n",
       "      <td>-8682.777682</td>\n",
       "      <td>3298.752804</td>\n",
       "      <td>10760.918133</td>\n",
       "      <td>1074.687481</td>\n",
       "      <td>1910</td>\n",
       "    </tr>\n",
       "    <tr>\n",
       "      <th>14</th>\n",
       "      <td>Cambodia</td>\n",
       "      <td>-2635.526040</td>\n",
       "      <td>989.848193</td>\n",
       "      <td>2698.020681</td>\n",
       "      <td>281.628095</td>\n",
       "      <td>1553</td>\n",
       "    </tr>\n",
       "    <tr>\n",
       "      <th>15</th>\n",
       "      <td>Pakistan</td>\n",
       "      <td>-2289.021366</td>\n",
       "      <td>889.430552</td>\n",
       "      <td>1541.493035</td>\n",
       "      <td>571.859486</td>\n",
       "      <td>841</td>\n",
       "    </tr>\n",
       "    <tr>\n",
       "      <th>16</th>\n",
       "      <td>UAE</td>\n",
       "      <td>-4084.788740</td>\n",
       "      <td>1668.218164</td>\n",
       "      <td>2424.701769</td>\n",
       "      <td>1100.691444</td>\n",
       "      <td>776</td>\n",
       "    </tr>\n",
       "    <tr>\n",
       "      <th>17</th>\n",
       "      <td>France</td>\n",
       "      <td>-5069.176136</td>\n",
       "      <td>2238.510168</td>\n",
       "      <td>286.844510</td>\n",
       "      <td>2519.408141</td>\n",
       "      <td>705</td>\n",
       "    </tr>\n",
       "    <tr>\n",
       "      <th>18</th>\n",
       "      <td>Sri Lanka</td>\n",
       "      <td>-3579.430377</td>\n",
       "      <td>1272.127825</td>\n",
       "      <td>2715.030774</td>\n",
       "      <td>235.789895</td>\n",
       "      <td>306</td>\n",
       "    </tr>\n",
       "    <tr>\n",
       "      <th>19</th>\n",
       "      <td>Oman</td>\n",
       "      <td>-2125.399310</td>\n",
       "      <td>837.209842</td>\n",
       "      <td>1248.334485</td>\n",
       "      <td>535.580269</td>\n",
       "      <td>300</td>\n",
       "    </tr>\n",
       "    <tr>\n",
       "      <th>20</th>\n",
       "      <td>Saudi Arabia</td>\n",
       "      <td>-2793.987043</td>\n",
       "      <td>1096.729473</td>\n",
       "      <td>1320.850753</td>\n",
       "      <td>709.525235</td>\n",
       "      <td>119</td>\n",
       "    </tr>\n",
       "    <tr>\n",
       "      <th>21</th>\n",
       "      <td>Morocco</td>\n",
       "      <td>-873.107200</td>\n",
       "      <td>343.967104</td>\n",
       "      <td>-67.112844</td>\n",
       "      <td>346.860829</td>\n",
       "      <td>95</td>\n",
       "    </tr>\n",
       "    <tr>\n",
       "      <th>22</th>\n",
       "      <td>Egypt</td>\n",
       "      <td>-1884.763067</td>\n",
       "      <td>728.141347</td>\n",
       "      <td>646.110100</td>\n",
       "      <td>625.264700</td>\n",
       "      <td>77</td>\n",
       "    </tr>\n",
       "    <tr>\n",
       "      <th>23</th>\n",
       "      <td>Australia</td>\n",
       "      <td>-1601.220002</td>\n",
       "      <td>656.648942</td>\n",
       "      <td>2471.034742</td>\n",
       "      <td>-550.070274</td>\n",
       "      <td>41</td>\n",
       "    </tr>\n",
       "    <tr>\n",
       "      <th>24</th>\n",
       "      <td>Myanmar</td>\n",
       "      <td>-757.635119</td>\n",
       "      <td>301.341722</td>\n",
       "      <td>769.287933</td>\n",
       "      <td>134.373703</td>\n",
       "      <td>33</td>\n",
       "    </tr>\n",
       "    <tr>\n",
       "      <th>25</th>\n",
       "      <td>South Africa</td>\n",
       "      <td>-1198.469746</td>\n",
       "      <td>442.061326</td>\n",
       "      <td>278.237454</td>\n",
       "      <td>-348.718450</td>\n",
       "      <td>20</td>\n",
       "    </tr>\n",
       "    <tr>\n",
       "      <th>26</th>\n",
       "      <td>Bahrain</td>\n",
       "      <td>-416.075440</td>\n",
       "      <td>127.391258</td>\n",
       "      <td>202.215426</td>\n",
       "      <td>104.934622</td>\n",
       "      <td>17</td>\n",
       "    </tr>\n",
       "    <tr>\n",
       "      <th>27</th>\n",
       "      <td>Tunisia</td>\n",
       "      <td>-76.292925</td>\n",
       "      <td>36.846292</td>\n",
       "      <td>9.400138</td>\n",
       "      <td>33.843941</td>\n",
       "      <td>17</td>\n",
       "    </tr>\n",
       "    <tr>\n",
       "      <th>28</th>\n",
       "      <td>Kenya</td>\n",
       "      <td>-314.561969</td>\n",
       "      <td>122.102939</td>\n",
       "      <td>119.001507</td>\n",
       "      <td>-12.151560</td>\n",
       "      <td>15</td>\n",
       "    </tr>\n",
       "    <tr>\n",
       "      <th>29</th>\n",
       "      <td>Panama</td>\n",
       "      <td>-95.367697</td>\n",
       "      <td>29.758938</td>\n",
       "      <td>-79.897408</td>\n",
       "      <td>9.355301</td>\n",
       "      <td>10</td>\n",
       "    </tr>\n",
       "    <tr>\n",
       "      <th>30</th>\n",
       "      <td>Portugal</td>\n",
       "      <td>-314.496598</td>\n",
       "      <td>144.730126</td>\n",
       "      <td>-35.225068</td>\n",
       "      <td>162.267103</td>\n",
       "      <td>7</td>\n",
       "    </tr>\n",
       "    <tr>\n",
       "      <th>31</th>\n",
       "      <td>Qatar</td>\n",
       "      <td>-203.531051</td>\n",
       "      <td>79.330506</td>\n",
       "      <td>103.084732</td>\n",
       "      <td>49.994659</td>\n",
       "      <td>6</td>\n",
       "    </tr>\n",
       "    <tr>\n",
       "      <th>32</th>\n",
       "      <td>Kuwait</td>\n",
       "      <td>-268.490544</td>\n",
       "      <td>111.328037</td>\n",
       "      <td>142.493843</td>\n",
       "      <td>87.820189</td>\n",
       "      <td>4</td>\n",
       "    </tr>\n",
       "    <tr>\n",
       "      <th>33</th>\n",
       "      <td>Lebanon</td>\n",
       "      <td>-74.006015</td>\n",
       "      <td>40.712728</td>\n",
       "      <td>35.478430</td>\n",
       "      <td>33.895920</td>\n",
       "      <td>2</td>\n",
       "    </tr>\n",
       "    <tr>\n",
       "      <th>34</th>\n",
       "      <td>Colombia</td>\n",
       "      <td>-95.367697</td>\n",
       "      <td>29.758938</td>\n",
       "      <td>-74.801309</td>\n",
       "      <td>10.979967</td>\n",
       "      <td>2</td>\n",
       "    </tr>\n",
       "    <tr>\n",
       "      <th>35</th>\n",
       "      <td>Israel</td>\n",
       "      <td>-74.006015</td>\n",
       "      <td>40.712728</td>\n",
       "      <td>34.652992</td>\n",
       "      <td>31.797731</td>\n",
       "      <td>1</td>\n",
       "    </tr>\n",
       "    <tr>\n",
       "      <th>36</th>\n",
       "      <td>Canada</td>\n",
       "      <td>120.378137</td>\n",
       "      <td>36.063803</td>\n",
       "      <td>-130.325490</td>\n",
       "      <td>54.312657</td>\n",
       "      <td>1</td>\n",
       "    </tr>\n",
       "  </tbody>\n",
       "</table>\n",
       "</div>"
      ],
      "text/plain": [
       "   PortOfLoading_Country  FinalDeliveryPort_Longitude  \\\n",
       "0                  China               -268929.009159   \n",
       "1                  Korea                -72065.606600   \n",
       "2                Vietnam                -48552.031179   \n",
       "3              Indonesia                -24460.832828   \n",
       "4                  Japan                -44601.891560   \n",
       "5                 Taiwan                -33575.460625   \n",
       "6             Bangladesh                 -6345.265395   \n",
       "7                  India                -29985.338525   \n",
       "8               Thailand                -21356.864994   \n",
       "9               Malaysia                -24812.284848   \n",
       "10                 Italy                -22053.036066   \n",
       "11                 Spain                -15156.350768   \n",
       "12             Singapore                 -6680.728445   \n",
       "13            Philipines                 -8682.777682   \n",
       "14              Cambodia                 -2635.526040   \n",
       "15              Pakistan                 -2289.021366   \n",
       "16                   UAE                 -4084.788740   \n",
       "17                France                 -5069.176136   \n",
       "18             Sri Lanka                 -3579.430377   \n",
       "19                  Oman                 -2125.399310   \n",
       "20          Saudi Arabia                 -2793.987043   \n",
       "21               Morocco                  -873.107200   \n",
       "22                 Egypt                 -1884.763067   \n",
       "23             Australia                 -1601.220002   \n",
       "24               Myanmar                  -757.635119   \n",
       "25          South Africa                 -1198.469746   \n",
       "26               Bahrain                  -416.075440   \n",
       "27               Tunisia                   -76.292925   \n",
       "28                 Kenya                  -314.561969   \n",
       "29                Panama                   -95.367697   \n",
       "30              Portugal                  -314.496598   \n",
       "31                 Qatar                  -203.531051   \n",
       "32                Kuwait                  -268.490544   \n",
       "33               Lebanon                   -74.006015   \n",
       "34              Colombia                   -95.367697   \n",
       "35                Israel                   -74.006015   \n",
       "36                Canada                   120.378137   \n",
       "\n",
       "    FinalDeliveryPort_Latitude  PortOfLoading_Longitude  \\\n",
       "0                108027.537516            331364.078655   \n",
       "1                 29760.802185             99817.123424   \n",
       "2                 19350.946884             54291.264172   \n",
       "3                  9919.746592             28331.598128   \n",
       "4                 18107.547624             15687.716295   \n",
       "5                 13373.871379             42577.547082   \n",
       "6                  2608.796001              6214.209316   \n",
       "7                 11583.903811             23468.651003   \n",
       "8                  8592.813220             22730.019306   \n",
       "9                  9806.046719             26520.146398   \n",
       "10                 9691.620517              2338.181772   \n",
       "11                 6461.725843             10628.222302   \n",
       "12                 2572.767845              7059.725946   \n",
       "13                 3298.752804             10760.918133   \n",
       "14                  989.848193              2698.020681   \n",
       "15                  889.430552              1541.493035   \n",
       "16                 1668.218164              2424.701769   \n",
       "17                 2238.510168               286.844510   \n",
       "18                 1272.127825              2715.030774   \n",
       "19                  837.209842              1248.334485   \n",
       "20                 1096.729473              1320.850753   \n",
       "21                  343.967104               -67.112844   \n",
       "22                  728.141347               646.110100   \n",
       "23                  656.648942              2471.034742   \n",
       "24                  301.341722               769.287933   \n",
       "25                  442.061326               278.237454   \n",
       "26                  127.391258               202.215426   \n",
       "27                   36.846292                 9.400138   \n",
       "28                  122.102939               119.001507   \n",
       "29                   29.758938               -79.897408   \n",
       "30                  144.730126               -35.225068   \n",
       "31                   79.330506               103.084732   \n",
       "32                  111.328037               142.493843   \n",
       "33                   40.712728                35.478430   \n",
       "34                   29.758938               -74.801309   \n",
       "35                   40.712728                34.652992   \n",
       "36                   36.063803              -130.325490   \n",
       "\n",
       "    PortOfLoading_Latitude  Num_Shipments  \n",
       "0             82907.371154         221525  \n",
       "1             27239.786798          39470  \n",
       "2              6282.557573          25375  \n",
       "3             -1481.714079          16705  \n",
       "4             19482.765839          15380  \n",
       "5              8370.457411          11547  \n",
       "6              1557.518110           9963  \n",
       "7              5673.855565           9064  \n",
       "8              2822.130714           8180  \n",
       "9               857.497409           4422  \n",
       "10            10966.113063           3758  \n",
       "11             4423.378085           2861  \n",
       "12               92.283276           1936  \n",
       "13             1074.687481           1910  \n",
       "14              281.628095           1553  \n",
       "15              571.859486            841  \n",
       "16             1100.691444            776  \n",
       "17             2519.408141            705  \n",
       "18              235.789895            306  \n",
       "19              535.580269            300  \n",
       "20              709.525235            119  \n",
       "21              346.860829             95  \n",
       "22              625.264700             77  \n",
       "23             -550.070274             41  \n",
       "24              134.373703             33  \n",
       "25             -348.718450             20  \n",
       "26              104.934622             17  \n",
       "27               33.843941             17  \n",
       "28              -12.151560             15  \n",
       "29                9.355301             10  \n",
       "30              162.267103              7  \n",
       "31               49.994659              6  \n",
       "32               87.820189              4  \n",
       "33               33.895920              2  \n",
       "34               10.979967              2  \n",
       "35               31.797731              1  \n",
       "36               54.312657              1  "
      ]
     },
     "execution_count": 138,
     "metadata": {},
     "output_type": "execute_result"
    }
   ],
   "source": [
    "shipments_by_country = overseas_cnt_df[overseas_cnt_df['PortOfLoading_Country']!='.'].groupby('PortOfLoading_Country').sum('Num_Shipments').sort_values(by='Num_Shipments', ascending=False).reset_index()\n",
    "shipments_by_country"
   ]
  },
  {
   "cell_type": "code",
   "execution_count": 135,
   "id": "utility-timber",
   "metadata": {},
   "outputs": [
    {
     "data": {
      "text/html": [
       "<div>\n",
       "<style scoped>\n",
       "    .dataframe tbody tr th:only-of-type {\n",
       "        vertical-align: middle;\n",
       "    }\n",
       "\n",
       "    .dataframe tbody tr th {\n",
       "        vertical-align: top;\n",
       "    }\n",
       "\n",
       "    .dataframe thead th {\n",
       "        text-align: right;\n",
       "    }\n",
       "</style>\n",
       "<table border=\"1\" class=\"dataframe\">\n",
       "  <thead>\n",
       "    <tr style=\"text-align: right;\">\n",
       "      <th></th>\n",
       "      <th>PortOfLoading_Country</th>\n",
       "      <th>FinalDeliveryPort</th>\n",
       "    </tr>\n",
       "  </thead>\n",
       "  <tbody>\n",
       "    <tr>\n",
       "      <th>0</th>\n",
       "      <td>China</td>\n",
       "      <td>2836</td>\n",
       "    </tr>\n",
       "    <tr>\n",
       "      <th>1</th>\n",
       "      <td>Korea</td>\n",
       "      <td>776</td>\n",
       "    </tr>\n",
       "    <tr>\n",
       "      <th>2</th>\n",
       "      <td>Vietnam</td>\n",
       "      <td>508</td>\n",
       "    </tr>\n",
       "    <tr>\n",
       "      <th>3</th>\n",
       "      <td>Japan</td>\n",
       "      <td>477</td>\n",
       "    </tr>\n",
       "    <tr>\n",
       "      <th>4</th>\n",
       "      <td>Taiwan</td>\n",
       "      <td>352</td>\n",
       "    </tr>\n",
       "    <tr>\n",
       "      <th>5</th>\n",
       "      <td>India</td>\n",
       "      <td>305</td>\n",
       "    </tr>\n",
       "    <tr>\n",
       "      <th>6</th>\n",
       "      <td>Malaysia</td>\n",
       "      <td>260</td>\n",
       "    </tr>\n",
       "    <tr>\n",
       "      <th>7</th>\n",
       "      <td>Indonesia</td>\n",
       "      <td>258</td>\n",
       "    </tr>\n",
       "    <tr>\n",
       "      <th>8</th>\n",
       "      <td>Italy</td>\n",
       "      <td>248</td>\n",
       "    </tr>\n",
       "    <tr>\n",
       "      <th>9</th>\n",
       "      <td>Thailand</td>\n",
       "      <td>226</td>\n",
       "    </tr>\n",
       "    <tr>\n",
       "      <th>10</th>\n",
       "      <td>Spain</td>\n",
       "      <td>167</td>\n",
       "    </tr>\n",
       "    <tr>\n",
       "      <th>11</th>\n",
       "      <td>Philipines</td>\n",
       "      <td>88</td>\n",
       "    </tr>\n",
       "    <tr>\n",
       "      <th>12</th>\n",
       "      <td>Bangladesh</td>\n",
       "      <td>68</td>\n",
       "    </tr>\n",
       "    <tr>\n",
       "      <th>13</th>\n",
       "      <td>Singapore</td>\n",
       "      <td>68</td>\n",
       "    </tr>\n",
       "    <tr>\n",
       "      <th>14</th>\n",
       "      <td>France</td>\n",
       "      <td>58</td>\n",
       "    </tr>\n",
       "    <tr>\n",
       "      <th>15</th>\n",
       "      <td>UAE</td>\n",
       "      <td>44</td>\n",
       "    </tr>\n",
       "    <tr>\n",
       "      <th>16</th>\n",
       "      <td>Sri Lanka</td>\n",
       "      <td>34</td>\n",
       "    </tr>\n",
       "    <tr>\n",
       "      <th>17</th>\n",
       "      <td>Saudi Arabia</td>\n",
       "      <td>29</td>\n",
       "    </tr>\n",
       "    <tr>\n",
       "      <th>18</th>\n",
       "      <td>Cambodia</td>\n",
       "      <td>26</td>\n",
       "    </tr>\n",
       "    <tr>\n",
       "      <th>19</th>\n",
       "      <td>Pakistan</td>\n",
       "      <td>23</td>\n",
       "    </tr>\n",
       "    <tr>\n",
       "      <th>20</th>\n",
       "      <td>Oman</td>\n",
       "      <td>22</td>\n",
       "    </tr>\n",
       "    <tr>\n",
       "      <th>21</th>\n",
       "      <td>Egypt</td>\n",
       "      <td>20</td>\n",
       "    </tr>\n",
       "    <tr>\n",
       "      <th>22</th>\n",
       "      <td>Australia</td>\n",
       "      <td>17</td>\n",
       "    </tr>\n",
       "    <tr>\n",
       "      <th>23</th>\n",
       "      <td>South Africa</td>\n",
       "      <td>11</td>\n",
       "    </tr>\n",
       "    <tr>\n",
       "      <th>24</th>\n",
       "      <td>Morocco</td>\n",
       "      <td>10</td>\n",
       "    </tr>\n",
       "    <tr>\n",
       "      <th>25</th>\n",
       "      <td>Myanmar</td>\n",
       "      <td>8</td>\n",
       "    </tr>\n",
       "    <tr>\n",
       "      <th>26</th>\n",
       "      <td>Portugal</td>\n",
       "      <td>4</td>\n",
       "    </tr>\n",
       "    <tr>\n",
       "      <th>27</th>\n",
       "      <td>Bahrain</td>\n",
       "      <td>4</td>\n",
       "    </tr>\n",
       "    <tr>\n",
       "      <th>28</th>\n",
       "      <td>Kuwait</td>\n",
       "      <td>3</td>\n",
       "    </tr>\n",
       "    <tr>\n",
       "      <th>29</th>\n",
       "      <td>Kenya</td>\n",
       "      <td>3</td>\n",
       "    </tr>\n",
       "    <tr>\n",
       "      <th>30</th>\n",
       "      <td>Qatar</td>\n",
       "      <td>2</td>\n",
       "    </tr>\n",
       "    <tr>\n",
       "      <th>31</th>\n",
       "      <td>Panama</td>\n",
       "      <td>1</td>\n",
       "    </tr>\n",
       "    <tr>\n",
       "      <th>32</th>\n",
       "      <td>Lebanon</td>\n",
       "      <td>1</td>\n",
       "    </tr>\n",
       "    <tr>\n",
       "      <th>33</th>\n",
       "      <td>Canada</td>\n",
       "      <td>1</td>\n",
       "    </tr>\n",
       "    <tr>\n",
       "      <th>34</th>\n",
       "      <td>Israel</td>\n",
       "      <td>1</td>\n",
       "    </tr>\n",
       "    <tr>\n",
       "      <th>35</th>\n",
       "      <td>Tunisia</td>\n",
       "      <td>1</td>\n",
       "    </tr>\n",
       "    <tr>\n",
       "      <th>36</th>\n",
       "      <td>Colombia</td>\n",
       "      <td>1</td>\n",
       "    </tr>\n",
       "  </tbody>\n",
       "</table>\n",
       "</div>"
      ],
      "text/plain": [
       "   PortOfLoading_Country  FinalDeliveryPort\n",
       "0                  China               2836\n",
       "1                  Korea                776\n",
       "2                Vietnam                508\n",
       "3                  Japan                477\n",
       "4                 Taiwan                352\n",
       "5                  India                305\n",
       "6               Malaysia                260\n",
       "7              Indonesia                258\n",
       "8                  Italy                248\n",
       "9               Thailand                226\n",
       "10                 Spain                167\n",
       "11            Philipines                 88\n",
       "12            Bangladesh                 68\n",
       "13             Singapore                 68\n",
       "14                France                 58\n",
       "15                   UAE                 44\n",
       "16             Sri Lanka                 34\n",
       "17          Saudi Arabia                 29\n",
       "18              Cambodia                 26\n",
       "19              Pakistan                 23\n",
       "20                  Oman                 22\n",
       "21                 Egypt                 20\n",
       "22             Australia                 17\n",
       "23          South Africa                 11\n",
       "24               Morocco                 10\n",
       "25               Myanmar                  8\n",
       "26              Portugal                  4\n",
       "27               Bahrain                  4\n",
       "28                Kuwait                  3\n",
       "29                 Kenya                  3\n",
       "30                 Qatar                  2\n",
       "31                Panama                  1\n",
       "32               Lebanon                  1\n",
       "33                Canada                  1\n",
       "34                Israel                  1\n",
       "35               Tunisia                  1\n",
       "36              Colombia                  1"
      ]
     },
     "execution_count": 135,
     "metadata": {},
     "output_type": "execute_result"
    }
   ],
   "source": [
    "num_ports_by_country = overseas_cnt_df[overseas_cnt_df['PortOfLoading_Country']!='.'].groupby('PortOfLoading_Country').count()[['FinalDeliveryPort']].sort_values(by='FinalDeliveryPort', ascending=False).reset_index()\n",
    "num_ports_by_country"
   ]
  },
  {
   "cell_type": "code",
   "execution_count": 136,
   "id": "acoustic-granny",
   "metadata": {},
   "outputs": [
    {
     "data": {
      "image/png": "[encoded data removed]",
      "text/plain": [
       "<Figure size 864x432 with 1 Axes>"
      ]
     },
     "metadata": {
      "needs_background": "light"
     },
     "output_type": "display_data"
    }
   ],
   "source": [
    "# plot histogram \n",
    "plt.figure(figsize=(12, 6))\n",
    "plt.xticks(rotation=45)\n",
    "\n",
    "ax = sns.barplot(x='PortOfLoading_Country', y='FinalDeliveryPort',data=num_ports_by_country.head(10))\n",
    "plt.xticks(rotation=45)\n",
    "\n",
    "# label each bar in histogram\n",
    "for p in ax.patches:\n",
    "    height = p.get_height() # get the height of each bar\n",
    "    # adding text to each bar\n",
    "    ax.text(x = p.get_x()+(p.get_width()/2), # x-coordinate position of data label, padded to be in the middle of the bar\n",
    "    y = height+1, # y-coordinate position of data label, padded 0.2 above bar\n",
    "    s = '{:.0f}'.format(height), # data label, formatted to ignore decimals\n",
    "    ha = 'center') # sets horizontal alignment (ha) to center"
   ]
  },
  {
   "cell_type": "code",
   "execution_count": 137,
   "id": "retained-niagara",
   "metadata": {},
   "outputs": [
    {
     "data": {
      "image/png": "[encoded data removed]",
      "text/plain": [
       "<Figure size 864x432 with 1 Axes>"
      ]
     },
     "metadata": {
      "needs_background": "light"
     },
     "output_type": "display_data"
    }
   ],
   "source": [
    "# plot histogram \n",
    "plt.figure(figsize=(12, 6))\n",
    "plt.xticks(rotation=45)\n",
    "\n",
    "\n",
    "ax = sns.barplot(x='PortOfLoading_Country', y='Num_Shipments',data=shipments_by_country.head(10))\n",
    "\n",
    "\n",
    "# label each bar in histogram\n",
    "for p in ax.patches:\n",
    "    height = p.get_height() # get the height of each bar\n",
    "    # adding text to each bar\n",
    "    ax.text(x = p.get_x()+(p.get_width()/2), # x-coordinate position of data label, padded to be in the middle of the bar\n",
    "    y = height+1, # y-coordinate position of data label, padded 0.2 above bar\n",
    "    s = '{:.0f}'.format(height), # data label, formatted to ignore decimals\n",
    "    ha = 'center') # sets horizontal alignment (ha) to center\n",
    "    \n",
    "plt.show()"
   ]
  },
  {
   "cell_type": "code",
   "execution_count": null,
   "id": "insured-adelaide",
   "metadata": {},
   "outputs": [],
   "source": []
  }
 ],
 "metadata": {
  "kernelspec": {
   "display_name": "Python 3",
   "language": "python",
   "name": "python3"
  },
  "language_info": {
   "codemirror_mode": {
    "name": "ipython",
    "version": 3
   },
   "file_extension": ".py",
   "mimetype": "text/x-python",
   "name": "python",
   "nbconvert_exporter": "python",
   "pygments_lexer": "ipython3",
   "version": "3.8.5"
  }
 },
 "nbformat": 4,
 "nbformat_minor": 5
}
