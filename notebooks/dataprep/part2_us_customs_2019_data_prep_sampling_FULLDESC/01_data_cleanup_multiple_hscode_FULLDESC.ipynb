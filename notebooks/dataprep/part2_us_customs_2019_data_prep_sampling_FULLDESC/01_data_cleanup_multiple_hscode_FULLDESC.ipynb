{
 "cells": [
  {
   "cell_type": "code",
   "execution_count": 1,
   "id": "occupied-constitution",
   "metadata": {},
   "outputs": [],
   "source": [
    "import numpy as np\n",
    "import pandas as pd\n",
    "import dask.dataframe as dd\n",
    "import matplotlib.pyplot as plt\n",
    "import os\n",
    "import time"
   ]
  },
  {
   "cell_type": "markdown",
   "id": "perceived-throat",
   "metadata": {},
   "source": [
    "### Load Official HS Code Dictionary "
   ]
  },
  {
   "cell_type": "code",
   "execution_count": 2,
   "id": "identified-funds",
   "metadata": {},
   "outputs": [
    {
     "name": "stdout",
     "output_type": "stream",
     "text": [
      "  HS_Code                                 Merged_Description\n",
      "0  010121  Live horses, asses, mules and hinnies ;Horses ...\n",
      "1  010129  Live horses, asses, mules and hinnies ;Horses ...\n",
      "2  010130       Live horses, asses, mules and hinnies ;Asses\n",
      "3  010190  Live horses, asses, mules and hinnies ;Other ;...\n",
      "4  010221  Live bovine animals ;Cattle ;Purebred breeding...\n"
     ]
    }
   ],
   "source": [
    "#load hscode dictionary - 6 digit rolled up\n",
    "hs_code = pd.read_csv('/data/common/trade_data/HS/hs_code_2019_final.csv', dtype='str')\n",
    "print(hs_code.head())"
   ]
  },
  {
   "cell_type": "markdown",
   "id": "atomic-anxiety",
   "metadata": {},
   "source": [
    "### Functions"
   ]
  },
  {
   "cell_type": "code",
   "execution_count": 3,
   "id": "declared-metadata",
   "metadata": {},
   "outputs": [],
   "source": [
    "def explode_multiple_hscode(df_to_explode, colname_to_explode='HS Code'):\n",
    "    #Cleanup whitespace around hs code\n",
    "    df_to_explode[colname_to_explode] = [x if x is None else str.replace(x, ' ', '') for x in df_to_explode[colname_to_explode]]\n",
    "    \n",
    "    new_col_list = list(df_to_explode.columns)\n",
    "    \n",
    "    new_col_list.remove(colname_to_explode)\n",
    "    \n",
    "    #Explode by column name specified\n",
    "    tempdf = (df_to_explode.set_index(new_col_list).apply(lambda x: x.str.split(',').explode()).reset_index())  \n",
    "    \n",
    "    #How many extra rows were added\n",
    "    print(\"Additional rows added: {}\".format(len(tempdf)-len(df_to_explode)))\n",
    "    \n",
    "    return tempdf"
   ]
  },
  {
   "cell_type": "code",
   "execution_count": 4,
   "id": "smoking-cycle",
   "metadata": {},
   "outputs": [],
   "source": [
    "def join_to_hs_code(df_to_join, hscode_list, leftcol = 'HS Code', rightcol = 'HS_Code'):\n",
    "    #Join all 2019 data with official rolled up HS code list \n",
    "    tempdf = df_to_join.merge(hscode_list, how='left', left_on=leftcol, right_on=rightcol)\n",
    "    print(\"Number of not null hscodes: {}\", len(tempdf) - len(tempdf[tempdf[rightcol].isna()]))\n",
    "    print(\"Number of null hscodes: {}\", len(tempdf[tempdf[rightcol].isna()]))\n",
    "    return tempdf"
   ]
  },
  {
   "cell_type": "markdown",
   "id": "independent-appreciation",
   "metadata": {},
   "source": [
    "### Data cleanup for Jan-Dec 2019 Full Desc data"
   ]
  },
  {
   "cell_type": "code",
   "execution_count": 5,
   "id": "separated-heavy",
   "metadata": {},
   "outputs": [],
   "source": [
    "#Initialize final dataframes\n",
    "df_2019_notnull_FULLDESC = None\n",
    "df_2019_null_FULLDESC = None"
   ]
  },
  {
   "cell_type": "code",
   "execution_count": 6,
   "id": "collected-monday",
   "metadata": {},
   "outputs": [
    {
     "name": "stdout",
     "output_type": "stream",
     "text": [
      "US_Imp_Jun_2019_FULL.parq\n",
      "Additional rows added: 3809\n",
      "Number of not null hscodes: {} 916918\n",
      "Number of null hscodes: {} 117000\n",
      "US_Imp_Jul_2019_FULL.parq\n",
      "Additional rows added: 4533\n",
      "Number of not null hscodes: {} 1014261\n",
      "Number of null hscodes: {} 133855\n",
      "US_Imp_Mar_2019_FULL.parq\n",
      "Additional rows added: 3206\n",
      "Number of not null hscodes: {} 830749\n",
      "Number of null hscodes: {} 102858\n",
      "US_Imp_Nov_2019_FULL.parq\n",
      "Additional rows added: 3948\n",
      "Number of not null hscodes: {} 872883\n",
      "Number of null hscodes: {} 112448\n",
      "US_Imp_Sep_2019_FULL.parq\n",
      "Additional rows added: 4248\n",
      "Number of not null hscodes: {} 934609\n",
      "Number of null hscodes: {} 125099\n",
      "US_Imp_May_2019_FULL.parq\n",
      "Additional rows added: 3873\n",
      "Number of not null hscodes: {} 980669\n",
      "Number of null hscodes: {} 124532\n",
      "US_Imp_Feb_2019_FULL.parq\n",
      "Additional rows added: 3560\n",
      "Number of not null hscodes: {} 835353\n",
      "Number of null hscodes: {} 109291\n",
      "US_Imp_Jan_2019_FULL.parq\n",
      "Additional rows added: 3886\n",
      "Number of not null hscodes: {} 962926\n",
      "Number of null hscodes: {} 126949\n",
      "US_Imp_Apr_2019_FULL.parq\n",
      "Additional rows added: 3505\n",
      "Number of not null hscodes: {} 907238\n",
      "Number of null hscodes: {} 113435\n",
      "US_Imp_Dec_2019_FULL.parq\n",
      "Additional rows added: 3689\n",
      "Number of not null hscodes: {} 878170\n",
      "Number of null hscodes: {} 111182\n",
      "US_Imp_Aug_2019_FULL.parq\n",
      "Additional rows added: 4371\n",
      "Number of not null hscodes: {} 988178\n",
      "Number of null hscodes: {} 131536\n",
      "US_Imp_Oct_2019_FULL.parq\n",
      "Additional rows added: 4193\n",
      "Number of not null hscodes: {} 944219\n",
      "Number of null hscodes: {} 123821\n"
     ]
    }
   ],
   "source": [
    "basePath = '/data/common/trade_data/2019_updated/us_customs_2019_raw_data_FULLDESC/'\n",
    "\n",
    "for filename in os.listdir(basePath):\n",
    "    print(filename)\n",
    "    #Load data\n",
    "    import_df = pd.read_parquet(basePath + filename)#, engine='fastparquet')\n",
    "    \n",
    "    #Explode HS Code\n",
    "    import_df_exploded = explode_multiple_hscode(import_df, 'HS Code')\n",
    "    \n",
    "    #Join to official HS Code List\n",
    "    import_df_exploded_joinedHSCode = join_to_hs_code(import_df_exploded, hs_code)\n",
    "    \n",
    "    #Update null and not-null df\n",
    "    if df_2019_null_FULLDESC is None:\n",
    "        df_2019_null_FULLDESC = import_df_exploded_joinedHSCode[import_df_exploded_joinedHSCode['HS_Code'].isna()]\n",
    "    else:\n",
    "        df_2019_null_FULLDESC = pd.concat([df_2019_null_FULLDESC, import_df_exploded_joinedHSCode[import_df_exploded_joinedHSCode['HS_Code'].isna()]], axis=0)\n",
    "\n",
    "    if df_2019_notnull_FULLDESC is None:\n",
    "        df_2019_notnull_FULLDESC =  import_df_exploded_joinedHSCode.dropna(subset=['HS_Code'])\n",
    "    else:\n",
    "        df_2019_notnull_FULLDESC = pd.concat([df_2019_notnull_FULLDESC, import_df_exploded_joinedHSCode.dropna(subset=['HS_Code'])], axis=0)"
   ]
  },
  {
   "cell_type": "markdown",
   "id": "distributed-accident",
   "metadata": {},
   "source": [
    "```\n",
    "US_Imp_Jun_2019_FULL.parq\n",
    "Additional rows added: 3809\n",
    "Number of not null hscodes: {} 916918\n",
    "Number of null hscodes: {} 117000\n",
    "US_Imp_Jul_2019_FULL.parq\n",
    "Additional rows added: 4533\n",
    "Number of not null hscodes: {} 1014261\n",
    "Number of null hscodes: {} 133855\n",
    "US_Imp_Mar_2019_FULL.parq\n",
    "Additional rows added: 3206\n",
    "Number of not null hscodes: {} 830749\n",
    "Number of null hscodes: {} 102858\n",
    "US_Imp_Nov_2019_FULL.parq\n",
    "Additional rows added: 3948\n",
    "Number of not null hscodes: {} 872883\n",
    "Number of null hscodes: {} 112448\n",
    "US_Imp_Sep_2019_FULL.parq\n",
    "Additional rows added: 4248\n",
    "Number of not null hscodes: {} 934609\n",
    "Number of null hscodes: {} 125099\n",
    "US_Imp_May_2019_FULL.parq\n",
    "Additional rows added: 3873\n",
    "Number of not null hscodes: {} 980669\n",
    "Number of null hscodes: {} 124532\n",
    "US_Imp_Feb_2019_FULL.parq\n",
    "Additional rows added: 3560\n",
    "Number of not null hscodes: {} 835353\n",
    "Number of null hscodes: {} 109291\n",
    "US_Imp_Jan_2019_FULL.parq\n",
    "Additional rows added: 3886\n",
    "Number of not null hscodes: {} 962926\n",
    "Number of null hscodes: {} 126949\n",
    "US_Imp_Apr_2019_FULL.parq\n",
    "Additional rows added: 3505\n",
    "Number of not null hscodes: {} 907238\n",
    "Number of null hscodes: {} 113435\n",
    "US_Imp_Dec_2019_FULL.parq\n",
    "Additional rows added: 3689\n",
    "Number of not null hscodes: {} 878170\n",
    "Number of null hscodes: {} 111182\n",
    "US_Imp_Aug_2019_FULL.parq\n",
    "Additional rows added: 4371\n",
    "Number of not null hscodes: {} 988178\n",
    "Number of null hscodes: {} 131536\n",
    "US_Imp_Oct_2019_FULL.parq\n",
    "Additional rows added: 4193\n",
    "Number of not null hscodes: {} 944219\n",
    "Number of null hscodes: {} 123821\n",
    "```"
   ]
  },
  {
   "cell_type": "code",
   "execution_count": 7,
   "id": "loaded-oxygen",
   "metadata": {},
   "outputs": [
    {
     "name": "stdout",
     "output_type": "stream",
     "text": [
      "11066173\n",
      "1432006\n"
     ]
    }
   ],
   "source": [
    "print(len(df_2019_notnull_FULLDESC))\n",
    "print(len(df_2019_null_FULLDESC))"
   ]
  },
  {
   "cell_type": "markdown",
   "id": "sexual-horizontal",
   "metadata": {},
   "source": [
    "```\n",
    "11066173\n",
    "1432006\n",
    "\n",
    "```"
   ]
  },
  {
   "cell_type": "code",
   "execution_count": 9,
   "id": "prospective-approach",
   "metadata": {},
   "outputs": [],
   "source": [
    "#Save to parquet\n",
    "#df_2019_null_FULLDESC.to_parquet('/data/common/trade_data/2019_updated/us_customs_2019_cleaned_joined_data_FULLDESC/us_customs_2019_FULLDESC_null_hscode.parq')"
   ]
  },
  {
   "cell_type": "code",
   "execution_count": 10,
   "id": "advance-sussex",
   "metadata": {},
   "outputs": [],
   "source": [
    "#Save to parquet\n",
    "#df_2019_notnull_FULLDESC.to_parquet('/data/common/trade_data/2019_updated/us_customs_2019_cleaned_joined_data_FULLDESC/us_customs_2019_FULLDESC_not_null.parq')"
   ]
  },
  {
   "cell_type": "code",
   "execution_count": null,
   "id": "statistical-matrix",
   "metadata": {},
   "outputs": [],
   "source": []
  }
 ],
 "metadata": {
  "kernelspec": {
   "display_name": "Python 3",
   "language": "python",
   "name": "python3"
  },
  "language_info": {
   "codemirror_mode": {
    "name": "ipython",
    "version": 3
   },
   "file_extension": ".py",
   "mimetype": "text/x-python",
   "name": "python",
   "nbconvert_exporter": "python",
   "pygments_lexer": "ipython3",
   "version": "3.8.5"
  }
 },
 "nbformat": 4,
 "nbformat_minor": 5
}
